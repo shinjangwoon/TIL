{
 "cells": [
  {
   "cell_type": "markdown",
   "metadata": {},
   "source": [
    "# 증액 투자법"
   ]
  },
  {
   "cell_type": "markdown",
   "metadata": {},
   "source": [
    "|레벨|스타일|기대CAGR|매수전략|매도전략|\n",
    "|:--:|:--:|:--:|:--:|:--:|\n",
    "|초급|자산배분|코스피 + 1~2%(20년 투자할 경우)|- 전체 자산을 3년채 국채에 투자<br/><br/>- 국채에서 나오는 투자 수익을 코스피 지수에 투자|없음|"
   ]
  },
  {
   "cell_type": "markdown",
   "metadata": {},
   "source": [
    "# Load Dataset"
   ]
  },
  {
   "cell_type": "markdown",
   "metadata": {},
   "source": [
    "## Import module"
   ]
  },
  {
   "cell_type": "markdown",
   "metadata": {},
   "source": [
    "필요한 모듈을 임포트 해옵니다."
   ]
  },
  {
   "cell_type": "code",
   "execution_count": 1,
   "metadata": {},
   "outputs": [],
   "source": [
    "import pandas as pd\n",
    "import requests\n",
    "from tqdm import tqdm\n",
    "import warnings\n",
    "warnings.filterwarnings('ignore')"
   ]
  },
  {
   "cell_type": "markdown",
   "metadata": {},
   "source": [
    "# Get Daily Prices"
   ]
  },
  {
   "cell_type": "markdown",
   "metadata": {},
   "source": [
    "### GOV_3Y(daily)"
   ]
  },
  {
   "cell_type": "markdown",
   "metadata": {},
   "source": [
    "국채3년물 상품을 네이버 금융에서 크롤링합니다. 크롬의 검사(Inspection) 기능을 사용해 개발자 도구를 열고 크롤링해오려는 데이터 표의 source URL을 먼저 변수로 지정합니다. 크롤링해온 일별 데이터를 ```gov_3``` 에 DataFrame으로 담습니다."
   ]
  },
  {
   "cell_type": "code",
   "execution_count": 2,
   "metadata": {},
   "outputs": [
    {
     "name": "stderr",
     "output_type": "stream",
     "text": [
      "100%|██████████| 99/99 [00:18<00:00,  5.25it/s]\n"
     ]
    },
    {
     "name": "stdout",
     "output_type": "stream",
     "text": [
      "출처 : http://finance.naver.com/item/sise_day.nhn?code=114260\n"
     ]
    },
    {
     "data": {
      "text/html": [
       "<div>\n",
       "<style scoped>\n",
       "    .dataframe tbody tr th:only-of-type {\n",
       "        vertical-align: middle;\n",
       "    }\n",
       "\n",
       "    .dataframe tbody tr th {\n",
       "        vertical-align: top;\n",
       "    }\n",
       "\n",
       "    .dataframe thead th {\n",
       "        text-align: right;\n",
       "    }\n",
       "</style>\n",
       "<table border=\"1\" class=\"dataframe\">\n",
       "  <thead>\n",
       "    <tr style=\"text-align: right;\">\n",
       "      <th></th>\n",
       "      <th>date</th>\n",
       "      <th>close</th>\n",
       "      <th>over the day</th>\n",
       "      <th>start</th>\n",
       "      <th>high</th>\n",
       "      <th>low</th>\n",
       "      <th>volume</th>\n",
       "    </tr>\n",
       "  </thead>\n",
       "  <tbody>\n",
       "    <tr>\n",
       "      <th>1</th>\n",
       "      <td>2021-07-09</td>\n",
       "      <td>58015.0</td>\n",
       "      <td>25.0</td>\n",
       "      <td>58015.0</td>\n",
       "      <td>58055.0</td>\n",
       "      <td>57975.0</td>\n",
       "      <td>1069.0</td>\n",
       "    </tr>\n",
       "    <tr>\n",
       "      <th>2</th>\n",
       "      <td>2021-07-08</td>\n",
       "      <td>57990.0</td>\n",
       "      <td>70.0</td>\n",
       "      <td>57960.0</td>\n",
       "      <td>58015.0</td>\n",
       "      <td>57930.0</td>\n",
       "      <td>3646.0</td>\n",
       "    </tr>\n",
       "    <tr>\n",
       "      <th>3</th>\n",
       "      <td>2021-07-07</td>\n",
       "      <td>57920.0</td>\n",
       "      <td>55.0</td>\n",
       "      <td>57865.0</td>\n",
       "      <td>57920.0</td>\n",
       "      <td>57865.0</td>\n",
       "      <td>1406.0</td>\n",
       "    </tr>\n",
       "    <tr>\n",
       "      <th>4</th>\n",
       "      <td>2021-07-06</td>\n",
       "      <td>57865.0</td>\n",
       "      <td>20.0</td>\n",
       "      <td>57890.0</td>\n",
       "      <td>57890.0</td>\n",
       "      <td>57830.0</td>\n",
       "      <td>3484.0</td>\n",
       "    </tr>\n",
       "    <tr>\n",
       "      <th>5</th>\n",
       "      <td>2021-07-05</td>\n",
       "      <td>57885.0</td>\n",
       "      <td>95.0</td>\n",
       "      <td>57875.0</td>\n",
       "      <td>57895.0</td>\n",
       "      <td>57785.0</td>\n",
       "      <td>8717.0</td>\n",
       "    </tr>\n",
       "  </tbody>\n",
       "</table>\n",
       "</div>"
      ],
      "text/plain": [
       "        date    close  over the day    start     high      low  volume\n",
       "1 2021-07-09  58015.0          25.0  58015.0  58055.0  57975.0  1069.0\n",
       "2 2021-07-08  57990.0          70.0  57960.0  58015.0  57930.0  3646.0\n",
       "3 2021-07-07  57920.0          55.0  57865.0  57920.0  57865.0  1406.0\n",
       "4 2021-07-06  57865.0          20.0  57890.0  57890.0  57830.0  3484.0\n",
       "5 2021-07-05  57885.0          95.0  57875.0  57895.0  57785.0  8717.0"
      ]
     },
     "execution_count": 2,
     "metadata": {},
     "output_type": "execute_result"
    }
   ],
   "source": [
    "gov_3 = pd.DataFrame()\n",
    "url = 'http://finance.naver.com/item/sise_day.nhn?code=114260'\n",
    "\n",
    "for page in tqdm(range(1, 100)):\n",
    "    pg_url = '{url}&page={page}'.format(url=url, page=page)\n",
    "    pg_url_req = requests.get(pg_url, headers={'User-agent': 'Mozilla/5.0'}).text\n",
    "    gov_3 = gov_3.append(pd.read_html(pg_url_req, header=0)[0], ignore_index=True)\n",
    "    \n",
    "gov_3 = gov_3.dropna()\n",
    "gov_3.columns = ['date', 'close', 'over the day', 'start', 'high', 'low', 'volume']\n",
    "gov_3['date'] = pd.to_datetime(gov_3['date'])\n",
    "\n",
    "print('출처 :', url)\n",
    "gov_3.head()"
   ]
  },
  {
   "cell_type": "code",
   "execution_count": 3,
   "metadata": {},
   "outputs": [
    {
     "data": {
      "text/html": [
       "<div>\n",
       "<style scoped>\n",
       "    .dataframe tbody tr th:only-of-type {\n",
       "        vertical-align: middle;\n",
       "    }\n",
       "\n",
       "    .dataframe tbody tr th {\n",
       "        vertical-align: top;\n",
       "    }\n",
       "\n",
       "    .dataframe thead th {\n",
       "        text-align: right;\n",
       "    }\n",
       "</style>\n",
       "<table border=\"1\" class=\"dataframe\">\n",
       "  <thead>\n",
       "    <tr style=\"text-align: right;\">\n",
       "      <th></th>\n",
       "      <th>date</th>\n",
       "      <th>close</th>\n",
       "      <th>over the day</th>\n",
       "      <th>start</th>\n",
       "      <th>high</th>\n",
       "      <th>low</th>\n",
       "      <th>volume</th>\n",
       "    </tr>\n",
       "  </thead>\n",
       "  <tbody>\n",
       "    <tr>\n",
       "      <th>1479</th>\n",
       "      <td>2017-07-06</td>\n",
       "      <td>55455.0</td>\n",
       "      <td>0.0</td>\n",
       "      <td>55460.0</td>\n",
       "      <td>55465.0</td>\n",
       "      <td>55425.0</td>\n",
       "      <td>1594.0</td>\n",
       "    </tr>\n",
       "    <tr>\n",
       "      <th>1480</th>\n",
       "      <td>2017-07-05</td>\n",
       "      <td>55455.0</td>\n",
       "      <td>20.0</td>\n",
       "      <td>55475.0</td>\n",
       "      <td>55475.0</td>\n",
       "      <td>55435.0</td>\n",
       "      <td>972.0</td>\n",
       "    </tr>\n",
       "    <tr>\n",
       "      <th>1481</th>\n",
       "      <td>2017-07-04</td>\n",
       "      <td>55435.0</td>\n",
       "      <td>65.0</td>\n",
       "      <td>55480.0</td>\n",
       "      <td>55485.0</td>\n",
       "      <td>55435.0</td>\n",
       "      <td>1539.0</td>\n",
       "    </tr>\n",
       "    <tr>\n",
       "      <th>1482</th>\n",
       "      <td>2017-07-03</td>\n",
       "      <td>55500.0</td>\n",
       "      <td>10.0</td>\n",
       "      <td>55725.0</td>\n",
       "      <td>55725.0</td>\n",
       "      <td>55450.0</td>\n",
       "      <td>1730.0</td>\n",
       "    </tr>\n",
       "    <tr>\n",
       "      <th>1483</th>\n",
       "      <td>2017-06-30</td>\n",
       "      <td>55510.0</td>\n",
       "      <td>15.0</td>\n",
       "      <td>55510.0</td>\n",
       "      <td>55530.0</td>\n",
       "      <td>55475.0</td>\n",
       "      <td>1890.0</td>\n",
       "    </tr>\n",
       "  </tbody>\n",
       "</table>\n",
       "</div>"
      ],
      "text/plain": [
       "           date    close  over the day    start     high      low  volume\n",
       "1479 2017-07-06  55455.0           0.0  55460.0  55465.0  55425.0  1594.0\n",
       "1480 2017-07-05  55455.0          20.0  55475.0  55475.0  55435.0   972.0\n",
       "1481 2017-07-04  55435.0          65.0  55480.0  55485.0  55435.0  1539.0\n",
       "1482 2017-07-03  55500.0          10.0  55725.0  55725.0  55450.0  1730.0\n",
       "1483 2017-06-30  55510.0          15.0  55510.0  55530.0  55475.0  1890.0"
      ]
     },
     "execution_count": 3,
     "metadata": {},
     "output_type": "execute_result"
    }
   ],
   "source": [
    "gov_3.tail()"
   ]
  },
  {
   "cell_type": "markdown",
   "metadata": {},
   "source": [
    "### KODEX 200(daily)"
   ]
  },
  {
   "cell_type": "markdown",
   "metadata": {},
   "source": [
    "국채3년물과 마찬가지로 KODEX 200 일별 데이터를 네이버 금융에서 크롤링 해온 후, ```kodex_200``` 변수에 담습니다."
   ]
  },
  {
   "cell_type": "code",
   "execution_count": 4,
   "metadata": {},
   "outputs": [
    {
     "name": "stderr",
     "output_type": "stream",
     "text": [
      "100%|██████████| 99/99 [00:14<00:00,  7.00it/s]"
     ]
    },
    {
     "name": "stdout",
     "output_type": "stream",
     "text": [
      "출처 : http://finance.naver.com/item/sise_day.nhn?code=069500\n"
     ]
    },
    {
     "name": "stderr",
     "output_type": "stream",
     "text": [
      "\n"
     ]
    },
    {
     "data": {
      "text/html": [
       "<div>\n",
       "<style scoped>\n",
       "    .dataframe tbody tr th:only-of-type {\n",
       "        vertical-align: middle;\n",
       "    }\n",
       "\n",
       "    .dataframe tbody tr th {\n",
       "        vertical-align: top;\n",
       "    }\n",
       "\n",
       "    .dataframe thead th {\n",
       "        text-align: right;\n",
       "    }\n",
       "</style>\n",
       "<table border=\"1\" class=\"dataframe\">\n",
       "  <thead>\n",
       "    <tr style=\"text-align: right;\">\n",
       "      <th></th>\n",
       "      <th>date</th>\n",
       "      <th>close</th>\n",
       "      <th>over the day</th>\n",
       "      <th>start</th>\n",
       "      <th>high</th>\n",
       "      <th>low</th>\n",
       "      <th>volume</th>\n",
       "    </tr>\n",
       "  </thead>\n",
       "  <tbody>\n",
       "    <tr>\n",
       "      <th>1</th>\n",
       "      <td>2021-07-09</td>\n",
       "      <td>42800.0</td>\n",
       "      <td>460.0</td>\n",
       "      <td>42840.0</td>\n",
       "      <td>43050.0</td>\n",
       "      <td>42445.0</td>\n",
       "      <td>7531991.0</td>\n",
       "    </tr>\n",
       "    <tr>\n",
       "      <th>2</th>\n",
       "      <td>2021-07-08</td>\n",
       "      <td>43260.0</td>\n",
       "      <td>455.0</td>\n",
       "      <td>43765.0</td>\n",
       "      <td>43875.0</td>\n",
       "      <td>43260.0</td>\n",
       "      <td>5209381.0</td>\n",
       "    </tr>\n",
       "    <tr>\n",
       "      <th>3</th>\n",
       "      <td>2021-07-07</td>\n",
       "      <td>43715.0</td>\n",
       "      <td>275.0</td>\n",
       "      <td>43840.0</td>\n",
       "      <td>43840.0</td>\n",
       "      <td>43605.0</td>\n",
       "      <td>3816728.0</td>\n",
       "    </tr>\n",
       "    <tr>\n",
       "      <th>4</th>\n",
       "      <td>2021-07-06</td>\n",
       "      <td>43990.0</td>\n",
       "      <td>200.0</td>\n",
       "      <td>43910.0</td>\n",
       "      <td>44100.0</td>\n",
       "      <td>43895.0</td>\n",
       "      <td>4009188.0</td>\n",
       "    </tr>\n",
       "    <tr>\n",
       "      <th>5</th>\n",
       "      <td>2021-07-05</td>\n",
       "      <td>43790.0</td>\n",
       "      <td>205.0</td>\n",
       "      <td>43770.0</td>\n",
       "      <td>43910.0</td>\n",
       "      <td>43710.0</td>\n",
       "      <td>2774715.0</td>\n",
       "    </tr>\n",
       "  </tbody>\n",
       "</table>\n",
       "</div>"
      ],
      "text/plain": [
       "        date    close  over the day    start     high      low     volume\n",
       "1 2021-07-09  42800.0         460.0  42840.0  43050.0  42445.0  7531991.0\n",
       "2 2021-07-08  43260.0         455.0  43765.0  43875.0  43260.0  5209381.0\n",
       "3 2021-07-07  43715.0         275.0  43840.0  43840.0  43605.0  3816728.0\n",
       "4 2021-07-06  43990.0         200.0  43910.0  44100.0  43895.0  4009188.0\n",
       "5 2021-07-05  43790.0         205.0  43770.0  43910.0  43710.0  2774715.0"
      ]
     },
     "execution_count": 4,
     "metadata": {},
     "output_type": "execute_result"
    }
   ],
   "source": [
    "kodex_200 = pd.DataFrame()\n",
    "url = 'http://finance.naver.com/item/sise_day.nhn?code=069500'\n",
    "# url = 'http://finance.naver.com/sise/sise_index_day.nhn?code=KOSPI'\n",
    "\n",
    "for page in tqdm(range(1, 100)):\n",
    "    pg_url = '{url}&page={page}'.format(url=url, page=page)\n",
    "    pg_url_req = requests.get(pg_url, headers={'User-agent': 'Mozilla/5.0'}).text\n",
    "    kodex_200 = kodex_200.append(pd.read_html(pg_url_req, header=0)[0], ignore_index=True)\n",
    "    \n",
    "kodex_200 = kodex_200.dropna()\n",
    "kodex_200.columns = ['date', 'close', 'over the day', 'start', 'high', 'low', 'volume']\n",
    "# kodex_200.columns = ['date', 'close', 'over the day', 'up & down', 'volume(s)', 'volume(w)']\n",
    "kodex_200['date'] = pd.to_datetime(kodex_200['date'])\n",
    "\n",
    "print('출처 :', url)\n",
    "kodex_200.head()"
   ]
  },
  {
   "cell_type": "code",
   "execution_count": 5,
   "metadata": {},
   "outputs": [
    {
     "data": {
      "text/html": [
       "<div>\n",
       "<style scoped>\n",
       "    .dataframe tbody tr th:only-of-type {\n",
       "        vertical-align: middle;\n",
       "    }\n",
       "\n",
       "    .dataframe tbody tr th {\n",
       "        vertical-align: top;\n",
       "    }\n",
       "\n",
       "    .dataframe thead th {\n",
       "        text-align: right;\n",
       "    }\n",
       "</style>\n",
       "<table border=\"1\" class=\"dataframe\">\n",
       "  <thead>\n",
       "    <tr style=\"text-align: right;\">\n",
       "      <th></th>\n",
       "      <th>date</th>\n",
       "      <th>close</th>\n",
       "      <th>over the day</th>\n",
       "      <th>start</th>\n",
       "      <th>high</th>\n",
       "      <th>low</th>\n",
       "      <th>volume</th>\n",
       "    </tr>\n",
       "  </thead>\n",
       "  <tbody>\n",
       "    <tr>\n",
       "      <th>1479</th>\n",
       "      <td>2017-07-06</td>\n",
       "      <td>31325.0</td>\n",
       "      <td>5.0</td>\n",
       "      <td>31395.0</td>\n",
       "      <td>31395.0</td>\n",
       "      <td>31240.0</td>\n",
       "      <td>6394300.0</td>\n",
       "    </tr>\n",
       "    <tr>\n",
       "      <th>1480</th>\n",
       "      <td>2017-07-05</td>\n",
       "      <td>31320.0</td>\n",
       "      <td>120.0</td>\n",
       "      <td>31125.0</td>\n",
       "      <td>31355.0</td>\n",
       "      <td>31115.0</td>\n",
       "      <td>5744072.0</td>\n",
       "    </tr>\n",
       "    <tr>\n",
       "      <th>1481</th>\n",
       "      <td>2017-07-04</td>\n",
       "      <td>31200.0</td>\n",
       "      <td>195.0</td>\n",
       "      <td>31405.0</td>\n",
       "      <td>31435.0</td>\n",
       "      <td>31165.0</td>\n",
       "      <td>8262663.0</td>\n",
       "    </tr>\n",
       "    <tr>\n",
       "      <th>1482</th>\n",
       "      <td>2017-07-03</td>\n",
       "      <td>31395.0</td>\n",
       "      <td>70.0</td>\n",
       "      <td>31395.0</td>\n",
       "      <td>31430.0</td>\n",
       "      <td>31260.0</td>\n",
       "      <td>6314386.0</td>\n",
       "    </tr>\n",
       "    <tr>\n",
       "      <th>1483</th>\n",
       "      <td>2017-06-30</td>\n",
       "      <td>31325.0</td>\n",
       "      <td>95.0</td>\n",
       "      <td>31220.0</td>\n",
       "      <td>31325.0</td>\n",
       "      <td>31190.0</td>\n",
       "      <td>10200611.0</td>\n",
       "    </tr>\n",
       "  </tbody>\n",
       "</table>\n",
       "</div>"
      ],
      "text/plain": [
       "           date    close  over the day    start     high      low      volume\n",
       "1479 2017-07-06  31325.0           5.0  31395.0  31395.0  31240.0   6394300.0\n",
       "1480 2017-07-05  31320.0         120.0  31125.0  31355.0  31115.0   5744072.0\n",
       "1481 2017-07-04  31200.0         195.0  31405.0  31435.0  31165.0   8262663.0\n",
       "1482 2017-07-03  31395.0          70.0  31395.0  31430.0  31260.0   6314386.0\n",
       "1483 2017-06-30  31325.0          95.0  31220.0  31325.0  31190.0  10200611.0"
      ]
     },
     "execution_count": 5,
     "metadata": {},
     "output_type": "execute_result"
    }
   ],
   "source": [
    "kodex_200.tail()"
   ]
  },
  {
   "cell_type": "markdown",
   "metadata": {},
   "source": [
    "# Turn to Monthly Data"
   ]
  },
  {
   "cell_type": "markdown",
   "metadata": {},
   "source": [
    "월별 리밸런싱을 하기 위해 우리가 크롤링해온 일별 데이터를 월별 데이터로 바꾸겠습니다."
   ]
  },
  {
   "cell_type": "markdown",
   "metadata": {},
   "source": [
    "### KODEX 200 & GOV_3Y (monthly)"
   ]
  },
  {
   "cell_type": "markdown",
   "metadata": {},
   "source": [
    "2010년 ~ 2019년까지, 1월 ~ 12월까지 ```for 반복문```을 사용해 해당 연|월의 말일 데이터만 필터링해 각각 ```kodex_monthly```, ```gov_monthly```에 담습니다."
   ]
  },
  {
   "cell_type": "code",
   "execution_count": 6,
   "metadata": {},
   "outputs": [
    {
     "name": "stderr",
     "output_type": "stream",
     "text": [
      "100%|██████████| 12/12 [00:00<00:00, 15.52it/s]\n"
     ]
    }
   ],
   "source": [
    "kodex_monthly = pd.DataFrame()\n",
    "gov_monthly = pd.DataFrame()\n",
    "for i in tqdm(range(2010, 2022)):\n",
    "    for j in range(1, 13):\n",
    "        kodex_monthly = kodex_monthly.append(kodex_200[(kodex_200['date'].dt.year == i) & (kodex_200['date'].dt.month == j)].head(1))\n",
    "        gov_monthly = gov_monthly.append(gov_3[(gov_3['date'].dt.year == i) & (gov_3['date'].dt.month == j)].head(1))\n",
    "        \n",
    "kodex_index = [x for x in range(len(kodex_monthly))]\n",
    "kodex_monthly.index = kodex_index\n",
    "\n",
    "gov_index = [x for x in range(len(gov_monthly))]\n",
    "gov_monthly.index = gov_index"
   ]
  },
  {
   "cell_type": "code",
   "execution_count": 7,
   "metadata": {},
   "outputs": [
    {
     "data": {
      "text/html": [
       "<div>\n",
       "<style scoped>\n",
       "    .dataframe tbody tr th:only-of-type {\n",
       "        vertical-align: middle;\n",
       "    }\n",
       "\n",
       "    .dataframe tbody tr th {\n",
       "        vertical-align: top;\n",
       "    }\n",
       "\n",
       "    .dataframe thead th {\n",
       "        text-align: right;\n",
       "    }\n",
       "</style>\n",
       "<table border=\"1\" class=\"dataframe\">\n",
       "  <thead>\n",
       "    <tr style=\"text-align: right;\">\n",
       "      <th></th>\n",
       "      <th>date</th>\n",
       "      <th>close</th>\n",
       "      <th>over the day</th>\n",
       "      <th>start</th>\n",
       "      <th>high</th>\n",
       "      <th>low</th>\n",
       "      <th>volume</th>\n",
       "    </tr>\n",
       "  </thead>\n",
       "  <tbody>\n",
       "    <tr>\n",
       "      <th>0</th>\n",
       "      <td>2017-06-30</td>\n",
       "      <td>55510.0</td>\n",
       "      <td>15.0</td>\n",
       "      <td>55510.0</td>\n",
       "      <td>55530.0</td>\n",
       "      <td>55475.0</td>\n",
       "      <td>1890.0</td>\n",
       "    </tr>\n",
       "    <tr>\n",
       "      <th>1</th>\n",
       "      <td>2017-07-31</td>\n",
       "      <td>55570.0</td>\n",
       "      <td>0.0</td>\n",
       "      <td>55550.0</td>\n",
       "      <td>55580.0</td>\n",
       "      <td>55540.0</td>\n",
       "      <td>1368.0</td>\n",
       "    </tr>\n",
       "    <tr>\n",
       "      <th>2</th>\n",
       "      <td>2017-08-31</td>\n",
       "      <td>55610.0</td>\n",
       "      <td>60.0</td>\n",
       "      <td>55595.0</td>\n",
       "      <td>55610.0</td>\n",
       "      <td>55565.0</td>\n",
       "      <td>32871.0</td>\n",
       "    </tr>\n",
       "    <tr>\n",
       "      <th>3</th>\n",
       "      <td>2017-09-29</td>\n",
       "      <td>55320.0</td>\n",
       "      <td>15.0</td>\n",
       "      <td>55305.0</td>\n",
       "      <td>55320.0</td>\n",
       "      <td>55285.0</td>\n",
       "      <td>6904.0</td>\n",
       "    </tr>\n",
       "    <tr>\n",
       "      <th>4</th>\n",
       "      <td>2017-10-31</td>\n",
       "      <td>54975.0</td>\n",
       "      <td>5.0</td>\n",
       "      <td>54830.0</td>\n",
       "      <td>54990.0</td>\n",
       "      <td>54830.0</td>\n",
       "      <td>2715.0</td>\n",
       "    </tr>\n",
       "  </tbody>\n",
       "</table>\n",
       "</div>"
      ],
      "text/plain": [
       "        date    close  over the day    start     high      low   volume\n",
       "0 2017-06-30  55510.0          15.0  55510.0  55530.0  55475.0   1890.0\n",
       "1 2017-07-31  55570.0           0.0  55550.0  55580.0  55540.0   1368.0\n",
       "2 2017-08-31  55610.0          60.0  55595.0  55610.0  55565.0  32871.0\n",
       "3 2017-09-29  55320.0          15.0  55305.0  55320.0  55285.0   6904.0\n",
       "4 2017-10-31  54975.0           5.0  54830.0  54990.0  54830.0   2715.0"
      ]
     },
     "execution_count": 7,
     "metadata": {},
     "output_type": "execute_result"
    }
   ],
   "source": [
    "gov_monthly = gov_monthly.sort_values(by='date')\n",
    "gov_monthly.head()"
   ]
  },
  {
   "cell_type": "code",
   "execution_count": 8,
   "metadata": {},
   "outputs": [
    {
     "data": {
      "text/html": [
       "<div>\n",
       "<style scoped>\n",
       "    .dataframe tbody tr th:only-of-type {\n",
       "        vertical-align: middle;\n",
       "    }\n",
       "\n",
       "    .dataframe tbody tr th {\n",
       "        vertical-align: top;\n",
       "    }\n",
       "\n",
       "    .dataframe thead th {\n",
       "        text-align: right;\n",
       "    }\n",
       "</style>\n",
       "<table border=\"1\" class=\"dataframe\">\n",
       "  <thead>\n",
       "    <tr style=\"text-align: right;\">\n",
       "      <th></th>\n",
       "      <th>date</th>\n",
       "      <th>close</th>\n",
       "      <th>over the day</th>\n",
       "      <th>start</th>\n",
       "      <th>high</th>\n",
       "      <th>low</th>\n",
       "      <th>volume</th>\n",
       "    </tr>\n",
       "  </thead>\n",
       "  <tbody>\n",
       "    <tr>\n",
       "      <th>0</th>\n",
       "      <td>2017-06-30</td>\n",
       "      <td>31325.0</td>\n",
       "      <td>95.0</td>\n",
       "      <td>31220.0</td>\n",
       "      <td>31325.0</td>\n",
       "      <td>31190.0</td>\n",
       "      <td>10200611.0</td>\n",
       "    </tr>\n",
       "    <tr>\n",
       "      <th>1</th>\n",
       "      <td>2017-07-31</td>\n",
       "      <td>31460.0</td>\n",
       "      <td>0.0</td>\n",
       "      <td>31320.0</td>\n",
       "      <td>31510.0</td>\n",
       "      <td>31305.0</td>\n",
       "      <td>11381687.0</td>\n",
       "    </tr>\n",
       "    <tr>\n",
       "      <th>2</th>\n",
       "      <td>2017-08-31</td>\n",
       "      <td>30810.0</td>\n",
       "      <td>190.0</td>\n",
       "      <td>31025.0</td>\n",
       "      <td>31060.0</td>\n",
       "      <td>30745.0</td>\n",
       "      <td>7255256.0</td>\n",
       "    </tr>\n",
       "    <tr>\n",
       "      <th>3</th>\n",
       "      <td>2017-09-29</td>\n",
       "      <td>31700.0</td>\n",
       "      <td>245.0</td>\n",
       "      <td>31470.0</td>\n",
       "      <td>31700.0</td>\n",
       "      <td>31470.0</td>\n",
       "      <td>9891922.0</td>\n",
       "    </tr>\n",
       "    <tr>\n",
       "      <th>4</th>\n",
       "      <td>2017-10-31</td>\n",
       "      <td>33375.0</td>\n",
       "      <td>330.0</td>\n",
       "      <td>33050.0</td>\n",
       "      <td>33460.0</td>\n",
       "      <td>33000.0</td>\n",
       "      <td>18472117.0</td>\n",
       "    </tr>\n",
       "  </tbody>\n",
       "</table>\n",
       "</div>"
      ],
      "text/plain": [
       "        date    close  over the day    start     high      low      volume\n",
       "0 2017-06-30  31325.0          95.0  31220.0  31325.0  31190.0  10200611.0\n",
       "1 2017-07-31  31460.0           0.0  31320.0  31510.0  31305.0  11381687.0\n",
       "2 2017-08-31  30810.0         190.0  31025.0  31060.0  30745.0   7255256.0\n",
       "3 2017-09-29  31700.0         245.0  31470.0  31700.0  31470.0   9891922.0\n",
       "4 2017-10-31  33375.0         330.0  33050.0  33460.0  33000.0  18472117.0"
      ]
     },
     "execution_count": 8,
     "metadata": {},
     "output_type": "execute_result"
    }
   ],
   "source": [
    "kodex_monthly = kodex_monthly.sort_values(by='date')\n",
    "kodex_monthly.head()"
   ]
  },
  {
   "cell_type": "markdown",
   "metadata": {},
   "source": [
    "# Backtest"
   ]
  },
  {
   "cell_type": "code",
   "execution_count": 9,
   "metadata": {},
   "outputs": [],
   "source": [
    "def backtest(beginning_cash=100000): # 최초 금액은 $100,000로 시작합니다.\n",
    "    asset = [] # 최종적으로 반환할 월별 자산 데이터가 담길 리스트를 선언합니다.\n",
    "    kodex_shares = 0 # 첫 시점에서 KODEX 주식수는 0주입니다.\n",
    "    \n",
    "    for i in range(len(gov_monthly)-1): # 월별 데이터의 개수만큼 반복하면서,\n",
    "        gov_shares = beginning_cash / gov_monthly.iloc[i].close # i번째 회차에 투자해야 할 국채3년물 주식수를 구합니다.\n",
    "        gov_ending = gov_monthly.iloc[i+1].close * gov_shares # 위에서 구한 주식 수에 i+1번째 회차의 국채3년물 주가를 곱해 자산가치를 구합니다.\n",
    "        \n",
    "        # 국채3년물 투자금의 기초자산 대비 추가수익률을 구합니다.\n",
    "        surplus = gov_ending - beginning_cash\n",
    "        if surplus > 0: # 수익이 발생했다면,\n",
    "            kodex_shares += surplus / kodex_monthly.iloc[i+1].close # 추가적으로 발생한 수익금으로 매수가능한 KODEX 주식수를 계산합니다. \n",
    "        elif surplus < 0: # 손실이 발생했다면,\n",
    "            beginning_cash += surplus # 최초 투자금에서 해당 손실만큼 차감해줍니다.\n",
    "        \n",
    "        total = beginning_cash + (kodex_monthly.iloc[i+1].close * kodex_shares) # 해당시점 초기자금과 매수한 주식금액을 합산해 최종 자산을 구합니다.\n",
    "        asset.append(total) # 총 자산가치를 asset 리스트에 담습니다.\n",
    "        beginning_cash = 100000 # 최초 자산을 다시 설정합니다.\n",
    "    \n",
    "    # asset 리스트 가장 처음에 비어있는 $100,000를 해당 위치에 담아둡니다.\n",
    "    asset.insert(0, 100000.0)\n",
    "    # 최종적으로 asset을 반환합니다.\n",
    "    return asset"
   ]
  },
  {
   "cell_type": "code",
   "execution_count": 10,
   "metadata": {},
   "outputs": [
    {
     "data": {
      "text/html": [
       "<div>\n",
       "<style scoped>\n",
       "    .dataframe tbody tr th:only-of-type {\n",
       "        vertical-align: middle;\n",
       "    }\n",
       "\n",
       "    .dataframe tbody tr th {\n",
       "        vertical-align: top;\n",
       "    }\n",
       "\n",
       "    .dataframe thead th {\n",
       "        text-align: right;\n",
       "    }\n",
       "</style>\n",
       "<table border=\"1\" class=\"dataframe\">\n",
       "  <thead>\n",
       "    <tr style=\"text-align: right;\">\n",
       "      <th></th>\n",
       "      <th>date</th>\n",
       "      <th>backtest</th>\n",
       "      <th>kodex 200</th>\n",
       "      <th>gov 3Y</th>\n",
       "    </tr>\n",
       "  </thead>\n",
       "  <tbody>\n",
       "    <tr>\n",
       "      <th>0</th>\n",
       "      <td>2017-06-30</td>\n",
       "      <td>100000.000000</td>\n",
       "      <td>100000.000000</td>\n",
       "      <td>100000.000000</td>\n",
       "    </tr>\n",
       "    <tr>\n",
       "      <th>1</th>\n",
       "      <td>2017-07-31</td>\n",
       "      <td>100108.088633</td>\n",
       "      <td>100430.965682</td>\n",
       "      <td>100108.088633</td>\n",
       "    </tr>\n",
       "    <tr>\n",
       "      <th>2</th>\n",
       "      <td>2017-08-31</td>\n",
       "      <td>100177.836681</td>\n",
       "      <td>98355.945730</td>\n",
       "      <td>100180.147721</td>\n",
       "    </tr>\n",
       "    <tr>\n",
       "      <th>3</th>\n",
       "      <td>2017-09-29</td>\n",
       "      <td>100182.973801</td>\n",
       "      <td>101197.126895</td>\n",
       "      <td>99657.719330</td>\n",
       "    </tr>\n",
       "    <tr>\n",
       "      <th>4</th>\n",
       "      <td>2017-10-31</td>\n",
       "      <td>100192.641975</td>\n",
       "      <td>106544.293695</td>\n",
       "      <td>99036.209692</td>\n",
       "    </tr>\n",
       "  </tbody>\n",
       "</table>\n",
       "</div>"
      ],
      "text/plain": [
       "        date       backtest      kodex 200         gov 3Y\n",
       "0 2017-06-30  100000.000000  100000.000000  100000.000000\n",
       "1 2017-07-31  100108.088633  100430.965682  100108.088633\n",
       "2 2017-08-31  100177.836681   98355.945730  100180.147721\n",
       "3 2017-09-29  100182.973801  101197.126895   99657.719330\n",
       "4 2017-10-31  100192.641975  106544.293695   99036.209692"
      ]
     },
     "execution_count": 10,
     "metadata": {},
     "output_type": "execute_result"
    }
   ],
   "source": [
    "back_test = {\n",
    "    'date' : kodex_monthly['date'],\n",
    "    'backtest' : backtest(),\n",
    "    'kodex 200' : kodex_monthly['close'] / kodex_monthly.iloc[0].close * 100000,\n",
    "    'gov 3Y' : gov_monthly['close'] / gov_monthly.iloc[0].close * 100000\n",
    "}\n",
    "\n",
    "back_test = pd.DataFrame(back_test, columns = ['date', 'backtest', 'kodex 200','gov 3Y'])\n",
    "back_test.head()"
   ]
  },
  {
   "cell_type": "markdown",
   "metadata": {},
   "source": [
    "# Visualization"
   ]
  },
  {
   "cell_type": "markdown",
   "metadata": {},
   "source": [
    "시각화를 위한 새로운 모듈을 임포트 합니다. "
   ]
  },
  {
   "cell_type": "code",
   "execution_count": 11,
   "metadata": {},
   "outputs": [],
   "source": [
    "%matplotlib inline\n",
    "import matplotlib.pyplot as plt"
   ]
  },
  {
   "cell_type": "code",
   "execution_count": 12,
   "metadata": {},
   "outputs": [
    {
     "data": {
      "image/png": "[encoded data removed]",
      "text/plain": [
       "<Figure size 1296x288 with 1 Axes>"
      ]
     },
     "metadata": {
      "needs_background": "light"
     },
     "output_type": "display_data"
    }
   ],
   "source": [
    "plt.figure(figsize=(18, 4))\n",
    "plt.plot(back_test['date'], back_test['backtest'], label='Backtest')\n",
    "plt.plot(back_test['date'], back_test['kodex 200'], label='kodex 200')\n",
    "plt.plot(back_test['date'], back_test['gov 3Y'], label='gov 3Y')\n",
    "\n",
    "plt.legend(loc='best')\n",
    "plt.xlabel(\"Year\", fontsize=18)\n",
    "plt.ylabel(\"Asset\", fontsize=18)\n",
    "plt.grid()\n",
    "plt.show()"
   ]
  },
  {
   "cell_type": "markdown",
   "metadata": {},
   "source": [
    "# Compute CAGR"
   ]
  },
  {
   "cell_type": "markdown",
   "metadata": {},
   "source": [
    "각 자산별 Compounded Annual Growth Rate를 계산해보겠습니다."
   ]
  },
  {
   "cell_type": "markdown",
   "metadata": {},
   "source": [
    "### backtest"
   ]
  },
  {
   "cell_type": "code",
   "execution_count": 13,
   "metadata": {},
   "outputs": [
    {
     "name": "stdout",
     "output_type": "stream",
     "text": [
      "2.61 %\n"
     ]
    }
   ],
   "source": [
    "result = backtest()\n",
    "begin, end = result[0], result[-1]\n",
    "\n",
    "cagr = ((end / begin)**(1/len(set(kodex_200['date'].dt.year))) - 1) * 100\n",
    "print('%.2f'%cagr, '%')"
   ]
  },
  {
   "cell_type": "markdown",
   "metadata": {},
   "source": [
    "### kodex 200"
   ]
  },
  {
   "cell_type": "code",
   "execution_count": 14,
   "metadata": {},
   "outputs": [
    {
     "name": "stdout",
     "output_type": "stream",
     "text": [
      "6.44 %\n"
     ]
    }
   ],
   "source": [
    "end, begin = kodex_200.iloc[0].close, kodex_200.iloc[-1].close\n",
    "\n",
    "kodex_cagr = ((end / begin)**(1/len(set(kodex_200['date'].dt.year))) - 1) * 100\n",
    "print('%.2f'%kodex_cagr, '%')"
   ]
  },
  {
   "cell_type": "markdown",
   "metadata": {},
   "source": [
    "### gov 3Y"
   ]
  },
  {
   "cell_type": "code",
   "execution_count": 15,
   "metadata": {},
   "outputs": [
    {
     "name": "stdout",
     "output_type": "stream",
     "text": [
      "0.89 %\n"
     ]
    }
   ],
   "source": [
    "end, begin = gov_3.iloc[0].close, gov_3.iloc[-1].close\n",
    "\n",
    "gov3_cagr = ((end / begin)**(1/len(set(gov_3['date'].dt.year))) - 1) * 100\n",
    "print('%.2f'%gov3_cagr, '%')"
   ]
  },
  {
   "cell_type": "markdown",
   "metadata": {},
   "source": [
    "# Copute Statistics"
   ]
  },
  {
   "cell_type": "markdown",
   "metadata": {},
   "source": [
    "```numpy``` 모듈을 사용해 통계치를 계산합니다."
   ]
  },
  {
   "cell_type": "code",
   "execution_count": 16,
   "metadata": {},
   "outputs": [
    {
     "data": {
      "text/plain": [
       "backtest      4.153390\n",
       "kodex 200    16.399487\n",
       "gov 3Y        2.118748\n",
       "dtype: float64"
      ]
     },
     "execution_count": 16,
     "metadata": {},
     "output_type": "execute_result"
    }
   ],
   "source": [
    "import numpy as np\n",
    "\n",
    "# Numpy를 사용해 표준편차와 평균을 구합니다.\n",
    "(np.std(back_test) / np.mean(back_test)) * 100"
   ]
  },
  {
   "cell_type": "markdown",
   "metadata": {},
   "source": [
    "```diff```를 사용해 매월 자산액의 차이를 계산한 후 전월대비 수익률을 계산합니다."
   ]
  },
  {
   "cell_type": "code",
   "execution_count": 17,
   "metadata": {},
   "outputs": [
    {
     "name": "stderr",
     "output_type": "stream",
     "text": [
      "100%|██████████| 49/49 [00:00<00:00, 393.41it/s]\n"
     ]
    },
    {
     "data": {
      "text/html": [
       "<div>\n",
       "<style scoped>\n",
       "    .dataframe tbody tr th:only-of-type {\n",
       "        vertical-align: middle;\n",
       "    }\n",
       "\n",
       "    .dataframe tbody tr th {\n",
       "        vertical-align: top;\n",
       "    }\n",
       "\n",
       "    .dataframe thead th {\n",
       "        text-align: right;\n",
       "    }\n",
       "</style>\n",
       "<table border=\"1\" class=\"dataframe\">\n",
       "  <thead>\n",
       "    <tr style=\"text-align: right;\">\n",
       "      <th></th>\n",
       "      <th>date</th>\n",
       "      <th>backtest</th>\n",
       "      <th>kodex 200</th>\n",
       "      <th>gov 3Y</th>\n",
       "      <th>RoR</th>\n",
       "      <th>KOSPI_RoR</th>\n",
       "      <th>GOV_RoR</th>\n",
       "    </tr>\n",
       "  </thead>\n",
       "  <tbody>\n",
       "    <tr>\n",
       "      <th>0</th>\n",
       "      <td>2017-06-30</td>\n",
       "      <td>100000.000000</td>\n",
       "      <td>100000.000000</td>\n",
       "      <td>100000.000000</td>\n",
       "      <td>0.000000</td>\n",
       "      <td>0.000000</td>\n",
       "      <td>0.000000</td>\n",
       "    </tr>\n",
       "    <tr>\n",
       "      <th>1</th>\n",
       "      <td>2017-07-31</td>\n",
       "      <td>100108.088633</td>\n",
       "      <td>100430.965682</td>\n",
       "      <td>100108.088633</td>\n",
       "      <td>0.095061</td>\n",
       "      <td>0.307552</td>\n",
       "      <td>0.103842</td>\n",
       "    </tr>\n",
       "    <tr>\n",
       "      <th>2</th>\n",
       "      <td>2017-08-31</td>\n",
       "      <td>100177.836681</td>\n",
       "      <td>98355.945730</td>\n",
       "      <td>100180.147721</td>\n",
       "      <td>0.061341</td>\n",
       "      <td>-1.480806</td>\n",
       "      <td>0.069228</td>\n",
       "    </tr>\n",
       "    <tr>\n",
       "      <th>3</th>\n",
       "      <td>2017-09-29</td>\n",
       "      <td>100182.973801</td>\n",
       "      <td>101197.126895</td>\n",
       "      <td>99657.719330</td>\n",
       "      <td>0.004518</td>\n",
       "      <td>2.027566</td>\n",
       "      <td>-0.501904</td>\n",
       "    </tr>\n",
       "    <tr>\n",
       "      <th>4</th>\n",
       "      <td>2017-10-31</td>\n",
       "      <td>100192.641975</td>\n",
       "      <td>106544.293695</td>\n",
       "      <td>99036.209692</td>\n",
       "      <td>0.008503</td>\n",
       "      <td>3.815924</td>\n",
       "      <td>-0.597092</td>\n",
       "    </tr>\n",
       "  </tbody>\n",
       "</table>\n",
       "</div>"
      ],
      "text/plain": [
       "        date       backtest      kodex 200         gov 3Y       RoR  \\\n",
       "0 2017-06-30  100000.000000  100000.000000  100000.000000  0.000000   \n",
       "1 2017-07-31  100108.088633  100430.965682  100108.088633  0.095061   \n",
       "2 2017-08-31  100177.836681   98355.945730  100180.147721  0.061341   \n",
       "3 2017-09-29  100182.973801  101197.126895   99657.719330  0.004518   \n",
       "4 2017-10-31  100192.641975  106544.293695   99036.209692  0.008503   \n",
       "\n",
       "   KOSPI_RoR   GOV_RoR  \n",
       "0   0.000000  0.000000  \n",
       "1   0.307552  0.103842  \n",
       "2  -1.480806  0.069228  \n",
       "3   2.027566 -0.501904  \n",
       "4   3.815924 -0.597092  "
      ]
     },
     "execution_count": 17,
     "metadata": {},
     "output_type": "execute_result"
    }
   ],
   "source": [
    "for i in tqdm(range(len(back_test)-1)):\n",
    "    back_test[\"RoR\"] = (back_test[\"backtest\"].diff() / back_test.iloc[i]['backtest'])*100\n",
    "    back_test['KOSPI_RoR'] = (back_test['kodex 200'].diff() / back_test.iloc[i]['kodex 200'])*100\n",
    "    back_test['GOV_RoR'] = (back_test['gov 3Y'].diff() / back_test.iloc[i]['gov 3Y'])*100\n",
    "back_test.fillna(0, inplace=True)\n",
    "back_test.head()"
   ]
  },
  {
   "cell_type": "markdown",
   "metadata": {},
   "source": [
    "수익률의 표준편차를 계산합니다."
   ]
  },
  {
   "cell_type": "code",
   "execution_count": 18,
   "metadata": {
    "scrolled": true
   },
   "outputs": [
    {
     "data": {
      "text/plain": [
       "backtest       4.153390\n",
       "kodex 200     16.399487\n",
       "gov 3Y         2.118748\n",
       "RoR          132.958103\n",
       "KOSPI_RoR    676.516756\n",
       "GOV_RoR      365.479309\n",
       "dtype: float64"
      ]
     },
     "execution_count": 18,
     "metadata": {},
     "output_type": "execute_result"
    }
   ],
   "source": [
    "(np.std(back_test) / np.mean(back_test)) * 100"
   ]
  },
  {
   "cell_type": "markdown",
   "metadata": {},
   "source": [
    "수익률의 표준편차가 최대치가 되는 시점을 찾습니다."
   ]
  },
  {
   "cell_type": "code",
   "execution_count": 19,
   "metadata": {
    "scrolled": true
   },
   "outputs": [
    {
     "data": {
      "text/plain": [
       "(42   2020-12-30\n",
       " Name: date, dtype: datetime64[ns],\n",
       " 1.3343624631953714)"
      ]
     },
     "execution_count": 19,
     "metadata": {},
     "output_type": "execute_result"
    }
   ],
   "source": [
    "back_test[back_test['RoR'] == max(back_test['RoR'])].date, max(back_test['RoR'])"
   ]
  },
  {
   "cell_type": "markdown",
   "metadata": {},
   "source": [
    "수익률의 표준편차가 최소치가 되는 시점을 찾습니다."
   ]
  },
  {
   "cell_type": "code",
   "execution_count": 20,
   "metadata": {},
   "outputs": [
    {
     "data": {
      "text/plain": [
       "(33   2020-03-31\n",
       " Name: date, dtype: datetime64[ns],\n",
       " -0.6832017384545017)"
      ]
     },
     "execution_count": 20,
     "metadata": {},
     "output_type": "execute_result"
    }
   ],
   "source": [
    "back_test[back_test['RoR'] == min(back_test['RoR'])].date, min(back_test['RoR'])"
   ]
  },
  {
   "cell_type": "markdown",
   "metadata": {},
   "source": [
    "백테스트 수익률 분포를 히스토그램으로 나타냅니다."
   ]
  },
  {
   "cell_type": "code",
   "execution_count": 21,
   "metadata": {
    "scrolled": true
   },
   "outputs": [
    {
     "data": {
      "image/png": "[encoded data removed]",
      "text/plain": [
       "<Figure size 432x288 with 1 Axes>"
      ]
     },
     "metadata": {
      "needs_background": "light"
     },
     "output_type": "display_data"
    }
   ],
   "source": [
    "plt.hist(back_test['RoR'], bins=100)\n",
    "plt.show()"
   ]
  },
  {
   "cell_type": "markdown",
   "metadata": {},
   "source": [
    "KODEX 수익률 분포를 히스토그램으로 나타냅니다."
   ]
  },
  {
   "cell_type": "code",
   "execution_count": 22,
   "metadata": {},
   "outputs": [
    {
     "data": {
      "image/png": "[encoded data removed]",
      "text/plain": [
       "<Figure size 432x288 with 1 Axes>"
      ]
     },
     "metadata": {
      "needs_background": "light"
     },
     "output_type": "display_data"
    }
   ],
   "source": [
    "plt.hist(back_test['KOSPI_RoR'], bins=100)\n",
    "plt.show()"
   ]
  },
  {
   "cell_type": "markdown",
   "metadata": {},
   "source": [
    "국채3년물 수익률 분포를 히스토그램으로 나타냅니다."
   ]
  },
  {
   "cell_type": "code",
   "execution_count": 23,
   "metadata": {},
   "outputs": [
    {
     "data": {
      "image/png": "[encoded data removed]",
      "text/plain": [
       "<Figure size 432x288 with 1 Axes>"
      ]
     },
     "metadata": {
      "needs_background": "light"
     },
     "output_type": "display_data"
    }
   ],
   "source": [
    "plt.hist(back_test['GOV_RoR'], bins=100)\n",
    "plt.show()"
   ]
  },
  {
   "cell_type": "code",
   "execution_count": null,
   "metadata": {},
   "outputs": [],
   "source": []
  }
 ],
 "metadata": {
  "kernelspec": {
   "display_name": "Python 3",
   "language": "python",
   "name": "python3"
  },
  "language_info": {
   "codemirror_mode": {
    "name": "ipython",
    "version": 3
   },
   "file_extension": ".py",
   "mimetype": "text/x-python",
   "name": "python",
   "nbconvert_exporter": "python",
   "pygments_lexer": "ipython3",
   "version": "3.8.3"
  }
 },
 "nbformat": 4,
 "nbformat_minor": 2
}
