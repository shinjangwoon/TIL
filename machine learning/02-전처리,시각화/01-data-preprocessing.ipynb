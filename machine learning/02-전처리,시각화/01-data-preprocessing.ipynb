{
 "cells": [
  {
   "cell_type": "markdown",
   "metadata": {
    "colab_type": "text",
    "id": "eE_fM8ZSMj2q"
   },
   "source": [
    "## 📌Step1. 어떤 데이터가 주어졌는지 알아보기\n",
    "\n",
    "- 머신러닝, 데이터 분석 등을 위한 체크리스트는 다음과 같습니다"
   ]
  },
  {
   "cell_type": "markdown",
   "metadata": {},
   "source": [
    "- 데이터 전처리(Data Preprocessing)\n",
    "    - data -> model -> insight\n",
    "    - data preprocessing: data = raw data , clean, processing\n",
    "    - data -> model : model(컴퓨터): 숫자가 비어있으면 안됨"
   ]
  },
  {
   "cell_type": "markdown",
   "metadata": {
    "colab_type": "text",
    "id": "nC3IfEM5OOiP"
   },
   "source": [
    "🛳 titanic_dataset 을 보겠습니다.  \n",
    "> 🔍 데이터의 일부분을 보고 다음 질문들에 답변해보세요\n",
    "- 어떤 feature 들이 주어졌나요? \n",
    "- 각 feature 가 의미하는 바는 무엇인가요? \n",
    "- train set, test set 이 따로 주어졌나요? \n",
    "- 어떤 feature 가 categorical 이고 어떤 feature 가 numerical 인가요? "
   ]
  },
  {
   "cell_type": "code",
   "execution_count": 2,
   "metadata": {
    "colab": {
     "base_uri": "https://localhost:8080/",
     "height": 453
    },
    "colab_type": "code",
    "executionInfo": {
     "elapsed": 1308,
     "status": "ok",
     "timestamp": 1591257400768,
     "user": {
      "displayName": "KANG HEE LEE",
      "photoUrl": "https://lh6.googleusercontent.com/-Tby0yH9KKqU/AAAAAAAAAAI/AAAAAAAAAKo/QINwPqwB8Hw/s64/photo.jpg",
      "userId": "07677907353848967045"
     },
     "user_tz": -540
    },
    "id": "qI9HM0_aOVBK",
    "outputId": "b7372b96-9360-440e-9072-285f28132121"
   },
   "outputs": [
    {
     "data": {
      "text/html": [
       "<div>\n",
       "<style scoped>\n",
       "    .dataframe tbody tr th:only-of-type {\n",
       "        vertical-align: middle;\n",
       "    }\n",
       "\n",
       "    .dataframe tbody tr th {\n",
       "        vertical-align: top;\n",
       "    }\n",
       "\n",
       "    .dataframe thead th {\n",
       "        text-align: right;\n",
       "    }\n",
       "</style>\n",
       "<table border=\"1\" class=\"dataframe\">\n",
       "  <thead>\n",
       "    <tr style=\"text-align: right;\">\n",
       "      <th></th>\n",
       "      <th>PassengerId</th>\n",
       "      <th>Survived</th>\n",
       "      <th>Pclass</th>\n",
       "      <th>Name</th>\n",
       "      <th>Sex</th>\n",
       "      <th>Age</th>\n",
       "      <th>SibSp</th>\n",
       "      <th>Parch</th>\n",
       "      <th>Ticket</th>\n",
       "      <th>Fare</th>\n",
       "      <th>Cabin</th>\n",
       "      <th>Embarked</th>\n",
       "    </tr>\n",
       "  </thead>\n",
       "  <tbody>\n",
       "    <tr>\n",
       "      <th>0</th>\n",
       "      <td>1</td>\n",
       "      <td>0</td>\n",
       "      <td>3</td>\n",
       "      <td>Braund, Mr. Owen Harris</td>\n",
       "      <td>male</td>\n",
       "      <td>22.0</td>\n",
       "      <td>1</td>\n",
       "      <td>0</td>\n",
       "      <td>A/5 21171</td>\n",
       "      <td>7.2500</td>\n",
       "      <td>NaN</td>\n",
       "      <td>S</td>\n",
       "    </tr>\n",
       "    <tr>\n",
       "      <th>1</th>\n",
       "      <td>2</td>\n",
       "      <td>1</td>\n",
       "      <td>1</td>\n",
       "      <td>Cumings, Mrs. John Bradley (Florence Briggs Th...</td>\n",
       "      <td>female</td>\n",
       "      <td>38.0</td>\n",
       "      <td>1</td>\n",
       "      <td>0</td>\n",
       "      <td>PC 17599</td>\n",
       "      <td>71.2833</td>\n",
       "      <td>C85</td>\n",
       "      <td>C</td>\n",
       "    </tr>\n",
       "    <tr>\n",
       "      <th>2</th>\n",
       "      <td>3</td>\n",
       "      <td>1</td>\n",
       "      <td>3</td>\n",
       "      <td>Heikkinen, Miss. Laina</td>\n",
       "      <td>female</td>\n",
       "      <td>26.0</td>\n",
       "      <td>0</td>\n",
       "      <td>0</td>\n",
       "      <td>STON/O2. 3101282</td>\n",
       "      <td>7.9250</td>\n",
       "      <td>NaN</td>\n",
       "      <td>S</td>\n",
       "    </tr>\n",
       "    <tr>\n",
       "      <th>3</th>\n",
       "      <td>4</td>\n",
       "      <td>1</td>\n",
       "      <td>1</td>\n",
       "      <td>Futrelle, Mrs. Jacques Heath (Lily May Peel)</td>\n",
       "      <td>female</td>\n",
       "      <td>35.0</td>\n",
       "      <td>1</td>\n",
       "      <td>0</td>\n",
       "      <td>113803</td>\n",
       "      <td>53.1000</td>\n",
       "      <td>C123</td>\n",
       "      <td>S</td>\n",
       "    </tr>\n",
       "    <tr>\n",
       "      <th>4</th>\n",
       "      <td>5</td>\n",
       "      <td>0</td>\n",
       "      <td>3</td>\n",
       "      <td>Allen, Mr. William Henry</td>\n",
       "      <td>male</td>\n",
       "      <td>35.0</td>\n",
       "      <td>0</td>\n",
       "      <td>0</td>\n",
       "      <td>373450</td>\n",
       "      <td>8.0500</td>\n",
       "      <td>NaN</td>\n",
       "      <td>S</td>\n",
       "    </tr>\n",
       "  </tbody>\n",
       "</table>\n",
       "</div>"
      ],
      "text/plain": [
       "   PassengerId  Survived  Pclass  \\\n",
       "0            1         0       3   \n",
       "1            2         1       1   \n",
       "2            3         1       3   \n",
       "3            4         1       1   \n",
       "4            5         0       3   \n",
       "\n",
       "                                                Name     Sex   Age  SibSp  \\\n",
       "0                            Braund, Mr. Owen Harris    male  22.0      1   \n",
       "1  Cumings, Mrs. John Bradley (Florence Briggs Th...  female  38.0      1   \n",
       "2                             Heikkinen, Miss. Laina  female  26.0      0   \n",
       "3       Futrelle, Mrs. Jacques Heath (Lily May Peel)  female  35.0      1   \n",
       "4                           Allen, Mr. William Henry    male  35.0      0   \n",
       "\n",
       "   Parch            Ticket     Fare Cabin Embarked  \n",
       "0      0         A/5 21171   7.2500   NaN        S  \n",
       "1      0          PC 17599  71.2833   C85        C  \n",
       "2      0  STON/O2. 3101282   7.9250   NaN        S  \n",
       "3      0            113803  53.1000  C123        S  \n",
       "4      0            373450   8.0500   NaN        S  "
      ]
     },
     "execution_count": 2,
     "metadata": {},
     "output_type": "execute_result"
    }
   ],
   "source": [
    "import seaborn as sns\n",
    "import pandas as pd\n",
    "# titanic = sns.load_dataset('raw/titanic') # 앞서 사용한 내장 데이터셋 사용 방법\n",
    "\n",
    "#titanic = pd.read_csv('https://raw.githubusercontent.com/mwaskom/seaborn-data/master/raw/titanic.csv') \n",
    "titanic = pd.read_csv('./data/titanic_train.csv')\n",
    "titanic.head()"
   ]
  },
  {
   "cell_type": "markdown",
   "metadata": {
    "colab_type": "text",
    "id": "q74H4OcBOk5f"
   },
   "source": [
    "#### 어떤 feature 를 가지고 있나요?\n",
    "\n",
    "데이터셋의 feature 는 몇 개인지, 이름은 무엇인지 알아야 분석을 하고 처리를 할 수 있습니다."
   ]
  },
  {
   "cell_type": "code",
   "execution_count": 3,
   "metadata": {
    "colab": {
     "base_uri": "https://localhost:8080/",
     "height": 68
    },
    "colab_type": "code",
    "executionInfo": {
     "elapsed": 1559,
     "status": "ok",
     "timestamp": 1590903968608,
     "user": {
      "displayName": "KANG HEE LEE",
      "photoUrl": "https://lh6.googleusercontent.com/-Tby0yH9KKqU/AAAAAAAAAAI/AAAAAAAAAKo/QINwPqwB8Hw/s64/photo.jpg",
      "userId": "07677907353848967045"
     },
     "user_tz": -540
    },
    "id": "u0wymkfQMb7U",
    "outputId": "e28d5f7f-d55c-46e2-8c7f-85ba2b5c88fd"
   },
   "outputs": [
    {
     "data": {
      "text/plain": [
       "Index(['PassengerId', 'Survived', 'Pclass', 'Name', 'Sex', 'Age', 'SibSp',\n",
       "       'Parch', 'Ticket', 'Fare', 'Cabin', 'Embarked'],\n",
       "      dtype='object')"
      ]
     },
     "execution_count": 3,
     "metadata": {},
     "output_type": "execute_result"
    }
   ],
   "source": [
    "titanic.columns"
   ]
  },
  {
   "cell_type": "markdown",
   "metadata": {
    "colab_type": "text",
    "id": "fFHxyRp27KB7"
   },
   "source": [
    "#### 각 feature 가 의미하는 바는 무엇인가요?\n",
    "\n",
    "🙄🙄sibsp? parch? 등의 이런 feature 들은 직관적으로 어떤 의미를 갖고 있는지 파악하기 힘듭니다.  \n",
    "\n",
    "name 은 이름이라는 걸 바로 알 수 있지만, 첫 번째 줄의 Braund, Mr. Owen Harris  보면 이름이 두 개인 것처럼 보이고 헷갈립니다.  \n",
    "\n",
    "**따.라.서!!** 데이터를 볼 때, 데이터의 출처를 확인하여 각 feature 가 의미하는 바는 무엇인지 파악할 필요가 있습니다.  \n",
    "\n",
    "캐글 - 데이터 분석 챌린지 사이트에서 확인해 봅시다.  \n",
    "Go to kaggle  👉👉 https://www.kaggle.com/c/titanic/data\n",
    "\n",
    "<img src = \"https://subinium.github.io/assets/images/category/kaggle.png\" width = \"800\">\n",
    "\n"
   ]
  },
  {
   "cell_type": "markdown",
   "metadata": {
    "colab_type": "text",
    "id": "QFQS9-WyP6SQ"
   },
   "source": [
    "#### 데이터 형태 복습하기\n",
    "\n",
    "각 feature 의 데이터 형태를 아는 것이 시각화할 때 어떤 Plot을 선택해야 하는지 도움을 줍니다.\n",
    "\n",
    "> 📊Categorical(범주형) 인가요?  \n",
    "- 🍊🍎🍇Nominal : survived, sex, embarked  \n",
    "- 🥇🥈🥉ordinal : pclass  \n",
    "\n",
    "> 📈Numerical(수치형) 인가요? \n",
    "- 👆✌🤟Discret : sibsp, parch\n",
    "- 📏📐🧭Continuous : age, fare"
   ]
  },
  {
   "cell_type": "markdown",
   "metadata": {
    "colab_type": "text",
    "id": "oMWeOqaE3iPv"
   },
   "source": [
    "또한 데이터에 문자와 숫자가 혼합되어 사용되고 있습니다. \n",
    "\n",
    "**문자 부분은 Categorical 이면서 숫자 부분은 Numerical 한 특징도 동시에** 있습니다.  \n",
    "\n",
    "이럴 경우 **전처리**가 필요합니다."
   ]
  },
  {
   "cell_type": "markdown",
   "metadata": {
    "colab_type": "text",
    "id": "ll6obMeR8Gtx"
   },
   "source": [
    "#### 비어있거나 (NaN) 틀린 값이 있는 feature 가 있나요?\n",
    "\n",
    "기계학습 모델에서 비어있는 값은 인식이 되지 않습니다.  \n",
    "데이터의 특성에 따라, 의도하는 방향에 따라 여러 처리 방법이 있지만\n",
    "\n",
    " 통상적으로 다음과 같은 방법을 이용합니다. \n",
    "\n",
    "1. 0 값으로 대체 (numerical의 경우) , \"empty\" \"null\" 등의 값으로 대체 (categorical 경우)\n",
    "\n",
    "2. 중간값으로 대체 (numerical의 경우) , 가장 많이 등장하는 category 로 대체 (categorical의 경우) \n",
    "\n",
    "3.  작은 수의 경우, 해당 instance 를 삭제하여 사용하지 않음. 많이 비어있는 경우 해당 feature 를 아예 사용하지 않음.\n",
    "\n",
    "> `isna()`를 사용하여 결측값을 확인하세요."
   ]
  },
  {
   "cell_type": "code",
   "execution_count": 6,
   "metadata": {
    "colab": {
     "base_uri": "https://localhost:8080/",
     "height": 419
    },
    "colab_type": "code",
    "executionInfo": {
     "elapsed": 1538,
     "status": "ok",
     "timestamp": 1590903968609,
     "user": {
      "displayName": "KANG HEE LEE",
      "photoUrl": "https://lh6.googleusercontent.com/-Tby0yH9KKqU/AAAAAAAAAAI/AAAAAAAAAKo/QINwPqwB8Hw/s64/photo.jpg",
      "userId": "07677907353848967045"
     },
     "user_tz": -540
    },
    "id": "HyVDosLQ9XSq",
    "outputId": "d9fac45f-b698-4e10-9de4-ba4cec70daa2"
   },
   "outputs": [
    {
     "data": {
      "text/html": [
       "<div>\n",
       "<style scoped>\n",
       "    .dataframe tbody tr th:only-of-type {\n",
       "        vertical-align: middle;\n",
       "    }\n",
       "\n",
       "    .dataframe tbody tr th {\n",
       "        vertical-align: top;\n",
       "    }\n",
       "\n",
       "    .dataframe thead th {\n",
       "        text-align: right;\n",
       "    }\n",
       "</style>\n",
       "<table border=\"1\" class=\"dataframe\">\n",
       "  <thead>\n",
       "    <tr style=\"text-align: right;\">\n",
       "      <th></th>\n",
       "      <th>PassengerId</th>\n",
       "      <th>Survived</th>\n",
       "      <th>Pclass</th>\n",
       "      <th>Name</th>\n",
       "      <th>Sex</th>\n",
       "      <th>Age</th>\n",
       "      <th>SibSp</th>\n",
       "      <th>Parch</th>\n",
       "      <th>Ticket</th>\n",
       "      <th>Fare</th>\n",
       "      <th>Cabin</th>\n",
       "      <th>Embarked</th>\n",
       "    </tr>\n",
       "  </thead>\n",
       "  <tbody>\n",
       "    <tr>\n",
       "      <th>0</th>\n",
       "      <td>False</td>\n",
       "      <td>False</td>\n",
       "      <td>False</td>\n",
       "      <td>False</td>\n",
       "      <td>False</td>\n",
       "      <td>False</td>\n",
       "      <td>False</td>\n",
       "      <td>False</td>\n",
       "      <td>False</td>\n",
       "      <td>False</td>\n",
       "      <td>True</td>\n",
       "      <td>False</td>\n",
       "    </tr>\n",
       "    <tr>\n",
       "      <th>1</th>\n",
       "      <td>False</td>\n",
       "      <td>False</td>\n",
       "      <td>False</td>\n",
       "      <td>False</td>\n",
       "      <td>False</td>\n",
       "      <td>False</td>\n",
       "      <td>False</td>\n",
       "      <td>False</td>\n",
       "      <td>False</td>\n",
       "      <td>False</td>\n",
       "      <td>False</td>\n",
       "      <td>False</td>\n",
       "    </tr>\n",
       "    <tr>\n",
       "      <th>2</th>\n",
       "      <td>False</td>\n",
       "      <td>False</td>\n",
       "      <td>False</td>\n",
       "      <td>False</td>\n",
       "      <td>False</td>\n",
       "      <td>False</td>\n",
       "      <td>False</td>\n",
       "      <td>False</td>\n",
       "      <td>False</td>\n",
       "      <td>False</td>\n",
       "      <td>True</td>\n",
       "      <td>False</td>\n",
       "    </tr>\n",
       "    <tr>\n",
       "      <th>3</th>\n",
       "      <td>False</td>\n",
       "      <td>False</td>\n",
       "      <td>False</td>\n",
       "      <td>False</td>\n",
       "      <td>False</td>\n",
       "      <td>False</td>\n",
       "      <td>False</td>\n",
       "      <td>False</td>\n",
       "      <td>False</td>\n",
       "      <td>False</td>\n",
       "      <td>False</td>\n",
       "      <td>False</td>\n",
       "    </tr>\n",
       "    <tr>\n",
       "      <th>4</th>\n",
       "      <td>False</td>\n",
       "      <td>False</td>\n",
       "      <td>False</td>\n",
       "      <td>False</td>\n",
       "      <td>False</td>\n",
       "      <td>False</td>\n",
       "      <td>False</td>\n",
       "      <td>False</td>\n",
       "      <td>False</td>\n",
       "      <td>False</td>\n",
       "      <td>True</td>\n",
       "      <td>False</td>\n",
       "    </tr>\n",
       "    <tr>\n",
       "      <th>...</th>\n",
       "      <td>...</td>\n",
       "      <td>...</td>\n",
       "      <td>...</td>\n",
       "      <td>...</td>\n",
       "      <td>...</td>\n",
       "      <td>...</td>\n",
       "      <td>...</td>\n",
       "      <td>...</td>\n",
       "      <td>...</td>\n",
       "      <td>...</td>\n",
       "      <td>...</td>\n",
       "      <td>...</td>\n",
       "    </tr>\n",
       "    <tr>\n",
       "      <th>886</th>\n",
       "      <td>False</td>\n",
       "      <td>False</td>\n",
       "      <td>False</td>\n",
       "      <td>False</td>\n",
       "      <td>False</td>\n",
       "      <td>False</td>\n",
       "      <td>False</td>\n",
       "      <td>False</td>\n",
       "      <td>False</td>\n",
       "      <td>False</td>\n",
       "      <td>True</td>\n",
       "      <td>False</td>\n",
       "    </tr>\n",
       "    <tr>\n",
       "      <th>887</th>\n",
       "      <td>False</td>\n",
       "      <td>False</td>\n",
       "      <td>False</td>\n",
       "      <td>False</td>\n",
       "      <td>False</td>\n",
       "      <td>False</td>\n",
       "      <td>False</td>\n",
       "      <td>False</td>\n",
       "      <td>False</td>\n",
       "      <td>False</td>\n",
       "      <td>False</td>\n",
       "      <td>False</td>\n",
       "    </tr>\n",
       "    <tr>\n",
       "      <th>888</th>\n",
       "      <td>False</td>\n",
       "      <td>False</td>\n",
       "      <td>False</td>\n",
       "      <td>False</td>\n",
       "      <td>False</td>\n",
       "      <td>True</td>\n",
       "      <td>False</td>\n",
       "      <td>False</td>\n",
       "      <td>False</td>\n",
       "      <td>False</td>\n",
       "      <td>True</td>\n",
       "      <td>False</td>\n",
       "    </tr>\n",
       "    <tr>\n",
       "      <th>889</th>\n",
       "      <td>False</td>\n",
       "      <td>False</td>\n",
       "      <td>False</td>\n",
       "      <td>False</td>\n",
       "      <td>False</td>\n",
       "      <td>False</td>\n",
       "      <td>False</td>\n",
       "      <td>False</td>\n",
       "      <td>False</td>\n",
       "      <td>False</td>\n",
       "      <td>False</td>\n",
       "      <td>False</td>\n",
       "    </tr>\n",
       "    <tr>\n",
       "      <th>890</th>\n",
       "      <td>False</td>\n",
       "      <td>False</td>\n",
       "      <td>False</td>\n",
       "      <td>False</td>\n",
       "      <td>False</td>\n",
       "      <td>False</td>\n",
       "      <td>False</td>\n",
       "      <td>False</td>\n",
       "      <td>False</td>\n",
       "      <td>False</td>\n",
       "      <td>True</td>\n",
       "      <td>False</td>\n",
       "    </tr>\n",
       "  </tbody>\n",
       "</table>\n",
       "<p>891 rows × 12 columns</p>\n",
       "</div>"
      ],
      "text/plain": [
       "     PassengerId  Survived  Pclass   Name    Sex    Age  SibSp  Parch  Ticket  \\\n",
       "0          False     False   False  False  False  False  False  False   False   \n",
       "1          False     False   False  False  False  False  False  False   False   \n",
       "2          False     False   False  False  False  False  False  False   False   \n",
       "3          False     False   False  False  False  False  False  False   False   \n",
       "4          False     False   False  False  False  False  False  False   False   \n",
       "..           ...       ...     ...    ...    ...    ...    ...    ...     ...   \n",
       "886        False     False   False  False  False  False  False  False   False   \n",
       "887        False     False   False  False  False  False  False  False   False   \n",
       "888        False     False   False  False  False   True  False  False   False   \n",
       "889        False     False   False  False  False  False  False  False   False   \n",
       "890        False     False   False  False  False  False  False  False   False   \n",
       "\n",
       "      Fare  Cabin  Embarked  \n",
       "0    False   True     False  \n",
       "1    False  False     False  \n",
       "2    False   True     False  \n",
       "3    False  False     False  \n",
       "4    False   True     False  \n",
       "..     ...    ...       ...  \n",
       "886  False   True     False  \n",
       "887  False  False     False  \n",
       "888  False   True     False  \n",
       "889  False  False     False  \n",
       "890  False   True     False  \n",
       "\n",
       "[891 rows x 12 columns]"
      ]
     },
     "execution_count": 6,
     "metadata": {},
     "output_type": "execute_result"
    }
   ],
   "source": [
    "titanic.isna()      # True 부분이 비어있는 칸"
   ]
  },
  {
   "cell_type": "markdown",
   "metadata": {
    "colab_type": "text",
    "id": "dpy-_AGF_RMl"
   },
   "source": [
    "> `isna().any()` 함수를 이용하여 좀 더 쉽게 한눈에 알아볼 수 있습니다."
   ]
  },
  {
   "cell_type": "code",
   "execution_count": 7,
   "metadata": {
    "colab": {
     "base_uri": "https://localhost:8080/",
     "height": 221
    },
    "colab_type": "code",
    "executionInfo": {
     "elapsed": 1529,
     "status": "ok",
     "timestamp": 1590903968610,
     "user": {
      "displayName": "KANG HEE LEE",
      "photoUrl": "https://lh6.googleusercontent.com/-Tby0yH9KKqU/AAAAAAAAAAI/AAAAAAAAAKo/QINwPqwB8Hw/s64/photo.jpg",
      "userId": "07677907353848967045"
     },
     "user_tz": -540
    },
    "id": "1Qfkh_lV-k1Z",
    "outputId": "ee557415-20b4-4338-afb9-b8537c29ea6d"
   },
   "outputs": [
    {
     "data": {
      "text/plain": [
       "PassengerId    False\n",
       "Survived       False\n",
       "Pclass         False\n",
       "Name           False\n",
       "Sex            False\n",
       "Age             True\n",
       "SibSp          False\n",
       "Parch          False\n",
       "Ticket         False\n",
       "Fare           False\n",
       "Cabin           True\n",
       "Embarked        True\n",
       "dtype: bool"
      ]
     },
     "execution_count": 7,
     "metadata": {},
     "output_type": "execute_result"
    }
   ],
   "source": [
    "titanic.isna().any()    # 빈 칸이 있을 경우 'True'라고 표시"
   ]
  },
  {
   "cell_type": "markdown",
   "metadata": {
    "colab_type": "text",
    "id": "53wHFhwA_avI"
   },
   "source": [
    "> `isna().sum()` 함수를 이용하여 몇 개가 na 인지 볼 수 있습니다."
   ]
  },
  {
   "cell_type": "code",
   "execution_count": 11,
   "metadata": {},
   "outputs": [
    {
     "data": {
      "text/plain": [
       "(891, 12)"
      ]
     },
     "execution_count": 11,
     "metadata": {},
     "output_type": "execute_result"
    }
   ],
   "source": [
    "titanic.shape"
   ]
  },
  {
   "cell_type": "code",
   "execution_count": 8,
   "metadata": {
    "colab": {
     "base_uri": "https://localhost:8080/",
     "height": 221
    },
    "colab_type": "code",
    "executionInfo": {
     "elapsed": 1518,
     "status": "ok",
     "timestamp": 1590903968610,
     "user": {
      "displayName": "KANG HEE LEE",
      "photoUrl": "https://lh6.googleusercontent.com/-Tby0yH9KKqU/AAAAAAAAAAI/AAAAAAAAAKo/QINwPqwB8Hw/s64/photo.jpg",
      "userId": "07677907353848967045"
     },
     "user_tz": -540
    },
    "id": "RyDIlJsY_eX5",
    "outputId": "06fa4548-17cd-4703-8c8d-d06b49ac8395"
   },
   "outputs": [
    {
     "data": {
      "text/plain": [
       "PassengerId      0\n",
       "Survived         0\n",
       "Pclass           0\n",
       "Name             0\n",
       "Sex              0\n",
       "Age            177\n",
       "SibSp            0\n",
       "Parch            0\n",
       "Ticket           0\n",
       "Fare             0\n",
       "Cabin          687\n",
       "Embarked         2\n",
       "dtype: int64"
      ]
     },
     "execution_count": 8,
     "metadata": {},
     "output_type": "execute_result"
    }
   ],
   "source": [
    "titanic.isna().sum()    "
   ]
  },
  {
   "cell_type": "markdown",
   "metadata": {
    "colab_type": "text",
    "id": "qemK-R9v-kVb"
   },
   "source": [
    "age, cabin, embarked 는 비어있는 값이 있는 것을 확인하였습니다.  \n",
    "이중 age 는 177 개, cabin 은 무려 687개가 없기 때문에 대책이 필요한 것을 알 수 있습니다. "
   ]
  },
  {
   "cell_type": "markdown",
   "metadata": {
    "colab_type": "text",
    "id": "lmD2MrEh-Xb1"
   },
   "source": [
    "#### 데이터의 분포는 어떻게 되나요?\n",
    "\n",
    "본격적으로 데이터 분석에 들어가기 전에, \n",
    "pandas 의 간단한 기능을 이용하여 전체적인 데이터의 분포를 확인하겠습니다.\n"
   ]
  },
  {
   "cell_type": "markdown",
   "metadata": {
    "colab_type": "text",
    "id": "-WpRfCEIA4xy"
   },
   "source": [
    "##### **numerical 데이터**\n",
    "\n",
    "`describe()` 함수를 이용합니다."
   ]
  },
  {
   "cell_type": "code",
   "execution_count": 12,
   "metadata": {
    "colab": {
     "base_uri": "https://localhost:8080/",
     "height": 297
    },
    "colab_type": "code",
    "executionInfo": {
     "elapsed": 1789,
     "status": "ok",
     "timestamp": 1590903968891,
     "user": {
      "displayName": "KANG HEE LEE",
      "photoUrl": "https://lh6.googleusercontent.com/-Tby0yH9KKqU/AAAAAAAAAAI/AAAAAAAAAKo/QINwPqwB8Hw/s64/photo.jpg",
      "userId": "07677907353848967045"
     },
     "user_tz": -540
    },
    "id": "X3sg-87r92Aq",
    "outputId": "859ab4d8-7c22-4e32-ced6-41f45d0519a2"
   },
   "outputs": [
    {
     "data": {
      "text/html": [
       "<div>\n",
       "<style scoped>\n",
       "    .dataframe tbody tr th:only-of-type {\n",
       "        vertical-align: middle;\n",
       "    }\n",
       "\n",
       "    .dataframe tbody tr th {\n",
       "        vertical-align: top;\n",
       "    }\n",
       "\n",
       "    .dataframe thead th {\n",
       "        text-align: right;\n",
       "    }\n",
       "</style>\n",
       "<table border=\"1\" class=\"dataframe\">\n",
       "  <thead>\n",
       "    <tr style=\"text-align: right;\">\n",
       "      <th></th>\n",
       "      <th>PassengerId</th>\n",
       "      <th>Survived</th>\n",
       "      <th>Pclass</th>\n",
       "      <th>Age</th>\n",
       "      <th>SibSp</th>\n",
       "      <th>Parch</th>\n",
       "      <th>Fare</th>\n",
       "    </tr>\n",
       "  </thead>\n",
       "  <tbody>\n",
       "    <tr>\n",
       "      <th>count</th>\n",
       "      <td>891.000000</td>\n",
       "      <td>891.000000</td>\n",
       "      <td>891.000000</td>\n",
       "      <td>714.000000</td>\n",
       "      <td>891.000000</td>\n",
       "      <td>891.000000</td>\n",
       "      <td>891.000000</td>\n",
       "    </tr>\n",
       "    <tr>\n",
       "      <th>mean</th>\n",
       "      <td>446.000000</td>\n",
       "      <td>0.383838</td>\n",
       "      <td>2.308642</td>\n",
       "      <td>29.699118</td>\n",
       "      <td>0.523008</td>\n",
       "      <td>0.381594</td>\n",
       "      <td>32.204208</td>\n",
       "    </tr>\n",
       "    <tr>\n",
       "      <th>std</th>\n",
       "      <td>257.353842</td>\n",
       "      <td>0.486592</td>\n",
       "      <td>0.836071</td>\n",
       "      <td>14.526497</td>\n",
       "      <td>1.102743</td>\n",
       "      <td>0.806057</td>\n",
       "      <td>49.693429</td>\n",
       "    </tr>\n",
       "    <tr>\n",
       "      <th>min</th>\n",
       "      <td>1.000000</td>\n",
       "      <td>0.000000</td>\n",
       "      <td>1.000000</td>\n",
       "      <td>0.420000</td>\n",
       "      <td>0.000000</td>\n",
       "      <td>0.000000</td>\n",
       "      <td>0.000000</td>\n",
       "    </tr>\n",
       "    <tr>\n",
       "      <th>25%</th>\n",
       "      <td>223.500000</td>\n",
       "      <td>0.000000</td>\n",
       "      <td>2.000000</td>\n",
       "      <td>20.125000</td>\n",
       "      <td>0.000000</td>\n",
       "      <td>0.000000</td>\n",
       "      <td>7.910400</td>\n",
       "    </tr>\n",
       "    <tr>\n",
       "      <th>50%</th>\n",
       "      <td>446.000000</td>\n",
       "      <td>0.000000</td>\n",
       "      <td>3.000000</td>\n",
       "      <td>28.000000</td>\n",
       "      <td>0.000000</td>\n",
       "      <td>0.000000</td>\n",
       "      <td>14.454200</td>\n",
       "    </tr>\n",
       "    <tr>\n",
       "      <th>75%</th>\n",
       "      <td>668.500000</td>\n",
       "      <td>1.000000</td>\n",
       "      <td>3.000000</td>\n",
       "      <td>38.000000</td>\n",
       "      <td>1.000000</td>\n",
       "      <td>0.000000</td>\n",
       "      <td>31.000000</td>\n",
       "    </tr>\n",
       "    <tr>\n",
       "      <th>max</th>\n",
       "      <td>891.000000</td>\n",
       "      <td>1.000000</td>\n",
       "      <td>3.000000</td>\n",
       "      <td>80.000000</td>\n",
       "      <td>8.000000</td>\n",
       "      <td>6.000000</td>\n",
       "      <td>512.329200</td>\n",
       "    </tr>\n",
       "  </tbody>\n",
       "</table>\n",
       "</div>"
      ],
      "text/plain": [
       "       PassengerId    Survived      Pclass         Age       SibSp  \\\n",
       "count   891.000000  891.000000  891.000000  714.000000  891.000000   \n",
       "mean    446.000000    0.383838    2.308642   29.699118    0.523008   \n",
       "std     257.353842    0.486592    0.836071   14.526497    1.102743   \n",
       "min       1.000000    0.000000    1.000000    0.420000    0.000000   \n",
       "25%     223.500000    0.000000    2.000000   20.125000    0.000000   \n",
       "50%     446.000000    0.000000    3.000000   28.000000    0.000000   \n",
       "75%     668.500000    1.000000    3.000000   38.000000    1.000000   \n",
       "max     891.000000    1.000000    3.000000   80.000000    8.000000   \n",
       "\n",
       "            Parch        Fare  \n",
       "count  891.000000  891.000000  \n",
       "mean     0.381594   32.204208  \n",
       "std      0.806057   49.693429  \n",
       "min      0.000000    0.000000  \n",
       "25%      0.000000    7.910400  \n",
       "50%      0.000000   14.454200  \n",
       "75%      0.000000   31.000000  \n",
       "max      6.000000  512.329200  "
      ]
     },
     "execution_count": 12,
     "metadata": {},
     "output_type": "execute_result"
    }
   ],
   "source": [
    "titanic.describe()"
   ]
  },
  {
   "cell_type": "markdown",
   "metadata": {
    "colab_type": "text",
    "id": "x2nTIfVLA_P0"
   },
   "source": [
    "🔍 위 표를 해석해 보기 \n",
    "- **count** 에 age를 제외하고 모두 891개의 데이터가 정상적으로 있다는 것을 알 수 있습니다.\n",
    "\n",
    "- `surivived` 의 평균값(**mean**) 이 0.38 임으로 대략 38퍼센트의 승객만이 생존한 것을 알 수 있습니다.\n",
    "\n",
    "- `pclass` 는 50% 구간까지가 3임으로 과반수의 승객들이 3등석에 있었습니다.\n",
    "\n",
    "- `age` 의 평균은 29, 추후 분석을 더 하겠지만 생각보다 승객의 나이가 젊습니다. \n",
    "\n",
    "- `sibsip`, `parch`, `fare` 는 이 표만 봐서는 잘 알 수 없습니다. \n"
   ]
  },
  {
   "cell_type": "markdown",
   "metadata": {
    "colab_type": "text",
    "id": "uz17G4MQBrSk"
   },
   "source": [
    "##### **categorical 데이터**\n",
    "\n",
    "`describe(include=['O'])` 를 이용하면 categorical data 도 분석해줍니다.\n",
    "\n",
    "🤣숫자 0 아닌 대문자 알파벳 O 입니다 🤣 "
   ]
  },
  {
   "cell_type": "code",
   "execution_count": 13,
   "metadata": {
    "colab": {
     "base_uri": "https://localhost:8080/",
     "height": 173
    },
    "colab_type": "code",
    "executionInfo": {
     "elapsed": 1778,
     "status": "ok",
     "timestamp": 1590903968891,
     "user": {
      "displayName": "KANG HEE LEE",
      "photoUrl": "https://lh6.googleusercontent.com/-Tby0yH9KKqU/AAAAAAAAAAI/AAAAAAAAAKo/QINwPqwB8Hw/s64/photo.jpg",
      "userId": "07677907353848967045"
     },
     "user_tz": -540
    },
    "id": "Vf4Nd42DBwbB",
    "outputId": "ac38d2b9-265f-430f-9a3e-8e4ce486046a"
   },
   "outputs": [
    {
     "data": {
      "text/html": [
       "<div>\n",
       "<style scoped>\n",
       "    .dataframe tbody tr th:only-of-type {\n",
       "        vertical-align: middle;\n",
       "    }\n",
       "\n",
       "    .dataframe tbody tr th {\n",
       "        vertical-align: top;\n",
       "    }\n",
       "\n",
       "    .dataframe thead th {\n",
       "        text-align: right;\n",
       "    }\n",
       "</style>\n",
       "<table border=\"1\" class=\"dataframe\">\n",
       "  <thead>\n",
       "    <tr style=\"text-align: right;\">\n",
       "      <th></th>\n",
       "      <th>Name</th>\n",
       "      <th>Sex</th>\n",
       "      <th>Ticket</th>\n",
       "      <th>Cabin</th>\n",
       "      <th>Embarked</th>\n",
       "    </tr>\n",
       "  </thead>\n",
       "  <tbody>\n",
       "    <tr>\n",
       "      <th>count</th>\n",
       "      <td>891</td>\n",
       "      <td>891</td>\n",
       "      <td>891</td>\n",
       "      <td>204</td>\n",
       "      <td>889</td>\n",
       "    </tr>\n",
       "    <tr>\n",
       "      <th>unique</th>\n",
       "      <td>891</td>\n",
       "      <td>2</td>\n",
       "      <td>681</td>\n",
       "      <td>147</td>\n",
       "      <td>3</td>\n",
       "    </tr>\n",
       "    <tr>\n",
       "      <th>top</th>\n",
       "      <td>Braund, Mr. Owen Harris</td>\n",
       "      <td>male</td>\n",
       "      <td>347082</td>\n",
       "      <td>B96 B98</td>\n",
       "      <td>S</td>\n",
       "    </tr>\n",
       "    <tr>\n",
       "      <th>freq</th>\n",
       "      <td>1</td>\n",
       "      <td>577</td>\n",
       "      <td>7</td>\n",
       "      <td>4</td>\n",
       "      <td>644</td>\n",
       "    </tr>\n",
       "  </tbody>\n",
       "</table>\n",
       "</div>"
      ],
      "text/plain": [
       "                           Name   Sex  Ticket    Cabin Embarked\n",
       "count                       891   891     891      204      889\n",
       "unique                      891     2     681      147        3\n",
       "top     Braund, Mr. Owen Harris  male  347082  B96 B98        S\n",
       "freq                          1   577       7        4      644"
      ]
     },
     "execution_count": 13,
     "metadata": {},
     "output_type": "execute_result"
    }
   ],
   "source": [
    "titanic.describe(include=['O'])"
   ]
  },
  {
   "cell_type": "markdown",
   "metadata": {
    "colab_type": "text",
    "id": "BztYsDAaB30A"
   },
   "source": [
    "🔍 위 표를 해석 해보기 \n",
    "- `count` : 해당 열에서 NaN을 제외한 데이터의 개수\n",
    "\n",
    "- `unique` : 해당 열에서 중복되지 않는 값의 개수\n",
    "\n",
    "- `top` : 해당 열에서 가장 많이 중복되는 데이터\n",
    "\n",
    "- `freq` : 가장 많이 중복되는 데이터의 개수\n",
    "\n",
    "- `sex` 중 `male`이 891 중 577을 차지하고 있습니다.\n",
    "\n",
    "- `ticket` 은 210(891-681) 개의 중복값이 있는 것을 확인할 수 있습니다.\n",
    "\n",
    "- `cabin` 도 중복값이 있네요, 같은 방을 쓴 사람들이 있었나 봅니다.\n",
    "\n",
    "데이터의 형태와 분포를 살펴보는 것이 처음이시라면 쉽지 않게 느껴지실 수 있는데요.  \n",
    "이렇게 가설을 세우기 전, **데이터를 분석**해봐야 **유의미한 가설을 세우고 검증**을 할 수 있어집니다.  \n",
    "그리고 다양한 데이터를 분석해보며 연습한다면 훌륭한 데이터 사이언티스트가 되실 수 있을 것입니다!!"
   ]
  },
  {
   "cell_type": "markdown",
   "metadata": {
    "colab_type": "text",
    "id": "a3n96le6Cmsb"
   },
   "source": [
    "## 📌Step2. 가설 검증하기\n",
    "\n",
    "타이타닉의 장면들을 기억하시나요?  \n",
    "끝까지 연주하는 악단, 두 손을 잡고 눈을 감는 노부부... 여러 슬픈 명장면들이 있었지만,  \n",
    "이러한 감정을 배제하고 생존에 관한 사실만 기억해보도록 하겠습니다 😭😭  \n",
    "\n",
    "> 어떤 사람이 생존에 유리했을까요?   \n",
    "- [가설1] 구명정에는 여자와 아이가 우선으로 탑승했습니다.  \n",
    "- [가설2] 1등석의 승객들은 비교적 탈출이 용이했습니다.  \n",
    "\n",
    "이 두 가지 가설을 바탕으로, 데이터를 좀 더 깊게 살펴보며 어떤 feature 를 기계학습에 사용할 것인지 판단할 것입니다. "
   ]
  },
  {
   "cell_type": "markdown",
   "metadata": {
    "colab_type": "text",
    "id": "Vmob0QZNWjOL"
   },
   "source": [
    "> 먼저 `sex` 와 `survived` 의 관계를 보겠습니다. "
   ]
  },
  {
   "cell_type": "code",
   "execution_count": 14,
   "metadata": {
    "colab": {
     "base_uri": "https://localhost:8080/",
     "height": 302
    },
    "colab_type": "code",
    "executionInfo": {
     "elapsed": 2087,
     "status": "ok",
     "timestamp": 1590903969211,
     "user": {
      "displayName": "KANG HEE LEE",
      "photoUrl": "https://lh6.googleusercontent.com/-Tby0yH9KKqU/AAAAAAAAAAI/AAAAAAAAAKo/QINwPqwB8Hw/s64/photo.jpg",
      "userId": "07677907353848967045"
     },
     "user_tz": -540
    },
    "id": "zhLtqgaHNUDh",
    "outputId": "07d9b806-76af-4f3b-86c7-dc78b2cbacb2",
    "scrolled": true
   },
   "outputs": [
    {
     "data": {
      "text/plain": [
       "<AxesSubplot:xlabel='Survived', ylabel='count'>"
      ]
     },
     "execution_count": 14,
     "metadata": {},
     "output_type": "execute_result"
    },
    {
     "data": {
      "image/png": "[encoded data removed]",
      "text/plain": [
       "<Figure size 432x288 with 1 Axes>"
      ]
     },
     "metadata": {},
     "output_type": "display_data"
    }
   ],
   "source": [
    "sns.set(style=\"darkgrid\")\n",
    "sns.countplot(x='Survived', hue='Sex', data=titanic)"
   ]
  },
  {
   "cell_type": "markdown",
   "metadata": {
    "colab_type": "text",
    "id": "RXOl-0UCaShB"
   },
   "source": [
    "> ✔ 여자 승객이 더 높은 생존율을 가진 것을 확인할 수 있습니다. "
   ]
  },
  {
   "cell_type": "markdown",
   "metadata": {
    "colab_type": "text",
    "id": "exABBTPzajq3"
   },
   "source": [
    ">이번에는 가설1인 아이들의 생존율을 확인해보겠습니다.  \n",
    "(빨강색이 생존자 데이터)"
   ]
  },
  {
   "cell_type": "code",
   "execution_count": 15,
   "metadata": {
    "colab": {
     "base_uri": "https://localhost:8080/",
     "height": 302
    },
    "colab_type": "code",
    "executionInfo": {
     "elapsed": 2467,
     "status": "ok",
     "timestamp": 1590903969601,
     "user": {
      "displayName": "KANG HEE LEE",
      "photoUrl": "https://lh6.googleusercontent.com/-Tby0yH9KKqU/AAAAAAAAAAI/AAAAAAAAAKo/QINwPqwB8Hw/s64/photo.jpg",
      "userId": "07677907353848967045"
     },
     "user_tz": -540
    },
    "id": "2hbSdZHxZAHh",
    "outputId": "3c4682f9-5d5b-4a96-9573-2a5142ddc801"
   },
   "outputs": [
    {
     "name": "stderr",
     "output_type": "stream",
     "text": [
      "C:\\ProgramData\\Anaconda3\\envs\\tensorflow\\lib\\site-packages\\seaborn\\distributions.py:2619: FutureWarning: `distplot` is a deprecated function and will be removed in a future version. Please adapt your code to use either `displot` (a figure-level function with similar flexibility) or `histplot` (an axes-level function for histograms).\n",
      "  warnings.warn(msg, FutureWarning)\n"
     ]
    },
    {
     "data": {
      "text/plain": [
       "<AxesSubplot:xlabel='Age'>"
      ]
     },
     "execution_count": 15,
     "metadata": {},
     "output_type": "execute_result"
    },
    {
     "data": {
      "image/png": "[encoded data removed]",
      "text/plain": [
       "<Figure size 432x288 with 1 Axes>"
      ]
     },
     "metadata": {},
     "output_type": "display_data"
    }
   ],
   "source": [
    "sns.distplot(titanic.Age.loc[titanic['Survived']==0],kde=False)\n",
    "sns.distplot(titanic.Age.loc[titanic['Survived']==1],kde=False)"
   ]
  },
  {
   "cell_type": "markdown",
   "metadata": {
    "colab_type": "text",
    "id": "QUnOzjCJc2s3"
   },
   "source": [
    "> `FacetGrid` 를 사용하면 여러 개의 그래프를 손쉽게 만들 수 있습니다 (위 그래프와 같음)"
   ]
  },
  {
   "cell_type": "code",
   "execution_count": 16,
   "metadata": {
    "colab": {
     "base_uri": "https://localhost:8080/",
     "height": 238
    },
    "colab_type": "code",
    "executionInfo": {
     "elapsed": 3125,
     "status": "ok",
     "timestamp": 1590903970270,
     "user": {
      "displayName": "KANG HEE LEE",
      "photoUrl": "https://lh6.googleusercontent.com/-Tby0yH9KKqU/AAAAAAAAAAI/AAAAAAAAAKo/QINwPqwB8Hw/s64/photo.jpg",
      "userId": "07677907353848967045"
     },
     "user_tz": -540
    },
    "id": "t4UY8o2ibh5d",
    "outputId": "bd2e4a43-15eb-425e-ead6-1f974481582e"
   },
   "outputs": [
    {
     "name": "stderr",
     "output_type": "stream",
     "text": [
      "C:\\ProgramData\\Anaconda3\\envs\\tensorflow\\lib\\site-packages\\seaborn\\distributions.py:2619: FutureWarning: `distplot` is a deprecated function and will be removed in a future version. Please adapt your code to use either `displot` (a figure-level function with similar flexibility) or `histplot` (an axes-level function for histograms).\n",
      "  warnings.warn(msg, FutureWarning)\n",
      "C:\\ProgramData\\Anaconda3\\envs\\tensorflow\\lib\\site-packages\\seaborn\\distributions.py:2619: FutureWarning: `distplot` is a deprecated function and will be removed in a future version. Please adapt your code to use either `displot` (a figure-level function with similar flexibility) or `histplot` (an axes-level function for histograms).\n",
      "  warnings.warn(msg, FutureWarning)\n"
     ]
    },
    {
     "data": {
      "text/plain": [
       "<seaborn.axisgrid.FacetGrid at 0x22279fdce80>"
      ]
     },
     "execution_count": 16,
     "metadata": {},
     "output_type": "execute_result"
    },
    {
     "data": {
      "image/png": "[encoded data removed]",
      "text/plain": [
       "<Figure size 432x216 with 2 Axes>"
      ]
     },
     "metadata": {},
     "output_type": "display_data"
    }
   ],
   "source": [
    "grid = sns.FacetGrid(titanic, col='Survived')\n",
    "grid.map(sns.distplot,'Age', kde=False)"
   ]
  },
  {
   "cell_type": "markdown",
   "metadata": {
    "colab_type": "text",
    "id": "rewN6sWFaoYO"
   },
   "source": [
    "10세 미만의 아이들은 생존율이 매우 높은 것을 확인할 수 있습니다. \n",
    "또한 80세 이상의 노인도 생존율이 높습니다. \n",
    "\n",
    "대부분의 승객은 15 ~ 35세 사이인 것을 확인 할 수 있습니다. "
   ]
  },
  {
   "cell_type": "markdown",
   "metadata": {
    "colab_type": "text",
    "id": "N7kCfAAmc-cL"
   },
   "source": [
    "> 이번에는 `pclass` 와 `survived` 의 관계를 분석해 보겠습니다. "
   ]
  },
  {
   "cell_type": "code",
   "execution_count": 17,
   "metadata": {
    "colab": {
     "base_uri": "https://localhost:8080/",
     "height": 302
    },
    "colab_type": "code",
    "executionInfo": {
     "elapsed": 3518,
     "status": "ok",
     "timestamp": 1590903970674,
     "user": {
      "displayName": "KANG HEE LEE",
      "photoUrl": "https://lh6.googleusercontent.com/-Tby0yH9KKqU/AAAAAAAAAAI/AAAAAAAAAKo/QINwPqwB8Hw/s64/photo.jpg",
      "userId": "07677907353848967045"
     },
     "user_tz": -540
    },
    "id": "I1BcvcZQc86l",
    "outputId": "826a5d1c-94e6-48df-8eda-dd26a8022950"
   },
   "outputs": [
    {
     "name": "stderr",
     "output_type": "stream",
     "text": [
      "C:\\ProgramData\\Anaconda3\\envs\\tensorflow\\lib\\site-packages\\seaborn\\_decorators.py:36: FutureWarning: Pass the following variable as a keyword arg: x. From version 0.12, the only valid positional argument will be `data`, and passing other arguments without an explicit keyword will result in an error or misinterpretation.\n",
      "  warnings.warn(\n"
     ]
    },
    {
     "data": {
      "text/plain": [
       "<AxesSubplot:xlabel='Survived', ylabel='count'>"
      ]
     },
     "execution_count": 17,
     "metadata": {},
     "output_type": "execute_result"
    },
    {
     "data": {
      "image/png": "[encoded data removed]",
      "text/plain": [
       "<Figure size 432x288 with 1 Axes>"
      ]
     },
     "metadata": {},
     "output_type": "display_data"
    }
   ],
   "source": [
    "sns.countplot(titanic.Survived, hue=titanic.Pclass)    # sns(우선되는 기준 열, hue = 비교하려는 열) "
   ]
  },
  {
   "cell_type": "markdown",
   "metadata": {
    "colab_type": "text",
    "id": "h3IFQ7E_eK1v"
   },
   "source": [
    "나이나 성별과는 관련이 있을까요?"
   ]
  },
  {
   "cell_type": "code",
   "execution_count": 18,
   "metadata": {
    "colab": {
     "base_uri": "https://localhost:8080/",
     "height": 653
    },
    "colab_type": "code",
    "executionInfo": {
     "elapsed": 5653,
     "status": "ok",
     "timestamp": 1590903972818,
     "user": {
      "displayName": "KANG HEE LEE",
      "photoUrl": "https://lh6.googleusercontent.com/-Tby0yH9KKqU/AAAAAAAAAAI/AAAAAAAAAKo/QINwPqwB8Hw/s64/photo.jpg",
      "userId": "07677907353848967045"
     },
     "user_tz": -540
    },
    "id": "cdqSQcvhdlqm",
    "outputId": "1fa4bf8c-6733-4d16-b4b8-e5eb50f0899b"
   },
   "outputs": [
    {
     "name": "stderr",
     "output_type": "stream",
     "text": [
      "C:\\ProgramData\\Anaconda3\\envs\\tensorflow\\lib\\site-packages\\seaborn\\distributions.py:2619: FutureWarning: `distplot` is a deprecated function and will be removed in a future version. Please adapt your code to use either `displot` (a figure-level function with similar flexibility) or `histplot` (an axes-level function for histograms).\n",
      "  warnings.warn(msg, FutureWarning)\n",
      "C:\\ProgramData\\Anaconda3\\envs\\tensorflow\\lib\\site-packages\\seaborn\\distributions.py:2619: FutureWarning: `distplot` is a deprecated function and will be removed in a future version. Please adapt your code to use either `displot` (a figure-level function with similar flexibility) or `histplot` (an axes-level function for histograms).\n",
      "  warnings.warn(msg, FutureWarning)\n",
      "C:\\ProgramData\\Anaconda3\\envs\\tensorflow\\lib\\site-packages\\seaborn\\distributions.py:2619: FutureWarning: `distplot` is a deprecated function and will be removed in a future version. Please adapt your code to use either `displot` (a figure-level function with similar flexibility) or `histplot` (an axes-level function for histograms).\n",
      "  warnings.warn(msg, FutureWarning)\n",
      "C:\\ProgramData\\Anaconda3\\envs\\tensorflow\\lib\\site-packages\\seaborn\\distributions.py:2619: FutureWarning: `distplot` is a deprecated function and will be removed in a future version. Please adapt your code to use either `displot` (a figure-level function with similar flexibility) or `histplot` (an axes-level function for histograms).\n",
      "  warnings.warn(msg, FutureWarning)\n",
      "C:\\ProgramData\\Anaconda3\\envs\\tensorflow\\lib\\site-packages\\seaborn\\distributions.py:2619: FutureWarning: `distplot` is a deprecated function and will be removed in a future version. Please adapt your code to use either `displot` (a figure-level function with similar flexibility) or `histplot` (an axes-level function for histograms).\n",
      "  warnings.warn(msg, FutureWarning)\n",
      "C:\\ProgramData\\Anaconda3\\envs\\tensorflow\\lib\\site-packages\\seaborn\\distributions.py:2619: FutureWarning: `distplot` is a deprecated function and will be removed in a future version. Please adapt your code to use either `displot` (a figure-level function with similar flexibility) or `histplot` (an axes-level function for histograms).\n",
      "  warnings.warn(msg, FutureWarning)\n"
     ]
    },
    {
     "data": {
      "image/png": "[encoded data removed]",
      "text/plain": [
       "<Figure size 432x648 with 6 Axes>"
      ]
     },
     "metadata": {},
     "output_type": "display_data"
    }
   ],
   "source": [
    "grid = sns.FacetGrid(titanic,col='Survived',row='Pclass')\n",
    "grid.map(sns.distplot,'Age',kde=False);"
   ]
  },
  {
   "cell_type": "code",
   "execution_count": 19,
   "metadata": {
    "colab": {
     "base_uri": "https://localhost:8080/",
     "height": 492
    },
    "colab_type": "code",
    "executionInfo": {
     "elapsed": 1662,
     "status": "ok",
     "timestamp": 1591257438890,
     "user": {
      "displayName": "KANG HEE LEE",
      "photoUrl": "https://lh6.googleusercontent.com/-Tby0yH9KKqU/AAAAAAAAAAI/AAAAAAAAAKo/QINwPqwB8Hw/s64/photo.jpg",
      "userId": "07677907353848967045"
     },
     "user_tz": -540
    },
    "id": "PfOdiCR4emgO",
    "outputId": "40014b7d-d71a-49bc-d106-e044e80af697"
   },
   "outputs": [
    {
     "name": "stderr",
     "output_type": "stream",
     "text": [
      "C:\\ProgramData\\Anaconda3\\envs\\tensorflow\\lib\\site-packages\\seaborn\\axisgrid.py:670: UserWarning: Using the countplot function without specifying `order` is likely to produce an incorrect plot.\n",
      "  warnings.warn(warning)\n"
     ]
    },
    {
     "data": {
      "text/plain": [
       "<seaborn.axisgrid.FacetGrid at 0x2227a20a0d0>"
      ]
     },
     "execution_count": 19,
     "metadata": {},
     "output_type": "execute_result"
    },
    {
     "data": {
      "image/png": "[encoded data removed]",
      "text/plain": [
       "<Figure size 656.8x432 with 6 Axes>"
      ]
     },
     "metadata": {},
     "output_type": "display_data"
    }
   ],
   "source": [
    "grid = sns.FacetGrid(titanic, col='Pclass', row='Sex');\n",
    "grid.map(sns.countplot,'Survived');\n",
    "grid.add_legend()"
   ]
  },
  {
   "cell_type": "markdown",
   "metadata": {
    "colab_type": "text",
    "id": "p1WEYHExfGZO"
   },
   "source": [
    "[가설1] 여성 승객들은 생존율이 높은것을 확인할 수 있습니다.  \n",
    "[가설2] 객실 등급이 높을 수록 생존율이 높은것을 확인 할 수 있습니다.   "
   ]
  },
  {
   "cell_type": "markdown",
   "metadata": {
    "colab_type": "text",
    "id": "x-BtUU0Fhljz"
   },
   "source": [
    "## 📌Step.3 Missing data\n",
    "\n",
    "`ticket` 의 값은 너무 다양하고 사용하기 힘들며 `cabin` 은 비어 있는 값이 많고, \n",
    "\n",
    "객실의 대략적 위치는 `pclass` 로 짐작할 수 있기 때문에 이 두 개의 값을 drop 하려고 합니다.\n",
    "> `drop.([제거하려는 열 이름], axis = 행-0 열-1, inplace = True)`\n"
   ]
  },
  {
   "cell_type": "code",
   "execution_count": 20,
   "metadata": {
    "colab": {
     "base_uri": "https://localhost:8080/",
     "height": 221
    },
    "colab_type": "code",
    "executionInfo": {
     "elapsed": 6352,
     "status": "ok",
     "timestamp": 1590903973537,
     "user": {
      "displayName": "KANG HEE LEE",
      "photoUrl": "https://lh6.googleusercontent.com/-Tby0yH9KKqU/AAAAAAAAAAI/AAAAAAAAAKo/QINwPqwB8Hw/s64/photo.jpg",
      "userId": "07677907353848967045"
     },
     "user_tz": -540
    },
    "id": "1vAccknSh6sp",
    "outputId": "7ef01581-b99c-4cfc-e184-21f69fc399e6"
   },
   "outputs": [
    {
     "data": {
      "text/plain": [
       "0             A/5 21171\n",
       "1              PC 17599\n",
       "2      STON/O2. 3101282\n",
       "3                113803\n",
       "4                373450\n",
       "             ...       \n",
       "886              211536\n",
       "887              112053\n",
       "888          W./C. 6607\n",
       "889              111369\n",
       "890              370376\n",
       "Name: Ticket, Length: 891, dtype: object"
      ]
     },
     "execution_count": 20,
     "metadata": {},
     "output_type": "execute_result"
    }
   ],
   "source": [
    "# ticket 데이터 마지막으로 확인\n",
    "titanic['Ticket']\n",
    "\n",
    "# A/5 21171 -> 21171/10 => 나머지"
   ]
  },
  {
   "cell_type": "code",
   "execution_count": 21,
   "metadata": {
    "colab": {
     "base_uri": "https://localhost:8080/",
     "height": 221
    },
    "colab_type": "code",
    "executionInfo": {
     "elapsed": 6344,
     "status": "ok",
     "timestamp": 1590903973538,
     "user": {
      "displayName": "KANG HEE LEE",
      "photoUrl": "https://lh6.googleusercontent.com/-Tby0yH9KKqU/AAAAAAAAAAI/AAAAAAAAAKo/QINwPqwB8Hw/s64/photo.jpg",
      "userId": "07677907353848967045"
     },
     "user_tz": -540
    },
    "id": "MXUaSg1Hh-ih",
    "outputId": "fdd24630-b627-4421-ca9e-2578d0703c5d"
   },
   "outputs": [
    {
     "data": {
      "text/plain": [
       "0       NaN\n",
       "1       C85\n",
       "2       NaN\n",
       "3      C123\n",
       "4       NaN\n",
       "       ... \n",
       "886     NaN\n",
       "887     B42\n",
       "888     NaN\n",
       "889    C148\n",
       "890     NaN\n",
       "Name: Cabin, Length: 891, dtype: object"
      ]
     },
     "execution_count": 21,
     "metadata": {},
     "output_type": "execute_result"
    }
   ],
   "source": [
    "# cabin 데이터 마지막으로 확인\n",
    "titanic['Cabin']"
   ]
  },
  {
   "cell_type": "code",
   "execution_count": 22,
   "metadata": {
    "colab": {
     "base_uri": "https://localhost:8080/",
     "height": 419
    },
    "colab_type": "code",
    "executionInfo": {
     "elapsed": 6998,
     "status": "ok",
     "timestamp": 1590903974203,
     "user": {
      "displayName": "KANG HEE LEE",
      "photoUrl": "https://lh6.googleusercontent.com/-Tby0yH9KKqU/AAAAAAAAAAI/AAAAAAAAAKo/QINwPqwB8Hw/s64/photo.jpg",
      "userId": "07677907353848967045"
     },
     "user_tz": -540
    },
    "id": "gDCPoBwbiX6V",
    "outputId": "4a6540e5-7780-47a7-8c7f-510e909f4055"
   },
   "outputs": [
    {
     "data": {
      "text/html": [
       "<div>\n",
       "<style scoped>\n",
       "    .dataframe tbody tr th:only-of-type {\n",
       "        vertical-align: middle;\n",
       "    }\n",
       "\n",
       "    .dataframe tbody tr th {\n",
       "        vertical-align: top;\n",
       "    }\n",
       "\n",
       "    .dataframe thead th {\n",
       "        text-align: right;\n",
       "    }\n",
       "</style>\n",
       "<table border=\"1\" class=\"dataframe\">\n",
       "  <thead>\n",
       "    <tr style=\"text-align: right;\">\n",
       "      <th></th>\n",
       "      <th>PassengerId</th>\n",
       "      <th>Survived</th>\n",
       "      <th>Pclass</th>\n",
       "      <th>Name</th>\n",
       "      <th>Sex</th>\n",
       "      <th>Age</th>\n",
       "      <th>SibSp</th>\n",
       "      <th>Parch</th>\n",
       "      <th>Fare</th>\n",
       "      <th>Embarked</th>\n",
       "    </tr>\n",
       "  </thead>\n",
       "  <tbody>\n",
       "    <tr>\n",
       "      <th>0</th>\n",
       "      <td>1</td>\n",
       "      <td>0</td>\n",
       "      <td>3</td>\n",
       "      <td>Braund, Mr. Owen Harris</td>\n",
       "      <td>male</td>\n",
       "      <td>22.0</td>\n",
       "      <td>1</td>\n",
       "      <td>0</td>\n",
       "      <td>7.2500</td>\n",
       "      <td>S</td>\n",
       "    </tr>\n",
       "    <tr>\n",
       "      <th>1</th>\n",
       "      <td>2</td>\n",
       "      <td>1</td>\n",
       "      <td>1</td>\n",
       "      <td>Cumings, Mrs. John Bradley (Florence Briggs Th...</td>\n",
       "      <td>female</td>\n",
       "      <td>38.0</td>\n",
       "      <td>1</td>\n",
       "      <td>0</td>\n",
       "      <td>71.2833</td>\n",
       "      <td>C</td>\n",
       "    </tr>\n",
       "    <tr>\n",
       "      <th>2</th>\n",
       "      <td>3</td>\n",
       "      <td>1</td>\n",
       "      <td>3</td>\n",
       "      <td>Heikkinen, Miss. Laina</td>\n",
       "      <td>female</td>\n",
       "      <td>26.0</td>\n",
       "      <td>0</td>\n",
       "      <td>0</td>\n",
       "      <td>7.9250</td>\n",
       "      <td>S</td>\n",
       "    </tr>\n",
       "    <tr>\n",
       "      <th>3</th>\n",
       "      <td>4</td>\n",
       "      <td>1</td>\n",
       "      <td>1</td>\n",
       "      <td>Futrelle, Mrs. Jacques Heath (Lily May Peel)</td>\n",
       "      <td>female</td>\n",
       "      <td>35.0</td>\n",
       "      <td>1</td>\n",
       "      <td>0</td>\n",
       "      <td>53.1000</td>\n",
       "      <td>S</td>\n",
       "    </tr>\n",
       "    <tr>\n",
       "      <th>4</th>\n",
       "      <td>5</td>\n",
       "      <td>0</td>\n",
       "      <td>3</td>\n",
       "      <td>Allen, Mr. William Henry</td>\n",
       "      <td>male</td>\n",
       "      <td>35.0</td>\n",
       "      <td>0</td>\n",
       "      <td>0</td>\n",
       "      <td>8.0500</td>\n",
       "      <td>S</td>\n",
       "    </tr>\n",
       "    <tr>\n",
       "      <th>...</th>\n",
       "      <td>...</td>\n",
       "      <td>...</td>\n",
       "      <td>...</td>\n",
       "      <td>...</td>\n",
       "      <td>...</td>\n",
       "      <td>...</td>\n",
       "      <td>...</td>\n",
       "      <td>...</td>\n",
       "      <td>...</td>\n",
       "      <td>...</td>\n",
       "    </tr>\n",
       "    <tr>\n",
       "      <th>886</th>\n",
       "      <td>887</td>\n",
       "      <td>0</td>\n",
       "      <td>2</td>\n",
       "      <td>Montvila, Rev. Juozas</td>\n",
       "      <td>male</td>\n",
       "      <td>27.0</td>\n",
       "      <td>0</td>\n",
       "      <td>0</td>\n",
       "      <td>13.0000</td>\n",
       "      <td>S</td>\n",
       "    </tr>\n",
       "    <tr>\n",
       "      <th>887</th>\n",
       "      <td>888</td>\n",
       "      <td>1</td>\n",
       "      <td>1</td>\n",
       "      <td>Graham, Miss. Margaret Edith</td>\n",
       "      <td>female</td>\n",
       "      <td>19.0</td>\n",
       "      <td>0</td>\n",
       "      <td>0</td>\n",
       "      <td>30.0000</td>\n",
       "      <td>S</td>\n",
       "    </tr>\n",
       "    <tr>\n",
       "      <th>888</th>\n",
       "      <td>889</td>\n",
       "      <td>0</td>\n",
       "      <td>3</td>\n",
       "      <td>Johnston, Miss. Catherine Helen \"Carrie\"</td>\n",
       "      <td>female</td>\n",
       "      <td>NaN</td>\n",
       "      <td>1</td>\n",
       "      <td>2</td>\n",
       "      <td>23.4500</td>\n",
       "      <td>S</td>\n",
       "    </tr>\n",
       "    <tr>\n",
       "      <th>889</th>\n",
       "      <td>890</td>\n",
       "      <td>1</td>\n",
       "      <td>1</td>\n",
       "      <td>Behr, Mr. Karl Howell</td>\n",
       "      <td>male</td>\n",
       "      <td>26.0</td>\n",
       "      <td>0</td>\n",
       "      <td>0</td>\n",
       "      <td>30.0000</td>\n",
       "      <td>C</td>\n",
       "    </tr>\n",
       "    <tr>\n",
       "      <th>890</th>\n",
       "      <td>891</td>\n",
       "      <td>0</td>\n",
       "      <td>3</td>\n",
       "      <td>Dooley, Mr. Patrick</td>\n",
       "      <td>male</td>\n",
       "      <td>32.0</td>\n",
       "      <td>0</td>\n",
       "      <td>0</td>\n",
       "      <td>7.7500</td>\n",
       "      <td>Q</td>\n",
       "    </tr>\n",
       "  </tbody>\n",
       "</table>\n",
       "<p>891 rows × 10 columns</p>\n",
       "</div>"
      ],
      "text/plain": [
       "     PassengerId  Survived  Pclass  \\\n",
       "0              1         0       3   \n",
       "1              2         1       1   \n",
       "2              3         1       3   \n",
       "3              4         1       1   \n",
       "4              5         0       3   \n",
       "..           ...       ...     ...   \n",
       "886          887         0       2   \n",
       "887          888         1       1   \n",
       "888          889         0       3   \n",
       "889          890         1       1   \n",
       "890          891         0       3   \n",
       "\n",
       "                                                  Name     Sex   Age  SibSp  \\\n",
       "0                              Braund, Mr. Owen Harris    male  22.0      1   \n",
       "1    Cumings, Mrs. John Bradley (Florence Briggs Th...  female  38.0      1   \n",
       "2                               Heikkinen, Miss. Laina  female  26.0      0   \n",
       "3         Futrelle, Mrs. Jacques Heath (Lily May Peel)  female  35.0      1   \n",
       "4                             Allen, Mr. William Henry    male  35.0      0   \n",
       "..                                                 ...     ...   ...    ...   \n",
       "886                              Montvila, Rev. Juozas    male  27.0      0   \n",
       "887                       Graham, Miss. Margaret Edith  female  19.0      0   \n",
       "888           Johnston, Miss. Catherine Helen \"Carrie\"  female   NaN      1   \n",
       "889                              Behr, Mr. Karl Howell    male  26.0      0   \n",
       "890                                Dooley, Mr. Patrick    male  32.0      0   \n",
       "\n",
       "     Parch     Fare Embarked  \n",
       "0        0   7.2500        S  \n",
       "1        0  71.2833        C  \n",
       "2        0   7.9250        S  \n",
       "3        0  53.1000        S  \n",
       "4        0   8.0500        S  \n",
       "..     ...      ...      ...  \n",
       "886      0  13.0000        S  \n",
       "887      0  30.0000        S  \n",
       "888      2  23.4500        S  \n",
       "889      0  30.0000        C  \n",
       "890      0   7.7500        Q  \n",
       "\n",
       "[891 rows x 10 columns]"
      ]
     },
     "execution_count": 22,
     "metadata": {},
     "output_type": "execute_result"
    }
   ],
   "source": [
    "titanic.drop(['Ticket', 'Cabin'],axis=1,inplace=True)    # 'inplace=True'를 해야만 실제 데이터셋에서 해당 열이 완전히 지워집니다\n",
    "titanic"
   ]
  },
  {
   "cell_type": "markdown",
   "metadata": {
    "colab_type": "text",
    "id": "Iygg_MpzP_Ta"
   },
   "source": [
    "### 🚁 Missing data 찾기  \n",
    "값이 없는 데이터의 경우, 판다스 데이터프레임에서는 NAN 으로 표기하게 됩니다.  \n",
    ">- NA = Not available  \n",
    "- NAN = Not a number (판다스에서는 NA 를 NAN 으로 표기합니다) \n",
    "\n",
    "일반적으로 NAN 를 처리하는 방법은 3가지가 있습니다 .\n",
    "\n",
    "1. **무시한다 ( 아무것도 하지 않음)** \n",
    "2. **제거한다 (drop)**\n",
    "3. **다른 값으로 대체한다 (FILL)**\n",
    "\n",
    "무시할 경우 분석을 할 때 걸리적거리고 모델에서 안 돌아가지 않기 때문에 2번(제거)와 3번(대체)를 배워보도록 하겠습니다.\n"
   ]
  },
  {
   "cell_type": "code",
   "execution_count": 23,
   "metadata": {
    "colab": {
     "base_uri": "https://localhost:8080/",
     "height": 173
    },
    "colab_type": "code",
    "executionInfo": {
     "elapsed": 6989,
     "status": "ok",
     "timestamp": 1590903974204,
     "user": {
      "displayName": "KANG HEE LEE",
      "photoUrl": "https://lh6.googleusercontent.com/-Tby0yH9KKqU/AAAAAAAAAAI/AAAAAAAAAKo/QINwPqwB8Hw/s64/photo.jpg",
      "userId": "07677907353848967045"
     },
     "user_tz": -540
    },
    "id": "WCtOt9foRTy-",
    "outputId": "8a2eec64-ec8f-48ff-8021-f3b9113cf0d8"
   },
   "outputs": [
    {
     "data": {
      "text/html": [
       "<div>\n",
       "<style scoped>\n",
       "    .dataframe tbody tr th:only-of-type {\n",
       "        vertical-align: middle;\n",
       "    }\n",
       "\n",
       "    .dataframe tbody tr th {\n",
       "        vertical-align: top;\n",
       "    }\n",
       "\n",
       "    .dataframe thead th {\n",
       "        text-align: right;\n",
       "    }\n",
       "</style>\n",
       "<table border=\"1\" class=\"dataframe\">\n",
       "  <thead>\n",
       "    <tr style=\"text-align: right;\">\n",
       "      <th></th>\n",
       "      <th>a</th>\n",
       "      <th>b</th>\n",
       "      <th>c</th>\n",
       "    </tr>\n",
       "  </thead>\n",
       "  <tbody>\n",
       "    <tr>\n",
       "      <th>0</th>\n",
       "      <td>1.0</td>\n",
       "      <td>2.0</td>\n",
       "      <td>NaN</td>\n",
       "    </tr>\n",
       "    <tr>\n",
       "      <th>1</th>\n",
       "      <td>3.0</td>\n",
       "      <td>NaN</td>\n",
       "      <td>4.0</td>\n",
       "    </tr>\n",
       "    <tr>\n",
       "      <th>2</th>\n",
       "      <td>NaN</td>\n",
       "      <td>5.0</td>\n",
       "      <td>6.0</td>\n",
       "    </tr>\n",
       "    <tr>\n",
       "      <th>3</th>\n",
       "      <td>NaN</td>\n",
       "      <td>NaN</td>\n",
       "      <td>NaN</td>\n",
       "    </tr>\n",
       "  </tbody>\n",
       "</table>\n",
       "</div>"
      ],
      "text/plain": [
       "     a    b    c\n",
       "0  1.0  2.0  NaN\n",
       "1  3.0  NaN  4.0\n",
       "2  NaN  5.0  6.0\n",
       "3  NaN  NaN  NaN"
      ]
     },
     "execution_count": 23,
     "metadata": {},
     "output_type": "execute_result"
    }
   ],
   "source": [
    "import pandas as pd\n",
    "import numpy as np    # NumPy는 행렬이나 일반적으로 대규모 다차원 배열을 쉽게 처리 할 수 있도록 지원하는 파이썬의 라이브러리\n",
    "\n",
    "# 예시 데이터 프레임  \n",
    "df = pd.DataFrame([[1,2,np.nan],[3,np.nan,4],[np.nan,5,6],[np.nan,np.nan,np.nan]],columns=['a','b','c'])\n",
    "df"
   ]
  },
  {
   "cell_type": "markdown",
   "metadata": {
    "colab_type": "text",
    "id": "Wfgu1oUPRtLj"
   },
   "source": [
    "> 🗑제거(Drop) 하는 법 : 비어있는 값(NaN)이 너무 많을 경우, 전처리가 불가능한 경우 사용\n",
    "> - `데이터프레임.dropna()`\n",
    "- `데이터프레임.dropna(how='all')`"
   ]
  },
  {
   "cell_type": "code",
   "execution_count": 24,
   "metadata": {
    "colab": {
     "base_uri": "https://localhost:8080/",
     "height": 49
    },
    "colab_type": "code",
    "executionInfo": {
     "elapsed": 6978,
     "status": "ok",
     "timestamp": 1590903974204,
     "user": {
      "displayName": "KANG HEE LEE",
      "photoUrl": "https://lh6.googleusercontent.com/-Tby0yH9KKqU/AAAAAAAAAAI/AAAAAAAAAKo/QINwPqwB8Hw/s64/photo.jpg",
      "userId": "07677907353848967045"
     },
     "user_tz": -540
    },
    "id": "YHmkZ0r5RwW5",
    "outputId": "c5c3701f-e6b8-46c7-8812-be9e4e7338da"
   },
   "outputs": [
    {
     "data": {
      "text/html": [
       "<div>\n",
       "<style scoped>\n",
       "    .dataframe tbody tr th:only-of-type {\n",
       "        vertical-align: middle;\n",
       "    }\n",
       "\n",
       "    .dataframe tbody tr th {\n",
       "        vertical-align: top;\n",
       "    }\n",
       "\n",
       "    .dataframe thead th {\n",
       "        text-align: right;\n",
       "    }\n",
       "</style>\n",
       "<table border=\"1\" class=\"dataframe\">\n",
       "  <thead>\n",
       "    <tr style=\"text-align: right;\">\n",
       "      <th></th>\n",
       "      <th>a</th>\n",
       "      <th>b</th>\n",
       "      <th>c</th>\n",
       "    </tr>\n",
       "  </thead>\n",
       "  <tbody>\n",
       "  </tbody>\n",
       "</table>\n",
       "</div>"
      ],
      "text/plain": [
       "Empty DataFrame\n",
       "Columns: [a, b, c]\n",
       "Index: []"
      ]
     },
     "execution_count": 24,
     "metadata": {},
     "output_type": "execute_result"
    }
   ],
   "source": [
    "#nan 값이 있는 행을 다 지우기 \n",
    "\n",
    "df.dropna()"
   ]
  },
  {
   "cell_type": "code",
   "execution_count": 26,
   "metadata": {
    "colab": {
     "base_uri": "https://localhost:8080/",
     "height": 142
    },
    "colab_type": "code",
    "executionInfo": {
     "elapsed": 6969,
     "status": "ok",
     "timestamp": 1590903974205,
     "user": {
      "displayName": "KANG HEE LEE",
      "photoUrl": "https://lh6.googleusercontent.com/-Tby0yH9KKqU/AAAAAAAAAAI/AAAAAAAAAKo/QINwPqwB8Hw/s64/photo.jpg",
      "userId": "07677907353848967045"
     },
     "user_tz": -540
    },
    "id": "Q6AcAgZCSGl1",
    "outputId": "cf651116-2ff2-4c28-bffc-b0c3dbbaf1af"
   },
   "outputs": [
    {
     "data": {
      "text/html": [
       "<div>\n",
       "<style scoped>\n",
       "    .dataframe tbody tr th:only-of-type {\n",
       "        vertical-align: middle;\n",
       "    }\n",
       "\n",
       "    .dataframe tbody tr th {\n",
       "        vertical-align: top;\n",
       "    }\n",
       "\n",
       "    .dataframe thead th {\n",
       "        text-align: right;\n",
       "    }\n",
       "</style>\n",
       "<table border=\"1\" class=\"dataframe\">\n",
       "  <thead>\n",
       "    <tr style=\"text-align: right;\">\n",
       "      <th></th>\n",
       "      <th>a</th>\n",
       "      <th>b</th>\n",
       "      <th>c</th>\n",
       "    </tr>\n",
       "  </thead>\n",
       "  <tbody>\n",
       "    <tr>\n",
       "      <th>0</th>\n",
       "      <td>1.0</td>\n",
       "      <td>2.0</td>\n",
       "      <td>NaN</td>\n",
       "    </tr>\n",
       "    <tr>\n",
       "      <th>1</th>\n",
       "      <td>3.0</td>\n",
       "      <td>NaN</td>\n",
       "      <td>4.0</td>\n",
       "    </tr>\n",
       "    <tr>\n",
       "      <th>2</th>\n",
       "      <td>NaN</td>\n",
       "      <td>5.0</td>\n",
       "      <td>6.0</td>\n",
       "    </tr>\n",
       "  </tbody>\n",
       "</table>\n",
       "</div>"
      ],
      "text/plain": [
       "     a    b    c\n",
       "0  1.0  2.0  NaN\n",
       "1  3.0  NaN  4.0\n",
       "2  NaN  5.0  6.0"
      ]
     },
     "execution_count": 26,
     "metadata": {},
     "output_type": "execute_result"
    }
   ],
   "source": [
    "#모든 값이 nan 일때만 지우기\n",
    "\n",
    "df.dropna(how='all')"
   ]
  },
  {
   "cell_type": "markdown",
   "metadata": {
    "colab_type": "text",
    "id": "gsy28Q5oSWkr"
   },
   "source": [
    "> 🎨대치(Fill) 하는 법 : 비교적 비어있는 값(NaN)이 적고 해당 데이터가 유의미하여 이용할만한 경우 사용  \n",
    "- `데이터프레임.fillna(0)"
   ]
  },
  {
   "cell_type": "code",
   "execution_count": 27,
   "metadata": {
    "colab": {
     "base_uri": "https://localhost:8080/",
     "height": 173
    },
    "colab_type": "code",
    "executionInfo": {
     "elapsed": 6958,
     "status": "ok",
     "timestamp": 1590903974205,
     "user": {
      "displayName": "KANG HEE LEE",
      "photoUrl": "https://lh6.googleusercontent.com/-Tby0yH9KKqU/AAAAAAAAAAI/AAAAAAAAAKo/QINwPqwB8Hw/s64/photo.jpg",
      "userId": "07677907353848967045"
     },
     "user_tz": -540
    },
    "id": "s-JKJEd0SVr5",
    "outputId": "c8e3c442-f55f-4e92-ebda-d5474b7f5732"
   },
   "outputs": [
    {
     "data": {
      "text/html": [
       "<div>\n",
       "<style scoped>\n",
       "    .dataframe tbody tr th:only-of-type {\n",
       "        vertical-align: middle;\n",
       "    }\n",
       "\n",
       "    .dataframe tbody tr th {\n",
       "        vertical-align: top;\n",
       "    }\n",
       "\n",
       "    .dataframe thead th {\n",
       "        text-align: right;\n",
       "    }\n",
       "</style>\n",
       "<table border=\"1\" class=\"dataframe\">\n",
       "  <thead>\n",
       "    <tr style=\"text-align: right;\">\n",
       "      <th></th>\n",
       "      <th>a</th>\n",
       "      <th>b</th>\n",
       "      <th>c</th>\n",
       "    </tr>\n",
       "  </thead>\n",
       "  <tbody>\n",
       "    <tr>\n",
       "      <th>0</th>\n",
       "      <td>1.0</td>\n",
       "      <td>2.0</td>\n",
       "      <td>10.0</td>\n",
       "    </tr>\n",
       "    <tr>\n",
       "      <th>1</th>\n",
       "      <td>3.0</td>\n",
       "      <td>10.0</td>\n",
       "      <td>4.0</td>\n",
       "    </tr>\n",
       "    <tr>\n",
       "      <th>2</th>\n",
       "      <td>10.0</td>\n",
       "      <td>5.0</td>\n",
       "      <td>6.0</td>\n",
       "    </tr>\n",
       "    <tr>\n",
       "      <th>3</th>\n",
       "      <td>10.0</td>\n",
       "      <td>10.0</td>\n",
       "      <td>10.0</td>\n",
       "    </tr>\n",
       "  </tbody>\n",
       "</table>\n",
       "</div>"
      ],
      "text/plain": [
       "      a     b     c\n",
       "0   1.0   2.0  10.0\n",
       "1   3.0  10.0   4.0\n",
       "2  10.0   5.0   6.0\n",
       "3  10.0  10.0  10.0"
      ]
     },
     "execution_count": 27,
     "metadata": {},
     "output_type": "execute_result"
    }
   ],
   "source": [
    "# 10 으로 대체\n",
    "\n",
    "df.fillna(10)"
   ]
  },
  {
   "cell_type": "markdown",
   "metadata": {
    "colab_type": "text",
    "id": "cZQeTWY2m42Q"
   },
   "source": [
    "### 통계적으로 차이가 나지 않도록 **평균(mean)** 에 **분산(std)** 만큼 차이 나는 사이의 임의값을 넣어주기\n",
    ">Age의 경우 `.drop()`을 사용해서 버리기에는 너무 중요한 값입니다.   \n",
    ">그렇다고 일괄적으로 빈칸에 0 등의 값을 넣기에는 분석에 도움이 되지 않습니다.  \n",
    ">그래서 이런 숫자 데이터에 일반적으로 **평균(mean)에 분산(std) 만큼 차이 나는 사이의 임의값을 넣어주게 됩니다**.  \n",
    "\n",
    "> < ---- 데이터 ---- >  \n",
    "- 평균 = 데이터의 중앙에 있을 확률이 높은 값  \n",
    "- 분산 = 각 값이 평균에서 얼마만큼 분산되어있는지의 척도   \n",
    "\n",
    ">그래서 평균에서 분산만큼 떨어진 값들 사이가 대략적으로 가장 확률이 높은 곳이라고 볼 수 있습니다.  \n",
    "> `분산  ~ 평균() ~ 분산 `\n"
   ]
  },
  {
   "cell_type": "markdown",
   "metadata": {
    "colab_type": "text",
    "id": "WKYmjaCMwRZB"
   },
   "source": [
    "> ✋ 잠깐 그럼 왜 모두 평균값으로 대체하지 않는 것인가요?  \n",
    ">> 👉 평균값으로 대체하게 되면, 전체 데이터의 평균은 맞춰줄 수 있지만, 분산이 영향을 많이 받게 됩니다.\n",
    "\n",
    "예를 들면 :\n",
    "\n",
    "[1, 2, 5, 6 , 9, 10] 이라는 점수들의 평균은 5.5 입니다.\n",
    "\n",
    "missing value 가 3개 있어서 이것을 만약 대체해 준다면, \n",
    "\n",
    "[1, 2, 5, 5.5 , 5.5, 6, 9, 10] 이 됩니다. \n",
    "\n",
    "이렇게 되면 기존의 갖고 있던 분포와 매우 다르게 됩니다. "
   ]
  },
  {
   "cell_type": "markdown",
   "metadata": {
    "colab_type": "text",
    "id": "ph7MUwSnwtzV"
   },
   "source": [
    "아래의 예제에서 평탄한 산 모양의 고른 분포를 가진 그래프가, \n",
    "중간 부분만 볼록 튀어나오게 되는 것을 볼 수 있습니다. "
   ]
  },
  {
   "cell_type": "code",
   "execution_count": 28,
   "metadata": {
    "colab": {
     "base_uri": "https://localhost:8080/",
     "height": 285
    },
    "colab_type": "code",
    "executionInfo": {
     "elapsed": 6948,
     "status": "ok",
     "timestamp": 1590903974206,
     "user": {
      "displayName": "KANG HEE LEE",
      "photoUrl": "https://lh6.googleusercontent.com/-Tby0yH9KKqU/AAAAAAAAAAI/AAAAAAAAAKo/QINwPqwB8Hw/s64/photo.jpg",
      "userId": "07677907353848967045"
     },
     "user_tz": -540
    },
    "id": "SQT_DRjQwVuG",
    "outputId": "cb544643-1739-459c-b459-dd5bd3b99873"
   },
   "outputs": [
    {
     "name": "stderr",
     "output_type": "stream",
     "text": [
      "C:\\ProgramData\\Anaconda3\\envs\\tensorflow\\lib\\site-packages\\seaborn\\distributions.py:2619: FutureWarning: `distplot` is a deprecated function and will be removed in a future version. Please adapt your code to use either `displot` (a figure-level function with similar flexibility) or `histplot` (an axes-level function for histograms).\n",
      "  warnings.warn(msg, FutureWarning)\n"
     ]
    },
    {
     "data": {
      "text/plain": [
       "<AxesSubplot:ylabel='Density'>"
      ]
     },
     "execution_count": 28,
     "metadata": {},
     "output_type": "execute_result"
    },
    {
     "data": {
      "image/png": "[encoded data removed]",
      "text/plain": [
       "<Figure size 432x288 with 1 Axes>"
      ]
     },
     "metadata": {},
     "output_type": "display_data"
    }
   ],
   "source": [
    "l = [1, 2, 5, 6 , 9, 10]\n",
    "\n",
    "sns.distplot(l)"
   ]
  },
  {
   "cell_type": "code",
   "execution_count": 29,
   "metadata": {
    "colab": {
     "base_uri": "https://localhost:8080/",
     "height": 286
    },
    "colab_type": "code",
    "executionInfo": {
     "elapsed": 7478,
     "status": "ok",
     "timestamp": 1590903974745,
     "user": {
      "displayName": "KANG HEE LEE",
      "photoUrl": "https://lh6.googleusercontent.com/-Tby0yH9KKqU/AAAAAAAAAAI/AAAAAAAAAKo/QINwPqwB8Hw/s64/photo.jpg",
      "userId": "07677907353848967045"
     },
     "user_tz": -540
    },
    "id": "7uL98z1NwkKm",
    "outputId": "b81476ae-9d91-4c85-f314-a7a4e66b5d35"
   },
   "outputs": [
    {
     "name": "stderr",
     "output_type": "stream",
     "text": [
      "C:\\ProgramData\\Anaconda3\\envs\\tensorflow\\lib\\site-packages\\seaborn\\distributions.py:2619: FutureWarning: `distplot` is a deprecated function and will be removed in a future version. Please adapt your code to use either `displot` (a figure-level function with similar flexibility) or `histplot` (an axes-level function for histograms).\n",
      "  warnings.warn(msg, FutureWarning)\n"
     ]
    },
    {
     "data": {
      "text/plain": [
       "<AxesSubplot:ylabel='Density'>"
      ]
     },
     "execution_count": 29,
     "metadata": {},
     "output_type": "execute_result"
    },
    {
     "data": {
      "image/png": "[encoded data removed]",
      "text/plain": [
       "<Figure size 432x288 with 1 Axes>"
      ]
     },
     "metadata": {},
     "output_type": "display_data"
    }
   ],
   "source": [
    "l = [1, 2, 5, 5.5, 5.5, 5.5, 5.5, 6, 9, 10] \n",
    "\n",
    "sns.distplot(l)"
   ]
  },
  {
   "cell_type": "markdown",
   "metadata": {
    "colab_type": "text",
    "id": "fpp0xhGbIzan"
   },
   "source": [
    "그러나 임의값을 넣어주게 된다면?\n",
    "- `np.std()`\n",
    "- `np.mean()`\n",
    "- `np.random.unifrom()`\n",
    "- `.extend()`"
   ]
  },
  {
   "cell_type": "code",
   "execution_count": 30,
   "metadata": {
    "colab": {
     "base_uri": "https://localhost:8080/",
     "height": 289
    },
    "colab_type": "code",
    "executionInfo": {
     "elapsed": 7469,
     "status": "ok",
     "timestamp": 1590903974746,
     "user": {
      "displayName": "KANG HEE LEE",
      "photoUrl": "https://lh6.googleusercontent.com/-Tby0yH9KKqU/AAAAAAAAAAI/AAAAAAAAAKo/QINwPqwB8Hw/s64/photo.jpg",
      "userId": "07677907353848967045"
     },
     "user_tz": -540
    },
    "id": "fRwP66V2xAIf",
    "outputId": "0019cf00-8a13-4eb6-9d81-45a38d087ddc"
   },
   "outputs": [
    {
     "name": "stderr",
     "output_type": "stream",
     "text": [
      "C:\\ProgramData\\Anaconda3\\envs\\tensorflow\\lib\\site-packages\\seaborn\\distributions.py:2619: FutureWarning: `distplot` is a deprecated function and will be removed in a future version. Please adapt your code to use either `displot` (a figure-level function with similar flexibility) or `histplot` (an axes-level function for histograms).\n",
      "  warnings.warn(msg, FutureWarning)\n"
     ]
    },
    {
     "data": {
      "text/plain": [
       "<AxesSubplot:ylabel='Density'>"
      ]
     },
     "execution_count": 30,
     "metadata": {},
     "output_type": "execute_result"
    },
    {
     "data": {
      "image/png": "[encoded data removed]",
      "text/plain": [
       "<Figure size 432x288 with 1 Axes>"
      ]
     },
     "metadata": {},
     "output_type": "display_data"
    }
   ],
   "source": [
    "import numpy as np\n",
    "\n",
    "std = np.std(l)    # np를 이용해 std 계산, 약 2.8 \n",
    "mean = np.mean(l)  # np를 이용한 mean 게산, 약 5.6 \n",
    "\n",
    "rand_value = np.random.uniform(mean - std, mean + std, 4) # mean 에서 std 만큼 떨어져 있는 랜덤한 값들을 size 만큼 반환\n",
    "\n",
    "l.extend(rand_value)    # 리스트를 더해줍니다\n",
    "\n",
    "sns.distplot(l)"
   ]
  },
  {
   "cell_type": "markdown",
   "metadata": {
    "colab_type": "text",
    "id": "kT85Vdvyzw4Z"
   },
   "source": [
    "> 처음과 비슷한 분포가 나오는 것을 볼 수 있습니다.\n",
    "\n",
    "만약 숫자가 더 커진다면 더 그러한 경향이 더욱 심해집니다."
   ]
  },
  {
   "cell_type": "code",
   "execution_count": 31,
   "metadata": {
    "colab": {
     "base_uri": "https://localhost:8080/",
     "height": 173
    },
    "colab_type": "code",
    "executionInfo": {
     "elapsed": 7460,
     "status": "ok",
     "timestamp": 1590903974747,
     "user": {
      "displayName": "KANG HEE LEE",
      "photoUrl": "https://lh6.googleusercontent.com/-Tby0yH9KKqU/AAAAAAAAAAI/AAAAAAAAAKo/QINwPqwB8Hw/s64/photo.jpg",
      "userId": "07677907353848967045"
     },
     "user_tz": -540
    },
    "id": "uxG_sMxoSjIz",
    "outputId": "ee75808d-ba47-4f9e-8a80-df1dce819b86"
   },
   "outputs": [
    {
     "data": {
      "text/html": [
       "<div>\n",
       "<style scoped>\n",
       "    .dataframe tbody tr th:only-of-type {\n",
       "        vertical-align: middle;\n",
       "    }\n",
       "\n",
       "    .dataframe tbody tr th {\n",
       "        vertical-align: top;\n",
       "    }\n",
       "\n",
       "    .dataframe thead th {\n",
       "        text-align: right;\n",
       "    }\n",
       "</style>\n",
       "<table border=\"1\" class=\"dataframe\">\n",
       "  <thead>\n",
       "    <tr style=\"text-align: right;\">\n",
       "      <th></th>\n",
       "      <th>a</th>\n",
       "      <th>b</th>\n",
       "      <th>c</th>\n",
       "    </tr>\n",
       "  </thead>\n",
       "  <tbody>\n",
       "    <tr>\n",
       "      <th>0</th>\n",
       "      <td>False</td>\n",
       "      <td>False</td>\n",
       "      <td>True</td>\n",
       "    </tr>\n",
       "    <tr>\n",
       "      <th>1</th>\n",
       "      <td>False</td>\n",
       "      <td>True</td>\n",
       "      <td>False</td>\n",
       "    </tr>\n",
       "    <tr>\n",
       "      <th>2</th>\n",
       "      <td>True</td>\n",
       "      <td>False</td>\n",
       "      <td>False</td>\n",
       "    </tr>\n",
       "    <tr>\n",
       "      <th>3</th>\n",
       "      <td>True</td>\n",
       "      <td>True</td>\n",
       "      <td>True</td>\n",
       "    </tr>\n",
       "  </tbody>\n",
       "</table>\n",
       "</div>"
      ],
      "text/plain": [
       "       a      b      c\n",
       "0  False  False   True\n",
       "1  False   True  False\n",
       "2   True  False  False\n",
       "3   True   True   True"
      ]
     },
     "execution_count": 31,
     "metadata": {},
     "output_type": "execute_result"
    }
   ],
   "source": [
    "#nan 값이 있는지 없는지 확인\n",
    "df.isna() "
   ]
  },
  {
   "cell_type": "code",
   "execution_count": 32,
   "metadata": {
    "colab": {
     "base_uri": "https://localhost:8080/",
     "height": 85
    },
    "colab_type": "code",
    "executionInfo": {
     "elapsed": 7450,
     "status": "ok",
     "timestamp": 1590903974747,
     "user": {
      "displayName": "KANG HEE LEE",
      "photoUrl": "https://lh6.googleusercontent.com/-Tby0yH9KKqU/AAAAAAAAAAI/AAAAAAAAAKo/QINwPqwB8Hw/s64/photo.jpg",
      "userId": "07677907353848967045"
     },
     "user_tz": -540
    },
    "id": "LMdvWsSGSuce",
    "outputId": "342e00a5-668a-41bc-b247-f8e142f40bfe"
   },
   "outputs": [
    {
     "data": {
      "text/plain": [
       "a    2\n",
       "b    2\n",
       "c    2\n",
       "dtype: int64"
      ]
     },
     "execution_count": 32,
     "metadata": {},
     "output_type": "execute_result"
    }
   ],
   "source": [
    "#총 nan 값이 몇개인지 확인\n",
    "df.isna().sum() "
   ]
  },
  {
   "cell_type": "markdown",
   "metadata": {
    "colab_type": "text",
    "id": "Hl898p52F0oL"
   },
   "source": [
    "> `np.random.randint(최소, 최대, 갯수)` : 랜덤하게 생성된 숫자들을 조건에 맞게 list 형태로 반환해주는 함수\n"
   ]
  },
  {
   "cell_type": "code",
   "execution_count": 33,
   "metadata": {
    "colab": {
     "base_uri": "https://localhost:8080/",
     "height": 34
    },
    "colab_type": "code",
    "executionInfo": {
     "elapsed": 7441,
     "status": "ok",
     "timestamp": 1590903974748,
     "user": {
      "displayName": "KANG HEE LEE",
      "photoUrl": "https://lh6.googleusercontent.com/-Tby0yH9KKqU/AAAAAAAAAAI/AAAAAAAAAKo/QINwPqwB8Hw/s64/photo.jpg",
      "userId": "07677907353848967045"
     },
     "user_tz": -540
    },
    "id": "E_-Lp88OSzk8",
    "outputId": "a87adca0-1f2e-4237-a358-f5aef33178ce"
   },
   "outputs": [
    {
     "data": {
      "text/plain": [
       "array([0, 2, 3, 3])"
      ]
     },
     "execution_count": 33,
     "metadata": {},
     "output_type": "execute_result"
    }
   ],
   "source": [
    "# 0에서 10 사이의 랜덤한 숫자 4개를 만들어보시오.\n",
    "np.random.randint(0,10,4)"
   ]
  },
  {
   "cell_type": "code",
   "execution_count": 34,
   "metadata": {
    "colab": {
     "base_uri": "https://localhost:8080/",
     "height": 153
    },
    "colab_type": "code",
    "executionInfo": {
     "elapsed": 7805,
     "status": "ok",
     "timestamp": 1590903975121,
     "user": {
      "displayName": "KANG HEE LEE",
      "photoUrl": "https://lh6.googleusercontent.com/-Tby0yH9KKqU/AAAAAAAAAAI/AAAAAAAAAKo/QINwPqwB8Hw/s64/photo.jpg",
      "userId": "07677907353848967045"
     },
     "user_tz": -540
    },
    "id": "53S8dCJ-oLIK",
    "outputId": "7883b868-bd9b-41a4-e1db-0c9644f5ff71"
   },
   "outputs": [
    {
     "name": "stdout",
     "output_type": "stream",
     "text": [
      "[30 38 18 33 24 30 31 38 33 41 39 28 21 24 25 36 16 28 40 33 36 38 15 27\n",
      " 37 35 40 40 33 31 39 21 38 30 23 15 36 28 21 18 39 26 18 24 28 36 43 33\n",
      " 38 41 35 27 33 38 16 43 26 37 40 15 21 34 19 16 16 24 41 29 38 34 34 17\n",
      " 31 18 26 25 39 34 22 36 31 21 40 36 35 42 19 30 30 25 38 30 27 21 18 42\n",
      " 30 34 26 41 16 32 36 39 16 42 38 25 27 36 40 16 24 26 25 32 18 24 25 29\n",
      " 26 18 43 33 28 21 30 31 18 37 38 25 18 37 18 31 18 24 26 30 25 31 22 26\n",
      " 30 26 20 24 19 37 15 25 40 27 25 23 38 24 26 33 26 43 34 15 43 17 18 22\n",
      " 19 36 24 23 21 37 18 30 28]\n"
     ]
    }
   ],
   "source": [
    "import numpy as np\n",
    "\n",
    "mean = titanic['Age'].mean()       # age 의 mean 값을 구함\n",
    "std = titanic['Age'].std()         # age 의 std 값을 구함\n",
    "size = titanic['Age'].isna().sum() # age 에 nan 값이 몇개인지를 구함 \n",
    "\n",
    "\n",
    "rand_age = np.random.randint(mean - std, mean + std, size = size) # mean 에서 std 만큼 떨어져 있는 랜덤한 값들을 size 만큼 반환\n",
    "\n",
    "print(rand_age)"
   ]
  },
  {
   "cell_type": "markdown",
   "metadata": {
    "colab_type": "text",
    "id": "moLWWBVxo-r2"
   },
   "source": [
    "> 이제 `titanic['age']` 의 비여있는 값을 rand_age 로 대체해줍니다. "
   ]
  },
  {
   "cell_type": "code",
   "execution_count": 35,
   "metadata": {
    "colab": {
     "base_uri": "https://localhost:8080/",
     "height": 272
    },
    "colab_type": "code",
    "executionInfo": {
     "elapsed": 7796,
     "status": "ok",
     "timestamp": 1590903975122,
     "user": {
      "displayName": "KANG HEE LEE",
      "photoUrl": "https://lh6.googleusercontent.com/-Tby0yH9KKqU/AAAAAAAAAAI/AAAAAAAAAKo/QINwPqwB8Hw/s64/photo.jpg",
      "userId": "07677907353848967045"
     },
     "user_tz": -540
    },
    "id": "bigzVUF_o8Z2",
    "outputId": "bf6a36ce-30a8-407c-8966-812ba06776ac"
   },
   "outputs": [
    {
     "name": "stderr",
     "output_type": "stream",
     "text": [
      "C:\\Users\\wkddn\\AppData\\Local\\Temp/ipykernel_54392/2684413459.py:2: SettingWithCopyWarning: \n",
      "A value is trying to be set on a copy of a slice from a DataFrame\n",
      "\n",
      "See the caveats in the documentation: https://pandas.pydata.org/pandas-docs/stable/user_guide/indexing.html#returning-a-view-versus-a-copy\n",
      "  titanic['Age'].loc[titanic['Age'].isna()] = rand_age\n"
     ]
    },
    {
     "data": {
      "text/plain": [
       "PassengerId    0\n",
       "Survived       0\n",
       "Pclass         0\n",
       "Name           0\n",
       "Sex            0\n",
       "Age            0\n",
       "SibSp          0\n",
       "Parch          0\n",
       "Fare           0\n",
       "Embarked       2\n",
       "dtype: int64"
      ]
     },
     "execution_count": 35,
     "metadata": {},
     "output_type": "execute_result"
    }
   ],
   "source": [
    "# 기존 'age'열 중 비어있는 값에 rand_age에 들어있는 값을 차례로 넣기\n",
    "titanic['Age'].loc[titanic['Age'].isna()] = rand_age\n",
    "\n",
    "# 아직도 'age'에 nan 값이 있을까요? 확인해봅시다!\n",
    "titanic.isna().sum()"
   ]
  },
  {
   "cell_type": "markdown",
   "metadata": {
    "colab_type": "text",
    "id": "AGKduQVtqHdW"
   },
   "source": [
    "> `embarked` 의 경우 2개만 없기 때문에, 가장 흔한 값인 'S' 로 대체해주는 방법을 사용했습니다.\n",
    "- 889개의 데이터에 3종류의 값이 들어가 있음\n",
    "- 가장 많은 것은 'S'\n",
    "- 'S'는 총 644개"
   ]
  },
  {
   "cell_type": "code",
   "execution_count": 36,
   "metadata": {
    "colab": {
     "base_uri": "https://localhost:8080/",
     "height": 102
    },
    "colab_type": "code",
    "executionInfo": {
     "elapsed": 7787,
     "status": "ok",
     "timestamp": 1590903975123,
     "user": {
      "displayName": "KANG HEE LEE",
      "photoUrl": "https://lh6.googleusercontent.com/-Tby0yH9KKqU/AAAAAAAAAAI/AAAAAAAAAKo/QINwPqwB8Hw/s64/photo.jpg",
      "userId": "07677907353848967045"
     },
     "user_tz": -540
    },
    "id": "idCEBObZq0W7",
    "outputId": "f0b15625-15d8-468f-b520-07181a840061"
   },
   "outputs": [
    {
     "data": {
      "text/plain": [
       "count     889\n",
       "unique      3\n",
       "top         S\n",
       "freq      644\n",
       "Name: Embarked, dtype: object"
      ]
     },
     "execution_count": 36,
     "metadata": {},
     "output_type": "execute_result"
    }
   ],
   "source": [
    "titanic['Embarked'].describe()    "
   ]
  },
  {
   "cell_type": "code",
   "execution_count": 37,
   "metadata": {
    "colab": {
     "base_uri": "https://localhost:8080/",
     "height": 34
    },
    "colab_type": "code",
    "executionInfo": {
     "elapsed": 7777,
     "status": "ok",
     "timestamp": 1590903975123,
     "user": {
      "displayName": "KANG HEE LEE",
      "photoUrl": "https://lh6.googleusercontent.com/-Tby0yH9KKqU/AAAAAAAAAAI/AAAAAAAAAKo/QINwPqwB8Hw/s64/photo.jpg",
      "userId": "07677907353848967045"
     },
     "user_tz": -540
    },
    "id": "FEABFz7tqOEU",
    "outputId": "6352e2d5-5d0e-4952-ded7-fa734191810a"
   },
   "outputs": [
    {
     "data": {
      "text/plain": [
       "0"
      ]
     },
     "execution_count": 37,
     "metadata": {},
     "output_type": "execute_result"
    }
   ],
   "source": [
    "titanic['Embarked'].fillna('S',inplace=True)    # 'S'로 대체\n",
    "titanic['Embarked'].isna().sum()    #'embarked 열에서 NaN의 개수"
   ]
  },
  {
   "cell_type": "code",
   "execution_count": null,
   "metadata": {},
   "outputs": [],
   "source": [
    "# classfication: number of classes!!\n",
    "# binary classficationL class가 2개 (1/2)\n",
    "# multi-label classification: class가 복숙개 (1/n)\n",
    "# 각 클래스 별로 데이터 보유량 -> 1: 10000 2: 100 -> misclassification -> ???"
   ]
  },
  {
   "cell_type": "markdown",
   "metadata": {
    "colab_type": "text",
    "id": "b_Ja1nQuigF7"
   },
   "source": [
    "## 📌Step4. 🔬Feature Engineering \n"
   ]
  },
  {
   "cell_type": "markdown",
   "metadata": {
    "colab_type": "text",
    "id": "M0Tn_kRalAUV"
   },
   "source": [
    "#### for문을 이용해서 일일이 손보기\n",
    "\n",
    "> 아래의 코드는 titanic 의 이름에서 '.' 앞에 붙는 단어를 가져와 title 에 저장하는 방법입니다.  \n",
    "- `Braund, Mr. Owen Harris` 에서 '`Mr`' 만 추출하기!\n",
    "- `.split('기준')`"
   ]
  },
  {
   "cell_type": "code",
   "execution_count": 38,
   "metadata": {
    "colab": {
     "base_uri": "https://localhost:8080/",
     "height": 68
    },
    "colab_type": "code",
    "executionInfo": {
     "elapsed": 7768,
     "status": "ok",
     "timestamp": 1590903975124,
     "user": {
      "displayName": "KANG HEE LEE",
      "photoUrl": "https://lh6.googleusercontent.com/-Tby0yH9KKqU/AAAAAAAAAAI/AAAAAAAAAKo/QINwPqwB8Hw/s64/photo.jpg",
      "userId": "07677907353848967045"
     },
     "user_tz": -540
    },
    "id": "GX4bE01flQDH",
    "outputId": "ce796df9-4ada-457e-aa20-49fd443cc777"
   },
   "outputs": [
    {
     "name": "stdout",
     "output_type": "stream",
     "text": [
      "Braund, Mr. Owen Harris\n"
     ]
    }
   ],
   "source": [
    "name = \"Braund, Mr. Owen Harris\"\n",
    "\n",
    "print(name) # 이름을 ' ' 띄어쓰기를 기준으로 분리 하여 리스트로 반환\n",
    "# 예) \"Bround, Mr. Owne Harris\" -> [Bround, Mr., Owne, Harris]"
   ]
  },
  {
   "cell_type": "code",
   "execution_count": 39,
   "metadata": {
    "colab": {},
    "colab_type": "code",
    "id": "WlD2mCUyeMCS"
   },
   "outputs": [
    {
     "name": "stdout",
     "output_type": "stream",
     "text": [
      "Mr.\n",
      "Mr\n"
     ]
    }
   ],
   "source": [
    "for item in name.split(' '):    # 변환된 리스트의 원소를 item이라는 임시 변수에 하나씩 넣으면서 루프가 돌아감\n",
    "  if '.' in item:               # 분리한 리스트에서 . 이 있으면\n",
    "    print(item)                 # 출력\n",
    "    print(item[:-1])            # .도 없애주기(1강 리스트 slicing 참고)"
   ]
  },
  {
   "cell_type": "markdown",
   "metadata": {
    "colab_type": "text",
    "id": "Lt4vq0YA0efW"
   },
   "source": [
    "위의 작업을 모든 데이터에 적용하려면 for문을 두 번 사용해야 해서 코드도 길어지고, 시간도 오래 걸립니다.  \n",
    "\n",
    "<br/>\n",
    "\n",
    "#### 정규표현식 사용하기\n",
    "\n",
    "그러나 **정규표현식(正規表現式, Regular Expression)**을 이용하면 한줄로 가능합니다.  \n",
    "\n",
    "정규표현식이란? 문자열을 처리하는 방법의 하나로 특정한 조건의 문자를 \n",
    "\n",
    "'검색'하거나 '치환'하는 과정을 매우 간편하게 처리 할 수 있도록 하는 수단입니다. \n",
    "\n",
    "> `str.extract()` : 판다스 내장함수. 열 안에서 ()안 조건에 부합하는 string을 추출  \n",
    "> `' ([A-Za-z]+)\\.'` : 기존 string 중에서 ' '(스페이스바)로 시작해 '.'로 끝나는  \n",
    "하나 이상의 알파벳(대문자 A 부터 소문자 z 까지)을 가져오는 정규표현식입니다  "
   ]
  },
  {
   "cell_type": "code",
   "execution_count": 40,
   "metadata": {
    "colab": {
     "base_uri": "https://localhost:8080/",
     "height": 221
    },
    "colab_type": "code",
    "executionInfo": {
     "elapsed": 7759,
     "status": "ok",
     "timestamp": 1590903975124,
     "user": {
      "displayName": "KANG HEE LEE",
      "photoUrl": "https://lh6.googleusercontent.com/-Tby0yH9KKqU/AAAAAAAAAAI/AAAAAAAAAKo/QINwPqwB8Hw/s64/photo.jpg",
      "userId": "07677907353848967045"
     },
     "user_tz": -540
    },
    "id": "76t7YqpLl7uT",
    "outputId": "3f25de9b-765b-4b70-a8be-726a59e35448"
   },
   "outputs": [
    {
     "data": {
      "text/plain": [
       "0        Mr\n",
       "1       Mrs\n",
       "2      Miss\n",
       "3       Mrs\n",
       "4        Mr\n",
       "       ... \n",
       "886     Rev\n",
       "887    Miss\n",
       "888    Miss\n",
       "889      Mr\n",
       "890      Mr\n",
       "Name: Name, Length: 891, dtype: object"
      ]
     },
     "execution_count": 40,
     "metadata": {},
     "output_type": "execute_result"
    }
   ],
   "source": [
    "titanic['Name'].str.extract(' ([A-Za-z]+)\\.', expand=False)     # 정규표현식이란? '개념'만 알고 넘어갑시다"
   ]
  },
  {
   "cell_type": "markdown",
   "metadata": {
    "colab_type": "text",
    "id": "r3qFJXA4PAOm"
   },
   "source": [
    "> 정규표현식으로 직위(Mr, Mrs, Miss 등)를 추출해서 기존 데이터셋에 'title'이라는 이름의 열 추가하기"
   ]
  },
  {
   "cell_type": "code",
   "execution_count": 41,
   "metadata": {
    "colab": {
     "base_uri": "https://localhost:8080/",
     "height": 419
    },
    "colab_type": "code",
    "executionInfo": {
     "elapsed": 7749,
     "status": "ok",
     "timestamp": 1590903975125,
     "user": {
      "displayName": "KANG HEE LEE",
      "photoUrl": "https://lh6.googleusercontent.com/-Tby0yH9KKqU/AAAAAAAAAAI/AAAAAAAAAKo/QINwPqwB8Hw/s64/photo.jpg",
      "userId": "07677907353848967045"
     },
     "user_tz": -540
    },
    "id": "6HHJaSXejq39",
    "outputId": "526f7dbb-0a9a-468b-d2aa-693e7e4f6629"
   },
   "outputs": [
    {
     "data": {
      "text/html": [
       "<div>\n",
       "<style scoped>\n",
       "    .dataframe tbody tr th:only-of-type {\n",
       "        vertical-align: middle;\n",
       "    }\n",
       "\n",
       "    .dataframe tbody tr th {\n",
       "        vertical-align: top;\n",
       "    }\n",
       "\n",
       "    .dataframe thead th {\n",
       "        text-align: right;\n",
       "    }\n",
       "</style>\n",
       "<table border=\"1\" class=\"dataframe\">\n",
       "  <thead>\n",
       "    <tr style=\"text-align: right;\">\n",
       "      <th></th>\n",
       "      <th>PassengerId</th>\n",
       "      <th>Survived</th>\n",
       "      <th>Pclass</th>\n",
       "      <th>Name</th>\n",
       "      <th>Sex</th>\n",
       "      <th>Age</th>\n",
       "      <th>SibSp</th>\n",
       "      <th>Parch</th>\n",
       "      <th>Fare</th>\n",
       "      <th>Embarked</th>\n",
       "      <th>Title</th>\n",
       "    </tr>\n",
       "  </thead>\n",
       "  <tbody>\n",
       "    <tr>\n",
       "      <th>0</th>\n",
       "      <td>1</td>\n",
       "      <td>0</td>\n",
       "      <td>3</td>\n",
       "      <td>Braund, Mr. Owen Harris</td>\n",
       "      <td>male</td>\n",
       "      <td>22.0</td>\n",
       "      <td>1</td>\n",
       "      <td>0</td>\n",
       "      <td>7.2500</td>\n",
       "      <td>S</td>\n",
       "      <td>Mr</td>\n",
       "    </tr>\n",
       "    <tr>\n",
       "      <th>1</th>\n",
       "      <td>2</td>\n",
       "      <td>1</td>\n",
       "      <td>1</td>\n",
       "      <td>Cumings, Mrs. John Bradley (Florence Briggs Th...</td>\n",
       "      <td>female</td>\n",
       "      <td>38.0</td>\n",
       "      <td>1</td>\n",
       "      <td>0</td>\n",
       "      <td>71.2833</td>\n",
       "      <td>C</td>\n",
       "      <td>Mrs</td>\n",
       "    </tr>\n",
       "    <tr>\n",
       "      <th>2</th>\n",
       "      <td>3</td>\n",
       "      <td>1</td>\n",
       "      <td>3</td>\n",
       "      <td>Heikkinen, Miss. Laina</td>\n",
       "      <td>female</td>\n",
       "      <td>26.0</td>\n",
       "      <td>0</td>\n",
       "      <td>0</td>\n",
       "      <td>7.9250</td>\n",
       "      <td>S</td>\n",
       "      <td>Miss</td>\n",
       "    </tr>\n",
       "    <tr>\n",
       "      <th>3</th>\n",
       "      <td>4</td>\n",
       "      <td>1</td>\n",
       "      <td>1</td>\n",
       "      <td>Futrelle, Mrs. Jacques Heath (Lily May Peel)</td>\n",
       "      <td>female</td>\n",
       "      <td>35.0</td>\n",
       "      <td>1</td>\n",
       "      <td>0</td>\n",
       "      <td>53.1000</td>\n",
       "      <td>S</td>\n",
       "      <td>Mrs</td>\n",
       "    </tr>\n",
       "    <tr>\n",
       "      <th>4</th>\n",
       "      <td>5</td>\n",
       "      <td>0</td>\n",
       "      <td>3</td>\n",
       "      <td>Allen, Mr. William Henry</td>\n",
       "      <td>male</td>\n",
       "      <td>35.0</td>\n",
       "      <td>0</td>\n",
       "      <td>0</td>\n",
       "      <td>8.0500</td>\n",
       "      <td>S</td>\n",
       "      <td>Mr</td>\n",
       "    </tr>\n",
       "    <tr>\n",
       "      <th>...</th>\n",
       "      <td>...</td>\n",
       "      <td>...</td>\n",
       "      <td>...</td>\n",
       "      <td>...</td>\n",
       "      <td>...</td>\n",
       "      <td>...</td>\n",
       "      <td>...</td>\n",
       "      <td>...</td>\n",
       "      <td>...</td>\n",
       "      <td>...</td>\n",
       "      <td>...</td>\n",
       "    </tr>\n",
       "    <tr>\n",
       "      <th>886</th>\n",
       "      <td>887</td>\n",
       "      <td>0</td>\n",
       "      <td>2</td>\n",
       "      <td>Montvila, Rev. Juozas</td>\n",
       "      <td>male</td>\n",
       "      <td>27.0</td>\n",
       "      <td>0</td>\n",
       "      <td>0</td>\n",
       "      <td>13.0000</td>\n",
       "      <td>S</td>\n",
       "      <td>Rev</td>\n",
       "    </tr>\n",
       "    <tr>\n",
       "      <th>887</th>\n",
       "      <td>888</td>\n",
       "      <td>1</td>\n",
       "      <td>1</td>\n",
       "      <td>Graham, Miss. Margaret Edith</td>\n",
       "      <td>female</td>\n",
       "      <td>19.0</td>\n",
       "      <td>0</td>\n",
       "      <td>0</td>\n",
       "      <td>30.0000</td>\n",
       "      <td>S</td>\n",
       "      <td>Miss</td>\n",
       "    </tr>\n",
       "    <tr>\n",
       "      <th>888</th>\n",
       "      <td>889</td>\n",
       "      <td>0</td>\n",
       "      <td>3</td>\n",
       "      <td>Johnston, Miss. Catherine Helen \"Carrie\"</td>\n",
       "      <td>female</td>\n",
       "      <td>28.0</td>\n",
       "      <td>1</td>\n",
       "      <td>2</td>\n",
       "      <td>23.4500</td>\n",
       "      <td>S</td>\n",
       "      <td>Miss</td>\n",
       "    </tr>\n",
       "    <tr>\n",
       "      <th>889</th>\n",
       "      <td>890</td>\n",
       "      <td>1</td>\n",
       "      <td>1</td>\n",
       "      <td>Behr, Mr. Karl Howell</td>\n",
       "      <td>male</td>\n",
       "      <td>26.0</td>\n",
       "      <td>0</td>\n",
       "      <td>0</td>\n",
       "      <td>30.0000</td>\n",
       "      <td>C</td>\n",
       "      <td>Mr</td>\n",
       "    </tr>\n",
       "    <tr>\n",
       "      <th>890</th>\n",
       "      <td>891</td>\n",
       "      <td>0</td>\n",
       "      <td>3</td>\n",
       "      <td>Dooley, Mr. Patrick</td>\n",
       "      <td>male</td>\n",
       "      <td>32.0</td>\n",
       "      <td>0</td>\n",
       "      <td>0</td>\n",
       "      <td>7.7500</td>\n",
       "      <td>Q</td>\n",
       "      <td>Mr</td>\n",
       "    </tr>\n",
       "  </tbody>\n",
       "</table>\n",
       "<p>891 rows × 11 columns</p>\n",
       "</div>"
      ],
      "text/plain": [
       "     PassengerId  Survived  Pclass  \\\n",
       "0              1         0       3   \n",
       "1              2         1       1   \n",
       "2              3         1       3   \n",
       "3              4         1       1   \n",
       "4              5         0       3   \n",
       "..           ...       ...     ...   \n",
       "886          887         0       2   \n",
       "887          888         1       1   \n",
       "888          889         0       3   \n",
       "889          890         1       1   \n",
       "890          891         0       3   \n",
       "\n",
       "                                                  Name     Sex   Age  SibSp  \\\n",
       "0                              Braund, Mr. Owen Harris    male  22.0      1   \n",
       "1    Cumings, Mrs. John Bradley (Florence Briggs Th...  female  38.0      1   \n",
       "2                               Heikkinen, Miss. Laina  female  26.0      0   \n",
       "3         Futrelle, Mrs. Jacques Heath (Lily May Peel)  female  35.0      1   \n",
       "4                             Allen, Mr. William Henry    male  35.0      0   \n",
       "..                                                 ...     ...   ...    ...   \n",
       "886                              Montvila, Rev. Juozas    male  27.0      0   \n",
       "887                       Graham, Miss. Margaret Edith  female  19.0      0   \n",
       "888           Johnston, Miss. Catherine Helen \"Carrie\"  female  28.0      1   \n",
       "889                              Behr, Mr. Karl Howell    male  26.0      0   \n",
       "890                                Dooley, Mr. Patrick    male  32.0      0   \n",
       "\n",
       "     Parch     Fare Embarked Title  \n",
       "0        0   7.2500        S    Mr  \n",
       "1        0  71.2833        C   Mrs  \n",
       "2        0   7.9250        S  Miss  \n",
       "3        0  53.1000        S   Mrs  \n",
       "4        0   8.0500        S    Mr  \n",
       "..     ...      ...      ...   ...  \n",
       "886      0  13.0000        S   Rev  \n",
       "887      0  30.0000        S  Miss  \n",
       "888      2  23.4500        S  Miss  \n",
       "889      0  30.0000        C    Mr  \n",
       "890      0   7.7500        Q    Mr  \n",
       "\n",
       "[891 rows x 11 columns]"
      ]
     },
     "execution_count": 41,
     "metadata": {},
     "output_type": "execute_result"
    }
   ],
   "source": [
    "for data in titanic:\n",
    "  titanic['Title'] = titanic['Name'].str.extract(' ([A-Za-z]+)\\.', expand=False)    \n",
    "titanic    # title이라고 새로 생기는 열을 주목해봅시다!"
   ]
  },
  {
   "cell_type": "markdown",
   "metadata": {
    "colab_type": "text",
    "id": "mlB00iiTQ7GP"
   },
   "source": [
    "> 새로 추가된 'title'이라는 열에는 총 17 종류의 데이터가 들어가 있으며 'Mr'가 제일 많은 것을 알 수 있습니다."
   ]
  },
  {
   "cell_type": "code",
   "execution_count": 42,
   "metadata": {
    "colab": {
     "base_uri": "https://localhost:8080/",
     "height": 173
    },
    "colab_type": "code",
    "executionInfo": {
     "elapsed": 7739,
     "status": "ok",
     "timestamp": 1590903975125,
     "user": {
      "displayName": "KANG HEE LEE",
      "photoUrl": "https://lh6.googleusercontent.com/-Tby0yH9KKqU/AAAAAAAAAAI/AAAAAAAAAKo/QINwPqwB8Hw/s64/photo.jpg",
      "userId": "07677907353848967045"
     },
     "user_tz": -540
    },
    "id": "LLdxlkg8QuOk",
    "outputId": "e56781ec-514b-426f-9525-e2b5ab47c12f"
   },
   "outputs": [
    {
     "data": {
      "text/html": [
       "<div>\n",
       "<style scoped>\n",
       "    .dataframe tbody tr th:only-of-type {\n",
       "        vertical-align: middle;\n",
       "    }\n",
       "\n",
       "    .dataframe tbody tr th {\n",
       "        vertical-align: top;\n",
       "    }\n",
       "\n",
       "    .dataframe thead th {\n",
       "        text-align: right;\n",
       "    }\n",
       "</style>\n",
       "<table border=\"1\" class=\"dataframe\">\n",
       "  <thead>\n",
       "    <tr style=\"text-align: right;\">\n",
       "      <th></th>\n",
       "      <th>Name</th>\n",
       "      <th>Sex</th>\n",
       "      <th>Embarked</th>\n",
       "      <th>Title</th>\n",
       "    </tr>\n",
       "  </thead>\n",
       "  <tbody>\n",
       "    <tr>\n",
       "      <th>count</th>\n",
       "      <td>891</td>\n",
       "      <td>891</td>\n",
       "      <td>891</td>\n",
       "      <td>891</td>\n",
       "    </tr>\n",
       "    <tr>\n",
       "      <th>unique</th>\n",
       "      <td>891</td>\n",
       "      <td>2</td>\n",
       "      <td>3</td>\n",
       "      <td>17</td>\n",
       "    </tr>\n",
       "    <tr>\n",
       "      <th>top</th>\n",
       "      <td>Braund, Mr. Owen Harris</td>\n",
       "      <td>male</td>\n",
       "      <td>S</td>\n",
       "      <td>Mr</td>\n",
       "    </tr>\n",
       "    <tr>\n",
       "      <th>freq</th>\n",
       "      <td>1</td>\n",
       "      <td>577</td>\n",
       "      <td>646</td>\n",
       "      <td>517</td>\n",
       "    </tr>\n",
       "  </tbody>\n",
       "</table>\n",
       "</div>"
      ],
      "text/plain": [
       "                           Name   Sex Embarked Title\n",
       "count                       891   891      891   891\n",
       "unique                      891     2        3    17\n",
       "top     Braund, Mr. Owen Harris  male        S    Mr\n",
       "freq                          1   577      646   517"
      ]
     },
     "execution_count": 42,
     "metadata": {},
     "output_type": "execute_result"
    }
   ],
   "source": [
    "titanic.describe(include=['O'])"
   ]
  },
  {
   "cell_type": "markdown",
   "metadata": {
    "colab_type": "text",
    "id": "Swek0rgjs0rt"
   },
   "source": [
    "#### `cut()` 을 이용한 구간 설정\n",
    "\n",
    "마케팅 직군에서도 고객을 분석할 때 보통 10대, 20대, 30대 등 이런 식으로 연령대 구분을 많이 하죠?  \n",
    "마찬가지로 데이터 분석에서도 나이가 11인지 12인지 보다는 10대인지 20대인지 이런 식으로 구간을 설정하여 보는 것이   \n",
    "더 정확하고, 성능을 좋게 내는 경우가 있습니다.\n",
    "\n",
    "> 🔍 우리도 `pd.cut()` 함수를 이용하여 나이를 5개의 구간으로 잘라보겠습니다. \n"
   ]
  },
  {
   "cell_type": "code",
   "execution_count": null,
   "metadata": {
    "colab": {
     "base_uri": "https://localhost:8080/",
     "height": 204
    },
    "colab_type": "code",
    "executionInfo": {
     "elapsed": 7730,
     "status": "ok",
     "timestamp": 1590903975126,
     "user": {
      "displayName": "KANG HEE LEE",
      "photoUrl": "https://lh6.googleusercontent.com/-Tby0yH9KKqU/AAAAAAAAAAI/AAAAAAAAAKo/QINwPqwB8Hw/s64/photo.jpg",
      "userId": "07677907353848967045"
     },
     "user_tz": -540
    },
    "id": "JozmmrtItUaz",
    "outputId": "2ee451fb-aad4-4bdc-a686-20ce5606cd9f"
   },
   "outputs": [],
   "source": [
    "import pandas as pd\n",
    "import seaborn as sns\n",
    "titanic['age_band'] = pd.cut(titanic['Age'], 5)    #5개의 구간으로 잘라, ageband 라는 새로운 열 생성\n",
    "titanic.head()"
   ]
  },
  {
   "cell_type": "markdown",
   "metadata": {
    "colab_type": "text",
    "id": "D2DScr3Ct7h-"
   },
   "source": [
    "구간으로 나눈 게 의미가 있을까요? 한번 **🗒pivot table** 을 이용해서 알아봅시다  \n",
    "> - **🗒pivot table**이란?  \n",
    "\n",
    "<img src = \"https://cdn.lynda.com/course/114891/114891-636216267723725186-16x9.jpg\" width = \"800\">\n",
    "\n",
    " 커다란 표의 데이터를 요약하는 통계표입니다. 이 요약에는 합계, 평균, 기타 통계가 포함될 수 있으며 피벗 테이블이 이들을 함께 \n",
    " \n",
    " 의미 있는 방식으로 묶어줍니다. 이는 유용한 정보에 집중할 수 있도록 하기 위해 통계를 정렬 또는 재정렬(피벗)합니다.  \n",
    "\n",
    "> - `pd.pivot_table()`"
   ]
  },
  {
   "cell_type": "code",
   "execution_count": null,
   "metadata": {
    "colab": {
     "base_uri": "https://localhost:8080/",
     "height": 80
    },
    "colab_type": "code",
    "executionInfo": {
     "elapsed": 7720,
     "status": "ok",
     "timestamp": 1590903975126,
     "user": {
      "displayName": "KANG HEE LEE",
      "photoUrl": "https://lh6.googleusercontent.com/-Tby0yH9KKqU/AAAAAAAAAAI/AAAAAAAAAKo/QINwPqwB8Hw/s64/photo.jpg",
      "userId": "07677907353848967045"
     },
     "user_tz": -540
    },
    "id": "PxIc-XhQUWRS",
    "outputId": "e721b133-17b2-4d13-eb06-487010f6fd55"
   },
   "outputs": [],
   "source": [
    "#각 age_band 별로 평균 survived 가 어느 정도인지 보여주는 피벗 테이블 \n",
    "pd.pivot_table(titanic, values='Survived', columns='age_band')"
   ]
  },
  {
   "cell_type": "markdown",
   "metadata": {
    "colab_type": "text",
    "id": "p4OC1_p2Vfnq"
   },
   "source": [
    "나이 구간에 따라서 생존율이 유의미하게 차이 나는 것을 볼 수 있습니다.   \n",
    "\n",
    "> 🔍연습 : 아래의 공간에 각 title 별로 생존율을 보여주는 피벗 테이블을 만들어보세요 "
   ]
  },
  {
   "cell_type": "code",
   "execution_count": null,
   "metadata": {
    "colab": {
     "base_uri": "https://localhost:8080/",
     "height": 80
    },
    "colab_type": "code",
    "executionInfo": {
     "elapsed": 7712,
     "status": "ok",
     "timestamp": 1590903975127,
     "user": {
      "displayName": "KANG HEE LEE",
      "photoUrl": "https://lh6.googleusercontent.com/-Tby0yH9KKqU/AAAAAAAAAAI/AAAAAAAAAKo/QINwPqwB8Hw/s64/photo.jpg",
      "userId": "07677907353848967045"
     },
     "user_tz": -540
    },
    "id": "IoEVy_QmGk16",
    "outputId": "e56c8eb2-4c34-4341-d5e8-fe8a94a7e023"
   },
   "outputs": [],
   "source": [
    "# 여기에\n",
    "pd.pivot_table(titanic, values='Survived', columns='Title')"
   ]
  },
  {
   "cell_type": "markdown",
   "metadata": {
    "colab_type": "text",
    "id": "tkvKlooft_5-"
   },
   "source": [
    "> age_band열을 drop해주기 위해서, 나눈 범위를 토대로 age 열의 값들을 0에서 4로 바꿔줍니다.\n",
    "> - `0: 'Child',  1: 'Young', 2: 'Middle', 3: 'Prime', 4: 'Old'`"
   ]
  },
  {
   "cell_type": "code",
   "execution_count": null,
   "metadata": {
    "colab": {
     "base_uri": "https://localhost:8080/",
     "height": 204
    },
    "colab_type": "code",
    "executionInfo": {
     "elapsed": 7702,
     "status": "ok",
     "timestamp": 1590903975127,
     "user": {
      "displayName": "KANG HEE LEE",
      "photoUrl": "https://lh6.googleusercontent.com/-Tby0yH9KKqU/AAAAAAAAAAI/AAAAAAAAAKo/QINwPqwB8Hw/s64/photo.jpg",
      "userId": "07677907353848967045"
     },
     "user_tz": -540
    },
    "id": "QO_fcOfBuNRJ",
    "outputId": "89c49bda-8ca7-4ad5-9419-86e2c0349190"
   },
   "outputs": [],
   "source": [
    "titanic.loc[titanic['Age'] <= 16, 'Age'] = 0\n",
    "titanic.loc[(titanic['Age'] > 16) & (titanic['Age'] <= 32), 'Age'] = 1\n",
    "titanic.loc[(titanic['Age'] > 32) & (titanic['Age'] <= 48), 'Age'] = 2\n",
    "titanic.loc[(titanic['Age'] > 48) & (titanic['Age'] <= 64), 'Age'] = 3\n",
    "titanic.loc[ titanic['Age'] > 64, 'Age'] = 4\n",
    "titanic.head()"
   ]
  },
  {
   "cell_type": "markdown",
   "metadata": {
    "colab_type": "text",
    "id": "E450CK80um-r"
   },
   "source": [
    "> 🔍`age_band` 를 드랍하세요."
   ]
  },
  {
   "cell_type": "code",
   "execution_count": null,
   "metadata": {
    "colab": {},
    "colab_type": "code",
    "id": "mLjLz9Gmuqz3"
   },
   "outputs": [],
   "source": [
    "#여기에\n",
    "titanic.drop(['age_band'],axis=1,inplace=True) "
   ]
  },
  {
   "cell_type": "markdown",
   "metadata": {
    "colab_type": "text",
    "id": "Raa-r_2PX-_U"
   },
   "source": [
    "⭐두 개 이상의 feature 를 조합하여 새로운 feature 를 만들 수도 있습니다 ⭐\n",
    "\n",
    "예를 들면, `sibsp` 와 `parch` 를 합쳐서 solo 라는 항목을 만들 수 있습니다.  \n",
    "\n",
    "혼자 왔다면 `solo = 1`, 아니라면 `solo = 0` 을 만들어 줍시다. "
   ]
  },
  {
   "cell_type": "code",
   "execution_count": null,
   "metadata": {
    "colab": {
     "base_uri": "https://localhost:8080/",
     "height": 204
    },
    "colab_type": "code",
    "executionInfo": {
     "elapsed": 7689,
     "status": "ok",
     "timestamp": 1590903975128,
     "user": {
      "displayName": "KANG HEE LEE",
      "photoUrl": "https://lh6.googleusercontent.com/-Tby0yH9KKqU/AAAAAAAAAAI/AAAAAAAAAKo/QINwPqwB8Hw/s64/photo.jpg",
      "userId": "07677907353848967045"
     },
     "user_tz": -540
    },
    "id": "Gbf2LC6oYcy9",
    "outputId": "ad902896-370a-4a73-b7a4-2189dff52844"
   },
   "outputs": [],
   "source": [
    "titanic['solo'] = titanic['SibSp'] + titanic['Parch'] == 0    # 혼자이면 True를 반환, 누군가와 함께 왔으면 False를 반환\n",
    "titanic['solo'] = titanic['solo'].astype(int)    # .astype()은 데이터셋 또는 데이터셋의 특정 열의 데이터 타입을 바꿔줍니다\n",
    "titanic.head()                                   # int는 파이썬에서 정수 타입을 의미, float과 반대"
   ]
  },
  {
   "cell_type": "code",
   "execution_count": null,
   "metadata": {
    "colab": {
     "base_uri": "https://localhost:8080/",
     "height": 51
    },
    "colab_type": "code",
    "executionInfo": {
     "elapsed": 620,
     "status": "ok",
     "timestamp": 1591235049346,
     "user": {
      "displayName": "KANG HEE LEE",
      "photoUrl": "https://lh6.googleusercontent.com/-Tby0yH9KKqU/AAAAAAAAAAI/AAAAAAAAAKo/QINwPqwB8Hw/s64/photo.jpg",
      "userId": "07677907353848967045"
     },
     "user_tz": -540
    },
    "id": "jP9wXjaW-Hiz",
    "outputId": "28d5167c-874e-4d2c-c837-5c53a6c27f26"
   },
   "outputs": [],
   "source": [
    "# 참고 : True 값은 숫자로 1, False는 숫자로 0 입니다.\n",
    "num_True = True + 2\n",
    "num_False = False + 2\n",
    "print(num_True)\n",
    "print(num_False)"
   ]
  },
  {
   "cell_type": "markdown",
   "metadata": {
    "colab_type": "text",
    "id": "IIQ7kboReiHR"
   },
   "source": [
    "> 이제 필요 없는 항목인 `sibsp` 와  `parch`를 `drop()` 하세요"
   ]
  },
  {
   "cell_type": "code",
   "execution_count": null,
   "metadata": {
    "colab": {
     "base_uri": "https://localhost:8080/",
     "height": 419
    },
    "colab_type": "code",
    "executionInfo": {
     "elapsed": 7683,
     "status": "ok",
     "timestamp": 1590903975129,
     "user": {
      "displayName": "KANG HEE LEE",
      "photoUrl": "https://lh6.googleusercontent.com/-Tby0yH9KKqU/AAAAAAAAAAI/AAAAAAAAAKo/QINwPqwB8Hw/s64/photo.jpg",
      "userId": "07677907353848967045"
     },
     "user_tz": -540
    },
    "id": "FJL5vJ7_elo4",
    "outputId": "6440fd56-e6da-46c8-f357-72939c321937"
   },
   "outputs": [],
   "source": [
    "titanic.drop(['SibSp','Parch'],axis=1,inplace=True)\n",
    "titanic"
   ]
  },
  {
   "cell_type": "markdown",
   "metadata": {
    "colab_type": "text",
    "id": "RCx05wFFspmC"
   },
   "source": [
    "## 📌step5. 데이터 검수\n",
    "\n",
    "> 모든 항목이 numeric 한지 마지막으로 확인해 봅시다. \n",
    "- `데이터셋.info()` "
   ]
  },
  {
   "cell_type": "code",
   "execution_count": null,
   "metadata": {
    "colab": {
     "base_uri": "https://localhost:8080/",
     "height": 289
    },
    "colab_type": "code",
    "executionInfo": {
     "elapsed": 7674,
     "status": "ok",
     "timestamp": 1590903975129,
     "user": {
      "displayName": "KANG HEE LEE",
      "photoUrl": "https://lh6.googleusercontent.com/-Tby0yH9KKqU/AAAAAAAAAAI/AAAAAAAAAKo/QINwPqwB8Hw/s64/photo.jpg",
      "userId": "07677907353848967045"
     },
     "user_tz": -540
    },
    "id": "3Kad2roTsxcS",
    "outputId": "d8f7717c-f0ee-4ecb-bd31-0d6fbd88a60d"
   },
   "outputs": [],
   "source": [
    "titanic.info()"
   ]
  },
  {
   "cell_type": "markdown",
   "metadata": {
    "colab_type": "text",
    "id": "IBM6oNoNvN_r"
   },
   "source": [
    "> `fare` 는 소수점 5자리 까지 쓰고 있는데, \n",
    "이것을 int 로 바꿔서 소수점을 버리겠습니다. \n"
   ]
  },
  {
   "cell_type": "code",
   "execution_count": null,
   "metadata": {
    "colab": {
     "base_uri": "https://localhost:8080/",
     "height": 289
    },
    "colab_type": "code",
    "executionInfo": {
     "elapsed": 7668,
     "status": "ok",
     "timestamp": 1590903975130,
     "user": {
      "displayName": "KANG HEE LEE",
      "photoUrl": "https://lh6.googleusercontent.com/-Tby0yH9KKqU/AAAAAAAAAAI/AAAAAAAAAKo/QINwPqwB8Hw/s64/photo.jpg",
      "userId": "07677907353848967045"
     },
     "user_tz": -540
    },
    "id": "qrZPkgg6vVuY",
    "outputId": "64023d14-99b0-4787-c5cf-e7d4af773730"
   },
   "outputs": [],
   "source": [
    "titanic['Fare'] = titanic['Fare'].astype(int)     # float에서 int로 바꿔줍니다\n",
    "titanic.info()"
   ]
  },
  {
   "cell_type": "markdown",
   "metadata": {
    "colab_type": "text",
    "id": "ZTSYhXHiveWA"
   },
   "source": [
    "> 🔍 마찬가지로 `age` 항목도 int 로 변환해 보세요.\n",
    "\n"
   ]
  },
  {
   "cell_type": "code",
   "execution_count": null,
   "metadata": {
    "colab": {
     "base_uri": "https://localhost:8080/",
     "height": 289
    },
    "colab_type": "code",
    "executionInfo": {
     "elapsed": 7660,
     "status": "ok",
     "timestamp": 1590903975130,
     "user": {
      "displayName": "KANG HEE LEE",
      "photoUrl": "https://lh6.googleusercontent.com/-Tby0yH9KKqU/AAAAAAAAAAI/AAAAAAAAAKo/QINwPqwB8Hw/s64/photo.jpg",
      "userId": "07677907353848967045"
     },
     "user_tz": -540
    },
    "id": "93qmJzGBvnEn",
    "outputId": "f25bb4ab-0e58-40d5-c846-48529e5be323"
   },
   "outputs": [],
   "source": [
    "#여기에\n",
    "titanic['Age'] = titanic['Age'].astype(int) \n",
    "titanic.info()"
   ]
  },
  {
   "cell_type": "markdown",
   "metadata": {
    "colab_type": "text",
    "id": "bo4AuIlTrn3X"
   },
   "source": [
    "> 🔍 `map` 또는 `labelencoder` 을 이용해 title 을 numerical 하게 바꾼 후에, name 항목을 drop 하기\n",
    " - ① 먼저 title 안에 어떤 값이 있는지 확인 - `데이터셋.title.unique()`\n",
    " - ② 중복되는 표현을 통일 - `데이터열.replace('이전', '이후')`\n",
    " - ③ numerical 데이터로 인코딩\n",
    " - ④ name 항목 드랍"
   ]
  },
  {
   "cell_type": "code",
   "execution_count": null,
   "metadata": {
    "colab": {
     "base_uri": "https://localhost:8080/",
     "height": 68
    },
    "colab_type": "code",
    "executionInfo": {
     "elapsed": 8164,
     "status": "ok",
     "timestamp": 1590903975643,
     "user": {
      "displayName": "KANG HEE LEE",
      "photoUrl": "https://lh6.googleusercontent.com/-Tby0yH9KKqU/AAAAAAAAAAI/AAAAAAAAAKo/QINwPqwB8Hw/s64/photo.jpg",
      "userId": "07677907353848967045"
     },
     "user_tz": -540
    },
    "id": "8T2D8W6db1P4",
    "outputId": "69243a2b-cdcd-4b9f-b30c-13c5140177fc"
   },
   "outputs": [],
   "source": [
    "# ① title 안에 어떤 값들이 있는지 확인\n",
    "titanic.Title.unique()"
   ]
  },
  {
   "cell_type": "code",
   "execution_count": null,
   "metadata": {
    "colab": {},
    "colab_type": "code",
    "id": "KjunzfE4i12X"
   },
   "outputs": [],
   "source": [
    "# ② 중복되는 표현 통일\n",
    "# 개체수가 적은 것들은 Other로 통일 / Mlle과 Miss / Mme과 Mrs / Ms와 Miss\n",
    "titanic['Title'] = titanic['Title'].replace(['Capt', 'Col', 'Countess', 'Don','Dona', 'Dr', 'Jonkheer', 'Lady','Major', 'Rev', 'Sir'], 'Other')\n",
    "titanic['Title'] = titanic['Title'].replace('Mlle', 'Miss')\n",
    "titanic['Title'] = titanic['Title'].replace('Mme', 'Mrs')\n",
    "titanic['Title'] = titanic['Title'].replace('Ms', 'Miss')"
   ]
  },
  {
   "cell_type": "code",
   "execution_count": null,
   "metadata": {
    "colab": {
     "base_uri": "https://localhost:8080/",
     "height": 34
    },
    "colab_type": "code",
    "executionInfo": {
     "elapsed": 8151,
     "status": "ok",
     "timestamp": 1590903975644,
     "user": {
      "displayName": "KANG HEE LEE",
      "photoUrl": "https://lh6.googleusercontent.com/-Tby0yH9KKqU/AAAAAAAAAAI/AAAAAAAAAKo/QINwPqwB8Hw/s64/photo.jpg",
      "userId": "07677907353848967045"
     },
     "user_tz": -540
    },
    "id": "x8zfahAzlB2N",
    "outputId": "093fe178-4529-48e3-9f4d-91f8b320b092"
   },
   "outputs": [],
   "source": [
    "titanic.Title.unique() # 이제 다시 한번 어떤 값들이 있는지 확인"
   ]
  },
  {
   "cell_type": "markdown",
   "metadata": {
    "colab_type": "text",
    "id": "CcryigielChT"
   },
   "source": [
    "> 😱 이제 title 열 안에 5 종류의 값밖에 남아있지 않을 것을 확인할 수 있을 것입니다"
   ]
  },
  {
   "cell_type": "code",
   "execution_count": null,
   "metadata": {
    "colab": {
     "base_uri": "https://localhost:8080/",
     "height": 204
    },
    "colab_type": "code",
    "executionInfo": {
     "elapsed": 8145,
     "status": "ok",
     "timestamp": 1590903975645,
     "user": {
      "displayName": "KANG HEE LEE",
      "photoUrl": "https://lh6.googleusercontent.com/-Tby0yH9KKqU/AAAAAAAAAAI/AAAAAAAAAKo/QINwPqwB8Hw/s64/photo.jpg",
      "userId": "07677907353848967045"
     },
     "user_tz": -540
    },
    "id": "SSddY8v6PCz9",
    "outputId": "3a69c966-89a3-453b-9ec6-090c844a717c"
   },
   "outputs": [],
   "source": [
    "# ③ numerical 데이터로 인코딩(LabelEncoder 사용)\n",
    "from sklearn.preprocessing import LabelEncoder    # LabelEncoder를 불러오기\n",
    "encoder = LabelEncoder()      # encoder라는 변수를 선언\n",
    "encoder.fit(titanic['Title']) # title 열에 맞게 인코딩\n",
    "titanic['Title'] = encoder.transform(titanic['Title']) # 인코딩 결과를 실제 행에 적용\n",
    "titanic.head()"
   ]
  },
  {
   "cell_type": "code",
   "execution_count": null,
   "metadata": {
    "colab": {},
    "colab_type": "code",
    "id": "2_7wana8Im-s"
   },
   "outputs": [],
   "source": [
    "# ④ name 항목 드랍\n",
    "titanic.drop('Name',axis=1,inplace=True)\n",
    "titanic.head()"
   ]
  },
  {
   "cell_type": "code",
   "execution_count": null,
   "metadata": {
    "colab": {
     "base_uri": "https://localhost:8080/",
     "height": 34
    },
    "colab_type": "code",
    "executionInfo": {
     "elapsed": 8136,
     "status": "ok",
     "timestamp": 1590903975645,
     "user": {
      "displayName": "KANG HEE LEE",
      "photoUrl": "https://lh6.googleusercontent.com/-Tby0yH9KKqU/AAAAAAAAAAI/AAAAAAAAAKo/QINwPqwB8Hw/s64/photo.jpg",
      "userId": "07677907353848967045"
     },
     "user_tz": -540
    },
    "id": "46lxVLSXbwgv",
    "outputId": "14d959f9-07f8-421f-cf7e-493275c6af1d"
   },
   "outputs": [],
   "source": [
    "# inverse transform 을 이용하면 역으로 원래 문자열 데이터를 알 수 있습니다. \n",
    "encoder.inverse_transform([3])"
   ]
  },
  {
   "cell_type": "markdown",
   "metadata": {
    "colab_type": "text",
    "id": "fQk8NL_bvoHj"
   },
   "source": [
    "> 🔍 `sex` 항목도 numeric 으로 변환해주세요"
   ]
  },
  {
   "cell_type": "code",
   "execution_count": null,
   "metadata": {
    "colab": {
     "base_uri": "https://localhost:8080/",
     "height": 204
    },
    "colab_type": "code",
    "executionInfo": {
     "elapsed": 8130,
     "status": "ok",
     "timestamp": 1590903975646,
     "user": {
      "displayName": "KANG HEE LEE",
      "photoUrl": "https://lh6.googleusercontent.com/-Tby0yH9KKqU/AAAAAAAAAAI/AAAAAAAAAKo/QINwPqwB8Hw/s64/photo.jpg",
      "userId": "07677907353848967045"
     },
     "user_tz": -540
    },
    "id": "lPPg2TFBvs7I",
    "outputId": "13b5420c-5fe3-42f1-bc30-85a601bbed48"
   },
   "outputs": [],
   "source": [
    "# map 함수 사용\n",
    "genders = {\"male\": 0, \"female\": 1}\n",
    "titanic['Sex'] = titanic['Sex'].map(genders)\n",
    "titanic.head()"
   ]
  },
  {
   "cell_type": "markdown",
   "metadata": {
    "colab_type": "text",
    "id": "hFKL5NSQN83W"
   },
   "source": [
    "> 🔍`embarked` 항목도 변환해보겠습니다"
   ]
  },
  {
   "cell_type": "code",
   "execution_count": null,
   "metadata": {
    "colab": {},
    "colab_type": "code",
    "id": "4p5t4xKrSAj5"
   },
   "outputs": [],
   "source": [
    "# 여기에\n",
    "titanic['Embarked'] = titanic['Embarked'].map( {'S': 0, 'C': 1, 'Q': 2} ).astype(int)    # 소숫점 자리가 나오지 않게 .astype(int)를 사용"
   ]
  },
  {
   "cell_type": "code",
   "execution_count": null,
   "metadata": {
    "colab": {
     "base_uri": "https://localhost:8080/",
     "height": 204
    },
    "colab_type": "code",
    "executionInfo": {
     "elapsed": 8117,
     "status": "ok",
     "timestamp": 1590903975647,
     "user": {
      "displayName": "KANG HEE LEE",
      "photoUrl": "https://lh6.googleusercontent.com/-Tby0yH9KKqU/AAAAAAAAAAI/AAAAAAAAAKo/QINwPqwB8Hw/s64/photo.jpg",
      "userId": "07677907353848967045"
     },
     "user_tz": -540
    },
    "id": "LNLrxToGRvM2",
    "outputId": "e80095e3-abd1-4f7a-f465-38a4dde7965d"
   },
   "outputs": [],
   "source": [
    "titanic.head()"
   ]
  },
  {
   "cell_type": "markdown",
   "metadata": {
    "colab_type": "text",
    "id": "zS6Dt15L5kBm"
   },
   "source": [
    "## 📌Step6. scikit-learn 모델로 성능 검증하기 \n",
    "\n",
    "데이터 전처리와 모델에 사용하기 위해서 각종 전처리 방법을 배우고 실습해 보았습니다. \n",
    "\n",
    "실제 전처리가 모델에 성능에 어떤 영향을 미치는지 확인해 봅시다.\n",
    "\n",
    "`scores(x,y)` 함수는 x 에 features 를, y 에 예측하고자 하는 output 을 넣어주면\n",
    "4개의 모델 \n",
    "\n",
    "**logistic regression, SVM, KNN, Random Forest** 로 훈련한 정확도를 보여줍니다. \n",
    "\n",
    "위의 모델에 대해서 일부를 나중에 더 자세히 배우고, 현재는 이 `scores()` 함수를 이용해 타이타닉 데이터셋에 대하여 \n",
    "\n",
    "어느 정도의 성능이 나오는지만 확인해 보겠습니다.  \n",
    "\n",
    "\n",
    "\n",
    "\n"
   ]
  },
  {
   "cell_type": "markdown",
   "metadata": {
    "colab_type": "text",
    "id": "VDGKgym_tHbu"
   },
   "source": [
    "> 📂필요한 패키지 불러오기"
   ]
  },
  {
   "cell_type": "code",
   "execution_count": null,
   "metadata": {
    "colab": {},
    "colab_type": "code",
    "id": "pwmGvBgxN5gZ"
   },
   "outputs": [],
   "source": [
    "# 4강에서 배울 모델들이 포함되어있습니다. 일단 실행만 시켜줍니다!\n",
    "from sklearn.linear_model import LogisticRegression    # \n",
    "from sklearn.model_selection import train_test_split   # 데이터 분리를 위한 함수"
   ]
  },
  {
   "cell_type": "markdown",
   "metadata": {
    "colab_type": "text",
    "id": "ddwGXOhi0EoO"
   },
   "source": [
    "> 🔎 `max_iter` 는 무엇인가요? \n",
    "\n",
    "`max_iter`는 기본적으로 100으로 세팅되어있습니다.\n",
    "\n",
    "이것은 `model.fit` 에서 피팅 시에 최대 시도 횟수를 뜻합니다. 100 이면 최대 100번 시도 하는 것이고,  \n",
    "1000이면 최대 1000번시도합니다.\n",
    "\n",
    "이 경우에 데이터가 복잡해서 100번을 기본세팅으로 하면 `model.fit` 이 실행되지 않습니다. "
   ]
  },
  {
   "cell_type": "code",
   "execution_count": null,
   "metadata": {
    "colab": {
     "base_uri": "https://localhost:8080/",
     "height": 493
    },
    "colab_type": "code",
    "executionInfo": {
     "elapsed": 8088,
     "status": "ok",
     "timestamp": 1590903975649,
     "user": {
      "displayName": "KANG HEE LEE",
      "photoUrl": "https://lh6.googleusercontent.com/-Tby0yH9KKqU/AAAAAAAAAAI/AAAAAAAAAKo/QINwPqwB8Hw/s64/photo.jpg",
      "userId": "07677907353848967045"
     },
     "user_tz": -540
    },
    "id": "W9mnWjI9eOmG",
    "outputId": "57602377-d1d4-4975-d3fa-337965f78373"
   },
   "outputs": [],
   "source": [
    "x = titanic[['Pclass','Sex','Age','Fare', 'Embarked','solo','Title']]\n",
    "y = titanic[['Survived']]\n",
    "\n",
    "print(x)\n",
    "print(y)"
   ]
  },
  {
   "cell_type": "code",
   "execution_count": null,
   "metadata": {
    "colab": {},
    "colab_type": "code",
    "id": "O0KDohlYd_h8"
   },
   "outputs": [],
   "source": [
    "model = LogisticRegression(max_iter=1000)   \n",
    "x_train, x_test, y_train, y_test = train_test_split(x, y, test_size=0.2)\n",
    "model.fit(x_train,y_train)\n",
    "Y_pred = model.predict(x_test)\n",
    "print('---'*5 + 'train_test_split 20/80')\n",
    "print('Logistic Regression' , round(model.score(x_train, y_train) * 100, 2))\n",
    "print('---'*5)"
   ]
  },
  {
   "cell_type": "code",
   "execution_count": null,
   "metadata": {
    "colab": {},
    "colab_type": "code",
    "id": "tiJe_zeafVq_"
   },
   "outputs": [],
   "source": [
    "y_pred = model.predict(x_test)"
   ]
  },
  {
   "cell_type": "code",
   "execution_count": null,
   "metadata": {},
   "outputs": [],
   "source": [
    "from sklearn.metrics import accuracy_score\n",
    "accuracy_score(y_test, y_pred)"
   ]
  },
  {
   "cell_type": "code",
   "execution_count": null,
   "metadata": {},
   "outputs": [],
   "source": []
  }
 ],
 "metadata": {
  "colab": {
   "collapsed_sections": [],
   "name": "3강 전처리 강사용.ipynb의 사본",
   "provenance": [
    {
     "file_id": "1U8nBDBH38v6xAEfVtcX6PokwXqLlSYvr",
     "timestamp": 1592376508726
    },
    {
     "file_id": "1SF4a4515z8JDGRgeED5asaAIw1AiWReh",
     "timestamp": 1588755683078
    }
   ]
  },
  "kernelspec": {
   "display_name": "Python 3 (ipykernel)",
   "language": "python",
   "name": "python3"
  },
  "language_info": {
   "codemirror_mode": {
    "name": "ipython",
    "version": 3
   },
   "file_extension": ".py",
   "mimetype": "text/x-python",
   "name": "python",
   "nbconvert_exporter": "python",
   "pygments_lexer": "ipython3",
   "version": "3.8.12"
  }
 },
 "nbformat": 4,
 "nbformat_minor": 1
}
