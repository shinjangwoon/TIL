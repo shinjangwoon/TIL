{
 "cells": [
  {
   "cell_type": "markdown",
   "metadata": {
    "colab_type": "text",
    "id": "O6OaqgyxUF26"
   },
   "source": [
    "시작하기 전에 필요한 라이브러리와 가공되지 않은 형태의 타이타닉 자료를 불러옵시다\n",
    "\n"
   ]
  },
  {
   "cell_type": "code",
   "execution_count": null,
   "metadata": {
    "colab": {
     "base_uri": "https://localhost:8080/",
     "height": 419
    },
    "colab_type": "code",
    "executionInfo": {
     "elapsed": 929,
     "status": "ok",
     "timestamp": 1592828119986,
     "user": {
      "displayName": "Jay Lee",
      "photoUrl": "",
      "userId": "00304770314328510862"
     },
     "user_tz": -540
    },
    "id": "H7Nrk0MIHE-7",
    "outputId": "852bb32f-2779-45a3-fc0e-f3614ba6b92b"
   },
   "outputs": [],
   "source": [
    "import seaborn as sns\n",
    "import pandas as pd\n",
    "titanic = sns.load_dataset('raw/titanic') # 앞서 사용한 내장 데이터셋 사용 방법\n",
    "titanic"
   ]
  },
  {
   "cell_type": "markdown",
   "metadata": {
    "colab_type": "text",
    "id": "PqZqlEJzGjlL"
   },
   "source": [
    "## Q 3-1\n",
    "\n",
    "야생의 타이타닉 데이터셋에서 **모든 결측치의 총 개수**를 `total_na` 변수에 저장해보세요!"
   ]
  },
  {
   "cell_type": "code",
   "execution_count": null,
   "metadata": {
    "colab": {
     "base_uri": "https://localhost:8080/",
     "height": 419
    },
    "colab_type": "code",
    "executionInfo": {
     "elapsed": 825,
     "status": "ok",
     "timestamp": 1592824466356,
     "user": {
      "displayName": "Jay Lee",
      "photoUrl": "",
      "userId": "00304770314328510862"
     },
     "user_tz": -540
    },
    "id": "RjnJPH5cvEya",
    "outputId": "4ae81b85-207c-4ef8-8abb-d1411175ab04"
   },
   "outputs": [],
   "source": [
    "titanic.isnull()"
   ]
  },
  {
   "cell_type": "code",
   "execution_count": null,
   "metadata": {
    "colab": {
     "base_uri": "https://localhost:8080/",
     "height": 34
    },
    "colab_type": "code",
    "executionInfo": {
     "elapsed": 895,
     "status": "ok",
     "timestamp": 1592828108950,
     "user": {
      "displayName": "Jay Lee",
      "photoUrl": "",
      "userId": "00304770314328510862"
     },
     "user_tz": -540
    },
    "id": "lF-_rbko5ZFq",
    "outputId": "a949b528-3da3-44b5-d6bb-5ccd48a8fed8"
   },
   "outputs": [],
   "source": [
    "# prob 1\n",
    "total_na = titanic.isnull().sum().sum()\n",
    "# 결과보기\n",
    "total_na"
   ]
  },
  {
   "cell_type": "markdown",
   "metadata": {
    "colab_type": "text",
    "id": "PN3-sZ1WOH88"
   },
   "source": [
    "총 866개가 나온다면 정답입니다."
   ]
  },
  {
   "cell_type": "markdown",
   "metadata": {
    "colab_type": "text",
    "id": "RyXj8-9gimIa"
   },
   "source": [
    "## Q 3-2\n",
    "\n",
    "수업시간에는 야생의 타이타닉 데이터셋에서 관측되지 않은(`NA`) 나이 항목을 채워주었습니다.  \n",
    "이번에는 **나이**가 관측되지 않은 사람들의 관측치 **행(row)를 모두 제거**해 타이타닉 데이터셋을 **업데이트(`inplcae=True`)**해주세요!\n",
    "\n",
    "> 힌트: `dropna()`함수의 `subset` 인자는 `NA` 값을 탐색할 열을 지정합니다."
   ]
  },
  {
   "cell_type": "code",
   "execution_count": null,
   "metadata": {
    "colab": {
     "base_uri": "https://localhost:8080/",
     "height": 419
    },
    "colab_type": "code",
    "executionInfo": {
     "elapsed": 953,
     "status": "ok",
     "timestamp": 1592828113002,
     "user": {
      "displayName": "Jay Lee",
      "photoUrl": "",
      "userId": "00304770314328510862"
     },
     "user_tz": -540
    },
    "id": "sRimkTu9ikgT",
    "outputId": "902e33d1-9d0c-457e-87c0-5a6aa250e94b"
   },
   "outputs": [],
   "source": [
    "# sol 2\n",
    "titanic.dropna(inplace=True)\n",
    "# 결과보기\n",
    "titanic"
   ]
  },
  {
   "cell_type": "markdown",
   "metadata": {
    "colab_type": "text",
    "id": "cEJ6OKpjL4Y5"
   },
   "source": [
    "> <img src = \"https://1.bp.blogspot.com/-e1MwoXVimZc/XrTMAP9ihmI/AAAAAAAAAVA/d96vQpzsEK4zUHUfm3s3Z3HzN5x7M35BQCLcBGAsYHQ/s1600/%25E1%2584%2589%25E1%2585%25B3%25E1%2584%258F%25E1%2585%25B3%25E1%2584%2585%25E1%2585%25B5%25E1%2586%25AB%25E1%2584%2589%25E1%2585%25A3%25E1%2586%25BA%2B2020-05-08%2B%25E1%2584%258B%25E1%2585%25A9%25E1%2584%258C%25E1%2585%25A5%25E1%2586%25AB%2B11.56.06.png\">\n",
    "> 이런 결과가 나오도록 해주세요! 총 714개의 행이 남아있으면 됩니다.\n",
    "\n"
   ]
  },
  {
   "cell_type": "markdown",
   "metadata": {
    "colab_type": "text",
    "id": "LT51pAlGG5PK"
   },
   "source": [
    "## Q 3-3\n",
    "\n",
    "타이타닉 데이터셋에 나이가 **30세 미만인 사람은 0**을, **30세 이상, 50세 미만인 사람은 1**을, **50세 이상인 사람은 2**의 값을 갖는 **열 `age_ind`를 추가**해보세요.\n",
    "\n",
    "이때, `age_ind`는 **정수형(int) 값**을 가져야합니다.\n",
    "\n",
    "> <img src = \"https://1.bp.blogspot.com/-fxN7Jm4zE9E/XrTL_RK1mdI/AAAAAAAAAU8/avMSlOgjzbI-iA1Vn9qW3uk8LlsOvIZ-wCLcBGAsYHQ/s1600/%25E1%2584%2589%25E1%2585%25B3%25E1%2584%258F%25E1%2585%25B3%25E1%2584%2585%25E1%2585%25B5%25E1%2586%25AB%25E1%2584%2589%25E1%2585%25A3%25E1%2586%25BA%2B2020-05-08%2B%25E1%2584%258B%25E1%2585%25A9%25E1%2584%2592%25E1%2585%25AE%2B12.01.39.png\">\n",
    "> 이런 결과가 나오면 됩니다."
   ]
  },
  {
   "cell_type": "code",
   "execution_count": null,
   "metadata": {
    "colab": {},
    "colab_type": "code",
    "id": "k2tCNLD1xS7w"
   },
   "outputs": [],
   "source": [
    "# sol 3\n",
    "titanic['age_ind'] = titanic['age']\n",
    "titanic.loc[titanic['age_ind'] < 30, 'age_ind'] = 0\n",
    "titanic.loc[(titanic['age_ind'] >= 30) & (titanic['age_ind'] <= 50), 'age_ind'] = 1\n",
    "titanic.loc[titanic['age_ind'] > 50, 'age_ind'] = 2\n",
    "titanic['age_ind'] = titanic['age_ind'].astype(int)\n",
    "\n",
    "# 결과보기\n",
    "titanic.head()"
   ]
  },
  {
   "cell_type": "markdown",
   "metadata": {
    "colab_type": "text",
    "id": "SGWEuvNqj4FP"
   },
   "source": [
    "## Q 3-4\n",
    "\n",
    "마지막으로 각 **`age_ind`**에 대해 **`pclass`의 분포**를 **막대그래프의 형태로 시각화**해주세요,"
   ]
  },
  {
   "cell_type": "markdown",
   "metadata": {
    "colab_type": "text",
    "id": "E_SWEzZSkrWN"
   },
   "source": [
    "> 이렇게요!  \n",
    "> <img src = \"https://1.bp.blogspot.com/-q4z7gH25cqU/XrTIUKo-7LI/AAAAAAAAAUs/CIK6bIIRRqUhxzWSlpzYMMSIgbqLoPKXQCLcBGAsYHQ/s1600/%25E1%2584%2589%25E1%2585%25B3%25E1%2584%258F%25E1%2585%25B3%25E1%2584%2585%25E1%2585%25B5%25E1%2586%25AB%25E1%2584%2589%25E1%2585%25A3%25E1%2586%25BA%2B2020-05-08%2B%25E1%2584%258B%25E1%2585%25A9%25E1%2584%258C%25E1%2585%25A5%25E1%2586%25AB%2B11.47.30.png\" width = \"400\">"
   ]
  },
  {
   "cell_type": "code",
   "execution_count": null,
   "metadata": {
    "colab": {},
    "colab_type": "code",
    "id": "jv94NryMj3Hm"
   },
   "outputs": [],
   "source": [
    "# sol 4\n",
    "sns.countplot(data=titanic, x='pclass', hue='age_ind');"
   ]
  },
  {
   "cell_type": "markdown",
   "metadata": {
    "colab_type": "text",
    "id": "ooh6knfbkybM"
   },
   "source": [
    "승객별로 나이의 분포가 비슷한가요? 다른가요?"
   ]
  }
 ],
 "metadata": {
  "colab": {
   "collapsed_sections": [],
   "name": "3강 전처리 과제.ipynb의 사본",
   "provenance": [
    {
     "file_id": "1SyNIBSLy0WJWuHA6hsn8YxC-SvTThWvt",
     "timestamp": 1592822597031
    },
    {
     "file_id": "1u_4FyX_VA-ZvJOQTIBUW2Ph8f9SbkEs3",
     "timestamp": 1588905536150
    },
    {
     "file_id": "1YguLn8heus47ixjOl6SW2kGVTL3Vk0uV",
     "timestamp": 1588675959713
    }
   ],
   "toc_visible": true
  },
  "kernelspec": {
   "display_name": "Python 3 (ipykernel)",
   "language": "python",
   "name": "python3"
  },
  "language_info": {
   "codemirror_mode": {
    "name": "ipython",
    "version": 3
   },
   "file_extension": ".py",
   "mimetype": "text/x-python",
   "name": "python",
   "nbconvert_exporter": "python",
   "pygments_lexer": "ipython3",
   "version": "3.7.12"
  }
 },
 "nbformat": 4,
 "nbformat_minor": 1
}
