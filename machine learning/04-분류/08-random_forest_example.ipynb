{
 "cells": [
  {
   "cell_type": "code",
   "execution_count": 1,
   "metadata": {
    "executionInfo": {
     "elapsed": 529,
     "status": "ok",
     "timestamp": 1635263556364,
     "user": {
      "displayName": "Doojin Park",
      "photoUrl": "https://lh3.googleusercontent.com/a/default-user=s64",
      "userId": "13081019711214908217"
     },
     "user_tz": -540
    },
    "id": "PCnkWXsLKb4B"
   },
   "outputs": [],
   "source": [
    "%config InlineBackend.figure_formats = {'png', 'retina'}\n",
    "import numpy as np\n",
    "import pandas as pd\n",
    "import matplotlib.pyplot as plt\n",
    "import seaborn as sns\n",
    "import warnings\n",
    "warnings.filterwarnings('ignore')"
   ]
  },
  {
   "cell_type": "code",
   "execution_count": null,
   "metadata": {
    "executionInfo": {
     "elapsed": 14,
     "status": "ok",
     "timestamp": 1635263556814,
     "user": {
      "displayName": "Doojin Park",
      "photoUrl": "https://lh3.googleusercontent.com/a/default-user=s64",
      "userId": "13081019711214908217"
     },
     "user_tz": -540
    },
    "id": "fOYldtexKpBB"
   },
   "outputs": [],
   "source": [
    "# 1. load data"
   ]
  },
  {
   "cell_type": "code",
   "execution_count": 2,
   "metadata": {
    "colab": {
     "base_uri": "https://localhost:8080/",
     "height": 100
    },
    "executionInfo": {
     "elapsed": 15,
     "status": "ok",
     "timestamp": 1635263556815,
     "user": {
      "displayName": "Doojin Park",
      "photoUrl": "https://lh3.googleusercontent.com/a/default-user=s64",
      "userId": "13081019711214908217"
     },
     "user_tz": -540
    },
    "id": "NapkmnDZLVZ1",
    "outputId": "01282d76-acfd-4077-d007-0137a523080e"
   },
   "outputs": [
    {
     "data": {
      "text/html": [
       "<div>\n",
       "<style scoped>\n",
       "    .dataframe tbody tr th:only-of-type {\n",
       "        vertical-align: middle;\n",
       "    }\n",
       "\n",
       "    .dataframe tbody tr th {\n",
       "        vertical-align: top;\n",
       "    }\n",
       "\n",
       "    .dataframe thead th {\n",
       "        text-align: right;\n",
       "    }\n",
       "</style>\n",
       "<table border=\"1\" class=\"dataframe\">\n",
       "  <thead>\n",
       "    <tr style=\"text-align: right;\">\n",
       "      <th></th>\n",
       "      <th>CreditScore</th>\n",
       "      <th>Age</th>\n",
       "      <th>Tenure</th>\n",
       "      <th>Balance</th>\n",
       "      <th>NumOfProducts</th>\n",
       "      <th>HasCrCard</th>\n",
       "      <th>IsActiveMember</th>\n",
       "      <th>EstimatedSalary</th>\n",
       "      <th>Exited</th>\n",
       "    </tr>\n",
       "  </thead>\n",
       "  <tbody>\n",
       "    <tr>\n",
       "      <th>9999</th>\n",
       "      <td>792</td>\n",
       "      <td>28</td>\n",
       "      <td>4</td>\n",
       "      <td>130142.79</td>\n",
       "      <td>1</td>\n",
       "      <td>1</td>\n",
       "      <td>0</td>\n",
       "      <td>38190.78</td>\n",
       "      <td>0</td>\n",
       "    </tr>\n",
       "  </tbody>\n",
       "</table>\n",
       "</div>"
      ],
      "text/plain": [
       "      CreditScore  Age  Tenure    Balance  NumOfProducts  HasCrCard  \\\n",
       "9999          792   28       4  130142.79              1          1   \n",
       "\n",
       "      IsActiveMember  EstimatedSalary  Exited  \n",
       "9999               0         38190.78       0  "
      ]
     },
     "execution_count": 2,
     "metadata": {},
     "output_type": "execute_result"
    }
   ],
   "source": [
    "df = pd.read_csv(\"./data/churn.csv\")\n",
    "df = df.drop(columns=[\"RowNumber\", \"CustomerId\", \"Surname\", \"Geography\", \"Gender\"])\n",
    "df.tail(1)"
   ]
  },
  {
   "cell_type": "code",
   "execution_count": 3,
   "metadata": {
    "colab": {
     "base_uri": "https://localhost:8080/"
    },
    "executionInfo": {
     "elapsed": 13,
     "status": "ok",
     "timestamp": 1635263556815,
     "user": {
      "displayName": "Doojin Park",
      "photoUrl": "https://lh3.googleusercontent.com/a/default-user=s64",
      "userId": "13081019711214908217"
     },
     "user_tz": -540
    },
    "id": "7GoVZ8PNLhOS",
    "outputId": "f20123d8-9130-4cb7-a051-e14905090d69"
   },
   "outputs": [
    {
     "name": "stdout",
     "output_type": "stream",
     "text": [
      "<class 'pandas.core.frame.DataFrame'>\n",
      "RangeIndex: 10000 entries, 0 to 9999\n",
      "Data columns (total 9 columns):\n",
      " #   Column           Non-Null Count  Dtype  \n",
      "---  ------           --------------  -----  \n",
      " 0   CreditScore      10000 non-null  int64  \n",
      " 1   Age              10000 non-null  int64  \n",
      " 2   Tenure           10000 non-null  int64  \n",
      " 3   Balance          10000 non-null  float64\n",
      " 4   NumOfProducts    10000 non-null  int64  \n",
      " 5   HasCrCard        10000 non-null  int64  \n",
      " 6   IsActiveMember   10000 non-null  int64  \n",
      " 7   EstimatedSalary  10000 non-null  float64\n",
      " 8   Exited           10000 non-null  int64  \n",
      "dtypes: float64(2), int64(7)\n",
      "memory usage: 703.2 KB\n"
     ]
    }
   ],
   "source": [
    "df.info()"
   ]
  },
  {
   "cell_type": "code",
   "execution_count": null,
   "metadata": {
    "executionInfo": {
     "elapsed": 11,
     "status": "ok",
     "timestamp": 1635263556816,
     "user": {
      "displayName": "Doojin Park",
      "photoUrl": "https://lh3.googleusercontent.com/a/default-user=s64",
      "userId": "13081019711214908217"
     },
     "user_tz": -540
    },
    "id": "wJj_O5a8LIUx"
   },
   "outputs": [],
   "source": [
    "# 2. preprocessing"
   ]
  },
  {
   "cell_type": "code",
   "execution_count": 4,
   "metadata": {
    "executionInfo": {
     "elapsed": 10,
     "status": "ok",
     "timestamp": 1635263556816,
     "user": {
      "displayName": "Doojin Park",
      "photoUrl": "https://lh3.googleusercontent.com/a/default-user=s64",
      "userId": "13081019711214908217"
     },
     "user_tz": -540
    },
    "id": "Tff4oZQQMKik"
   },
   "outputs": [],
   "source": [
    "target_name = \"Exited\"\n",
    "features = df.drop(columns=[target_name])\n",
    "target = df[target_name]"
   ]
  },
  {
   "cell_type": "code",
   "execution_count": 5,
   "metadata": {
    "executionInfo": {
     "elapsed": 11,
     "status": "ok",
     "timestamp": 1635263556817,
     "user": {
      "displayName": "Doojin Park",
      "photoUrl": "https://lh3.googleusercontent.com/a/default-user=s64",
      "userId": "13081019711214908217"
     },
     "user_tz": -540
    },
    "id": "OaYsnn6AMZPL"
   },
   "outputs": [],
   "source": [
    "from sklearn.model_selection import train_test_split"
   ]
  },
  {
   "cell_type": "code",
   "execution_count": 8,
   "metadata": {
    "executionInfo": {
     "elapsed": 10,
     "status": "ok",
     "timestamp": 1635263556817,
     "user": {
      "displayName": "Doojin Park",
      "photoUrl": "https://lh3.googleusercontent.com/a/default-user=s64",
      "userId": "13081019711214908217"
     },
     "user_tz": -540
    },
    "id": "Rkei1rlnMfkg"
   },
   "outputs": [],
   "source": [
    "train_x, test_x, train_y, test_y = train_test_split(\n",
    "    features, target, test_size=0.3, random_state=0\n",
    ")"
   ]
  },
  {
   "cell_type": "code",
   "execution_count": null,
   "metadata": {
    "executionInfo": {
     "elapsed": 11,
     "status": "ok",
     "timestamp": 1635263556818,
     "user": {
      "displayName": "Doojin Park",
      "photoUrl": "https://lh3.googleusercontent.com/a/default-user=s64",
      "userId": "13081019711214908217"
     },
     "user_tz": -540
    },
    "id": "fMuBv9arLKAP"
   },
   "outputs": [],
   "source": [
    "# 3. train model : DecisionTree, RandomForest"
   ]
  },
  {
   "cell_type": "code",
   "execution_count": 9,
   "metadata": {
    "executionInfo": {
     "elapsed": 538,
     "status": "ok",
     "timestamp": 1635263557346,
     "user": {
      "displayName": "Doojin Park",
      "photoUrl": "https://lh3.googleusercontent.com/a/default-user=s64",
      "userId": "13081019711214908217"
     },
     "user_tz": -540
    },
    "id": "JQPsJsQ2M2XI"
   },
   "outputs": [],
   "source": [
    "from sklearn.tree import DecisionTreeClassifier"
   ]
  },
  {
   "cell_type": "code",
   "execution_count": 10,
   "metadata": {
    "executionInfo": {
     "elapsed": 20,
     "status": "ok",
     "timestamp": 1635263557346,
     "user": {
      "displayName": "Doojin Park",
      "photoUrl": "https://lh3.googleusercontent.com/a/default-user=s64",
      "userId": "13081019711214908217"
     },
     "user_tz": -540
    },
    "id": "SqVH2jIQMsep"
   },
   "outputs": [],
   "source": [
    "dt_model = DecisionTreeClassifier(random_state=0).fit(train_x, train_y)"
   ]
  },
  {
   "cell_type": "code",
   "execution_count": 11,
   "metadata": {
    "executionInfo": {
     "elapsed": 21,
     "status": "ok",
     "timestamp": 1635263557347,
     "user": {
      "displayName": "Doojin Park",
      "photoUrl": "https://lh3.googleusercontent.com/a/default-user=s64",
      "userId": "13081019711214908217"
     },
     "user_tz": -540
    },
    "id": "XUPX1FCvNBBb"
   },
   "outputs": [],
   "source": [
    "from sklearn.ensemble import RandomForestClassifier"
   ]
  },
  {
   "cell_type": "code",
   "execution_count": 12,
   "metadata": {
    "executionInfo": {
     "elapsed": 1048,
     "status": "ok",
     "timestamp": 1635263558375,
     "user": {
      "displayName": "Doojin Park",
      "photoUrl": "https://lh3.googleusercontent.com/a/default-user=s64",
      "userId": "13081019711214908217"
     },
     "user_tz": -540
    },
    "id": "KGSjl8cENApX"
   },
   "outputs": [],
   "source": [
    "rf_model = RandomForestClassifier(random_state=0).fit(train_x, train_y)"
   ]
  },
  {
   "cell_type": "code",
   "execution_count": null,
   "metadata": {
    "executionInfo": {
     "elapsed": 11,
     "status": "ok",
     "timestamp": 1635263558377,
     "user": {
      "displayName": "Doojin Park",
      "photoUrl": "https://lh3.googleusercontent.com/a/default-user=s64",
      "userId": "13081019711214908217"
     },
     "user_tz": -540
    },
    "id": "BsPXrNkmLLir"
   },
   "outputs": [],
   "source": [
    "# 4. evaluation model"
   ]
  },
  {
   "cell_type": "code",
   "execution_count": 13,
   "metadata": {
    "executionInfo": {
     "elapsed": 11,
     "status": "ok",
     "timestamp": 1635263558378,
     "user": {
      "displayName": "Doojin Park",
      "photoUrl": "https://lh3.googleusercontent.com/a/default-user=s64",
      "userId": "13081019711214908217"
     },
     "user_tz": -540
    },
    "id": "xOxUWIrWLNPd"
   },
   "outputs": [],
   "source": [
    "from sklearn.metrics import classification_report"
   ]
  },
  {
   "cell_type": "code",
   "execution_count": 14,
   "metadata": {
    "colab": {
     "base_uri": "https://localhost:8080/"
    },
    "executionInfo": {
     "elapsed": 10,
     "status": "ok",
     "timestamp": 1635263558378,
     "user": {
      "displayName": "Doojin Park",
      "photoUrl": "https://lh3.googleusercontent.com/a/default-user=s64",
      "userId": "13081019711214908217"
     },
     "user_tz": -540
    },
    "id": "3XbFXwafNcB4",
    "outputId": "ad0a8305-20c0-46ef-ca6e-f74a5be3e801"
   },
   "outputs": [
    {
     "name": "stdout",
     "output_type": "stream",
     "text": [
      "              precision    recall  f1-score   support\n",
      "\n",
      "           0       0.87      0.84      0.86      2379\n",
      "           1       0.47      0.53      0.50       621\n",
      "\n",
      "    accuracy                           0.78      3000\n",
      "   macro avg       0.67      0.68      0.68      3000\n",
      "weighted avg       0.79      0.78      0.78      3000\n",
      "\n"
     ]
    }
   ],
   "source": [
    "pred = dt_model.predict(test_x)\n",
    "print(classification_report(test_y, pred))"
   ]
  },
  {
   "cell_type": "code",
   "execution_count": 15,
   "metadata": {
    "colab": {
     "base_uri": "https://localhost:8080/"
    },
    "executionInfo": {
     "elapsed": 9,
     "status": "ok",
     "timestamp": 1635263558379,
     "user": {
      "displayName": "Doojin Park",
      "photoUrl": "https://lh3.googleusercontent.com/a/default-user=s64",
      "userId": "13081019711214908217"
     },
     "user_tz": -540
    },
    "id": "dSPpHIv1N2Qh",
    "outputId": "6b8ce732-db66-49d2-9bc7-592538ff66dc"
   },
   "outputs": [
    {
     "name": "stdout",
     "output_type": "stream",
     "text": [
      "              precision    recall  f1-score   support\n",
      "\n",
      "           0       0.87      0.96      0.91      2379\n",
      "           1       0.74      0.47      0.57       621\n",
      "\n",
      "    accuracy                           0.86      3000\n",
      "   macro avg       0.81      0.71      0.74      3000\n",
      "weighted avg       0.85      0.86      0.84      3000\n",
      "\n"
     ]
    }
   ],
   "source": [
    "pred = rf_model.predict(test_x)\n",
    "print(classification_report(test_y, pred))"
   ]
  },
  {
   "cell_type": "code",
   "execution_count": null,
   "metadata": {
    "executionInfo": {
     "elapsed": 7,
     "status": "ok",
     "timestamp": 1635263558379,
     "user": {
      "displayName": "Doojin Park",
      "photoUrl": "https://lh3.googleusercontent.com/a/default-user=s64",
      "userId": "13081019711214908217"
     },
     "user_tz": -540
    },
    "id": "BnY-CF30Ob-t"
   },
   "outputs": [],
   "source": [
    "# dt : acc : 0.78, f1-score : 0.50\n",
    "# rf : acc : 0.86, f1-score : 0.57\n",
    "# target 데이터의 빈도가 언밸런스드하기 때문에 f1-score를 이용해서 모델의 성능을 비교 평가하는것이 좋다."
   ]
  }
 ],
 "metadata": {
  "colab": {
   "authorship_tag": "ABX9TyMwAd9D6edcIyURtqV8Wbu8",
   "collapsed_sections": [],
   "name": "08_random_forest_example.ipynb",
   "provenance": []
  },
  "interpreter": {
   "hash": "ad2bdc8ecc057115af97d19610ffacc2b4e99fae6737bb82f5d7fb13d2f2c186"
  },
  "kernelspec": {
   "display_name": "Python 3.8.8 ('base')",
   "language": "python",
   "name": "python3"
  },
  "language_info": {
   "codemirror_mode": {
    "name": "ipython",
    "version": 3
   },
   "file_extension": ".py",
   "mimetype": "text/x-python",
   "name": "python",
   "nbconvert_exporter": "python",
   "pygments_lexer": "ipython3",
   "version": "3.8.8"
  },
  "toc": {
   "base_numbering": 1,
   "nav_menu": {},
   "number_sections": false,
   "sideBar": true,
   "skip_h1_title": false,
   "title_cell": "Table of Contents",
   "title_sidebar": "Contents",
   "toc_cell": false,
   "toc_position": {},
   "toc_section_display": true,
   "toc_window_display": false
  }
 },
 "nbformat": 4,
 "nbformat_minor": 1
}
