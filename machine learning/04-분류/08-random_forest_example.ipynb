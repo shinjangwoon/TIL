{
 "cells": [
  {
   "cell_type": "code",
   "execution_count": null,
   "metadata": {
    "executionInfo": {
     "elapsed": 529,
     "status": "ok",
     "timestamp": 1635263556364,
     "user": {
      "displayName": "Doojin Park",
      "photoUrl": "https://lh3.googleusercontent.com/a/default-user=s64",
      "userId": "13081019711214908217"
     },
     "user_tz": -540
    },
    "id": "PCnkWXsLKb4B"
   },
   "outputs": [],
   "source": [
    "%config InlineBackend.figure_formats = {'png', 'retina'}\n",
    "import numpy as np\n",
    "import pandas as pd\n",
    "import matplotlib.pyplot as plt\n",
    "import seaborn as sns\n",
    "import warnings\n",
    "warnings.filterwarnings('ignore')"
   ]
  },
  {
   "cell_type": "code",
   "execution_count": null,
   "metadata": {
    "executionInfo": {
     "elapsed": 14,
     "status": "ok",
     "timestamp": 1635263556814,
     "user": {
      "displayName": "Doojin Park",
      "photoUrl": "https://lh3.googleusercontent.com/a/default-user=s64",
      "userId": "13081019711214908217"
     },
     "user_tz": -540
    },
    "id": "fOYldtexKpBB"
   },
   "outputs": [],
   "source": [
    "# 1. load data"
   ]
  },
  {
   "cell_type": "code",
   "execution_count": null,
   "metadata": {
    "colab": {
     "base_uri": "https://localhost:8080/",
     "height": 100
    },
    "executionInfo": {
     "elapsed": 15,
     "status": "ok",
     "timestamp": 1635263556815,
     "user": {
      "displayName": "Doojin Park",
      "photoUrl": "https://lh3.googleusercontent.com/a/default-user=s64",
      "userId": "13081019711214908217"
     },
     "user_tz": -540
    },
    "id": "NapkmnDZLVZ1",
    "outputId": "01282d76-acfd-4077-d007-0137a523080e"
   },
   "outputs": [],
   "source": [
    "df = pd.read_csv(\"./data/churn.csv\")\n",
    "df = df.drop(columns=[\"RowNumber\", \"CustomerId\", \"Surname\", \"Geography\", \"Gender\"])\n",
    "df.tail(1)"
   ]
  },
  {
   "cell_type": "code",
   "execution_count": null,
   "metadata": {
    "colab": {
     "base_uri": "https://localhost:8080/"
    },
    "executionInfo": {
     "elapsed": 13,
     "status": "ok",
     "timestamp": 1635263556815,
     "user": {
      "displayName": "Doojin Park",
      "photoUrl": "https://lh3.googleusercontent.com/a/default-user=s64",
      "userId": "13081019711214908217"
     },
     "user_tz": -540
    },
    "id": "7GoVZ8PNLhOS",
    "outputId": "f20123d8-9130-4cb7-a051-e14905090d69"
   },
   "outputs": [],
   "source": [
    "df.info()"
   ]
  },
  {
   "cell_type": "code",
   "execution_count": null,
   "metadata": {
    "executionInfo": {
     "elapsed": 11,
     "status": "ok",
     "timestamp": 1635263556816,
     "user": {
      "displayName": "Doojin Park",
      "photoUrl": "https://lh3.googleusercontent.com/a/default-user=s64",
      "userId": "13081019711214908217"
     },
     "user_tz": -540
    },
    "id": "wJj_O5a8LIUx"
   },
   "outputs": [],
   "source": [
    "# 2. preprocessing"
   ]
  },
  {
   "cell_type": "code",
   "execution_count": null,
   "metadata": {
    "executionInfo": {
     "elapsed": 10,
     "status": "ok",
     "timestamp": 1635263556816,
     "user": {
      "displayName": "Doojin Park",
      "photoUrl": "https://lh3.googleusercontent.com/a/default-user=s64",
      "userId": "13081019711214908217"
     },
     "user_tz": -540
    },
    "id": "Tff4oZQQMKik"
   },
   "outputs": [],
   "source": [
    "target_name = \"Exited\"\n",
    "features = df.drop(columns=[target_name])\n",
    "target = df[target_name]"
   ]
  },
  {
   "cell_type": "code",
   "execution_count": null,
   "metadata": {
    "executionInfo": {
     "elapsed": 11,
     "status": "ok",
     "timestamp": 1635263556817,
     "user": {
      "displayName": "Doojin Park",
      "photoUrl": "https://lh3.googleusercontent.com/a/default-user=s64",
      "userId": "13081019711214908217"
     },
     "user_tz": -540
    },
    "id": "OaYsnn6AMZPL"
   },
   "outputs": [],
   "source": [
    "from sklearn.model_selection import train_test_split"
   ]
  },
  {
   "cell_type": "code",
   "execution_count": null,
   "metadata": {
    "executionInfo": {
     "elapsed": 10,
     "status": "ok",
     "timestamp": 1635263556817,
     "user": {
      "displayName": "Doojin Park",
      "photoUrl": "https://lh3.googleusercontent.com/a/default-user=s64",
      "userId": "13081019711214908217"
     },
     "user_tz": -540
    },
    "id": "Rkei1rlnMfkg"
   },
   "outputs": [],
   "source": [
    "train_x, test_x, train_y, test_y = train_test_split(\n",
    "    features, target, test_size=0.3, random_state=0\n",
    ")"
   ]
  },
  {
   "cell_type": "code",
   "execution_count": null,
   "metadata": {
    "executionInfo": {
     "elapsed": 11,
     "status": "ok",
     "timestamp": 1635263556818,
     "user": {
      "displayName": "Doojin Park",
      "photoUrl": "https://lh3.googleusercontent.com/a/default-user=s64",
      "userId": "13081019711214908217"
     },
     "user_tz": -540
    },
    "id": "fMuBv9arLKAP"
   },
   "outputs": [],
   "source": [
    "# 3. train model : DecisionTree, RandomForest"
   ]
  },
  {
   "cell_type": "code",
   "execution_count": null,
   "metadata": {
    "executionInfo": {
     "elapsed": 538,
     "status": "ok",
     "timestamp": 1635263557346,
     "user": {
      "displayName": "Doojin Park",
      "photoUrl": "https://lh3.googleusercontent.com/a/default-user=s64",
      "userId": "13081019711214908217"
     },
     "user_tz": -540
    },
    "id": "JQPsJsQ2M2XI"
   },
   "outputs": [],
   "source": [
    "from sklearn.tree import DecisionTreeClassifier"
   ]
  },
  {
   "cell_type": "code",
   "execution_count": null,
   "metadata": {
    "executionInfo": {
     "elapsed": 20,
     "status": "ok",
     "timestamp": 1635263557346,
     "user": {
      "displayName": "Doojin Park",
      "photoUrl": "https://lh3.googleusercontent.com/a/default-user=s64",
      "userId": "13081019711214908217"
     },
     "user_tz": -540
    },
    "id": "SqVH2jIQMsep"
   },
   "outputs": [],
   "source": [
    "dt_model = DecisionTreeClassifier(random_state=0).fit(train_x, train_y)"
   ]
  },
  {
   "cell_type": "code",
   "execution_count": null,
   "metadata": {
    "executionInfo": {
     "elapsed": 21,
     "status": "ok",
     "timestamp": 1635263557347,
     "user": {
      "displayName": "Doojin Park",
      "photoUrl": "https://lh3.googleusercontent.com/a/default-user=s64",
      "userId": "13081019711214908217"
     },
     "user_tz": -540
    },
    "id": "XUPX1FCvNBBb"
   },
   "outputs": [],
   "source": [
    "from sklearn.ensemble import RandomForestClassifier"
   ]
  },
  {
   "cell_type": "code",
   "execution_count": null,
   "metadata": {
    "executionInfo": {
     "elapsed": 1048,
     "status": "ok",
     "timestamp": 1635263558375,
     "user": {
      "displayName": "Doojin Park",
      "photoUrl": "https://lh3.googleusercontent.com/a/default-user=s64",
      "userId": "13081019711214908217"
     },
     "user_tz": -540
    },
    "id": "KGSjl8cENApX"
   },
   "outputs": [],
   "source": [
    "rf_model = RandomForestClassifier(random_state=0).fit(train_x, train_y)"
   ]
  },
  {
   "cell_type": "code",
   "execution_count": null,
   "metadata": {
    "executionInfo": {
     "elapsed": 11,
     "status": "ok",
     "timestamp": 1635263558377,
     "user": {
      "displayName": "Doojin Park",
      "photoUrl": "https://lh3.googleusercontent.com/a/default-user=s64",
      "userId": "13081019711214908217"
     },
     "user_tz": -540
    },
    "id": "BsPXrNkmLLir"
   },
   "outputs": [],
   "source": [
    "# 4. evaluation model"
   ]
  },
  {
   "cell_type": "code",
   "execution_count": null,
   "metadata": {
    "executionInfo": {
     "elapsed": 11,
     "status": "ok",
     "timestamp": 1635263558378,
     "user": {
      "displayName": "Doojin Park",
      "photoUrl": "https://lh3.googleusercontent.com/a/default-user=s64",
      "userId": "13081019711214908217"
     },
     "user_tz": -540
    },
    "id": "xOxUWIrWLNPd"
   },
   "outputs": [],
   "source": [
    "from sklearn.metrics import classification_report"
   ]
  },
  {
   "cell_type": "code",
   "execution_count": null,
   "metadata": {
    "colab": {
     "base_uri": "https://localhost:8080/"
    },
    "executionInfo": {
     "elapsed": 10,
     "status": "ok",
     "timestamp": 1635263558378,
     "user": {
      "displayName": "Doojin Park",
      "photoUrl": "https://lh3.googleusercontent.com/a/default-user=s64",
      "userId": "13081019711214908217"
     },
     "user_tz": -540
    },
    "id": "3XbFXwafNcB4",
    "outputId": "ad0a8305-20c0-46ef-ca6e-f74a5be3e801"
   },
   "outputs": [],
   "source": [
    "pred = dt_model.predict(test_x)\n",
    "print(classification_report(test_y, pred))"
   ]
  },
  {
   "cell_type": "code",
   "execution_count": null,
   "metadata": {
    "colab": {
     "base_uri": "https://localhost:8080/"
    },
    "executionInfo": {
     "elapsed": 9,
     "status": "ok",
     "timestamp": 1635263558379,
     "user": {
      "displayName": "Doojin Park",
      "photoUrl": "https://lh3.googleusercontent.com/a/default-user=s64",
      "userId": "13081019711214908217"
     },
     "user_tz": -540
    },
    "id": "dSPpHIv1N2Qh",
    "outputId": "6b8ce732-db66-49d2-9bc7-592538ff66dc"
   },
   "outputs": [],
   "source": [
    "pred = rf_model.predict(test_x)\n",
    "print(classification_report(test_y, pred))"
   ]
  },
  {
   "cell_type": "code",
   "execution_count": null,
   "metadata": {
    "executionInfo": {
     "elapsed": 7,
     "status": "ok",
     "timestamp": 1635263558379,
     "user": {
      "displayName": "Doojin Park",
      "photoUrl": "https://lh3.googleusercontent.com/a/default-user=s64",
      "userId": "13081019711214908217"
     },
     "user_tz": -540
    },
    "id": "BnY-CF30Ob-t"
   },
   "outputs": [],
   "source": [
    "# dt : acc : 0.78, f1-score : 0.50\n",
    "# rf : acc : 0.86, f1-score : 0.57\n",
    "# target 데이터의 빈도가 언밸런스드하기 때문에 f1-score를 이용해서 모델의 성능을 비교 평가하는것이 좋다."
   ]
  }
 ],
 "metadata": {
  "colab": {
   "authorship_tag": "ABX9TyMwAd9D6edcIyURtqV8Wbu8",
   "collapsed_sections": [],
   "name": "08_random_forest_example.ipynb",
   "provenance": []
  },
  "kernelspec": {
   "display_name": "Python 3 (ipykernel)",
   "language": "python",
   "name": "python3"
  },
  "language_info": {
   "codemirror_mode": {
    "name": "ipython",
    "version": 3
   },
   "file_extension": ".py",
   "mimetype": "text/x-python",
   "name": "python",
   "nbconvert_exporter": "python",
   "pygments_lexer": "ipython3",
   "version": "3.7.12"
  },
  "toc": {
   "base_numbering": 1,
   "nav_menu": {},
   "number_sections": false,
   "sideBar": true,
   "skip_h1_title": false,
   "title_cell": "Table of Contents",
   "title_sidebar": "Contents",
   "toc_cell": false,
   "toc_position": {},
   "toc_section_display": true,
   "toc_window_display": false
  }
 },
 "nbformat": 4,
 "nbformat_minor": 1
}
