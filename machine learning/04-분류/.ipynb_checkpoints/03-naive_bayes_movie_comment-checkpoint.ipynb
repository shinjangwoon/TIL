{
 "cells": [
  {
   "cell_type": "code",
   "execution_count": null,
   "metadata": {
    "id": "HqeueQ8aFS-L"
   },
   "outputs": [],
   "source": [
    "# 나이브 베이지안 모델링 실습\n",
    "# 영화 댓글에 대한 감성 분류\n",
    "# target : 긍정(1), 부정(0)\n",
    "# feature : 영화 평가 댓글 : 텍스트 > vectorizer(pipeline)"
   ]
  },
  {
   "cell_type": "code",
   "execution_count": 1,
   "metadata": {
    "executionInfo": {
     "elapsed": 1780,
     "status": "ok",
     "timestamp": 1652282536973,
     "user": {
      "displayName": "Doojin Park",
      "userId": "13081019711214908217"
     },
     "user_tz": -540
    },
    "id": "BKPKtrcBH5jo"
   },
   "outputs": [],
   "source": [
    "%config InlineBackend.figure_formats = {'png', 'retina'}\n",
    "import warnings\n",
    "warnings.filterwarnings('ignore')\n",
    "import numpy as np\n",
    "import pandas as pd\n",
    "import matplotlib.pyplot as plt\n",
    "import seaborn as sns"
   ]
  },
  {
   "cell_type": "code",
   "execution_count": 2,
   "metadata": {
    "executionInfo": {
     "elapsed": 749,
     "status": "ok",
     "timestamp": 1652282539101,
     "user": {
      "displayName": "Doojin Park",
      "userId": "13081019711214908217"
     },
     "user_tz": -540
    },
    "id": "EO6GD672H8n0"
   },
   "outputs": [],
   "source": [
    "from sklearn.feature_extraction.text import TfidfVectorizer\n",
    "from sklearn.naive_bayes import MultinomialNB\n",
    "from sklearn.pipeline import Pipeline\n",
    "from sklearn.model_selection import train_test_split\n",
    "from sklearn.metrics import classification_report"
   ]
  },
  {
   "cell_type": "code",
   "execution_count": null,
   "metadata": {
    "id": "sXL_Bxn2FimG"
   },
   "outputs": [],
   "source": [
    "# 1. 데이터 다운로드"
   ]
  },
  {
   "cell_type": "code",
   "execution_count": null,
   "metadata": {
    "executionInfo": {
     "elapsed": 523,
     "status": "ok",
     "timestamp": 1652282530050,
     "user": {
      "displayName": "Doojin Park",
      "userId": "13081019711214908217"
     },
     "user_tz": -540
    },
    "id": "UpdazKoeG8oz"
   },
   "outputs": [],
   "source": [
    "# !wget -nc https://raw.githubusercontent.com/e9t/nsmc/master/ratings_train.txt"
   ]
  },
  {
   "cell_type": "code",
   "execution_count": null,
   "metadata": {
    "id": "2Oz-s8pRGA0h"
   },
   "outputs": [],
   "source": [
    "# 2. 데이터 불러오기 : csv, tsv, excel"
   ]
  },
  {
   "cell_type": "code",
   "execution_count": null,
   "metadata": {
    "colab": {
     "base_uri": "https://localhost:8080/",
     "height": 112
    },
    "executionInfo": {
     "elapsed": 488,
     "status": "ok",
     "timestamp": 1652282544068,
     "user": {
      "displayName": "Doojin Park",
      "userId": "13081019711214908217"
     },
     "user_tz": -540
    },
    "id": "yUKCY1xJHX24",
    "outputId": "efa1a1bf-8f96-483a-bcac-db21edd83ed0"
   },
   "outputs": [],
   "source": [
    "df = pd.read_csv(\"./data/ratings_train.txt\", sep=\"\\t\")\n",
    "df.tail(2)"
   ]
  },
  {
   "cell_type": "code",
   "execution_count": null,
   "metadata": {
    "id": "Y5Y5INLkGB08"
   },
   "outputs": [],
   "source": [
    "# 3. 데이터 전처리"
   ]
  },
  {
   "cell_type": "code",
   "execution_count": null,
   "metadata": {
    "id": "QSy3tlGmGfW3"
   },
   "outputs": [],
   "source": [
    "# 결측 데이터 제거 : df.dropna() : row 기준으로 제거 > reset_index(drop=True)"
   ]
  },
  {
   "cell_type": "code",
   "execution_count": null,
   "metadata": {
    "executionInfo": {
     "elapsed": 592,
     "status": "ok",
     "timestamp": 1652282547776,
     "user": {
      "displayName": "Doojin Park",
      "userId": "13081019711214908217"
     },
     "user_tz": -540
    },
    "id": "1_6cQWWnIocm"
   },
   "outputs": [],
   "source": [
    "filtered_df = df.dropna().reset_index(drop=True)"
   ]
  },
  {
   "cell_type": "code",
   "execution_count": null,
   "metadata": {
    "executionInfo": {
     "elapsed": 3,
     "status": "ok",
     "timestamp": 1652282548424,
     "user": {
      "displayName": "Doojin Park",
      "userId": "13081019711214908217"
     },
     "user_tz": -540
    },
    "id": "RQPGTTmVGgIv"
   },
   "outputs": [],
   "source": [
    "# 데이터셋 나누기 : train_x, test_x, train_y, test_y : train_test_split()"
   ]
  },
  {
   "cell_type": "code",
   "execution_count": null,
   "metadata": {
    "executionInfo": {
     "elapsed": 2,
     "status": "ok",
     "timestamp": 1652282548973,
     "user": {
      "displayName": "Doojin Park",
      "userId": "13081019711214908217"
     },
     "user_tz": -540
    },
    "id": "Au1acH46Io2c"
   },
   "outputs": [],
   "source": [
    "train_x, test_x, train_y, test_y = train_test_split(\n",
    "    filtered_df[\"document\"], filtered_df[\"label\"], test_size=0.3, random_state=0\n",
    ")"
   ]
  },
  {
   "cell_type": "code",
   "execution_count": null,
   "metadata": {
    "colab": {
     "base_uri": "https://localhost:8080/"
    },
    "executionInfo": {
     "elapsed": 577,
     "status": "ok",
     "timestamp": 1652282551590,
     "user": {
      "displayName": "Doojin Park",
      "userId": "13081019711214908217"
     },
     "user_tz": -540
    },
    "id": "70jhH_JhLxsZ",
    "outputId": "4e183e65-adcc-4429-d2a2-c506acccc638"
   },
   "outputs": [],
   "source": [
    "# random_state=0 의미\n",
    "# 항상 같은 랜덤한 결과를 출력\n",
    "\n",
    "np.random.seed(0)\n",
    "data1 = np.random.randint(10, size=5)\n",
    "\n",
    "np.random.seed(0)\n",
    "data2 = np.random.randint(10, size=5)\n",
    "\n",
    "np.random.seed(1)\n",
    "data3 = np.random.randint(10, size=5)\n",
    "\n",
    "data1, data2, data3"
   ]
  },
  {
   "cell_type": "code",
   "execution_count": null,
   "metadata": {
    "executionInfo": {
     "elapsed": 597,
     "status": "ok",
     "timestamp": 1652282554074,
     "user": {
      "displayName": "Doojin Park",
      "userId": "13081019711214908217"
     },
     "user_tz": -540
    },
    "id": "eeKBn2arGgqY"
   },
   "outputs": [],
   "source": [
    "# 4. 모델 학습 : Pipeline"
   ]
  },
  {
   "cell_type": "code",
   "execution_count": null,
   "metadata": {
    "executionInfo": {
     "elapsed": 2759,
     "status": "ok",
     "timestamp": 1652282557212,
     "user": {
      "displayName": "Doojin Park",
      "userId": "13081019711214908217"
     },
     "user_tz": -540
    },
    "id": "I36HPaeALf5m"
   },
   "outputs": [],
   "source": [
    "pipeline = Pipeline([\n",
    "    (\"vect\", TfidfVectorizer()),\n",
    "    (\"clf\", MultinomialNB()),\n",
    "])\n",
    "model = pipeline.fit(train_x, train_y)"
   ]
  },
  {
   "cell_type": "code",
   "execution_count": null,
   "metadata": {
    "executionInfo": {
     "elapsed": 492,
     "status": "ok",
     "timestamp": 1652282561455,
     "user": {
      "displayName": "Doojin Park",
      "userId": "13081019711214908217"
     },
     "user_tz": -540
    },
    "id": "UsuqKywfRuvj"
   },
   "outputs": [],
   "source": [
    "# return tuple\n",
    "data1, data2 = 1, \"python\"\n",
    "def test(num1, num2):\n",
    "    return num1**2, num2**2"
   ]
  },
  {
   "cell_type": "code",
   "execution_count": null,
   "metadata": {
    "colab": {
     "base_uri": "https://localhost:8080/"
    },
    "executionInfo": {
     "elapsed": 2,
     "status": "ok",
     "timestamp": 1652282561885,
     "user": {
      "displayName": "Doojin Park",
      "userId": "13081019711214908217"
     },
     "user_tz": -540
    },
    "id": "hgvbp8qYSx3z",
    "outputId": "9c110d15-a136-444c-f843-5288110f5dbe"
   },
   "outputs": [],
   "source": [
    "data1, data2 = test(2, 3) # data1, data2 = 4, 9\n",
    "data1, data2"
   ]
  },
  {
   "cell_type": "code",
   "execution_count": null,
   "metadata": {
    "colab": {
     "base_uri": "https://localhost:8080/"
    },
    "executionInfo": {
     "elapsed": 461,
     "status": "ok",
     "timestamp": 1652282567702,
     "user": {
      "displayName": "Doojin Park",
      "userId": "13081019711214908217"
     },
     "user_tz": -540
    },
    "id": "2VttHRrATH51",
    "outputId": "235836d8-7f44-458b-d151-33493722601c"
   },
   "outputs": [],
   "source": [
    "datas = [(\"A\", \"B\"), (\"C\", \"D\")]\n",
    "for data1, data2 in datas:\n",
    "    print(data1, data2)"
   ]
  },
  {
   "cell_type": "code",
   "execution_count": null,
   "metadata": {
    "executionInfo": {
     "elapsed": 570,
     "status": "ok",
     "timestamp": 1652282570463,
     "user": {
      "displayName": "Doojin Park",
      "userId": "13081019711214908217"
     },
     "user_tz": -540
    },
    "id": "zE0Gox1mGrBW"
   },
   "outputs": [],
   "source": [
    "# 5. 모델 평가 : classification report"
   ]
  },
  {
   "cell_type": "code",
   "execution_count": null,
   "metadata": {
    "colab": {
     "base_uri": "https://localhost:8080/"
    },
    "executionInfo": {
     "elapsed": 479,
     "status": "ok",
     "timestamp": 1652282571501,
     "user": {
      "displayName": "Doojin Park",
      "userId": "13081019711214908217"
     },
     "user_tz": -540
    },
    "id": "BdWRV27QQ-El",
    "outputId": "1a152f5f-739f-4df1-9829-a941b3b9052e"
   },
   "outputs": [],
   "source": [
    "pred = model.predict(test_x)\n",
    "print(classification_report(test_y, pred))"
   ]
  },
  {
   "cell_type": "code",
   "execution_count": null,
   "metadata": {
    "executionInfo": {
     "elapsed": 570,
     "status": "ok",
     "timestamp": 1652282580278,
     "user": {
      "displayName": "Doojin Park",
      "userId": "13081019711214908217"
     },
     "user_tz": -540
    },
    "id": "8-eAaiXqWzun"
   },
   "outputs": [],
   "source": [
    "# 모델 성능 평가 결론\n",
    "# 테스트 데이터의 target 데이터 카테고리가 밸런스드 하면 accuracy 로 모델을 평가\n",
    "# 언밸런스드 하면 f1-score 로 모델을 평가"
   ]
  },
  {
   "cell_type": "code",
   "execution_count": null,
   "metadata": {
    "executionInfo": {
     "elapsed": 2,
     "status": "ok",
     "timestamp": 1652282580823,
     "user": {
      "displayName": "Doojin Park",
      "userId": "13081019711214908217"
     },
     "user_tz": -540
    },
    "id": "s-Oi_UVNGwgn"
   },
   "outputs": [],
   "source": [
    "# 6. 모델 사용 : model.predict([data])"
   ]
  },
  {
   "cell_type": "code",
   "execution_count": null,
   "metadata": {
    "executionInfo": {
     "elapsed": 1,
     "status": "ok",
     "timestamp": 1652282581323,
     "user": {
      "displayName": "Doojin Park",
      "userId": "13081019711214908217"
     },
     "user_tz": -540
    },
    "id": "uFSzzcmpQ-pJ"
   },
   "outputs": [],
   "source": [
    "# 긍정(1), 부정(0)\n",
    "categories = {0: \"부정\", 1: \"긍정\"}\n",
    "sample_data = \"이 영화를 강력하게 추천 합니다.\""
   ]
  },
  {
   "cell_type": "code",
   "execution_count": null,
   "metadata": {
    "colab": {
     "base_uri": "https://localhost:8080/",
     "height": 36
    },
    "executionInfo": {
     "elapsed": 611,
     "status": "ok",
     "timestamp": 1652282585526,
     "user": {
      "displayName": "Doojin Park",
      "userId": "13081019711214908217"
     },
     "user_tz": -540
    },
    "id": "JCBsdbUjUIHN",
    "outputId": "fc939a85-ba64-4bdf-8bce-feef73a4e3ab"
   },
   "outputs": [],
   "source": [
    "pred_category = model.predict([sample_data])[0]\n",
    "result_text = categories[pred_category]\n",
    "result_text"
   ]
  }
 ],
 "metadata": {
  "colab": {
   "collapsed_sections": [],
   "name": "04_naive_bayes_movie_comment.ipynb",
   "provenance": []
  },
  "kernelspec": {
   "display_name": "Python 3 (ipykernel)",
   "language": "python",
   "name": "python3"
  },
  "language_info": {
   "codemirror_mode": {
    "name": "ipython",
    "version": 3
   },
   "file_extension": ".py",
   "mimetype": "text/x-python",
   "name": "python",
   "nbconvert_exporter": "python",
   "pygments_lexer": "ipython3",
   "version": "3.8.12"
  },
  "toc": {
   "base_numbering": 1,
   "nav_menu": {},
   "number_sections": false,
   "sideBar": true,
   "skip_h1_title": false,
   "title_cell": "Table of Contents",
   "title_sidebar": "Contents",
   "toc_cell": false,
   "toc_position": {},
   "toc_section_display": true,
   "toc_window_display": false
  }
 },
 "nbformat": 4,
 "nbformat_minor": 1
}
