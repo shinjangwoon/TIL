{
 "cells": [
  {
   "cell_type": "code",
   "execution_count": null,
   "metadata": {
    "executionInfo": {
     "elapsed": 776,
     "status": "ok",
     "timestamp": 1652283364624,
     "user": {
      "displayName": "Doojin Park",
      "userId": "13081019711214908217"
     },
     "user_tz": -540
    },
    "id": "Kbsm6SydDoel"
   },
   "outputs": [],
   "source": [
    "%config InlineBackend.figure_formats = {'png', 'retina'}\n",
    "import numpy as np\n",
    "import pandas as pd\n",
    "import matplotlib.pyplot as plt\n",
    "import seaborn as sns\n",
    "import warnings\n",
    "warnings.filterwarnings('ignore')"
   ]
  },
  {
   "cell_type": "markdown",
   "metadata": {
    "id": "oQpm8IvAD4NH"
   },
   "source": [
    "### 손글씨 분류 모델 만들기"
   ]
  },
  {
   "cell_type": "code",
   "execution_count": null,
   "metadata": {
    "executionInfo": {
     "elapsed": 3,
     "status": "ok",
     "timestamp": 1652283364624,
     "user": {
      "displayName": "Doojin Park",
      "userId": "13081019711214908217"
     },
     "user_tz": -540
    },
    "id": "PUBJBr5UD2jO"
   },
   "outputs": [],
   "source": [
    "# 1. 데이터 로드"
   ]
  },
  {
   "cell_type": "code",
   "execution_count": null,
   "metadata": {
    "executionInfo": {
     "elapsed": 3,
     "status": "ok",
     "timestamp": 1652283364624,
     "user": {
      "displayName": "Doojin Park",
      "userId": "13081019711214908217"
     },
     "user_tz": -540
    },
    "id": "sH9ayjBVEUqM"
   },
   "outputs": [],
   "source": [
    "from sklearn import datasets"
   ]
  },
  {
   "cell_type": "code",
   "execution_count": null,
   "metadata": {
    "executionInfo": {
     "elapsed": 281,
     "status": "ok",
     "timestamp": 1652283364903,
     "user": {
      "displayName": "Doojin Park",
      "userId": "13081019711214908217"
     },
     "user_tz": -540
    },
    "id": "4u7zOHVHEacU"
   },
   "outputs": [],
   "source": [
    "mnist = datasets.load_digits() # 8 * 8 이미지, 1797개"
   ]
  },
  {
   "cell_type": "code",
   "execution_count": null,
   "metadata": {
    "executionInfo": {
     "elapsed": 8,
     "status": "ok",
     "timestamp": 1652283364903,
     "user": {
      "displayName": "Doojin Park",
      "userId": "13081019711214908217"
     },
     "user_tz": -540
    },
    "id": "ZM_3WdTCEGz0"
   },
   "outputs": [],
   "source": [
    "# 2. 데이터 전처리"
   ]
  },
  {
   "cell_type": "code",
   "execution_count": null,
   "metadata": {
    "colab": {
     "base_uri": "https://localhost:8080/"
    },
    "executionInfo": {
     "elapsed": 8,
     "status": "ok",
     "timestamp": 1652283364903,
     "user": {
      "displayName": "Doojin Park",
      "userId": "13081019711214908217"
     },
     "user_tz": -540
    },
    "id": "4FT4fnTwEqry",
    "outputId": "8ab04ffc-fdeb-4f66-a252-ec5ea0683ccb"
   },
   "outputs": [],
   "source": [
    "mnist.keys()"
   ]
  },
  {
   "cell_type": "code",
   "execution_count": null,
   "metadata": {
    "colab": {
     "base_uri": "https://localhost:8080/"
    },
    "executionInfo": {
     "elapsed": 8,
     "status": "ok",
     "timestamp": 1652283364905,
     "user": {
      "displayName": "Doojin Park",
      "userId": "13081019711214908217"
     },
     "user_tz": -540
    },
    "id": "uzPq7moXEzQd",
    "outputId": "2dd766e3-9518-4ea5-dc30-9971d3cf227d"
   },
   "outputs": [],
   "source": [
    "print(len(mnist[\"data\"]))\n",
    "\n",
    "data = mnist[\"data\"][0]\n",
    "print(data)\n",
    "\n",
    "# 원래의 행렬 데이터로 변환\n",
    "img = data.reshape(8, 8)\n",
    "img"
   ]
  },
  {
   "cell_type": "code",
   "execution_count": null,
   "metadata": {
    "colab": {
     "base_uri": "https://localhost:8080/",
     "height": 265
    },
    "executionInfo": {
     "elapsed": 347,
     "status": "ok",
     "timestamp": 1652283365247,
     "user": {
      "displayName": "Doojin Park",
      "userId": "13081019711214908217"
     },
     "user_tz": -540
    },
    "id": "m7KYG2omFUbu",
    "outputId": "4e3b75ad-7ddb-47cb-8701-94da8c8e82c8"
   },
   "outputs": [],
   "source": [
    "# 이미지 출력\n",
    "plt.imshow(img, cmap=plt.cm.bone)\n",
    "plt.show()"
   ]
  },
  {
   "cell_type": "code",
   "execution_count": null,
   "metadata": {
    "executionInfo": {
     "elapsed": 5,
     "status": "ok",
     "timestamp": 1652283365247,
     "user": {
      "displayName": "Doojin Park",
      "userId": "13081019711214908217"
     },
     "user_tz": -540
    },
    "id": "Gp8AMD4AFrXg"
   },
   "outputs": [],
   "source": [
    "# mnist.data[1000:1002], mnist.target[1000:1002]"
   ]
  },
  {
   "cell_type": "code",
   "execution_count": null,
   "metadata": {
    "executionInfo": {
     "elapsed": 5,
     "status": "ok",
     "timestamp": 1652283365248,
     "user": {
      "displayName": "Doojin Park",
      "userId": "13081019711214908217"
     },
     "user_tz": -540
    },
    "id": "FxPKm6DvF5L5"
   },
   "outputs": [],
   "source": [
    "from sklearn.model_selection import train_test_split"
   ]
  },
  {
   "cell_type": "code",
   "execution_count": null,
   "metadata": {
    "executionInfo": {
     "elapsed": 5,
     "status": "ok",
     "timestamp": 1652283365248,
     "user": {
      "displayName": "Doojin Park",
      "userId": "13081019711214908217"
     },
     "user_tz": -540
    },
    "id": "3mdGSRWBGEvX"
   },
   "outputs": [],
   "source": [
    "train_x, test_x, train_y, test_y = train_test_split(\n",
    "    mnist.data, mnist.target, test_size=0.3, random_state=0)"
   ]
  },
  {
   "cell_type": "code",
   "execution_count": null,
   "metadata": {
    "executionInfo": {
     "elapsed": 6,
     "status": "ok",
     "timestamp": 1652283365249,
     "user": {
      "displayName": "Doojin Park",
      "userId": "13081019711214908217"
     },
     "user_tz": -540
    },
    "id": "g7d5DVYkEKD-"
   },
   "outputs": [],
   "source": [
    "# 3. 모델 학습 : svm : linear, rbf"
   ]
  },
  {
   "cell_type": "code",
   "execution_count": null,
   "metadata": {
    "executionInfo": {
     "elapsed": 676,
     "status": "ok",
     "timestamp": 1652283365919,
     "user": {
      "displayName": "Doojin Park",
      "userId": "13081019711214908217"
     },
     "user_tz": -540
    },
    "id": "bWyo14dFGbTc"
   },
   "outputs": [],
   "source": [
    "from sklearn.svm import SVC"
   ]
  },
  {
   "cell_type": "code",
   "execution_count": null,
   "metadata": {
    "executionInfo": {
     "elapsed": 25,
     "status": "ok",
     "timestamp": 1652283365920,
     "user": {
      "displayName": "Doojin Park",
      "userId": "13081019711214908217"
     },
     "user_tz": -540
    },
    "id": "Km5NTwOeGmMB"
   },
   "outputs": [],
   "source": [
    "linear_model = SVC( kernel=\"linear\").fit(train_x, train_y)"
   ]
  },
  {
   "cell_type": "code",
   "execution_count": null,
   "metadata": {
    "executionInfo": {
     "elapsed": 25,
     "status": "ok",
     "timestamp": 1652283365920,
     "user": {
      "displayName": "Doojin Park",
      "userId": "13081019711214908217"
     },
     "user_tz": -540
    },
    "id": "X69Pj4BUG5rw"
   },
   "outputs": [],
   "source": [
    "rbf_model = SVC(kernel=\"rbf\", C=10).fit(train_x, train_y)"
   ]
  },
  {
   "cell_type": "code",
   "execution_count": null,
   "metadata": {
    "executionInfo": {
     "elapsed": 25,
     "status": "ok",
     "timestamp": 1652283365921,
     "user": {
      "displayName": "Doojin Park",
      "userId": "13081019711214908217"
     },
     "user_tz": -540
    },
    "id": "ZClHV7hcEMc_"
   },
   "outputs": [],
   "source": [
    "# 4. 모델 평가"
   ]
  },
  {
   "cell_type": "code",
   "execution_count": null,
   "metadata": {
    "colab": {
     "base_uri": "https://localhost:8080/"
    },
    "executionInfo": {
     "elapsed": 25,
     "status": "ok",
     "timestamp": 1652283365921,
     "user": {
      "displayName": "Doojin Park",
      "userId": "13081019711214908217"
     },
     "user_tz": -540
    },
    "id": "P6WDbeZjHPes",
    "outputId": "5697893c-3e54-4ddf-c4b1-363a945bdfaa"
   },
   "outputs": [],
   "source": [
    "linear_score = linear_model.score(test_x, test_y)\n",
    "rbf_score = rbf_model.score(test_x, test_y)\n",
    "linear_score, rbf_score"
   ]
  },
  {
   "cell_type": "code",
   "execution_count": null,
   "metadata": {
    "executionInfo": {
     "elapsed": 24,
     "status": "ok",
     "timestamp": 1652283365921,
     "user": {
      "displayName": "Doojin Park",
      "userId": "13081019711214908217"
     },
     "user_tz": -540
    },
    "id": "RfCHQf-XHiBN"
   },
   "outputs": [],
   "source": [
    "# c : 10 : 0.99259 > 과적합확인\n",
    "# c : 1 : 0.99074\n",
    "# c : 0.1 : 0.9481"
   ]
  },
  {
   "cell_type": "code",
   "execution_count": null,
   "metadata": {
    "executionInfo": {
     "elapsed": 24,
     "status": "ok",
     "timestamp": 1652283365921,
     "user": {
      "displayName": "Doojin Park",
      "userId": "13081019711214908217"
     },
     "user_tz": -540
    },
    "id": "BTngAKFkEPct"
   },
   "outputs": [],
   "source": [
    "# 5. 모델 사용"
   ]
  },
  {
   "cell_type": "code",
   "execution_count": null,
   "metadata": {},
   "outputs": [],
   "source": [
    "import PIL.Image as pil\n",
    "\n",
    "sample_data = pil.open(\"./imgs/data_1.png\")\n",
    "sample_data"
   ]
  },
  {
   "cell_type": "code",
   "execution_count": null,
   "metadata": {
    "executionInfo": {
     "elapsed": 22,
     "status": "ok",
     "timestamp": 1652283365922,
     "user": {
      "displayName": "Doojin Park",
      "userId": "13081019711214908217"
     },
     "user_tz": -540
    },
    "id": "ILnVSKMSI3wc"
   },
   "outputs": [],
   "source": [
    "# 이미지 사이즈를 8 * 8로 축소"
   ]
  },
  {
   "cell_type": "code",
   "execution_count": null,
   "metadata": {
    "colab": {
     "base_uri": "https://localhost:8080/",
     "height": 34
    },
    "executionInfo": {
     "elapsed": 22,
     "status": "ok",
     "timestamp": 1652283365923,
     "user": {
      "displayName": "Doojin Park",
      "userId": "13081019711214908217"
     },
     "user_tz": -540
    },
    "id": "P91aKR-JJZxc",
    "outputId": "60ef3f19-b1fa-41f1-aab1-3579a1936481"
   },
   "outputs": [],
   "source": [
    "data1 = sample_data.resize((8, 8))\n",
    "data1"
   ]
  },
  {
   "cell_type": "code",
   "execution_count": null,
   "metadata": {
    "executionInfo": {
     "elapsed": 21,
     "status": "ok",
     "timestamp": 1652283365923,
     "user": {
      "displayName": "Doojin Park",
      "userId": "13081019711214908217"
     },
     "user_tz": -540
    },
    "id": "mg41a5XUI3cO"
   },
   "outputs": [],
   "source": [
    "# 흑백 이미지로 변경"
   ]
  },
  {
   "cell_type": "code",
   "execution_count": null,
   "metadata": {
    "colab": {
     "base_uri": "https://localhost:8080/"
    },
    "executionInfo": {
     "elapsed": 20,
     "status": "ok",
     "timestamp": 1652283365923,
     "user": {
      "displayName": "Doojin Park",
      "userId": "13081019711214908217"
     },
     "user_tz": -540
    },
    "id": "DpHakIkvJnO9",
    "outputId": "35125ba5-d2e2-457a-b0db-2c439948b3a1"
   },
   "outputs": [],
   "source": [
    "np.array(data1).shape"
   ]
  },
  {
   "cell_type": "code",
   "execution_count": null,
   "metadata": {
    "colab": {
     "base_uri": "https://localhost:8080/"
    },
    "executionInfo": {
     "elapsed": 17,
     "status": "ok",
     "timestamp": 1652283365923,
     "user": {
      "displayName": "Doojin Park",
      "userId": "13081019711214908217"
     },
     "user_tz": -540
    },
    "id": "trN-IlXGJaLy",
    "outputId": "510c625a-fa88-4d80-d19d-3380fe05b8ca"
   },
   "outputs": [],
   "source": [
    "data2 = np.array(data1).mean(axis=2)\n",
    "data2.shape"
   ]
  },
  {
   "cell_type": "code",
   "execution_count": null,
   "metadata": {
    "executionInfo": {
     "elapsed": 594,
     "status": "ok",
     "timestamp": 1652283366502,
     "user": {
      "displayName": "Doojin Park",
      "userId": "13081019711214908217"
     },
     "user_tz": -540
    },
    "id": "3IlLVrCdJIGm"
   },
   "outputs": [],
   "source": [
    "# 흑백 전환 : 양각 > 음각"
   ]
  },
  {
   "cell_type": "code",
   "execution_count": null,
   "metadata": {
    "colab": {
     "base_uri": "https://localhost:8080/",
     "height": 102
    },
    "executionInfo": {
     "elapsed": 16,
     "status": "ok",
     "timestamp": 1652283366503,
     "user": {
      "displayName": "Doojin Park",
      "userId": "13081019711214908217"
     },
     "user_tz": -540
    },
    "id": "sKUHdPnOJauE",
    "outputId": "8cdbf2d8-f2b8-4ecd-dcec-d04f513a21a5"
   },
   "outputs": [],
   "source": [
    "plt.figure(figsize=(2, 1))\n",
    "plt.imshow(data2, cmap=plt.cm.bone)\n",
    "plt.show()"
   ]
  },
  {
   "cell_type": "code",
   "execution_count": null,
   "metadata": {
    "colab": {
     "base_uri": "https://localhost:8080/"
    },
    "executionInfo": {
     "elapsed": 14,
     "status": "ok",
     "timestamp": 1652283366503,
     "user": {
      "displayName": "Doojin Park",
      "userId": "13081019711214908217"
     },
     "user_tz": -540
    },
    "id": "l0HRUf_mKHt5",
    "outputId": "0f3e6ae1-df14-43c6-e482-04b76228edae"
   },
   "outputs": [],
   "source": [
    "data3 = np.ones(data2.shape) * 255 - data2\n",
    "data3"
   ]
  },
  {
   "cell_type": "code",
   "execution_count": null,
   "metadata": {
    "colab": {
     "base_uri": "https://localhost:8080/",
     "height": 102
    },
    "executionInfo": {
     "elapsed": 13,
     "status": "ok",
     "timestamp": 1652283366504,
     "user": {
      "displayName": "Doojin Park",
      "userId": "13081019711214908217"
     },
     "user_tz": -540
    },
    "id": "-8IrsVLtKbwM",
    "outputId": "82922b7b-b7fd-4daf-a9d9-0002c84aa5cd"
   },
   "outputs": [],
   "source": [
    "plt.figure(figsize=(2, 1))\n",
    "plt.imshow(data3, cmap=plt.cm.bone)\n",
    "plt.show()"
   ]
  },
  {
   "cell_type": "code",
   "execution_count": null,
   "metadata": {
    "executionInfo": {
     "elapsed": 13,
     "status": "ok",
     "timestamp": 1652283366505,
     "user": {
      "displayName": "Doojin Park",
      "userId": "13081019711214908217"
     },
     "user_tz": -540
    },
    "id": "38pqtoHdJSOh"
   },
   "outputs": [],
   "source": [
    "# 색상범위 256 > 16"
   ]
  },
  {
   "cell_type": "code",
   "execution_count": null,
   "metadata": {
    "colab": {
     "base_uri": "https://localhost:8080/"
    },
    "executionInfo": {
     "elapsed": 13,
     "status": "ok",
     "timestamp": 1652283366505,
     "user": {
      "displayName": "Doojin Park",
      "userId": "13081019711214908217"
     },
     "user_tz": -540
    },
    "id": "zlKL0bwIJbEy",
    "outputId": "99875f80-1b44-46e3-e6ac-3a34f1823eee"
   },
   "outputs": [],
   "source": [
    "data4 = np.round(data3 / 16)\n",
    "data4"
   ]
  },
  {
   "cell_type": "code",
   "execution_count": null,
   "metadata": {
    "colab": {
     "base_uri": "https://localhost:8080/"
    },
    "executionInfo": {
     "elapsed": 10,
     "status": "ok",
     "timestamp": 1652283366505,
     "user": {
      "displayName": "Doojin Park",
      "userId": "13081019711214908217"
     },
     "user_tz": -540
    },
    "id": "z6EmeupGKyeS",
    "outputId": "78f73ad2-d08c-404c-a494-e8cf5c5dde43"
   },
   "outputs": [],
   "source": [
    "rbf_model.predict(data4.reshape(1, -1))"
   ]
  },
  {
   "cell_type": "code",
   "execution_count": null,
   "metadata": {},
   "outputs": [],
   "source": []
  }
 ],
 "metadata": {
  "colab": {
   "authorship_tag": "ABX9TyPmUlxnaaM1bRUyZUBxKzgI",
   "collapsed_sections": [],
   "name": "08_svm_mnist.ipynb",
   "provenance": []
  },
  "kernelspec": {
   "display_name": "Python 3 (ipykernel)",
   "language": "python",
   "name": "python3"
  },
  "language_info": {
   "codemirror_mode": {
    "name": "ipython",
    "version": 3
   },
   "file_extension": ".py",
   "mimetype": "text/x-python",
   "name": "python",
   "nbconvert_exporter": "python",
   "pygments_lexer": "ipython3",
   "version": "3.7.12"
  }
 },
 "nbformat": 4,
 "nbformat_minor": 1
}
