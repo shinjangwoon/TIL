{
 "cells": [
  {
   "cell_type": "code",
   "execution_count": 3,
   "metadata": {
    "executionInfo": {
     "elapsed": 680,
     "status": "ok",
     "timestamp": 1652282348692,
     "user": {
      "displayName": "Doojin Park",
      "userId": "13081019711214908217"
     },
     "user_tz": -540
    },
    "id": "aTX_Sii1KgHk"
   },
   "outputs": [],
   "source": [
    "import warnings\n",
    "warnings.filterwarnings('ignore')\n",
    "\n",
    "import numpy as np\n",
    "import pandas as pd\n",
    "import matplotlib.pyplot as plt"
   ]
  },
  {
   "cell_type": "markdown",
   "metadata": {
    "id": "R1aym9uKKGcx"
   },
   "source": [
    "### 텍스트 데이터 카테고리 분류 모델 만들기\n",
    "- Vectorizer + MultinomialNB"
   ]
  },
  {
   "cell_type": "markdown",
   "metadata": {
    "id": "rjnp6-0nKGc3"
   },
   "source": [
    "```\n",
    "s1 => 우리 나라는 한국 입니다.\n",
    "s2 => 한국은 살기 좋은 나라 입니다.\n",
    "\n",
    "   우리 나라 한국 살기 좋은 \n",
    "s1   1    1    1    0    0  \n",
    "s2   0    1    1    1    2 \n",
    "```"
   ]
  },
  {
   "cell_type": "code",
   "execution_count": null,
   "metadata": {},
   "outputs": [],
   "source": [
    "x 10000 y 100\n",
    "x 100 y 100 -> down sampling \n",
    "x 10000 y 10000 -> up sampling -> 100 * 100\n",
    "# 둘 다 장단점이 있지만 그래도 처음 10000개랑 100개로 하는 것보단 나음"
   ]
  },
  {
   "cell_type": "code",
   "execution_count": 1,
   "metadata": {
    "executionInfo": {
     "elapsed": 655,
     "status": "ok",
     "timestamp": 1652282358385,
     "user": {
      "displayName": "Doojin Park",
      "userId": "13081019711214908217"
     },
     "user_tz": -540
    },
    "id": "MtwIlxu6KGc5"
   },
   "outputs": [],
   "source": [
    "from sklearn.feature_extraction.text import CountVectorizer\n",
    "from sklearn.feature_extraction.text import TfidfVectorizer\n",
    "from sklearn.model_selection import train_test_split\n",
    "from sklearn.naive_bayes import MultinomialNB\n",
    "from sklearn.pipeline import Pipeline\n",
    "from sklearn.metrics import classification_report, confusion_matrix"
   ]
  },
  {
   "cell_type": "code",
   "execution_count": 4,
   "metadata": {
    "colab": {
     "base_uri": "https://localhost:8080/"
    },
    "executionInfo": {
     "elapsed": 591,
     "status": "ok",
     "timestamp": 1652282427829,
     "user": {
      "displayName": "Doojin Park",
      "userId": "13081019711214908217"
     },
     "user_tz": -540
    },
    "id": "207mhf-hKGc6",
    "outputId": "e25e23d6-3a82-4c97-d552-e01696fb0ac9"
   },
   "outputs": [
    {
     "data": {
      "text/plain": [
       "1200"
      ]
     },
     "execution_count": 4,
     "metadata": {},
     "output_type": "execute_result"
    }
   ],
   "source": [
    "article_df = pd.read_csv(\"./data/articles_1200.csv\")\n",
    "article_df = article_df.dropna()\n",
    "len(article_df)"
   ]
  },
  {
   "cell_type": "code",
   "execution_count": 5,
   "metadata": {},
   "outputs": [
    {
     "data": {
      "text/html": [
       "<div>\n",
       "<style scoped>\n",
       "    .dataframe tbody tr th:only-of-type {\n",
       "        vertical-align: middle;\n",
       "    }\n",
       "\n",
       "    .dataframe tbody tr th {\n",
       "        vertical-align: top;\n",
       "    }\n",
       "\n",
       "    .dataframe thead th {\n",
       "        text-align: right;\n",
       "    }\n",
       "</style>\n",
       "<table border=\"1\" class=\"dataframe\">\n",
       "  <thead>\n",
       "    <tr style=\"text-align: right;\">\n",
       "      <th></th>\n",
       "      <th>title</th>\n",
       "      <th>link</th>\n",
       "      <th>category</th>\n",
       "      <th>content</th>\n",
       "    </tr>\n",
       "  </thead>\n",
       "  <tbody>\n",
       "    <tr>\n",
       "      <th>0</th>\n",
       "      <td>합의문 휴짓조각…“불신임”까지 터져나온 나경원</td>\n",
       "      <td>https://news.naver.com/main/read.nhn?mode=LSD&amp;...</td>\n",
       "      <td>100</td>\n",
       "      <td>협상 과정 전략 없이 갈팡질팡나경원 자유한국당 원내대표가 24일 오후 국회에서 열린...</td>\n",
       "    </tr>\n",
       "    <tr>\n",
       "      <th>1</th>\n",
       "      <td>합의문 쓰고도 무산, '파국' 치닿는 국회…정상화 언제쯤?</td>\n",
       "      <td>https://news.naver.com/main/read.nhn?mode=LSD&amp;...</td>\n",
       "      <td>100</td>\n",
       "      <td>[앵커]지금 국회에는 서복현 기자가 남아 있습니다. 연결해서 분위기 좀 들어보겠습니...</td>\n",
       "    </tr>\n",
       "    <tr>\n",
       "      <th>2</th>\n",
       "      <td>“삭발까지 했는데” 의총 반란…합의문 2시간 만에 휴지조각</td>\n",
       "      <td>https://news.naver.com/main/read.nhn?mode=LSD&amp;...</td>\n",
       "      <td>100</td>\n",
       "      <td>ㆍ한국당, 국회 정상화 합의안 추인 거부 ‘자중지란’ㆍ의원 20여명 “얻은 게 뭐냐...</td>\n",
       "    </tr>\n",
       "    <tr>\n",
       "      <th>3</th>\n",
       "      <td>나경원 리더십 타격, 투톱 황교안도 ‘불똥’</td>\n",
       "      <td>https://news.naver.com/main/read.nhn?mode=LSD&amp;...</td>\n",
       "      <td>100</td>\n",
       "      <td>ㆍ재위임 불구 대여 입지 축소ㆍ당내 ‘박영선 조기사퇴’ 회자ㆍ강경 일변도 황 대표 ...</td>\n",
       "    </tr>\n",
       "    <tr>\n",
       "      <th>4</th>\n",
       "      <td>與, '대정부 투쟁' 민노총과 거리두기 고심</td>\n",
       "      <td>https://news.naver.com/main/read.nhn?mode=LSD&amp;...</td>\n",
       "      <td>100</td>\n",
       "      <td>與, 대정부 투쟁 민노총과 거리두기 고심[앵커] 민주노총이 김명환 위원장의 구속을 ...</td>\n",
       "    </tr>\n",
       "  </tbody>\n",
       "</table>\n",
       "</div>"
      ],
      "text/plain": [
       "                              title  \\\n",
       "0         합의문 휴짓조각…“불신임”까지 터져나온 나경원   \n",
       "1  합의문 쓰고도 무산, '파국' 치닿는 국회…정상화 언제쯤?   \n",
       "2  “삭발까지 했는데” 의총 반란…합의문 2시간 만에 휴지조각   \n",
       "3          나경원 리더십 타격, 투톱 황교안도 ‘불똥’   \n",
       "4          與, '대정부 투쟁' 민노총과 거리두기 고심   \n",
       "\n",
       "                                                link  category  \\\n",
       "0  https://news.naver.com/main/read.nhn?mode=LSD&...       100   \n",
       "1  https://news.naver.com/main/read.nhn?mode=LSD&...       100   \n",
       "2  https://news.naver.com/main/read.nhn?mode=LSD&...       100   \n",
       "3  https://news.naver.com/main/read.nhn?mode=LSD&...       100   \n",
       "4  https://news.naver.com/main/read.nhn?mode=LSD&...       100   \n",
       "\n",
       "                                             content  \n",
       "0  협상 과정 전략 없이 갈팡질팡나경원 자유한국당 원내대표가 24일 오후 국회에서 열린...  \n",
       "1  [앵커]지금 국회에는 서복현 기자가 남아 있습니다. 연결해서 분위기 좀 들어보겠습니...  \n",
       "2  ㆍ한국당, 국회 정상화 합의안 추인 거부 ‘자중지란’ㆍ의원 20여명 “얻은 게 뭐냐...  \n",
       "3  ㆍ재위임 불구 대여 입지 축소ㆍ당내 ‘박영선 조기사퇴’ 회자ㆍ강경 일변도 황 대표 ...  \n",
       "4  與, 대정부 투쟁 민노총과 거리두기 고심[앵커] 민주노총이 김명환 위원장의 구속을 ...  "
      ]
     },
     "execution_count": 5,
     "metadata": {},
     "output_type": "execute_result"
    }
   ],
   "source": [
    "article_df.head()"
   ]
  },
  {
   "cell_type": "code",
   "execution_count": null,
   "metadata": {},
   "outputs": [],
   "source": [
    "# Tfidf 란 \n",
    "# 핵심 문자를 찾을 때 좋음\n",
    "- Term Frequency - Inverse Document Frequency => TF-IDF\n",
    "# TF - 문장에 특정 문자가 있는지 (가로)  # IDF -  전체에 특정 문자가 얼마나 있는지(세로)"
   ]
  },
  {
   "cell_type": "code",
   "execution_count": 6,
   "metadata": {
    "colab": {
     "base_uri": "https://localhost:8080/"
    },
    "executionInfo": {
     "elapsed": 2069,
     "status": "ok",
     "timestamp": 1652282434540,
     "user": {
      "displayName": "Doojin Park",
      "userId": "13081019711214908217"
     },
     "user_tz": -540
    },
    "id": "9tnhxeSOKGc6",
    "outputId": "ec56b5fe-b6c4-469d-b14f-79e051527c3d"
   },
   "outputs": [
    {
     "data": {
      "text/plain": [
       "((1200, 100169), (1200,))"
      ]
     },
     "execution_count": 6,
     "metadata": {},
     "output_type": "execute_result"
    }
   ],
   "source": [
    "# vectorizer\n",
    "vectorizer = TfidfVectorizer()\n",
    "x = vectorizer.fit_transform(article_df.content)\n",
    "x.shape, article_df.category.shape"
   ]
  },
  {
   "cell_type": "code",
   "execution_count": 7,
   "metadata": {
    "colab": {
     "base_uri": "https://localhost:8080/"
    },
    "executionInfo": {
     "elapsed": 825,
     "status": "ok",
     "timestamp": 1652282437966,
     "user": {
      "displayName": "Doojin Park",
      "userId": "13081019711214908217"
     },
     "user_tz": -540
    },
    "id": "17q-SyMwKGc7",
    "outputId": "07f47449-9ecf-48d0-de84-56cbbed4b271"
   },
   "outputs": [
    {
     "name": "stdout",
     "output_type": "stream",
     "text": [
      "['가졌던', '가졌습니다', '가졌어야', '가졌으며', '가졌을', '가졌지만', '가족', '가족과', '가족끼리', '가족단위', '가족들과', '가족들에게', '가족들은', '가족들을', '가족들의', '가족들이', '가족력이', '가족명의', '가족복지', '가족분들은']\n"
     ]
    }
   ],
   "source": [
    "print(vectorizer.get_feature_names()[10000:10020])"
   ]
  },
  {
   "cell_type": "code",
   "execution_count": 8,
   "metadata": {
    "colab": {
     "base_uri": "https://localhost:8080/"
    },
    "executionInfo": {
     "elapsed": 446,
     "status": "ok",
     "timestamp": 1652282439773,
     "user": {
      "displayName": "Doojin Park",
      "userId": "13081019711214908217"
     },
     "user_tz": -540
    },
    "id": "ZbXIjqXlKGc7",
    "outputId": "303df74f-b684-4a0c-f97a-ef2061bda2cf"
   },
   "outputs": [
    {
     "data": {
      "text/plain": [
       "(100169, [('협상', 97560), ('과정', 16752), ('전략', 74790)])"
      ]
     },
     "execution_count": 8,
     "metadata": {},
     "output_type": "execute_result"
    }
   ],
   "source": [
    "len(vectorizer.vocabulary_), list(vectorizer.vocabulary_.items())[:3]"
   ]
  },
  {
   "cell_type": "code",
   "execution_count": 9,
   "metadata": {
    "executionInfo": {
     "elapsed": 2,
     "status": "ok",
     "timestamp": 1652282441869,
     "user": {
      "displayName": "Doojin Park",
      "userId": "13081019711214908217"
     },
     "user_tz": -540
    },
    "id": "1a-wHMXDKGc8"
   },
   "outputs": [],
   "source": [
    "train_x, test_x, train_y, test_y = train_test_split(x, article_df.category, test_size=0.2, random_state=1)"
   ]
  },
  {
   "cell_type": "code",
   "execution_count": 10,
   "metadata": {
    "executionInfo": {
     "elapsed": 300,
     "status": "ok",
     "timestamp": 1652282449597,
     "user": {
      "displayName": "Doojin Park",
      "userId": "13081019711214908217"
     },
     "user_tz": -540
    },
    "id": "zsoO08IgKGc8"
   },
   "outputs": [],
   "source": [
    "# 모델 학습\n",
    "model = MultinomialNB().fit(train_x, train_y)"
   ]
  },
  {
   "cell_type": "code",
   "execution_count": 11,
   "metadata": {
    "executionInfo": {
     "elapsed": 2,
     "status": "ok",
     "timestamp": 1652282450905,
     "user": {
      "displayName": "Doojin Park",
      "userId": "13081019711214908217"
     },
     "user_tz": -540
    },
    "id": "HwujRcxUKGc8"
   },
   "outputs": [],
   "source": [
    "pred_y = model.predict(test_x)"
   ]
  },
  {
   "cell_type": "code",
   "execution_count": 12,
   "metadata": {
    "colab": {
     "base_uri": "https://localhost:8080/"
    },
    "executionInfo": {
     "elapsed": 3,
     "status": "ok",
     "timestamp": 1652282451907,
     "user": {
      "displayName": "Doojin Park",
      "userId": "13081019711214908217"
     },
     "user_tz": -540
    },
    "id": "gsFclyYgKGc8",
    "outputId": "38c667b4-4710-4d45-846a-03fc501c6d97"
   },
   "outputs": [
    {
     "name": "stdout",
     "output_type": "stream",
     "text": [
      "              precision    recall  f1-score   support\n",
      "\n",
      "         100       0.82      0.95      0.88        43\n",
      "         101       0.83      0.67      0.74        43\n",
      "         102       0.70      0.82      0.76        40\n",
      "         103       0.77      0.53      0.63        32\n",
      "         104       0.90      0.85      0.88        41\n",
      "         105       0.74      0.85      0.80        41\n",
      "\n",
      "    accuracy                           0.79       240\n",
      "   macro avg       0.79      0.78      0.78       240\n",
      "weighted avg       0.80      0.79      0.79       240\n",
      "\n"
     ]
    }
   ],
   "source": [
    "print(classification_report(test_y, pred_y))"
   ]
  },
  {
   "cell_type": "markdown",
   "metadata": {
    "id": "eEXnrPxJKGc9"
   },
   "source": [
    "#### Pipeline 사용"
   ]
  },
  {
   "cell_type": "code",
   "execution_count": 13,
   "metadata": {
    "colab": {
     "base_uri": "https://localhost:8080/"
    },
    "executionInfo": {
     "elapsed": 254,
     "status": "ok",
     "timestamp": 1652282456143,
     "user": {
      "displayName": "Doojin Park",
      "userId": "13081019711214908217"
     },
     "user_tz": -540
    },
    "id": "o0NLEvQXKGc9",
    "outputId": "bc8b7682-99e2-49c8-b98f-89ed2bca79a3"
   },
   "outputs": [
    {
     "data": {
      "text/plain": [
       "(960, 240, 960, 240)"
      ]
     },
     "execution_count": 13,
     "metadata": {},
     "output_type": "execute_result"
    }
   ],
   "source": [
    "train_x, test_x, train_y, test_y = train_test_split(\n",
    "    article_df.content, article_df.category, test_size=0.2, random_state=1)\n",
    "len(train_x), len(test_x), len(train_y), len(test_y)"
   ]
  },
  {
   "cell_type": "code",
   "execution_count": 14,
   "metadata": {
    "executionInfo": {
     "elapsed": 2,
     "status": "ok",
     "timestamp": 1652282457284,
     "user": {
      "displayName": "Doojin Park",
      "userId": "13081019711214908217"
     },
     "user_tz": -540
    },
    "id": "0YMoTkwmKGc9"
   },
   "outputs": [],
   "source": [
    "model = Pipeline([\n",
    "    ('vect', TfidfVectorizer()), \n",
    "    ('clf', MultinomialNB(alpha=0.001)),\n",
    "])"
   ]
  },
  {
   "cell_type": "code",
   "execution_count": 15,
   "metadata": {
    "executionInfo": {
     "elapsed": 1045,
     "status": "ok",
     "timestamp": 1652282460737,
     "user": {
      "displayName": "Doojin Park",
      "userId": "13081019711214908217"
     },
     "user_tz": -540
    },
    "id": "jS1OMh_iKGc9"
   },
   "outputs": [],
   "source": [
    "model = model.fit(train_x, train_y)"
   ]
  },
  {
   "cell_type": "code",
   "execution_count": 16,
   "metadata": {
    "executionInfo": {
     "elapsed": 3,
     "status": "ok",
     "timestamp": 1652282460738,
     "user": {
      "displayName": "Doojin Park",
      "userId": "13081019711214908217"
     },
     "user_tz": -540
    },
    "id": "UtQDvWHVKGc-"
   },
   "outputs": [],
   "source": [
    "pred_y = model.predict(test_x)"
   ]
  },
  {
   "cell_type": "code",
   "execution_count": 17,
   "metadata": {
    "colab": {
     "base_uri": "https://localhost:8080/"
    },
    "executionInfo": {
     "elapsed": 3,
     "status": "ok",
     "timestamp": 1652282462181,
     "user": {
      "displayName": "Doojin Park",
      "userId": "13081019711214908217"
     },
     "user_tz": -540
    },
    "id": "E99K8VAkKGc-",
    "outputId": "1355b74b-235a-4a20-dc3f-229cb586a391"
   },
   "outputs": [
    {
     "data": {
      "text/plain": [
       "array([[40,  0,  2,  0,  0,  1],\n",
       "       [ 0, 32,  6,  1,  0,  4],\n",
       "       [ 3,  2, 33,  2,  0,  0],\n",
       "       [ 1,  2,  1, 25,  0,  3],\n",
       "       [ 0,  0,  1,  4, 34,  2],\n",
       "       [ 0,  1,  0,  5,  1, 34]], dtype=int64)"
      ]
     },
     "execution_count": 17,
     "metadata": {},
     "output_type": "execute_result"
    }
   ],
   "source": [
    "confusion_matrix(test_y, pred_y)"
   ]
  },
  {
   "cell_type": "code",
   "execution_count": 18,
   "metadata": {
    "colab": {
     "base_uri": "https://localhost:8080/"
    },
    "executionInfo": {
     "elapsed": 343,
     "status": "ok",
     "timestamp": 1652282466716,
     "user": {
      "displayName": "Doojin Park",
      "userId": "13081019711214908217"
     },
     "user_tz": -540
    },
    "id": "fSHFSF7RKGc-",
    "outputId": "f0edbed3-70b4-42af-976c-a04be58eaaf0",
    "scrolled": true
   },
   "outputs": [
    {
     "name": "stdout",
     "output_type": "stream",
     "text": [
      "              precision    recall  f1-score   support\n",
      "\n",
      "         100       0.91      0.93      0.92        43\n",
      "         101       0.86      0.74      0.80        43\n",
      "         102       0.77      0.82      0.80        40\n",
      "         103       0.68      0.78      0.72        32\n",
      "         104       0.97      0.83      0.89        41\n",
      "         105       0.77      0.83      0.80        41\n",
      "\n",
      "    accuracy                           0.82       240\n",
      "   macro avg       0.83      0.82      0.82       240\n",
      "weighted avg       0.83      0.82      0.83       240\n",
      "\n"
     ]
    }
   ],
   "source": [
    "# 데이터가 언밸런스하지 않기 때문에 accurary를 사용하면 된다.\n",
    "print(classification_report(test_y, pred_y))"
   ]
  },
  {
   "cell_type": "code",
   "execution_count": null,
   "metadata": {
    "executionInfo": {
     "elapsed": 337,
     "status": "ok",
     "timestamp": 1652282469687,
     "user": {
      "displayName": "Doojin Park",
      "userId": "13081019711214908217"
     },
     "user_tz": -540
    },
    "id": "pNhdWUHQKGc-"
   },
   "outputs": [],
   "source": [
    "# 예측"
   ]
  },
  {
   "cell_type": "code",
   "execution_count": 19,
   "metadata": {
    "executionInfo": {
     "elapsed": 3,
     "status": "ok",
     "timestamp": 1652282470369,
     "user": {
      "displayName": "Doojin Park",
      "userId": "13081019711214908217"
     },
     "user_tz": -540
    },
    "id": "kj-vBP1-KGc-"
   },
   "outputs": [],
   "source": [
    "classification_dict = {\n",
    "    100:\"정치\",\n",
    "    101:\"경제\",\n",
    "    102:\"사회\",\n",
    "    103:\"생활/문화\",\n",
    "    104:\"세계\",\n",
    "    105:\"IT/과학\",\n",
    "}"
   ]
  },
  {
   "cell_type": "code",
   "execution_count": 20,
   "metadata": {
    "colab": {
     "base_uri": "https://localhost:8080/",
     "height": 143
    },
    "executionInfo": {
     "elapsed": 556,
     "status": "ok",
     "timestamp": 1652282472293,
     "user": {
      "displayName": "Doojin Park",
      "userId": "13081019711214908217"
     },
     "user_tz": -540
    },
    "id": "n3r5ODrYKGc_",
    "outputId": "8d4d54bf-2395-44af-fcae-b73ec059e27f"
   },
   "outputs": [
    {
     "data": {
      "text/html": [
       "<div>\n",
       "<style scoped>\n",
       "    .dataframe tbody tr th:only-of-type {\n",
       "        vertical-align: middle;\n",
       "    }\n",
       "\n",
       "    .dataframe tbody tr th {\n",
       "        vertical-align: top;\n",
       "    }\n",
       "\n",
       "    .dataframe thead th {\n",
       "        text-align: right;\n",
       "    }\n",
       "</style>\n",
       "<table border=\"1\" class=\"dataframe\">\n",
       "  <thead>\n",
       "    <tr style=\"text-align: right;\">\n",
       "      <th></th>\n",
       "      <th>content</th>\n",
       "      <th>category_code</th>\n",
       "      <th>category</th>\n",
       "      <th>proba</th>\n",
       "    </tr>\n",
       "  </thead>\n",
       "  <tbody>\n",
       "    <tr>\n",
       "      <th>0</th>\n",
       "      <td>네이버와 카카오 드론 기술 발전에 주력</td>\n",
       "      <td>105</td>\n",
       "      <td>IT/과학</td>\n",
       "      <td>0.96</td>\n",
       "    </tr>\n",
       "    <tr>\n",
       "      <th>1</th>\n",
       "      <td>요즘에 환율 주가 예측 불허</td>\n",
       "      <td>101</td>\n",
       "      <td>경제</td>\n",
       "      <td>0.98</td>\n",
       "    </tr>\n",
       "    <tr>\n",
       "      <th>2</th>\n",
       "      <td>트럼프 미국 대통령 중국과 무역협상 타결</td>\n",
       "      <td>104</td>\n",
       "      <td>세계</td>\n",
       "      <td>0.75</td>\n",
       "    </tr>\n",
       "  </tbody>\n",
       "</table>\n",
       "</div>"
      ],
      "text/plain": [
       "                  content  category_code category  proba\n",
       "0   네이버와 카카오 드론 기술 발전에 주력            105    IT/과학   0.96\n",
       "1         요즘에 환율 주가 예측 불허            101       경제   0.98\n",
       "2  트럼프 미국 대통령 중국과 무역협상 타결            104       세계   0.75"
      ]
     },
     "execution_count": 20,
     "metadata": {},
     "output_type": "execute_result"
    }
   ],
   "source": [
    "contents = [\n",
    "    \"네이버와 카카오 드론 기술 발전에 주력\",\n",
    "    \"요즘에 환율 주가 예측 불허\",\n",
    "    \"트럼프 미국 대통령 중국과 무역협상 타결\",\n",
    "]\n",
    "\n",
    "datas = {\n",
    "    \"content\": contents,\n",
    "    \"category_code\": model.predict(contents),\n",
    "}\n",
    "\n",
    "df = pd.DataFrame(datas)\n",
    "df[\"category\"] = df[\"category_code\"].apply(lambda data: classification_dict[data])\n",
    "df[\"proba\"] = df[\"content\"].apply(lambda data: round(max(model.predict_proba([data])[0]), 2))\n",
    "df"
   ]
  },
  {
   "cell_type": "code",
   "execution_count": 21,
   "metadata": {
    "colab": {
     "base_uri": "https://localhost:8080/"
    },
    "executionInfo": {
     "elapsed": 457,
     "status": "ok",
     "timestamp": 1652282476698,
     "user": {
      "displayName": "Doojin Park",
      "userId": "13081019711214908217"
     },
     "user_tz": -540
    },
    "id": "3d-fUGjbKGc_",
    "outputId": "b13e43f0-b391-4d50-b6fd-bcae6b4fed78"
   },
   "outputs": [
    {
     "data": {
      "text/plain": [
       "(('정치', 0.0),\n",
       " ('경제', 0.98),\n",
       " ('사회', 0.0),\n",
       " ('생활/문화', 0.0),\n",
       " ('세계', 0.0),\n",
       " ('IT/과학', 0.01))"
      ]
     },
     "execution_count": 21,
     "metadata": {},
     "output_type": "execute_result"
    }
   ],
   "source": [
    "data = '요즘에 환율 주가 예측 불허'\n",
    "tuple(zip(classification_dict.values(), np.round(model.predict_proba([data])[0], 2)))"
   ]
  },
  {
   "cell_type": "code",
   "execution_count": null,
   "metadata": {},
   "outputs": [],
   "source": []
  }
 ],
 "metadata": {
  "colab": {
   "collapsed_sections": [],
   "name": "03_naive_bayes_article_cateogry.ipynb",
   "provenance": []
  },
  "kernelspec": {
   "display_name": "Python 3 (ipykernel)",
   "language": "python",
   "name": "python3"
  },
  "language_info": {
   "codemirror_mode": {
    "name": "ipython",
    "version": 3
   },
   "file_extension": ".py",
   "mimetype": "text/x-python",
   "name": "python",
   "nbconvert_exporter": "python",
   "pygments_lexer": "ipython3",
   "version": "3.8.12"
  },
  "toc": {
   "base_numbering": 1,
   "nav_menu": {},
   "number_sections": false,
   "sideBar": true,
   "skip_h1_title": false,
   "title_cell": "Table of Contents",
   "title_sidebar": "Contents",
   "toc_cell": false,
   "toc_position": {},
   "toc_section_display": true,
   "toc_window_display": false
  },
  "varInspector": {
   "cols": {
    "lenName": 16,
    "lenType": 16,
    "lenVar": 40
   },
   "kernels_config": {
    "python": {
     "delete_cmd_postfix": "",
     "delete_cmd_prefix": "del ",
     "library": "var_list.py",
     "varRefreshCmd": "print(var_dic_list())"
    },
    "r": {
     "delete_cmd_postfix": ") ",
     "delete_cmd_prefix": "rm(",
     "library": "var_list.r",
     "varRefreshCmd": "cat(var_dic_list()) "
    }
   },
   "types_to_exclude": [
    "module",
    "function",
    "builtin_function_or_method",
    "instance",
    "_Feature"
   ],
   "window_display": false
  }
 },
 "nbformat": 4,
 "nbformat_minor": 1
}
