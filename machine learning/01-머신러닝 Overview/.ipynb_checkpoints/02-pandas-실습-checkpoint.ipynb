{
 "cells": [
  {
   "cell_type": "markdown",
   "metadata": {
    "colab_type": "text",
    "id": "mV5mTQjsAgHC"
   },
   "source": [
    "# 🔥 Quiz  1: Titanic Dataset\n",
    "\n",
    "타이나틱 데이터셋은 실제 타이타닉 호에 탑승했던 승객들의 정보(성별, 나이 등)를 담고 있습니다.  \n",
    "이를 바탕으로 승객의 생존여부 또는 생존율을 예측하는데 활용됩니다.\n",
    "\n",
    "이번 퀴즈에서는 실제 데이터셋으로 **스스로** 탐색적 자료분석을 실시해봅시다.\n",
    "\n",
    "다음 물음에 답해주세요!"
   ]
  },
  {
   "cell_type": "markdown",
   "metadata": {
    "colab_type": "text",
    "id": "O6OaqgyxUF26"
   },
   "source": [
    "시작하기 전에 필요한 라이브러리들을 불러옵시다\n",
    "\n"
   ]
  },
  {
   "cell_type": "code",
   "execution_count": null,
   "metadata": {
    "colab": {},
    "colab_type": "code",
    "id": "H7Nrk0MIHE-7"
   },
   "outputs": [],
   "source": [
    "import pandas as pd\n",
    "import os"
   ]
  },
  {
   "cell_type": "markdown",
   "metadata": {
    "colab_type": "text",
    "id": "PqZqlEJzGjlL"
   },
   "source": [
    "## Problem 1\n",
    "\n",
    "수업시간에  한 것처럼 `titanic_train.csv` 파일을 불러와  `titanic` 변수에  저장해보세요! "
   ]
  },
  {
   "cell_type": "code",
   "execution_count": null,
   "metadata": {
    "colab": {},
    "colab_type": "code",
    "id": "lF-_rbko5ZFq"
   },
   "outputs": [],
   "source": [
    "# prob1\n",
    "# ...\n",
    "titanic = pd.read_csv('./data/titanic_train.csv')"
   ]
  },
  {
   "cell_type": "markdown",
   "metadata": {
    "colab_type": "text",
    "id": "gqeA_BM0IGnQ"
   },
   "source": [
    "잘 불러와졌다면 `titanic.head(5)`를 입력했을 때 다음과 같은 결과가 나와야합니다.\n",
    "\n",
    "<img src = \"https://1.bp.blogspot.com/-7r6_GPSB56c/Xti-B3jBxsI/AAAAAAAAAZg/sODqzWZA4y4Bsc0wIybtP6TFb-C3YJQTwCLcBGAsYHQ/s1600/%25E1%2584%2589%25E1%2585%25B3%25E1%2584%258F%25E1%2585%25B3%25E1%2584%2585%25E1%2585%25B5%25E1%2586%25AB%25E1%2584%2589%25E1%2585%25A3%25E1%2586%25BA%2B2020-06-04%2B%25E1%2584%258B%25E1%2585%25A9%25E1%2584%2592%25E1%2585%25AE%2B6.24.35.png\">"
   ]
  },
  {
   "cell_type": "markdown",
   "metadata": {
    "colab_type": "text",
    "id": "s8y82kevIJ2H"
   },
   "source": [
    "👀 타이타닉 데이터셋의 열들은 다음을 의미합니다.\n",
    "\n",
    "- Survived = 생존 여부\n",
    "- Pclass = 티켓의 등급\n",
    "- Sex = 성별\n",
    "- Age = 나이\n",
    "- Sibsp = 동승한 형제 자매 / 배우자 수\n",
    "- Parch = 동승한 부모 / 자식 수\n",
    "- Fare = 요금\n",
    "- Embarked = 승선항   "
   ]
  },
  {
   "cell_type": "markdown",
   "metadata": {
    "colab_type": "text",
    "id": "QffUYXAXPIQL"
   },
   "source": [
    "## Problem 2\n",
    "\n",
    "`titanic_count` 변수와 `titanic_dim`  변수에 각각 titanic dataset의 자료의 수(행의 수)와 차원(열의 수)를\n",
    " 저장해주세요\n"
   ]
  },
  {
   "cell_type": "code",
   "execution_count": null,
   "metadata": {
    "colab": {},
    "colab_type": "code",
    "id": "LR6R0aOzPf-f"
   },
   "outputs": [],
   "source": [
    "# prob 2\n",
    "titanic_df.shape\n",
    "titanic_df.ndim\n",
    "\n",
    "titanic_count = ...\n",
    "titanic_dim =  ...\n",
    "print(titanic_count)\n",
    "print(titanic_dim)"
   ]
  },
  {
   "cell_type": "markdown",
   "metadata": {
    "colab_type": "text",
    "id": "yLQE7GpqK6tR"
   },
   "source": [
    "## Problem 3\n",
    "\n",
    "`titanic_fare_std` 변수에 타이타닉 호 탑승권의 가격(Fare)의 표준편차를 저장해주세요 (힌트: 판다스의 데이터프레임에 `.std()` 함수를 호출하면 표준편차를 계산할 수 있습니다.) "
   ]
  },
  {
   "cell_type": "code",
   "execution_count": null,
   "metadata": {
    "colab": {},
    "colab_type": "code",
    "id": "-NTprrCrO4DJ"
   },
   "outputs": [],
   "source": [
    "titanic_fare_std = ...\n",
    "print(titanic_fare_std)"
   ]
  },
  {
   "cell_type": "markdown",
   "metadata": {
    "colab_type": "text",
    "id": "woyZmJmqPLvF"
   },
   "source": [
    "## Problem 4\n",
    "\n",
    "`titanic_fsurv` 변수와 `titanic_age_msurv` 변수에 각각 여성(female)과 남성(male)의 평균 연령(Age)을 계산해 저장해보세요. \n",
    "\n",
    "(힌트: 판다스의 데이터프레임에 `.mean()` 함수를 호출하면 평균을 계산할 수 있습니다)"
   ]
  },
  {
   "cell_type": "markdown",
   "metadata": {
    "colab_type": "text",
    "id": "dGz_ezakQZtk"
   },
   "source": [
    "> 어떤 성별의 평균 연령이 더 작은가요?"
   ]
  },
  {
   "cell_type": "code",
   "execution_count": null,
   "metadata": {
    "colab": {},
    "colab_type": "code",
    "id": "SFmTE75VKK4V"
   },
   "outputs": [],
   "source": [
    "# sol 4\n",
    "titanic_df[['Age', 'Sex']][titancic.Sex == 'female']"
   ]
  },
  {
   "cell_type": "markdown",
   "metadata": {
    "colab_type": "text",
    "id": "WMNvTUCvo10w"
   },
   "source": [
    "# Quiz 1 답안지"
   ]
  },
  {
   "cell_type": "markdown",
   "metadata": {
    "colab_type": "text",
    "id": "cTc5ruN2opFj"
   },
   "source": [
    "## Solution 1"
   ]
  },
  {
   "cell_type": "code",
   "execution_count": null,
   "metadata": {
    "colab": {},
    "colab_type": "code",
    "id": "8HKdM0Yxoud0"
   },
   "outputs": [],
   "source": [
    "# sol 1\n",
    "drive.mount('/content/gdrive/')\n",
    "os.chdir('/content/gdrive/My Drive/Colab Notebooks/datascience')"
   ]
  },
  {
   "cell_type": "code",
   "execution_count": null,
   "metadata": {
    "colab": {},
    "colab_type": "code",
    "id": "4DRtuxGQpO1B"
   },
   "outputs": [],
   "source": [
    "titanic = pd.read_csv('./data/titanic_train.csv')\n",
    "titanic.head(5)"
   ]
  },
  {
   "cell_type": "markdown",
   "metadata": {
    "colab_type": "text",
    "id": "WZoN7Hzoouok"
   },
   "source": [
    "## Solution 2"
   ]
  },
  {
   "cell_type": "code",
   "execution_count": null,
   "metadata": {
    "colab": {},
    "colab_type": "code",
    "id": "T_24yZBqowNf"
   },
   "outputs": [],
   "source": [
    "# sol 2\n",
    "titanic_count = titanic.shape[0]\n",
    "titanic_dim = titanic.shape[1]"
   ]
  },
  {
   "cell_type": "markdown",
   "metadata": {
    "colab_type": "text",
    "id": "r2NYJPewowzO"
   },
   "source": [
    "## Solution 3"
   ]
  },
  {
   "cell_type": "code",
   "execution_count": null,
   "metadata": {
    "colab": {},
    "colab_type": "code",
    "id": "3oTfoDfGox3N"
   },
   "outputs": [],
   "source": [
    "# sol 3\n",
    "titanic_fare_std = titanic['Fare'].std()"
   ]
  },
  {
   "cell_type": "markdown",
   "metadata": {
    "colab_type": "text",
    "id": "WJfuEnjMoycb"
   },
   "source": [
    "## Solution 4"
   ]
  },
  {
   "cell_type": "code",
   "execution_count": null,
   "metadata": {
    "colab": {},
    "colab_type": "code",
    "id": "Vy7XQaVYo0jt"
   },
   "outputs": [],
   "source": [
    "# sol 4\n",
    "titanic_fsurv = titanic[titanic['Sex'] == 'female']['Age'].mean()\n",
    "titanic_msurv = titanic[titanic['Sex'] == 'male']['Age'].mean()\n",
    "titanic_msurv = titanic[titanic['Sex'] == 'male']['Age'].std()\n",
    "\n",
    "# or \n",
    "titanic_fsurv, titanic_msurv = titanic.groupby(by='Sex')['Age'].mean()"
   ]
  },
  {
   "cell_type": "code",
   "execution_count": null,
   "metadata": {},
   "outputs": [],
   "source": []
  }
 ],
 "metadata": {
  "colab": {
   "collapsed_sections": [],
   "name": "1강 과제.ipynb의 사본",
   "provenance": [
    {
     "file_id": "1IDm6sSSp_nVsqRnj7c5KJNEMrPnUZOjm",
     "timestamp": 1592209524681
    },
    {
     "file_id": "1dUxTzZ4JgnM5lOeb_hZmS-kQZp9HCQoU",
     "timestamp": 1591259789848
    },
    {
     "file_id": "1YguLn8heus47ixjOl6SW2kGVTL3Vk0uV",
     "timestamp": 1588675959713
    }
   ]
  },
  "kernelspec": {
   "display_name": "Python 3 (ipykernel)",
   "language": "python",
   "name": "python3"
  },
  "language_info": {
   "codemirror_mode": {
    "name": "ipython",
    "version": 3
   },
   "file_extension": ".py",
   "mimetype": "text/x-python",
   "name": "python",
   "nbconvert_exporter": "python",
   "pygments_lexer": "ipython3",
   "version": "3.8.12"
  }
 },
 "nbformat": 4,
 "nbformat_minor": 1
}
