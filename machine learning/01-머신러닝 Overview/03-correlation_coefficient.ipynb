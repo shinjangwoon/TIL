{
 "cells": [
  {
   "cell_type": "markdown",
   "metadata": {
    "slideshow": {
     "slide_type": "slide"
    }
   },
   "source": [
    "# 상관계수 ( Correlation Coefficient )\n",
    "- numpy를 이용하여 데이터의 상관계수를 구합니다.\n",
    "- python 코드와 numpy의 함수의 속도차이를 비교합니다."
   ]
  },
  {
   "cell_type": "markdown",
   "metadata": {},
   "source": [
    "- 상관계수를 통해서 알 수 있는 정보\n",
    "- features: x1, x2, x3, x4, x5\n",
    "- x1 & x2 -> 1.0(양의 상관관계 -> x1, x2가 비슷한 경향성을 보이고 있음)\n",
    "- x1 ~ x5: 모든 features는 모두 독립적이어야 한다! "
   ]
  },
  {
   "cell_type": "markdown",
   "metadata": {
    "slideshow": {
     "slide_type": "-"
    }
   },
   "source": [
    "### Index\n",
    "\n",
    "1. 분산\n",
    "1. 공분산\n",
    "1. 상관계수\n",
    "1. 결정계수\n",
    "1. 프리미어리그 상관계수 분석\n",
    "1. 광고효과 상관계수 분석\n",
    "1. 광고효과 회귀분석"
   ]
  },
  {
   "cell_type": "code",
   "execution_count": 1,
   "metadata": {
    "slideshow": {
     "slide_type": "slide"
    }
   },
   "outputs": [],
   "source": [
    "import numpy as np"
   ]
  },
  {
   "cell_type": "markdown",
   "metadata": {
    "slideshow": {
     "slide_type": "-"
    }
   },
   "source": [
    "샘플 데이터 생성"
   ]
  },
  {
   "cell_type": "code",
   "execution_count": 2,
   "metadata": {},
   "outputs": [],
   "source": [
    "data1 = np.array([80, 85, 100, 90, 95])\n",
    "data2 = np.array([70, 80, 100, 95, 95])"
   ]
  },
  {
   "cell_type": "markdown",
   "metadata": {
    "slideshow": {
     "slide_type": "slide"
    }
   },
   "source": [
    "### 2. 분산(variance)\n",
    "- 1개의 이산정도를 나타냅니다.\n",
    "- 편차제곱의 평균"
   ]
  },
  {
   "cell_type": "markdown",
   "metadata": {},
   "source": [
    "$ variance = \\frac{\\sum_{i=1}^n{(x_i-\\bar{x})^2}}{n}, (\\bar{x}:평균) $"
   ]
  },
  {
   "cell_type": "code",
   "execution_count": 3,
   "metadata": {},
   "outputs": [
    {
     "name": "stdout",
     "output_type": "stream",
     "text": [
      "variance : 50.0 126.0\n",
      "standard deviation : 7.0710678118654755 11.224972160321824\n"
     ]
    }
   ],
   "source": [
    "# variance code\n",
    "def variance(data):\n",
    "\n",
    "    avg = np.average(data)\n",
    "    var = 0\n",
    "    for num in data:\n",
    "        var += (num - avg) ** 2\n",
    "    return var / len(data)\n",
    "\n",
    "\n",
    "# test code (분산, 표준편차)\n",
    "print(\"variance :\", variance(data1), variance(data2))\n",
    "print(\"standard deviation :\", variance(data1)**0.5, variance(data2)**0.5)"
   ]
  },
  {
   "cell_type": "code",
   "execution_count": 4,
   "metadata": {
    "slideshow": {
     "slide_type": "slide"
    }
   },
   "outputs": [
    {
     "data": {
      "text/plain": [
       "(50.0, 126.0, 7.0710678118654755, 11.224972160321824)"
      ]
     },
     "execution_count": 4,
     "metadata": {},
     "output_type": "execute_result"
    }
   ],
   "source": [
    "variance(data1), variance(data2), variance(data1) ** 0.5, variance(data2) ** 0.5"
   ]
  },
  {
   "cell_type": "code",
   "execution_count": 5,
   "metadata": {},
   "outputs": [
    {
     "data": {
      "text/plain": [
       "(50.0, 126.0, 7.0710678118654755, 11.224972160321824)"
      ]
     },
     "execution_count": 5,
     "metadata": {},
     "output_type": "execute_result"
    }
   ],
   "source": [
    "np.var(data1), np.var(data2), np.std(data1), np.std(data2)"
   ]
  },
  {
   "cell_type": "markdown",
   "metadata": {
    "slideshow": {
     "slide_type": "slide"
    }
   },
   "source": [
    "일반 함수와 numpy 함수의 퍼포먼스 비교"
   ]
  },
  {
   "cell_type": "code",
   "execution_count": 6,
   "metadata": {},
   "outputs": [],
   "source": [
    "p_data1 = np.random.randint(60, 100, int(1E5))\n",
    "p_data2 = np.random.randint(60, 100, int(1E5))"
   ]
  },
  {
   "cell_type": "code",
   "execution_count": 8,
   "metadata": {},
   "outputs": [
    {
     "data": {
      "text/plain": [
       "100000"
      ]
     },
     "execution_count": 8,
     "metadata": {},
     "output_type": "execute_result"
    }
   ],
   "source": [
    "len(p_data1)"
   ]
  },
  {
   "cell_type": "code",
   "execution_count": null,
   "metadata": {},
   "outputs": [],
   "source": [
    "# 일반함수"
   ]
  },
  {
   "cell_type": "code",
   "execution_count": 9,
   "metadata": {},
   "outputs": [
    {
     "name": "stdout",
     "output_type": "stream",
     "text": [
      "CPU times: user 451 ms, sys: 5.14 ms, total: 457 ms\n",
      "Wall time: 460 ms\n"
     ]
    },
    {
     "data": {
      "text/plain": [
       "(133.91429098790567, 132.781181759549)"
      ]
     },
     "execution_count": 9,
     "metadata": {},
     "output_type": "execute_result"
    }
   ],
   "source": [
    "%%time\n",
    "variance(p_data1), variance(p_data2)"
   ]
  },
  {
   "cell_type": "code",
   "execution_count": 10,
   "metadata": {},
   "outputs": [],
   "source": [
    "# numpy"
   ]
  },
  {
   "cell_type": "code",
   "execution_count": 11,
   "metadata": {},
   "outputs": [
    {
     "name": "stdout",
     "output_type": "stream",
     "text": [
      "CPU times: user 3.01 ms, sys: 2.4 ms, total: 5.41 ms\n",
      "Wall time: 4.66 ms\n"
     ]
    },
    {
     "data": {
      "text/plain": [
       "(133.91429098790005, 132.78118175959997)"
      ]
     },
     "execution_count": 11,
     "metadata": {},
     "output_type": "execute_result"
    }
   ],
   "source": [
    "%%time\n",
    "np.var(p_data1), np.var(p_data2)"
   ]
  },
  {
   "cell_type": "markdown",
   "metadata": {
    "slideshow": {
     "slide_type": "slide"
    }
   },
   "source": [
    "### 3. 공분산(covariance)\n",
    "- 2개의 확률변수의 상관정도를 나타냅니다.\n",
    "- 평균 편차곱\n",
    "- 방향성은 보여줄수 있으나 강도를 나타내는데 한계가 있습니다.\n",
    "    - 표본데이터의 크기에 따라서 값의 차이가 큰 단점이 있습니다."
   ]
  },
  {
   "cell_type": "markdown",
   "metadata": {},
   "source": [
    "$ covariance = \\frac{\\sum_{i=1}^{n}{(x_i-\\bar{x})(y_i-\\bar{y})}}{n}, (\\bar{x}:x의 평균, \\bar{y}:y의 평균) $"
   ]
  },
  {
   "cell_type": "code",
   "execution_count": 12,
   "metadata": {},
   "outputs": [],
   "source": [
    "# covariance function\n",
    "# 표본상관계수를 사용 (모상관계수를 사용하면 -1을 제거)\n",
    "def covariance(data1, data2):\n",
    "\n",
    "    x_ = np.average(data1)\n",
    "    y_ = np.average(data2)\n",
    "\n",
    "    cov = 0\n",
    "    for idx in range(len(data1)):\n",
    "        cov += (data1[idx] - x_) * (data2[idx] - y_)\n",
    "    return cov / (len(data1) - 1)"
   ]
  },
  {
   "cell_type": "code",
   "execution_count": 13,
   "metadata": {
    "slideshow": {
     "slide_type": "slide"
    }
   },
   "outputs": [
    {
     "data": {
      "text/plain": [
       "93.75"
      ]
     },
     "execution_count": 13,
     "metadata": {},
     "output_type": "execute_result"
    }
   ],
   "source": [
    "# teat code 1\n",
    "# data1이 커짐으로 data2도 커진다.\n",
    "data1 = np.array([80, 85, 100, 90, 95])\n",
    "data2 = np.array([70, 80, 100, 95, 95])\n",
    "covariance(data1, data2)"
   ]
  },
  {
   "cell_type": "code",
   "execution_count": 14,
   "metadata": {},
   "outputs": [
    {
     "data": {
      "text/plain": [
       "-87.5"
      ]
     },
     "execution_count": 14,
     "metadata": {},
     "output_type": "execute_result"
    }
   ],
   "source": [
    "# test code 2\n",
    "# data3는 커지지만 data4는 작아진다.\n",
    "data3 = np.array([80, 85, 100, 90, 95])\n",
    "data4 = np.array([100, 90, 70, 90, 80])\n",
    "covariance(data3, data4)"
   ]
  },
  {
   "cell_type": "code",
   "execution_count": 15,
   "metadata": {},
   "outputs": [
    {
     "data": {
      "text/plain": [
       "-8750.0"
      ]
     },
     "execution_count": 15,
     "metadata": {},
     "output_type": "execute_result"
    }
   ],
   "source": [
    "# test code 3\n",
    "# 표본데이터의 크기가 커지면 공분산 값도 커진다.\n",
    "# 두 데이터의 상관정도의 강도를 나타내는데 무리가 있다.\n",
    "data5 = np.array([800, 850, 1000, 900, 950])\n",
    "data6 = np.array([1000, 900, 700, 900, 800])\n",
    "covariance(data5, data6)"
   ]
  },
  {
   "cell_type": "markdown",
   "metadata": {
    "slideshow": {
     "slide_type": "slide"
    }
   },
   "source": [
    "### 4. 상관계수(correlation coefficient)\n",
    "- 공분산의 한계를 극복하기 위해서 만들어집니다.\n",
    "- -1 ~ 1까지의 수를 가지며 0과 가까울수록 상관도가 적음을 의미합니다.\n",
    "- x의 분산과 y의 분산을 곱한 결과의 제곱근을 나눠주면 x나 y의 변화량이 클수록 0에 가까워집니다.\n",
    "- https://docs.scipy.org/doc/numpy-1.13.0/reference/generated/numpy.corrcoef.html\n",
    "\n",
    "$ correlation-coefficient = \\frac{공분산}{\\sqrt{{x분산} \\cdot {y분산}}} $\n",
    "\n",
    "- 최종 상관계수\n",
    "\n",
    "$ r = \\frac{\\sum(x-\\bar{x})(y-\\bar{y})}{\\sqrt{{\\sum(x-\\bar{x})^2}\\cdot{\\sum(y-\\bar{y})^2}}} $"
   ]
  },
  {
   "cell_type": "code",
   "execution_count": 16,
   "metadata": {
    "slideshow": {
     "slide_type": "slide"
    }
   },
   "outputs": [],
   "source": [
    "# 상관계수 함수\n",
    "def cc(data1, data2):\n",
    "\n",
    "    x_ = np.average(data1)\n",
    "    y_ = np.average(data2)\n",
    "\n",
    "    cov, xv, yv = 0, 0, 0\n",
    "\n",
    "    for idx in range(len(data1)):\n",
    "        cov += (data1[idx] - x_) * (data2[idx] - y_)\n",
    "        xv += (data1[idx] - x_) ** 2\n",
    "        yv += (data2[idx] - y_) ** 2\n",
    "\n",
    "    return cov / ((xv*yv) ** 0.5)"
   ]
  },
  {
   "cell_type": "code",
   "execution_count": 17,
   "metadata": {
    "slideshow": {
     "slide_type": "slide"
    }
   },
   "outputs": [
    {
     "data": {
      "text/plain": [
       "0.944911182523068"
      ]
     },
     "execution_count": 17,
     "metadata": {},
     "output_type": "execute_result"
    }
   ],
   "source": [
    "# teat code 1\n",
    "data1 = np.array([80, 85, 100, 90, 95])\n",
    "data2 = np.array([70, 80, 100, 95, 95])\n",
    "cc(data1, data2)"
   ]
  },
  {
   "cell_type": "code",
   "execution_count": 18,
   "metadata": {},
   "outputs": [
    {
     "data": {
      "text/plain": [
       "-0.970725343394151"
      ]
     },
     "execution_count": 18,
     "metadata": {},
     "output_type": "execute_result"
    }
   ],
   "source": [
    "# teat code 2\n",
    "data3 = np.array([80, 85, 100, 90, 95])\n",
    "data4 = np.array([100, 90, 70, 90, 80])\n",
    "cc(data3, data4)"
   ]
  },
  {
   "cell_type": "code",
   "execution_count": 19,
   "metadata": {},
   "outputs": [
    {
     "data": {
      "text/plain": [
       "-0.970725343394151"
      ]
     },
     "execution_count": 19,
     "metadata": {},
     "output_type": "execute_result"
    }
   ],
   "source": [
    "# teat code 3\n",
    "data5 = np.array([800, 850, 1000, 900, 950])\n",
    "data6 = np.array([1000, 900, 700, 900, 800])\n",
    "cc(data5, data6)"
   ]
  },
  {
   "cell_type": "code",
   "execution_count": 20,
   "metadata": {
    "slideshow": {
     "slide_type": "-"
    }
   },
   "outputs": [
    {
     "name": "stdout",
     "output_type": "stream",
     "text": [
      "0.9449111825230682\n",
      "-0.970725343394151\n",
      "-0.970725343394151\n"
     ]
    }
   ],
   "source": [
    "# numpy\n",
    "print(np.corrcoef(data1, data2)[0][1])\n",
    "print(np.corrcoef(data3, data4)[0][1])\n",
    "print(np.corrcoef(data5, data6)[0][1])"
   ]
  },
  {
   "cell_type": "code",
   "execution_count": 21,
   "metadata": {},
   "outputs": [],
   "source": [
    "import pandas as pd"
   ]
  },
  {
   "cell_type": "code",
   "execution_count": 23,
   "metadata": {},
   "outputs": [
    {
     "name": "stdout",
     "output_type": "stream",
     "text": [
      "      0\n",
      "0   800\n",
      "1   850\n",
      "2  1000\n",
      "3   900\n",
      "4   950\n"
     ]
    }
   ],
   "source": [
    "df5 = pd.DataFrame([800, 850, 1000, 900, 950])\n",
    "print(df5)"
   ]
  },
  {
   "cell_type": "code",
   "execution_count": 24,
   "metadata": {},
   "outputs": [
    {
     "name": "stdout",
     "output_type": "stream",
     "text": [
      "      0\n",
      "0  1000\n",
      "1   900\n",
      "2   700\n",
      "3   900\n",
      "4   800\n"
     ]
    }
   ],
   "source": [
    "df6 = pd.DataFrame([1000, 900, 700, 900, 800])\n",
    "print(df6)"
   ]
  },
  {
   "cell_type": "code",
   "execution_count": 26,
   "metadata": {},
   "outputs": [
    {
     "name": "stdout",
     "output_type": "stream",
     "text": [
      "0   -0.970725\n",
      "dtype: float64\n",
      "0   -0.970725\n",
      "dtype: float64\n"
     ]
    }
   ],
   "source": [
    "# multiple columns dataframe -> corr -> 각 컬럼별 상관관계를 구할 수 있습니다!\n",
    "print(df5.corrwith(df6))\n",
    "print(df6.corrwith(df5))"
   ]
  },
  {
   "cell_type": "markdown",
   "metadata": {
    "slideshow": {
     "slide_type": "slide"
    }
   },
   "source": [
    "### 5. 결정계수(cofficient of determination: R-squared)\n",
    "- x로부터 y를 예측할수 있는 정도\n",
    "- 상관계수의 제곱 (상관계수를 양수화)\n",
    "- 수치가 클수록 회귀분석을 통해 예측할수 있는 수치의 정도가 더 정확"
   ]
  },
  {
   "cell_type": "code",
   "execution_count": 27,
   "metadata": {},
   "outputs": [
    {
     "name": "stdout",
     "output_type": "stream",
     "text": [
      "[ 80  85 100  90  95]\n",
      "[ 70  80 100  95  95]\n",
      "[100  90  70  90  80]\n",
      "\n",
      "corrcoef\n",
      "data1, data2 : 0.9449111825230682\n",
      "data1, data4 : -0.970725343394151\n",
      "\n",
      "R-squred\n",
      "data1, data2 : 0.892857142857143\n",
      "data1, data4 : 0.9423076923076923\n"
     ]
    }
   ],
   "source": [
    "print(data1, data2, data4, sep=\"\\n\")\n",
    "print(\"\\ncorrcoef\")\n",
    "print(\"data1, data2 :\", np.corrcoef(data1, data2)[0][1])\n",
    "print(\"data1, data4 :\", np.corrcoef(data1, data4)[0][1])\n",
    "print(\"\\nR-squred\")\n",
    "print(\"data1, data2 :\", np.corrcoef(data1, data2)[0][1]**2)\n",
    "print(\"data1, data4 :\", np.corrcoef(data1, data4)[0][1]**2)"
   ]
  },
  {
   "cell_type": "markdown",
   "metadata": {
    "slideshow": {
     "slide_type": "slide"
    }
   },
   "source": [
    "### 6. 프리미어리그 데이터 상관계수 분석\n",
    "- 2016/2017시즌의 프리미어리그 성적에서 득점과 실점 데이터중에 승점에 영향을 더 많이 준 데이터는?"
   ]
  },
  {
   "cell_type": "code",
   "execution_count": 28,
   "metadata": {},
   "outputs": [],
   "source": [
    "import pandas as pd"
   ]
  },
  {
   "cell_type": "code",
   "execution_count": 29,
   "metadata": {},
   "outputs": [
    {
     "data": {
      "text/html": [
       "<div>\n",
       "<style scoped>\n",
       "    .dataframe tbody tr th:only-of-type {\n",
       "        vertical-align: middle;\n",
       "    }\n",
       "\n",
       "    .dataframe tbody tr th {\n",
       "        vertical-align: top;\n",
       "    }\n",
       "\n",
       "    .dataframe thead th {\n",
       "        text-align: right;\n",
       "    }\n",
       "</style>\n",
       "<table border=\"1\" class=\"dataframe\">\n",
       "  <thead>\n",
       "    <tr style=\"text-align: right;\">\n",
       "      <th></th>\n",
       "      <th>name</th>\n",
       "      <th>gf</th>\n",
       "      <th>ga</th>\n",
       "      <th>points</th>\n",
       "    </tr>\n",
       "  </thead>\n",
       "  <tbody>\n",
       "    <tr>\n",
       "      <th>0</th>\n",
       "      <td>Manchester City</td>\n",
       "      <td>106</td>\n",
       "      <td>27</td>\n",
       "      <td>100</td>\n",
       "    </tr>\n",
       "    <tr>\n",
       "      <th>1</th>\n",
       "      <td>Manchester United</td>\n",
       "      <td>68</td>\n",
       "      <td>28</td>\n",
       "      <td>81</td>\n",
       "    </tr>\n",
       "  </tbody>\n",
       "</table>\n",
       "</div>"
      ],
      "text/plain": [
       "                name   gf  ga  points\n",
       "0    Manchester City  106  27     100\n",
       "1  Manchester United   68  28      81"
      ]
     },
     "execution_count": 29,
     "metadata": {},
     "output_type": "execute_result"
    }
   ],
   "source": [
    "df = pd.read_csv(\"./data/premierleague.csv\")\n",
    "df.head(2)"
   ]
  },
  {
   "cell_type": "code",
   "execution_count": 30,
   "metadata": {},
   "outputs": [],
   "source": [
    "datas = df.values"
   ]
  },
  {
   "cell_type": "markdown",
   "metadata": {},
   "source": [
    "- pandas dataframe의 데이터를 pickle 파일로 저장하기"
   ]
  },
  {
   "cell_type": "code",
   "execution_count": 31,
   "metadata": {},
   "outputs": [
    {
     "data": {
      "text/plain": [
       "array([['Manchester City', 106, 27, 100],\n",
       "       ['Manchester United', 68, 28, 81],\n",
       "       ['Tottenham Hotspur', 74, 36, 77],\n",
       "       ['Liverpool', 84, 38, 75],\n",
       "       ['Chelsea', 62, 38, 70],\n",
       "       ['Arsenal', 74, 51, 63],\n",
       "       ['Burnley', 36, 39, 54],\n",
       "       ['Everton', 44, 58, 49],\n",
       "       ['Leicester City', 56, 60, 47],\n",
       "       ['Newcastle United', 39, 47, 44],\n",
       "       ['Crystal Palace', 45, 55, 44],\n",
       "       ['Bournemouth', 45, 61, 44],\n",
       "       ['West Ham United', 48, 68, 42],\n",
       "       ['Watford', 44, 64, 41],\n",
       "       ['Brighton and Hove Albion', 34, 54, 40],\n",
       "       ['Huddersfield Town', 28, 58, 37],\n",
       "       ['Southampton', 37, 56, 36],\n",
       "       ['Swansea City', 28, 56, 33],\n",
       "       ['Stoke City', 35, 68, 33],\n",
       "       ['West Bromwich Albion', 31, 56, 31]], dtype=object)"
      ]
     },
     "execution_count": 31,
     "metadata": {},
     "output_type": "execute_result"
    }
   ],
   "source": [
    "datas"
   ]
  },
  {
   "cell_type": "code",
   "execution_count": 32,
   "metadata": {},
   "outputs": [],
   "source": [
    "import pickle"
   ]
  },
  {
   "cell_type": "code",
   "execution_count": 33,
   "metadata": {},
   "outputs": [],
   "source": [
    "with open(\"./data/premierleague.pkl\", \"wb\") as f:\n",
    "    pickle.dump(datas, f)"
   ]
  },
  {
   "cell_type": "code",
   "execution_count": 34,
   "metadata": {},
   "outputs": [
    {
     "name": "stdout",
     "output_type": "stream",
     "text": [
      "ls: datas: No such file or directory\r\n"
     ]
    }
   ],
   "source": [
    "%ls datas"
   ]
  },
  {
   "cell_type": "code",
   "execution_count": 35,
   "metadata": {},
   "outputs": [],
   "source": [
    "with open(\"./data/premierleague.pkl\", \"rb\") as f:\n",
    "    datas = pickle.load(f)"
   ]
  },
  {
   "cell_type": "code",
   "execution_count": 36,
   "metadata": {},
   "outputs": [
    {
     "data": {
      "text/plain": [
       "array([['Manchester City', 106, 27, 100],\n",
       "       ['Manchester United', 68, 28, 81],\n",
       "       ['Tottenham Hotspur', 74, 36, 77]], dtype=object)"
      ]
     },
     "execution_count": 36,
     "metadata": {},
     "output_type": "execute_result"
    }
   ],
   "source": [
    "# 데이터 확인\n",
    "datas[:3]"
   ]
  },
  {
   "cell_type": "code",
   "execution_count": 37,
   "metadata": {
    "slideshow": {
     "slide_type": "slide"
    }
   },
   "outputs": [
    {
     "name": "stderr",
     "output_type": "stream",
     "text": [
      "/Users/jaewonlee/my-lecture/lib/python3.7/site-packages/ipykernel_launcher.py:2: DeprecationWarning: `np.int` is a deprecated alias for the builtin `int`. To silence this warning, use `int` by itself. Doing this will not modify any behavior and is safe. When replacing `np.int`, you may wish to use e.g. `np.int64` or `np.int32` to specify the precision. If you wish to review your current use, check the release note link for additional information.\n",
      "Deprecated in NumPy 1.20; for more details and guidance: https://numpy.org/devdocs/release/1.20.0-notes.html#deprecations\n",
      "  \n"
     ]
    },
    {
     "data": {
      "text/plain": [
       "array([106,  68,  74,  84,  62,  74,  36,  44,  56,  39,  45,  45,  48,\n",
       "        44,  34,  28,  37,  28,  35,  31])"
      ]
     },
     "execution_count": 37,
     "metadata": {},
     "output_type": "execute_result"
    }
   ],
   "source": [
    "# 득점\n",
    "gf = datas[:, 1].astype(np.int)\n",
    "gf"
   ]
  },
  {
   "cell_type": "code",
   "execution_count": 38,
   "metadata": {},
   "outputs": [
    {
     "name": "stderr",
     "output_type": "stream",
     "text": [
      "/Users/jaewonlee/my-lecture/lib/python3.7/site-packages/ipykernel_launcher.py:2: DeprecationWarning: `np.int` is a deprecated alias for the builtin `int`. To silence this warning, use `int` by itself. Doing this will not modify any behavior and is safe. When replacing `np.int`, you may wish to use e.g. `np.int64` or `np.int32` to specify the precision. If you wish to review your current use, check the release note link for additional information.\n",
      "Deprecated in NumPy 1.20; for more details and guidance: https://numpy.org/devdocs/release/1.20.0-notes.html#deprecations\n",
      "  \n"
     ]
    },
    {
     "data": {
      "text/plain": [
       "array([27, 28, 36, 38, 38, 51, 39, 58, 60, 47, 55, 61, 68, 64, 54, 58, 56,\n",
       "       56, 68, 56])"
      ]
     },
     "execution_count": 38,
     "metadata": {},
     "output_type": "execute_result"
    }
   ],
   "source": [
    "# 실점\n",
    "ga = datas[:, 2].astype(np.int)\n",
    "ga"
   ]
  },
  {
   "cell_type": "code",
   "execution_count": 39,
   "metadata": {},
   "outputs": [
    {
     "name": "stderr",
     "output_type": "stream",
     "text": [
      "/Users/jaewonlee/my-lecture/lib/python3.7/site-packages/ipykernel_launcher.py:2: DeprecationWarning: `np.int` is a deprecated alias for the builtin `int`. To silence this warning, use `int` by itself. Doing this will not modify any behavior and is safe. When replacing `np.int`, you may wish to use e.g. `np.int64` or `np.int32` to specify the precision. If you wish to review your current use, check the release note link for additional information.\n",
      "Deprecated in NumPy 1.20; for more details and guidance: https://numpy.org/devdocs/release/1.20.0-notes.html#deprecations\n",
      "  \n"
     ]
    },
    {
     "data": {
      "text/plain": [
       "array([100,  81,  77,  75,  70,  63,  54,  49,  47,  44,  44,  44,  42,\n",
       "        41,  40,  37,  36,  33,  33,  31])"
      ]
     },
     "execution_count": 39,
     "metadata": {},
     "output_type": "execute_result"
    }
   ],
   "source": [
    "# 승점\n",
    "points = datas[:, -1].astype(np.int)\n",
    "points"
   ]
  },
  {
   "cell_type": "code",
   "execution_count": 40,
   "metadata": {},
   "outputs": [
    {
     "data": {
      "text/plain": [
       "0.9318404636463516"
      ]
     },
     "execution_count": 40,
     "metadata": {},
     "output_type": "execute_result"
    }
   ],
   "source": [
    "# 득점과 승점의 상관계수 출력\n",
    "corr_gf = np.corrcoef(gf, points)[0, 1]\n",
    "corr_gf"
   ]
  },
  {
   "cell_type": "code",
   "execution_count": null,
   "metadata": {},
   "outputs": [],
   "source": [
    "# 실점과 승점의 상관계수 출력"
   ]
  },
  {
   "cell_type": "code",
   "execution_count": 41,
   "metadata": {},
   "outputs": [
    {
     "data": {
      "text/plain": [
       "-0.8705940043262672"
      ]
     },
     "execution_count": 41,
     "metadata": {},
     "output_type": "execute_result"
    }
   ],
   "source": [
    "corr_ga = np.corrcoef(ga, points)[0, 1]\n",
    "corr_ga"
   ]
  },
  {
   "cell_type": "code",
   "execution_count": null,
   "metadata": {},
   "outputs": [],
   "source": [
    "# 결정계수 : coefficient of determination"
   ]
  },
  {
   "cell_type": "code",
   "execution_count": 42,
   "metadata": {},
   "outputs": [
    {
     "data": {
      "text/plain": [
       "{'gf': 0.87, 'ga': 0.76}"
      ]
     },
     "execution_count": 42,
     "metadata": {},
     "output_type": "execute_result"
    }
   ],
   "source": [
    "deter = {key: np.round(value ** 2, 2) for key, value in zip([\"gf\", \"ga\"], [corr_gf, corr_ga])}\n",
    "deter"
   ]
  },
  {
   "cell_type": "code",
   "execution_count": null,
   "metadata": {},
   "outputs": [],
   "source": [
    "# 득점의 결정계수가 실점의 결정계수보다 더 높음\n",
    "# 승점을 예측할때 실점보다는 득점이 더 잘 예측함 (전체 데이터를 더 잘 설명함)\n",
    "# 승점의 상관계수가 득점이 더 높으므로 득점이 승점에 더 많은 영향을 줌"
   ]
  }
 ],
 "metadata": {
  "kernelspec": {
   "display_name": "Python 3 (ipykernel)",
   "language": "python",
   "name": "python3"
  },
  "language_info": {
   "codemirror_mode": {
    "name": "ipython",
    "version": 3
   },
   "file_extension": ".py",
   "mimetype": "text/x-python",
   "name": "python",
   "nbconvert_exporter": "python",
   "pygments_lexer": "ipython3",
   "version": "3.7.12"
  },
  "toc": {
   "base_numbering": 1,
   "nav_menu": {},
   "number_sections": false,
   "sideBar": true,
   "skip_h1_title": false,
   "title_cell": "Table of Contents",
   "title_sidebar": "Contents",
   "toc_cell": false,
   "toc_position": {},
   "toc_section_display": true,
   "toc_window_display": false
  },
  "varInspector": {
   "cols": {
    "lenName": 16,
    "lenType": 16,
    "lenVar": 40
   },
   "kernels_config": {
    "python": {
     "delete_cmd_postfix": "",
     "delete_cmd_prefix": "del ",
     "library": "var_list.py",
     "varRefreshCmd": "print(var_dic_list())"
    },
    "r": {
     "delete_cmd_postfix": ") ",
     "delete_cmd_prefix": "rm(",
     "library": "var_list.r",
     "varRefreshCmd": "cat(var_dic_list()) "
    }
   },
   "types_to_exclude": [
    "module",
    "function",
    "builtin_function_or_method",
    "instance",
    "_Feature"
   ],
   "window_display": false
  }
 },
 "nbformat": 4,
 "nbformat_minor": 2
}
