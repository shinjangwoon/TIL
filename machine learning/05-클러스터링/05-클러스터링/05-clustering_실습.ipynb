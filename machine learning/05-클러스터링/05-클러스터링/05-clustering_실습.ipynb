{
 "cells": [
  {
   "cell_type": "code",
   "execution_count": null,
   "metadata": {
    "id": "02qu6E_jvQ1G"
   },
   "outputs": [],
   "source": [
    "# libraries\n",
    "import numpy as np\n",
    "import scipy as sp\n",
    "import pandas as pd\n",
    "import matplotlib.pyplot as plt\n",
    "%matplotlib inline"
   ]
  },
  {
   "cell_type": "code",
   "execution_count": null,
   "metadata": {
    "id": "g87PxWWzvS3V"
   },
   "outputs": [],
   "source": [
    "# read data\n",
    "from sklearn.datasets import load_iris\n",
    "iris = load_iris()\n",
    "X = iris.data\n",
    "Y = iris.target\n",
    "from sklearn.model_selection import train_test_split\n",
    "xtrain, xtest, ytrain, ytest = train_test_split(X,Y,test_size=0.33,random_state=1) "
   ]
  },
  {
   "cell_type": "code",
   "execution_count": null,
   "metadata": {
    "id": "Mucd5XmzvSzr"
   },
   "outputs": [],
   "source": [
    "####################################################\n",
    "# Kmeans Clustering\n",
    "####################################################"
   ]
  },
  {
   "cell_type": "code",
   "execution_count": null,
   "metadata": {
    "id": "am50VFenvSwz"
   },
   "outputs": [],
   "source": [
    "# kmeans\n",
    "from sklearn.cluster import KMeans\n",
    "f = KMeans(n_clusters=3)\n",
    "f.fit(X)\n",
    "f.labels_\n",
    "f.cluster_centers_\n",
    "f.inertia_\n",
    "pd.crosstab(f.labels_,Y)"
   ]
  },
  {
   "cell_type": "code",
   "execution_count": null,
   "metadata": {
    "id": "-r_pXxPMvStd"
   },
   "outputs": [],
   "source": [
    "# determine the number of clusters\n",
    "inertia_list = []\n",
    "for k in range(2,30):\n",
    "    f = KMeans(n_clusters=k)\n",
    "    f.fit(X)\n",
    "    inertia_list.append(f.inertia_)"
   ]
  },
  {
   "cell_type": "code",
   "execution_count": null,
   "metadata": {
    "id": "tsuay6DEvSqI"
   },
   "outputs": [],
   "source": [
    "plt.plot(np.arange(2,30),inertia_list)"
   ]
  },
  {
   "cell_type": "code",
   "execution_count": null,
   "metadata": {
    "id": "Gu0IngbTvSnV"
   },
   "outputs": [],
   "source": [
    "f = KMeans(n_clusters=5)\n",
    "f.fit(X)\n",
    "pd.crosstab(f.labels_,Y)"
   ]
  },
  {
   "cell_type": "code",
   "execution_count": null,
   "metadata": {
    "id": "S-8vYY2nvSkd"
   },
   "outputs": [],
   "source": [
    "# after scaling & PCA\n",
    "from sklearn.preprocessing import StandardScaler\n",
    "f = StandardScaler()\n",
    "f.fit(X)\n",
    "X_s = f.transform(X)"
   ]
  },
  {
   "cell_type": "code",
   "execution_count": null,
   "metadata": {
    "id": "SgZ6z7XXvdVF"
   },
   "outputs": [],
   "source": [
    "from sklearn.decomposition import PCA\n",
    "f = PCA()\n",
    "f.fit(X_s)\n",
    "X_st = f.transform(X_s)\n"
   ]
  },
  {
   "cell_type": "code",
   "execution_count": null,
   "metadata": {
    "id": "GvopDaIkvdRY"
   },
   "outputs": [],
   "source": [
    "f = KMeans(n_clusters=3)\n",
    "f.fit(X_st)\n",
    "pd.crosstab(f.labels_,Y)"
   ]
  },
  {
   "cell_type": "code",
   "execution_count": null,
   "metadata": {
    "id": "Q8iXG8YivdOr"
   },
   "outputs": [],
   "source": [
    "# using the first component\n",
    "from sklearn.decomposition import PCA\n",
    "f = PCA(n_components=1)\n",
    "f.fit(X_s)\n",
    "X_st = f.transform(X_s)"
   ]
  },
  {
   "cell_type": "code",
   "execution_count": null,
   "metadata": {
    "id": "0IYvotB4vdMD"
   },
   "outputs": [],
   "source": [
    "f = KMeans(n_clusters=3)\n",
    "f.fit(X_st)\n",
    "pd.crosstab(f.labels_,Y)"
   ]
  },
  {
   "cell_type": "code",
   "execution_count": null,
   "metadata": {
    "id": "NRZbxCgBvdJL"
   },
   "outputs": [],
   "source": [
    "####################################################\n",
    "# Kmeans Clustering with Train/Test\n",
    "####################################################"
   ]
  },
  {
   "cell_type": "code",
   "execution_count": null,
   "metadata": {
    "id": "snBkOuYFvdFw"
   },
   "outputs": [],
   "source": [
    "# kmeans\n",
    "from sklearn.cluster import KMeans\n",
    "f = KMeans(n_clusters=3)\n",
    "f.fit(xtrain)\n",
    "f.labels_\n",
    "pd.crosstab(f.labels_,ytrain)"
   ]
  },
  {
   "cell_type": "code",
   "execution_count": null,
   "metadata": {
    "id": "ml51jFWBvdC_"
   },
   "outputs": [],
   "source": [
    "yhat_test = f.predict(xtest)\n",
    "pd.crosstab(yhat_test,ytest)"
   ]
  },
  {
   "cell_type": "code",
   "execution_count": null,
   "metadata": {
    "id": "ly946GffvdAT"
   },
   "outputs": [],
   "source": [
    "####################################################\n",
    "# Gaussian Mixture\n",
    "####################################################"
   ]
  },
  {
   "cell_type": "code",
   "execution_count": null,
   "metadata": {
    "id": "19L8q90kvkBF"
   },
   "outputs": [],
   "source": [
    "from sklearn.mixture import GaussianMixture\n",
    "f = GaussianMixture(n_components=3)\n",
    "f.fit(X)\n",
    "f.means_\n",
    "f.covariances_\n"
   ]
  },
  {
   "cell_type": "code",
   "execution_count": null,
   "metadata": {
    "id": "u9UV1Ve1vj-A"
   },
   "outputs": [],
   "source": [
    "yhat = f.predict(X)\n",
    "pd.crosstab(yhat,Y)"
   ]
  },
  {
   "cell_type": "code",
   "execution_count": null,
   "metadata": {
    "id": "-LX1Fmcyvj7I"
   },
   "outputs": [],
   "source": [
    "# after scaling\n",
    "from sklearn.preprocessing import StandardScaler\n",
    "f = StandardScaler()\n",
    "f.fit(X)\n",
    "X_s = f.transform(X)"
   ]
  },
  {
   "cell_type": "code",
   "execution_count": null,
   "metadata": {
    "id": "SVoWoMW4vj4c"
   },
   "outputs": [],
   "source": [
    "f = GaussianMixture(n_components=3)\n",
    "f.fit(X_s)\n",
    "pd.crosstab(f.predict(X_s),Y)"
   ]
  },
  {
   "cell_type": "code",
   "execution_count": null,
   "metadata": {
    "id": "C0BOYQv9vjj8"
   },
   "outputs": [],
   "source": [
    "# KMeans with scaling\n",
    "f = KMeans(n_clusters=3)\n",
    "f.fit(X)\n",
    "pd.crosstab(f.labels_,Y)\n",
    "f.fit(X_s)\n",
    "pd.crosstab(f.labels_,Y)"
   ]
  },
  {
   "cell_type": "code",
   "execution_count": null,
   "metadata": {
    "id": "nbk6xemjvsKz"
   },
   "outputs": [],
   "source": [
    "####################################################\n",
    "# Hierachical Clustering\n",
    "####################################################"
   ]
  },
  {
   "cell_type": "code",
   "execution_count": null,
   "metadata": {
    "id": "z0fdOYF-vsIW"
   },
   "outputs": [],
   "source": [
    "from sklearn.cluster import AgglomerativeClustering\n",
    "f = AgglomerativeClustering(n_clusters=3)\n",
    "f.fit(X)\n",
    "pd.crosstab(f.labels_,Y)"
   ]
  },
  {
   "cell_type": "code",
   "execution_count": null,
   "metadata": {
    "id": "yNTfe8MQvsF2"
   },
   "outputs": [],
   "source": [
    "# different options\n",
    "f = AgglomerativeClustering(n_clusters=3,affinity='cosine',linkage='complete')\n",
    "f.fit(X)\n",
    "pd.crosstab(f.labels_,Y)"
   ]
  },
  {
   "cell_type": "code",
   "execution_count": null,
   "metadata": {
    "id": "EtvEwkZSvsDF"
   },
   "outputs": [],
   "source": [
    "####################################################\n",
    "# DBSCAN\n",
    "####################################################"
   ]
  },
  {
   "cell_type": "code",
   "execution_count": null,
   "metadata": {
    "id": "U24T4ow5vsAZ"
   },
   "outputs": [],
   "source": [
    "from sklearn.cluster import DBSCAN\n",
    "f = DBSCAN(eps=0.5,min_samples=5)\n",
    "f.fit(X)\n",
    "f.labels_\n",
    "pd.crosstab(f.labels_,Y)"
   ]
  },
  {
   "cell_type": "code",
   "execution_count": null,
   "metadata": {
    "id": "KkOfvazbvxug"
   },
   "outputs": [],
   "source": [
    "# using the first two components\n",
    "from sklearn.decomposition import PCA\n",
    "f = PCA(n_components=2)\n",
    "f.fit(X_s)\n",
    "X_st = f.transform(X_s)"
   ]
  },
  {
   "cell_type": "code",
   "execution_count": null,
   "metadata": {
    "id": "eOs-emCUvxq9"
   },
   "outputs": [],
   "source": [
    "f = DBSCAN(eps=0.5,min_samples=5)\n",
    "f.fit(X_st)\n",
    "pd.crosstab(f.labels_,Y)"
   ]
  },
  {
   "cell_type": "code",
   "execution_count": null,
   "metadata": {
    "id": "OvV__2Bpvxm0"
   },
   "outputs": [],
   "source": [
    "col_list = ['k','b','r','g','y']\n",
    "col = []\n",
    "for i in range(len(f.labels_)):\n",
    "    col.append(col_list[f.labels_[i]+1])"
   ]
  },
  {
   "cell_type": "code",
   "execution_count": null,
   "metadata": {
    "id": "m_avgO5Cvxjr"
   },
   "outputs": [],
   "source": [
    "d = pd.DataFrame(X_st)\n",
    "d.columns = ['pc1','pc2']\n",
    "d.plot('pc1','pc2','scatter',c=col)"
   ]
  },
  {
   "cell_type": "code",
   "execution_count": null,
   "metadata": {
    "id": "nOtJrgI9vxfp"
   },
   "outputs": [],
   "source": [
    "####################################################\n",
    "# Clustering Practices\n",
    "####################################################"
   ]
  },
  {
   "cell_type": "code",
   "execution_count": null,
   "metadata": {
    "id": "jCXV_TZVvxce"
   },
   "outputs": [],
   "source": [
    "# clustering boston data set only with X\n",
    "# which method and how many cluster will you use?\n",
    "# can you find the relation between the cluster and medv? "
   ]
  },
  {
   "cell_type": "code",
   "execution_count": null,
   "metadata": {
    "id": "AdpTU_5zvxZ5"
   },
   "outputs": [],
   "source": [
    "# read data\n",
    "df = pd.read_csv('https://raw.githubusercontent.com/flowertoman/data/main/data01_boston.csv')\n",
    "X = df.iloc[:,:-1]\n",
    "Y = df['medv']"
   ]
  },
  {
   "cell_type": "code",
   "execution_count": null,
   "metadata": {
    "id": "n9lUHsQZvxXT"
   },
   "outputs": [],
   "source": []
  }
 ],
 "metadata": {
  "colab": {
   "name": "script05_clustering.ipynb",
   "provenance": []
  },
  "kernelspec": {
   "display_name": "Python 3 (ipykernel)",
   "language": "python",
   "name": "python3"
  },
  "language_info": {
   "codemirror_mode": {
    "name": "ipython",
    "version": 3
   },
   "file_extension": ".py",
   "mimetype": "text/x-python",
   "name": "python",
   "nbconvert_exporter": "python",
   "pygments_lexer": "ipython3",
   "version": "3.7.12"
  }
 },
 "nbformat": 4,
 "nbformat_minor": 1
}
