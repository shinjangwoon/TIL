{
 "cells": [
  {
   "cell_type": "markdown",
   "metadata": {
    "id": "02d8TkFV5nXz"
   },
   "source": [
    "### DBSCAN\n",
    "- k-means 클러스터링의 특징\n",
    "    - 단순하고 강력한 클러스터링 방법\n",
    "    - 군집의 모양이 원형이 아닌경우에 잘 동작하지 않음\n",
    "    - k 값을 사용자가 지정"
   ]
  },
  {
   "cell_type": "markdown",
   "metadata": {
    "id": "Dkozshj45nX2"
   },
   "source": [
    "- DBSCAN 클러스터링의 특징\n",
    "    - Density-based Spatial Clustering of Applications with Noise\n",
    "    - 데이터의 밀집 정도를 사용\n",
    "    - 데이터의 군집형태와 관계없이 클러스터링이 가능\n",
    "    - 군집의 갯수를 사용자가 지정할 필요가 없음\n",
    "    - Density-based clustering 중 가장 성능이 우수\n",
    "    - eps-neighbors와 MinPts를 사용하여 군집구성"
   ]
  },
  {
   "cell_type": "markdown",
   "metadata": {
    "id": "o8WQJ8wv5nX3"
   },
   "source": [
    "- DBSCAN 알고리즘\n",
    "    - eps-neighbors : 한 데이터를 중심으로 epsilon($\\epsilon$)거리 이내의 데이터들을 한 군집으로 구성\n",
    "    - MinPts : 한 군집은 Minpts보다 많거나 같은 수의 데이터로 구성됨\n",
    "    - 데이터의 분류\n",
    "        - Core : 군집을 찾는데 기준이 되는 데이터\n",
    "        - Border : 군집에 포함은 되지만 군집을 찾는데 기준이 되지 못하는 데이터\n",
    "        - Noise : 아웃라이어 데이터"
   ]
  },
  {
   "cell_type": "code",
   "execution_count": null,
   "metadata": {
    "colab": {
     "base_uri": "https://localhost:8080/",
     "height": 413
    },
    "executionInfo": {
     "elapsed": 488,
     "status": "ok",
     "timestamp": 1652419918779,
     "user": {
      "displayName": "Doojin Park",
      "userId": "13081019711214908217"
     },
     "user_tz": -540
    },
    "id": "GuXj1hFO5tVx",
    "outputId": "a27d894b-75f4-49cf-eec5-d6e9013eb7a6"
   },
   "outputs": [],
   "source": [
    "from IPython.display import Image\n",
    "Image('./imgs/dbscan_1.png')"
   ]
  },
  {
   "cell_type": "markdown",
   "metadata": {
    "id": "soMjESWi5nX4"
   },
   "source": [
    "- DBSCAN 하이퍼 파라미터(hyper parameter)의 설정 및 특징\n",
    "    - MinPts 설정\n",
    "        - eps값 내에 있는 데이터의 수\n",
    "        - eps값 내에 있는 데이터의 수가 MinPts개 이상이면 Core 데이터가 됨\n",
    "        - 간단한 설정 : 변수의 수 + 1로 설정\n",
    "        - 3이상으로 설정\n",
    "    - eps 설정\n",
    "        - 너무 작으면 많은 데이터가 노이즈로 구분됨\n",
    "        - 너무 크면 군집이 하나가 될수 있음\n",
    "        - K-nearest neighbor의 거리를 그래프로 나타낸후 거리가 급격하게 증가하는 지점을 eps 값으로 설정"
   ]
  },
  {
   "cell_type": "code",
   "execution_count": null,
   "metadata": {
    "executionInfo": {
     "elapsed": 517,
     "status": "ok",
     "timestamp": 1652421606287,
     "user": {
      "displayName": "Doojin Park",
      "userId": "13081019711214908217"
     },
     "user_tz": -540
    },
    "id": "gUUrVOIK5nX4"
   },
   "outputs": [],
   "source": [
    "%config InlineBackend.figure_formats = {'png', 'retina'}\n",
    "\n",
    "import pandas as pd\n",
    "\n",
    "import matplotlib as mpl\n",
    "import matplotlib.pyplot as plt"
   ]
  },
  {
   "cell_type": "code",
   "execution_count": null,
   "metadata": {
    "executionInfo": {
     "elapsed": 1100,
     "status": "ok",
     "timestamp": 1652421608347,
     "user": {
      "displayName": "Doojin Park",
      "userId": "13081019711214908217"
     },
     "user_tz": -540
    },
    "id": "G4noXtx85nX5"
   },
   "outputs": [],
   "source": [
    "from sklearn.datasets import make_circles, make_moons, make_blobs\n",
    "from sklearn.cluster import DBSCAN"
   ]
  },
  {
   "cell_type": "markdown",
   "metadata": {
    "id": "LGLFaezn5nX6"
   },
   "source": [
    "#### 1. 샘플 데이터 생성"
   ]
  },
  {
   "cell_type": "code",
   "execution_count": null,
   "metadata": {
    "executionInfo": {
     "elapsed": 1298,
     "status": "ok",
     "timestamp": 1652421623522,
     "user": {
      "displayName": "Doojin Park",
      "userId": "13081019711214908217"
     },
     "user_tz": -540
    },
    "id": "8lsvKg4y5nX7"
   },
   "outputs": [],
   "source": [
    "n_samples = 200\n",
    "\n",
    "X1, y1 = make_circles(n_samples=n_samples, factor=0.5, noise=0.05, random_state=1)\n",
    "X2, y2 = make_moons(n_samples=n_samples, noise=0.1, random_state=1)"
   ]
  },
  {
   "cell_type": "code",
   "execution_count": null,
   "metadata": {
    "colab": {
     "base_uri": "https://localhost:8080/",
     "height": 320
    },
    "executionInfo": {
     "elapsed": 678,
     "status": "ok",
     "timestamp": 1652421625002,
     "user": {
      "displayName": "Doojin Park",
      "userId": "13081019711214908217"
     },
     "user_tz": -540
    },
    "id": "p1KmpwZP5nX8",
    "outputId": "bae8898d-63bd-4dda-f135-cc3945353820"
   },
   "outputs": [],
   "source": [
    "# 동심원 군집\n",
    "data_1 = X1[y1 == 0]\n",
    "data_2 = X1[y1 == 1]\n",
    "\n",
    "# 초승달 군집\n",
    "data_3 = X2[y2 == 0]\n",
    "data_4 = X2[y2 == 1]\n",
    "\n",
    "plt.figure(figsize=(20, 5))\n",
    "\n",
    "# 동심원 군집\n",
    "plt.subplot(121)\n",
    "plt.scatter(data_1[:, 0], data_1[:, 1])\n",
    "plt.scatter(data_2[:, 0], data_2[:, 1])\n",
    "\n",
    "# 초승달 군집\n",
    "plt.subplot(122)\n",
    "plt.scatter(data_3[:, 0], data_3[:, 1])\n",
    "plt.scatter(data_4[:, 0], data_4[:, 1])\n",
    "\n",
    "plt.show()"
   ]
  },
  {
   "cell_type": "markdown",
   "metadata": {
    "id": "rmeyy6fm5nX9"
   },
   "source": [
    "#### 2. K-means 사용"
   ]
  },
  {
   "cell_type": "code",
   "execution_count": null,
   "metadata": {
    "executionInfo": {
     "elapsed": 335,
     "status": "ok",
     "timestamp": 1652421659300,
     "user": {
      "displayName": "Doojin Park",
      "userId": "13081019711214908217"
     },
     "user_tz": -540
    },
    "id": "W71NCi1d5nX9"
   },
   "outputs": [],
   "source": [
    "from sklearn.cluster import KMeans"
   ]
  },
  {
   "cell_type": "code",
   "execution_count": null,
   "metadata": {
    "executionInfo": {
     "elapsed": 2,
     "status": "ok",
     "timestamp": 1652421659706,
     "user": {
      "displayName": "Doojin Park",
      "userId": "13081019711214908217"
     },
     "user_tz": -540
    },
    "id": "IP2Bdl9s5nX9"
   },
   "outputs": [],
   "source": [
    "model_1 = KMeans(n_clusters=2, random_state=0).fit(X1)"
   ]
  },
  {
   "cell_type": "code",
   "execution_count": null,
   "metadata": {
    "colab": {
     "base_uri": "https://localhost:8080/",
     "height": 335
    },
    "executionInfo": {
     "elapsed": 868,
     "status": "ok",
     "timestamp": 1652421661008,
     "user": {
      "displayName": "Doojin Park",
      "userId": "13081019711214908217"
     },
     "user_tz": -540
    },
    "id": "IRMF-XaI5nX-",
    "outputId": "7d4ea84b-16ea-468e-9e24-e431e2148433"
   },
   "outputs": [],
   "source": [
    "plt.figure(figsize=(20, 5))\n",
    "\n",
    "# 실제 데이터\n",
    "plt.subplot(121)\n",
    "plt.scatter(X1[:,0], X1[:,1], c=y1, cmap=\"rainbow\")\n",
    "plt.title(\"Actual\")\n",
    "\n",
    "# 예측데이터\n",
    "plt.subplot(122)\n",
    "plt.scatter(X1[:,0], X1[:,1], c=model_1.labels_, cmap=\"rainbow\")\n",
    "plt.title(\"Predicted\")\n",
    "\n",
    "# 포인트\n",
    "plt.scatter(model_1.cluster_centers_[:,0], model_1.cluster_centers_[:,1], c=\"black\", marker=\"x\")\n",
    "plt.show()"
   ]
  },
  {
   "cell_type": "code",
   "execution_count": null,
   "metadata": {
    "executionInfo": {
     "elapsed": 289,
     "status": "ok",
     "timestamp": 1652421673605,
     "user": {
      "displayName": "Doojin Park",
      "userId": "13081019711214908217"
     },
     "user_tz": -540
    },
    "id": "pAsWSQr15nX-"
   },
   "outputs": [],
   "source": [
    "model_2 = KMeans(n_clusters=2, random_state=0).fit(X2)"
   ]
  },
  {
   "cell_type": "code",
   "execution_count": null,
   "metadata": {
    "colab": {
     "base_uri": "https://localhost:8080/",
     "height": 335
    },
    "executionInfo": {
     "elapsed": 1330,
     "status": "ok",
     "timestamp": 1652421675212,
     "user": {
      "displayName": "Doojin Park",
      "userId": "13081019711214908217"
     },
     "user_tz": -540
    },
    "id": "h3hlLAkN5nX-",
    "outputId": "43ebfee0-a488-4814-e6bf-cd0403c87418"
   },
   "outputs": [],
   "source": [
    "plt.figure(figsize=(20, 5))\n",
    "\n",
    "# 실제 데이터\n",
    "plt.subplot(121)\n",
    "plt.scatter(X2[:,0], X2[:,1], c=y2, cmap=\"rainbow\")\n",
    "plt.title(\"Actual\")\n",
    "\n",
    "# 예측데이터\n",
    "plt.subplot(122)\n",
    "plt.scatter(X2[:,0], X2[:,1], c=model_2.labels_, cmap=\"rainbow\")\n",
    "plt.title(\"Predicted\")\n",
    "\n",
    "# 포인트\n",
    "plt.scatter(model_2.cluster_centers_[:,0], model_2.cluster_centers_[:,1], c=\"black\", marker=\"x\")\n",
    "plt.show()"
   ]
  },
  {
   "cell_type": "markdown",
   "metadata": {
    "id": "qisBRtSw5nX_"
   },
   "source": [
    "#### 3. DBSCAN 사용"
   ]
  },
  {
   "cell_type": "code",
   "execution_count": null,
   "metadata": {
    "executionInfo": {
     "elapsed": 328,
     "status": "ok",
     "timestamp": 1652421704179,
     "user": {
      "displayName": "Doojin Park",
      "userId": "13081019711214908217"
     },
     "user_tz": -540
    },
    "id": "Jj6eImp_5nX_"
   },
   "outputs": [],
   "source": [
    "eps = 0.3\n",
    "\n",
    "model_3 = DBSCAN(eps=eps).fit(X1)\n",
    "\n",
    "# MinPts 설정 : min_samples\n",
    "# model_3 = DBSCAN(eps=eps, min_samples=3).fit(X1)"
   ]
  },
  {
   "cell_type": "code",
   "execution_count": null,
   "metadata": {
    "colab": {
     "base_uri": "https://localhost:8080/",
     "height": 335
    },
    "executionInfo": {
     "elapsed": 926,
     "status": "ok",
     "timestamp": 1652421708583,
     "user": {
      "displayName": "Doojin Park",
      "userId": "13081019711214908217"
     },
     "user_tz": -540
    },
    "id": "d8k-1i9h5nX_",
    "outputId": "0784686a-0535-44b8-ef59-5f2feaed0163"
   },
   "outputs": [],
   "source": [
    "plt.figure(figsize=(20, 5))\n",
    "\n",
    "# 실제 데이터\n",
    "plt.subplot(121)\n",
    "plt.scatter(X1[:,0], X1[:,1], c=y1, cmap=\"rainbow\")\n",
    "plt.title(\"Actual\")\n",
    "\n",
    "# 예측데이터\n",
    "plt.subplot(122)\n",
    "plt.scatter(X1[:,0], X1[:,1], c=model_3.labels_, cmap=\"rainbow\")\n",
    "plt.title(\"Predicted\")\n",
    "\n",
    "# 포인트\n",
    "plt.show()"
   ]
  },
  {
   "cell_type": "code",
   "execution_count": null,
   "metadata": {
    "executionInfo": {
     "elapsed": 615,
     "status": "ok",
     "timestamp": 1652421851124,
     "user": {
      "displayName": "Doojin Park",
      "userId": "13081019711214908217"
     },
     "user_tz": -540
    },
    "id": "NCyCSAMk5nYA"
   },
   "outputs": [],
   "source": [
    "eps = 0.21\n",
    "# eps = 0.21 # eps 값을 높이면 더 정확한 클러스터링이 됨\n",
    "\n",
    "model_4 = DBSCAN(eps=eps).fit(X2)\n",
    "\n",
    "# MinPts 설정 : min_samples\n",
    "# model_4 = DBSCAN(eps=eps, min_samples=3).fit(X2)"
   ]
  },
  {
   "cell_type": "code",
   "execution_count": null,
   "metadata": {
    "colab": {
     "base_uri": "https://localhost:8080/",
     "height": 335
    },
    "executionInfo": {
     "elapsed": 1342,
     "status": "ok",
     "timestamp": 1652421852875,
     "user": {
      "displayName": "Doojin Park",
      "userId": "13081019711214908217"
     },
     "user_tz": -540
    },
    "id": "tLqH6XKL5nYA",
    "outputId": "9cc4344f-8c3a-4d77-b6b3-e9d03b409666"
   },
   "outputs": [],
   "source": [
    "plt.figure(figsize=(20, 5))\n",
    "\n",
    "# 실제 데이터\n",
    "plt.subplot(121)\n",
    "plt.scatter(X2[:,0], X2[:,1], c=y2, cmap=\"rainbow\")\n",
    "plt.title(\"Actual\")\n",
    "\n",
    "# 예측데이터\n",
    "plt.subplot(122)\n",
    "plt.scatter(X2[:,0], X2[:,1], c=model_4.labels_, cmap=\"rainbow\")\n",
    "plt.title(\"Predicted\")\n",
    "\n",
    "# 포인트\n",
    "plt.show()"
   ]
  },
  {
   "cell_type": "markdown",
   "metadata": {
    "id": "jXZ7wznG5nYA"
   },
   "source": [
    "#### Core, Border, Noise 데이터 확인\n",
    "- 0 : core\n",
    "- 1 : border\n",
    "- 2 : noise\n",
    "    - noise 데이터는 아웃라이어로 지정해서 데이터를 제거할수 있다."
   ]
  },
  {
   "cell_type": "code",
   "execution_count": null,
   "metadata": {
    "id": "6a1DEyKJ5nYA",
    "outputId": "c17ea4a4-d4db-478c-e12a-496ed17a0df9"
   },
   "outputs": [],
   "source": [
    "df = pd.DataFrame(X2)\n",
    "# border data\n",
    "df[\"cbn\"] = 1\n",
    "df.tail(2)"
   ]
  },
  {
   "cell_type": "code",
   "execution_count": null,
   "metadata": {
    "id": "9iXafAGv5nYB"
   },
   "outputs": [],
   "source": [
    "# noise data : model_4.labels_ 에서 -1d인 데이터가 noise 데이터\n",
    "# noise data를 2로 변경\n",
    "df[\"cbn\"][model_4.labels_ == -1] = 2"
   ]
  },
  {
   "cell_type": "code",
   "execution_count": null,
   "metadata": {
    "id": "sg3uSk9Q5nYB"
   },
   "outputs": [],
   "source": [
    "# core data\n",
    "df.loc[model_4.core_sample_indices_, \"cbn\"] = 0"
   ]
  },
  {
   "cell_type": "code",
   "execution_count": null,
   "metadata": {
    "id": "qlQ3UGs05nYB",
    "outputId": "fb638100-4d79-48e9-8a40-ce5cf1818cef"
   },
   "outputs": [],
   "source": [
    "plt.scatter(df[0], df[1], c=df[\"cbn\"], cmap=\"rainbow\")\n",
    "plt.show()"
   ]
  },
  {
   "cell_type": "code",
   "execution_count": null,
   "metadata": {
    "id": "PwJjWZ5s5nYB",
    "outputId": "a58073ff-89bb-4e01-e834-817aca2755b9"
   },
   "outputs": [],
   "source": [
    "# 아웃라이어 데이터\n",
    "df[df[\"cbn\"] != 2]"
   ]
  },
  {
   "cell_type": "markdown",
   "metadata": {
    "id": "nZEVWS5S5nYC"
   },
   "source": [
    "#### 4. 최적의 eps 값 설정\n",
    "- K-nearest neighbor의 거리를 그래프로 나타낸후 거리가 급격하게 증가하는 지점을 eps 값으로 설정\n",
    "- 모든 데이터의 케이스에 적용되는것은 아님"
   ]
  },
  {
   "cell_type": "markdown",
   "metadata": {
    "id": "tmLVGapL5nYC"
   },
   "source": [
    "#### 4.1 샘플 데이터"
   ]
  },
  {
   "cell_type": "code",
   "execution_count": null,
   "metadata": {
    "colab": {
     "base_uri": "https://localhost:8080/",
     "height": 265
    },
    "executionInfo": {
     "elapsed": 478,
     "status": "ok",
     "timestamp": 1652421946486,
     "user": {
      "displayName": "Doojin Park",
      "userId": "13081019711214908217"
     },
     "user_tz": -540
    },
    "id": "wnhofpdv5nYC",
    "outputId": "6918f0dd-a4c0-44f5-b5fd-d60197f5b46e"
   },
   "outputs": [],
   "source": [
    "X3, y3 = make_blobs(n_samples=300, centers=6, cluster_std=0.6, random_state=0)\n",
    "plt.scatter(X3[:,0], X3[:,1])\n",
    "plt.show()"
   ]
  },
  {
   "cell_type": "markdown",
   "metadata": {
    "id": "BEoWNf9j5nYC"
   },
   "source": [
    "#### 4.2 eps의 기본값 0.5로 DBSCAN 모델 학습"
   ]
  },
  {
   "cell_type": "code",
   "execution_count": null,
   "metadata": {
    "executionInfo": {
     "elapsed": 3,
     "status": "ok",
     "timestamp": 1652421949604,
     "user": {
      "displayName": "Doojin Park",
      "userId": "13081019711214908217"
     },
     "user_tz": -540
    },
    "id": "jQNZCN9O5nYC"
   },
   "outputs": [],
   "source": [
    "model_5 = DBSCAN(eps=0.5).fit(X3)"
   ]
  },
  {
   "cell_type": "code",
   "execution_count": null,
   "metadata": {
    "colab": {
     "base_uri": "https://localhost:8080/",
     "height": 265
    },
    "executionInfo": {
     "elapsed": 8,
     "status": "ok",
     "timestamp": 1652421951307,
     "user": {
      "displayName": "Doojin Park",
      "userId": "13081019711214908217"
     },
     "user_tz": -540
    },
    "id": "RyklflGx5nYC",
    "outputId": "ac811bba-6ddf-4ef2-c89c-ff6bf499b822"
   },
   "outputs": [],
   "source": [
    "plt.scatter(X3[:,0], X3[:,1], c=model_5.labels_, cmap=\"rainbow\")\n",
    "plt.show()"
   ]
  },
  {
   "cell_type": "markdown",
   "metadata": {
    "id": "lBl48BGo5nYD"
   },
   "source": [
    "#### 4.3 K-nearest neighbor를 이용하여 최적화된 eps값 구하기"
   ]
  },
  {
   "cell_type": "code",
   "execution_count": null,
   "metadata": {
    "executionInfo": {
     "elapsed": 306,
     "status": "ok",
     "timestamp": 1652421975029,
     "user": {
      "displayName": "Doojin Park",
      "userId": "13081019711214908217"
     },
     "user_tz": -540
    },
    "id": "tU3N4jDL5nYD"
   },
   "outputs": [],
   "source": [
    "from sklearn.neighbors import NearestNeighbors"
   ]
  },
  {
   "cell_type": "code",
   "execution_count": null,
   "metadata": {
    "executionInfo": {
     "elapsed": 3,
     "status": "ok",
     "timestamp": 1652421976055,
     "user": {
      "displayName": "Doojin Park",
      "userId": "13081019711214908217"
     },
     "user_tz": -540
    },
    "id": "t4dZF74Q5nYD"
   },
   "outputs": [],
   "source": [
    "neigh = NearestNeighbors(n_neighbors=2)\n",
    "nbrs = neigh.fit(X3)\n",
    "distances, indices = nbrs.kneighbors(X3)"
   ]
  },
  {
   "cell_type": "code",
   "execution_count": null,
   "metadata": {
    "colab": {
     "base_uri": "https://localhost:8080/"
    },
    "executionInfo": {
     "elapsed": 2,
     "status": "ok",
     "timestamp": 1652421977333,
     "user": {
      "displayName": "Doojin Park",
      "userId": "13081019711214908217"
     },
     "user_tz": -540
    },
    "id": "FkK6EY1u5nYD",
    "outputId": "194745b4-ffd1-4397-d6e8-353712a02f23"
   },
   "outputs": [],
   "source": [
    "X3[: 5]"
   ]
  },
  {
   "cell_type": "code",
   "execution_count": null,
   "metadata": {
    "colab": {
     "base_uri": "https://localhost:8080/"
    },
    "executionInfo": {
     "elapsed": 3,
     "status": "ok",
     "timestamp": 1652421978180,
     "user": {
      "displayName": "Doojin Park",
      "userId": "13081019711214908217"
     },
     "user_tz": -540
    },
    "id": "_D-HXUUW5nYD",
    "outputId": "b2c8c4c9-a2c3-4b12-cfb0-f1f24ec7f93c"
   },
   "outputs": [],
   "source": [
    "distances[: 5]"
   ]
  },
  {
   "cell_type": "code",
   "execution_count": null,
   "metadata": {
    "colab": {
     "base_uri": "https://localhost:8080/",
     "height": 265
    },
    "executionInfo": {
     "elapsed": 5,
     "status": "ok",
     "timestamp": 1652421988185,
     "user": {
      "displayName": "Doojin Park",
      "userId": "13081019711214908217"
     },
     "user_tz": -540
    },
    "id": "730lUP6K5nYD",
    "outputId": "5a47837e-cf02-4988-f50c-a8123c15b972"
   },
   "outputs": [],
   "source": [
    "# 거리값 정렬\n",
    "import numpy as np\n",
    "distances = np.sort(distances, axis=0)\n",
    "\n",
    "# 그래프 그리기 기울기의 급상승 하는 값은 0.3 ~ 0.6 어딘가\n",
    "plt.plot(distances[:, 1])\n",
    "plt.show()"
   ]
  },
  {
   "cell_type": "code",
   "execution_count": null,
   "metadata": {
    "colab": {
     "base_uri": "https://localhost:8080/"
    },
    "executionInfo": {
     "elapsed": 411,
     "status": "ok",
     "timestamp": 1652422072517,
     "user": {
      "displayName": "Doojin Park",
      "userId": "13081019711214908217"
     },
     "user_tz": -540
    },
    "id": "kL1JNru55nYE",
    "outputId": "1bc66d54-2494-4568-a39b-05e0c9d9a338"
   },
   "outputs": [],
   "source": [
    "# 거리값 출력\n",
    "distances[:, 1][:5]"
   ]
  },
  {
   "cell_type": "code",
   "execution_count": null,
   "metadata": {
    "colab": {
     "base_uri": "https://localhost:8080/"
    },
    "executionInfo": {
     "elapsed": 2,
     "status": "ok",
     "timestamp": 1652422073952,
     "user": {
      "displayName": "Doojin Park",
      "userId": "13081019711214908217"
     },
     "user_tz": -540
    },
    "id": "W1kLRK1e5nYE",
    "outputId": "73d1cfeb-f019-430f-f149-03450bba45dd"
   },
   "outputs": [],
   "source": [
    "# 기울기 값 구하기\n",
    "distances_g = np.gradient(distances[:, 1])\n",
    "distances_g[:5]"
   ]
  },
  {
   "cell_type": "code",
   "execution_count": null,
   "metadata": {
    "colab": {
     "base_uri": "https://localhost:8080/"
    },
    "executionInfo": {
     "elapsed": 302,
     "status": "ok",
     "timestamp": 1652422077673,
     "user": {
      "displayName": "Doojin Park",
      "userId": "13081019711214908217"
     },
     "user_tz": -540
    },
    "id": "Rzung9tD5nYE",
    "outputId": "47cc69a2-35c8-4bc4-aa56-7e98c37a0826"
   },
   "outputs": [],
   "source": [
    "# 기울기가 최대가 되는 위치값 구하기\n",
    "max_index = np.argmax(np.gradient(distances_g))\n",
    "\n",
    "# 기울기가 최대가 되는 위치 값에있는 eps 값 구하기\n",
    "opt_eps = distances[max_index][1]\n",
    "\n",
    "opt_eps"
   ]
  },
  {
   "cell_type": "markdown",
   "metadata": {
    "id": "Wy7IANOS5nYE"
   },
   "source": [
    "#### 4.4 최적화된 eps 값으로 모델 학습"
   ]
  },
  {
   "cell_type": "code",
   "execution_count": null,
   "metadata": {
    "executionInfo": {
     "elapsed": 307,
     "status": "ok",
     "timestamp": 1652422087058,
     "user": {
      "displayName": "Doojin Park",
      "userId": "13081019711214908217"
     },
     "user_tz": -540
    },
    "id": "lUXTV4GC5nYE"
   },
   "outputs": [],
   "source": [
    "# 최적 eps 값으로 모델 학습\n",
    "model_6 = DBSCAN(eps=opt_eps).fit(X3)"
   ]
  },
  {
   "cell_type": "code",
   "execution_count": null,
   "metadata": {
    "colab": {
     "base_uri": "https://localhost:8080/",
     "height": 335
    },
    "executionInfo": {
     "elapsed": 1370,
     "status": "ok",
     "timestamp": 1652422090578,
     "user": {
      "displayName": "Doojin Park",
      "userId": "13081019711214908217"
     },
     "user_tz": -540
    },
    "id": "Pn9oSEwo5nYE",
    "outputId": "464e4722-1fb9-4051-966e-0750f21dc912"
   },
   "outputs": [],
   "source": [
    "plt.figure(figsize=(20, 5))\n",
    "\n",
    "plt.subplot(121)\n",
    "plt.scatter(X3[:,0], X3[:,1], c=model_5.labels_, cmap=\"rainbow\")\n",
    "plt.title(\"basic eps : 0.5\")\n",
    "\n",
    "plt.subplot(122)\n",
    "plt.scatter(X3[:,0], X3[:,1], c=model_6.labels_, cmap=\"rainbow\")\n",
    "plt.title(\"optimaize eps : {}\".format(opt_eps))\n",
    "\n",
    "plt.show()"
   ]
  },
  {
   "cell_type": "markdown",
   "metadata": {
    "id": "c0-mSmKW5nYE"
   },
   "source": [
    "#### 5. DBSCAN의 장단점\n",
    "- 장점\n",
    "    - 군집의 수(K)를 설정할 필요가 없음\n",
    "    - 다양한 모양의 군집이 형성될 수 있으며 군집끼리 겹치는경우가 없음\n",
    "    - 하이퍼 파라미터가 2개로 작은편\n",
    "- 단점\n",
    "    - 데이터는 하나의 군집에 속하게 되므로 시작점에 따라 다른 모양의 군집이 형성됨\n",
    "    - eps 값에 의해 성능이 크게 좌우됨 : eps 값의 테스트를 많이 해보아야 함\n",
    "    - 군집별 밀도가 다르면 군집화가 잘 이루어지지 않음"
   ]
  }
 ],
 "metadata": {
  "colab": {
   "collapsed_sections": [
    "qisBRtSw5nX_",
    "jXZ7wznG5nYA",
    "nZEVWS5S5nYC",
    "tmLVGapL5nYC",
    "BEoWNf9j5nYC",
    "lBl48BGo5nYD",
    "Wy7IANOS5nYE",
    "c0-mSmKW5nYE"
   ],
   "name": "03_DBSCAN_1.ipynb",
   "provenance": []
  },
  "kernelspec": {
   "display_name": "Python 3 (ipykernel)",
   "language": "python",
   "name": "python3"
  },
  "language_info": {
   "codemirror_mode": {
    "name": "ipython",
    "version": 3
   },
   "file_extension": ".py",
   "mimetype": "text/x-python",
   "name": "python",
   "nbconvert_exporter": "python",
   "pygments_lexer": "ipython3",
   "version": "3.7.12"
  },
  "varInspector": {
   "cols": {
    "lenName": 16,
    "lenType": 16,
    "lenVar": 40
   },
   "kernels_config": {
    "python": {
     "delete_cmd_postfix": "",
     "delete_cmd_prefix": "del ",
     "library": "var_list.py",
     "varRefreshCmd": "print(var_dic_list())"
    },
    "r": {
     "delete_cmd_postfix": ") ",
     "delete_cmd_prefix": "rm(",
     "library": "var_list.r",
     "varRefreshCmd": "cat(var_dic_list()) "
    }
   },
   "types_to_exclude": [
    "module",
    "function",
    "builtin_function_or_method",
    "instance",
    "_Feature"
   ],
   "window_display": false
  }
 },
 "nbformat": 4,
 "nbformat_minor": 1
}
