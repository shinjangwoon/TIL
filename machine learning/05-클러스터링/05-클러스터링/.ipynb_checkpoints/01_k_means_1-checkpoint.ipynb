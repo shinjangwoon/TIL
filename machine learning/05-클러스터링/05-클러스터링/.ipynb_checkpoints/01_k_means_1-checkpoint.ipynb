{
 "cells": [
  {
   "cell_type": "markdown",
   "metadata": {
    "id": "-Z3KSq1_5LCo"
   },
   "source": [
    "### K-means Clustering의 이해\n",
    "- 각 군집에 할당된 포인트들의 평균좌표를 이용해 중심점을 반복해서 업데이트 하는 방법\n",
    "- 알고리즘 수행 절차\n",
    "    1. k개의 중심 좌표 생성\n",
    "    1. 각 데이터와 중심 좌표 사이의 거리를 계산하여 가까운 중심 좌표로 군집을 할당\n",
    "    1. 할당된 군집을 기반으로 새로운 중심 좌표를 계산\n",
    "    1. 모든 데이터의 클러스터 할당이 바뀌지 않을때까지 반복"
   ]
  },
  {
   "cell_type": "code",
   "execution_count": null,
   "metadata": {
    "colab": {
     "base_uri": "https://localhost:8080/",
     "height": 551
    },
    "executionInfo": {
     "elapsed": 1134,
     "status": "ok",
     "timestamp": 1652419841834,
     "user": {
      "displayName": "Doojin Park",
      "userId": "13081019711214908217"
     },
     "user_tz": -540
    },
    "id": "TGfoHtpv5Z1F",
    "outputId": "5763870d-16a8-431c-e7d5-365525ba0954"
   },
   "outputs": [],
   "source": [
    "from IPython.display import Image\n",
    "Image('./imgs/k_means_1.png')"
   ]
  },
  {
   "cell_type": "markdown",
   "metadata": {
    "id": "CqC5RDFT5LCs"
   },
   "source": [
    "#### 1. 샘플 데이터 생성"
   ]
  },
  {
   "cell_type": "code",
   "execution_count": null,
   "metadata": {},
   "outputs": [],
   "source": [
    "import numpy as np\n",
    "import pandas as pd"
   ]
  },
  {
   "cell_type": "code",
   "execution_count": null,
   "metadata": {
    "id": "kSkwS03w5LCs",
    "outputId": "33227fdc-7896-4c23-9c20-3d40fff91b6e"
   },
   "outputs": [],
   "source": [
    "# 1. 두개의 카테고리 데이터 생성\n",
    "np.random.seed(0)\n",
    "datas_1 = np.random.randint(0, 10, size=(20, 2)) # 0 ~ 19까지 랜덤한 수를 생성\n",
    "datas_2 = np.random.randint(10, 20, size=(20, 2)) # 0 ~ 19까지 랜덤한 수를 생성\n",
    "\n",
    "# ndarray를 dataframe으로 변경\n",
    "df_1 = pd.DataFrame(datas_1, columns=[\"x\", \"y\"])\n",
    "df_2 = pd.DataFrame(datas_2, columns=[\"x\", \"y\"])\n",
    "\n",
    "# 데이터의 클러스터 분리\n",
    "df_1[\"cluster\"], df_2[\"cluster\"] = 1, 2\n",
    "\n",
    "# 모든 데이터\n",
    "df_datas = pd.concat([df_1, df_2]).reset_index(drop=True)\n",
    "\n",
    "df_datas.tail(2)"
   ]
  },
  {
   "cell_type": "code",
   "execution_count": null,
   "metadata": {
    "id": "RO9ibTzQ5LCu"
   },
   "outputs": [],
   "source": [
    "%config InlineBackend.figure_formats = {'png', 'retina'}\n",
    "\n",
    "import matplotlib as mpl\n",
    "import matplotlib.pyplot as plt"
   ]
  },
  {
   "cell_type": "code",
   "execution_count": null,
   "metadata": {
    "id": "8uTuOyK05LCu",
    "outputId": "9af05f03-d444-41e8-8b13-5ce1d9ec317d"
   },
   "outputs": [],
   "source": [
    "# 2. 샘플 데이터 산점도\n",
    "\n",
    "# 그래프 크기 설정\n",
    "plt.figure(figsize=(5, 5))\n",
    "\n",
    "# 클러스터 1 데이터\n",
    "plt.scatter(df_1[\"x\"], df_1[\"y\"], label=\"cluster_1\")\n",
    "\n",
    "# 클러스터 2 데이터\n",
    "plt.scatter(df_2[\"x\"], df_2[\"y\"], label=\"cluster_2\")\n",
    "\n",
    "# x, y ticks 설정\n",
    "plt.xticks(range(0, 21, 2))\n",
    "plt.yticks(range(0, 21, 2))\n",
    "\n",
    "# 데이터 label 출력\n",
    "plt.legend()\n",
    "\n",
    "# 그래프 출력\n",
    "plt.show()"
   ]
  },
  {
   "cell_type": "code",
   "execution_count": null,
   "metadata": {
    "id": "D9DnyJPf5LCv",
    "outputId": "75ebb49d-20f4-46eb-d37b-198447e610ff"
   },
   "outputs": [],
   "source": [
    "# 3. 전체 데이터 산점도\n",
    "\n",
    "# 그래프 크기 설정\n",
    "plt.figure(figsize=(5, 5))\n",
    "\n",
    "# 모든 데이터\n",
    "plt.scatter(df_datas[\"x\"], df_datas[\"y\"])\n",
    "\n",
    "# x, y ticks 설정\n",
    "plt.xticks(range(0, 21, 2))\n",
    "plt.yticks(range(0, 21, 2))\n",
    "\n",
    "plt.show()"
   ]
  },
  {
   "cell_type": "markdown",
   "metadata": {
    "id": "6N03MoAG5LCw"
   },
   "source": [
    "#### 2. k개의 중심 좌표 생성\n",
    "- k개의 갯수만큼 랜덤한 point 생성"
   ]
  },
  {
   "cell_type": "code",
   "execution_count": null,
   "metadata": {
    "id": "-OCXXqBf5LCw",
    "outputId": "a948c817-2960-4501-fd91-ef649deaf8e3"
   },
   "outputs": [],
   "source": [
    "# 4. 랜덤한 중심 좌표 생성\n",
    "\n",
    "# 랜덤 포인트 출력해주는 함수\n",
    "def random_point(df_datas, random_state=0):\n",
    "    \n",
    "    # random seed 설정\n",
    "    np.random.seed(random_state)\n",
    "    \n",
    "    # x의 최소값과 최대값 사이에서 랜덤한 값을 선택\n",
    "    point_x = np.random.randint(df_datas[\"x\"].min(), df_datas[\"x\"].max())\n",
    "    \n",
    "    # y의 최소값과 최대값 사이에서 랜덤한 값을 선택\n",
    "    point_y = np.random.randint(df_datas[\"y\"].min(), df_datas[\"y\"].max())\n",
    "    \n",
    "    # 랜덤한 x, y 값을 ndarray로 리턴\n",
    "    return np.array([point_x, point_y])    \n",
    "\n",
    "# 2개의 랜덤한 포인트 생성\n",
    "point_1 = random_point(df_datas, 5)\n",
    "point_2 = random_point(df_datas, 7)\n",
    "\n",
    "# 랜덤한 포인트 출력\n",
    "print(point_1, point_2)"
   ]
  },
  {
   "cell_type": "code",
   "execution_count": null,
   "metadata": {
    "id": "2Kn0vqMT5LCx",
    "outputId": "fb05156a-6e77-4352-d914-de384045d822"
   },
   "outputs": [],
   "source": [
    "# 5. 중심 좌표를 추가한 산점도\n",
    "\n",
    "# 그래프 크기 설정\n",
    "plt.figure(figsize=(5, 5))\n",
    "\n",
    "# 모든 데이터 출력\n",
    "plt.scatter(df_datas[\"x\"], df_datas[\"y\"], label=\"datas\")\n",
    "\n",
    "# 랜덤 포인트 1\n",
    "plt.scatter(point_1[0], point_1[1], c=\"r\", marker=\"x\", label=\"point_1\")\n",
    "\n",
    "# 랜덤 포인트 2\n",
    "plt.scatter(point_2[0], point_2[1], c=\"g\", marker=\"x\", label=\"point_2\")\n",
    "\n",
    "# x, y ticks 설정\n",
    "plt.xticks(range(0, 21, 2))\n",
    "plt.yticks(range(0, 21, 2))\n",
    "\n",
    "# 데이터 label 출력\n",
    "plt.legend()\n",
    "\n",
    "# 그래프 출력\n",
    "plt.show()"
   ]
  },
  {
   "cell_type": "code",
   "execution_count": null,
   "metadata": {
    "id": "MaOAELeN5LCx",
    "outputId": "6e964cbd-6eff-40ae-c501-8eca4df4d39d"
   },
   "outputs": [],
   "source": [
    "# 6. 두개의 점에서 가까운 중심 좌표로 클러스터링\n",
    "\n",
    "# 거리를 구해주는 모듈 호출\n",
    "from scipy.spatial import distance\n",
    "\n",
    "# 데이터 프레임 만들기\n",
    "df = pd.DataFrame(columns=[\"x\", \"y\", \"dist_1\", \"dist_2\", \"cluster\"])\n",
    "\n",
    "# 모든 데이터에 대해 클러스터를 결정하기 위한 반복문\n",
    "for idx, data in df_datas.iterrows():\n",
    "    \n",
    "    # 거리 구하기\n",
    "    dist_1 = np.round(distance.euclidean(point_1, [data.x, data.y]), 1)\n",
    "    dist_2 = np.round(distance.euclidean(point_2, [data.x, data.y]), 1)\n",
    "    \n",
    "    # 클러스터 결정 : dist_1에 가까우면 1, dist_2에 가까운면 2 로 클러스터 결정\n",
    "    cluster = 1 if dist_1 <= dist_2 else 2\n",
    "    \n",
    "    # 결과를 데이터 프레임으로 만들기\n",
    "    df.loc[idx] = {\"x\": data.x, \"y\": data.y, \"dist_1\": dist_1, \"dist_2\": dist_2, \"cluster\": cluster}\n",
    "    \n",
    "df.tail(2)"
   ]
  },
  {
   "cell_type": "code",
   "execution_count": null,
   "metadata": {
    "id": "eLdKN1BE5LCy",
    "outputId": "e1cda2ce-2339-4336-fd99-567a631c7908"
   },
   "outputs": [],
   "source": [
    "# 7. 1회 클러스터링한 산점도\n",
    "\n",
    "# 데이터에 대한 클러스터 분리\n",
    "df_c_1 = df[df[\"cluster\"] == 1]\n",
    "df_c_2 = df[df[\"cluster\"] == 2]\n",
    "\n",
    "# 그래프 크기 설정\n",
    "plt.figure(figsize=(5, 5))\n",
    "\n",
    "# 클러스터 1 데이터 산점도 그리기\n",
    "plt.scatter(df_c_1[\"x\"], df_c_1[\"y\"], label=\"cluster_1\")\n",
    "\n",
    "# 클러스터 2 데이터 산점도 그리기\n",
    "plt.scatter(df_c_2[\"x\"], df_c_2[\"y\"], label=\"cluster_2\")\n",
    "\n",
    "# 랜덤 포인트 1 산점도 그리기\n",
    "plt.scatter(point_1[0], point_1[1], c=\"r\", marker=\"x\", label=\"point_1\")\n",
    "\n",
    "# 랜덤 포인트 2 산점도 그리기\n",
    "plt.scatter(point_2[0], point_2[1], c=\"g\", marker=\"x\", label=\"point_2\")\n",
    "\n",
    "# x, y ticks 설정\n",
    "plt.xticks(range(0, 21, 2))\n",
    "plt.yticks(range(0, 21, 2))\n",
    "\n",
    "# 데이터 label 출력\n",
    "plt.legend()\n",
    "\n",
    "plt.show()"
   ]
  },
  {
   "cell_type": "code",
   "execution_count": null,
   "metadata": {
    "id": "mb20iOPw5LCy",
    "outputId": "dff70479-4bf4-476b-aa04-dc86841b8097"
   },
   "outputs": [],
   "source": [
    "# 8. 클러스터링한 데이터의 중심점으로 중심 좌표 수정\n",
    "\n",
    "# 이전 포인트 데이터 복사\n",
    "pre_point_1 = point_1.copy()\n",
    "pre_point_2 = point_2.copy()\n",
    "\n",
    "# 데이터에 대한 클러스터 분리\n",
    "df_c_1 = df[df[\"cluster\"] == 1]\n",
    "df_c_2 = df[df[\"cluster\"] == 2]\n",
    "\n",
    "# 클러스터 1 데이터의 평균값으로 포인트 설정\n",
    "point_1 = df_c_1[[\"x\", \"y\"]].mean().round(1).values \n",
    "\n",
    "# 클러스터 2 데이터의 평균값으로 포인트 설정\n",
    "point_2 = df_c_2[[\"x\", \"y\"]].mean().round(1).values\n",
    "\n",
    "# 포인트 데이터 출력\n",
    "print(\"이전 랜덤 포인트 :\", pre_point_1, pre_point_2)\n",
    "print(\"새로운 랜덤 포인트 :\", point_1, point_2)\n",
    "\n",
    "# 이전 랜덤 포인트 1 산점도 그리기\n",
    "plt.scatter(pre_point_1[0], pre_point_1[1], c=\"r\", marker=\"x\", label=\"pre_point_1\")\n",
    "\n",
    "# 이전 랜덤 포인트 2 산점도 그리기\n",
    "plt.scatter(pre_point_2[0], pre_point_2[1], c=\"g\", marker=\"x\", label=\"pre_point_2\")\n",
    "\n",
    "# 새로운 랜덤 포인트 1 산점도 그리기\n",
    "plt.scatter(point_1[0], point_1[1], c=\"b\", marker=\"x\", label=\"new_point_1\")\n",
    "\n",
    "# 새로운 랜덤 포인트 2 산점도 그리기\n",
    "plt.scatter(point_2[0], point_2[1], c=\"black\", marker=\"x\", label=\"new_point_2\")\n",
    "\n",
    "# x, y ticks 설정\n",
    "plt.xticks(range(0, 21, 2))\n",
    "plt.yticks(range(0, 21, 2))\n",
    "\n",
    "# 라벨 출력\n",
    "plt.legend()\n",
    "\n",
    "plt.show()"
   ]
  },
  {
   "cell_type": "code",
   "execution_count": null,
   "metadata": {
    "id": "KLIp3tLv5LCz",
    "outputId": "25cb9093-2a09-458c-ba91-56149981bf14"
   },
   "outputs": [],
   "source": [
    "# 9. 새로운 포인트에 대한 산점도\n",
    "\n",
    "# 데이터에 대한 클러스터 분리\n",
    "df_c_1 = df[df[\"cluster\"] == 1]\n",
    "df_c_2 = df[df[\"cluster\"] == 2]\n",
    "\n",
    "# 그래프 크기 설정\n",
    "plt.figure(figsize=(5, 5))\n",
    "\n",
    "# 클러스터 1 데이터 산점도 그리기\n",
    "plt.scatter(df_c_1[\"x\"], df_c_1[\"y\"], label=\"cluster_1\")\n",
    "\n",
    "# 클러스터 2 데이터 산점도 그리기\n",
    "plt.scatter(df_c_2[\"x\"], df_c_2[\"y\"], label=\"cluster_2\")\n",
    "\n",
    "# 랜덤 포인트 1 산점도 그리기\n",
    "plt.scatter(point_1[0], point_1[1], c=\"r\", marker=\"x\", label=\"point_1\")\n",
    "\n",
    "# 랜덤 포인트 2 산점도 그리기\n",
    "plt.scatter(point_2[0], point_2[1], c=\"g\", marker=\"x\", label=\"point_2\")\n",
    "\n",
    "# x, y ticks 설정\n",
    "plt.xticks(range(0, 21, 2))\n",
    "plt.yticks(range(0, 21, 2))\n",
    "\n",
    "# 라벨 출력\n",
    "plt.legend()\n",
    "\n",
    "plt.show()"
   ]
  },
  {
   "cell_type": "code",
   "execution_count": null,
   "metadata": {
    "id": "adYjVW7J5LCz",
    "outputId": "e380c730-6994-4b03-f7ce-67ea20164d59"
   },
   "outputs": [],
   "source": [
    "# 10. 새로운 포인트로 클러스터링 : 데이터의 클러스터 변경이 없을때까지 아래 코드 반복 : 2번 실행\n",
    "df_datas = df.copy()\n",
    "\n",
    "df = pd.DataFrame(columns=[\"x\", \"y\", \"dist_1\", \"dist_2\", \"cluster\"])\n",
    "\n",
    "cluster_change_count = 0\n",
    "\n",
    "for idx, data in df_datas.iterrows():\n",
    "    \n",
    "    # 이전 클러스터\n",
    "    pre_cluster = data.cluster\n",
    "    \n",
    "    # 클러스터 결정 : dist_1에 가까우면 1, dist_2에 가까운면 2 로 클러스터 결정\n",
    "    dist_1 = np.round(distance.euclidean(point_1, [data.x, data.y]), 1)\n",
    "    dist_2 = np.round(distance.euclidean(point_2, [data.x, data.y]), 1)\n",
    "    \n",
    "    # 클러스터 결정\n",
    "    new_cluster = 1 if dist_1 <= dist_2 else 2\n",
    "    \n",
    "    # 클러스터 변경 카운트\n",
    "    cluster_change_count += 1 if pre_cluster != new_cluster else 0\n",
    "    \n",
    "    # 데이터 프레임으로 만들기\n",
    "    df.loc[idx] = {\"x\": data.x, \"y\": data.y, \"dist_1\": dist_1, \"dist_2\": dist_2, \"cluster\": new_cluster}\n",
    "\n",
    "# 클러스터가 변경된 횟수 출력\n",
    "print(point_1, point_2)\n",
    "print(\"cluster_change_count :\", cluster_change_count)\n",
    "    \n",
    "df.head(10)"
   ]
  },
  {
   "cell_type": "code",
   "execution_count": null,
   "metadata": {
    "id": "RMdy0dA-5LC0",
    "outputId": "13500ff1-f9c4-488b-bc9d-49ebd869ee4d"
   },
   "outputs": [],
   "source": [
    "# 11. 변경된 산점도 확인 \n",
    "# 7. 산점도와 비교\n",
    "# cluster_change_count 가 0 보다 크면 -> 8. 클러스터링한 데이터의 중심점으로 포인트 수정\n",
    "# cluster_change_count 가 0 이면 클로스터링 종료\n",
    "\n",
    "# 클러스터 1과 클러스터 2 데이터 분리\n",
    "df_c_1 = df[df[\"cluster\"] == 1]\n",
    "df_c_2 = df[df[\"cluster\"] == 2]\n",
    "\n",
    "plt.figure(figsize=(5, 5))\n",
    "\n",
    "# 클러스터 1 데이터 \n",
    "plt.scatter(df_c_1[\"x\"], df_c_1[\"y\"], label=\"cluster_1\")\n",
    "\n",
    "# 클러스터 2 데이터 \n",
    "plt.scatter(df_c_2[\"x\"], df_c_2[\"y\"], label=\"cluster_2\")\n",
    "\n",
    "# 랜덤 포인트 1\n",
    "plt.scatter(point_1[0], point_1[1], c=\"r\", marker=\"x\", label=\"point_1\")\n",
    "\n",
    "# 랜덤 포인트 2\n",
    "plt.scatter(point_2[0], point_2[1], c=\"g\", marker=\"x\", label=\"point_2\")\n",
    "\n",
    "# \n",
    "plt.xticks(range(0, 21, 2))\n",
    "plt.yticks(range(0, 21, 2))\n",
    "\n",
    "plt.legend()\n",
    "\n",
    "plt.show()"
   ]
  },
  {
   "cell_type": "markdown",
   "metadata": {
    "id": "VjMsC6w05LC0"
   },
   "source": [
    "#### sklearn 사용\n",
    "- n_clusters: 군집의 갯수\n",
    "- init: 초기화 방법. \"random\"이면 무작위, \"k-means++\"이면 K-평균++ 방법\n",
    "- n_init: 초기 중심위치 시도 횟수. 디폴트는 10이고 10개의 무작위 중심위치 목록 중 가장 좋은 값을 선택\n",
    "- max_iter: 최대 반복 횟수\n",
    "- random_state: 시드값"
   ]
  },
  {
   "cell_type": "markdown",
   "metadata": {
    "id": "N53qhlAG5LC0"
   },
   "source": [
    "#### k-means++\n",
    "- 최초 랜덤 포인트를 효율적으로 뽑는 방법\n",
    "- K-평균++ 방법 : 처음 랜덤으로 뽑힌 포인트에서 가장 먼 지점에 두번째 랜덤 포인트를 설정"
   ]
  },
  {
   "cell_type": "code",
   "execution_count": null,
   "metadata": {
    "id": "i37qpktt5LC1"
   },
   "outputs": [],
   "source": [
    "from sklearn.cluster import KMeans"
   ]
  },
  {
   "cell_type": "code",
   "execution_count": null,
   "metadata": {
    "id": "ldBtgRyk5LC1"
   },
   "outputs": [],
   "source": [
    "# df_1(클러스터 1 데이터), df_2(클러스터 2 데이터) 데이터 결합\n",
    "df_datas = pd.concat([df_1, df_2]).reset_index(drop=True)\n",
    "\n",
    "# KMeans 모델 객체 생성 및 학습\n",
    "model = KMeans(n_clusters=2, init=\"random\", n_init=1, max_iter=1).fit(df_datas[[\"x\", \"y\"]])"
   ]
  },
  {
   "cell_type": "code",
   "execution_count": null,
   "metadata": {
    "id": "i9FqbRve5LC1",
    "outputId": "c0e4087c-6398-4564-823f-c88e2faa9693"
   },
   "outputs": [],
   "source": [
    "# 모델을 사용한 결과 예측\n",
    "pred = model.predict(df_datas[[\"x\", \"y\"]])\n",
    "pred"
   ]
  },
  {
   "cell_type": "code",
   "execution_count": null,
   "metadata": {
    "id": "TruUE1fz5LC1",
    "outputId": "77cd19fa-509d-49f6-e20f-91554b481ad6"
   },
   "outputs": [],
   "source": [
    "# 최종 클러스터 중심 좌표 출력\n",
    "model.cluster_centers_"
   ]
  },
  {
   "cell_type": "code",
   "execution_count": null,
   "metadata": {
    "id": "-pTa0kse5LC2",
    "outputId": "6f735903-1625-4dce-8930-08b758e8ad36"
   },
   "outputs": [],
   "source": [
    "# 클러스터별 데이터 분리\n",
    "pred_cluster_1 = df_datas[model.labels_ == 0] \n",
    "pred_cluster_2 = df_datas[model.labels_ == 1]\n",
    "\n",
    "plt.figure(figsize=(5, 5))\n",
    "\n",
    "# 클러스터 1 데이터 그리기\n",
    "plt.scatter(pred_cluster_1[\"x\"], pred_cluster_1[\"y\"], label=\"cluster_1\")\n",
    "\n",
    "# 클러스터 2 데이터 그리기\n",
    "plt.scatter(pred_cluster_2[\"x\"], pred_cluster_2[\"y\"], label=\"cluster_2\")\n",
    "\n",
    "# 클러스터 중심좌표 그리기\n",
    "plt.scatter(model.cluster_centers_[:,0], model.cluster_centers_[:,1], c=\"black\", marker=\"x\")\n",
    "\n",
    "# x, y ticks 설정\n",
    "plt.xticks(range(0, 21, 2))\n",
    "plt.yticks(range(0, 21, 2))\n",
    "\n",
    "# 라벨 출력\n",
    "plt.legend()\n",
    "\n",
    "plt.show()"
   ]
  },
  {
   "cell_type": "code",
   "execution_count": null,
   "metadata": {},
   "outputs": [],
   "source": []
  }
 ],
 "metadata": {
  "colab": {
   "collapsed_sections": [],
   "name": "01_k_means_1.ipynb",
   "provenance": []
  },
  "kernelspec": {
   "display_name": "Python 3 (ipykernel)",
   "language": "python",
   "name": "python3"
  },
  "language_info": {
   "codemirror_mode": {
    "name": "ipython",
    "version": 3
   },
   "file_extension": ".py",
   "mimetype": "text/x-python",
   "name": "python",
   "nbconvert_exporter": "python",
   "pygments_lexer": "ipython3",
   "version": "3.7.12"
  },
  "toc": {
   "base_numbering": 1,
   "nav_menu": {},
   "number_sections": false,
   "sideBar": true,
   "skip_h1_title": false,
   "title_cell": "Table of Contents",
   "title_sidebar": "Contents",
   "toc_cell": false,
   "toc_position": {},
   "toc_section_display": true,
   "toc_window_display": false
  },
  "varInspector": {
   "cols": {
    "lenName": 16,
    "lenType": 16,
    "lenVar": 40
   },
   "kernels_config": {
    "python": {
     "delete_cmd_postfix": "",
     "delete_cmd_prefix": "del ",
     "library": "var_list.py",
     "varRefreshCmd": "print(var_dic_list())"
    },
    "r": {
     "delete_cmd_postfix": ") ",
     "delete_cmd_prefix": "rm(",
     "library": "var_list.r",
     "varRefreshCmd": "cat(var_dic_list()) "
    }
   },
   "types_to_exclude": [
    "module",
    "function",
    "builtin_function_or_method",
    "instance",
    "_Feature"
   ],
   "window_display": false
  }
 },
 "nbformat": 4,
 "nbformat_minor": 1
}
