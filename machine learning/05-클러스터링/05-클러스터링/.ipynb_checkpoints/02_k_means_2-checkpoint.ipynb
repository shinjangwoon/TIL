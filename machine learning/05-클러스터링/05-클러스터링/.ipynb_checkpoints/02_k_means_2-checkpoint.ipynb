{
 "cells": [
  {
   "cell_type": "markdown",
   "metadata": {
    "id": "ZLgVMPHr52Sn"
   },
   "source": [
    "### K-means Clustering 예제\n",
    "1. 붓꽃 데이터 분류\n",
    "2. 손글씨 이미지 분류"
   ]
  },
  {
   "cell_type": "markdown",
   "metadata": {
    "id": "ljoFQLLI52Ss"
   },
   "source": [
    "#### 1. 붓꽃 데이터 분류\n",
    "\n",
    "- 독립변수 : feature\n",
    "    - sepal_length : 꽃받침 길이\n",
    "    - sepal_width : 꽃받침 넓이\n",
    "    - petal_length : 꽃잎 길이\n",
    "    - petal_width : 꽃잎 넓이\n",
    "- 종속변수 : target\n",
    "    - species : 품종\n",
    "        - setosa\n",
    "        - versicolor\n",
    "        - virginica"
   ]
  },
  {
   "cell_type": "code",
   "execution_count": null,
   "metadata": {
    "id": "cQAE20Fh52St"
   },
   "outputs": [],
   "source": [
    "%config InlineBackend.figure_formats = {'png', 'retina'}\n",
    "\n",
    "import warnings\n",
    "warnings.filterwarnings('ignore')\n",
    "\n",
    "import pandas as pd\n",
    "import matplotlib as mpl\n",
    "import matplotlib.pyplot as plt\n",
    "import seaborn as sns\n",
    "\n",
    "from sklearn.datasets import load_iris\n",
    "from sklearn.cluster import KMeans"
   ]
  },
  {
   "cell_type": "code",
   "execution_count": null,
   "metadata": {
    "id": "cIH5L24Q52Su"
   },
   "outputs": [],
   "source": [
    "iris = load_iris()"
   ]
  },
  {
   "cell_type": "code",
   "execution_count": null,
   "metadata": {
    "id": "YUo728UF52Sv",
    "outputId": "e36dbd47-2aab-43de-bb40-b045e0e2bd11"
   },
   "outputs": [],
   "source": [
    "iris.keys()"
   ]
  },
  {
   "cell_type": "code",
   "execution_count": null,
   "metadata": {
    "id": "vpSM-WAj52Sw",
    "outputId": "ce39598d-5945-4e15-ac17-8802940d4597"
   },
   "outputs": [],
   "source": [
    "print(iris.feature_names)\n",
    "columns = [\"_\".join(column.split(\" \")[:2]) for column in iris.feature_names]\n",
    "print(columns)"
   ]
  },
  {
   "cell_type": "code",
   "execution_count": null,
   "metadata": {
    "id": "jD3MH6pO52Sw",
    "outputId": "0281f3b9-45a4-4860-be80-f05f95de7922"
   },
   "outputs": [],
   "source": [
    "iris_df = pd.DataFrame(iris.data, columns=columns)\n",
    "iris_df[\"species\"] = iris.target\n",
    "iris_df.tail(2)"
   ]
  },
  {
   "cell_type": "code",
   "execution_count": null,
   "metadata": {
    "id": "8bX8RO6A52Sx",
    "outputId": "05a4ae85-9aa2-47fe-dce1-1767ee127da6"
   },
   "outputs": [],
   "source": [
    "iris_df.species.unique()"
   ]
  },
  {
   "cell_type": "markdown",
   "metadata": {
    "id": "hCCfrW9P52Sy"
   },
   "source": [
    "- color map : `https://matplotlib.org/tutorials/colors/colormaps.html`"
   ]
  },
  {
   "cell_type": "code",
   "execution_count": null,
   "metadata": {
    "id": "O5H51Hz252Sy",
    "outputId": "90459fa0-f2e0-4be3-ae36-9f669abaa211"
   },
   "outputs": [],
   "source": [
    "plt.scatter(iris_df[\"sepal_length\"], iris_df[\"sepal_width\"], c=iris_df[\"species\"], cmap=\"rainbow\")\n",
    "plt.xlabel(\"sepal_length\")\n",
    "plt.ylabel(\"sepal_width\")\n",
    "plt.show()"
   ]
  },
  {
   "cell_type": "code",
   "execution_count": null,
   "metadata": {
    "id": "xlxZ69NB52Sz",
    "outputId": "2c3c2feb-d8da-4af4-b4b3-5723542dd46d"
   },
   "outputs": [],
   "source": [
    "columns"
   ]
  },
  {
   "cell_type": "code",
   "execution_count": null,
   "metadata": {
    "id": "Qt8is-Tt52Sz"
   },
   "outputs": [],
   "source": [
    "model = KMeans(n_clusters=3, random_state=0).fit(iris_df[columns[:2]])"
   ]
  },
  {
   "cell_type": "code",
   "execution_count": null,
   "metadata": {
    "id": "iHxnG4EK52Sz",
    "outputId": "599c2716-fada-48c5-b6ab-705f7bcc0aaa"
   },
   "outputs": [],
   "source": [
    "# 중앙값\n",
    "model.cluster_centers_"
   ]
  },
  {
   "cell_type": "code",
   "execution_count": null,
   "metadata": {
    "id": "5WZY9gjz52S0",
    "outputId": "e41e05d6-4bd2-41f6-b9b8-a4a052b70ac9"
   },
   "outputs": [],
   "source": [
    "model.cluster_centers_[:,0], model.cluster_centers_[:,1]"
   ]
  },
  {
   "cell_type": "code",
   "execution_count": null,
   "metadata": {
    "id": "fsiKnylN52S0",
    "outputId": "afb5b920-c69f-4434-c562-4cda2cbb206c"
   },
   "outputs": [],
   "source": [
    "plt.figure(figsize=(20, 5))\n",
    "\n",
    "# 실제 데이터 그래프\n",
    "plt.subplot(121)\n",
    "plt.scatter(iris_df[\"sepal_length\"], iris_df[\"sepal_width\"], c=iris_df[\"species\"], cmap=\"rainbow\")\n",
    "plt.scatter(model.cluster_centers_[:,0], model.cluster_centers_[:,1], c=\"black\", marker=\"x\")\n",
    "plt.title(\"Actual\")\n",
    "plt.xlabel(\"sepal_length\")\n",
    "plt.ylabel(\"sepal_width\")\n",
    "\n",
    "# 예측 데이터 그래프\n",
    "plt.subplot(122)\n",
    "plt.scatter(iris_df[\"sepal_length\"], iris_df[\"sepal_width\"], c=model.labels_, cmap=\"rainbow\")\n",
    "plt.scatter(model.cluster_centers_[:,0], model.cluster_centers_[:,1], c=\"black\", marker=\"x\")\n",
    "plt.title(\"Predicted\")\n",
    "plt.xlabel(\"sepal_length\")\n",
    "plt.ylabel(\"sepal_width\")\n",
    "plt.show()"
   ]
  },
  {
   "cell_type": "markdown",
   "metadata": {
    "id": "jxJAlCXg52S0"
   },
   "source": [
    "#### 2. 손글씨 이미지 분류"
   ]
  },
  {
   "cell_type": "code",
   "execution_count": null,
   "metadata": {
    "id": "SCSNfTlT52S1"
   },
   "outputs": [],
   "source": [
    "from sklearn.datasets import load_digits\n",
    "\n",
    "digits = load_digits()"
   ]
  },
  {
   "cell_type": "code",
   "execution_count": null,
   "metadata": {
    "id": "UNM1tCft52S1",
    "outputId": "d6f73602-57b0-41ea-8c2f-b28c6373cb43"
   },
   "outputs": [],
   "source": [
    "digits.keys()"
   ]
  },
  {
   "cell_type": "code",
   "execution_count": null,
   "metadata": {
    "id": "S8F2DtWC52S1",
    "outputId": "0f9f4521-5fdf-44d8-ed55-65eb06fe4de2"
   },
   "outputs": [],
   "source": [
    "digits.images[0]"
   ]
  },
  {
   "cell_type": "code",
   "execution_count": null,
   "metadata": {
    "id": "C0t1eVBW52S1",
    "outputId": "83cfd188-569a-4788-a37c-3f43e882b494"
   },
   "outputs": [],
   "source": [
    "# 숫자 이미지 출력\n",
    "plt.figure(figsize=(2, 2))\n",
    "\n",
    "# 첫번째 이미지 출력\n",
    "plt.subplot(1, 2, 1)\n",
    "plt.imshow(digits.images[0])\n",
    "plt.grid(False)\n",
    "plt.xticks([])\n",
    "plt.yticks([])\n",
    "plt.title(0)\n",
    "\n",
    "# 두번째 이미지 출력\n",
    "plt.subplot(1, 2, 2)\n",
    "plt.imshow(digits.images[1])\n",
    "plt.grid(False)\n",
    "plt.xticks([])\n",
    "plt.yticks([])\n",
    "plt.title(1)\n",
    "\n",
    "plt.show()"
   ]
  },
  {
   "cell_type": "code",
   "execution_count": null,
   "metadata": {
    "id": "TsrzdZ2z52S2",
    "outputId": "e9f8886a-87b3-4bc7-9455-9116bb45dd89"
   },
   "outputs": [],
   "source": [
    "# 모델 학습\n",
    "model = KMeans(init=\"random\", n_clusters=10, random_state=0)\n",
    "model.fit(digits.data)"
   ]
  },
  {
   "cell_type": "code",
   "execution_count": null,
   "metadata": {
    "id": "lxJVv2z052S2",
    "outputId": "79eb3b72-b6e7-47b4-8ad9-afd9fc92f8e1"
   },
   "outputs": [],
   "source": [
    "# 모델로 실제 데이터 예측\n",
    "pred = model.predict(digits.data)\n",
    "pred"
   ]
  },
  {
   "cell_type": "code",
   "execution_count": null,
   "metadata": {
    "id": "cW5cJ1B752S2",
    "outputId": "30233b7f-f931-4f7e-bfbc-cc4860d183a0"
   },
   "outputs": [],
   "source": [
    "len(digits.images), len(pred)"
   ]
  },
  {
   "cell_type": "code",
   "execution_count": null,
   "metadata": {
    "id": "4LxqeUky52S3",
    "outputId": "c2f8f000-c6b8-47e5-b64f-ee42ea5aa713",
    "scrolled": true
   },
   "outputs": [],
   "source": [
    "f = plt.figure(figsize=(10, 6))\n",
    "\n",
    "for idx in range(0, 50):\n",
    "    plt.subplot(5, 10, idx + 1)\n",
    "    plt.imshow(digits.images[idx])\n",
    "    plt.title(pred[idx])\n",
    "    plt.grid(False)\n",
    "    plt.axis(\"off\")\n",
    "\n",
    "plt.show()"
   ]
  },
  {
   "cell_type": "markdown",
   "metadata": {
    "id": "xLqO0yf752S3"
   },
   "source": [
    "최적의 k 값 찾기\n",
    "- `https://scikit-learn.org/stable/modules/generated/sklearn.cluster.KMeans.html`\n",
    "- WSS : inertia_\n",
    "    - 가장 가까운 군집 중심까지의 표본의 제곱 거리의 합."
   ]
  },
  {
   "cell_type": "code",
   "execution_count": null,
   "metadata": {
    "id": "6PanF4ph52S3"
   },
   "outputs": [],
   "source": [
    "distortions = []\n",
    "k = range(5, 15)\n",
    "\n",
    "for n in k:\n",
    "    model = KMeans(init=\"k-means++\", n_clusters=n, random_state=0)\n",
    "    model.fit(digits.data)\n",
    "    distortions.append(model.inertia_)"
   ]
  },
  {
   "cell_type": "code",
   "execution_count": null,
   "metadata": {
    "id": "a0BpCfco52S4",
    "outputId": "f851d721-3f82-41fa-9763-0da3191e05d9"
   },
   "outputs": [],
   "source": [
    "# 실제로는 10이 맞지만 wss 값으로는 9가 가장 좋은것으로 나옴\n",
    "# 이미지 데이터의 경우에는 데이터의 차원이 높아서 정확도가 떨어짐\n",
    "plt.plot(k, distortions, \"bs-\") \n",
    "plt.show()"
   ]
  },
  {
   "cell_type": "code",
   "execution_count": null,
   "metadata": {
    "id": "sk6RyJDP52S4"
   },
   "outputs": [],
   "source": [
    "!pip install yellowbrick"
   ]
  },
  {
   "cell_type": "code",
   "execution_count": null,
   "metadata": {
    "id": "X1K97QAa52S4",
    "outputId": "1d4754d7-f833-4bac-c1b2-9f50851577e4"
   },
   "outputs": [],
   "source": [
    "# yellowbrick 패키지 사용 -> feature의 수가 많아질수록 k 값을 찾는것이 정확하지 않습니다.\n",
    "from yellowbrick.cluster import KElbowVisualizer\n",
    "\n",
    "visualizer = KElbowVisualizer(model, k=(1, 20))\n",
    "\n",
    "visualizer.fit(digits.data)\n",
    "visualizer.show()\n",
    "plt.show()"
   ]
  },
  {
   "cell_type": "markdown",
   "metadata": {
    "id": "461v839i52S4"
   },
   "source": [
    "- ARI\n",
    "    - Adjusted Rand Index\n",
    "    - 0 ~ 1사이의 값을 갖고 1이 가장 좋은 성능을 의미\n",
    "- AMI\n",
    "    - Adjusted Mutual Information : Adjusted Mutual Information between two clusterings\n",
    "    - 확률변수간 상호의존성을 측정한 값\n",
    "- ARI와 AMI는 종속변수가 있어야 구할수 있음"
   ]
  },
  {
   "cell_type": "code",
   "execution_count": null,
   "metadata": {
    "id": "gH3tZnmF52S5",
    "outputId": "f8366f8e-d7e3-4870-f72a-93c3004d36ef"
   },
   "outputs": [],
   "source": [
    "# ARI, AMI값은 라벨 데이터가 있기때문에 확인이 가능 \n",
    "# -> 높은 값을 선택하면 좋은 K값을 선택할수 있음\n",
    "from sklearn.metrics.cluster import adjusted_mutual_info_score\n",
    "from sklearn.metrics.cluster import adjusted_rand_score\n",
    "from sklearn.metrics.cluster import silhouette_score\n",
    "\n",
    "ari_datas, ami_datas, silhouette_datas = [], [], []\n",
    "\n",
    "n_datas = range(5, 15) \n",
    "\n",
    "for n in n_datas:\n",
    "\n",
    "    model = KMeans(n_clusters=n, random_state=0)\n",
    "    model.fit(digits.data)\n",
    "    \n",
    "    # 예측 데이터\n",
    "    pred = model.predict(digits.data)\n",
    "    \n",
    "    # 평가 지표 데이터 저장\n",
    "    # ari_data = adjusted_rand_score(digits.target, pred) # 실제 데이터가 있어야 평가지표 구할수 있음\n",
    "    # ami_data = adjusted_mutual_info_score(digits.target, pred) # 실제 데이터가 있어야 평가지표 구할수 있음\n",
    "    silhouette_data = silhouette_score(digits.data, pred) # 실제 데이터가 없어도 평가지표 구할수 있음\n",
    "\n",
    "    # 데이터 저장\n",
    "    # ari_datas.append(ari_data)    \n",
    "    # ami_datas.append(ami_data)\n",
    "    silhouette_datas.append(silhouette_data)\n",
    "    \n",
    "    # 데이터 출력\n",
    "    # print(\"n : {},\\t ARI: {},\\tAMI : {},\\tSilhouette Score: {}\".format(n, ari_data, ami_data, silhouette_data))\n",
    "    print(\"n : {},\\t Silhouette Score: {}\".format(n, silhouette_data))\n",
    "    \n",
    "# 그래프 출력\n",
    "\n",
    "# plt.plot(n_datas, ari_datas, label=\"ARI\")\n",
    "# plt.plot(n_datas, ami_datas, label=\"AMI\")\n",
    "plt.plot(n_datas, silhouette_datas, label=\"Silhouette\")\n",
    "\n",
    "plt.xticks(n_datas)\n",
    "plt.legend()\n",
    "\n",
    "plt.show()"
   ]
  },
  {
   "cell_type": "code",
   "execution_count": null,
   "metadata": {},
   "outputs": [],
   "source": []
  }
 ],
 "metadata": {
  "colab": {
   "name": "02_k_means_2.ipynb",
   "provenance": []
  },
  "kernelspec": {
   "display_name": "Python 3 (ipykernel)",
   "language": "python",
   "name": "python3"
  },
  "language_info": {
   "codemirror_mode": {
    "name": "ipython",
    "version": 3
   },
   "file_extension": ".py",
   "mimetype": "text/x-python",
   "name": "python",
   "nbconvert_exporter": "python",
   "pygments_lexer": "ipython3",
   "version": "3.7.12"
  },
  "varInspector": {
   "cols": {
    "lenName": 16,
    "lenType": 16,
    "lenVar": 40
   },
   "kernels_config": {
    "python": {
     "delete_cmd_postfix": "",
     "delete_cmd_prefix": "del ",
     "library": "var_list.py",
     "varRefreshCmd": "print(var_dic_list())"
    },
    "r": {
     "delete_cmd_postfix": ") ",
     "delete_cmd_prefix": "rm(",
     "library": "var_list.r",
     "varRefreshCmd": "cat(var_dic_list()) "
    }
   },
   "types_to_exclude": [
    "module",
    "function",
    "builtin_function_or_method",
    "instance",
    "_Feature"
   ],
   "window_display": false
  }
 },
 "nbformat": 4,
 "nbformat_minor": 1
}
