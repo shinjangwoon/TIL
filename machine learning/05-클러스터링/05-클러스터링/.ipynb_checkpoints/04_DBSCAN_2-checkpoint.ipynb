{
 "cells": [
  {
   "cell_type": "markdown",
   "metadata": {},
   "source": [
    "### 1. iris 예제"
   ]
  },
  {
   "cell_type": "code",
   "execution_count": null,
   "metadata": {},
   "outputs": [],
   "source": [
    "%config InlineBackend.figure_formats = {'png', 'retina'}\n",
    "\n",
    "import pandas as pd\n",
    "import numpy as np\n",
    "import matplotlib as mpl\n",
    "import matplotlib.pyplot as plt\n",
    "import seaborn as sns"
   ]
  },
  {
   "cell_type": "markdown",
   "metadata": {},
   "source": [
    "#### 1.1 샘플 데이터"
   ]
  },
  {
   "cell_type": "code",
   "execution_count": null,
   "metadata": {},
   "outputs": [],
   "source": [
    "from sklearn import datasets"
   ]
  },
  {
   "cell_type": "code",
   "execution_count": null,
   "metadata": {},
   "outputs": [],
   "source": [
    "iris = datasets.load_iris()\n",
    "\n",
    "labels = pd.DataFrame(iris.target, columns=[\"label\"])\n",
    "\n",
    "# 4차원\n",
    "features = pd.DataFrame(iris.data, columns=['sl', 'sw', 'pl', 'pw'])\n",
    "\n",
    "# 2차원\n",
    "features = features[['sl', 'sw']]\n",
    "\n",
    "datas = pd.concat([features, labels], axis=1)\n",
    "\n",
    "datas.tail(2)"
   ]
  },
  {
   "cell_type": "markdown",
   "metadata": {},
   "source": [
    "#### 1.2 모델 학습\n",
    "- kmeans\n",
    "- dbscan"
   ]
  },
  {
   "cell_type": "markdown",
   "metadata": {},
   "source": [
    "#### K-means"
   ]
  },
  {
   "cell_type": "code",
   "execution_count": null,
   "metadata": {},
   "outputs": [],
   "source": [
    "from sklearn.cluster import KMeans\n",
    "\n",
    "# kmeans : 모델 객체 생성\n",
    "model_km = KMeans(n_clusters = 3, random_state=0).fit(features)\n",
    "\n",
    "# 예측 데이터 생성\n",
    "pred_datas_km = model_km.fit_predict(features)\n",
    "\n",
    "# features와 예측 데이터를 데이터 프레임으로 생성\n",
    "pred_df_km = pd.DataFrame(pred_datas_km, columns=['predict'])\n",
    "\n",
    "# feature 데이터와 predict 데이터와 결합\n",
    "pred_df_km = pd.concat([features, pred_df_km], axis=1)\n",
    "\n",
    "pred_df_km.tail(2)"
   ]
  },
  {
   "cell_type": "markdown",
   "metadata": {},
   "source": [
    "#### DBSCAN"
   ]
  },
  {
   "cell_type": "code",
   "execution_count": null,
   "metadata": {},
   "outputs": [],
   "source": [
    "from sklearn.cluster import DBSCAN\n",
    "\n",
    "# 모델 객체 생성\n",
    "model_ds = DBSCAN(eps=0.3)\n",
    "\n",
    "# 예측 데이터 생성\n",
    "pred_datas_ds = model_ds.fit_predict(features)\n",
    "\n",
    "# features와 예측 데이터를 데이터 프레임으로 생성\n",
    "pred_df_ds = pd.DataFrame(pred_datas_ds, columns=['predict'])\n",
    "pred_df_ds = pd.concat([features, pred_df_ds], axis=1)\n",
    "\n",
    "pred_df_ds.tail(2)"
   ]
  },
  {
   "cell_type": "markdown",
   "metadata": {},
   "source": [
    "#### 1.3 데이터 시각화\n",
    "- 실제 데이터\n",
    "- K-means 데이터\n",
    "- DBSCAN 데이터"
   ]
  },
  {
   "cell_type": "code",
   "execution_count": null,
   "metadata": {},
   "outputs": [],
   "source": [
    "plt.figure(figsize=(20, 5))\n",
    "\n",
    "# 실제 데이터 시각화\n",
    "plt.subplot(131)\n",
    "plt.scatter(datas[\"sl\"], datas[\"sw\"], c=datas[\"label\"], cmap=\"rainbow\")\n",
    "plt.title(\"Actual\")\n",
    "\n",
    "# K-means 데이터 시각화\n",
    "plt.subplot(132)\n",
    "plt.scatter(pred_df_km[\"sl\"], pred_df_km[\"sw\"], c=pred_df_km[\"predict\"], cmap=\"rainbow\")\n",
    "plt.title(\"K-means\")\n",
    "\n",
    "# DBSCAN 데이터 시각화\n",
    "plt.subplot(133)\n",
    "plt.scatter(pred_df_ds[\"sl\"], pred_df_ds[\"sw\"], c=pred_df_ds[\"predict\"], cmap=\"rainbow\")\n",
    "plt.title(\"DBSCAN\")\n",
    "\n",
    "plt.show()"
   ]
  },
  {
   "cell_type": "markdown",
   "metadata": {},
   "source": [
    "#### 1.4 결과 비교\n",
    "- DBSCAN 보다 K-means가 성능이 더 좋음\n",
    "- 데이터의 특징에 맞게 알맞은 알고리즘을 사용"
   ]
  },
  {
   "cell_type": "markdown",
   "metadata": {},
   "source": [
    "### 2. HDBSCAN \n",
    "- Hierarchical DBSCAN\n",
    "- 하이퍼 파라미터에 덜 민감한 DBSCAN 알고리즘\n",
    "- `https://hdbscan.readthedocs.io/en/latest/how_hdbscan_works.html`\n",
    "    - min_cluster_size를 기준으로 클러스터를 생성\n",
    "    - 생성된 클러스터의 core 데이터와 다른 클러스터의 core 데이터의 거리에 대한 계층을 만듦"
   ]
  },
  {
   "cell_type": "markdown",
   "metadata": {},
   "source": [
    "#### 1. 샘플 데이터"
   ]
  },
  {
   "cell_type": "code",
   "execution_count": null,
   "metadata": {},
   "outputs": [],
   "source": [
    "datas = np.load('./data/clusterable_data.npy')\n",
    "len(datas)"
   ]
  },
  {
   "cell_type": "code",
   "execution_count": null,
   "metadata": {},
   "outputs": [],
   "source": [
    "plt.scatter(datas.T[0], datas.T[1], alpha=0.3)\n",
    "plt.show()"
   ]
  },
  {
   "cell_type": "markdown",
   "metadata": {},
   "source": [
    "#### 2. k-means "
   ]
  },
  {
   "cell_type": "code",
   "execution_count": null,
   "metadata": {},
   "outputs": [],
   "source": [
    "from sklearn.cluster import KMeans\n",
    "\n",
    "# kmeans : 모델 객체 생성\n",
    "model_km = KMeans(n_clusters=6, random_state=0).fit(datas)\n",
    "\n",
    "# 예측 데이터 생성\n",
    "pred_km = model_km.fit_predict(datas)\n",
    "\n",
    "# 데이터 프레임 만들기\n",
    "df = pd.DataFrame(datas)\n",
    "df[\"labels\"] = pred_km\n",
    "\n",
    "df.tail(2)"
   ]
  },
  {
   "cell_type": "code",
   "execution_count": null,
   "metadata": {},
   "outputs": [],
   "source": [
    "# 그래프 그리기\n",
    "plt.scatter(df[0], df[1], c=df[\"labels\"], cmap=\"rainbow\", alpha=0.3)\n",
    "plt.show()"
   ]
  },
  {
   "cell_type": "markdown",
   "metadata": {},
   "source": [
    "#### 3. DBSCAN"
   ]
  },
  {
   "cell_type": "code",
   "execution_count": null,
   "metadata": {},
   "outputs": [],
   "source": [
    "from sklearn.cluster import DBSCAN\n",
    "\n",
    "# 모델 객체 생성\n",
    "model_ds = DBSCAN(eps=0.02, min_samples=3).fit(datas)\n",
    "\n",
    "# 예측 데이터 생성\n",
    "pred_ds = model_ds.fit_predict(datas)\n",
    "\n",
    "# 데이터 프레임 만들기\n",
    "df = pd.DataFrame(datas)\n",
    "df[\"labels\"] = pred_ds\n",
    "\n",
    "df.tail(2)"
   ]
  },
  {
   "cell_type": "code",
   "execution_count": null,
   "metadata": {},
   "outputs": [],
   "source": [
    "df_sort = df.groupby(\"labels\").size().reset_index(name=\"count\")\n",
    "df_sort = df_sort.sort_values(\"count\", ascending=False)\n",
    "filterd_labels = df_sort[\"labels\"][:10].values\n",
    "filterd_labels"
   ]
  },
  {
   "cell_type": "code",
   "execution_count": null,
   "metadata": {},
   "outputs": [],
   "source": [
    "# 그래프 그리기\n",
    "for label in filterd_labels:\n",
    "    \n",
    "    data = df[df[\"labels\"] == label]\n",
    "    plt.scatter(data[0], data[1], alpha=0.3)\n",
    "    \n",
    "plt.show()"
   ]
  },
  {
   "cell_type": "markdown",
   "metadata": {},
   "source": [
    "#### 4. HDBSCAN\n",
    "- sklearn에 없기 때문에 패키지 설치가 필요\n",
    "    - `$ pip install hdbscan`"
   ]
  },
  {
   "cell_type": "code",
   "execution_count": null,
   "metadata": {},
   "outputs": [],
   "source": [
    "!pip install hdbscan"
   ]
  },
  {
   "cell_type": "code",
   "execution_count": null,
   "metadata": {},
   "outputs": [],
   "source": [
    "import hdbscan"
   ]
  },
  {
   "cell_type": "code",
   "execution_count": null,
   "metadata": {},
   "outputs": [],
   "source": [
    "from sklearn.cluster import DBSCAN\n",
    "\n",
    "# 모델 객체 생성\n",
    "model_hds = hdbscan.HDBSCAN(min_cluster_size=25).fit(datas)\n",
    "\n",
    "# 예측 데이터 생성\n",
    "pred_hds = model_hds.fit_predict(datas)\n",
    "\n",
    "# 데이터 프레임 만들기\n",
    "df = pd.DataFrame(datas)\n",
    "df[\"labels\"] = pred_hds\n",
    "\n",
    "df.tail(2)"
   ]
  },
  {
   "cell_type": "code",
   "execution_count": null,
   "metadata": {},
   "outputs": [],
   "source": [
    "np.unique(df[\"labels\"])"
   ]
  },
  {
   "cell_type": "code",
   "execution_count": null,
   "metadata": {},
   "outputs": [],
   "source": [
    "# 그래프 그리기\n",
    "plt.scatter(df[0], df[1], c=df[\"labels\"], cmap=\"rainbow\", alpha=0.3)\n",
    "plt.show()"
   ]
  },
  {
   "cell_type": "markdown",
   "metadata": {},
   "source": [
    "### 3. HDBSCAN 예시"
   ]
  },
  {
   "cell_type": "code",
   "execution_count": null,
   "metadata": {},
   "outputs": [],
   "source": [
    "import sklearn.datasets as data\n",
    "import hdbscan"
   ]
  },
  {
   "cell_type": "code",
   "execution_count": null,
   "metadata": {},
   "outputs": [],
   "source": [
    "# 그래프 설정\n",
    "sns.set_style('white')\n",
    "sns.set_color_codes()\n",
    "plot_kwds = {'alpha' : 0.5, 's' : 80, 'linewidths':0}"
   ]
  },
  {
   "cell_type": "code",
   "execution_count": null,
   "metadata": {},
   "outputs": [],
   "source": [
    "# 샘플 데이터 생성\n",
    "moons, _ = data.make_moons(n_samples=50, noise=0.05)\n",
    "blobs, _ = data.make_blobs(n_samples=50, centers=[(-0.75,2.25), (1.0, 2.0)], cluster_std=0.25)\n",
    "test_data = np.vstack([moons, blobs])\n",
    "plt.scatter(test_data.T[0], test_data.T[1], color='b', **plot_kwds)"
   ]
  },
  {
   "cell_type": "code",
   "execution_count": null,
   "metadata": {},
   "outputs": [],
   "source": [
    "clusterer = hdbscan.HDBSCAN(min_cluster_size=5, gen_min_span_tree=True)\n",
    "clusterer.fit(test_data)"
   ]
  },
  {
   "cell_type": "code",
   "execution_count": null,
   "metadata": {},
   "outputs": [],
   "source": [
    "# 클러스터를 몇개로 하면 좋을지 알려줌\n",
    "clusterer.condensed_tree_.plot(select_clusters=True, selection_palette=sns.color_palette())\n",
    "plt.show()"
   ]
  },
  {
   "cell_type": "code",
   "execution_count": null,
   "metadata": {},
   "outputs": [],
   "source": [
    "palette = sns.color_palette()\n",
    "cluster_colors = [sns.desaturate(palette[col], sat)\n",
    "                  if col >= 0 else (0.5, 0.5, 0.5) for col, sat in\n",
    "                  zip(clusterer.labels_, clusterer.probabilities_)]\n",
    "plt.scatter(test_data.T[0], test_data.T[1], c=cluster_colors, **plot_kwds)\n",
    "plt.show()"
   ]
  },
  {
   "cell_type": "markdown",
   "metadata": {},
   "source": [
    "#### DBSCAN과 HDBSCAN의 비교"
   ]
  },
  {
   "cell_type": "code",
   "execution_count": null,
   "metadata": {},
   "outputs": [],
   "source": [
    "num = 500\n",
    "\n",
    "# 표준편차가 0.25, 중심이 2개인 데이터 200개 생성\n",
    "blobs1, _ = data.make_blobs(n_samples=num, centers=[(-2, 4), (4, -2)], cluster_std=0.5, random_state=1)\n",
    "\n",
    "# 표준편차가 4, 중심이 1개인 데이터 200개 생성\n",
    "blobs2, _ = data.make_blobs(n_samples=num, centers=[(0, 1)], cluster_std=1, random_state=1)\n",
    "\n",
    "# 두개의 데이터를 합침\n",
    "test_data = np.vstack([blobs1, blobs2])\n",
    "\n",
    "# 그래프 그리기\n",
    "plt.scatter(test_data.T[0], test_data.T[1], color='b', s=80, alpha=0.5)\n",
    "\n",
    "plt.show()"
   ]
  },
  {
   "cell_type": "code",
   "execution_count": null,
   "metadata": {},
   "outputs": [],
   "source": [
    "# DBSCAN 모델 학습 : eps 값을 찾기가 어렵다.\n",
    "model_ds = DBSCAN(eps=0.26, min_samples=3).fit(test_data)"
   ]
  },
  {
   "cell_type": "code",
   "execution_count": null,
   "metadata": {},
   "outputs": [],
   "source": [
    "palette = sns.color_palette(\"husl\", 12)\n",
    "\n",
    "cluster_colors = [palette[col] if col >= 0 else (0.5, 0.5, 0.5) for col in model_ds.labels_]\n",
    "                    \n",
    "plt.scatter(test_data.T[0], test_data.T[1], c=cluster_colors, s=80, alpha=0.5)\n",
    "plt.show()"
   ]
  },
  {
   "cell_type": "code",
   "execution_count": null,
   "metadata": {},
   "outputs": [],
   "source": [
    "# HDBSCAN 모델 학습 : min_cluster_size를 설정하는것이 eps 설정하는것 보다 쉽다.\n",
    "model_hds = hdbscan.HDBSCAN(min_cluster_size=20, gen_min_span_tree=True).fit(test_data)"
   ]
  },
  {
   "cell_type": "code",
   "execution_count": null,
   "metadata": {},
   "outputs": [],
   "source": [
    "palette = sns.color_palette(\"husl\", 12)\n",
    "\n",
    "cluster_colors = [palette[col] if col >= 0 else (0.5, 0.5, 0.5) for col in model_hds.labels_]\n",
    "\n",
    "plt.scatter(test_data.T[0], test_data.T[1], c=cluster_colors, s=80, alpha=0.5)\n",
    "plt.show()"
   ]
  }
 ],
 "metadata": {
  "kernelspec": {
   "display_name": "Python 3 (ipykernel)",
   "language": "python",
   "name": "python3"
  },
  "language_info": {
   "codemirror_mode": {
    "name": "ipython",
    "version": 3
   },
   "file_extension": ".py",
   "mimetype": "text/x-python",
   "name": "python",
   "nbconvert_exporter": "python",
   "pygments_lexer": "ipython3",
   "version": "3.7.12"
  },
  "toc": {
   "base_numbering": 1,
   "nav_menu": {},
   "number_sections": false,
   "sideBar": true,
   "skip_h1_title": false,
   "title_cell": "Table of Contents",
   "title_sidebar": "Contents",
   "toc_cell": false,
   "toc_position": {},
   "toc_section_display": true,
   "toc_window_display": false
  },
  "varInspector": {
   "cols": {
    "lenName": 16,
    "lenType": 16,
    "lenVar": 40
   },
   "kernels_config": {
    "python": {
     "delete_cmd_postfix": "",
     "delete_cmd_prefix": "del ",
     "library": "var_list.py",
     "varRefreshCmd": "print(var_dic_list())"
    },
    "r": {
     "delete_cmd_postfix": ") ",
     "delete_cmd_prefix": "rm(",
     "library": "var_list.r",
     "varRefreshCmd": "cat(var_dic_list()) "
    }
   },
   "types_to_exclude": [
    "module",
    "function",
    "builtin_function_or_method",
    "instance",
    "_Feature"
   ],
   "window_display": false
  }
 },
 "nbformat": 4,
 "nbformat_minor": 4
}
