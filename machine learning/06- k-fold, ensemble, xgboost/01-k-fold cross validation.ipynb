{
 "cells": [
  {
   "cell_type": "markdown",
   "metadata": {
    "id": "UWcYQUUDDQ10"
   },
   "source": [
    "# k-fold\n",
    "- 교차 검증을 통해 모델의 과적합 정도를 판단할수 있습니다.\n",
    "- https://scikit-learn.org/stable/modules/cross_validation.html\n",
    "\n",
    "- 장점\n",
    "    - 특정 데이터셋이대한 과적합 방지\n",
    "    - 더욱 일반화된 모델 생성 가능\n",
    "    - 데이터셋 규모가 적을때 과소적합 방지\n",
    "- 단점\n",
    "    - 모델 훈련 및 평가 소요시간 증가(반복학습 횟수 증가)"
   ]
  },
  {
   "cell_type": "markdown",
   "metadata": {
    "id": "ojDMuurxDQ14"
   },
   "source": [
    "## 1. 데이터 로드"
   ]
  },
  {
   "cell_type": "code",
   "execution_count": null,
   "metadata": {
    "executionInfo": {
     "elapsed": 761,
     "status": "ok",
     "timestamp": 1652422476083,
     "user": {
      "displayName": "Doojin Park",
      "userId": "13081019711214908217"
     },
     "user_tz": -540
    },
    "id": "YZmuspa_DegP"
   },
   "outputs": [],
   "source": [
    "import pandas as pd"
   ]
  },
  {
   "cell_type": "code",
   "execution_count": null,
   "metadata": {
    "colab": {
     "base_uri": "https://localhost:8080/",
     "height": 81
    },
    "executionInfo": {
     "elapsed": 312,
     "status": "ok",
     "timestamp": 1652422477597,
     "user": {
      "displayName": "Doojin Park",
      "userId": "13081019711214908217"
     },
     "user_tz": -540
    },
    "id": "GfMqfWcVDdHX",
    "outputId": "e9d79a19-2e0c-436d-847f-aef804d8e9b2"
   },
   "outputs": [],
   "source": [
    "df = pd.read_csv(\"train.csv\")\n",
    "df.tail(1)"
   ]
  },
  {
   "cell_type": "markdown",
   "metadata": {
    "id": "dIjixslzDQ16"
   },
   "source": [
    "## 2. 데이터 전처리"
   ]
  },
  {
   "cell_type": "code",
   "execution_count": null,
   "metadata": {
    "colab": {
     "base_uri": "https://localhost:8080/",
     "height": 81
    },
    "executionInfo": {
     "elapsed": 7,
     "status": "ok",
     "timestamp": 1652422498747,
     "user": {
      "displayName": "Doojin Park",
      "userId": "13081019711214908217"
     },
     "user_tz": -540
    },
    "id": "wgcf2Zn2DQ16",
    "outputId": "0017294b-2750-4530-c0a0-d6310bb64686"
   },
   "outputs": [],
   "source": [
    "df = pd.read_csv(\"train.csv\")\n",
    "\n",
    "# 필요한 컬럼만 필터링\n",
    "columns = ['Survived', 'Pclass', 'Sex', 'Age', 'SibSp', 'Parch', 'Fare', 'Embarked']\n",
    "df = df[columns]\n",
    "\n",
    "# 결측 데이터 제거\n",
    "df.dropna(inplace=True)\n",
    "df.reset_index(drop=True, inplace=True)\n",
    "\n",
    "# sex, embarked : 더미변수화\n",
    "dummy_sex = pd.get_dummies(df[\"Sex\"])\n",
    "dummy_embarked = pd.get_dummies(df[\"Embarked\"])\n",
    "df = pd.concat([df, dummy_sex, dummy_embarked], axis=1).drop(columns=[\"Sex\", \"Embarked\"])\n",
    "\n",
    "df.tail(1)"
   ]
  },
  {
   "cell_type": "markdown",
   "metadata": {
    "id": "ofyU31X_DQ17"
   },
   "source": [
    "## 3. 데이터셋 나누기"
   ]
  },
  {
   "cell_type": "code",
   "execution_count": null,
   "metadata": {
    "executionInfo": {
     "elapsed": 741,
     "status": "ok",
     "timestamp": 1652422526576,
     "user": {
      "displayName": "Doojin Park",
      "userId": "13081019711214908217"
     },
     "user_tz": -540
    },
    "id": "GL1aujDrDQ17"
   },
   "outputs": [],
   "source": [
    "from sklearn.model_selection import train_test_split"
   ]
  },
  {
   "cell_type": "code",
   "execution_count": null,
   "metadata": {
    "executionInfo": {
     "elapsed": 2,
     "status": "ok",
     "timestamp": 1652422528325,
     "user": {
      "displayName": "Doojin Park",
      "userId": "13081019711214908217"
     },
     "user_tz": -540
    },
    "id": "nnX10F2bDQ18"
   },
   "outputs": [],
   "source": [
    "df_x = df.drop(columns=[\"Survived\"])\n",
    "df_y = df[\"Survived\"]"
   ]
  },
  {
   "cell_type": "code",
   "execution_count": null,
   "metadata": {
    "colab": {
     "base_uri": "https://localhost:8080/"
    },
    "executionInfo": {
     "elapsed": 436,
     "status": "ok",
     "timestamp": 1652422529177,
     "user": {
      "displayName": "Doojin Park",
      "userId": "13081019711214908217"
     },
     "user_tz": -540
    },
    "id": "UEGojOchDQ18",
    "outputId": "15e9eaf8-3b5d-44a7-81e8-336c0df33991"
   },
   "outputs": [],
   "source": [
    "train_x, test_x, train_y, test_y = train_test_split(df_x, df_y, test_size=0.2, random_state=1)\n",
    "len(train_x), len(test_x), len(train_y), len(test_y)"
   ]
  },
  {
   "cell_type": "markdown",
   "metadata": {
    "id": "CA88dkVzDQ19"
   },
   "source": [
    "## 4. 모델링"
   ]
  },
  {
   "cell_type": "markdown",
   "metadata": {
    "id": "m0O-yRYfDQ19"
   },
   "source": [
    "### 4.1 decision tree"
   ]
  },
  {
   "cell_type": "code",
   "execution_count": null,
   "metadata": {
    "executionInfo": {
     "elapsed": 633,
     "status": "ok",
     "timestamp": 1652422547777,
     "user": {
      "displayName": "Doojin Park",
      "userId": "13081019711214908217"
     },
     "user_tz": -540
    },
    "id": "neekeh5fDQ1-"
   },
   "outputs": [],
   "source": [
    "from sklearn.tree import DecisionTreeClassifier"
   ]
  },
  {
   "cell_type": "code",
   "execution_count": null,
   "metadata": {
    "executionInfo": {
     "elapsed": 312,
     "status": "ok",
     "timestamp": 1652422556572,
     "user": {
      "displayName": "Doojin Park",
      "userId": "13081019711214908217"
     },
     "user_tz": -540
    },
    "id": "t490Nz7vDyhD"
   },
   "outputs": [],
   "source": [
    "import numpy as np"
   ]
  },
  {
   "cell_type": "code",
   "execution_count": null,
   "metadata": {
    "colab": {
     "base_uri": "https://localhost:8080/"
    },
    "executionInfo": {
     "elapsed": 3,
     "status": "ok",
     "timestamp": 1652422557828,
     "user": {
      "displayName": "Doojin Park",
      "userId": "13081019711214908217"
     },
     "user_tz": -540
    },
    "id": "zvgZpnqvDQ1-",
    "outputId": "dfda1507-370f-4073-f04c-145f42f9f295"
   },
   "outputs": [],
   "source": [
    "dt_model = DecisionTreeClassifier(random_state=0).fit(train_x, train_y)\n",
    "score = dt_model.score(test_x, test_y) * 100\n",
    "np.round(score, 2)"
   ]
  },
  {
   "cell_type": "markdown",
   "metadata": {
    "id": "KQbzG2sIDQ1-"
   },
   "source": [
    "### 4.2 random forest"
   ]
  },
  {
   "cell_type": "code",
   "execution_count": null,
   "metadata": {
    "executionInfo": {
     "elapsed": 4,
     "status": "ok",
     "timestamp": 1652422567755,
     "user": {
      "displayName": "Doojin Park",
      "userId": "13081019711214908217"
     },
     "user_tz": -540
    },
    "id": "DL8msgkuDQ1_"
   },
   "outputs": [],
   "source": [
    "from sklearn.ensemble import RandomForestClassifier"
   ]
  },
  {
   "cell_type": "code",
   "execution_count": null,
   "metadata": {
    "colab": {
     "base_uri": "https://localhost:8080/"
    },
    "executionInfo": {
     "elapsed": 408,
     "status": "ok",
     "timestamp": 1652422568160,
     "user": {
      "displayName": "Doojin Park",
      "userId": "13081019711214908217"
     },
     "user_tz": -540
    },
    "id": "m1BzcGjjDQ1_",
    "outputId": "c37510c9-bd14-4ea2-e553-4145b3b3e2a3"
   },
   "outputs": [],
   "source": [
    "rf_model = RandomForestClassifier(random_state=0).fit(train_x, train_y)\n",
    "score = rf_model.score(test_x, test_y) * 100\n",
    "np.round(score, 2)"
   ]
  },
  {
   "cell_type": "markdown",
   "metadata": {
    "id": "ZdQQhTSXDQ1_"
   },
   "source": [
    "## 5. k-fold cross validation score\n",
    "- https://scikit-learn.org/stable/modules/cross_validation.html\n",
    "- 분산이 크면 데이터에 따라서 모델의 정확도 차이가 크므로 과적합의 위험이 크다.\n",
    "- 모델링 결과에서 Decision Tree 알고리즘이 정확도가 더 높게 나왔지만 crooss validation score로 확인해보면 random forest가 더 높다.\n",
    "- Decision Tree 모델의 결과가 과적합될 가능성이 크다."
   ]
  },
  {
   "cell_type": "code",
   "execution_count": null,
   "metadata": {
    "executionInfo": {
     "elapsed": 282,
     "status": "ok",
     "timestamp": 1652422628559,
     "user": {
      "displayName": "Doojin Park",
      "userId": "13081019711214908217"
     },
     "user_tz": -540
    },
    "id": "WbjKRMWODQ1_"
   },
   "outputs": [],
   "source": [
    "from sklearn.model_selection import cross_val_score"
   ]
  },
  {
   "cell_type": "markdown",
   "metadata": {
    "id": "SFUeuke6DQ2A"
   },
   "source": [
    "### 5.1 decision tree"
   ]
  },
  {
   "cell_type": "code",
   "execution_count": null,
   "metadata": {
    "colab": {
     "base_uri": "https://localhost:8080/"
    },
    "executionInfo": {
     "elapsed": 278,
     "status": "ok",
     "timestamp": 1652422661834,
     "user": {
      "displayName": "Doojin Park",
      "userId": "13081019711214908217"
     },
     "user_tz": -540
    },
    "id": "KAd9fW7KDQ2A",
    "outputId": "0cc98b1b-6e44-4ae3-b03d-00fdcdcf71cd"
   },
   "outputs": [],
   "source": [
    "scores = cross_val_score(dt_model, test_x, test_y, cv=10)\n",
    "scores.mean(), scores.var()"
   ]
  },
  {
   "cell_type": "markdown",
   "metadata": {
    "id": "ykEwerCiDQ2A"
   },
   "source": [
    "### 5.2 random forest"
   ]
  },
  {
   "cell_type": "code",
   "execution_count": null,
   "metadata": {
    "colab": {
     "base_uri": "https://localhost:8080/"
    },
    "executionInfo": {
     "elapsed": 3569,
     "status": "ok",
     "timestamp": 1652422666791,
     "user": {
      "displayName": "Doojin Park",
      "userId": "13081019711214908217"
     },
     "user_tz": -540
    },
    "id": "Nkm-yB3rDQ2A",
    "outputId": "050ab2c0-4a9b-4ad4-813f-c7d9bb1e9546"
   },
   "outputs": [],
   "source": [
    "scores = cross_val_score(rf_model, test_x, test_y, cv=10)\n",
    "scores.mean(), scores.var()"
   ]
  },
  {
   "cell_type": "code",
   "execution_count": null,
   "metadata": {
    "id": "t9wtEJNRENqa"
   },
   "outputs": [],
   "source": []
  }
 ],
 "metadata": {
  "colab": {
   "collapsed_sections": [],
   "name": "02_k-fold.ipynb",
   "provenance": []
  },
  "kernelspec": {
   "display_name": "Python 3 (ipykernel)",
   "language": "python",
   "name": "python3"
  },
  "language_info": {
   "codemirror_mode": {
    "name": "ipython",
    "version": 3
   },
   "file_extension": ".py",
   "mimetype": "text/x-python",
   "name": "python",
   "nbconvert_exporter": "python",
   "pygments_lexer": "ipython3",
   "version": "3.7.12"
  },
  "toc": {
   "base_numbering": 1,
   "nav_menu": {},
   "number_sections": false,
   "sideBar": true,
   "skip_h1_title": false,
   "title_cell": "Table of Contents",
   "title_sidebar": "Contents",
   "toc_cell": false,
   "toc_position": {},
   "toc_section_display": true,
   "toc_window_display": false
  }
 },
 "nbformat": 4,
 "nbformat_minor": 1
}
