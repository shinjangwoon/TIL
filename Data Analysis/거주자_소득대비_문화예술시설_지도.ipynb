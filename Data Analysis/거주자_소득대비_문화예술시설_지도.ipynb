{
  "nbformat": 4,
  "nbformat_minor": 0,
  "metadata": {
    "colab": {
      "name": "거주자 소득대비 문화시설 지도.ipynb",
      "private_outputs": true,
      "provenance": [],
      "authorship_tag": "ABX9TyOwCUvu0o5WjXuGvsFETbIf",
      "include_colab_link": true
    },
    "kernelspec": {
      "name": "python3",
      "display_name": "Python 3"
    },
    "language_info": {
      "name": "python"
    },
    "accelerator": "GPU"
  },
  "cells": [
    {
      "cell_type": "markdown",
      "metadata": {
        "id": "view-in-github",
        "colab_type": "text"
      },
      "source": [
        "<a href=\"https://colab.research.google.com/github/shinjangwoon/TIL/blob/master/%EA%B1%B0%EC%A3%BC%EC%9E%90_%EC%86%8C%EB%93%9D%EB%8C%80%EB%B9%84_%EB%AC%B8%ED%99%94%EC%8B%9C%EC%84%A4_%EC%A7%80%EB%8F%84.ipynb\" target=\"_parent\"><img src=\"https://colab.research.google.com/assets/colab-badge.svg\" alt=\"Open In Colab\"/></a>"
      ]
    },
    {
      "cell_type": "code",
      "metadata": {
        "id": "-2y4Xb-UBI_6"
      },
      "source": [
        "import pandas as pd\n",
        "import numpy as np\n",
        "import matplotlib.pyplot as plt\n",
        "import seaborn as sns"
      ],
      "execution_count": null,
      "outputs": []
    },
    {
      "cell_type": "code",
      "metadata": {
        "id": "x2hsC39kCg3D"
      },
      "source": [
        "from google.colab import drive\n",
        "drive.mount('/content/drive')"
      ],
      "execution_count": null,
      "outputs": []
    },
    {
      "cell_type": "code",
      "metadata": {
        "id": "KvF802_pCgzc"
      },
      "source": [
        "map_url = '/content/drive/MyDrive/Colab Notebooks/practice/project/KC_607_RES_INCM_VS_CTL_STT_MAP_2020.csv'\n"
      ],
      "execution_count": null,
      "outputs": []
    },
    {
      "cell_type": "code",
      "metadata": {
        "id": "sjIxaKiACgwp"
      },
      "source": [
        "map = pd.read_csv(map_url)\n",
        "map"
      ],
      "execution_count": null,
      "outputs": []
    },
    {
      "cell_type": "code",
      "metadata": {
        "id": "E2M8DgxiQEfB"
      },
      "source": [
        "map.columns = ['지도', '시설수', '연소득 시도 순위', '무용 매출액', '연극 매출액',  '오페라 매출액', '뮤지컬 매출액', '클래식 매출액', '국악 매출액', '매출액 합계', '티켓팅 수 합계', '시도 인구수', '파일명', '기준일' ]\n",
        "map.drop(['파일명', '기준일'], axis=1, inplace=True)\n"
      ],
      "execution_count": null,
      "outputs": []
    },
    {
      "cell_type": "code",
      "metadata": {
        "id": "D-c3hLfrCguC"
      },
      "source": [
        "map.sort_values(by=['시설수'], axis=0)\n"
      ],
      "execution_count": null,
      "outputs": []
    },
    {
      "cell_type": "code",
      "metadata": {
        "id": "5PxhMKtgCgrP"
      },
      "source": [
        "map.sort_values(by=['연소득 시도 순위'], axis=0)\n"
      ],
      "execution_count": null,
      "outputs": []
    },
    {
      "cell_type": "code",
      "metadata": {
        "id": "jl59tx2_Cgop"
      },
      "source": [
        "map.sort_values(by=['매출액 합계'], axis=0)\n"
      ],
      "execution_count": null,
      "outputs": []
    },
    {
      "cell_type": "code",
      "metadata": {
        "id": "ULO5D_BkCgmD"
      },
      "source": [
        "map.sort_values(by=['시도 인구수'], axis=0)\n"
      ],
      "execution_count": null,
      "outputs": []
    },
    {
      "cell_type": "code",
      "metadata": {
        "id": "V-DMeM4OCgjg"
      },
      "source": [
        "map.sort_values(by=['티켓팅 수 합계'], axis=0)"
      ],
      "execution_count": null,
      "outputs": []
    },
    {
      "cell_type": "code",
      "metadata": {
        "id": "3pBD-GE7CuET"
      },
      "source": [
        "map.info()"
      ],
      "execution_count": null,
      "outputs": []
    },
    {
      "cell_type": "code",
      "metadata": {
        "id": "jgpZGx_KCgeL"
      },
      "source": [
        "sns.catplot(x='시설수', y='매출액 합계', kind='bar', data=map )"
      ],
      "execution_count": null,
      "outputs": []
    },
    {
      "cell_type": "code",
      "metadata": {
        "id": "aiaXi_QmB7Gv"
      },
      "source": [
        ""
      ],
      "execution_count": null,
      "outputs": []
    },
    {
      "cell_type": "code",
      "metadata": {
        "id": "reCTyJ1hB7EC"
      },
      "source": [
        ""
      ],
      "execution_count": null,
      "outputs": []
    },
    {
      "cell_type": "code",
      "metadata": {
        "id": "eJWZkcSJCgbY"
      },
      "source": [
        ""
      ],
      "execution_count": null,
      "outputs": []
    }
  ]
}
