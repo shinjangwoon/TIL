{
 "cells": [
  {
   "cell_type": "markdown",
   "metadata": {
    "id": "UsZSmAj47LXm",
    "slideshow": {
     "slide_type": "slide"
    }
   },
   "source": [
    "# **데이터 크롤링**"
   ]
  },
  {
   "cell_type": "markdown",
   "metadata": {
    "id": "qGMeSCoV7QTQ",
    "slideshow": {
     "slide_type": "slide"
    }
   },
   "source": [
    "## **크롤링이란?**\n",
    "> 크롤러(crawler)는 자동화된 방법으로 웹을 탐색하는 컴퓨터 프로그램  \n",
    "'웹 크롤링'(web crawling)??  \n",
    "'데이터 크롤링'(data crawling)!!  "
   ]
  },
  {
   "cell_type": "markdown",
   "metadata": {
    "id": "WboqZ6A47Yqe",
    "slideshow": {
     "slide_type": "slide"
    }
   },
   "source": [
    "우리는 매일 크롤러도 사용하고 있습니다."
   ]
  },
  {
   "cell_type": "markdown",
   "metadata": {
    "id": "5PfW0HG17td5",
    "slideshow": {
     "slide_type": "slide"
    }
   },
   "source": [
    "## **웹 크롤링**\n",
    "> 웹 서비스 내 정보를 수집하는 일\n",
    "\n",
    ">> 필요한 정보가 있다면?  \n",
    "API 확인 -> 없으면 직접 크롤링  \n",
    "    \n",
    "> 다만 서비스 제공자의 입장에서는??"
   ]
  },
  {
   "cell_type": "markdown",
   "metadata": {
    "id": "e0ITGMAN70Da",
    "slideshow": {
     "slide_type": "slide"
    }
   },
   "source": [
    "### 웹 서핑을 하는 의식의 흐름\n",
    "> - 브라우저 오픈  \n",
    "> - 원하는 인터넷페이지 주소 입력  \n",
    "> - 화면이 열리면 찾고자 하는 정보를 스크롤 하면서 찾기  \n",
    "> - 문자, 그림, 동영상 조회  "
   ]
  },
  {
   "cell_type": "markdown",
   "metadata": {
    "id": "AWcggzcG728P",
    "slideshow": {
     "slide_type": "slide"
    }
   },
   "source": [
    "### 웹 크롤링 하는 의식의 흐름\n",
    "> - 정보를 가져오고자 하는 url 정의\n",
    "> - url 정보로 requests로 정보 요청\n",
    "> - text 정보를 html로 변환\n",
    "> - html에서 우리가 필요한 정보만 선별"
   ]
  },
  {
   "cell_type": "markdown",
   "metadata": {
    "id": "XT464CpR75Uh",
    "slideshow": {
     "slide_type": "slide"
    }
   },
   "source": [
    "### 웹 크롤링을 위해 BeautifulSoup 사용\n",
    "> - requests는 요청을 받기는 하지만 text로만 받음  \n",
    "> - API는 통신을 위해 정형화 된 데이터 형태의 text  \n",
    "> - 우리가 원하는 데이터로 가공하기 위해 편의상 html로 변환  \n",
    "> - text를 html로 변환하는 모듈이 beautifulSoup"
   ]
  },
  {
   "cell_type": "markdown",
   "metadata": {
    "id": "5j1oR5fO78FW",
    "slideshow": {
     "slide_type": "slide"
    }
   },
   "source": [
    "### 간단한 데이터 크롤링으로 기본 개념잡기"
   ]
  },
  {
   "cell_type": "code",
   "execution_count": 1,
   "metadata": {
    "ExecuteTime": {
     "end_time": "2022-04-25T04:00:44.041694Z",
     "start_time": "2022-04-25T04:00:44.037100Z"
    }
   },
   "outputs": [],
   "source": [
    "# 필요패키지 import\n",
    "import numpy as np\n",
    "import pandas as pd\n",
    "import requests # 크롤링에 사용하는 패키지\n",
    "from bs4 import BeautifulSoup # html 변환에 사용함"
   ]
  },
  {
   "cell_type": "markdown",
   "metadata": {},
   "source": [
    "#### 네이버 메인페이지 크롤링"
   ]
  },
  {
   "cell_type": "code",
   "execution_count": 2,
   "metadata": {
    "ExecuteTime": {
     "end_time": "2022-04-25T01:14:10.597369Z",
     "start_time": "2022-04-25T01:14:10.125746Z"
    },
    "scrolled": false
   },
   "outputs": [
    {
     "data": {
      "text/plain": [
       "[<img alt=\"\" height=\"49\" src=\"https://static-whale.pstatic.net/main/img_mousegesture_v2@2x.png\" style=\"padding-left: 90px\" width=\"200\"/>,\n",
       " <img alt=\"아시아경제\" class=\"news_logo\" height=\"20\" src=\"https://s.pstatic.net/static/newsstand/2020/logo/light/0604/277.png\"/>,\n",
       " <img alt=\"프레시안\" class=\"news_logo\" height=\"20\" src=\"https://s.pstatic.net/static/newsstand/2020/logo/light/0604/002.png\"/>,\n",
       " <img alt=\"뉴데일리\" class=\"news_logo\" height=\"20\" src=\"https://s.pstatic.net/static/newsstand/2020/logo/light/0604/327.png\"/>,\n",
       " <img alt=\"중앙일보\" class=\"news_logo\" height=\"20\" src=\"https://s.pstatic.net/static/newsstand/up/2021/0824/nsd115034872.png\"/>,\n",
       " <img alt=\"중앙데일리\" class=\"news_logo\" height=\"20\" src=\"https://s.pstatic.net/static/newsstand/2020/logo/light/0604/330.png\"/>,\n",
       " <img alt=\"서울경제\" class=\"news_logo\" height=\"20\" src=\"https://s.pstatic.net/static/newsstand/2019/logo/011.png\"/>,\n",
       " <img alt=\"서울신문\" class=\"news_logo\" height=\"20\" src=\"https://s.pstatic.net/static/newsstand/up/2022/0208/nsd16121208.png\"/>,\n",
       " <img alt=\"미디어오늘\" class=\"news_logo\" height=\"20\" src=\"https://s.pstatic.net/static/newsstand/2020/logo/light/0604/006.png\"/>,\n",
       " <img alt=\"한겨레\" class=\"news_logo\" height=\"20\" src=\"https://s.pstatic.net/static/newsstand/2020/logo/light/0604/028.png\"/>,\n",
       " <img alt=\"오마이뉴스\" class=\"news_logo\" height=\"20\" src=\"https://s.pstatic.net/static/newsstand/2020/logo/light/0604/047.png\"/>,\n",
       " <img alt=\"스포츠조선\" class=\"news_logo\" height=\"20\" src=\"https://s.pstatic.net/static/newsstand/2020/logo/light/0604/076.png\"/>,\n",
       " <img alt=\"아이뉴스24\" class=\"news_logo\" height=\"20\" src=\"https://s.pstatic.net/static/newsstand/2020/logo/light/0604/031.png\"/>,\n",
       " <img alt=\"스포츠동아\" class=\"news_logo\" height=\"20\" src=\"https://s.pstatic.net/static/newsstand/2020/logo/light/0604/314.png\"/>,\n",
       " <img alt=\"코리아헤럴드\" class=\"news_logo\" height=\"20\" src=\"https://s.pstatic.net/static/newsstand/2020/logo/light/0604/044.png\"/>,\n",
       " <img alt=\"헤럴드경제\" class=\"news_logo\" height=\"20\" src=\"https://s.pstatic.net/static/newsstand/2020/logo/light/0604/016.png\"/>,\n",
       " <img alt=\"강원일보\" class=\"news_logo\" height=\"20\" src=\"https://s.pstatic.net/static/newsstand/2020/logo/light/0604/087.png\"/>,\n",
       " <img alt=\"전남일보\" class=\"news_logo\" height=\"20\" src=\"https://s.pstatic.net/static/newsstand/2020/logo/light/0604/388.png\"/>,\n",
       " <img alt=\"매일신문\" class=\"news_logo\" height=\"20\" src=\"https://s.pstatic.net/static/newsstand/2020/logo/light/0604/088.png\"/>,\n",
       " <img alt=\"이코노미스트\" class=\"news_logo\" height=\"20\" src=\"https://s.pstatic.net/static/newsstand/2020/logo/light/0604/243.png\"/>,\n",
       " <img alt=\"디지털데일리\" class=\"news_logo\" height=\"20\" src=\"https://s.pstatic.net/static/newsstand/2020/logo/light/0604/138.png\"/>,\n",
       " <img alt=\"허프포스트코리아\" class=\"news_logo\" height=\"20\" src=\"https://s.pstatic.net/static/newsstand/2020/logo/light/0604/993.png\"/>,\n",
       " <img alt=\"매경이코노미\" class=\"news_logo\" height=\"20\" src=\"https://s.pstatic.net/static/newsstand/2020/logo/light/0604/024.png\"/>,\n",
       " <img alt=\"OBS\" class=\"news_logo\" height=\"20\" src=\"https://s.pstatic.net/static/newsstand/2020/logo/light/0604/340.png\"/>,\n",
       " <img alt=\"인민망\" class=\"news_logo\" height=\"20\" src=\"https://s.pstatic.net/static/newsstand/2020/logo/light/0604/923.png\"/>,\n",
       " <img alt=\"신작 &lt;오늘의 비너스&gt; 1화 바로보기\" data-src=\"https://s.pstatic.net/static/www/mobile/edit/20220422/cropImg_728x360_92554609271117519.jpeg\" height=\"180\" onerror=\"this.outerHTML='&lt;span class=\\'pm_noimg\\'&gt;&lt;span class=\\'noimg_text\\'&gt;이미지 준비중&lt;/span&gt;&lt;/span&gt;'\" src=\"https://s.pstatic.net/static/www/mobile/edit/20220422/cropImg_728x360_92554609271117519.jpeg\" width=\"364\"/>,\n",
       " <img alt=\"월요웹툰 안 보는 사람 있나요?\" data-src=\"https://s.pstatic.net/static/www/mobile/edit/20220422/cropImg_196x196_92554961357060312.jpeg\" height=\"98\" onerror=\"this.outerHTML='&lt;span class=\\'pm_noimg\\'&gt;&lt;span class=\\'noimg_text\\'&gt;이미지 준비중&lt;/span&gt;&lt;/span&gt;'\" src=\"https://s.pstatic.net/static/www/mobile/edit/20220422/cropImg_196x196_92554961357060312.jpeg\" width=\"98\"/>,\n",
       " <img alt=\"사부님, 이제는 \" data-src=\"https://s.pstatic.net/static/www/mobile/edit/20220422/cropImg_196x196_92554992179913072.jpeg\" height=\"98\" onerror=\"this.outerHTML='&lt;span class=\\'pm_noimg\\'&gt;&lt;span class=\\'noimg_text\\'&gt;이미지 준비중&lt;/span&gt;&lt;/span&gt;'\" src=\"https://s.pstatic.net/static/www/mobile/edit/20220422/cropImg_196x196_92554992179913072.jpeg\" width=\"98\"/>,\n",
       " <img alt=\"나는 혼자가 아니오. \" data-src=\"https://s.pstatic.net/static/www/mobile/edit/20220422/cropImg_196x196_92555035018236132.jpeg\" height=\"98\" onerror=\"this.outerHTML='&lt;span class=\\'pm_noimg\\'&gt;&lt;span class=\\'noimg_text\\'&gt;이미지 준비중&lt;/span&gt;&lt;/span&gt;'\" src=\"https://s.pstatic.net/static/www/mobile/edit/20220422/cropImg_196x196_92555035018236132.jpeg\" width=\"98\"/>,\n",
       " <img alt=\"\" height=\"50\" onerror=\"this.outerHTML='&lt;span class=\\'pm_noimg_s\\'&gt;&lt;span class=\\'blind\\'&gt;이미지 준비중&lt;/span&gt;&lt;/span&gt;'\" src=\"https://s.pstatic.net/dthumb.phinf/?src=%22https%3A%2F%2Fshared-comic.pstatic.net%2Fthumb%2Fwebtoon%2F758037%2Fthumbnail%2Fthumbnail_IMAG19_67290a02-fe7f-448d-aed9-6ec88e558088.jpg%22&amp;type=navermain_n100_100\" width=\"50\"/>,\n",
       " <img alt=\"\" height=\"50\" onerror=\"this.outerHTML='&lt;span class=\\'pm_noimg_s\\'&gt;&lt;span class=\\'blind\\'&gt;이미지 준비중&lt;/span&gt;&lt;/span&gt;'\" src=\"https://s.pstatic.net/dthumb.phinf/?src=%22https%3A%2F%2Fshared-comic.pstatic.net%2Fthumb%2Fwebtoon%2F783052%2Fthumbnail%2Fthumbnail_IMAG19_d78070dc-5d7f-4c71-b1f4-669182391a3e.jpg%22&amp;type=navermain_n100_100\" width=\"50\"/>,\n",
       " <img alt=\"\" height=\"50\" onerror=\"this.outerHTML='&lt;span class=\\'pm_noimg_s\\'&gt;&lt;span class=\\'blind\\'&gt;이미지 준비중&lt;/span&gt;&lt;/span&gt;'\" src=\"https://s.pstatic.net/dthumb.phinf/?src=%22https%3A%2F%2Fshared-comic.pstatic.net%2Fthumb%2Fwebtoon%2F602910%2Fthumbnail%2Fthumbnail_IMAG19_8057e22e-fb78-4c74-a009-d7356f74f14c.jpg%22&amp;type=navermain_n100_100\" width=\"50\"/>,\n",
       " <img alt=\"\" height=\"50\" onerror=\"this.outerHTML='&lt;span class=\\'pm_noimg_s\\'&gt;&lt;span class=\\'blind\\'&gt;이미지 준비중&lt;/span&gt;&lt;/span&gt;'\" src=\"https://s.pstatic.net/dthumb.phinf/?src=%22https%3A%2F%2Fshared-comic.pstatic.net%2Fthumb%2Fwebtoon%2F733074%2Fthumbnail%2Fthumbnail_IMAG19_1fee0ed7-afb3-4b11-9547-e8a4a1340740.jpg%22&amp;type=navermain_n100_100\" width=\"50\"/>,\n",
       " <img alt=\"\" height=\"50\" onerror=\"this.outerHTML='&lt;span class=\\'pm_noimg_s\\'&gt;&lt;span class=\\'blind\\'&gt;이미지 준비중&lt;/span&gt;&lt;/span&gt;'\" src=\"https://s.pstatic.net/dthumb.phinf/?src=%22https%3A%2F%2Fshared-comic.pstatic.net%2Fthumb%2Fwebtoon%2F654774%2Fthumbnail%2Fthumbnail_IMAG19_c0ee61e4-52d7-4064-b911-3ea471d637f4.jpg%22&amp;type=navermain_n100_100\" width=\"50\"/>,\n",
       " <img alt=\"\" height=\"50\" onerror=\"this.outerHTML='&lt;span class=\\'pm_noimg_s\\'&gt;&lt;span class=\\'blind\\'&gt;이미지 준비중&lt;/span&gt;&lt;/span&gt;'\" src=\"https://s.pstatic.net/dthumb.phinf/?src=%22https%3A%2F%2Fshared-comic.pstatic.net%2Fthumb%2Fwebtoon%2F648419%2Fthumbnail%2Fthumbnail_IMAG19_14aedc9f-792e-4bdd-b462-bd55087ad096.jpg%22&amp;type=navermain_n100_100\" width=\"50\"/>,\n",
       " <img alt=\"\" height=\"50\" onerror=\"this.outerHTML='&lt;span class=\\'pm_noimg_s\\'&gt;&lt;span class=\\'blind\\'&gt;이미지 준비중&lt;/span&gt;&lt;/span&gt;'\" src=\"https://s.pstatic.net/dthumb.phinf/?src=%22https%3A%2F%2Fshared-comic.pstatic.net%2Fthumb%2Fwebtoon%2F183559%2Fthumbnail%2Fthumbnail_IMAG19_d2896e3f-1775-4717-a6a6-8a84fd508226.jpg%22&amp;type=navermain_n100_100\" width=\"50\"/>,\n",
       " <img alt=\"\" height=\"50\" onerror=\"this.outerHTML='&lt;span class=\\'pm_noimg_s\\'&gt;&lt;span class=\\'blind\\'&gt;이미지 준비중&lt;/span&gt;&lt;/span&gt;'\" src=\"https://s.pstatic.net/dthumb.phinf/?src=%22https%3A%2F%2Fshared-comic.pstatic.net%2Fthumb%2Fwebtoon%2F774863%2Fthumbnail%2Fthumbnail_IMAG19_85a44927-ccf8-47c1-b0ab-5a63c0f04ce4.jpg%22&amp;type=navermain_n100_100\" width=\"50\"/>,\n",
       " <img alt=\"\" height=\"50\" onerror=\"this.outerHTML='&lt;span class=\\'pm_noimg_s\\'&gt;&lt;span class=\\'blind\\'&gt;이미지 준비중&lt;/span&gt;&lt;/span&gt;'\" src=\"https://s.pstatic.net/dthumb.phinf/?src=%22https%3A%2F%2Fshared-comic.pstatic.net%2Fthumb%2Fwebtoon%2F703849%2Fthumbnail%2Fthumbnail_IMAG19_82586650-587d-408c-9fb7-2932262ee8a7.jpg%22&amp;type=navermain_n100_100\" width=\"50\"/>,\n",
       " <img alt=\"\" height=\"50\" onerror=\"this.outerHTML='&lt;span class=\\'pm_noimg_s\\'&gt;&lt;span class=\\'blind\\'&gt;이미지 준비중&lt;/span&gt;&lt;/span&gt;'\" src=\"https://s.pstatic.net/dthumb.phinf/?src=%22https%3A%2F%2Fshared-comic.pstatic.net%2Fthumb%2Fwebtoon%2F728750%2Fthumbnail%2Fthumbnail_IMAG19_330fd93c-d370-4d74-b4a8-bae5af6d0d61.jpg%22&amp;type=navermain_n100_100\" width=\"50\"/>,\n",
       " <img alt=\"\" height=\"54\" onerror=\"this.outerHTML='&lt;span class=\\'pm_noimg_s\\'&gt;&lt;span class=\\'blind\\'&gt;이미지 준비중&lt;/span&gt;&lt;/span&gt;'\" src=\"https://s.pstatic.net/dthumb.phinf/?src=%22https%3A%2F%2Fcomicthumb-phinf.pstatic.net%2F20191018_140%2Fpocket_1571376484417WcBDT_JPEG%2F-_.jpg%22&amp;type=navermain_n76_108\" width=\"38\"/>,\n",
       " <img alt=\"\" height=\"54\" onerror=\"this.outerHTML='&lt;span class=\\'pm_noimg_s\\'&gt;&lt;span class=\\'blind\\'&gt;이미지 준비중&lt;/span&gt;&lt;/span&gt;'\" src=\"https://s.pstatic.net/dthumb.phinf/?src=%22https%3A%2F%2Fcomicthumb-phinf.pstatic.net%2F20211110_119%2Fpocket_1636521259638stwnq_JPEG%2F427931_12_w.jpg%22&amp;type=navermain_n76_108\" width=\"38\"/>,\n",
       " <img alt=\"\" height=\"54\" onerror=\"this.outerHTML='&lt;span class=\\'pm_noimg_s\\'&gt;&lt;span class=\\'blind\\'&gt;이미지 준비중&lt;/span&gt;&lt;/span&gt;'\" src=\"https://s.pstatic.net/dthumb.phinf/?src=%22https%3A%2F%2Fcomicthumb-phinf.pstatic.net%2F20220418_285%2Fpocket_16502413309585ev2T_JPEG%2Fimage.JPEG%22&amp;type=navermain_n76_108\" width=\"38\"/>,\n",
       " <img alt=\"\" height=\"54\" onerror=\"this.outerHTML='&lt;span class=\\'pm_noimg_s\\'&gt;&lt;span class=\\'blind\\'&gt;이미지 준비중&lt;/span&gt;&lt;/span&gt;'\" src=\"https://s.pstatic.net/dthumb.phinf/?src=%22https%3A%2F%2Fcomicthumb-phinf.pstatic.net%2F20210730_276%2Fpocket_1627613698107iTNBd_JPEG%2F_%25284%2529.jpg%22&amp;type=navermain_n76_108\" width=\"38\"/>,\n",
       " <img alt=\"\" height=\"54\" onerror=\"this.outerHTML='&lt;span class=\\'pm_noimg_s\\'&gt;&lt;span class=\\'blind\\'&gt;이미지 준비중&lt;/span&gt;&lt;/span&gt;'\" src=\"https://s.pstatic.net/dthumb.phinf/?src=%22https%3A%2F%2Fcomicthumb-phinf.pstatic.net%2F20200909_236%2Fpocket_1599642879411P9IdK_JPEG%2F_.jpg%22&amp;type=navermain_n76_108\" width=\"38\"/>,\n",
       " <img alt=\"\" height=\"54\" onerror=\"this.outerHTML='&lt;span class=\\'pm_noimg_s\\'&gt;&lt;span class=\\'blind\\'&gt;이미지 준비중&lt;/span&gt;&lt;/span&gt;'\" src=\"https://s.pstatic.net/dthumb.phinf/?src=%22https%3A%2F%2Fcomicthumb-phinf.pstatic.net%2F20201104_181%2Fpocket_1604475520593wvaLc_JPEG%2F___.jpg%22&amp;type=navermain_n76_108\" width=\"38\"/>,\n",
       " <img alt=\"\" height=\"54\" onerror=\"this.outerHTML='&lt;span class=\\'pm_noimg_s\\'&gt;&lt;span class=\\'blind\\'&gt;이미지 준비중&lt;/span&gt;&lt;/span&gt;'\" src=\"https://s.pstatic.net/dthumb.phinf/?src=%22https%3A%2F%2Fcomicthumb-phinf.pstatic.net%2F20210122_8%2Fpocket_1611291180243hOcm3_JPEG%2F--.jpg%22&amp;type=navermain_n76_108\" width=\"38\"/>,\n",
       " <img alt=\"\" height=\"54\" onerror=\"this.outerHTML='&lt;span class=\\'pm_noimg_s\\'&gt;&lt;span class=\\'blind\\'&gt;이미지 준비중&lt;/span&gt;&lt;/span&gt;'\" src=\"https://s.pstatic.net/dthumb.phinf/?src=%22https%3A%2F%2Fcomicthumb-phinf.pstatic.net%2F20190325_297%2Fpocket_1553525262144cfdPJ_JPEG%2Funtitled.jpg%22&amp;type=navermain_n76_108\" width=\"38\"/>,\n",
       " <img alt=\"\" height=\"54\" onerror=\"this.outerHTML='&lt;span class=\\'pm_noimg_s\\'&gt;&lt;span class=\\'blind\\'&gt;이미지 준비중&lt;/span&gt;&lt;/span&gt;'\" src=\"https://s.pstatic.net/dthumb.phinf/?src=%22https%3A%2F%2Fcomicthumb-phinf.pstatic.net%2F20190619_175%2Fpocket_1560948645965kaEIu_JPEG%2F0.jpg%22&amp;type=navermain_n76_108\" width=\"38\"/>,\n",
       " <img alt=\"\" height=\"54\" onerror=\"this.outerHTML='&lt;span class=\\'pm_noimg_s\\'&gt;&lt;span class=\\'blind\\'&gt;이미지 준비중&lt;/span&gt;&lt;/span&gt;'\" src=\"https://s.pstatic.net/dthumb.phinf/?src=%22https%3A%2F%2Fcomicthumb-phinf.pstatic.net%2F20210507_28%2Fpocket_16203283146294JEqu_JPEG%2Fcover.jpg%22&amp;type=navermain_n76_108\" width=\"38\"/>,\n",
       " <img alt=\"\" height=\"54\" onerror=\"this.outerHTML='&lt;span class=\\'pm_noimg_s\\'&gt;&lt;span class=\\'blind\\'&gt;이미지 준비중&lt;/span&gt;&lt;/span&gt;'\" src=\"https://s.pstatic.net/dthumb.phinf/?src=%22https%3A%2F%2Fcomicthumb-phinf.pstatic.net%2F20201104_168%2Fpocket_1604471269389drGo1_JPEG%2F__690X805.jpg%22&amp;type=navermain_n76_108\" width=\"38\"/>,\n",
       " <img alt=\"\" height=\"54\" onerror=\"this.outerHTML='&lt;span class=\\'pm_noimg_s\\'&gt;&lt;span class=\\'blind\\'&gt;이미지 준비중&lt;/span&gt;&lt;/span&gt;'\" src=\"https://s.pstatic.net/dthumb.phinf/?src=%22https%3A%2F%2Fcomicthumb-phinf.pstatic.net%2F20210514_219%2Fpocket_1620979387001SQOOD_JPEG%2F__650x758.jpg%22&amp;type=navermain_n76_108\" width=\"38\"/>,\n",
       " <img alt=\"\" height=\"54\" onerror=\"this.outerHTML='&lt;span class=\\'pm_noimg_s\\'&gt;&lt;span class=\\'blind\\'&gt;이미지 준비중&lt;/span&gt;&lt;/span&gt;'\" src=\"https://s.pstatic.net/dthumb.phinf/?src=%22https%3A%2F%2Fcomicthumb-phinf.pstatic.net%2F20191125_181%2Fpocket_1574644635626jTtM7_JPEG%2F__.jpg%22&amp;type=navermain_n76_108\" width=\"38\"/>,\n",
       " <img alt=\"\" height=\"54\" onerror=\"this.outerHTML='&lt;span class=\\'pm_noimg_s\\'&gt;&lt;span class=\\'blind\\'&gt;이미지 준비중&lt;/span&gt;&lt;/span&gt;'\" src=\"https://s.pstatic.net/dthumb.phinf/?src=%22https%3A%2F%2Fcomicthumb-phinf.pstatic.net%2F20211022_229%2Fpocket_1634897827842fpykX_JPEG%2F%25BD%25C3%25B8%25AE%25C1%25EE_%25C7%25A5%25C1%25F6_650x758.jpg%22&amp;type=navermain_n76_108\" width=\"38\"/>,\n",
       " <img alt=\"\" height=\"54\" onerror=\"this.outerHTML='&lt;span class=\\'pm_noimg_s\\'&gt;&lt;span class=\\'blind\\'&gt;이미지 준비중&lt;/span&gt;&lt;/span&gt;'\" src=\"https://s.pstatic.net/dthumb.phinf/?src=%22https%3A%2F%2Fcomicthumb-phinf.pstatic.net%2F20220221_69%2Fpocket_1645385084956MyQ4H_JPEG%2F%25BA%25E4%25B1%25BA_%25B9%25CC%25B8%25AE%25BA%25B8%25B1%25E2_758_%25281%2529.JPG%22&amp;type=navermain_n76_108\" width=\"38\"/>,\n",
       " <img alt=\"\" height=\"54\" onerror=\"this.outerHTML='&lt;span class=\\'pm_noimg_s\\'&gt;&lt;span class=\\'blind\\'&gt;이미지 준비중&lt;/span&gt;&lt;/span&gt;'\" src=\"https://s.pstatic.net/dthumb.phinf/?src=%22https%3A%2F%2Fcomicthumb-phinf.pstatic.net%2F20191115_183%2Fpocket_1573808306445XFvXz_JPEG%2F___690-1000.jpg%22&amp;type=navermain_n76_108\" width=\"38\"/>,\n",
       " <img alt=\"\" height=\"54\" onerror=\"this.outerHTML='&lt;span class=\\'pm_noimg_s\\'&gt;&lt;span class=\\'blind\\'&gt;이미지 준비중&lt;/span&gt;&lt;/span&gt;'\" src=\"https://s.pstatic.net/dthumb.phinf/?src=%22https%3A%2F%2Fcomicthumb-phinf.pstatic.net%2F20200814_299%2Fpocket_1597406388173O2ojz_JPEG%2F300x430.jpg%22&amp;type=navermain_n76_108\" width=\"38\"/>,\n",
       " <img alt=\"\" height=\"54\" onerror=\"this.outerHTML='&lt;span class=\\'pm_noimg_s\\'&gt;&lt;span class=\\'blind\\'&gt;이미지 준비중&lt;/span&gt;&lt;/span&gt;'\" src=\"https://s.pstatic.net/dthumb.phinf/?src=%22https%3A%2F%2Fcomicthumb-phinf.pstatic.net%2F20200601_189%2Fpocket_1591001490793bfHEC_JPEG%2Fimage.JPEG%22&amp;type=navermain_n76_108\" width=\"38\"/>,\n",
       " <img alt=\"\" height=\"54\" onerror=\"this.outerHTML='&lt;span class=\\'pm_noimg_s\\'&gt;&lt;span class=\\'blind\\'&gt;이미지 준비중&lt;/span&gt;&lt;/span&gt;'\" src=\"https://s.pstatic.net/dthumb.phinf/?src=%22https%3A%2F%2Fcomicthumb-phinf.pstatic.net%2F20170314_10%2Fpocket_1489467220338ooh7R_JPEG%2Fimage.JPEG%22&amp;type=navermain_n76_108\" width=\"38\"/>,\n",
       " <img alt=\"\" height=\"54\" onerror=\"this.outerHTML='&lt;span class=\\'pm_noimg_s\\'&gt;&lt;span class=\\'blind\\'&gt;이미지 준비중&lt;/span&gt;&lt;/span&gt;'\" src=\"https://s.pstatic.net/dthumb.phinf/?src=%22https%3A%2F%2Fcomicthumb-phinf.pstatic.net%2F20170406_105%2Fpocket_1491466098694tkVQ6_JPEG%2F001.jpg%22&amp;type=navermain_n76_108\" width=\"38\"/>,\n",
       " <img alt=\"\" height=\"50\" onerror=\"this.outerHTML='&lt;span class=\\'pm_noimg_s\\'&gt;&lt;span class=\\'blind\\'&gt;이미지 준비중&lt;/span&gt;&lt;/span&gt;'\" src=\"https://s.pstatic.net/dthumb.phinf/?src=%22https%3A%2F%2Fnovel-phinf.pstatic.net%2F20210428_55%2Fnovel_1619588203068xgKqT_JPEG%2F320%252B320.jpg%22&amp;type=navermain_n100_100\" width=\"50\"/>,\n",
       " <img alt=\"\" height=\"50\" onerror=\"this.outerHTML='&lt;span class=\\'pm_noimg_s\\'&gt;&lt;span class=\\'blind\\'&gt;이미지 준비중&lt;/span&gt;&lt;/span&gt;'\" src=\"https://s.pstatic.net/dthumb.phinf/?src=%22https%3A%2F%2Fnovel-phinf.pstatic.net%2F20200226_172%2Fnovel_1582709354644OqWSN_JPEG%2F3202B320.jpg%22&amp;type=navermain_n100_100\" width=\"50\"/>,\n",
       " <img alt=\"\" height=\"50\" onerror=\"this.outerHTML='&lt;span class=\\'pm_noimg_s\\'&gt;&lt;span class=\\'blind\\'&gt;이미지 준비중&lt;/span&gt;&lt;/span&gt;'\" src=\"https://s.pstatic.net/dthumb.phinf/?src=%22https%3A%2F%2Fnovel-phinf.pstatic.net%2F20210729_233%2Fnovel_1627552110410lf2fB_JPEG%2F320%252B320.jpg%22&amp;type=navermain_n100_100\" width=\"50\"/>,\n",
       " <img alt=\"\" height=\"50\" onerror=\"this.outerHTML='&lt;span class=\\'pm_noimg_s\\'&gt;&lt;span class=\\'blind\\'&gt;이미지 준비중&lt;/span&gt;&lt;/span&gt;'\" src=\"https://s.pstatic.net/dthumb.phinf/?src=%22https%3A%2F%2Fnovel-phinf.pstatic.net%2F20200925_55%2Fnovel_160101985706876LCE_JPEG%2F320%252B320.jpg%22&amp;type=navermain_n100_100\" width=\"50\"/>,\n",
       " <img alt=\"\" height=\"50\" onerror=\"this.outerHTML='&lt;span class=\\'pm_noimg_s\\'&gt;&lt;span class=\\'blind\\'&gt;이미지 준비중&lt;/span&gt;&lt;/span&gt;'\" src=\"https://s.pstatic.net/dthumb.phinf/?src=%22https%3A%2F%2Fnovel-phinf.pstatic.net%2F20210428_297%2Fnovel_1619587437337JkkbI_JPEG%2F320%252B320.jpg%22&amp;type=navermain_n100_100\" width=\"50\"/>,\n",
       " <img alt=\"\" height=\"50\" onerror=\"this.outerHTML='&lt;span class=\\'pm_noimg_s\\'&gt;&lt;span class=\\'blind\\'&gt;이미지 준비중&lt;/span&gt;&lt;/span&gt;'\" src=\"https://s.pstatic.net/dthumb.phinf/?src=%22https%3A%2F%2Fnovel-phinf.pstatic.net%2F20201127_246%2Fnovel_1606471202696L5jFX_JPEG%2F320x320.jpg%22&amp;type=navermain_n100_100\" width=\"50\"/>,\n",
       " <img alt=\"\" height=\"50\" onerror=\"this.outerHTML='&lt;span class=\\'pm_noimg_s\\'&gt;&lt;span class=\\'blind\\'&gt;이미지 준비중&lt;/span&gt;&lt;/span&gt;'\" src=\"https://s.pstatic.net/dthumb.phinf/?src=%22https%3A%2F%2Fnovel-phinf.pstatic.net%2F20210630_44%2Fnovel_16250492604789wgGh_JPEG%2F320%252B320.jpg%22&amp;type=navermain_n100_100\" width=\"50\"/>,\n",
       " <img alt=\"\" height=\"50\" onerror=\"this.outerHTML='&lt;span class=\\'pm_noimg_s\\'&gt;&lt;span class=\\'blind\\'&gt;이미지 준비중&lt;/span&gt;&lt;/span&gt;'\" src=\"https://s.pstatic.net/dthumb.phinf/?src=%22https%3A%2F%2Fnovel-phinf.pstatic.net%2F20210826_156%2Fnovel_1629946087113oi0dA_JPEG%2F320%252B320.jpg%22&amp;type=navermain_n100_100\" width=\"50\"/>,\n",
       " <img alt=\"\" height=\"50\" onerror=\"this.outerHTML='&lt;span class=\\'pm_noimg_s\\'&gt;&lt;span class=\\'blind\\'&gt;이미지 준비중&lt;/span&gt;&lt;/span&gt;'\" src=\"https://s.pstatic.net/dthumb.phinf/?src=%22https%3A%2F%2Fnovel-phinf.pstatic.net%2F20210331_51%2Fnovel_1617157156384YSn6z_JPEG%2F320%252B320.jpg%22&amp;type=navermain_n100_100\" width=\"50\"/>,\n",
       " <img alt=\"\" height=\"50\" onerror=\"this.outerHTML='&lt;span class=\\'pm_noimg_s\\'&gt;&lt;span class=\\'blind\\'&gt;이미지 준비중&lt;/span&gt;&lt;/span&gt;'\" src=\"https://s.pstatic.net/dthumb.phinf/?src=%22https%3A%2F%2Fnovel-phinf.pstatic.net%2F20210630_152%2Fnovel_1625049091159nbJO4_JPEG%2F320%252B320.jpg%22&amp;type=navermain_n100_100\" width=\"50\"/>,\n",
       " <img alt=\"\" data-src=\"https://s.pstatic.net/dthumb.phinf/?src=%22https%3A%2F%2Fs.pstatic.net%2Fstatic%2Fwww%2Fmobile%2Fedit%2F20220405_1095%2Fupload_1649152325776W4rMU.jpg%22&amp;type=nf464_260\" height=\"130\" onerror=\"this.outerHTML='&lt;span class=\\'pm_noimg\\'&gt;&lt;span class=\\'noimg_text\\'&gt;이미지 준비중&lt;/span&gt;&lt;/span&gt;'\" src=\"https://s.pstatic.net/dthumb.phinf/?src=%22https%3A%2F%2Fs.pstatic.net%2Fstatic%2Fwww%2Fmobile%2Fedit%2F20220405_1095%2Fupload_1649152325776W4rMU.jpg%22&amp;type=nf464_260\" width=\"232\"/>,\n",
       " <img alt=\"\" data-src=\"https://s.pstatic.net/dthumb.phinf/?src=%22https%3A%2F%2Fs.pstatic.net%2Fstatic%2Fwww%2Fmobile%2Fedit%2F20220403_1095%2Fupload_1648911905755WlepH.jpg%22&amp;type=nf464_260\" height=\"130\" onerror=\"this.outerHTML='&lt;span class=\\'pm_noimg\\'&gt;&lt;span class=\\'noimg_text\\'&gt;이미지 준비중&lt;/span&gt;&lt;/span&gt;'\" src=\"https://s.pstatic.net/dthumb.phinf/?src=%22https%3A%2F%2Fs.pstatic.net%2Fstatic%2Fwww%2Fmobile%2Fedit%2F20220403_1095%2Fupload_1648911905755WlepH.jpg%22&amp;type=nf464_260\" width=\"232\"/>,\n",
       " <img alt=\"\" data-src=\"https://s.pstatic.net/dthumb.phinf/?src=%22https%3A%2F%2Fs.pstatic.net%2Fstatic%2Fwww%2Fmobile%2Fedit%2F20220331_1095%2Fupload_16487158245135fmU6.jpg%22&amp;type=nf464_260\" height=\"130\" onerror=\"this.outerHTML='&lt;span class=\\'pm_noimg\\'&gt;&lt;span class=\\'noimg_text\\'&gt;이미지 준비중&lt;/span&gt;&lt;/span&gt;'\" src=\"https://s.pstatic.net/dthumb.phinf/?src=%22https%3A%2F%2Fs.pstatic.net%2Fstatic%2Fwww%2Fmobile%2Fedit%2F20220331_1095%2Fupload_16487158245135fmU6.jpg%22&amp;type=nf464_260\" width=\"232\"/>,\n",
       " <img alt=\"\" data-src=\"https://s.pstatic.net/dthumb.phinf/?src=%22https%3A%2F%2Fs.pstatic.net%2Fstatic%2Fwww%2Fmobile%2Fedit%2F20220331_1095%2Fupload_1648715526070ECmdD.jpg%22&amp;type=nf464_260\" height=\"130\" onerror=\"this.outerHTML='&lt;span class=\\'pm_noimg\\'&gt;&lt;span class=\\'noimg_text\\'&gt;이미지 준비중&lt;/span&gt;&lt;/span&gt;'\" src=\"https://s.pstatic.net/dthumb.phinf/?src=%22https%3A%2F%2Fs.pstatic.net%2Fstatic%2Fwww%2Fmobile%2Fedit%2F20220331_1095%2Fupload_1648715526070ECmdD.jpg%22&amp;type=nf464_260\" width=\"232\"/>,\n",
       " <img alt=\"\" data-src=\"https://s.pstatic.net/dthumb.phinf/?src=%22https%3A%2F%2Fs.pstatic.net%2Fstatic%2Fwww%2Fmobile%2Fedit%2F20220331_1095%2Fupload_1648714734169rtOXZ.jpg%22&amp;type=nf464_260\" height=\"130\" onerror=\"this.outerHTML='&lt;span class=\\'pm_noimg\\'&gt;&lt;span class=\\'noimg_text\\'&gt;이미지 준비중&lt;/span&gt;&lt;/span&gt;'\" src=\"https://s.pstatic.net/dthumb.phinf/?src=%22https%3A%2F%2Fs.pstatic.net%2Fstatic%2Fwww%2Fmobile%2Fedit%2F20220331_1095%2Fupload_1648714734169rtOXZ.jpg%22&amp;type=nf464_260\" width=\"232\"/>,\n",
       " <img alt=\"\" data-src=\"https://s.pstatic.net/dthumb.phinf/?src=%22https%3A%2F%2Fs.pstatic.net%2Fstatic%2Fwww%2Fmobile%2Fedit%2F20220331_1095%2Fupload_16487155993226FkVw.jpg%22&amp;type=nf464_260\" height=\"130\" onerror=\"this.outerHTML='&lt;span class=\\'pm_noimg\\'&gt;&lt;span class=\\'noimg_text\\'&gt;이미지 준비중&lt;/span&gt;&lt;/span&gt;'\" src=\"https://s.pstatic.net/dthumb.phinf/?src=%22https%3A%2F%2Fs.pstatic.net%2Fstatic%2Fwww%2Fmobile%2Fedit%2F20220331_1095%2Fupload_16487155993226FkVw.jpg%22&amp;type=nf464_260\" width=\"232\"/>,\n",
       " <img alt=\"\" data-src=\"https://s.pstatic.net/dthumb.phinf/?src=%22https%3A%2F%2Fs.pstatic.net%2Fstatic%2Fwww%2Fmobile%2Fedit%2F20220330_1095%2Fupload_16486350599885SVdE.jpg%22&amp;type=nf464_260\" height=\"130\" onerror=\"this.outerHTML='&lt;span class=\\'pm_noimg\\'&gt;&lt;span class=\\'noimg_text\\'&gt;이미지 준비중&lt;/span&gt;&lt;/span&gt;'\" src=\"https://s.pstatic.net/dthumb.phinf/?src=%22https%3A%2F%2Fs.pstatic.net%2Fstatic%2Fwww%2Fmobile%2Fedit%2F20220330_1095%2Fupload_16486350599885SVdE.jpg%22&amp;type=nf464_260\" width=\"232\"/>,\n",
       " <img alt=\"\" data-src=\"https://s.pstatic.net/dthumb.phinf/?src=%22https%3A%2F%2Fs.pstatic.net%2Fstatic%2Fwww%2Fmobile%2Fedit%2F20220330_1095%2Fupload_1648633452370jcR6O.jpg%22&amp;type=nf464_260\" height=\"130\" onerror=\"this.outerHTML='&lt;span class=\\'pm_noimg\\'&gt;&lt;span class=\\'noimg_text\\'&gt;이미지 준비중&lt;/span&gt;&lt;/span&gt;'\" src=\"https://s.pstatic.net/dthumb.phinf/?src=%22https%3A%2F%2Fs.pstatic.net%2Fstatic%2Fwww%2Fmobile%2Fedit%2F20220330_1095%2Fupload_1648633452370jcR6O.jpg%22&amp;type=nf464_260\" width=\"232\"/>,\n",
       " <img alt=\"\" data-src=\"https://s.pstatic.net/dthumb.phinf/?src=%22https%3A%2F%2Fs.pstatic.net%2Fstatic%2Fwww%2Fmobile%2Fedit%2F20220330_1095%2Fupload_164863493868755bMk.jpg%22&amp;type=nf464_260\" height=\"130\" onerror=\"this.outerHTML='&lt;span class=\\'pm_noimg\\'&gt;&lt;span class=\\'noimg_text\\'&gt;이미지 준비중&lt;/span&gt;&lt;/span&gt;'\" src=\"https://s.pstatic.net/dthumb.phinf/?src=%22https%3A%2F%2Fs.pstatic.net%2Fstatic%2Fwww%2Fmobile%2Fedit%2F20220330_1095%2Fupload_164863493868755bMk.jpg%22&amp;type=nf464_260\" width=\"232\"/>,\n",
       " <img alt=\"\" data-src=\"https://s.pstatic.net/dthumb.phinf/?src=%22https%3A%2F%2Fs.pstatic.net%2Fstatic%2Fwww%2Fmobile%2Fedit%2F20220330_1095%2Fupload_1648633419129cKC2S.jpg%22&amp;type=nf464_260\" height=\"130\" onerror=\"this.outerHTML='&lt;span class=\\'pm_noimg\\'&gt;&lt;span class=\\'noimg_text\\'&gt;이미지 준비중&lt;/span&gt;&lt;/span&gt;'\" src=\"https://s.pstatic.net/dthumb.phinf/?src=%22https%3A%2F%2Fs.pstatic.net%2Fstatic%2Fwww%2Fmobile%2Fedit%2F20220330_1095%2Fupload_1648633419129cKC2S.jpg%22&amp;type=nf464_260\" width=\"232\"/>,\n",
       " <img alt=\"\" data-src=\"https://s.pstatic.net/dthumb.phinf/?src=%22https%3A%2F%2Fs.pstatic.net%2Fstatic%2Fwww%2Fmobile%2Fedit%2F20220330_1095%2Fupload_1648631220723LtX1s.jpg%22&amp;type=nf464_260\" height=\"130\" onerror=\"this.outerHTML='&lt;span class=\\'pm_noimg\\'&gt;&lt;span class=\\'noimg_text\\'&gt;이미지 준비중&lt;/span&gt;&lt;/span&gt;'\" src=\"https://s.pstatic.net/dthumb.phinf/?src=%22https%3A%2F%2Fs.pstatic.net%2Fstatic%2Fwww%2Fmobile%2Fedit%2F20220330_1095%2Fupload_1648631220723LtX1s.jpg%22&amp;type=nf464_260\" width=\"232\"/>,\n",
       " <img alt=\"\" data-src=\"https://s.pstatic.net/dthumb.phinf/?src=%22https%3A%2F%2Fs.pstatic.net%2Fstatic%2Fwww%2Fmobile%2Fedit%2F20220329_1095%2Fupload_1648546421340Qp9JU.jpg%22&amp;type=nf464_260\" height=\"130\" onerror=\"this.outerHTML='&lt;span class=\\'pm_noimg\\'&gt;&lt;span class=\\'noimg_text\\'&gt;이미지 준비중&lt;/span&gt;&lt;/span&gt;'\" src=\"https://s.pstatic.net/dthumb.phinf/?src=%22https%3A%2F%2Fs.pstatic.net%2Fstatic%2Fwww%2Fmobile%2Fedit%2F20220329_1095%2Fupload_1648546421340Qp9JU.jpg%22&amp;type=nf464_260\" width=\"232\"/>,\n",
       " <img alt=\"\" data-src=\"https://s.pstatic.net/dthumb.phinf/?src=%22https%3A%2F%2Fs.pstatic.net%2Fstatic%2Fwww%2Fmobile%2Fedit%2F20220329_1095%2Fupload_1648546628722DL6DL.jpg%22&amp;type=nf464_260\" height=\"130\" onerror=\"this.outerHTML='&lt;span class=\\'pm_noimg\\'&gt;&lt;span class=\\'noimg_text\\'&gt;이미지 준비중&lt;/span&gt;&lt;/span&gt;'\" src=\"https://s.pstatic.net/dthumb.phinf/?src=%22https%3A%2F%2Fs.pstatic.net%2Fstatic%2Fwww%2Fmobile%2Fedit%2F20220329_1095%2Fupload_1648546628722DL6DL.jpg%22&amp;type=nf464_260\" width=\"232\"/>,\n",
       " <img alt=\"\" data-src=\"https://s.pstatic.net/dthumb.phinf/?src=%22https%3A%2F%2Fs.pstatic.net%2Fstatic%2Fwww%2Fmobile%2Fedit%2F20220330_1095%2Fupload_1648627125229ObCT7.jpg%22&amp;type=nf464_260\" height=\"130\" onerror=\"this.outerHTML='&lt;span class=\\'pm_noimg\\'&gt;&lt;span class=\\'noimg_text\\'&gt;이미지 준비중&lt;/span&gt;&lt;/span&gt;'\" src=\"https://s.pstatic.net/dthumb.phinf/?src=%22https%3A%2F%2Fs.pstatic.net%2Fstatic%2Fwww%2Fmobile%2Fedit%2F20220330_1095%2Fupload_1648627125229ObCT7.jpg%22&amp;type=nf464_260\" width=\"232\"/>,\n",
       " <img alt=\"\" data-src=\"https://s.pstatic.net/dthumb.phinf/?src=%22https%3A%2F%2Fs.pstatic.net%2Fstatic%2Fwww%2Fmobile%2Fedit%2F20220329_1095%2Fupload_1648525888877n449x.jpg%22&amp;type=nf464_260\" height=\"130\" onerror=\"this.outerHTML='&lt;span class=\\'pm_noimg\\'&gt;&lt;span class=\\'noimg_text\\'&gt;이미지 준비중&lt;/span&gt;&lt;/span&gt;'\" src=\"https://s.pstatic.net/dthumb.phinf/?src=%22https%3A%2F%2Fs.pstatic.net%2Fstatic%2Fwww%2Fmobile%2Fedit%2F20220329_1095%2Fupload_1648525888877n449x.jpg%22&amp;type=nf464_260\" width=\"232\"/>,\n",
       " <img alt=\"\" data-src=\"https://s.pstatic.net/dthumb.phinf/?src=%22https%3A%2F%2Fs.pstatic.net%2Fstatic%2Fwww%2Fmobile%2Fedit%2F20220329_1095%2Fupload_1648525853478ZvBZh.jpg%22&amp;type=nf464_260\" height=\"130\" onerror=\"this.outerHTML='&lt;span class=\\'pm_noimg\\'&gt;&lt;span class=\\'noimg_text\\'&gt;이미지 준비중&lt;/span&gt;&lt;/span&gt;'\" src=\"https://s.pstatic.net/dthumb.phinf/?src=%22https%3A%2F%2Fs.pstatic.net%2Fstatic%2Fwww%2Fmobile%2Fedit%2F20220329_1095%2Fupload_1648525853478ZvBZh.jpg%22&amp;type=nf464_260\" width=\"232\"/>,\n",
       " <img alt=\"\" data-src=\"https://s.pstatic.net/dthumb.phinf/?src=%22https%3A%2F%2Fs.pstatic.net%2Fstatic%2Fwww%2Fmobile%2Fedit%2F20220328_1095%2Fupload_1648457243122NTFWq.jpg%22&amp;type=nf464_260\" height=\"130\" onerror=\"this.outerHTML='&lt;span class=\\'pm_noimg\\'&gt;&lt;span class=\\'noimg_text\\'&gt;이미지 준비중&lt;/span&gt;&lt;/span&gt;'\" src=\"https://s.pstatic.net/dthumb.phinf/?src=%22https%3A%2F%2Fs.pstatic.net%2Fstatic%2Fwww%2Fmobile%2Fedit%2F20220328_1095%2Fupload_1648457243122NTFWq.jpg%22&amp;type=nf464_260\" width=\"232\"/>,\n",
       " <img alt=\"\" data-src=\"https://s.pstatic.net/dthumb.phinf/?src=%22https%3A%2F%2Fs.pstatic.net%2Fstatic%2Fwww%2Fmobile%2Fedit%2F20220329_1095%2Fupload_16485351699375MWki.jpg%22&amp;type=nf464_260\" height=\"130\" onerror=\"this.outerHTML='&lt;span class=\\'pm_noimg\\'&gt;&lt;span class=\\'noimg_text\\'&gt;이미지 준비중&lt;/span&gt;&lt;/span&gt;'\" src=\"https://s.pstatic.net/dthumb.phinf/?src=%22https%3A%2F%2Fs.pstatic.net%2Fstatic%2Fwww%2Fmobile%2Fedit%2F20220329_1095%2Fupload_16485351699375MWki.jpg%22&amp;type=nf464_260\" width=\"232\"/>,\n",
       " <img alt=\"\" data-src=\"https://s.pstatic.net/dthumb.phinf/?src=%22https%3A%2F%2Fs.pstatic.net%2Fstatic%2Fwww%2Fmobile%2Fedit%2F20220328_1095%2Fupload_1648439962350ZgPYv.jpg%22&amp;type=nf464_260\" height=\"130\" onerror=\"this.outerHTML='&lt;span class=\\'pm_noimg\\'&gt;&lt;span class=\\'noimg_text\\'&gt;이미지 준비중&lt;/span&gt;&lt;/span&gt;'\" width=\"232\"/>,\n",
       " <img alt=\"\" data-src=\"https://s.pstatic.net/dthumb.phinf/?src=%22https%3A%2F%2Fs.pstatic.net%2Fstatic%2Fwww%2Fmobile%2Fedit%2F20220328_1095%2Fupload_1648439935518yJfTW.jpg%22&amp;type=nf464_260\" height=\"130\" onerror=\"this.outerHTML='&lt;span class=\\'pm_noimg\\'&gt;&lt;span class=\\'noimg_text\\'&gt;이미지 준비중&lt;/span&gt;&lt;/span&gt;'\" width=\"232\"/>,\n",
       " <img alt=\"\" data-src=\"https://s.pstatic.net/dthumb.phinf/?src=%22https%3A%2F%2Fs.pstatic.net%2Fstatic%2Fwww%2Fmobile%2Fedit%2F20220325_1095%2Fupload_1648203044377mYzuC.jpg%22&amp;type=nf464_260\" height=\"130\" onerror=\"this.outerHTML='&lt;span class=\\'pm_noimg\\'&gt;&lt;span class=\\'noimg_text\\'&gt;이미지 준비중&lt;/span&gt;&lt;/span&gt;'\" width=\"232\"/>,\n",
       " <img alt=\"\" data-src=\"https://s.pstatic.net/dthumb.phinf/?src=%22https%3A%2F%2Fs.pstatic.net%2Fstatic%2Fwww%2Fmobile%2Fedit%2F20220325_1095%2Fupload_1648203119325ilT7W.jpg%22&amp;type=nf464_260\" height=\"130\" onerror=\"this.outerHTML='&lt;span class=\\'pm_noimg\\'&gt;&lt;span class=\\'noimg_text\\'&gt;이미지 준비중&lt;/span&gt;&lt;/span&gt;'\" width=\"232\"/>,\n",
       " <img alt=\"\" data-src=\"https://s.pstatic.net/dthumb.phinf/?src=%22https%3A%2F%2Fs.pstatic.net%2Fstatic%2Fwww%2Fmobile%2Fedit%2F20220324_1095%2Fupload_1648112127896JZOaI.jpg%22&amp;type=nf464_260\" height=\"130\" onerror=\"this.outerHTML='&lt;span class=\\'pm_noimg\\'&gt;&lt;span class=\\'noimg_text\\'&gt;이미지 준비중&lt;/span&gt;&lt;/span&gt;'\" width=\"232\"/>,\n",
       " <img alt=\"\" data-src=\"https://s.pstatic.net/dthumb.phinf/?src=%22https%3A%2F%2Fs.pstatic.net%2Fstatic%2Fwww%2Fmobile%2Fedit%2F20220324_1095%2Fupload_1648112136501AcMnD.jpg%22&amp;type=nf464_260\" height=\"130\" onerror=\"this.outerHTML='&lt;span class=\\'pm_noimg\\'&gt;&lt;span class=\\'noimg_text\\'&gt;이미지 준비중&lt;/span&gt;&lt;/span&gt;'\" width=\"232\"/>,\n",
       " <img alt=\"\" data-src=\"https://s.pstatic.net/dthumb.phinf/?src=%22https%3A%2F%2Fs.pstatic.net%2Fstatic%2Fwww%2Fmobile%2Fedit%2F20220325_1095%2Fupload_1648202979353uy2Ya.jpg%22&amp;type=nf464_260\" height=\"130\" onerror=\"this.outerHTML='&lt;span class=\\'pm_noimg\\'&gt;&lt;span class=\\'noimg_text\\'&gt;이미지 준비중&lt;/span&gt;&lt;/span&gt;'\" width=\"232\"/>,\n",
       " <img alt=\"\" data-src=\"https://s.pstatic.net/dthumb.phinf/?src=%22https%3A%2F%2Fs.pstatic.net%2Fstatic%2Fwww%2Fmobile%2Fedit%2F20220325_1095%2Fupload_1648202863090Hbpoz.jpg%22&amp;type=nf464_260\" height=\"130\" onerror=\"this.outerHTML='&lt;span class=\\'pm_noimg\\'&gt;&lt;span class=\\'noimg_text\\'&gt;이미지 준비중&lt;/span&gt;&lt;/span&gt;'\" width=\"232\"/>,\n",
       " <img alt=\"\" data-src=\"https://s.pstatic.net/dthumb.phinf/?src=%22https%3A%2F%2Fs.pstatic.net%2Fstatic%2Fwww%2Fmobile%2Fedit%2F20220325_1095%2Fupload_1648203014982ORus1.jpg%22&amp;type=nf464_260\" height=\"130\" onerror=\"this.outerHTML='&lt;span class=\\'pm_noimg\\'&gt;&lt;span class=\\'noimg_text\\'&gt;이미지 준비중&lt;/span&gt;&lt;/span&gt;'\" width=\"232\"/>,\n",
       " <img alt=\"\" data-src=\"https://s.pstatic.net/dthumb.phinf/?src=%22https%3A%2F%2Fs.pstatic.net%2Fstatic%2Fwww%2Fmobile%2Fedit%2F20220324_1095%2Fupload_1648113157658azlNE.jpg%22&amp;type=nf464_260\" height=\"130\" onerror=\"this.outerHTML='&lt;span class=\\'pm_noimg\\'&gt;&lt;span class=\\'noimg_text\\'&gt;이미지 준비중&lt;/span&gt;&lt;/span&gt;'\" width=\"232\"/>,\n",
       " <img alt=\"\" data-src=\"https://s.pstatic.net/dthumb.phinf/?src=%22https%3A%2F%2Fs.pstatic.net%2Fstatic%2Fwww%2Fmobile%2Fedit%2F20220324_1095%2Fupload_1648113145533HztP5.jpg%22&amp;type=nf464_260\" height=\"130\" onerror=\"this.outerHTML='&lt;span class=\\'pm_noimg\\'&gt;&lt;span class=\\'noimg_text\\'&gt;이미지 준비중&lt;/span&gt;&lt;/span&gt;'\" width=\"232\"/>,\n",
       " <img alt=\"\" data-src=\"https://s.pstatic.net/dthumb.phinf/?src=%22https%3A%2F%2Fs.pstatic.net%2Fstatic%2Fwww%2Fmobile%2Fedit%2F20220325_1095%2Fupload_1648202637618vwRY6.jpg%22&amp;type=nf464_260\" height=\"130\" onerror=\"this.outerHTML='&lt;span class=\\'pm_noimg\\'&gt;&lt;span class=\\'noimg_text\\'&gt;이미지 준비중&lt;/span&gt;&lt;/span&gt;'\" width=\"232\"/>,\n",
       " <img alt=\"\" data-src=\"https://s.pstatic.net/dthumb.phinf/?src=%22https%3A%2F%2Fs.pstatic.net%2Fstatic%2Fwww%2Fmobile%2Fedit%2F20220325_1095%2Fupload_1648202526263LRRpu.jpg%22&amp;type=nf464_260\" height=\"130\" onerror=\"this.outerHTML='&lt;span class=\\'pm_noimg\\'&gt;&lt;span class=\\'noimg_text\\'&gt;이미지 준비중&lt;/span&gt;&lt;/span&gt;'\" width=\"232\"/>,\n",
       " <img alt=\"\" data-src=\"https://s.pstatic.net/dthumb.phinf/?src=%22https%3A%2F%2Fs.pstatic.net%2Fstatic%2Fwww%2Fmobile%2Fedit%2F20220324_1095%2Fupload_1648117214949EkajI.jpg%22&amp;type=nf464_260\" height=\"130\" onerror=\"this.outerHTML='&lt;span class=\\'pm_noimg\\'&gt;&lt;span class=\\'noimg_text\\'&gt;이미지 준비중&lt;/span&gt;&lt;/span&gt;'\" width=\"232\"/>,\n",
       " <img alt=\"\" data-src=\"https://s.pstatic.net/dthumb.phinf/?src=%22https%3A%2F%2Fs.pstatic.net%2Fstatic%2Fwww%2Fmobile%2Fedit%2F20220324_1095%2Fupload_1648117261774oOeN5.jpg%22&amp;type=nf464_260\" height=\"130\" onerror=\"this.outerHTML='&lt;span class=\\'pm_noimg\\'&gt;&lt;span class=\\'noimg_text\\'&gt;이미지 준비중&lt;/span&gt;&lt;/span&gt;'\" width=\"232\"/>,\n",
       " <img alt=\"\" data-src=\"https://s.pstatic.net/dthumb.phinf/?src=%22https%3A%2F%2Fs.pstatic.net%2Fstatic%2Fwww%2Fmobile%2Fedit%2F20220325_1095%2Fupload_1648202751581uRIPK.jpg%22&amp;type=nf464_260\" height=\"130\" onerror=\"this.outerHTML='&lt;span class=\\'pm_noimg\\'&gt;&lt;span class=\\'noimg_text\\'&gt;이미지 준비중&lt;/span&gt;&lt;/span&gt;'\" width=\"232\"/>,\n",
       " <img alt=\"\" data-src=\"https://s.pstatic.net/dthumb.phinf/?src=%22https%3A%2F%2Fs.pstatic.net%2Fstatic%2Fwww%2Fmobile%2Fedit%2F20220325_1095%2Fupload_16482028406614p14Y.jpg%22&amp;type=nf464_260\" height=\"130\" onerror=\"this.outerHTML='&lt;span class=\\'pm_noimg\\'&gt;&lt;span class=\\'noimg_text\\'&gt;이미지 준비중&lt;/span&gt;&lt;/span&gt;'\" width=\"232\"/>,\n",
       " <img alt=\"\" data-src=\"https://s.pstatic.net/dthumb.phinf/?src=%22https%3A%2F%2Fs.pstatic.net%2Fstatic%2Fwww%2Fmobile%2Fedit%2F20220325_1095%2Fupload_1648202627769Mqod3.jpg%22&amp;type=nf464_260\" height=\"130\" onerror=\"this.outerHTML='&lt;span class=\\'pm_noimg\\'&gt;&lt;span class=\\'noimg_text\\'&gt;이미지 준비중&lt;/span&gt;&lt;/span&gt;'\" width=\"232\"/>,\n",
       " <img alt=\"\" data-src=\"https://s.pstatic.net/dthumb.phinf/?src=%22https%3A%2F%2Fs.pstatic.net%2Fstatic%2Fwww%2Fmobile%2Fedit%2F20220325_1095%2Fupload_1648202933791U02Ku.jpg%22&amp;type=nf464_260\" height=\"130\" onerror=\"this.outerHTML='&lt;span class=\\'pm_noimg\\'&gt;&lt;span class=\\'noimg_text\\'&gt;이미지 준비중&lt;/span&gt;&lt;/span&gt;'\" width=\"232\"/>,\n",
       " <img alt=\"\" data-src=\"https://s.pstatic.net/dthumb.phinf/?src=%22https%3A%2F%2Fs.pstatic.net%2Fstatic%2Fwww%2Fmobile%2Fedit%2F20220324_1095%2Fupload_1648115607296ixUDH.jpg%22&amp;type=nf464_260\" height=\"130\" onerror=\"this.outerHTML='&lt;span class=\\'pm_noimg\\'&gt;&lt;span class=\\'noimg_text\\'&gt;이미지 준비중&lt;/span&gt;&lt;/span&gt;'\" width=\"232\"/>,\n",
       " <img alt=\"\" data-src=\"https://s.pstatic.net/dthumb.phinf/?src=%22https%3A%2F%2Fs.pstatic.net%2Fstatic%2Fwww%2Fmobile%2Fedit%2F20220324_1095%2Fupload_1648115196663aCiwq.jpg%22&amp;type=nf464_260\" height=\"130\" onerror=\"this.outerHTML='&lt;span class=\\'pm_noimg\\'&gt;&lt;span class=\\'noimg_text\\'&gt;이미지 준비중&lt;/span&gt;&lt;/span&gt;'\" width=\"232\"/>,\n",
       " <img alt=\"\" data-src=\"https://s.pstatic.net/dthumb.phinf/?src=%22https%3A%2F%2Fs.pstatic.net%2Fstatic%2Fwww%2Fmobile%2Fedit%2F20220323_1095%2Fupload_164801643561546zF1.jpg%22&amp;type=nf464_260\" height=\"130\" onerror=\"this.outerHTML='&lt;span class=\\'pm_noimg\\'&gt;&lt;span class=\\'noimg_text\\'&gt;이미지 준비중&lt;/span&gt;&lt;/span&gt;'\" width=\"232\"/>,\n",
       " <img alt=\"\" data-src=\"https://s.pstatic.net/dthumb.phinf/?src=%22https%3A%2F%2Fs.pstatic.net%2Fstatic%2Fwww%2Fmobile%2Fedit%2F20220323_1095%2Fupload_1648016253865WXlIo.jpg%22&amp;type=nf464_260\" height=\"130\" onerror=\"this.outerHTML='&lt;span class=\\'pm_noimg\\'&gt;&lt;span class=\\'noimg_text\\'&gt;이미지 준비중&lt;/span&gt;&lt;/span&gt;'\" width=\"232\"/>,\n",
       " <img alt=\"\" data-src=\"https://s.pstatic.net/dthumb.phinf/?src=%22https%3A%2F%2Fs.pstatic.net%2Fstatic%2Fwww%2Fmobile%2Fedit%2F20220324_1095%2Fupload_1648109060514NzIzx.jpg%22&amp;type=nf464_260\" height=\"130\" onerror=\"this.outerHTML='&lt;span class=\\'pm_noimg\\'&gt;&lt;span class=\\'noimg_text\\'&gt;이미지 준비중&lt;/span&gt;&lt;/span&gt;'\" width=\"232\"/>,\n",
       " <img alt=\"\" data-src=\"https://s.pstatic.net/dthumb.phinf/?src=%22https%3A%2F%2Fs.pstatic.net%2Fstatic%2Fwww%2Fmobile%2Fedit%2F20220323_1095%2Fupload_1648015324572GsXx4.jpg%22&amp;type=nf464_260\" height=\"130\" onerror=\"this.outerHTML='&lt;span class=\\'pm_noimg\\'&gt;&lt;span class=\\'noimg_text\\'&gt;이미지 준비중&lt;/span&gt;&lt;/span&gt;'\" width=\"232\"/>,\n",
       " <img alt=\"\" data-src=\"https://s.pstatic.net/dthumb.phinf/?src=%22https%3A%2F%2Fs.pstatic.net%2Fstatic%2Fwww%2Fmobile%2Fedit%2F20220324_1095%2Fupload_1648109770920tEXIp.jpg%22&amp;type=nf464_260\" height=\"130\" onerror=\"this.outerHTML='&lt;span class=\\'pm_noimg\\'&gt;&lt;span class=\\'noimg_text\\'&gt;이미지 준비중&lt;/span&gt;&lt;/span&gt;'\" width=\"232\"/>,\n",
       " <img alt=\"\" data-src=\"https://s.pstatic.net/dthumb.phinf/?src=%22https%3A%2F%2Fs.pstatic.net%2Fstatic%2Fwww%2Fmobile%2Fedit%2F20220323_1095%2Fupload_1648015271307sdtll.jpg%22&amp;type=nf464_260\" height=\"130\" onerror=\"this.outerHTML='&lt;span class=\\'pm_noimg\\'&gt;&lt;span class=\\'noimg_text\\'&gt;이미지 준비중&lt;/span&gt;&lt;/span&gt;'\" width=\"232\"/>,\n",
       " <img alt=\"\" data-src=\"https://s.pstatic.net/dthumb.phinf/?src=%22https%3A%2F%2Fs.pstatic.net%2Fstatic%2Fwww%2Fmobile%2Fedit%2F20220323_1095%2Fupload_1648025551774l78I4.jpg%22&amp;type=nf464_260\" height=\"130\" onerror=\"this.outerHTML='&lt;span class=\\'pm_noimg\\'&gt;&lt;span class=\\'noimg_text\\'&gt;이미지 준비중&lt;/span&gt;&lt;/span&gt;'\" width=\"232\"/>,\n",
       " <img alt=\"\" data-src=\"https://s.pstatic.net/dthumb.phinf/?src=%22https%3A%2F%2Fs.pstatic.net%2Fstatic%2Fwww%2Fmobile%2Fedit%2F20220323_1095%2Fupload_1648025410498P69MQ.jpg%22&amp;type=nf464_260\" height=\"130\" onerror=\"this.outerHTML='&lt;span class=\\'pm_noimg\\'&gt;&lt;span class=\\'noimg_text\\'&gt;이미지 준비중&lt;/span&gt;&lt;/span&gt;'\" width=\"232\"/>,\n",
       " <img alt=\"\" data-src=\"https://s.pstatic.net/dthumb.phinf/?src=%22https%3A%2F%2Fs.pstatic.net%2Fstatic%2Fwww%2Fmobile%2Fedit%2F20220323_1095%2Fupload_1648029584552aSL3Z.jpg%22&amp;type=nf464_260\" height=\"130\" onerror=\"this.outerHTML='&lt;span class=\\'pm_noimg\\'&gt;&lt;span class=\\'noimg_text\\'&gt;이미지 준비중&lt;/span&gt;&lt;/span&gt;'\" width=\"232\"/>,\n",
       " <img alt=\"\" data-src=\"https://s.pstatic.net/dthumb.phinf/?src=%22https%3A%2F%2Fs.pstatic.net%2Fstatic%2Fwww%2Fmobile%2Fedit%2F20220322_1095%2Fupload_1647956251338wV13w.jpg%22&amp;type=nf464_260\" height=\"130\" onerror=\"this.outerHTML='&lt;span class=\\'pm_noimg\\'&gt;&lt;span class=\\'noimg_text\\'&gt;이미지 준비중&lt;/span&gt;&lt;/span&gt;'\" width=\"232\"/>,\n",
       " <img alt=\"\" data-src=\"https://s.pstatic.net/dthumb.phinf/?src=%22https%3A%2F%2Fs.pstatic.net%2Fstatic%2Fwww%2Fmobile%2Fedit%2F20220323_1095%2Fupload_1648030009124Mva5s.jpg%22&amp;type=nf464_260\" height=\"130\" onerror=\"this.outerHTML='&lt;span class=\\'pm_noimg\\'&gt;&lt;span class=\\'noimg_text\\'&gt;이미지 준비중&lt;/span&gt;&lt;/span&gt;'\" width=\"232\"/>,\n",
       " <img alt=\"\" data-src=\"https://s.pstatic.net/dthumb.phinf/?src=%22https%3A%2F%2Fs.pstatic.net%2Fstatic%2Fwww%2Fmobile%2Fedit%2F20220322_1095%2Fupload_1647956205162WepCq.jpg%22&amp;type=nf464_260\" height=\"130\" onerror=\"this.outerHTML='&lt;span class=\\'pm_noimg\\'&gt;&lt;span class=\\'noimg_text\\'&gt;이미지 준비중&lt;/span&gt;&lt;/span&gt;'\" width=\"232\"/>,\n",
       " <img alt=\"\" data-src=\"https://s.pstatic.net/dthumb.phinf/?src=%22https%3A%2F%2Fs.pstatic.net%2Fstatic%2Fwww%2Fmobile%2Fedit%2F20220322_1095%2Fupload_1647940424332uc9Eo.jpg%22&amp;type=nf464_260\" height=\"130\" onerror=\"this.outerHTML='&lt;span class=\\'pm_noimg\\'&gt;&lt;span class=\\'noimg_text\\'&gt;이미지 준비중&lt;/span&gt;&lt;/span&gt;'\" width=\"232\"/>,\n",
       " <img alt=\"\" data-src=\"https://s.pstatic.net/dthumb.phinf/?src=%22https%3A%2F%2Fs.pstatic.net%2Fstatic%2Fwww%2Fmobile%2Fedit%2F20220322_1095%2Fupload_1647939707227qi1ua.jpg%22&amp;type=nf464_260\" height=\"130\" onerror=\"this.outerHTML='&lt;span class=\\'pm_noimg\\'&gt;&lt;span class=\\'noimg_text\\'&gt;이미지 준비중&lt;/span&gt;&lt;/span&gt;'\" width=\"232\"/>,\n",
       " <img alt=\"\" data-src=\"https://s.pstatic.net/dthumb.phinf/?src=%22https%3A%2F%2Fs.pstatic.net%2Fstatic%2Fwww%2Fmobile%2Fedit%2F20220323_1095%2Fupload_1648025966677HpbpE.jpg%22&amp;type=nf464_260\" height=\"130\" onerror=\"this.outerHTML='&lt;span class=\\'pm_noimg\\'&gt;&lt;span class=\\'noimg_text\\'&gt;이미지 준비중&lt;/span&gt;&lt;/span&gt;'\" width=\"232\"/>,\n",
       " <img alt=\"웨일\" height=\"48\" src=\"data:image/png;base64,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\" width=\"48\"/>,\n",
       " <img alt=\"꽃\" height=\"50\" src=\"data:image/png;base64,iVBORw0KGgoAAAANSUhEUgAAAF4AAABkCAMAAAA47XeXAAAAgVBMVEUAAADN5PdGm99Gm99Gm99Gm99Gm95Gm99Gm99Gm99Gm99Gm99Gm99Gm99Gm99Gm99Gm99Gm99Gm99Gm99Gm99Gm99Gm99Gmt9Gm99Gm99Gm99Gm95Gm99Gm99Gm95Gm99Hm99Gm99Gm9/////3+/5cp+LO5PfR5/fO5fdcp+P7/f/zv5GhAAAAInRSTlMA/v7vH9u5qJNgGwb6l8a9uqF9WFUyLxYMCtbVmLCwe4OCj8gzEgAAA0NJREFUaN7NmmFz4iAQhkkwMTHGWrWtWvWuq8mF+/8/8Ey2nb0OhSwQZnw+MHQ7pbjAy2s2gsuiLPJMLpcyy4tyISZltnmHbxw3MzEVr/MUNNL5q5iCt2ccXCN9fhPB7CQYkTsRRlWDlboSAexzGCHfC28OKxhldfDOzBMwePLNTw0sauHFFphshQcLCUwkaQRfXYBPSkrEUBdv3jezcXXhw1ciUhc+fCUidQlH7qzqEk5d2dQlnHxvU5dwVgdXdSGclaiGyamt6hLO1qIu4ZASzcFE092SBprk1jagulvXAAw/qb5N7m176xQYmOPoLymYaK/X65/PNhlagE6LGUhfRM8FjNzuf/73//bHmInzoJEpjMyeWpp9RzGz/PT6+QvMNO2Q+67PPeYZY5h7jDVg5OM+/BGikd13JfDAj/Ad1WLMyEyUwKPT00ypN1GKAljQJtFiFgqRe86eYhbWIvPPPR5d+9pKiIgUwKNJdHXBvW9jyRye1EWLWYfnJcd141Byspizz7gbUyWDuqiW0v15D9g3ZgF86JwyKUgUHJaATUmS5rsEdkkTZLjZS8Alw+skFr8Nl6H6uosShaKOp3Zo+/jgFTDe+wcSfv0yFGfQaLX7tDO0reXOPRuMCG4Q11Y3IiYblWgzS7R+h31qdRtlGB7zikeUckz+AB3a8FuMqD7Cd2nhUHLOEIkLubQIkEuLxIdwEwUy3HyXxsbgPMJcGuGox+TSIugxuTQ+KHIaAS5N92eIIuMT5tJoPfHy5q9yKoXLelLuKRri0mjMQdhwTPw6Sv8pzKXhFyhNilEwkSCXRrnAnaPnJdyl0UrqXircpeHVglnv+62K4NJo3lFcGmWd79KO7OQoXAE8XNO6tIQGxj7fpfHTwk8RubQLWEGvgTNGKzj01fixunCMCCYcvSSlaFwUyKVx86J3bczpUR3zimq1LqdosAUbJF54ar+uk5Gju436mPTk8ZAXFdO93HRYTesUVgf3B+y0XdxLfdVputmfKp/iBtNjyl3c0kzUwtJIWewIPvAL9LOyWLsV9WAps3VRzh6hJBm3oOqsRKfHLGYzS/GP+iLBuBKdqkd+iWPkFZTHf4Em4us/uhI5qss/6zK5u8+AXpwAAAAASUVORK5CYII=\" width=\"47\"/>]"
      ]
     },
     "execution_count": 2,
     "metadata": {},
     "output_type": "execute_result"
    }
   ],
   "source": [
    "'''\n",
    "정보를 가져오고자 하는 url 정의\n",
    "url 정보로 requests로 정보 요청\n",
    "text 정보를 html로 변환\n",
    "html에서 우리가 필요한 정보만 선별\n",
    "'''\n",
    "# 네이버 메인페이지\n",
    "# url정의(문자열 형식으로 전달, https:// 포함)\n",
    "url = 'https://www.naver.com'\n",
    "\n",
    "# requsts로 url에 정보요청\n",
    "# requests 파이썬이 컴퓨터간 통신체계에 해당하는 명령어들을 사용하도록 만든 패키지\n",
    "# 해당코드를 실행시키는 순간 서비스제공자에게 정보요청을 함.\n",
    "\n",
    "resp = requests.get(url)\n",
    "\n",
    "# 정보를 html 변환 (보기 쉽게)\n",
    "html = BeautifulSoup(resp.text, 'html.parser')\n",
    "\n",
    "# html 내에서 우리가 보고 싶은 정보만 선별\n",
    "html.select('img')"
   ]
  },
  {
   "cell_type": "markdown",
   "metadata": {},
   "source": [
    "#### 다음 뉴스페이지 크롤링"
   ]
  },
  {
   "cell_type": "code",
   "execution_count": 3,
   "metadata": {
    "ExecuteTime": {
     "end_time": "2022-04-25T01:41:49.452012Z",
     "start_time": "2022-04-25T01:41:49.216802Z"
    }
   },
   "outputs": [
    {
     "name": "stdout",
     "output_type": "stream",
     "text": [
      "서울 시내버스 총파업 현실화하나..노사 막판 협상 '진통'\n",
      "새 집무실 이름은 국민의집?..尹 당선인, '피플스 하우스' 언급\n",
      "사업과 우정 사이..망가진 \"CNN의 미래\" 파워게임 속사정\n",
      "변협회장 결선투표제 폐지..회관 서초동으로 이전\n",
      "소액으로 고액자산 쉽게 사지만.. '먹튀'땐 보호 못받는다[조각투자, 혁신인가 허상인가]\n",
      "선거브로커 돈 받은 국회의원, 단체장은 누구?\n",
      "주 52시간 근무제 도입했더니..장시간 노동자 60% 감소\n",
      "'죽고 싶다' '우울해' 검색 폭증.. 코로나는 끝나지 않았다\n",
      "충북대병원 전공의협 \"오송 카이스트 의전원 건립 반대\"\n",
      "우크라 이어 몰도바도?..러, 공격 타깃 시사에 전운 ↑\n",
      "한덕수 청문회, 첫날부터 파행..질의없이 '53분짜리' 반쪽회의\n",
      "물건너간 코레일-SR 통합.. 적자문제 해결은 새정부 몫으로\n",
      "\"랄프를 구해줘\"..동물대체시험법 제정 위한 국회 전시회 열린다\n",
      "'글로벌 매도세' 유럽증시도 일제 급락..佛 CAC 2.62%↓\n",
      "'2500조 채권' 소화 한계.. 글로벌지수 편입해 수급 터준다\n",
      "해외법인 매출 증가율, 국내보다 2배 높아..고용창출 저하 우려\n",
      "국민의힘, '검수완박' 재협상 공식화.. 민주 \"합의 깨면 단독처리\"\n",
      "차영주 \"금리 인상기에 수혜 잃을 수 있어 WGBI 편입 서두르는 것\"[생생경제]\n",
      "한때는 적, 지금은 동지: 국민의힘 편[지방선거이야기]\n",
      "\"성장보다 물가가 더 걱정\"..긴축 또 강조한 이창용\n",
      "[여의도 사사건건] 허은아 \"합의 파기 아닌 재논의 요청\" 전재수 \"국회 합의안 엎어버리는 '당선자의 독주'\"\n",
      "[비디오머그] 해외 주식 소수점 투자, 아낀 것 같은데요. 사실은 비쌉니다.\n",
      "[마음주치의] 우울한 노년의 부모님. 어떻게 병원에 모시고 갈 수 있나 (오강섭 교수)\n",
      "[월드피플+] 꼬마 아인슈타인?..美 13세 대학생, 박사과정 합격 \"물리학자가 꿈\"\n",
      "[생생경제] 차영주 \"금리 인상기에 수혜 잃을 수 있어 WGBI 편입 서두르는 것\"\n",
      "[이앤피] \"현직 검사 '선거사범 수사 못 하는 검수완박 합의안' 발언 外\"\n",
      "장관님·차관님·청장님.. 임기 말 해외출장 꼭 가야 하나요\n",
      "中 상하이지수 5.1% 급락.. 21개월 만에 3000선 붕괴\n",
      "꼬마 아인슈타인?..美 13세 대학생, 박사과정 합격 \"물리학자가 꿈\"\n",
      "아기사과꽃\n",
      "역사란 무엇인가\n",
      "강원 영월서 산불..헬기 1대·97명 투입해 진화 중\n"
     ]
    }
   ],
   "source": [
    "# 다음 뉴스 페이지 크롤링\n",
    "# url정의\n",
    "url = 'https://news.daum.net/'\n",
    "\n",
    "# requsts로 url에 정보요청\n",
    "resp = requests.get(url)\n",
    "\n",
    "# 정보를 html 변환 (보기 쉽게)\n",
    "html = BeautifulSoup(resp.text, 'html.parser')\n",
    "\n",
    "# html 내에서 뉴스헤더 선별\n",
    "for news in html.select('a.link_txt')[:-13]:\n",
    "    print(news.text.strip())"
   ]
  },
  {
   "cell_type": "code",
   "execution_count": 4,
   "metadata": {
    "ExecuteTime": {
     "end_time": "2022-04-25T01:43:25.293692Z",
     "start_time": "2022-04-25T01:43:25.259294Z"
    }
   },
   "outputs": [],
   "source": [
    "html = BeautifulSoup(resp.text, 'html.parser')"
   ]
  },
  {
   "cell_type": "code",
   "execution_count": 5,
   "metadata": {
    "ExecuteTime": {
     "end_time": "2022-04-25T02:06:26.078374Z",
     "start_time": "2022-04-25T02:06:26.060863Z"
    }
   },
   "outputs": [
    {
     "name": "stdout",
     "output_type": "stream",
     "text": [
      "서울 시내버스 총파업 현실화하나..노사 막판 협상 '진통'\n",
      "새 집무실 이름은 국민의집?..尹 당선인, '피플스 하우스' 언급\n",
      "사업과 우정 사이..망가진 \"CNN의 미래\" 파워게임 속사정\n",
      "변협회장 결선투표제 폐지..회관 서초동으로 이전\n",
      "소액으로 고액자산 쉽게 사지만.. '먹튀'땐 보호 못받는다조각투자, 혁신인가 허상인가\n",
      "선거브로커 돈 받은 국회의원, 단체장은 누구?\n",
      "주 52시간 근무제 도입했더니..장시간 노동자 60% 감소\n",
      "'죽고 싶다' '우울해' 검색 폭증.. 코로나는 끝나지 않았다\n",
      "충북대병원 전공의협 \"오송 카이스트 의전원 건립 반대\"\n",
      "우크라 이어 몰도바도?..러, 공격 타깃 시사에 전운 ↑\n",
      "한덕수 청문회, 첫날부터 파행..질의없이 '53분짜리' 반쪽회의\n",
      "물건너간 코레일-SR 통합.. 적자문제 해결은 새정부 몫으로\n",
      "\"랄프를 구해줘\"..동물대체시험법 제정 위한 국회 전시회 열린다\n",
      "'글로벌 매도세' 유럽증시도 일제 급락..佛 CAC 2.62%↓\n",
      "'2500조 채권' 소화 한계.. 글로벌지수 편입해 수급 터준다\n",
      "해외법인 매출 증가율, 국내보다 2배 높아..고용창출 저하 우려\n",
      "국민의힘, '검수완박' 재협상 공식화.. 민주 \"합의 깨면 단독처리\"\n",
      "차영주 \"금리 인상기에 수혜 잃을 수 있어 WGBI 편입 서두르는 것\"생생경제\n",
      "한때는 적, 지금은 동지: 국민의힘 편지방선거이야기\n",
      "\"성장보다 물가가 더 걱정\"..긴축 또 강조한 이창용\n",
      "여의도 사사건건 허은아 \"합의 파기 아닌 재논의 요청\" 전재수 \"국회 합의안 엎어버리는 '당선자의 독주'\"\n",
      "비디오머그 해외 주식 소수점 투자, 아낀 것 같은데요. 사실은 비쌉니다.\n",
      "마음주치의 우울한 노년의 부모님. 어떻게 병원에 모시고 갈 수 있나 (오강섭 교수)\n",
      "월드피플+ 꼬마 아인슈타인?..美 13세 대학생, 박사과정 합격 \"물리학자가 꿈\"\n",
      "생생경제 차영주 \"금리 인상기에 수혜 잃을 수 있어 WGBI 편입 서두르는 것\"\n",
      "이앤피 \"현직 검사 '선거사범 수사 못 하는 검수완박 합의안' 발언 外\"\n",
      "장관님·차관님·청장님.. 임기 말 해외출장 꼭 가야 하나요\n",
      "中 상하이지수 5.1% 급락.. 21개월 만에 3000선 붕괴\n",
      "꼬마 아인슈타인?..美 13세 대학생, 박사과정 합격 \"물리학자가 꿈\"\n",
      "아기사과꽃\n",
      "역사란 무엇인가\n",
      "강원 영월서 산불..헬기 1대·97명 투입해 진화 중\n"
     ]
    }
   ],
   "source": [
    "for news in html.select('a.link_txt')[:-13]:\n",
    "    print(news.text.strip().replace('[', '').replace(']', ''))"
   ]
  },
  {
   "cell_type": "code",
   "execution_count": 6,
   "metadata": {
    "ExecuteTime": {
     "end_time": "2022-04-25T02:23:42.427477Z",
     "start_time": "2022-04-25T02:23:41.440803Z"
    }
   },
   "outputs": [],
   "source": [
    "# 다음에서 로또번호 혹은 로또로 검색해서 표시되는 로또번호 크롤링 해오기\n",
    "url = 'https://search.naver.com/search.naver?where=nexearch&sm=top_hty&fbm=1&ie=utf8&query=%EB%A1%9C%EB%98%90%EB%B2%88%ED%98%B8'\n",
    "\n",
    "# requsts로 url에 정보요청\n",
    "resp = requests.get(url)\n",
    "\n",
    "# 정보를 html 변환 (보기 쉽게)\n",
    "html = BeautifulSoup(resp.text, 'html.parser')"
   ]
  },
  {
   "cell_type": "code",
   "execution_count": 7,
   "metadata": {
    "ExecuteTime": {
     "end_time": "2022-04-25T02:37:53.855895Z",
     "start_time": "2022-04-25T02:37:53.826990Z"
    }
   },
   "outputs": [
    {
     "name": "stdout",
     "output_type": "stream",
     "text": [
      "5\n",
      "11\n",
      "18\n",
      "20\n",
      "35\n",
      "45\n",
      "3\n"
     ]
    }
   ],
   "source": [
    "for ball_nm in html.select('span.ball'):\n",
    "    print(ball_nm.text)"
   ]
  },
  {
   "cell_type": "code",
   "execution_count": 8,
   "metadata": {
    "ExecuteTime": {
     "end_time": "2022-04-25T02:27:59.078968Z",
     "start_time": "2022-04-25T02:27:59.046767Z"
    }
   },
   "outputs": [
    {
     "name": "stdout",
     "output_type": "stream",
     "text": [
      "5\n",
      "11\n",
      "18\n",
      "20\n",
      "35\n",
      "45\n",
      "3\n"
     ]
    }
   ],
   "source": [
    "for ball_nm in html.select('span.ball'):\n",
    "    print(ball_nm.text)"
   ]
  },
  {
   "cell_type": "markdown",
   "metadata": {
    "id": "leESHsnF8kMy",
    "slideshow": {
     "slide_type": "slide"
    }
   },
   "source": [
    "### 실제 개발자가 작성한 코드로 확인된다\n",
    "> 정제되지 않은 데이터로 가독성이 좋지 않음  \n",
    "우리는 이 중에서 우리가 원하는 정보를 선별해서 가져오는 작업을 진행합니다.  \n",
    "그러기에 html의 기본 구성을 살펴보도록 하겠습니다.  "
   ]
  },
  {
   "cell_type": "markdown",
   "metadata": {
    "id": "ijN26CQi8oSa",
    "slideshow": {
     "slide_type": "slide"
    }
   },
   "source": [
    "#### 웹 페이지의 구성\n",
    "> **HTML(Hyper Text Markup Language)**  \n",
    "www 를 구성하는데 사용하는 국제표준 언어로서 컨텐츠와 레이아웃을 담고 있다\n",
    "\n",
    "> **<태그>** 내용 **</태그>**  \n",
    "<tag이름 class=\"class이름1 class이름2\" id=\"주민번호\" href=\"주소\"></tag이름>\n",
    "\n",
    "> 형태나 속성을 묘사하기 위한 구조적 언어 : HTML, CSS (계층이 있음)  \n",
    "웹의 작동 및 제어를 위한 프로그래밍 언어 :  Js"
   ]
  },
  {
   "cell_type": "markdown",
   "metadata": {
    "id": "7caqQS1q8xE9",
    "slideshow": {
     "slide_type": "slide"
    }
   },
   "source": [
    "#### 셀렉터\n",
    "> 용도 : html에서 내가 원하는 내용을 찾아내기 위해서  \n",
    "<span class=\"news\" id=\"1234\">비비고 왕교자</span>\n",
    "<span class=\"product\" id=\"1235\">비비고 볶음밥</span>\n",
    "\n",
    ">> 단일 셀렉터  \n",
    "html.select('span')  # 태그 이름이 span인 친구들을 다 들고옴  \n",
    "<span class=\"news\" id=\"1234\">비비고 왕교자</span>\n",
    "<span class=\"product\" id=\"1235\">비비고 볶음밥</span>\n",
    "\n",
    ">> 클래스 포함 셀렉터\n",
    "html.select('span.news')\n",
    "<span class=\"product\" id=\"1235\">비비고 볶음밥</span>\n",
    "\n",
    ">> id 포함 셀렉터\n",
    "id(고유값) : #1234\n",
    "html.select('span#1234')\n",
    "<span class=\"news\" id=\"1234\">비비고 왕교자</span>"
   ]
  },
  {
   "cell_type": "markdown",
   "metadata": {
    "id": "U-JjMflT80sS",
    "slideshow": {
     "slide_type": "slide"
    }
   },
   "source": [
    "#### 복합 셀렉터\n",
    "    1. 조합 셀렉터\n",
    "    <span>1</span>\n",
    "    <span class=\"txt\">2</span>\n",
    "    <em class=\"txt\">3</em>\n",
    "    \n",
    "    태그 이름이 span이고 클래스 이름은 txt인 라인을 찾고 싶다. : span.txt \n",
    "    em 태그 중에서 class가 txt 인 라인을 찾고\\ 싶다. : em.txt\n",
    "\n",
    "    2. 경로 셀렉터\n",
    "    \n",
    "    <span>이걸 찾으려면?</span>\n",
    "    <span>이걸 찾으려면?</span>\n",
    "    <span>이걸 찾으려면?</span>\n",
    "    <ul>\n",
    "        <li><span>이걸 찾으려면?</span></li>\n",
    "    </ul>\n",
    "    <span>이건 아님</span>\n",
    "\n",
    "    ul 태그안 li 태그 안 span 라인을 찾는다\n",
    "    ul > li > span 혹은 ul li span"
   ]
  },
  {
   "cell_type": "code",
   "execution_count": 9,
   "metadata": {
    "ExecuteTime": {
     "end_time": "2022-04-25T02:31:42.266538Z",
     "start_time": "2022-04-25T02:31:42.261370Z"
    }
   },
   "outputs": [],
   "source": [
    "import time"
   ]
  },
  {
   "cell_type": "code",
   "execution_count": 10,
   "metadata": {
    "ExecuteTime": {
     "end_time": "2022-04-25T02:32:32.386652Z",
     "start_time": "2022-04-25T02:32:22.366731Z"
    }
   },
   "outputs": [
    {
     "name": "stdout",
     "output_type": "stream",
     "text": [
      "0\n",
      "1\n",
      "2\n",
      "3\n",
      "4\n"
     ]
    }
   ],
   "source": [
    "for i in range(5):\n",
    "    time.sleep(2)\n",
    "    print(i)"
   ]
  },
  {
   "cell_type": "code",
   "execution_count": 11,
   "metadata": {
    "ExecuteTime": {
     "end_time": "2022-04-25T02:48:28.017099Z",
     "start_time": "2022-04-25T02:48:27.997354Z"
    }
   },
   "outputs": [
    {
     "name": "stdout",
     "output_type": "stream",
     "text": [
      "슬기로운의사생활, 도깨비, 오징어게임\n"
     ]
    }
   ],
   "source": [
    "key_list = ['슬기로운의사생활, 도깨비, 오징어게임']\n",
    "for item in key_list:\n",
    "    print(item)"
   ]
  },
  {
   "cell_type": "code",
   "execution_count": 12,
   "metadata": {
    "ExecuteTime": {
     "end_time": "2022-04-25T02:50:46.501397Z",
     "start_time": "2022-04-25T02:50:38.815096Z"
    }
   },
   "outputs": [
    {
     "name": "stdout",
     "output_type": "stream",
     "text": [
      "슬기로운의사생활 누군가는 태어나고 누군가는 삶을 끝내는, 인생의 축소판이라 불리는 병원에서 평범한 듯 특별한 하루하루를 살아가는 사람들과 눈빛만 봐도 알 수 있는 20년지기 친구들의 케미스토리를 담은 드라마\n",
      "도깨비 불멸의 삶을 끝내기 위해 인간 신부가 필요한 도깨비, 그와 기묘한 동거를 시작한 기억상실증 저승사자. 그런 그들 앞에 '도깨비 신부'라 주장하는 '죽었어야 할 운명'의 소녀가 나타나며 벌어지는 신비로운 낭만 설화\n",
      "오징어게임 456억 원의 상금이 걸린 의문의 서바이벌에 참가한 사람들이 최후의 승자가 되기 위해 목숨을 걸고 극한의 게임에 도전하는 이야기를 담은 넷플릭스 시리즈\n"
     ]
    }
   ],
   "source": [
    "# 슬의생, 도깨비, 오징어게임\n",
    "# 드라마 하나 정해서 크롤링 완료 된 것 확인하시고 # 슬의생, 도깨비, 오징어게임 리스트 만들어서 완성\n",
    "# 슬의생 드라마소개 크롤링\n",
    "# url 정의\n",
    "key_list = ['슬기로운의사생활', '도깨비', '오징어게임']\n",
    "for key_word in key_list:\n",
    "    \n",
    "    time.sleep(2)\n",
    "    url = f'https://search.naver.com/search.naver?where=nexearch&sm=top_hty&fbm=1&ie=utf8&query={key_word}'\n",
    "\n",
    "    # requsts로 url에 정보요청\n",
    "    resp = requests.get(url)\n",
    "\n",
    "    # 정보를 html 변환 (보기 쉽게)\n",
    "    html = BeautifulSoup(resp.text, 'html.parser')\n",
    "\n",
    "    print(key_word, html.select('span.desc')[0].text)"
   ]
  },
  {
   "cell_type": "code",
   "execution_count": 13,
   "metadata": {},
   "outputs": [],
   "source": [
    "# 서비스 제공자가\n",
    "seed = np.random.randint(100)\n",
    "np.random.seed(seed)\n",
    "a = np.random.randint(5)\n",
    "time.sleep(a)"
   ]
  },
  {
   "cell_type": "markdown",
   "metadata": {},
   "source": [
    "## 다음에서 로또번호 가져와 볼께요 몽땅 다 가져옵니다 (30페이지)"
   ]
  },
  {
   "cell_type": "code",
   "execution_count": 14,
   "metadata": {
    "ExecuteTime": {
     "end_time": "2022-04-25T04:31:04.447282Z",
     "start_time": "2022-04-25T04:29:35.478618Z"
    }
   },
   "outputs": [
    {
     "name": "stdout",
     "output_type": "stream",
     "text": [
      "1회차 크롤링 중입니다.\n",
      "2회차 크롤링 중입니다.\n",
      "3회차 크롤링 중입니다.\n",
      "4회차 크롤링 중입니다.\n",
      "5회차 크롤링 중입니다.\n",
      "6회차 크롤링 중입니다.\n",
      "7회차 크롤링 중입니다.\n",
      "8회차 크롤링 중입니다.\n",
      "9회차 크롤링 중입니다.\n",
      "10회차 크롤링 중입니다.\n",
      "11회차 크롤링 중입니다.\n",
      "12회차 크롤링 중입니다.\n",
      "13회차 크롤링 중입니다.\n",
      "14회차 크롤링 중입니다.\n",
      "15회차 크롤링 중입니다.\n",
      "16회차 크롤링 중입니다.\n",
      "17회차 크롤링 중입니다.\n",
      "18회차 크롤링 중입니다.\n",
      "19회차 크롤링 중입니다.\n",
      "20회차 크롤링 중입니다.\n",
      "21회차 크롤링 중입니다.\n",
      "22회차 크롤링 중입니다.\n",
      "23회차 크롤링 중입니다.\n",
      "24회차 크롤링 중입니다.\n",
      "25회차 크롤링 중입니다.\n",
      "26회차 크롤링 중입니다.\n",
      "27회차 크롤링 중입니다.\n",
      "28회차 크롤링 중입니다.\n",
      "29회차 크롤링 중입니다.\n",
      "30회차 크롤링 중입니다.\n",
      "크롤링 완료!!!\n"
     ]
    }
   ],
   "source": [
    "# url 설정 (페이지 넘어가는 url 설정을 어떻게 할건지?)\n",
    "# 순환시키면서 저 requests 요청을 어떻게 컨트롤 할 건지?\n",
    "lotto_list = []\n",
    "for i in range(1, 31):\n",
    "    print(f'{i}회차 크롤링 중입니다.')\n",
    "    \n",
    "    # 차단막긔\n",
    "    seed = np.random.randint(100)\n",
    "    np.random.seed(seed)\n",
    "    a = np.random.randint(5)\n",
    "    time.sleep(a)\n",
    "    \n",
    "    # url 설정\n",
    "    url = f'https://search.daum.net/search?w=tot&DA=LOT&rtmaxcoll=LOT&&q={i}회차%로또'\n",
    "    \n",
    "    # requests로 데이터 요청하기\n",
    "    resp = requests.get(url)\n",
    "    \n",
    "    # html로 변환\n",
    "    html = BeautifulSoup(resp.text, 'html.parser')\n",
    "\n",
    "    # 데이터 선별\n",
    "    for ball_nm in html.select('span.ball')[:6]:\n",
    "        lotto_list.append(int(ball_nm.text))\n",
    "        \n",
    "print('크롤링 완료!!!')"
   ]
  },
  {
   "cell_type": "code",
   "execution_count": 15,
   "metadata": {
    "ExecuteTime": {
     "end_time": "2022-04-25T04:39:48.036148Z",
     "start_time": "2022-04-25T04:39:48.026850Z"
    }
   },
   "outputs": [
    {
     "data": {
      "text/plain": [
       "array([[10, 23, 29, 33, 37, 40,  9, 13, 21, 25, 32, 42, 11, 16, 19, 21,\n",
       "        27, 31, 14, 27, 30, 31, 40, 42, 16, 24, 29, 40, 41, 42, 14, 15,\n",
       "        26, 27, 40, 42,  2,  9, 16, 25, 26, 40,  8, 19, 25, 34, 37, 39,\n",
       "         2,  4, 16, 17, 36, 39,  9, 25, 30, 33, 41, 44,  1,  7, 36, 37,\n",
       "        41, 42,  2, 11, 21, 25, 39, 45, 22, 23, 25, 37, 38, 42,  2,  6,\n",
       "        12, 31, 33, 40,  3,  4, 16, 30, 31, 37,  6,  7, 24, 37, 38, 40,\n",
       "         3,  4,  9, 17, 32, 37,  3, 12, 13, 19, 32, 35,  6, 30, 38, 39,\n",
       "        40, 43, 10, 14, 18, 20, 23, 30,  6, 12, 17, 18, 31, 32,  4,  5,\n",
       "         6,  8, 17, 39,  5, 13, 17, 18, 33, 42,  7,  8, 27, 29, 36, 43,\n",
       "         2,  4, 21, 26, 43, 44,  4,  5,  7, 18, 20, 25,  1, 20, 26, 28,\n",
       "        37, 43,  9, 18, 23, 25, 35, 37,  1,  5, 13, 34, 39, 40,  8, 17,\n",
       "        20, 35, 36, 44]])"
      ]
     },
     "execution_count": 15,
     "metadata": {},
     "output_type": "execute_result"
    }
   ],
   "source": [
    "np.array(lotto_list).reshape(-1, 6).reshape(1, -1)"
   ]
  },
  {
   "cell_type": "code",
   "execution_count": 16,
   "metadata": {
    "ExecuteTime": {
     "end_time": "2022-04-25T04:36:19.577991Z",
     "start_time": "2022-04-25T04:36:19.573810Z"
    }
   },
   "outputs": [],
   "source": [
    "lotto = np.array(lotto_list).reshape(-1, 6)"
   ]
  },
  {
   "cell_type": "code",
   "execution_count": 17,
   "metadata": {
    "ExecuteTime": {
     "end_time": "2022-04-25T04:37:36.179795Z",
     "start_time": "2022-04-25T04:37:36.174621Z"
    }
   },
   "outputs": [],
   "source": [
    "index_list = [f'{i}회차' for i in range(1, 31)]"
   ]
  },
  {
   "cell_type": "code",
   "execution_count": 18,
   "metadata": {
    "ExecuteTime": {
     "end_time": "2022-04-25T04:37:49.174362Z",
     "start_time": "2022-04-25T04:37:49.154292Z"
    }
   },
   "outputs": [
    {
     "data": {
      "text/html": [
       "<div>\n",
       "<style scoped>\n",
       "    .dataframe tbody tr th:only-of-type {\n",
       "        vertical-align: middle;\n",
       "    }\n",
       "\n",
       "    .dataframe tbody tr th {\n",
       "        vertical-align: top;\n",
       "    }\n",
       "\n",
       "    .dataframe thead th {\n",
       "        text-align: right;\n",
       "    }\n",
       "</style>\n",
       "<table border=\"1\" class=\"dataframe\">\n",
       "  <thead>\n",
       "    <tr style=\"text-align: right;\">\n",
       "      <th></th>\n",
       "      <th>0</th>\n",
       "      <th>1</th>\n",
       "      <th>2</th>\n",
       "      <th>3</th>\n",
       "      <th>4</th>\n",
       "      <th>5</th>\n",
       "    </tr>\n",
       "  </thead>\n",
       "  <tbody>\n",
       "    <tr>\n",
       "      <th>1회차</th>\n",
       "      <td>10</td>\n",
       "      <td>23</td>\n",
       "      <td>29</td>\n",
       "      <td>33</td>\n",
       "      <td>37</td>\n",
       "      <td>40</td>\n",
       "    </tr>\n",
       "    <tr>\n",
       "      <th>2회차</th>\n",
       "      <td>9</td>\n",
       "      <td>13</td>\n",
       "      <td>21</td>\n",
       "      <td>25</td>\n",
       "      <td>32</td>\n",
       "      <td>42</td>\n",
       "    </tr>\n",
       "    <tr>\n",
       "      <th>3회차</th>\n",
       "      <td>11</td>\n",
       "      <td>16</td>\n",
       "      <td>19</td>\n",
       "      <td>21</td>\n",
       "      <td>27</td>\n",
       "      <td>31</td>\n",
       "    </tr>\n",
       "    <tr>\n",
       "      <th>4회차</th>\n",
       "      <td>14</td>\n",
       "      <td>27</td>\n",
       "      <td>30</td>\n",
       "      <td>31</td>\n",
       "      <td>40</td>\n",
       "      <td>42</td>\n",
       "    </tr>\n",
       "    <tr>\n",
       "      <th>5회차</th>\n",
       "      <td>16</td>\n",
       "      <td>24</td>\n",
       "      <td>29</td>\n",
       "      <td>40</td>\n",
       "      <td>41</td>\n",
       "      <td>42</td>\n",
       "    </tr>\n",
       "    <tr>\n",
       "      <th>6회차</th>\n",
       "      <td>14</td>\n",
       "      <td>15</td>\n",
       "      <td>26</td>\n",
       "      <td>27</td>\n",
       "      <td>40</td>\n",
       "      <td>42</td>\n",
       "    </tr>\n",
       "    <tr>\n",
       "      <th>7회차</th>\n",
       "      <td>2</td>\n",
       "      <td>9</td>\n",
       "      <td>16</td>\n",
       "      <td>25</td>\n",
       "      <td>26</td>\n",
       "      <td>40</td>\n",
       "    </tr>\n",
       "    <tr>\n",
       "      <th>8회차</th>\n",
       "      <td>8</td>\n",
       "      <td>19</td>\n",
       "      <td>25</td>\n",
       "      <td>34</td>\n",
       "      <td>37</td>\n",
       "      <td>39</td>\n",
       "    </tr>\n",
       "    <tr>\n",
       "      <th>9회차</th>\n",
       "      <td>2</td>\n",
       "      <td>4</td>\n",
       "      <td>16</td>\n",
       "      <td>17</td>\n",
       "      <td>36</td>\n",
       "      <td>39</td>\n",
       "    </tr>\n",
       "    <tr>\n",
       "      <th>10회차</th>\n",
       "      <td>9</td>\n",
       "      <td>25</td>\n",
       "      <td>30</td>\n",
       "      <td>33</td>\n",
       "      <td>41</td>\n",
       "      <td>44</td>\n",
       "    </tr>\n",
       "    <tr>\n",
       "      <th>11회차</th>\n",
       "      <td>1</td>\n",
       "      <td>7</td>\n",
       "      <td>36</td>\n",
       "      <td>37</td>\n",
       "      <td>41</td>\n",
       "      <td>42</td>\n",
       "    </tr>\n",
       "    <tr>\n",
       "      <th>12회차</th>\n",
       "      <td>2</td>\n",
       "      <td>11</td>\n",
       "      <td>21</td>\n",
       "      <td>25</td>\n",
       "      <td>39</td>\n",
       "      <td>45</td>\n",
       "    </tr>\n",
       "    <tr>\n",
       "      <th>13회차</th>\n",
       "      <td>22</td>\n",
       "      <td>23</td>\n",
       "      <td>25</td>\n",
       "      <td>37</td>\n",
       "      <td>38</td>\n",
       "      <td>42</td>\n",
       "    </tr>\n",
       "    <tr>\n",
       "      <th>14회차</th>\n",
       "      <td>2</td>\n",
       "      <td>6</td>\n",
       "      <td>12</td>\n",
       "      <td>31</td>\n",
       "      <td>33</td>\n",
       "      <td>40</td>\n",
       "    </tr>\n",
       "    <tr>\n",
       "      <th>15회차</th>\n",
       "      <td>3</td>\n",
       "      <td>4</td>\n",
       "      <td>16</td>\n",
       "      <td>30</td>\n",
       "      <td>31</td>\n",
       "      <td>37</td>\n",
       "    </tr>\n",
       "    <tr>\n",
       "      <th>16회차</th>\n",
       "      <td>6</td>\n",
       "      <td>7</td>\n",
       "      <td>24</td>\n",
       "      <td>37</td>\n",
       "      <td>38</td>\n",
       "      <td>40</td>\n",
       "    </tr>\n",
       "    <tr>\n",
       "      <th>17회차</th>\n",
       "      <td>3</td>\n",
       "      <td>4</td>\n",
       "      <td>9</td>\n",
       "      <td>17</td>\n",
       "      <td>32</td>\n",
       "      <td>37</td>\n",
       "    </tr>\n",
       "    <tr>\n",
       "      <th>18회차</th>\n",
       "      <td>3</td>\n",
       "      <td>12</td>\n",
       "      <td>13</td>\n",
       "      <td>19</td>\n",
       "      <td>32</td>\n",
       "      <td>35</td>\n",
       "    </tr>\n",
       "    <tr>\n",
       "      <th>19회차</th>\n",
       "      <td>6</td>\n",
       "      <td>30</td>\n",
       "      <td>38</td>\n",
       "      <td>39</td>\n",
       "      <td>40</td>\n",
       "      <td>43</td>\n",
       "    </tr>\n",
       "    <tr>\n",
       "      <th>20회차</th>\n",
       "      <td>10</td>\n",
       "      <td>14</td>\n",
       "      <td>18</td>\n",
       "      <td>20</td>\n",
       "      <td>23</td>\n",
       "      <td>30</td>\n",
       "    </tr>\n",
       "    <tr>\n",
       "      <th>21회차</th>\n",
       "      <td>6</td>\n",
       "      <td>12</td>\n",
       "      <td>17</td>\n",
       "      <td>18</td>\n",
       "      <td>31</td>\n",
       "      <td>32</td>\n",
       "    </tr>\n",
       "    <tr>\n",
       "      <th>22회차</th>\n",
       "      <td>4</td>\n",
       "      <td>5</td>\n",
       "      <td>6</td>\n",
       "      <td>8</td>\n",
       "      <td>17</td>\n",
       "      <td>39</td>\n",
       "    </tr>\n",
       "    <tr>\n",
       "      <th>23회차</th>\n",
       "      <td>5</td>\n",
       "      <td>13</td>\n",
       "      <td>17</td>\n",
       "      <td>18</td>\n",
       "      <td>33</td>\n",
       "      <td>42</td>\n",
       "    </tr>\n",
       "    <tr>\n",
       "      <th>24회차</th>\n",
       "      <td>7</td>\n",
       "      <td>8</td>\n",
       "      <td>27</td>\n",
       "      <td>29</td>\n",
       "      <td>36</td>\n",
       "      <td>43</td>\n",
       "    </tr>\n",
       "    <tr>\n",
       "      <th>25회차</th>\n",
       "      <td>2</td>\n",
       "      <td>4</td>\n",
       "      <td>21</td>\n",
       "      <td>26</td>\n",
       "      <td>43</td>\n",
       "      <td>44</td>\n",
       "    </tr>\n",
       "    <tr>\n",
       "      <th>26회차</th>\n",
       "      <td>4</td>\n",
       "      <td>5</td>\n",
       "      <td>7</td>\n",
       "      <td>18</td>\n",
       "      <td>20</td>\n",
       "      <td>25</td>\n",
       "    </tr>\n",
       "    <tr>\n",
       "      <th>27회차</th>\n",
       "      <td>1</td>\n",
       "      <td>20</td>\n",
       "      <td>26</td>\n",
       "      <td>28</td>\n",
       "      <td>37</td>\n",
       "      <td>43</td>\n",
       "    </tr>\n",
       "    <tr>\n",
       "      <th>28회차</th>\n",
       "      <td>9</td>\n",
       "      <td>18</td>\n",
       "      <td>23</td>\n",
       "      <td>25</td>\n",
       "      <td>35</td>\n",
       "      <td>37</td>\n",
       "    </tr>\n",
       "    <tr>\n",
       "      <th>29회차</th>\n",
       "      <td>1</td>\n",
       "      <td>5</td>\n",
       "      <td>13</td>\n",
       "      <td>34</td>\n",
       "      <td>39</td>\n",
       "      <td>40</td>\n",
       "    </tr>\n",
       "    <tr>\n",
       "      <th>30회차</th>\n",
       "      <td>8</td>\n",
       "      <td>17</td>\n",
       "      <td>20</td>\n",
       "      <td>35</td>\n",
       "      <td>36</td>\n",
       "      <td>44</td>\n",
       "    </tr>\n",
       "  </tbody>\n",
       "</table>\n",
       "</div>"
      ],
      "text/plain": [
       "       0   1   2   3   4   5\n",
       "1회차   10  23  29  33  37  40\n",
       "2회차    9  13  21  25  32  42\n",
       "3회차   11  16  19  21  27  31\n",
       "4회차   14  27  30  31  40  42\n",
       "5회차   16  24  29  40  41  42\n",
       "6회차   14  15  26  27  40  42\n",
       "7회차    2   9  16  25  26  40\n",
       "8회차    8  19  25  34  37  39\n",
       "9회차    2   4  16  17  36  39\n",
       "10회차   9  25  30  33  41  44\n",
       "11회차   1   7  36  37  41  42\n",
       "12회차   2  11  21  25  39  45\n",
       "13회차  22  23  25  37  38  42\n",
       "14회차   2   6  12  31  33  40\n",
       "15회차   3   4  16  30  31  37\n",
       "16회차   6   7  24  37  38  40\n",
       "17회차   3   4   9  17  32  37\n",
       "18회차   3  12  13  19  32  35\n",
       "19회차   6  30  38  39  40  43\n",
       "20회차  10  14  18  20  23  30\n",
       "21회차   6  12  17  18  31  32\n",
       "22회차   4   5   6   8  17  39\n",
       "23회차   5  13  17  18  33  42\n",
       "24회차   7   8  27  29  36  43\n",
       "25회차   2   4  21  26  43  44\n",
       "26회차   4   5   7  18  20  25\n",
       "27회차   1  20  26  28  37  43\n",
       "28회차   9  18  23  25  35  37\n",
       "29회차   1   5  13  34  39  40\n",
       "30회차   8  17  20  35  36  44"
      ]
     },
     "execution_count": 18,
     "metadata": {},
     "output_type": "execute_result"
    }
   ],
   "source": [
    "df = pd.DataFrame(lotto,\n",
    "                  index=index_list)\n",
    "df"
   ]
  },
  {
   "cell_type": "code",
   "execution_count": 19,
   "metadata": {
    "ExecuteTime": {
     "end_time": "2022-04-25T04:41:38.047137Z",
     "start_time": "2022-04-25T04:41:37.394519Z"
    }
   },
   "outputs": [],
   "source": [
    "import seaborn as sns"
   ]
  },
  {
   "cell_type": "code",
   "execution_count": 20,
   "metadata": {
    "ExecuteTime": {
     "end_time": "2022-04-25T04:44:21.211823Z",
     "start_time": "2022-04-25T04:44:21.204942Z"
    }
   },
   "outputs": [],
   "source": [
    "import matplotlib.pyplot as plt"
   ]
  },
  {
   "cell_type": "code",
   "execution_count": 21,
   "metadata": {
    "ExecuteTime": {
     "end_time": "2022-04-25T04:44:21.487037Z",
     "start_time": "2022-04-25T04:44:21.347810Z"
    }
   },
   "outputs": [
    {
     "name": "stderr",
     "output_type": "stream",
     "text": [
      "C:\\ProgramData\\Anaconda3\\lib\\site-packages\\seaborn\\_decorators.py:36: FutureWarning: Pass the following variable as a keyword arg: x. From version 0.12, the only valid positional argument will be `data`, and passing other arguments without an explicit keyword will result in an error or misinterpretation.\n",
      "  warnings.warn(\n"
     ]
    },
    {
     "data": {
      "text/plain": [
       "<AxesSubplot:ylabel='count'>"
      ]
     },
     "execution_count": 21,
     "metadata": {},
     "output_type": "execute_result"
    },
    {
     "data": {
      "image/png": "[encoded data removed]",
      "text/plain": [
       "<Figure size 864x432 with 1 Axes>"
      ]
     },
     "metadata": {
      "needs_background": "light"
     },
     "output_type": "display_data"
    }
   ],
   "source": [
    "# 데이터 시각화까지\n",
    "plt.figure(figsize=(12, 6))\n",
    "sns.countplot(lotto_list)"
   ]
  },
  {
   "cell_type": "code",
   "execution_count": 22,
   "metadata": {
    "ExecuteTime": {
     "end_time": "2022-04-25T04:48:33.116709Z",
     "start_time": "2022-04-25T04:48:33.105098Z"
    }
   },
   "outputs": [
    {
     "data": {
      "text/plain": [
       "<Response [200]>"
      ]
     },
     "execution_count": 22,
     "metadata": {},
     "output_type": "execute_result"
    }
   ],
   "source": [
    "resp"
   ]
  },
  {
   "cell_type": "code",
   "execution_count": 23,
   "metadata": {
    "ExecuteTime": {
     "end_time": "2021-02-03T05:41:05.583999Z",
     "start_time": "2021-02-03T05:41:05.579960Z"
    }
   },
   "outputs": [],
   "source": [
    "requests.codes.ok = 200\n",
    "# 100 우리 이런정보 내주는거야\n",
    "# 200 성공\n",
    "# 300 우리 이 사이트 이리루 이사했어 일루가\n",
    "# 400 유저가 요청을 잘못한경우\n",
    "# 500 서버 문제"
   ]
  },
  {
   "cell_type": "code",
   "execution_count": 24,
   "metadata": {},
   "outputs": [],
   "source": [
    "# 차단막는 코드\n",
    "seed = np.random.randint(100)\n",
    "np.random.seed(seed)\n",
    "a = np.random.randint(5)\n",
    "time.sleep(a)"
   ]
  },
  {
   "cell_type": "code",
   "execution_count": 25,
   "metadata": {
    "ExecuteTime": {
     "end_time": "2022-04-25T05:11:10.341072Z",
     "start_time": "2022-04-25T05:11:10.320776Z"
    }
   },
   "outputs": [
    {
     "name": "stdout",
     "output_type": "stream",
     "text": [
      "8\n",
      "17\n",
      "20\n",
      "35\n",
      "36\n",
      "44\n",
      "보너스\n",
      "4\n"
     ]
    }
   ],
   "source": [
    "for item in html.select('span.ball'):\n",
    "    print(item.text)"
   ]
  },
  {
   "cell_type": "markdown",
   "metadata": {
    "id": "L--NnRPK9LAN",
    "slideshow": {
     "slide_type": "slide"
    }
   },
   "source": [
    "## **네이버 키워드로 검색한 결과를 크롤링(속성 접근)**"
   ]
  },
  {
   "cell_type": "code",
   "execution_count": 26,
   "metadata": {
    "ExecuteTime": {
     "end_time": "2022-04-25T05:37:17.105444Z",
     "start_time": "2022-04-25T05:37:11.631570Z"
    },
    "scrolled": true
   },
   "outputs": [],
   "source": [
    "key_word = input('검색어를 입력하세요 : ')\n",
    "\n",
    "url = f'https://search.naver.com/search.naver?where=nexearch&sm=top_hty&fbm=1&ie=utf8&query={key_word}'\n",
    "    \n",
    "# requests로 데이터 요청하기\n",
    "resp = requests.get(url)\n",
    "\n",
    "# html로 변환\n",
    "html = BeautifulSoup(resp.text, 'html.parser')"
   ]
  },
  {
   "cell_type": "code",
   "execution_count": 27,
   "metadata": {
    "ExecuteTime": {
     "end_time": "2022-04-25T05:37:23.032235Z",
     "start_time": "2022-04-25T05:37:23.006215Z"
    }
   },
   "outputs": [
    {
     "name": "stdout",
     "output_type": "stream",
     "text": [
      "11-선형회귀 대 로지스틱 회귀의 차이점 대한 이해 https://blog.naver.com/tommybee/222663258125\n",
      "선형 회귀 (Linear Regression) - 손실, 경사하강법 https://blog.naver.com/hoijae0194/221921243359\n",
      "[인공지능] 6. 선형 회귀의 원리, 다중 선형 회귀의 원리 https://blog.naver.com/hsh0917h/222706415161\n",
      "Linear Regression(선형회귀)에 대한 정리 https://blog.naver.com/book541/222651339528\n",
      "R언어로 배우는 데이터분석 #13 - 머신러닝 데이터 분석 https://post.naver.com/viewer/postView.nhn?volumeNo=28501946&memberNo=2534901&vType=VERTICAL\n",
      "[Machinelearning with Sci-Kit learn] 4. 선형 회귀 모델(Linear Regression) https://blog.naver.com/bo53621mi/222686208017\n",
      "2. 다중 선형 회귀 분석 개념 https://blog.naver.com/dyk6208/222681770596\n",
      "선형 회귀랑 다중 회귀 차이가 뭔가요.. ... 선형 회귀와 다중 회귀 두 개의 차이가 뭔가요?? 독립 변수는 x고 종속 변수는 y인데 선형 회귀: 종속변수와 한 개 이상의 독립 변수와의 선형 상관 관계를 모델링하는 회귀분석 기법이다. 다중 회귀: 독립변수가 K개 이며 종속변수와의 관계가 선형(1차 함수) 이렇게 되어있는데.. 차이가 뭔가요?...  https://kin.naver.com/qna/detail.naver?d1id=11&dirId=1128&docId=416621643&qb=7ISg7ZiV7ZqM6reA&enc=utf8§ion=kin.ext&rank=1&search_sort=0&spq=0\n",
      "회귀분석은 보통 선형회귀입니다. 독립변수가 하나이면 단순 회귀분석(simple linear regression) 독렵변수가 둘 이상이면 다중 회귀분석(multiple linear regression) 선형이 아니면 비선형인데, 비선형의 경우 단순, 다중 이런 거 안붙이더군요. https://kin.naver.com/qna/detail.naver?d1id=11&dirId=1128&docId=416621643&qb=7ISg7ZiV7ZqM6reA&enc=utf8§ion=kin.ext&rank=1&search_sort=0&spq=0\n",
      "선형 회귀 정의! 선형 회귀가 무엇인지 간단하게 정리해주시면 감사하겠습니다. https://kin.naver.com/qna/detail.naver?d1id=1&dirId=104&docId=396885267&qb=7ISg7ZiV7ZqM6reA&enc=utf8§ion=kin.ext&rank=2&search_sort=0&spq=0\n",
      "선형 회귀(Linear Regression)란, 회귀 모형의 한 유형으로서, 입력 특성의 선형 조합으로부터 연속 값을 출력하는 회귀 모델을 말합니다. ※ 질문주신 내용 이외에도, 딥러닝과 관련하여 궁금한 것들이 있다면, 아래 제 블로그에 방문해 관련된 글을 참고하시기... https://kin.naver.com/qna/detail.naver?d1id=1&dirId=104&docId=396885267&qb=7ISg7ZiV7ZqM6reA&enc=utf8§ion=kin.ext&rank=2&search_sort=0&spq=0\n",
      "선형회귀분석 질문 중학생인데요.. 선형회귀분석을 어디에 적용하나요? 과거를 분석하여 미래를 예측하하는 데 적용하는 건가요? 이외에도 어디에 적용하는 건가요..ㅠㅠ https://kin.naver.com/qna/detail.naver?d1id=11&dirId=111301&docId=402467164&qb=7ISg7ZiV7ZqM6reA&enc=utf8§ion=kin.ext&rank=3&search_sort=0&spq=0\n",
      "선형회귀분석은 과거를 분석하여 미래를 예측하는 데 사용할 수 없습니다. (앞으로도 선형이라는 가정을 한다면 가능할 수도 있으나, 세상에는 비선형적인 현상이 너무 많습니다.) 대신 이미 측정한 범위 내에서 선형이라고 가정하고 그 선분을 추정합니다. 그러면 그게 측정한... https://kin.naver.com/qna/detail.naver?d1id=11&dirId=111301&docId=402467164&qb=7ISg7ZiV7ZqM6reA&enc=utf8§ion=kin.ext&rank=3&search_sort=0&spq=0\n",
      "한편, 선형회귀분석과 비선형회귀분석으로 구분할 수도 있는데, 선형회귀분석이란 회귀모형에서 계수들이 선형관계에 있도록 회귀식을 구성하여 분석하는 경우를 말한다. 반면, 비선형회귀분석은 회귀모형의 계수들이... http://www.lec.co.kr/news/articleView.html?idxno=732834\n",
      "이전 글에서 비트코인 가격을 예측하기 위한 선형회귀 모델인 S2F 모델에 대해 알아봤습니다. 이번에는 로그 회귀분석(Logarithmic Regression) 모델을 소개하고자 합니다. 로그 회귀분석 모델로 미래 비트코인... http://www.coindeskkorea.com/news/articleView.html?idxno=76365\n",
      "특히 대학원생이 졸업논문을 쓰면서 실제 사용한 회귀분석, 이중차이분석, 위계선형모형, 공간회귀분석, 구조방정식, 생존분석, 사회연결망분석 등 연구논문에서 빈번하게 사용하는 연구 방법론을 다루고 있다. 1장에서 송... http://www.mdilbo.com/detail/G3XMjU/663743\n",
      "※엄밀한 분석을 위한 통계 검정 보다 엄밀한 분석을 위해 코스피 지수의 월별 수익률과 연간 수익률 사이에 선형회귀분석을 수행한 뒤, 이의 유의성을 확인하는 T 검정(T-test)을 수행했다. 1월 수익률의... http://news.einfomax.co.kr/news/articleView.html?idxno=4193025\n",
      "또 다중 선형 회귀 분석결과, 골밀도의 변화에 영향을 주는 유일한 요인이 류마티스관절염의 질병활성도인 'DAS28-ESR' 임을 확인했다. 오히려 스테로이드 치료 등 염증치료를 하여 류마티스관절염의 질병활성도를... http://www.newsmp.com/news/articleView.html?idxno=218347\n"
     ]
    }
   ],
   "source": [
    "for item in html.select('a.api_txt_lines'):\n",
    "    print(item.text, item.attrs['href'])"
   ]
  },
  {
   "cell_type": "markdown",
   "metadata": {
    "id": "P_ssRYoV88a7",
    "slideshow": {
     "slide_type": "slide"
    }
   },
   "source": [
    "    가져온 데이터에 접근을 하는 방식 자체는 판다스 색인처럼 결과값을 확인하며 진행하는 것이 가장 좋습니다."
   ]
  },
  {
   "cell_type": "markdown",
   "metadata": {
    "ExecuteTime": {
     "end_time": "2021-09-27T00:05:01.376165Z",
     "start_time": "2021-09-27T00:05:01.368066Z"
    }
   },
   "source": [
    "#### 관심있는 개별종목의 시가총액, 외국인 소진률, PER, PBR 가져오기"
   ]
  },
  {
   "cell_type": "code",
   "execution_count": 32,
   "metadata": {
    "ExecuteTime": {
     "end_time": "2022-04-25T06:21:43.968562Z",
     "start_time": "2022-04-25T06:21:38.408853Z"
    }
   },
   "outputs": [],
   "source": [
    "# url 정의\n",
    "code = input('종목코드를 입력하세요 : ')\n",
    "url = f'https://finance.naver.com/item/main.naver?code={code}'\n",
    "# requests 요청\n",
    "resp = requests.get(url)\n",
    "# html 변환\n",
    "html = BeautifulSoup(resp.text, 'html.parser')\n",
    "# 시가총액, 외국인소진률, PER, PBR"
   ]
  },
  {
   "cell_type": "code",
   "execution_count": 33,
   "metadata": {
    "ExecuteTime": {
     "end_time": "2022-04-25T06:21:45.413867Z",
     "start_time": "2022-04-25T06:21:45.387756Z"
    }
   },
   "outputs": [
    {
     "data": {
      "text/plain": [
       "'1조6,732'"
      ]
     },
     "execution_count": 33,
     "metadata": {},
     "output_type": "execute_result"
    }
   ],
   "source": [
    "# 시가총액\n",
    "html.select('em#_market_sum')[0].text.replace('\\n', '').replace('\\t', '')"
   ]
  },
  {
   "cell_type": "code",
   "execution_count": 34,
   "metadata": {
    "ExecuteTime": {
     "end_time": "2022-04-25T06:24:39.613300Z",
     "start_time": "2022-04-25T06:24:39.580874Z"
    }
   },
   "outputs": [
    {
     "data": {
      "text/plain": [
       "'18.82%'"
      ]
     },
     "execution_count": 34,
     "metadata": {},
     "output_type": "execute_result"
    }
   ],
   "source": [
    "# 외국인소진율\n",
    "# 경로셀렉터\n",
    "html.select('tr.strong td em')[1].text"
   ]
  },
  {
   "cell_type": "code",
   "execution_count": 35,
   "metadata": {
    "ExecuteTime": {
     "end_time": "2022-04-25T06:21:45.817267Z",
     "start_time": "2022-04-25T06:21:45.793971Z"
    }
   },
   "outputs": [
    {
     "data": {
      "text/plain": [
       "'9.60'"
      ]
     },
     "execution_count": 35,
     "metadata": {},
     "output_type": "execute_result"
    }
   ],
   "source": [
    "# per\n",
    "html.select('#_per')[0].text"
   ]
  },
  {
   "cell_type": "code",
   "execution_count": 36,
   "metadata": {
    "ExecuteTime": {
     "end_time": "2022-04-25T06:21:46.077239Z",
     "start_time": "2022-04-25T06:21:46.054433Z"
    }
   },
   "outputs": [
    {
     "data": {
      "text/plain": [
       "'0.76'"
      ]
     },
     "execution_count": 36,
     "metadata": {},
     "output_type": "execute_result"
    }
   ],
   "source": [
    "# pbr\n",
    "html.select('#_pbr')[0].text"
   ]
  },
  {
   "cell_type": "code",
   "execution_count": 37,
   "metadata": {
    "ExecuteTime": {
     "end_time": "2022-04-25T06:28:51.781768Z",
     "start_time": "2022-04-25T06:28:51.750156Z"
    }
   },
   "outputs": [
    {
     "data": {
      "text/plain": [
       "'코오롱인더'"
      ]
     },
     "execution_count": 37,
     "metadata": {},
     "output_type": "execute_result"
    }
   ],
   "source": [
    "# 종목명\n",
    "html.select('div.wrap_company a')[0].text"
   ]
  },
  {
   "cell_type": "markdown",
   "metadata": {},
   "source": [
    "#### 여러 종목의 시가총액, 외국인 소진률, PER, PBR 한꺼번에 가져오기(추가예정)"
   ]
  },
  {
   "cell_type": "code",
   "execution_count": 38,
   "metadata": {
    "ExecuteTime": {
     "end_time": "2021-09-27T00:52:30.940704Z",
     "start_time": "2021-09-27T00:52:27.088491Z"
    }
   },
   "outputs": [],
   "source": [
    "# 종목리스트 정의\n",
    "\n",
    "# url 정의\n",
    "\n",
    "# requests 요청\n",
    "\n",
    "# html 변환\n",
    "\n",
    "# 데이터 선별\n"
   ]
  },
  {
   "cell_type": "code",
   "execution_count": null,
   "metadata": {
    "ExecuteTime": {
     "end_time": "2021-09-27T00:52:31.106062Z",
     "start_time": "2021-09-27T00:52:31.101316Z"
    }
   },
   "outputs": [],
   "source": []
  },
  {
   "cell_type": "code",
   "execution_count": 39,
   "metadata": {
    "ExecuteTime": {
     "end_time": "2021-09-27T00:53:55.646061Z",
     "start_time": "2021-09-27T00:53:55.619928Z"
    }
   },
   "outputs": [],
   "source": [
    "# 데이터프레임 제작\n"
   ]
  },
  {
   "cell_type": "markdown",
   "metadata": {
    "id": "XYhXePUPB7FF",
    "slideshow": {
     "slide_type": "slide"
    }
   },
   "source": [
    "## **동적페이지 크롤링**\n",
    "> 최근에는 Js로 변경이 되며 일반적인 크롤링이 되지 않는 경우가 많음  \n",
    "동적페이지와 숨겨진 url을 가져오는 방법을 알아봅니다"
   ]
  },
  {
   "cell_type": "markdown",
   "metadata": {},
   "source": [
    "### 네이버 주식 시세 데이터 크롤링"
   ]
  },
  {
   "cell_type": "code",
   "execution_count": 40,
   "metadata": {
    "ExecuteTime": {
     "end_time": "2022-04-25T06:46:34.568895Z",
     "start_time": "2022-04-25T06:46:34.563477Z"
    }
   },
   "outputs": [
    {
     "data": {
      "text/html": [
       "<div>\n",
       "<style scoped>\n",
       "    .dataframe tbody tr th:only-of-type {\n",
       "        vertical-align: middle;\n",
       "    }\n",
       "\n",
       "    .dataframe tbody tr th {\n",
       "        vertical-align: top;\n",
       "    }\n",
       "\n",
       "    .dataframe thead th {\n",
       "        text-align: right;\n",
       "    }\n",
       "</style>\n",
       "<table border=\"1\" class=\"dataframe\">\n",
       "  <thead>\n",
       "    <tr style=\"text-align: right;\">\n",
       "      <th></th>\n",
       "      <th>종가</th>\n",
       "      <th>전일비</th>\n",
       "      <th>시가</th>\n",
       "      <th>고가</th>\n",
       "      <th>저가</th>\n",
       "      <th>거래량</th>\n",
       "    </tr>\n",
       "  </thead>\n",
       "  <tbody>\n",
       "    <tr>\n",
       "      <th>2022.04.11</th>\n",
       "      <td>111,500</td>\n",
       "      <td>500</td>\n",
       "      <td>111,000</td>\n",
       "      <td>113,000</td>\n",
       "      <td>110,500</td>\n",
       "      <td>2,390,786</td>\n",
       "    </tr>\n",
       "    <tr>\n",
       "      <th>2022.04.08</th>\n",
       "      <td>112,000</td>\n",
       "      <td>1,500</td>\n",
       "      <td>113,000</td>\n",
       "      <td>114,000</td>\n",
       "      <td>110,500</td>\n",
       "      <td>4,268,316</td>\n",
       "    </tr>\n",
       "    <tr>\n",
       "      <th>2022.04.07</th>\n",
       "      <td>113,500</td>\n",
       "      <td>500</td>\n",
       "      <td>111,500</td>\n",
       "      <td>114,500</td>\n",
       "      <td>110,500</td>\n",
       "      <td>5,027,865</td>\n",
       "    </tr>\n",
       "    <tr>\n",
       "      <th>2022.04.06</th>\n",
       "      <td>113,000</td>\n",
       "      <td>3,500</td>\n",
       "      <td>114,500</td>\n",
       "      <td>115,500</td>\n",
       "      <td>113,000</td>\n",
       "      <td>4,541,938</td>\n",
       "    </tr>\n",
       "    <tr>\n",
       "      <th>2022.04.05</th>\n",
       "      <td>116,500</td>\n",
       "      <td>500</td>\n",
       "      <td>117,500</td>\n",
       "      <td>118,000</td>\n",
       "      <td>116,000</td>\n",
       "      <td>2,101,474</td>\n",
       "    </tr>\n",
       "    <tr>\n",
       "      <th>2022.04.04</th>\n",
       "      <td>117,000</td>\n",
       "      <td>1,000</td>\n",
       "      <td>115,000</td>\n",
       "      <td>117,500</td>\n",
       "      <td>114,500</td>\n",
       "      <td>2,470,792</td>\n",
       "    </tr>\n",
       "    <tr>\n",
       "      <th>2022.04.01</th>\n",
       "      <td>116,000</td>\n",
       "      <td>2,000</td>\n",
       "      <td>117,000</td>\n",
       "      <td>117,500</td>\n",
       "      <td>116,000</td>\n",
       "      <td>3,851,558</td>\n",
       "    </tr>\n",
       "    <tr>\n",
       "      <th>2022.03.31</th>\n",
       "      <td>118,000</td>\n",
       "      <td>3,000</td>\n",
       "      <td>119,500</td>\n",
       "      <td>120,000</td>\n",
       "      <td>117,500</td>\n",
       "      <td>4,558,063</td>\n",
       "    </tr>\n",
       "    <tr>\n",
       "      <th>2022.03.30</th>\n",
       "      <td>121,000</td>\n",
       "      <td>1,000</td>\n",
       "      <td>123,000</td>\n",
       "      <td>123,000</td>\n",
       "      <td>120,500</td>\n",
       "      <td>3,436,282</td>\n",
       "    </tr>\n",
       "    <tr>\n",
       "      <th>2022.03.29</th>\n",
       "      <td>120,000</td>\n",
       "      <td>2,000</td>\n",
       "      <td>119,500</td>\n",
       "      <td>120,500</td>\n",
       "      <td>118,500</td>\n",
       "      <td>3,375,247</td>\n",
       "    </tr>\n",
       "  </tbody>\n",
       "</table>\n",
       "</div>"
      ],
      "text/plain": [
       "                 종가    전일비       시가       고가       저가        거래량\n",
       "2022.04.11  111,500    500  111,000  113,000  110,500  2,390,786\n",
       "2022.04.08  112,000  1,500  113,000  114,000  110,500  4,268,316\n",
       "2022.04.07  113,500    500  111,500  114,500  110,500  5,027,865\n",
       "2022.04.06  113,000  3,500  114,500  115,500  113,000  4,541,938\n",
       "2022.04.05  116,500    500  117,500  118,000  116,000  2,101,474\n",
       "2022.04.04  117,000  1,000  115,000  117,500  114,500  2,470,792\n",
       "2022.04.01  116,000  2,000  117,000  117,500  116,000  3,851,558\n",
       "2022.03.31  118,000  3,000  119,500  120,000  117,500  4,558,063\n",
       "2022.03.30  121,000  1,000  123,000  123,000  120,500  3,436,282\n",
       "2022.03.29  120,000  2,000  119,500  120,500  118,500  3,375,247"
      ]
     },
     "execution_count": 40,
     "metadata": {},
     "output_type": "execute_result"
    }
   ],
   "source": [
    "# 동적페이지의 숨은 URL\n",
    "# 동적페이지에 요청을 할 때 웹 정책에 필요한 정보를 같이 전달을 해줘야 함.\n",
    "# requests 요청시에 헤더정보 추가\n",
    "url = 'https://finance.naver.com/item/sise_day.naver?code=000660&page=2'\n",
    "\n",
    "info = {\n",
    "    'referer': 'https://finance.naver.com/item/sise_day.naver?code=000660&page=1',\n",
    "    'user-agent': 'Mozilla/5.0 (Macintosh; Intel Mac OS X 10_15_7) AppleWebKit/537.36 (KHTML, like Gecko) Chrome/100.0.4896.88 Safari/537.36'\n",
    "}\n",
    "\n",
    "# 레퍼러정보 : 이 사용자가 이 페이지에 요청하기 전 어느 페이지에 있었는지\n",
    "# 유저에이전트 : 사용자컴퓨터 정보\n",
    "\n",
    "resp = requests.get(url, headers=info)\n",
    "\n",
    "html = BeautifulSoup(resp.text, 'html.parser')\n",
    "\n",
    "# 크롤링 -> 현업에서는 자주 쓰이는 스킬은 아님\n",
    "# 필드마다다름 -> SSG.com -> 검색개발자 -> 모델링에 필요한 학습 문자를 크롤링\n",
    "# 온라인커머스 -> 타사몰에 올라가있는 상품 가격\n",
    "\n",
    "# 컬럼명 셀렉트\n",
    "col_nm = [col.text for col in html.select('th')[1:]]\n",
    "\n",
    "# 날짜 셀렉트\n",
    "index = [date.text for date in html.select('span.p10')] # tah p10 gray03\n",
    "\n",
    "# 가격정보 셀렉트\n",
    "price = [p.text.strip() for p in html.select('span.p11')] # tah p11\n",
    "\n",
    "price = np.array(price).reshape(-1, 6)\n",
    "\n",
    "df = pd.DataFrame(price,\n",
    "                 columns=col_nm,\n",
    "                 index=index)\n",
    "df"
   ]
  },
  {
   "cell_type": "markdown",
   "metadata": {},
   "source": [
    "### 20페이지 주가 정보 크롤링 해서 종가 그래프 출력(추가예정)"
   ]
  },
  {
   "cell_type": "code",
   "execution_count": 41,
   "metadata": {
    "ExecuteTime": {
     "end_time": "2021-09-27T04:10:31.778681Z",
     "start_time": "2021-09-27T04:09:40.133778Z"
    }
   },
   "outputs": [
    {
     "ename": "NameError",
     "evalue": "name 'temp_df' is not defined",
     "output_type": "error",
     "traceback": [
      "\u001b[1;31m---------------------------------------------------------------------------\u001b[0m",
      "\u001b[1;31mNameError\u001b[0m                                 Traceback (most recent call last)",
      "\u001b[1;32m<ipython-input-41-e2c8756e926c>\u001b[0m in \u001b[0;36m<module>\u001b[1;34m\u001b[0m\n\u001b[0;32m     14\u001b[0m \u001b[1;33m\u001b[0m\u001b[0m\n\u001b[0;32m     15\u001b[0m \u001b[1;31m# 데이터프레임 제작\u001b[0m\u001b[1;33m\u001b[0m\u001b[1;33m\u001b[0m\u001b[1;33m\u001b[0m\u001b[0m\n\u001b[1;32m---> 16\u001b[1;33m \u001b[0mpd\u001b[0m\u001b[1;33m.\u001b[0m\u001b[0mconcat\u001b[0m\u001b[1;33m(\u001b[0m\u001b[0mdf\u001b[0m\u001b[1;33m,\u001b[0m \u001b[0mtemp_df\u001b[0m\u001b[1;33m)\u001b[0m\u001b[1;33m\u001b[0m\u001b[1;33m\u001b[0m\u001b[0m\n\u001b[0m",
      "\u001b[1;31mNameError\u001b[0m: name 'temp_df' is not defined"
     ]
    }
   ],
   "source": [
    "# 헤더정보 정의 (동적페이지 헤더정보 그대로 사용)\n",
    "\n",
    "# 인덱스 정의\n",
    "\n",
    "# 전체 가격 데이터 빈 데이터 프레임\n",
    "\n",
    "# requests 요청시에 헤더정보 추가\n",
    "\n",
    "# html 변환\n",
    "\n",
    "# 날짜 인덱스 살려서 활용하기\n",
    "\n",
    "# 가격정보 추출\n",
    "\n",
    "# 데이터프레임 제작\n",
    "pd.concat(df, temp_df)"
   ]
  },
  {
   "cell_type": "code",
   "execution_count": 42,
   "metadata": {
    "ExecuteTime": {
     "end_time": "2022-04-25T07:32:43.868318Z",
     "start_time": "2022-04-25T07:32:43.860555Z"
    }
   },
   "outputs": [
    {
     "data": {
      "text/plain": [
       "Index(['2022.04.11', '2022.04.08', '2022.04.07', '2022.04.06', '2022.04.05',\n",
       "       '2022.04.04', '2022.04.01', '2022.03.31', '2022.03.30', '2022.03.29'],\n",
       "      dtype='object')"
      ]
     },
     "execution_count": 42,
     "metadata": {},
     "output_type": "execute_result"
    }
   ],
   "source": [
    "df.index"
   ]
  },
  {
   "cell_type": "code",
   "execution_count": 43,
   "metadata": {
    "ExecuteTime": {
     "end_time": "2022-04-25T07:33:42.799336Z",
     "start_time": "2022-04-25T07:33:42.776007Z"
    }
   },
   "outputs": [
    {
     "data": {
      "text/html": [
       "<div>\n",
       "<style scoped>\n",
       "    .dataframe tbody tr th:only-of-type {\n",
       "        vertical-align: middle;\n",
       "    }\n",
       "\n",
       "    .dataframe tbody tr th {\n",
       "        vertical-align: top;\n",
       "    }\n",
       "\n",
       "    .dataframe thead th {\n",
       "        text-align: right;\n",
       "    }\n",
       "</style>\n",
       "<table border=\"1\" class=\"dataframe\">\n",
       "  <thead>\n",
       "    <tr style=\"text-align: right;\">\n",
       "      <th></th>\n",
       "      <th>종가</th>\n",
       "      <th>전일비</th>\n",
       "      <th>시가</th>\n",
       "      <th>고가</th>\n",
       "      <th>저가</th>\n",
       "      <th>거래량</th>\n",
       "    </tr>\n",
       "  </thead>\n",
       "  <tbody>\n",
       "    <tr>\n",
       "      <th>2022.04.11</th>\n",
       "      <td>111,500</td>\n",
       "      <td>500</td>\n",
       "      <td>111,000</td>\n",
       "      <td>113,000</td>\n",
       "      <td>110,500</td>\n",
       "      <td>2,390,786</td>\n",
       "    </tr>\n",
       "    <tr>\n",
       "      <th>2022.04.08</th>\n",
       "      <td>112,000</td>\n",
       "      <td>1,500</td>\n",
       "      <td>113,000</td>\n",
       "      <td>114,000</td>\n",
       "      <td>110,500</td>\n",
       "      <td>4,268,316</td>\n",
       "    </tr>\n",
       "    <tr>\n",
       "      <th>2022.04.07</th>\n",
       "      <td>113,500</td>\n",
       "      <td>500</td>\n",
       "      <td>111,500</td>\n",
       "      <td>114,500</td>\n",
       "      <td>110,500</td>\n",
       "      <td>5,027,865</td>\n",
       "    </tr>\n",
       "    <tr>\n",
       "      <th>2022.04.06</th>\n",
       "      <td>113,000</td>\n",
       "      <td>3,500</td>\n",
       "      <td>114,500</td>\n",
       "      <td>115,500</td>\n",
       "      <td>113,000</td>\n",
       "      <td>4,541,938</td>\n",
       "    </tr>\n",
       "    <tr>\n",
       "      <th>2022.04.05</th>\n",
       "      <td>116,500</td>\n",
       "      <td>500</td>\n",
       "      <td>117,500</td>\n",
       "      <td>118,000</td>\n",
       "      <td>116,000</td>\n",
       "      <td>2,101,474</td>\n",
       "    </tr>\n",
       "    <tr>\n",
       "      <th>2022.04.04</th>\n",
       "      <td>117,000</td>\n",
       "      <td>1,000</td>\n",
       "      <td>115,000</td>\n",
       "      <td>117,500</td>\n",
       "      <td>114,500</td>\n",
       "      <td>2,470,792</td>\n",
       "    </tr>\n",
       "    <tr>\n",
       "      <th>2022.04.01</th>\n",
       "      <td>116,000</td>\n",
       "      <td>2,000</td>\n",
       "      <td>117,000</td>\n",
       "      <td>117,500</td>\n",
       "      <td>116,000</td>\n",
       "      <td>3,851,558</td>\n",
       "    </tr>\n",
       "    <tr>\n",
       "      <th>2022.03.31</th>\n",
       "      <td>118,000</td>\n",
       "      <td>3,000</td>\n",
       "      <td>119,500</td>\n",
       "      <td>120,000</td>\n",
       "      <td>117,500</td>\n",
       "      <td>4,558,063</td>\n",
       "    </tr>\n",
       "    <tr>\n",
       "      <th>2022.03.30</th>\n",
       "      <td>121,000</td>\n",
       "      <td>1,000</td>\n",
       "      <td>123,000</td>\n",
       "      <td>123,000</td>\n",
       "      <td>120,500</td>\n",
       "      <td>3,436,282</td>\n",
       "    </tr>\n",
       "    <tr>\n",
       "      <th>2022.03.29</th>\n",
       "      <td>120,000</td>\n",
       "      <td>2,000</td>\n",
       "      <td>119,500</td>\n",
       "      <td>120,500</td>\n",
       "      <td>118,500</td>\n",
       "      <td>3,375,247</td>\n",
       "    </tr>\n",
       "  </tbody>\n",
       "</table>\n",
       "</div>"
      ],
      "text/plain": [
       "                 종가    전일비       시가       고가       저가        거래량\n",
       "2022.04.11  111,500    500  111,000  113,000  110,500  2,390,786\n",
       "2022.04.08  112,000  1,500  113,000  114,000  110,500  4,268,316\n",
       "2022.04.07  113,500    500  111,500  114,500  110,500  5,027,865\n",
       "2022.04.06  113,000  3,500  114,500  115,500  113,000  4,541,938\n",
       "2022.04.05  116,500    500  117,500  118,000  116,000  2,101,474\n",
       "2022.04.04  117,000  1,000  115,000  117,500  114,500  2,470,792\n",
       "2022.04.01  116,000  2,000  117,000  117,500  116,000  3,851,558\n",
       "2022.03.31  118,000  3,000  119,500  120,000  117,500  4,558,063\n",
       "2022.03.30  121,000  1,000  123,000  123,000  120,500  3,436,282\n",
       "2022.03.29  120,000  2,000  119,500  120,500  118,500  3,375,247"
      ]
     },
     "execution_count": 43,
     "metadata": {},
     "output_type": "execute_result"
    }
   ],
   "source": [
    "df"
   ]
  },
  {
   "cell_type": "code",
   "execution_count": 44,
   "metadata": {
    "ExecuteTime": {
     "end_time": "2022-04-25T07:37:08.532520Z",
     "start_time": "2022-04-25T07:37:08.526816Z"
    }
   },
   "outputs": [],
   "source": [
    "def make_int(x):\n",
    "    return int(x.replace(',', ''))"
   ]
  },
  {
   "cell_type": "code",
   "execution_count": 45,
   "metadata": {
    "ExecuteTime": {
     "end_time": "2022-04-25T07:37:44.343030Z",
     "start_time": "2022-04-25T07:37:44.336342Z"
    }
   },
   "outputs": [],
   "source": [
    "df['종가'] = df['종가'].apply(make_int)"
   ]
  },
  {
   "cell_type": "code",
   "execution_count": 46,
   "metadata": {
    "ExecuteTime": {
     "end_time": "2022-04-25T07:39:09.214552Z",
     "start_time": "2022-04-25T07:39:09.138002Z"
    }
   },
   "outputs": [
    {
     "data": {
      "image/png": "[encoded data removed]",
      "text/plain": [
       "<Figure size 1440x432 with 1 Axes>"
      ]
     },
     "metadata": {
      "needs_background": "light"
     },
     "output_type": "display_data"
    }
   ],
   "source": [
    "plt.figure(figsize=(20, 6))\n",
    "plt.plot(df['종가'].sort_index())\n",
    "plt.show()"
   ]
  },
  {
   "cell_type": "markdown",
   "metadata": {},
   "source": [
    "### 종목도 여러개 순환시키고 각 개별종목 데이터 csv 저장하는 연습"
   ]
  },
  {
   "cell_type": "markdown",
   "metadata": {
    "id": "GIvAIByBCAz1",
    "slideshow": {
     "slide_type": "slide"
    }
   },
   "source": [
    "### 네이버 데이터랩 인기검색어 크롤링"
   ]
  },
  {
   "cell_type": "code",
   "execution_count": 47,
   "metadata": {
    "ExecuteTime": {
     "end_time": "2022-04-25T08:03:58.182889Z",
     "start_time": "2022-04-25T08:03:58.174940Z"
    }
   },
   "outputs": [],
   "source": [
    "# json 데이터 파싱\n",
    "url = 'https://datalab.naver.com/shoppingInsight/getKeywordRank.naver?timeUnit=date&cid=50000000'\n",
    "\n",
    "info = {\n",
    "    'referer': 'https://datalab.naver.com/',\n",
    "    'user-agent': 'Mozilla/5.0 (Macintosh; Intel Mac OS X 10_15_7) AppleWebKit/537.36 (KHTML, like Gecko) Chrome/100.0.4896.88 Safari/537.36'\n",
    "}"
   ]
  },
  {
   "cell_type": "code",
   "execution_count": 48,
   "metadata": {
    "ExecuteTime": {
     "end_time": "2022-04-25T08:04:58.019466Z",
     "start_time": "2022-04-25T08:04:57.787124Z"
    }
   },
   "outputs": [],
   "source": [
    "resp = requests.post(url, headers=info)"
   ]
  },
  {
   "cell_type": "code",
   "execution_count": 49,
   "metadata": {
    "ExecuteTime": {
     "end_time": "2022-04-25T08:07:08.231317Z",
     "start_time": "2022-04-25T08:07:08.226698Z"
    }
   },
   "outputs": [],
   "source": [
    "import json"
   ]
  },
  {
   "cell_type": "code",
   "execution_count": 50,
   "metadata": {
    "ExecuteTime": {
     "end_time": "2022-04-25T08:07:45.053745Z",
     "start_time": "2022-04-25T08:07:45.049599Z"
    }
   },
   "outputs": [],
   "source": [
    "data = json.loads(resp.text)"
   ]
  },
  {
   "cell_type": "code",
   "execution_count": 51,
   "metadata": {
    "ExecuteTime": {
     "end_time": "2022-04-25T08:09:33.825789Z",
     "start_time": "2022-04-25T08:09:33.804375Z"
    }
   },
   "outputs": [
    {
     "data": {
      "text/plain": [
       "[{'message': None,\n",
       "  'statusCode': 200,\n",
       "  'returnCode': 0,\n",
       "  'date': '2022/04/13',\n",
       "  'datetime': '2022.04.13.(수)',\n",
       "  'range': '',\n",
       "  'ranks': [{'rank': 1, 'keyword': '원피스', 'linkId': '원피스'},\n",
       "   {'rank': 2, 'keyword': '반팔티', 'linkId': '반팔티'},\n",
       "   {'rank': 3, 'keyword': '바람막이', 'linkId': '바람막이'},\n",
       "   {'rank': 4, 'keyword': '나이키바람막이', 'linkId': '나이키바람막이'},\n",
       "   {'rank': 5, 'keyword': '블라우스', 'linkId': '블라우스'},\n",
       "   {'rank': 6, 'keyword': '반바지', 'linkId': '반바지'},\n",
       "   {'rank': 7, 'keyword': '셔츠', 'linkId': '셔츠'},\n",
       "   {'rank': 8, 'keyword': '롱원피스', 'linkId': '롱원피스'},\n",
       "   {'rank': 9, 'keyword': '하객원피스', 'linkId': '하객원피스'},\n",
       "   {'rank': 10, 'keyword': '써스데이아일랜드원피스', 'linkId': '써스데이아일랜드원피스'}]},\n",
       " {'message': None,\n",
       "  'statusCode': 200,\n",
       "  'returnCode': 0,\n",
       "  'date': '2022/04/14',\n",
       "  'datetime': '2022.04.14.(목)',\n",
       "  'range': '',\n",
       "  'ranks': [{'rank': 1, 'keyword': '원피스', 'linkId': '원피스'},\n",
       "   {'rank': 2, 'keyword': '반팔티', 'linkId': '반팔티'},\n",
       "   {'rank': 3, 'keyword': '반티', 'linkId': '반티'},\n",
       "   {'rank': 4, 'keyword': '바람막이', 'linkId': '바람막이'},\n",
       "   {'rank': 5, 'keyword': '나이키바람막이', 'linkId': '나이키바람막이'},\n",
       "   {'rank': 6, 'keyword': '반바지', 'linkId': '반바지'},\n",
       "   {'rank': 7, 'keyword': '셔츠', 'linkId': '셔츠'},\n",
       "   {'rank': 8, 'keyword': '블라우스', 'linkId': '블라우스'},\n",
       "   {'rank': 9, 'keyword': '롱원피스', 'linkId': '롱원피스'},\n",
       "   {'rank': 10, 'keyword': '팬츠', 'linkId': '팬츠'}]},\n",
       " {'message': None,\n",
       "  'statusCode': 200,\n",
       "  'returnCode': 0,\n",
       "  'date': '2022/04/15',\n",
       "  'datetime': '2022.04.15.(금)',\n",
       "  'range': '',\n",
       "  'ranks': [{'rank': 1, 'keyword': '원피스', 'linkId': '원피스'},\n",
       "   {'rank': 2, 'keyword': '반팔티', 'linkId': '반팔티'},\n",
       "   {'rank': 3, 'keyword': '반티', 'linkId': '반티'},\n",
       "   {'rank': 4, 'keyword': '반바지', 'linkId': '반바지'},\n",
       "   {'rank': 5, 'keyword': '셔츠', 'linkId': '셔츠'},\n",
       "   {'rank': 6, 'keyword': '바람막이', 'linkId': '바람막이'},\n",
       "   {'rank': 7, 'keyword': '나이키바람막이', 'linkId': '나이키바람막이'},\n",
       "   {'rank': 8, 'keyword': '써스데이아일랜드원피스', 'linkId': '써스데이아일랜드원피스'},\n",
       "   {'rank': 9, 'keyword': '팬츠', 'linkId': '팬츠'},\n",
       "   {'rank': 10, 'keyword': '롱원피스', 'linkId': '롱원피스'}]},\n",
       " {'message': None,\n",
       "  'statusCode': 200,\n",
       "  'returnCode': 0,\n",
       "  'date': '2022/04/16',\n",
       "  'datetime': '2022.04.16.(토)',\n",
       "  'range': '',\n",
       "  'ranks': [{'rank': 1, 'keyword': '원피스', 'linkId': '원피스'},\n",
       "   {'rank': 2, 'keyword': '반팔티', 'linkId': '반팔티'},\n",
       "   {'rank': 3, 'keyword': '나이키바람막이', 'linkId': '나이키바람막이'},\n",
       "   {'rank': 4, 'keyword': '블라우스', 'linkId': '블라우스'},\n",
       "   {'rank': 5, 'keyword': '써스데이아일랜드원피스', 'linkId': '써스데이아일랜드원피스'},\n",
       "   {'rank': 6, 'keyword': '바람막이', 'linkId': '바람막이'},\n",
       "   {'rank': 7, 'keyword': '반바지', 'linkId': '반바지'},\n",
       "   {'rank': 8, 'keyword': '셔츠', 'linkId': '셔츠'},\n",
       "   {'rank': 9, 'keyword': '롱원피스', 'linkId': '롱원피스'},\n",
       "   {'rank': 10, 'keyword': '트위드자켓', 'linkId': '트위드자켓'}]},\n",
       " {'message': None,\n",
       "  'statusCode': 200,\n",
       "  'returnCode': 0,\n",
       "  'date': '2022/04/17',\n",
       "  'datetime': '2022.04.17.(일)',\n",
       "  'range': '',\n",
       "  'ranks': [{'rank': 1, 'keyword': '원피스', 'linkId': '원피스'},\n",
       "   {'rank': 2, 'keyword': '반팔티', 'linkId': '반팔티'},\n",
       "   {'rank': 3, 'keyword': '나이키바람막이', 'linkId': '나이키바람막이'},\n",
       "   {'rank': 4, 'keyword': '바람막이', 'linkId': '바람막이'},\n",
       "   {'rank': 5, 'keyword': '블라우스', 'linkId': '블라우스'},\n",
       "   {'rank': 6, 'keyword': '써스데이아일랜드원피스', 'linkId': '써스데이아일랜드원피스'},\n",
       "   {'rank': 7, 'keyword': '반바지', 'linkId': '반바지'},\n",
       "   {'rank': 8, 'keyword': '셔츠', 'linkId': '셔츠'},\n",
       "   {'rank': 9, 'keyword': '롱원피스', 'linkId': '롱원피스'},\n",
       "   {'rank': 10, 'keyword': '하객원피스', 'linkId': '하객원피스'}]},\n",
       " {'message': None,\n",
       "  'statusCode': 200,\n",
       "  'returnCode': 0,\n",
       "  'date': '2022/04/18',\n",
       "  'datetime': '2022.04.18.(월)',\n",
       "  'range': '',\n",
       "  'ranks': [{'rank': 1, 'keyword': '원피스', 'linkId': '원피스'},\n",
       "   {'rank': 2, 'keyword': '반티', 'linkId': '반티'},\n",
       "   {'rank': 3, 'keyword': '반팔티', 'linkId': '반팔티'},\n",
       "   {'rank': 4, 'keyword': '나이키바람막이', 'linkId': '나이키바람막이'},\n",
       "   {'rank': 5, 'keyword': '바람막이', 'linkId': '바람막이'},\n",
       "   {'rank': 6, 'keyword': '블라우스', 'linkId': '블라우스'},\n",
       "   {'rank': 7, 'keyword': '셔츠', 'linkId': '셔츠'},\n",
       "   {'rank': 8, 'keyword': '반바지', 'linkId': '반바지'},\n",
       "   {'rank': 9, 'keyword': '롱원피스', 'linkId': '롱원피스'},\n",
       "   {'rank': 10, 'keyword': '하객원피스', 'linkId': '하객원피스'}]},\n",
       " {'message': None,\n",
       "  'statusCode': 200,\n",
       "  'returnCode': 0,\n",
       "  'date': '2022/04/19',\n",
       "  'datetime': '2022.04.19.(화)',\n",
       "  'range': '',\n",
       "  'ranks': [{'rank': 1, 'keyword': '원피스', 'linkId': '원피스'},\n",
       "   {'rank': 2, 'keyword': '반티', 'linkId': '반티'},\n",
       "   {'rank': 3, 'keyword': '반팔티', 'linkId': '반팔티'},\n",
       "   {'rank': 4, 'keyword': '나이키바람막이', 'linkId': '나이키바람막이'},\n",
       "   {'rank': 5, 'keyword': '바람막이', 'linkId': '바람막이'},\n",
       "   {'rank': 6, 'keyword': '셔츠', 'linkId': '셔츠'},\n",
       "   {'rank': 7, 'keyword': '블라우스', 'linkId': '블라우스'},\n",
       "   {'rank': 8, 'keyword': '반바지', 'linkId': '반바지'},\n",
       "   {'rank': 9, 'keyword': '롱원피스', 'linkId': '롱원피스'},\n",
       "   {'rank': 10, 'keyword': '써스데이아일랜드원피스', 'linkId': '써스데이아일랜드원피스'}]},\n",
       " {'message': None,\n",
       "  'statusCode': 200,\n",
       "  'returnCode': 0,\n",
       "  'date': '2022/04/20',\n",
       "  'datetime': '2022.04.20.(수)',\n",
       "  'range': '',\n",
       "  'ranks': [{'rank': 1, 'keyword': '원피스', 'linkId': '원피스'},\n",
       "   {'rank': 2, 'keyword': '반티', 'linkId': '반티'},\n",
       "   {'rank': 3, 'keyword': '반팔티', 'linkId': '반팔티'},\n",
       "   {'rank': 4, 'keyword': '나이키바람막이', 'linkId': '나이키바람막이'},\n",
       "   {'rank': 5, 'keyword': '바람막이', 'linkId': '바람막이'},\n",
       "   {'rank': 6, 'keyword': '롱원피스', 'linkId': '롱원피스'},\n",
       "   {'rank': 7, 'keyword': '셔츠', 'linkId': '셔츠'},\n",
       "   {'rank': 8, 'keyword': '반바지', 'linkId': '반바지'},\n",
       "   {'rank': 9, 'keyword': '블라우스', 'linkId': '블라우스'},\n",
       "   {'rank': 10, 'keyword': '써스데이아일랜드원피스', 'linkId': '써스데이아일랜드원피스'}]},\n",
       " {'message': None,\n",
       "  'statusCode': 200,\n",
       "  'returnCode': 0,\n",
       "  'date': '2022/04/21',\n",
       "  'datetime': '2022.04.21.(목)',\n",
       "  'range': '',\n",
       "  'ranks': [{'rank': 1, 'keyword': '원피스', 'linkId': '원피스'},\n",
       "   {'rank': 2, 'keyword': '반티', 'linkId': '반티'},\n",
       "   {'rank': 3, 'keyword': '반팔티', 'linkId': '반팔티'},\n",
       "   {'rank': 4, 'keyword': '나이키바람막이', 'linkId': '나이키바람막이'},\n",
       "   {'rank': 5, 'keyword': '반바지', 'linkId': '반바지'},\n",
       "   {'rank': 6, 'keyword': '바람막이', 'linkId': '바람막이'},\n",
       "   {'rank': 7, 'keyword': '롱원피스', 'linkId': '롱원피스'},\n",
       "   {'rank': 8, 'keyword': '셔츠', 'linkId': '셔츠'},\n",
       "   {'rank': 9, 'keyword': '써스데이아일랜드원피스', 'linkId': '써스데이아일랜드원피스'},\n",
       "   {'rank': 10, 'keyword': '블라우스', 'linkId': '블라우스'}]},\n",
       " {'message': None,\n",
       "  'statusCode': 200,\n",
       "  'returnCode': 0,\n",
       "  'date': '2022/04/22',\n",
       "  'datetime': '2022.04.22.(금)',\n",
       "  'range': '',\n",
       "  'ranks': [{'rank': 1, 'keyword': '원피스', 'linkId': '원피스'},\n",
       "   {'rank': 2, 'keyword': '반티', 'linkId': '반티'},\n",
       "   {'rank': 3, 'keyword': '반팔티', 'linkId': '반팔티'},\n",
       "   {'rank': 4, 'keyword': '써스데이아일랜드원피스', 'linkId': '써스데이아일랜드원피스'},\n",
       "   {'rank': 5, 'keyword': '셔츠', 'linkId': '셔츠'},\n",
       "   {'rank': 6, 'keyword': '반바지', 'linkId': '반바지'},\n",
       "   {'rank': 7, 'keyword': '나이키바람막이', 'linkId': '나이키바람막이'},\n",
       "   {'rank': 8, 'keyword': '롱원피스', 'linkId': '롱원피스'},\n",
       "   {'rank': 9, 'keyword': '바람막이', 'linkId': '바람막이'},\n",
       "   {'rank': 10, 'keyword': '팬츠', 'linkId': '팬츠'}]},\n",
       " {'message': None,\n",
       "  'statusCode': 200,\n",
       "  'returnCode': 0,\n",
       "  'date': '2022/04/23',\n",
       "  'datetime': '2022.04.23.(토)',\n",
       "  'range': '',\n",
       "  'ranks': [{'rank': 1, 'keyword': '원피스', 'linkId': '원피스'},\n",
       "   {'rank': 2, 'keyword': '반팔티', 'linkId': '반팔티'},\n",
       "   {'rank': 3, 'keyword': '써스데이아일랜드원피스', 'linkId': '써스데이아일랜드원피스'},\n",
       "   {'rank': 4, 'keyword': '나이키바람막이', 'linkId': '나이키바람막이'},\n",
       "   {'rank': 5, 'keyword': '반바지', 'linkId': '반바지'},\n",
       "   {'rank': 6, 'keyword': '블라우스', 'linkId': '블라우스'},\n",
       "   {'rank': 7, 'keyword': '셔츠', 'linkId': '셔츠'},\n",
       "   {'rank': 8, 'keyword': '바람막이', 'linkId': '바람막이'},\n",
       "   {'rank': 9, 'keyword': '롱원피스', 'linkId': '롱원피스'},\n",
       "   {'rank': 10, 'keyword': '팬츠', 'linkId': '팬츠'}]},\n",
       " {'message': None,\n",
       "  'statusCode': 200,\n",
       "  'returnCode': 0,\n",
       "  'date': '2022/04/24',\n",
       "  'datetime': '2022.04.24.(일)',\n",
       "  'range': '',\n",
       "  'ranks': [{'rank': 1, 'keyword': '원피스', 'linkId': '원피스'},\n",
       "   {'rank': 2, 'keyword': '반팔티', 'linkId': '반팔티'},\n",
       "   {'rank': 3, 'keyword': '써스데이아일랜드원피스', 'linkId': '써스데이아일랜드원피스'},\n",
       "   {'rank': 4, 'keyword': '나이키바람막이', 'linkId': '나이키바람막이'},\n",
       "   {'rank': 5, 'keyword': '블라우스', 'linkId': '블라우스'},\n",
       "   {'rank': 6, 'keyword': '반바지', 'linkId': '반바지'},\n",
       "   {'rank': 7, 'keyword': '바람막이', 'linkId': '바람막이'},\n",
       "   {'rank': 8, 'keyword': '셔츠', 'linkId': '셔츠'},\n",
       "   {'rank': 9, 'keyword': '롱원피스', 'linkId': '롱원피스'},\n",
       "   {'rank': 10, 'keyword': '남자반팔티', 'linkId': '남자반팔티'}]}]"
      ]
     },
     "execution_count": 51,
     "metadata": {},
     "output_type": "execute_result"
    }
   ],
   "source": [
    "data"
   ]
  },
  {
   "cell_type": "code",
   "execution_count": 52,
   "metadata": {
    "ExecuteTime": {
     "end_time": "2022-04-25T08:11:36.130910Z",
     "start_time": "2022-04-25T08:11:36.124921Z"
    }
   },
   "outputs": [
    {
     "name": "stdout",
     "output_type": "stream",
     "text": [
      "2022.04.13.(수) 반팔티\n",
      "2022.04.14.(목) 반팔티\n",
      "2022.04.15.(금) 반팔티\n",
      "2022.04.16.(토) 반팔티\n",
      "2022.04.17.(일) 반팔티\n",
      "2022.04.18.(월) 반티\n",
      "2022.04.19.(화) 반티\n",
      "2022.04.20.(수) 반티\n",
      "2022.04.21.(목) 반티\n",
      "2022.04.22.(금) 반티\n",
      "2022.04.23.(토) 반팔티\n",
      "2022.04.24.(일) 반팔티\n"
     ]
    }
   ],
   "source": [
    "for item in data:\n",
    "    print(item['datetime'], item['ranks'][1]['keyword'])"
   ]
  },
  {
   "cell_type": "markdown",
   "metadata": {
    "id": "N3NtfdJNMWM6",
    "slideshow": {
     "slide_type": "slide"
    }
   },
   "source": [
    "### 다음 주식 일자별 주가 데이터 크롤링 연습"
   ]
  },
  {
   "cell_type": "code",
   "execution_count": 53,
   "metadata": {
    "ExecuteTime": {
     "end_time": "2022-04-25T08:14:04.839970Z",
     "start_time": "2022-04-25T08:14:04.830726Z"
    },
    "id": "9txT7yVwMehO"
   },
   "outputs": [
    {
     "data": {
      "text/html": [
       "<div>\n",
       "<style scoped>\n",
       "    .dataframe tbody tr th:only-of-type {\n",
       "        vertical-align: middle;\n",
       "    }\n",
       "\n",
       "    .dataframe tbody tr th {\n",
       "        vertical-align: top;\n",
       "    }\n",
       "\n",
       "    .dataframe thead th {\n",
       "        text-align: right;\n",
       "    }\n",
       "</style>\n",
       "<table border=\"1\" class=\"dataframe\">\n",
       "  <thead>\n",
       "    <tr style=\"text-align: right;\">\n",
       "      <th></th>\n",
       "      <th>symbolCode</th>\n",
       "      <th>date</th>\n",
       "      <th>tradePrice</th>\n",
       "      <th>tradeTime</th>\n",
       "      <th>change</th>\n",
       "      <th>changePrice</th>\n",
       "      <th>changeRate</th>\n",
       "      <th>prevClosingPrice</th>\n",
       "      <th>exchangeCountry</th>\n",
       "      <th>openingPrice</th>\n",
       "      <th>highPrice</th>\n",
       "      <th>lowPrice</th>\n",
       "      <th>accTradePrice</th>\n",
       "      <th>accTradeVolume</th>\n",
       "      <th>periodTradePrice</th>\n",
       "      <th>periodTradeVolume</th>\n",
       "      <th>listedSharesCount</th>\n",
       "    </tr>\n",
       "  </thead>\n",
       "  <tbody>\n",
       "    <tr>\n",
       "      <th>0</th>\n",
       "      <td>A005930</td>\n",
       "      <td>2022-04-11 15:30:16</td>\n",
       "      <td>67900.0</td>\n",
       "      <td>15:30:16</td>\n",
       "      <td>RISE</td>\n",
       "      <td>100.0</td>\n",
       "      <td>0.001475</td>\n",
       "      <td>67800.0</td>\n",
       "      <td>KOREA</td>\n",
       "      <td>67800.0</td>\n",
       "      <td>68100.0</td>\n",
       "      <td>67400.0</td>\n",
       "      <td>831094572700</td>\n",
       "      <td>12263735</td>\n",
       "      <td>831094572700</td>\n",
       "      <td>12263735</td>\n",
       "      <td>None</td>\n",
       "    </tr>\n",
       "    <tr>\n",
       "      <th>1</th>\n",
       "      <td>A005930</td>\n",
       "      <td>2022-04-08 15:30:12</td>\n",
       "      <td>67800.0</td>\n",
       "      <td>15:30:12</td>\n",
       "      <td>FALL</td>\n",
       "      <td>200.0</td>\n",
       "      <td>-0.002941</td>\n",
       "      <td>68000.0</td>\n",
       "      <td>KOREA</td>\n",
       "      <td>68100.0</td>\n",
       "      <td>68300.0</td>\n",
       "      <td>67700.0</td>\n",
       "      <td>1050375034852</td>\n",
       "      <td>15453191</td>\n",
       "      <td>1050375034852</td>\n",
       "      <td>15453191</td>\n",
       "      <td>None</td>\n",
       "    </tr>\n",
       "    <tr>\n",
       "      <th>2</th>\n",
       "      <td>A005930</td>\n",
       "      <td>2022-04-07 15:30:13</td>\n",
       "      <td>68000.0</td>\n",
       "      <td>15:30:13</td>\n",
       "      <td>FALL</td>\n",
       "      <td>500.0</td>\n",
       "      <td>-0.007299</td>\n",
       "      <td>68500.0</td>\n",
       "      <td>KOREA</td>\n",
       "      <td>68500.0</td>\n",
       "      <td>68500.0</td>\n",
       "      <td>68000.0</td>\n",
       "      <td>1409872624700</td>\n",
       "      <td>20683327</td>\n",
       "      <td>1409872624700</td>\n",
       "      <td>20683327</td>\n",
       "      <td>None</td>\n",
       "    </tr>\n",
       "    <tr>\n",
       "      <th>3</th>\n",
       "      <td>A005930</td>\n",
       "      <td>2022-04-06 15:30:13</td>\n",
       "      <td>68500.0</td>\n",
       "      <td>15:30:13</td>\n",
       "      <td>FALL</td>\n",
       "      <td>700.0</td>\n",
       "      <td>-0.010116</td>\n",
       "      <td>69200.0</td>\n",
       "      <td>KOREA</td>\n",
       "      <td>68600.0</td>\n",
       "      <td>68800.0</td>\n",
       "      <td>68500.0</td>\n",
       "      <td>1064606110092</td>\n",
       "      <td>15517308</td>\n",
       "      <td>1064606110092</td>\n",
       "      <td>15517308</td>\n",
       "      <td>None</td>\n",
       "    </tr>\n",
       "    <tr>\n",
       "      <th>4</th>\n",
       "      <td>A005930</td>\n",
       "      <td>2022-04-05 15:30:18</td>\n",
       "      <td>69200.0</td>\n",
       "      <td>15:30:18</td>\n",
       "      <td>FALL</td>\n",
       "      <td>100.0</td>\n",
       "      <td>-0.001443</td>\n",
       "      <td>69300.0</td>\n",
       "      <td>KOREA</td>\n",
       "      <td>69400.0</td>\n",
       "      <td>69600.0</td>\n",
       "      <td>69100.0</td>\n",
       "      <td>586498194900</td>\n",
       "      <td>8467248</td>\n",
       "      <td>586498194900</td>\n",
       "      <td>8467248</td>\n",
       "      <td>None</td>\n",
       "    </tr>\n",
       "    <tr>\n",
       "      <th>5</th>\n",
       "      <td>A005930</td>\n",
       "      <td>2022-04-04 15:30:28</td>\n",
       "      <td>69300.0</td>\n",
       "      <td>15:30:28</td>\n",
       "      <td>RISE</td>\n",
       "      <td>200.0</td>\n",
       "      <td>0.002894</td>\n",
       "      <td>69100.0</td>\n",
       "      <td>KOREA</td>\n",
       "      <td>68900.0</td>\n",
       "      <td>69300.0</td>\n",
       "      <td>68600.0</td>\n",
       "      <td>766930294459</td>\n",
       "      <td>11107905</td>\n",
       "      <td>766930294459</td>\n",
       "      <td>11107905</td>\n",
       "      <td>None</td>\n",
       "    </tr>\n",
       "    <tr>\n",
       "      <th>6</th>\n",
       "      <td>A005930</td>\n",
       "      <td>2022-04-01 15:30:17</td>\n",
       "      <td>69100.0</td>\n",
       "      <td>15:30:17</td>\n",
       "      <td>FALL</td>\n",
       "      <td>500.0</td>\n",
       "      <td>-0.007184</td>\n",
       "      <td>69600.0</td>\n",
       "      <td>KOREA</td>\n",
       "      <td>69500.0</td>\n",
       "      <td>69500.0</td>\n",
       "      <td>69000.0</td>\n",
       "      <td>1100422376400</td>\n",
       "      <td>15916846</td>\n",
       "      <td>1100422376400</td>\n",
       "      <td>15916846</td>\n",
       "      <td>None</td>\n",
       "    </tr>\n",
       "    <tr>\n",
       "      <th>7</th>\n",
       "      <td>A005930</td>\n",
       "      <td>2022-03-31 15:30:14</td>\n",
       "      <td>69600.0</td>\n",
       "      <td>15:30:14</td>\n",
       "      <td>FALL</td>\n",
       "      <td>300.0</td>\n",
       "      <td>-0.004292</td>\n",
       "      <td>69900.0</td>\n",
       "      <td>KOREA</td>\n",
       "      <td>69900.0</td>\n",
       "      <td>70200.0</td>\n",
       "      <td>69600.0</td>\n",
       "      <td>873212583300</td>\n",
       "      <td>12510366</td>\n",
       "      <td>873212583300</td>\n",
       "      <td>12510366</td>\n",
       "      <td>None</td>\n",
       "    </tr>\n",
       "    <tr>\n",
       "      <th>8</th>\n",
       "      <td>A005930</td>\n",
       "      <td>2022-03-30 15:30:10</td>\n",
       "      <td>69900.0</td>\n",
       "      <td>15:30:10</td>\n",
       "      <td>FALL</td>\n",
       "      <td>300.0</td>\n",
       "      <td>-0.004274</td>\n",
       "      <td>70200.0</td>\n",
       "      <td>KOREA</td>\n",
       "      <td>70300.0</td>\n",
       "      <td>70500.0</td>\n",
       "      <td>69800.0</td>\n",
       "      <td>887514318650</td>\n",
       "      <td>12670187</td>\n",
       "      <td>887514318650</td>\n",
       "      <td>12670187</td>\n",
       "      <td>None</td>\n",
       "    </tr>\n",
       "    <tr>\n",
       "      <th>9</th>\n",
       "      <td>A005930</td>\n",
       "      <td>2022-03-29 15:30:15</td>\n",
       "      <td>70200.0</td>\n",
       "      <td>15:30:15</td>\n",
       "      <td>RISE</td>\n",
       "      <td>500.0</td>\n",
       "      <td>0.007174</td>\n",
       "      <td>69700.0</td>\n",
       "      <td>KOREA</td>\n",
       "      <td>70000.0</td>\n",
       "      <td>70300.0</td>\n",
       "      <td>69800.0</td>\n",
       "      <td>958589509700</td>\n",
       "      <td>13686208</td>\n",
       "      <td>958589509700</td>\n",
       "      <td>13686208</td>\n",
       "      <td>None</td>\n",
       "    </tr>\n",
       "  </tbody>\n",
       "</table>\n",
       "</div>"
      ],
      "text/plain": [
       "  symbolCode                 date  tradePrice tradeTime change  changePrice  \\\n",
       "0    A005930  2022-04-11 15:30:16     67900.0  15:30:16   RISE        100.0   \n",
       "1    A005930  2022-04-08 15:30:12     67800.0  15:30:12   FALL        200.0   \n",
       "2    A005930  2022-04-07 15:30:13     68000.0  15:30:13   FALL        500.0   \n",
       "3    A005930  2022-04-06 15:30:13     68500.0  15:30:13   FALL        700.0   \n",
       "4    A005930  2022-04-05 15:30:18     69200.0  15:30:18   FALL        100.0   \n",
       "5    A005930  2022-04-04 15:30:28     69300.0  15:30:28   RISE        200.0   \n",
       "6    A005930  2022-04-01 15:30:17     69100.0  15:30:17   FALL        500.0   \n",
       "7    A005930  2022-03-31 15:30:14     69600.0  15:30:14   FALL        300.0   \n",
       "8    A005930  2022-03-30 15:30:10     69900.0  15:30:10   FALL        300.0   \n",
       "9    A005930  2022-03-29 15:30:15     70200.0  15:30:15   RISE        500.0   \n",
       "\n",
       "   changeRate  prevClosingPrice exchangeCountry  openingPrice  highPrice  \\\n",
       "0    0.001475           67800.0           KOREA       67800.0    68100.0   \n",
       "1   -0.002941           68000.0           KOREA       68100.0    68300.0   \n",
       "2   -0.007299           68500.0           KOREA       68500.0    68500.0   \n",
       "3   -0.010116           69200.0           KOREA       68600.0    68800.0   \n",
       "4   -0.001443           69300.0           KOREA       69400.0    69600.0   \n",
       "5    0.002894           69100.0           KOREA       68900.0    69300.0   \n",
       "6   -0.007184           69600.0           KOREA       69500.0    69500.0   \n",
       "7   -0.004292           69900.0           KOREA       69900.0    70200.0   \n",
       "8   -0.004274           70200.0           KOREA       70300.0    70500.0   \n",
       "9    0.007174           69700.0           KOREA       70000.0    70300.0   \n",
       "\n",
       "   lowPrice  accTradePrice  accTradeVolume  periodTradePrice  \\\n",
       "0   67400.0   831094572700        12263735      831094572700   \n",
       "1   67700.0  1050375034852        15453191     1050375034852   \n",
       "2   68000.0  1409872624700        20683327     1409872624700   \n",
       "3   68500.0  1064606110092        15517308     1064606110092   \n",
       "4   69100.0   586498194900         8467248      586498194900   \n",
       "5   68600.0   766930294459        11107905      766930294459   \n",
       "6   69000.0  1100422376400        15916846     1100422376400   \n",
       "7   69600.0   873212583300        12510366      873212583300   \n",
       "8   69800.0   887514318650        12670187      887514318650   \n",
       "9   69800.0   958589509700        13686208      958589509700   \n",
       "\n",
       "   periodTradeVolume listedSharesCount  \n",
       "0           12263735              None  \n",
       "1           15453191              None  \n",
       "2           20683327              None  \n",
       "3           15517308              None  \n",
       "4            8467248              None  \n",
       "5           11107905              None  \n",
       "6           15916846              None  \n",
       "7           12510366              None  \n",
       "8           12670187              None  \n",
       "9           13686208              None  "
      ]
     },
     "execution_count": 53,
     "metadata": {},
     "output_type": "execute_result"
    }
   ],
   "source": [
    "# json -> dataframe\n",
    "url = 'https://finance.daum.net/api/quote/A005930/days?symbolCode=A005930&page=2&perPage=10&pagination=true'\n",
    "info = {\n",
    "    'referer': 'https://finance.daum.net/quotes/A005930?period=day',\n",
    "    'user-agent': 'Mozilla/5.0 (Macintosh; Intel Mac OS X 10_15_7) AppleWebKit/537.36 (KHTML, like Gecko) Chrome/100.0.4896.88 Safari/537.36'\n",
    "}\n",
    "\n",
    "resp = requests.get(url, headers=info)\n",
    "\n",
    "data = json.loads(resp.text)\n",
    "\n",
    "df = pd.DataFrame(data['data'])\n",
    "df"
   ]
  }
 ],
 "metadata": {
  "colab": {
   "authorship_tag": "ABX9TyMM9bcGMQdkO/nwIX0kAuhm",
   "collapsed_sections": [],
   "name": "08_crawler.ipynb",
   "provenance": []
  },
  "kernelspec": {
   "display_name": "Python 3 (ipykernel)",
   "language": "python",
   "name": "python3"
  },
  "language_info": {
   "codemirror_mode": {
    "name": "ipython",
    "version": 3
   },
   "file_extension": ".py",
   "mimetype": "text/x-python",
   "name": "python",
   "nbconvert_exporter": "python",
   "pygments_lexer": "ipython3",
   "version": "3.8.8"
  },
  "toc": {
   "base_numbering": 1,
   "nav_menu": {},
   "number_sections": true,
   "sideBar": true,
   "skip_h1_title": true,
   "title_cell": "Table of Contents",
   "title_sidebar": "Contents",
   "toc_cell": false,
   "toc_position": {},
   "toc_section_display": true,
   "toc_window_display": false
  },
  "varInspector": {
   "cols": {
    "lenName": 16,
    "lenType": 16,
    "lenVar": 40
   },
   "kernels_config": {
    "python": {
     "delete_cmd_postfix": "",
     "delete_cmd_prefix": "del ",
     "library": "var_list.py",
     "varRefreshCmd": "print(var_dic_list())"
    },
    "r": {
     "delete_cmd_postfix": ") ",
     "delete_cmd_prefix": "rm(",
     "library": "var_list.r",
     "varRefreshCmd": "cat(var_dic_list()) "
    }
   },
   "types_to_exclude": [
    "module",
    "function",
    "builtin_function_or_method",
    "instance",
    "_Feature"
   ],
   "window_display": false
  }
 },
 "nbformat": 4,
 "nbformat_minor": 1
}
