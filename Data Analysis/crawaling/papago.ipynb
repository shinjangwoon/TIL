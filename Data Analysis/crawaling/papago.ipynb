{
 "cells": [
  {
   "cell_type": "code",
   "execution_count": null,
   "metadata": {},
   "outputs": [],
   "source": [
    "## 파파고 API\n",
    "def papago():\n",
    "\n",
    "    x = input('번역이 필요한 한국어를 입력하세요 : ')\n",
    "    url = 'https://openapi.naver.com/v1/papago/n2mt'\n",
    "\n",
    "    info = {\n",
    "        \"Content-Type\": \"application/x-www-form-urlencoded; charset=UTF-8\",\n",
    "        \"X-Naver-Client-Id\": \"OaahVkthqAM3Vk9zxRJz\",\n",
    "        \"X-Naver-Client-Secret\": \"\"\n",
    "    }\n",
    "\n",
    "    data = {\n",
    "        'source': 'ko',\n",
    "        'target': 'en',\n",
    "        'text': x\n",
    "    }\n",
    "\n",
    "    resp = requests.post(url, headers=info, data=data)\n",
    "\n",
    "    trans = json.loads(resp.text)\n",
    "\n",
    "    print(trans['message']['result']['translatedText'])\n",
    "\n",
    "\n",
    "papago()\n"
   ]
  }
 ],
 "metadata": {
  "language_info": {
   "name": "python"
  },
  "orig_nbformat": 4
 },
 "nbformat": 4,
 "nbformat_minor": 2
}
