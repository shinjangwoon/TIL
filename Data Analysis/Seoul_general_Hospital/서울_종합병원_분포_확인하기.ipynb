{
  "nbformat": 4,
  "nbformat_minor": 0,
  "metadata": {
    "colab": {
      "name": "서울 종합병원 분포 확인하기.ipynb",
      "private_outputs": true,
      "provenance": [],
      "collapsed_sections": [
        "e58yoD94-Nbq",
        "MXq20Btc-NRL",
        "IwDkjcCv7dt4",
        "MCM4jbFeulTJ"
      ],
      "mount_file_id": "16HbtYlvMqsgOLcvnfCCIImwUhCBZwzVh",
      "authorship_tag": "ABX9TyM4XzWmeqE4nkxPJp13Hg5f",
      "include_colab_link": true
    },
    "kernelspec": {
      "name": "python3",
      "display_name": "Python 3"
    },
    "language_info": {
      "name": "python"
    }
  },
  "cells": [
    {
      "cell_type": "markdown",
      "metadata": {
        "id": "view-in-github",
        "colab_type": "text"
      },
      "source": [
        "<a href=\"https://colab.research.google.com/github/shinjangwoon/TIL/blob/master/%EC%84%9C%EC%9A%B8_%EC%A2%85%ED%95%A9%EB%B3%91%EC%9B%90_%EB%B6%84%ED%8F%AC_%ED%99%95%EC%9D%B8%ED%95%98%EA%B8%B0.ipynb\" target=\"_parent\"><img src=\"https://colab.research.google.com/assets/colab-badge.svg\" alt=\"Open In Colab\"/></a>"
      ]
    },
    {
      "cell_type": "markdown",
      "metadata": {
        "id": "BEHBKxA98FEb"
      },
      "source": [
        "# 1. 공공데이터 상권정보 분석\n"
      ]
    },
    {
      "cell_type": "markdown",
      "metadata": {
        "id": "DPbiNeq68KHl"
      },
      "source": [
        "## 1-1. 필요한 라이브러리 "
      ]
    },
    {
      "cell_type": "code",
      "metadata": {
        "id": "oW1gGvNS4FNN"
      },
      "source": [
        "import pandas as pd\n",
        "import numpy as np\n",
        "import seaborn as sns"
      ],
      "execution_count": null,
      "outputs": []
    },
    {
      "cell_type": "code",
      "metadata": {
        "id": "FJ1FHEhAsWKZ"
      },
      "source": [
        "!sudo apt-get install -y fonts-nanum\n",
        "!sudo fc-cache -fv\n",
        "!rm ~/.cache/matplotlib -rf"
      ],
      "execution_count": null,
      "outputs": []
    },
    {
      "cell_type": "code",
      "metadata": {
        "id": "EyjBSHmn8tOU"
      },
      "source": [
        "from google.colab import drive\n",
        "drive.mount('/content/drive')"
      ],
      "execution_count": null,
      "outputs": []
    },
    {
      "cell_type": "markdown",
      "metadata": {
        "id": "n-r9ftof8Rxi"
      },
      "source": [
        "## 1-2. 시각화를 위한 폰트 설정"
      ]
    },
    {
      "cell_type": "code",
      "metadata": {
        "id": "ApkUA4jC7d-o"
      },
      "source": [
        "import matplotlib.pyplot as plt\n",
        "plt.rc('font', family='NanumBarunGothic') \n",
        "\n",
        "plt.rcParams['axes.unicode_minus'] =False\n",
        "\n",
        "\n",
        "\n",
        "\n",
        "%matplotlib inline\n"
      ],
      "execution_count": null,
      "outputs": []
    },
    {
      "cell_type": "code",
      "metadata": {
        "id": "RHzv2lgu7d7G"
      },
      "source": [
        "from IPython.display import set_matplotlib_formats\n",
        "# 폰트가 선명하게 보이기 위해\n",
        "set_matplotlib_formats('retina')"
      ],
      "execution_count": null,
      "outputs": []
    },
    {
      "cell_type": "markdown",
      "metadata": {
        "id": "X7H0-U8l8iNN"
      },
      "source": [
        "## 1-3. 데이터 로드하기\n"
      ]
    },
    {
      "cell_type": "code",
      "metadata": {
        "id": "zKCzeL1C7d4D"
      },
      "source": [
        "df = pd.read_csv('/content/drive/MyDrive/Colab Notebooks/practice/소상공인시장진흥공단_상가업소정보_의료기관_201909.csv', encoding='UTF-8')"
      ],
      "execution_count": null,
      "outputs": []
    },
    {
      "cell_type": "code",
      "metadata": {
        "id": "W08tsSTy7d1q"
      },
      "source": [
        "df.shape"
      ],
      "execution_count": null,
      "outputs": []
    },
    {
      "cell_type": "markdown",
      "metadata": {
        "id": "CUkASPtH-BG8"
      },
      "source": [
        "## 1-4 데이터 미리보기"
      ]
    },
    {
      "cell_type": "code",
      "metadata": {
        "id": "8irNMwYR7dy3"
      },
      "source": [
        "df.head()"
      ],
      "execution_count": null,
      "outputs": []
    },
    {
      "cell_type": "markdown",
      "metadata": {
        "id": "6DmK_xj47dwR"
      },
      "source": [
        "## 1-5 데이터 요약하기"
      ]
    },
    {
      "cell_type": "code",
      "metadata": {
        "id": "UR1U9aht-Nkx"
      },
      "source": [
        "df.info()"
      ],
      "execution_count": null,
      "outputs": []
    },
    {
      "cell_type": "code",
      "metadata": {
        "id": "j9TTaqYl-NhS"
      },
      "source": [
        "df.columns"
      ],
      "execution_count": null,
      "outputs": []
    },
    {
      "cell_type": "code",
      "metadata": {
        "id": "x0HEp8fM-Nec"
      },
      "source": [
        "df.dtypes"
      ],
      "execution_count": null,
      "outputs": []
    },
    {
      "cell_type": "markdown",
      "metadata": {
        "id": "e58yoD94-Nbq"
      },
      "source": [
        "## 결측치"
      ]
    },
    {
      "cell_type": "code",
      "metadata": {
        "id": "dw4pxj0k-NZL"
      },
      "source": [
        "null_count = df.isnull().sum()"
      ],
      "execution_count": null,
      "outputs": []
    },
    {
      "cell_type": "code",
      "metadata": {
        "id": "cKuzMgybsy9_"
      },
      "source": [
        "null_count"
      ],
      "execution_count": null,
      "outputs": []
    },
    {
      "cell_type": "code",
      "metadata": {
        "id": "PjBU1WeW-NWe"
      },
      "source": [
        "null_count.plot.barh(figsize=(5, 7))"
      ],
      "execution_count": null,
      "outputs": []
    },
    {
      "cell_type": "code",
      "metadata": {
        "id": "6t8VWzSq-NTx"
      },
      "source": [
        "df_null_count = null_count.reset_index()\n",
        "df_null_count.head()"
      ],
      "execution_count": null,
      "outputs": []
    },
    {
      "cell_type": "markdown",
      "metadata": {
        "id": "MXq20Btc-NRL"
      },
      "source": [
        "## 컬럼명 변경하기"
      ]
    },
    {
      "cell_type": "code",
      "metadata": {
        "id": "UC4HtQcJ-NOe"
      },
      "source": [
        "df_null_count.columns = ['컬럼명', '결측치수']\n",
        "df_null_count"
      ],
      "execution_count": null,
      "outputs": []
    },
    {
      "cell_type": "markdown",
      "metadata": {
        "id": "IwDkjcCv7dt4"
      },
      "source": [
        "## 정렬하기"
      ]
    },
    {
      "cell_type": "code",
      "metadata": {
        "id": "n7F0p6307drh"
      },
      "source": [
        "df_null_count_top = df_null_count.sort_values(by='결측치수', ascending=False).head(10)"
      ],
      "execution_count": null,
      "outputs": []
    },
    {
      "cell_type": "markdown",
      "metadata": {
        "id": "MCM4jbFeulTJ"
      },
      "source": [
        "## 특정 컬럼만 불러오기"
      ]
    },
    {
      "cell_type": "code",
      "metadata": {
        "id": "imvOateiulPw"
      },
      "source": [
        "df['지점명']"
      ],
      "execution_count": null,
      "outputs": []
    },
    {
      "cell_type": "code",
      "metadata": {
        "id": "OGJq-U-RulNS"
      },
      "source": [
        "drop_columns = df_null_count_top['컬럼명'].tolist()\n",
        "drop_columns"
      ],
      "execution_count": null,
      "outputs": []
    },
    {
      "cell_type": "code",
      "metadata": {
        "id": "E_3WoVLyulIc"
      },
      "source": [
        "print(df)\n",
        "df = df.drop(drop_columns, axis=1)\n",
        "print(df)"
      ],
      "execution_count": null,
      "outputs": []
    },
    {
      "cell_type": "code",
      "metadata": {
        "id": "9wWZeCg4ulGA"
      },
      "source": [
        "df['위도'].dtypes"
      ],
      "execution_count": null,
      "outputs": []
    },
    {
      "cell_type": "code",
      "metadata": {
        "id": "uDUiu5N_ulDQ"
      },
      "source": [
        "df['위도'].mean()"
      ],
      "execution_count": null,
      "outputs": []
    },
    {
      "cell_type": "code",
      "metadata": {
        "id": "RmeRnv-OulAt"
      },
      "source": [
        "df['위도'].median()"
      ],
      "execution_count": null,
      "outputs": []
    },
    {
      "cell_type": "code",
      "metadata": {
        "id": "3rp1RVy9uk-R"
      },
      "source": [
        "df['위도'].max()"
      ],
      "execution_count": null,
      "outputs": []
    },
    {
      "cell_type": "code",
      "metadata": {
        "id": "6twZWo8q3aN_"
      },
      "source": [
        "df['위도'].min()"
      ],
      "execution_count": null,
      "outputs": []
    },
    {
      "cell_type": "code",
      "metadata": {
        "id": "kT-cezvO3aKG"
      },
      "source": [
        "df['위도'].count()"
      ],
      "execution_count": null,
      "outputs": []
    },
    {
      "cell_type": "code",
      "metadata": {
        "id": "BGATVLf53aGw"
      },
      "source": [
        "df['위도'].describe()"
      ],
      "execution_count": null,
      "outputs": []
    },
    {
      "cell_type": "code",
      "metadata": {
        "id": "K6LJOXTr3itQ"
      },
      "source": [
        "df[['위도','경도']].describe()"
      ],
      "execution_count": null,
      "outputs": []
    },
    {
      "cell_type": "code",
      "metadata": {
        "id": "KsYaE43X3aEC"
      },
      "source": [
        "df.describe(include='number')"
      ],
      "execution_count": null,
      "outputs": []
    },
    {
      "cell_type": "code",
      "metadata": {
        "id": "NlpP6sZS4FrG"
      },
      "source": [
        "df.describe(include='object')"
      ],
      "execution_count": null,
      "outputs": []
    },
    {
      "cell_type": "code",
      "metadata": {
        "id": "rTBJxX4g4Fnk"
      },
      "source": [
        "df.describe(include='all')"
      ],
      "execution_count": null,
      "outputs": []
    },
    {
      "cell_type": "code",
      "metadata": {
        "id": "RuWyAMym4Fko"
      },
      "source": [
        "df['상권업종대분류명'].unique()"
      ],
      "execution_count": null,
      "outputs": []
    },
    {
      "cell_type": "code",
      "metadata": {
        "id": "H63EpJNF4rqp"
      },
      "source": [
        "df['상권업종대분류명'].nunique()"
      ],
      "execution_count": null,
      "outputs": []
    },
    {
      "cell_type": "code",
      "metadata": {
        "id": "QrswkFBI4rnL"
      },
      "source": [
        "df['상권업종중분류명'].unique()"
      ],
      "execution_count": null,
      "outputs": []
    },
    {
      "cell_type": "code",
      "metadata": {
        "id": "ozCMqwH04rj0"
      },
      "source": [
        "df['상권업종중분류명'].nunique()"
      ],
      "execution_count": null,
      "outputs": []
    },
    {
      "cell_type": "code",
      "metadata": {
        "id": "6dyrg5O_4rhB"
      },
      "source": [
        "df['상권업종소분류명'].unique()"
      ],
      "execution_count": null,
      "outputs": []
    },
    {
      "cell_type": "code",
      "metadata": {
        "id": "tMZKYy424rdq"
      },
      "source": [
        "df['상권업종소분류명'].nunique()"
      ],
      "execution_count": null,
      "outputs": []
    },
    {
      "cell_type": "code",
      "metadata": {
        "id": "Z57ZBNm84raq"
      },
      "source": [
        "len(df['상권업종소분류명'].unique())"
      ],
      "execution_count": null,
      "outputs": []
    },
    {
      "cell_type": "code",
      "metadata": {
        "id": "9FqGPfmC4rXT"
      },
      "source": [
        "city_normalize = df['시도명'].value_counts(normalize=True)"
      ],
      "execution_count": null,
      "outputs": []
    },
    {
      "cell_type": "code",
      "metadata": {
        "id": "tG4XZrOJ4Fhg"
      },
      "source": [
        "city_normalize.plot.barh()"
      ],
      "execution_count": null,
      "outputs": []
    },
    {
      "cell_type": "code",
      "metadata": {
        "id": "Eljlu6qY4Fet"
      },
      "source": [
        "city_normalize.plot.pie(figsize=(7, 7))"
      ],
      "execution_count": null,
      "outputs": []
    },
    {
      "cell_type": "code",
      "metadata": {
        "id": "UkQR-sL679mU"
      },
      "source": [
        "sns.countplot(data=df, y='시도명')"
      ],
      "execution_count": null,
      "outputs": []
    },
    {
      "cell_type": "code",
      "metadata": {
        "id": "c6J19AU679j3"
      },
      "source": [
        "df['상권업종대분류명'].value_counts()"
      ],
      "execution_count": null,
      "outputs": []
    },
    {
      "cell_type": "code",
      "metadata": {
        "id": "iWZ0SOWh79hy"
      },
      "source": [
        "c = df['상권업종중분류명'].value_counts()"
      ],
      "execution_count": null,
      "outputs": []
    },
    {
      "cell_type": "code",
      "metadata": {
        "id": "KPDBKhWV79e4"
      },
      "source": [
        "n = df['상권업종중분류명'].value_counts(normalize=True)"
      ],
      "execution_count": null,
      "outputs": []
    },
    {
      "cell_type": "code",
      "metadata": {
        "id": "OxVeajT-79cX"
      },
      "source": [
        "c.plot.bar(rot=0)"
      ],
      "execution_count": null,
      "outputs": []
    },
    {
      "cell_type": "code",
      "metadata": {
        "id": "YMIHcKlh79Z5"
      },
      "source": [
        "n.plot.pie()"
      ],
      "execution_count": null,
      "outputs": []
    },
    {
      "cell_type": "code",
      "metadata": {
        "id": "nWT6jA6o79XV"
      },
      "source": [
        "s = df['상권업종소분류명'].value_counts()"
      ],
      "execution_count": null,
      "outputs": []
    },
    {
      "cell_type": "code",
      "metadata": {
        "id": "HLRSQK9Q79U4"
      },
      "source": [
        "s.plot.barh(figsize=(7,8), grid=True)"
      ],
      "execution_count": null,
      "outputs": []
    },
    {
      "cell_type": "code",
      "metadata": {
        "id": "XAJaslr2_hSC"
      },
      "source": [
        ""
      ],
      "execution_count": null,
      "outputs": []
    },
    {
      "cell_type": "code",
      "metadata": {
        "id": "Yn0zXDTe_hJx"
      },
      "source": [
        "df_medical = df[df[\"상권업종중분류명\"] == \"약국/한약방\"].copy()\n"
      ],
      "execution_count": null,
      "outputs": []
    },
    {
      "cell_type": "code",
      "metadata": {
        "id": "aFjT3nNp_lBk"
      },
      "source": [
        "df.loc[df[\"상권업종대분류명\"] == \"의료\"][\"상권업종중분류명\"]\n"
      ],
      "execution_count": null,
      "outputs": []
    },
    {
      "cell_type": "code",
      "metadata": {
        "id": "JSBFLfHn_k-B"
      },
      "source": [
        "df.loc[df[\"상권업종대분류명\"] == \"의료\", \"상권업종중분류명\"]\n"
      ],
      "execution_count": null,
      "outputs": []
    },
    {
      "cell_type": "code",
      "metadata": {
        "id": "UT80yNiJ_k4P"
      },
      "source": [
        "m = df[\"상권업종대분류명\"] == \"의료\"\n",
        "df.loc[m, \"상권업종중분류명\"].value_counts()"
      ],
      "execution_count": null,
      "outputs": []
    },
    {
      "cell_type": "code",
      "metadata": {
        "id": "VMh-_3wr_k0s"
      },
      "source": [
        "df[df[\"상권업종중분류명\"] ==  \"유사의료업\"]\n"
      ],
      "execution_count": null,
      "outputs": []
    },
    {
      "cell_type": "code",
      "metadata": {
        "id": "KSOidk5a_3CQ"
      },
      "source": [
        "(df[\"상권업종소분류명\"] == \"약국\") & (df[\"시도명\"] == \"서울특별시\")\n"
      ],
      "execution_count": null,
      "outputs": []
    },
    {
      "cell_type": "code",
      "metadata": {
        "id": "SzQ4f1Ag-Lem"
      },
      "source": [
        "df_seoul_drug = df[(df[\"상권업종소분류명\"] == \"약국\") & (df[\"시도명\"] == \"서울특별시\")]\n",
        "print(df_seoul_drug.shape)\n",
        "df_seoul_drug.head()"
      ],
      "execution_count": null,
      "outputs": []
    },
    {
      "cell_type": "code",
      "metadata": {
        "id": "rBq2tan5-LbF"
      },
      "source": [
        "c = df_seoul_drug['시군구명'].value_counts()\n",
        "c.head()"
      ],
      "execution_count": null,
      "outputs": []
    },
    {
      "cell_type": "code",
      "metadata": {
        "id": "wIHzX9l9-LYd"
      },
      "source": [
        "n = df_seoul_drug['시군구명'].value_counts(normalize=True)\n",
        "n.head()"
      ],
      "execution_count": null,
      "outputs": []
    },
    {
      "cell_type": "code",
      "metadata": {
        "id": "A5j9bmAV-LVN"
      },
      "source": [
        "c.plot.bar(rot=60)"
      ],
      "execution_count": null,
      "outputs": []
    },
    {
      "cell_type": "code",
      "metadata": {
        "id": "aemzxwLs-LSi"
      },
      "source": [
        "df_seoul_hospital = df[(df['상권업종소분류명'] == '종합병원') & (df['시도명'] == '서울특별시')].copy()"
      ],
      "execution_count": null,
      "outputs": []
    },
    {
      "cell_type": "code",
      "metadata": {
        "id": "Z0McUMKi-LP9"
      },
      "source": [
        "df_seoul_hospital"
      ],
      "execution_count": null,
      "outputs": []
    },
    {
      "cell_type": "code",
      "metadata": {
        "id": "OihJEjK5-LNa"
      },
      "source": [
        "df_seoul_hospital['시군구명'].value_counts()"
      ],
      "execution_count": null,
      "outputs": []
    },
    {
      "cell_type": "code",
      "metadata": {
        "id": "MRNVX258BXgF"
      },
      "source": [
        "df_seoul_hospital.loc[~df_seoul_hospital['상호명'].str.contains('종합병원'), '상호명'].unique()"
      ],
      "execution_count": null,
      "outputs": []
    },
    {
      "cell_type": "code",
      "metadata": {
        "id": "eqVTqPQCBXcn"
      },
      "source": [
        "df_seoul_hospital[\"상호명\"].str.contains(\"꽃배달\")\n"
      ],
      "execution_count": null,
      "outputs": []
    },
    {
      "cell_type": "code",
      "metadata": {
        "id": "VPRZd8aCBXaO"
      },
      "source": [
        "df_seoul_hospital[df_seoul_hospital[\"상호명\"].str.contains(\"꽃배달\")]\n"
      ],
      "execution_count": null,
      "outputs": []
    },
    {
      "cell_type": "code",
      "metadata": {
        "id": "stnIc8aXBXYW"
      },
      "source": [
        "drop_row = df_seoul_hospital[\n",
        "df_seoul_hospital[\"상호명\"].str.contains(\"꽃배달|의료기|장례식장|상담소|어린이집\")].index\n",
        "\n",
        "drop_row = drop_row.tolist()\n",
        "drop_row\n"
      ],
      "execution_count": null,
      "outputs": []
    },
    {
      "cell_type": "code",
      "metadata": {
        "id": "-LgNXG3eBXVS"
      },
      "source": [
        "drop_row2 = df_seoul_hospital[df_seoul_hospital[\"상호명\"].str.endswith(\"의원\")].index\n",
        "drop_row2 = drop_row2.tolist()\n",
        "drop_row2"
      ],
      "execution_count": null,
      "outputs": []
    },
    {
      "cell_type": "code",
      "metadata": {
        "id": "uWktm4GQBXSZ"
      },
      "source": [
        "drop_row = drop_row + drop_row2\n",
        "len(drop_row)"
      ],
      "execution_count": null,
      "outputs": []
    },
    {
      "cell_type": "code",
      "metadata": {
        "id": "vXN6bM82GakH"
      },
      "source": [
        "print(df_seoul_hospital.shape)\n",
        "df_seoul_hospital = df_seoul_hospital.drop(drop_row, axis=0)\n",
        "print(df_seoul_hospital.shape)"
      ],
      "execution_count": null,
      "outputs": []
    },
    {
      "cell_type": "code",
      "metadata": {
        "id": "HNJIzGksGbWv"
      },
      "source": [
        "df_seoul_hospital[\"시군구명\"].value_counts().plot.bar()\n"
      ],
      "execution_count": null,
      "outputs": []
    },
    {
      "cell_type": "code",
      "metadata": {
        "id": "x-VlctCwGbTk"
      },
      "source": [
        "plt.figure(figsize=(15, 4))\n",
        "sns.countplot(data=df_seoul_hospital, x=\"시군구명\")"
      ],
      "execution_count": null,
      "outputs": []
    },
    {
      "cell_type": "code",
      "metadata": {
        "id": "1aja_VzJGbRZ"
      },
      "source": [
        "df_seoul = df[df['시도명'] == '서울특별시'].copy()\n",
        "df_seoul.shape"
      ],
      "execution_count": null,
      "outputs": []
    },
    {
      "cell_type": "code",
      "metadata": {
        "id": "4zBUybyTGbO8"
      },
      "source": [
        "df_seoul['시군구명'].value_counts().plot.bar(figsize=(10,4), rot=30)"
      ],
      "execution_count": null,
      "outputs": []
    },
    {
      "cell_type": "code",
      "metadata": {
        "id": "BfxasosYGbNe"
      },
      "source": [
        "plt.figure(figsize=(15,4))\n",
        "sns.countplot(data=df_seoul, x='시군구명')"
      ],
      "execution_count": null,
      "outputs": []
    },
    {
      "cell_type": "code",
      "metadata": {
        "id": "Kpdl6dnmGbKT"
      },
      "source": [
        "df_seoul[['경도', '위도', '시군구명']].plot.scatter(x='경도', y='위도', figsize=(8,7), grid=True)"
      ],
      "execution_count": null,
      "outputs": []
    },
    {
      "cell_type": "code",
      "metadata": {
        "id": "16ol5D6_GbH9"
      },
      "source": [
        "plt.figure(figsize=(10,8))\n",
        "sns.scatterplot(data=df_seoul, x='경도', y='위도', hue='시군구명')"
      ],
      "execution_count": null,
      "outputs": []
    },
    {
      "cell_type": "code",
      "metadata": {
        "id": "r7bD46i2GbFu"
      },
      "source": [
        "plt.figure(figsize=(10,8))\n",
        "sns.scatterplot(data=df_seoul, x='경도', y='위도', hue='상권업종중분류명')"
      ],
      "execution_count": null,
      "outputs": []
    },
    {
      "cell_type": "code",
      "metadata": {
        "id": "FgTJJeSeGagQ"
      },
      "source": [
        "plt.figure(figsize=(16, 12))\n",
        "sns.scatterplot(data=df, x='경도', y='위도', hue='시도명')"
      ],
      "execution_count": null,
      "outputs": []
    },
    {
      "cell_type": "markdown",
      "metadata": {
        "id": "OUNYSbatGadn"
      },
      "source": [
        "## folium"
      ]
    },
    {
      "cell_type": "code",
      "metadata": {
        "id": "pKq1lOb5Mwsg"
      },
      "source": [
        "import folium"
      ],
      "execution_count": null,
      "outputs": []
    },
    {
      "cell_type": "code",
      "metadata": {
        "id": "hlYYUKtMMwpe"
      },
      "source": [
        "df_seoul_hospital['위도'].mean()"
      ],
      "execution_count": null,
      "outputs": []
    },
    {
      "cell_type": "code",
      "metadata": {
        "id": "Od7f1Y0kMwmH"
      },
      "source": [
        "df_seoul_hospital['경도'].mean()"
      ],
      "execution_count": null,
      "outputs": []
    },
    {
      "cell_type": "code",
      "metadata": {
        "id": "ok2sKxGsNtWM"
      },
      "source": [
        "df_seoul_hospital.head(1)"
      ],
      "execution_count": null,
      "outputs": []
    },
    {
      "cell_type": "code",
      "metadata": {
        "id": "NFyp44hmMwjX"
      },
      "source": [
        " map = folium.Map(location=[df_seoul_hospital['위도'].mean(), df_seoul_hospital['경도'].mean()],\n",
        "           zoom_start=12)\n",
        "for n in df_seoul_hospital.index:\n",
        "    name = df_seoul_hospital.loc[n, '상호명']\n",
        "    address = df_seoul_hospital.loc[n, '도로명주소']\n",
        "    popup = f\"{name}-{address}\"\n",
        "\n",
        "    location = [df_seoul_hospital.loc[n, '위도'], df_seoul_hospital.loc[n, '경도']]\n",
        "    folium.Marker(\n",
        "        location = location,\n",
        "        popup = popup,\n",
        "\n",
        "    ).add_to(map)\n",
        "map"
      ],
      "execution_count": null,
      "outputs": []
    },
    {
      "cell_type": "code",
      "metadata": {
        "id": "nIww2QIkMwiL"
      },
      "source": [
        ""
      ],
      "execution_count": null,
      "outputs": []
    },
    {
      "cell_type": "code",
      "metadata": {
        "id": "WnTTeFpWMweL"
      },
      "source": [
        ""
      ],
      "execution_count": null,
      "outputs": []
    },
    {
      "cell_type": "code",
      "metadata": {
        "id": "74SkdMOcMwbO"
      },
      "source": [
        ""
      ],
      "execution_count": null,
      "outputs": []
    },
    {
      "cell_type": "code",
      "metadata": {
        "id": "cAjXxBPKMwY9"
      },
      "source": [
        ""
      ],
      "execution_count": null,
      "outputs": []
    },
    {
      "cell_type": "code",
      "metadata": {
        "id": "tI4MyW6EMwVn"
      },
      "source": [
        ""
      ],
      "execution_count": null,
      "outputs": []
    },
    {
      "cell_type": "code",
      "metadata": {
        "id": "kGXaoiVEMwTP"
      },
      "source": [
        ""
      ],
      "execution_count": null,
      "outputs": []
    },
    {
      "cell_type": "code",
      "metadata": {
        "id": "IVv_3ipHMwQg"
      },
      "source": [
        ""
      ],
      "execution_count": null,
      "outputs": []
    }
  ]
}
