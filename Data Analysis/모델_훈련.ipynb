{
  "nbformat": 4,
  "nbformat_minor": 0,
  "metadata": {
    "colab": {
      "name": "모델 훈련.ipynb",
      "provenance": [],
      "collapsed_sections": [],
      "mount_file_id": "1-VmGAh1LrmxnUjMXtwq4YWniDLVo4Ch1",
      "authorship_tag": "ABX9TyMaxewuuvvpapyz4sP5FsgB",
      "include_colab_link": true
    },
    "kernelspec": {
      "name": "python3",
      "display_name": "Python 3"
    },
    "language_info": {
      "name": "python"
    }
  },
  "cells": [
    {
      "cell_type": "markdown",
      "metadata": {
        "id": "view-in-github",
        "colab_type": "text"
      },
      "source": [
        "<a href=\"https://colab.research.google.com/github/shinjangwoon/TIL/blob/master/Data%20Analysis/%EB%AA%A8%EB%8D%B8_%ED%9B%88%EB%A0%A8.ipynb\" target=\"_parent\"><img src=\"https://colab.research.google.com/assets/colab-badge.svg\" alt=\"Open In Colab\"/></a>"
      ]
    },
    {
      "cell_type": "markdown",
      "source": [
        "# 정규방정식\n"
      ],
      "metadata": {
        "id": "cFAQ-qx5u_Gt"
      }
    },
    {
      "cell_type": "code",
      "source": [
        "# 선형 데이터 생성\n",
        "import numpy as np\n",
        "\n",
        "X = 2 * np.random.rand(100 ,1)\n",
        "y = 4 + 3 * X + np.random.randn(100, 1)"
      ],
      "metadata": {
        "id": "UHVuA9wQ5Kaw"
      },
      "execution_count": 1,
      "outputs": []
    },
    {
      "cell_type": "code",
      "source": [
        "# 정규 방정식 사용하여 계산\n",
        "# numpy 선형대수 모듈(np.linalg)에 있는 inv() 함수 사용하여 역행렬을 계산하고\n",
        "# dot() 메서드를 사용해 행렬 곱셈\n",
        "X_b = np.c_[np.ones((100, 1)), X] # 모든 샘플에 x0 = 1를 추가\n",
        "theta_best = np.linalg.inv(X_b.T.dot(X_b)).dot(X_b.T).dot(y)"
      ],
      "metadata": {
        "id": "frwP8f_f5KP6"
      },
      "execution_count": 2,
      "outputs": []
    },
    {
      "cell_type": "code",
      "source": [
        "theta_best"
      ],
      "metadata": {
        "colab": {
          "base_uri": "https://localhost:8080/"
        },
        "id": "nURbY4lj5KNa",
        "outputId": "d82863d5-c49a-4df1-f013-83d065802f5f"
      },
      "execution_count": 3,
      "outputs": [
        {
          "output_type": "execute_result",
          "data": {
            "text/plain": [
              "array([[4.15852313],\n",
              "       [2.93130766]])"
            ]
          },
          "metadata": {},
          "execution_count": 3
        }
      ]
    },
    {
      "cell_type": "code",
      "source": [
        "X_new = np.array([[0], [2]])\n",
        "X_new_b = np.c_[np.ones((2, 1)), X_new] # 모든 샘플에 x0 = 1를 추가\n",
        "y_predict = X_new_b.dot(theta_best)\n",
        "y_predict"
      ],
      "metadata": {
        "colab": {
          "base_uri": "https://localhost:8080/"
        },
        "id": "d6LTzsfu5KLI",
        "outputId": "9aa09120-8256-4b2f-d0e5-bad1a106d5d0"
      },
      "execution_count": 4,
      "outputs": [
        {
          "output_type": "execute_result",
          "data": {
            "text/plain": [
              "array([[ 4.15852313],\n",
              "       [10.02113845]])"
            ]
          },
          "metadata": {},
          "execution_count": 4
        }
      ]
    },
    {
      "cell_type": "code",
      "source": [
        "# 나눔 고딕 설치\n",
        "#   !sudo apt-get install -y fonts-nanum\n",
        "#   !sudo fc-cache -fv\n",
        "#   !rm ~/.cache/matplotlib -rf"
      ],
      "metadata": {
        "colab": {
          "base_uri": "https://localhost:8080/"
        },
        "id": "fJ3gfaKtMHrV",
        "outputId": "20dcd0e5-6943-48bf-bf74-00b245f86298"
      },
      "execution_count": 5,
      "outputs": [
        {
          "output_type": "stream",
          "name": "stdout",
          "text": [
            "Reading package lists... Done\n",
            "Building dependency tree       \n",
            "Reading state information... Done\n",
            "fonts-nanum is already the newest version (20170925-1).\n",
            "0 upgraded, 0 newly installed, 0 to remove and 58 not upgraded.\n",
            "/usr/share/fonts: caching, new cache contents: 0 fonts, 1 dirs\n",
            "/usr/share/fonts/truetype: caching, new cache contents: 0 fonts, 3 dirs\n",
            "/usr/share/fonts/truetype/humor-sans: caching, new cache contents: 1 fonts, 0 dirs\n",
            "/usr/share/fonts/truetype/liberation: caching, new cache contents: 16 fonts, 0 dirs\n",
            "/usr/share/fonts/truetype/nanum: caching, new cache contents: 31 fonts, 0 dirs\n",
            "/usr/local/share/fonts: caching, new cache contents: 0 fonts, 0 dirs\n",
            "/root/.local/share/fonts: skipping, no such directory\n",
            "/root/.fonts: skipping, no such directory\n",
            "/var/cache/fontconfig: cleaning cache directory\n",
            "/root/.cache/fontconfig: not cleaning non-existent cache directory\n",
            "/root/.fontconfig: not cleaning non-existent cache directory\n",
            "fc-cache: succeeded\n"
          ]
        }
      ]
    },
    {
      "cell_type": "code",
      "source": [
        "  import matplotlib.pyplot as plt\n",
        "\n",
        "  plt.rc('font', family='NanumBarunGothic')\n"
      ],
      "metadata": {
        "id": "LsG-Doq6Oth9"
      },
      "execution_count": 6,
      "outputs": []
    },
    {
      "cell_type": "code",
      "source": [
        "import matplotlib\n",
        "import matplotlib.pyplot as plt\n",
        "%matplotlib inline\n",
        "import seaborn as sns\n",
        "\n",
        "\n",
        " \n",
        "plt.plot(X_new, y_predict, \"r-\", linewidth=2, label=\"예측\")\n",
        "plt.plot(X, y, \"b.\")\n",
        "plt.xlabel(\"$x_1$\", fontsize=18)\n",
        "plt.ylabel(\"$y$\", rotation=0, fontsize=18)\n",
        "plt.legend(loc=\"upper left\", fontsize=14)\n",
        "plt.axis([0, 2, 0, 15])\n",
        "plt.show()"
      ],
      "metadata": {
        "colab": {
          "base_uri": "https://localhost:8080/",
          "height": 289
        },
        "id": "3Jwbup8S5KIp",
        "outputId": "ee840ff6-5b35-4c51-e6c2-155a08a80509"
      },
      "execution_count": 7,
      "outputs": [
        {
          "output_type": "display_data",
          "data": {
            "image/png": "[encoded data removed]",
            "text/plain": [
              "<Figure size 432x288 with 1 Axes>"
            ]
          },
          "metadata": {
            "needs_background": "light"
          }
        }
      ]
    },
    {
      "cell_type": "code",
      "source": [
        "# 사이킷런에서 선형 회귀 \n",
        "from sklearn.linear_model import LinearRegression\n",
        "\n",
        "lin_reg = LinearRegression()\n",
        "lin_reg.fit(X, y)"
      ],
      "metadata": {
        "colab": {
          "base_uri": "https://localhost:8080/"
        },
        "id": "Q-KIKC7A5KGK",
        "outputId": "eb93773e-9a26-438e-b892-fa2e37289dea"
      },
      "execution_count": 8,
      "outputs": [
        {
          "output_type": "execute_result",
          "data": {
            "text/plain": [
              "LinearRegression()"
            ]
          },
          "metadata": {},
          "execution_count": 8
        }
      ]
    },
    {
      "cell_type": "code",
      "source": [
        "lin_reg.intercept_, lin_reg.coef_"
      ],
      "metadata": {
        "colab": {
          "base_uri": "https://localhost:8080/"
        },
        "id": "agBSNbWxPZt1",
        "outputId": "c0492b14-930a-4f8d-abcd-bf74e6e035d0"
      },
      "execution_count": 9,
      "outputs": [
        {
          "output_type": "execute_result",
          "data": {
            "text/plain": [
              "(array([4.15852313]), array([[2.93130766]]))"
            ]
          },
          "metadata": {},
          "execution_count": 9
        }
      ]
    },
    {
      "cell_type": "code",
      "source": [
        "lin_reg.predict(X_new)"
      ],
      "metadata": {
        "colab": {
          "base_uri": "https://localhost:8080/"
        },
        "id": "RiY1GWobPjzn",
        "outputId": "0e59753c-328e-4026-d2fb-80f0304ac5f0"
      },
      "execution_count": 10,
      "outputs": [
        {
          "output_type": "execute_result",
          "data": {
            "text/plain": [
              "array([[ 4.15852313],\n",
              "       [10.02113845]])"
            ]
          },
          "metadata": {},
          "execution_count": 10
        }
      ]
    },
    {
      "cell_type": "code",
      "source": [
        "# LinearRegression 클래스는 scipy.linalg.lstsq() 함수(최소제곱)를 기반으로 함\n",
        "theta_best_svd, residuals, rank, s = np.linalg.lstsq(X_b, y, rcond=1e-6)\n",
        "theta_best_svd"
      ],
      "metadata": {
        "colab": {
          "base_uri": "https://localhost:8080/"
        },
        "id": "sXDglITeQuzA",
        "outputId": "a196e8ee-1409-4637-b06f-08c878d3e66f"
      },
      "execution_count": 11,
      "outputs": [
        {
          "output_type": "execute_result",
          "data": {
            "text/plain": [
              "array([[4.15852313],\n",
              "       [2.93130766]])"
            ]
          },
          "metadata": {},
          "execution_count": 11
        }
      ]
    },
    {
      "cell_type": "code",
      "source": [
        "# np.linalg.pinv() 함수를 사용해 유사역행렬을 구할 수 있음\n",
        "np.linalg.pinv(X_b).dot(y)"
      ],
      "metadata": {
        "colab": {
          "base_uri": "https://localhost:8080/"
        },
        "id": "shLOhc9xQuve",
        "outputId": "267c821d-a221-4740-bdb2-3a3e88aa6f2c"
      },
      "execution_count": 12,
      "outputs": [
        {
          "output_type": "execute_result",
          "data": {
            "text/plain": [
              "array([[4.15852313],\n",
              "       [2.93130766]])"
            ]
          },
          "metadata": {},
          "execution_count": 12
        }
      ]
    },
    {
      "cell_type": "markdown",
      "source": [
        "# 경사하강법"
      ],
      "metadata": {
        "id": "9JZThwBfQusp"
      }
    },
    {
      "cell_type": "code",
      "source": [
        "eta = 0.1 # 학습률\n",
        "n_iterations = 1000\n",
        "m = 100\n",
        "\n",
        "theta = np.random.randn(2, 1) # 무작위 초기화\n",
        "\n",
        "for iteration in range(n_iterations):\n",
        "    gradients = 2/m * X_b.T.dot(X_b.dot(theta) - y)\n",
        "    theta = theta - eta * gradients"
      ],
      "metadata": {
        "id": "3XzAzRuaQupv"
      },
      "execution_count": 13,
      "outputs": []
    },
    {
      "cell_type": "code",
      "source": [
        "theta"
      ],
      "metadata": {
        "colab": {
          "base_uri": "https://localhost:8080/"
        },
        "id": "HgETcARBQunL",
        "outputId": "3344fbb5-6e59-4c43-944f-7e596811deda"
      },
      "execution_count": 14,
      "outputs": [
        {
          "output_type": "execute_result",
          "data": {
            "text/plain": [
              "array([[4.15852313],\n",
              "       [2.93130766]])"
            ]
          },
          "metadata": {},
          "execution_count": 14
        }
      ]
    },
    {
      "cell_type": "markdown",
      "source": [
        "- 정규방정식으로 찾은 것과 같음"
      ],
      "metadata": {
        "id": "TwaHifscQukj"
      }
    },
    {
      "cell_type": "code",
      "source": [
        "weight_path_bgd = []\n",
        "\n",
        "def plot_gradient_descent(weight, eta, weight_path=None):\n",
        "    m = len(X_b)\n",
        "    plt.plot(X, y, \"b.\")\n",
        "    n_iterations = 1000\n",
        "    for iteration in range(n_iterations):\n",
        "        if iteration < 10:\n",
        "            y_predict = X_new_b.dot(weight)\n",
        "            style = \"b-\" if iteration > 0 else \"r--\"\n",
        "            plt.plot(X_new, y_predict, style)\n",
        "        gradients = 2/m * X_b.T.dot(X_b.dot(weight) - y)\n",
        "        weight = weight - eta * gradients\n",
        "        if weight_path is not None:\n",
        "            weight_path.append(weight)\n",
        "    plt.xlabel(\"$x_1$\", fontsize=18)\n",
        "    plt.axis([0, 2, 0, 15])\n",
        "    plt.title(r\"$\\eta = {}$\".format(eta), fontsize=16)"
      ],
      "metadata": {
        "id": "sxvYtWwOT5LW"
      },
      "execution_count": 16,
      "outputs": []
    },
    {
      "cell_type": "code",
      "source": [
        "np.random.seed(42)\n",
        "weight = np.random.randn(2,1)  # random initialization\n",
        "\n",
        "plt.figure(figsize=(10,4))\n",
        "plt.subplot(131); plot_gradient_descent(weight, eta=0.02)\n",
        "plt.ylabel(\"$y$\", rotation=0, fontsize=18)\n",
        "plt.subplot(132); plot_gradient_descent(weight, eta=0.1, weight_path=weight_path_bgd)\n",
        "plt.subplot(133); plot_gradient_descent(weight, eta=0.5)\n",
        "plt.show()"
      ],
      "metadata": {
        "colab": {
          "base_uri": "https://localhost:8080/",
          "height": 309
        },
        "id": "aw76hG2yQuiE",
        "outputId": "573f4fbe-d6c3-4eba-fcf7-071f04e0f200"
      },
      "execution_count": 17,
      "outputs": [
        {
          "output_type": "display_data",
          "data": {
            "image/png": "[encoded data removed]",
            "text/plain": [
              "<Figure size 720x288 with 3 Axes>"
            ]
          },
          "metadata": {
            "needs_background": "light"
          }
        }
      ]
    },
    {
      "cell_type": "code",
      "source": [
        "weight_path_sgd = []\n",
        "m = len(X_b)\n",
        "np.random.seed(42)"
      ],
      "metadata": {
        "id": "qNSRuawPQufJ"
      },
      "execution_count": 18,
      "outputs": []
    },
    {
      "cell_type": "code",
      "source": [
        "n_epochs = 50\n",
        "t0, t1 = 5, 50 # 학습 스케줄 하이퍼파라미터\n",
        "\n",
        "def learning_schedule(t):\n",
        "    return t0 / (t + t1)\n",
        "\n",
        "weight = np.random.randn(2, 1)  # 무작위 초기화\n",
        "\n",
        "for epoch in range(n_epochs):\n",
        "    for i in range(m):\n",
        "        if epoch == 0 and i < 20:\n",
        "            y_predict = X_new_b.dot(weight)\n",
        "            style = 'b-' if i > 0 else 'r--'\n",
        "            plt.plot(X_new, y_predict, style)\n",
        "            \n",
        "        random_index = np.random.randint(m)\n",
        "        xi = X_b[random_index:random_index+1]\n",
        "        yi = y[random_index:random_index+1]\n",
        "        gradients = 2 * xi.T.dot(xi.dot(weight) - yi)\n",
        "        eta - learning_schedule(epoch * m + i)\n",
        "        weight = weight - eta * gradients\n",
        "        weight_path_sgd.append(weight)\n",
        "        \n",
        "    if (epoch+1) % 10 == 0:\n",
        "        print('Epoch :{:03d}, weight = \\n {}'.format(epoch+1, weight))\n",
        "        \n",
        "        \n",
        "plt.plot(X, y, \"b.\")                                 \n",
        "plt.xlabel(\"$x_1$\", fontsize=18)                     \n",
        "plt.ylabel(\"$y$\", rotation=0, fontsize=18)           \n",
        "plt.axis([0, 2, 0, 15])                              \n",
        "plt.show()    "
      ],
      "metadata": {
        "colab": {
          "base_uri": "https://localhost:8080/",
          "height": 557
        },
        "id": "XR4AibBMQucj",
        "outputId": "b231d461-f531-4555-d942-63b2c7bc72e5"
      },
      "execution_count": 19,
      "outputs": [
        {
          "output_type": "stream",
          "name": "stdout",
          "text": [
            "Epoch :010, weight = \n",
            " [[3.80342694]\n",
            " [3.13940896]]\n",
            "Epoch :020, weight = \n",
            " [[4.03123399]\n",
            " [2.28084246]]\n",
            "Epoch :030, weight = \n",
            " [[4.3065751 ]\n",
            " [2.46274167]]\n",
            "Epoch :040, weight = \n",
            " [[3.31332462]\n",
            " [2.87910458]]\n",
            "Epoch :050, weight = \n",
            " [[4.78299175]\n",
            " [2.92773488]]\n"
          ]
        },
        {
          "output_type": "display_data",
          "data": {
            "image/png": "[encoded data removed]",
            "text/plain": [
              "<Figure size 432x288 with 1 Axes>"
            ]
          },
          "metadata": {
            "needs_background": "light"
          }
        }
      ]
    },
    {
      "cell_type": "markdown",
      "source": [
        "- 한 반복에서 m번 되풀이 되고, 이때 각 반복을 에포크(epoch)라고 함\n",
        "- 50번만 반복하고도 좋은 값을 얻음"
      ],
      "metadata": {
        "id": "XmqWm9ZvYAts"
      }
    },
    {
      "cell_type": "markdown",
      "source": [
        "# SGDRegressor \n",
        "- 사이킷런에서 SGD 방식으로 선형 회귀를 사용하려면 기본 값으로 제곱 오차 비용 함수를 최적화하는 클래스"
      ],
      "metadata": {
        "id": "A8hFtm56YO_-"
      }
    },
    {
      "cell_type": "code",
      "source": [
        "from sklearn.linear_model import SGDRegressor\n",
        "\n",
        "sgd_reg = SGDRegressor(max_iter=50, penalty=None, eta0=0.1, random_state=42)\n",
        "sgd_reg.fit(X, y.ravel())"
      ],
      "metadata": {
        "colab": {
          "base_uri": "https://localhost:8080/"
        },
        "id": "SBaedDjnYpB-",
        "outputId": "e912567f-da5f-4fd4-f283-b99729e41e9d"
      },
      "execution_count": 21,
      "outputs": [
        {
          "output_type": "execute_result",
          "data": {
            "text/plain": [
              "SGDRegressor(eta0=0.1, max_iter=50, penalty=None, random_state=42)"
            ]
          },
          "metadata": {},
          "execution_count": 21
        }
      ]
    },
    {
      "cell_type": "code",
      "source": [
        "sgd_reg.intercept_, sgd_reg.coef_"
      ],
      "metadata": {
        "colab": {
          "base_uri": "https://localhost:8080/"
        },
        "id": "7LpWSIaGYyil",
        "outputId": "a694b204-e9fa-4729-90d4-5ef53edee1f2"
      },
      "execution_count": 22,
      "outputs": [
        {
          "output_type": "execute_result",
          "data": {
            "text/plain": [
              "(array([4.14150192]), array([2.89423848]))"
            ]
          },
          "metadata": {},
          "execution_count": 22
        }
      ]
    },
    {
      "cell_type": "markdown",
      "source": [
        "- 정규방정식으로 구한 값과 매우 비슷한 값을 얻음"
      ],
      "metadata": {
        "id": "YvJaIMB_am1_"
      }
    },
    {
      "cell_type": "markdown",
      "source": [
        "# 미니배치 경사 하강법"
      ],
      "metadata": {
        "id": "m9x0jnS3amyn"
      }
    },
    {
      "cell_type": "code",
      "source": [
        "weight_path_mgd = []\n",
        "\n",
        "n_iterations = 100\n",
        "minibatch_size = 20\n",
        "\n",
        "np.random.seed(42)\n",
        "weight = np.random.randn(2,1)  # random init\n",
        "\n",
        "t0, t1 = 200, 1000\n",
        "def learning_schedule(t):\n",
        "    return t0 / (t + t1)\n",
        "\n",
        "t = 0\n",
        "for epoch in range(n_iterations):\n",
        "    shuffled_indices = np.random.permutation(m)\n",
        "    X_b_shuffled = X_b[shuffled_indices]\n",
        "    y_shuffled = y[shuffled_indices]\n",
        "    for i in range(0, m, minibatch_size):\n",
        "        t += 1\n",
        "        xi = X_b_shuffled[i:i+minibatch_size]\n",
        "        yi = y_shuffled[i:i+minibatch_size]\n",
        "        gradients = 2/minibatch_size * xi.T.dot(xi.dot(weight) - yi)\n",
        "        eta = learning_schedule(t)\n",
        "        weight = weight - eta * gradients\n",
        "        weight_path_mgd.append(weight)\n",
        "        \n",
        "    if (epoch+1) % 10 == 0:\n",
        "        print('Epoch :{:03d}, weight = \\n {}'.format(epoch+1, weight))"
      ],
      "metadata": {
        "colab": {
          "base_uri": "https://localhost:8080/"
        },
        "id": "6Duj30rTamwW",
        "outputId": "746061fd-e376-4169-d20c-508adc6cd0e4"
      },
      "execution_count": 23,
      "outputs": [
        {
          "output_type": "stream",
          "name": "stdout",
          "text": [
            "Epoch :010, weight = \n",
            " [[4.27601771]\n",
            " [3.11173827]]\n",
            "Epoch :020, weight = \n",
            " [[4.09587844]\n",
            " [2.8932398 ]]\n",
            "Epoch :030, weight = \n",
            " [[4.16222694]\n",
            " [2.93581959]]\n",
            "Epoch :040, weight = \n",
            " [[4.22728346]\n",
            " [3.02683246]]\n",
            "Epoch :050, weight = \n",
            " [[4.12439157]\n",
            " [2.91377893]]\n",
            "Epoch :060, weight = \n",
            " [[4.23494784]\n",
            " [3.02689361]]\n",
            "Epoch :070, weight = \n",
            " [[4.21354881]\n",
            " [2.98086995]]\n",
            "Epoch :080, weight = \n",
            " [[4.18645042]\n",
            " [2.94126073]]\n",
            "Epoch :090, weight = \n",
            " [[4.18131161]\n",
            " [2.92524648]]\n",
            "Epoch :100, weight = \n",
            " [[4.2032058 ]\n",
            " [2.98481677]]\n"
          ]
        }
      ]
    },
    {
      "cell_type": "code",
      "source": [
        "weight_path_bgd = np.array(weight_path_bgd)\n",
        "weight_path_sgd = np.array(weight_path_sgd)\n",
        "weight_path_mgd = np.array(weight_path_mgd)"
      ],
      "metadata": {
        "id": "0w93ZNoIamtn"
      },
      "execution_count": 24,
      "outputs": []
    },
    {
      "cell_type": "code",
      "source": [
        "plt.figure(figsize=(7,4))\n",
        "plt.plot(weight_path_sgd[:, 0], weight_path_sgd[:, 1], \"r-s\", linewidth=1, label=\"SGD\")\n",
        "plt.plot(weight_path_mgd[:, 0], weight_path_mgd[:, 1], \"g-+\", linewidth=2, label=\"미니배치\")\n",
        "plt.plot(weight_path_bgd[:, 0], weight_path_bgd[:, 1], \"b-o\", linewidth=3, label=\"배치\")\n",
        "plt.legend(loc=\"upper left\", fontsize=16)\n",
        "plt.xlabel(r\"$\\theta_0$\", fontsize=20)\n",
        "plt.ylabel(r\"$\\theta_1$   \", fontsize=20, rotation=0)\n",
        "plt.axis([2.5, 4.5, 2.3, 3.9])\n",
        "plt.show()"
      ],
      "metadata": {
        "colab": {
          "base_uri": "https://localhost:8080/",
          "height": 292
        },
        "id": "DiA1ZII7amrL",
        "outputId": "d6a82d64-01a2-4bc0-ed1a-346a67a8142d"
      },
      "execution_count": 25,
      "outputs": [
        {
          "output_type": "display_data",
          "data": {
            "image/png": "[encoded data removed]",
            "text/plain": [
              "<Figure size 504x288 with 1 Axes>"
            ]
          },
          "metadata": {
            "needs_background": "light"
          }
        }
      ]
    },
    {
      "cell_type": "code",
      "source": [
        ""
      ],
      "metadata": {
        "id": "qwWNE-Ibamoy"
      },
      "execution_count": null,
      "outputs": []
    },
    {
      "cell_type": "code",
      "source": [
        ""
      ],
      "metadata": {
        "id": "JUfzb0ssammk"
      },
      "execution_count": null,
      "outputs": []
    },
    {
      "cell_type": "code",
      "source": [
        ""
      ],
      "metadata": {
        "id": "QnVE3YzOamkB"
      },
      "execution_count": null,
      "outputs": []
    },
    {
      "cell_type": "code",
      "source": [
        ""
      ],
      "metadata": {
        "id": "F98dwC61amhq"
      },
      "execution_count": null,
      "outputs": []
    },
    {
      "cell_type": "code",
      "source": [
        ""
      ],
      "metadata": {
        "id": "HOrerbJ1amfY"
      },
      "execution_count": null,
      "outputs": []
    },
    {
      "cell_type": "code",
      "source": [
        ""
      ],
      "metadata": {
        "id": "0UWzCk1Wamc9"
      },
      "execution_count": null,
      "outputs": []
    },
    {
      "cell_type": "code",
      "source": [
        ""
      ],
      "metadata": {
        "id": "EbUSqCKZamav"
      },
      "execution_count": null,
      "outputs": []
    },
    {
      "cell_type": "code",
      "source": [
        ""
      ],
      "metadata": {
        "id": "ZTxUSp7DamYk"
      },
      "execution_count": null,
      "outputs": []
    },
    {
      "cell_type": "code",
      "source": [
        ""
      ],
      "metadata": {
        "id": "AlFqsr-VamWg"
      },
      "execution_count": null,
      "outputs": []
    },
    {
      "cell_type": "code",
      "source": [
        ""
      ],
      "metadata": {
        "id": "CYS0KrryamUI"
      },
      "execution_count": null,
      "outputs": []
    },
    {
      "cell_type": "code",
      "source": [
        ""
      ],
      "metadata": {
        "id": "pLsrpjw6amR3"
      },
      "execution_count": null,
      "outputs": []
    },
    {
      "cell_type": "code",
      "source": [
        ""
      ],
      "metadata": {
        "id": "J42yY1tjamPs"
      },
      "execution_count": null,
      "outputs": []
    },
    {
      "cell_type": "code",
      "source": [
        ""
      ],
      "metadata": {
        "id": "L5pMG8VbamNb"
      },
      "execution_count": null,
      "outputs": []
    }
  ]
}