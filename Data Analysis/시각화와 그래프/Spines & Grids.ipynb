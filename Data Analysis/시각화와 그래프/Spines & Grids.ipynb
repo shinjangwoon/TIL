{
 "cells": [
  {
   "cell_type": "markdown",
   "metadata": {},
   "source": [
    "# Matplotlib에서 제공하는 옵션 중에서 축과 격자를 설정하는 Axes.spines와 Axes.grid에 관한 내용입니다."
   ]
  },
  {
   "cell_type": "markdown",
   "metadata": {},
   "source": [
    "## 라이브러리"
   ]
  },
  {
   "cell_type": "code",
   "execution_count": 1,
   "metadata": {},
   "outputs": [],
   "source": [
    "import matplotlib.pyplot as plt\n",
    "from matplotlib.ticker import (MultipleLocator, AutoMinorLocator, FuncFormatter)\n",
    "import seaborn as sns\n",
    "import numpy as np"
   ]
  },
  {
   "cell_type": "markdown",
   "metadata": {},
   "source": [
    "## plot_example() 함수\n"
   ]
  },
  {
   "cell_type": "code",
   "execution_count": 10,
   "metadata": {},
   "outputs": [],
   "source": [
    "\n",
    "2\n",
    "3\n",
    "4\n",
    "5\n",
    "6\n",
    "7\n",
    "8\n",
    "9\n",
    "10\n",
    "11\n",
    "12\n",
    "13\n",
    "14\n",
    "15\n",
    "16\n",
    "17\n",
    "18\n",
    "19\n",
    "20\n",
    "21\n",
    "22\n",
    "23\n",
    "\n",
    "\n",
    "def plot_example(ax, zorder=0):\n",
    "    ax.bar(tips_day[\"day\"], tips_day[\"tip\"], color=\"lightgray\", zorder=zorder)\n",
    "    ax.set_title(\"tip (mean)\", fontsize=16, pad=12)\n",
    "\n",
    "    # Values\n",
    "    h_pad = 0.1\n",
    "    for i in range(4):\n",
    "        fontweight = \"normal\"\n",
    "        color = \"k\"\n",
    "        if i == 3:\n",
    "            fontweight = \"bold\"\n",
    "            color = \"darkred\"\n",
    "\n",
    "        ax.text(i, tips_day[\"tip\"].loc[i] + h_pad, f\"{tips_day['tip'].loc[i]:0.2f}\",\n",
    "                horizontalalignment='center', fontsize=12, fontweight=fontweight, color=color)\n",
    "\n",
    "    # Sunday\n",
    "    ax.patches[3].set_facecolor(\"darkred\")\n",
    "    ax.patches[3].set_edgecolor(\"black\")\n",
    "\n",
    "    # set_range\n",
    "    ax.set_ylim(0, 4)\n",
    "    return ax\n"
   ]
  },
  {
   "cell_type": "markdown",
   "metadata": {},
   "source": [
    "## major_formatter() 함수"
   ]
  },
  {
   "cell_type": "code",
   "execution_count": 11,
   "metadata": {},
   "outputs": [],
   "source": [
    "def major_formatter(x, pos):\n",
    "    return\"{%.2f}\"%x\n",
    "formatter=FuncFormatter(major_formatter)"
   ]
  },
  {
   "cell_type": "markdown",
   "metadata": {},
   "source": [
    "## 시각화 데이터 불러오기"
   ]
  },
  {
   "cell_type": "code",
   "execution_count": 12,
   "metadata": {},
   "outputs": [
    {
     "name": "stdout",
     "output_type": "stream",
     "text": [
      "    day  total_bill       tip      size\n",
      "0  Thur   17.682742  2.771452  2.451613\n",
      "1   Fri   17.151579  2.734737  2.105263\n",
      "2   Sat   20.441379  2.993103  2.517241\n",
      "3   Sun   21.410000  3.255132  2.842105\n"
     ]
    }
   ],
   "source": [
    "tips=sns.load_dataset('tips')\n",
    "tips_day=tips.groupby('day').mean().reset_index()\n",
    "print(tips_day)"
   ]
  },
  {
   "cell_type": "code",
   "execution_count": 15,
   "metadata": {},
   "outputs": [
    {
     "data": {
      "image/png": "[encoded data removed]",
      "text/plain": [
       "<Figure size 432x288 with 1 Axes>"
      ]
     },
     "metadata": {
      "needs_background": "light"
     },
     "output_type": "display_data"
    }
   ],
   "source": [
    "# spines\n",
    "fig, ax=plt.subplots()\n",
    "ax=plot_example(ax, zorder=2)\n",
    "\n",
    "# 사각형 테두리 없애기\n",
    "ax.spines['top'].set_visible(False)\n",
    "ax.spines['right'].set_visible(False)\n",
    "ax.spines['left'].set_visible(False)\n",
    "\n",
    "# Ticker\n",
    "ax.yaxis.set_major_locator(MultipleLocator(1))\n",
    "ax.yaxis.set_major_formatter(formatter)\n",
    "ax.yaxis.set_minor_locator(MultipleLocator(0.5))"
   ]
  },
  {
   "cell_type": "code",
   "execution_count": null,
   "metadata": {},
   "outputs": [],
   "source": []
  },
  {
   "cell_type": "code",
   "execution_count": null,
   "metadata": {},
   "outputs": [],
   "source": []
  },
  {
   "cell_type": "code",
   "execution_count": null,
   "metadata": {},
   "outputs": [],
   "source": []
  },
  {
   "cell_type": "code",
   "execution_count": null,
   "metadata": {},
   "outputs": [],
   "source": []
  },
  {
   "cell_type": "code",
   "execution_count": null,
   "metadata": {},
   "outputs": [],
   "source": []
  },
  {
   "cell_type": "code",
   "execution_count": null,
   "metadata": {},
   "outputs": [],
   "source": []
  },
  {
   "cell_type": "code",
   "execution_count": null,
   "metadata": {},
   "outputs": [],
   "source": []
  },
  {
   "cell_type": "code",
   "execution_count": null,
   "metadata": {},
   "outputs": [],
   "source": []
  },
  {
   "cell_type": "code",
   "execution_count": null,
   "metadata": {},
   "outputs": [],
   "source": []
  }
 ],
 "metadata": {
  "interpreter": {
   "hash": "b3ba2566441a7c06988d0923437866b63cedc61552a5af99d1f4fb67d367b25f"
  },
  "kernelspec": {
   "display_name": "Python 3.8.8 64-bit ('base': conda)",
   "language": "python",
   "name": "python3"
  },
  "language_info": {
   "codemirror_mode": {
    "name": "ipython",
    "version": 3
   },
   "file_extension": ".py",
   "mimetype": "text/x-python",
   "name": "python",
   "nbconvert_exporter": "python",
   "pygments_lexer": "ipython3",
   "version": "3.8.8"
  },
  "orig_nbformat": 4
 },
 "nbformat": 4,
 "nbformat_minor": 2
}
