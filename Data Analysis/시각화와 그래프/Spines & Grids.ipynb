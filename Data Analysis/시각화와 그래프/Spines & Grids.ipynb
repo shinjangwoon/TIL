{
 "cells": [
  {
   "cell_type": "markdown",
   "metadata": {},
   "source": [
    "# Matplotlib에서 제공하는 옵션 중에서 축과 격자를 설정하는 Axes.spines와 Axes.grid에 관한 내용입니다."
   ]
  },
  {
   "cell_type": "markdown",
   "metadata": {},
   "source": [
    "## 라이브러리"
   ]
  },
  {
   "cell_type": "code",
   "execution_count": 1,
   "metadata": {},
   "outputs": [],
   "source": [
    "import matplotlib.pyplot as plt\n",
    "%matplotlib inline\n",
    "from matplotlib.ticker import (MultipleLocator, AutoMinorLocator, FuncFormatter)\n",
    "import seaborn as sns\n",
    "import numpy as np\n"
   ]
  },
  {
   "cell_type": "markdown",
   "metadata": {},
   "source": [
    "## plot_example() 함수\n"
   ]
  },
  {
   "cell_type": "code",
   "execution_count": 2,
   "metadata": {},
   "outputs": [],
   "source": [
    "\n",
    "def plot_example(ax, zorder=0):\n",
    "    ax.bar(tips_day[\"day\"], tips_day[\"tip\"], color=\"lightgray\", zorder=zorder)\n",
    "    ax.set_title(\"tip (mean)\", fontsize=16, pad=12)\n",
    "\n",
    "    # Values\n",
    "    h_pad = 0.1\n",
    "    for i in range(4):\n",
    "        fontweight = \"normal\"\n",
    "        color = \"k\"\n",
    "        if i == 3:\n",
    "            fontweight = \"bold\"\n",
    "            color = \"darkred\"\n",
    "\n",
    "        ax.text(i, tips_day[\"tip\"].loc[i] + h_pad, f\"{tips_day['tip'].loc[i]:0.2f}\",\n",
    "                horizontalalignment='center', fontsize=12, fontweight=fontweight, color=color)\n",
    "\n",
    "    # Sunday\n",
    "    ax.patches[3].set_facecolor(\"darkred\")\n",
    "    ax.patches[3].set_edgecolor(\"black\")\n",
    "\n",
    "    # set_range\n",
    "    ax.set_ylim(0, 4)\n",
    "    return ax\n"
   ]
  },
  {
   "cell_type": "markdown",
   "metadata": {},
   "source": [
    "## major_formatter() 함수"
   ]
  },
  {
   "cell_type": "code",
   "execution_count": 3,
   "metadata": {},
   "outputs": [],
   "source": [
    "def major_formatter(x, pos):\n",
    "    return\"{%.2f}\"%x\n",
    "formatter=FuncFormatter(major_formatter)"
   ]
  },
  {
   "cell_type": "markdown",
   "metadata": {},
   "source": [
    "## 시각화 데이터 불러오기"
   ]
  },
  {
   "cell_type": "code",
   "execution_count": 4,
   "metadata": {},
   "outputs": [
    {
     "name": "stdout",
     "output_type": "stream",
     "text": [
      "    day  total_bill       tip      size\n",
      "0  Thur   17.682742  2.771452  2.451613\n",
      "1   Fri   17.151579  2.734737  2.105263\n",
      "2   Sat   20.441379  2.993103  2.517241\n",
      "3   Sun   21.410000  3.255132  2.842105\n"
     ]
    }
   ],
   "source": [
    "tips=sns.load_dataset('tips')\n",
    "tips_day=tips.groupby('day').mean().reset_index()\n",
    "print(tips_day)"
   ]
  },
  {
   "cell_type": "code",
   "execution_count": 5,
   "metadata": {},
   "outputs": [
    {
     "data": {
      "image/png": "[encoded data removed]",
      "text/plain": [
       "<Figure size 432x288 with 1 Axes>"
      ]
     },
     "metadata": {
      "needs_background": "light"
     },
     "output_type": "display_data"
    }
   ],
   "source": [
    "# spines\n",
    "fig, ax=plt.subplots()\n",
    "ax=plot_example(ax, zorder=2)\n",
    "\n",
    "# 사각형 테두리 없애기\n",
    "ax.spines['top'].set_visible(False)\n",
    "ax.spines['right'].set_visible(False)\n",
    "ax.spines['left'].set_visible(False)\n",
    "\n",
    "# Ticker\n",
    "ax.yaxis.set_major_locator(MultipleLocator(1))\n",
    "ax.yaxis.set_major_formatter(formatter)\n",
    "ax.yaxis.set_minor_locator(MultipleLocator(0.5))\n",
    "\n",
    "# Grid\n",
    "ax.grid(axis='y', which='major', color='lightgray')\n",
    "ax.grid(axis='y', which='minor', ls=':')"
   ]
  },
  {
   "cell_type": "markdown",
   "metadata": {},
   "source": [
    "## 업그레이드된 시각화 구현"
   ]
  },
  {
   "cell_type": "code",
   "execution_count": 6,
   "metadata": {},
   "outputs": [
    {
     "data": {
      "image/png": "[encoded data removed]",
      "text/plain": [
       "<Figure size 1152x360 with 2 Axes>"
      ]
     },
     "metadata": {
      "needs_background": "light"
     },
     "output_type": "display_data"
    }
   ],
   "source": [
    "fig, ax=plt.subplots(nrows=1, ncols=2, figsize=(16, 5))\n",
    "\n",
    "# Ideal Bar Graph\n",
    "ax0=sns.barplot(x='day', y='total_bill', data=tips, ci=None,\n",
    "                color='lightgray', alpha=0.85, zorder=2, ax=ax[0]) "
   ]
  },
  {
   "cell_type": "code",
   "execution_count": 7,
   "metadata": {},
   "outputs": [
    {
     "name": "stdout",
     "output_type": "stream",
     "text": [
      "The Best day: Sun\n",
      "The Highest Avg. Total Bill: 21.41\n"
     ]
    }
   ],
   "source": [
    "group_mean = tips.groupby(['day'])['total_bill'].agg('mean')\n",
    "h_day = group_mean.sort_values(ascending=False).index[0]\n",
    "h_mean = np.round(group_mean.sort_values(ascending=False)[0], 2)\n",
    "print('The Best day:', h_day)\n",
    "print('The Highest Avg. Total Bill:', h_mean)"
   ]
  },
  {
   "cell_type": "code",
   "execution_count": 12,
   "metadata": {},
   "outputs": [
    {
     "name": "stderr",
     "output_type": "stream",
     "text": [
      "<ipython-input-12-0015e98fbd59>:12: UserWarning: Matplotlib is currently using module://ipykernel.pylab.backend_inline, which is a non-GUI backend, so cannot show the figure.\n",
      "  fig.show()\n"
     ]
    }
   ],
   "source": [
    "for p in ax0.patches:\n",
    "    fontweight='normal'\n",
    "    color='k'\n",
    "    height=np.round(p.get_height(),2)\n",
    "    if h_mean == height:\n",
    "        fontweight='bold'\n",
    "        color='darkred'\n",
    "        p.set_facecolor(color)\n",
    "        p.set_edgecolor('black')\n",
    "    ax0.text(p.get_x()+p.get_width()/2., height+1, height, ha='center',\n",
    "            size=12, fontweight=fontweight, color=color)\n",
    "fig.show()\n"
   ]
  }
 ],
 "metadata": {
  "interpreter": {
   "hash": "b3ba2566441a7c06988d0923437866b63cedc61552a5af99d1f4fb67d367b25f"
  },
  "kernelspec": {
   "display_name": "Python 3.8.8 64-bit ('base': conda)",
   "language": "python",
   "name": "python3"
  },
  "language_info": {
   "codemirror_mode": {
    "name": "ipython",
    "version": 3
   },
   "file_extension": ".py",
   "mimetype": "text/x-python",
   "name": "python",
   "nbconvert_exporter": "python",
   "pygments_lexer": "ipython3",
   "version": "3.8.8"
  },
  "orig_nbformat": 4
 },
 "nbformat": 4,
 "nbformat_minor": 2
}
