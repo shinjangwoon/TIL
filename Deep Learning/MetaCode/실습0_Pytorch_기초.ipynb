{
  "nbformat": 4,
  "nbformat_minor": 0,
  "metadata": {
    "colab": {
      "name": "실습0_Pytorch 기초.ipynb",
      "private_outputs": true,
      "provenance": [],
      "collapsed_sections": [],
      "authorship_tag": "ABX9TyOdNrND76hUurm/nbfCIOnM"
    },
    "kernelspec": {
      "name": "python3",
      "display_name": "Python 3"
    },
    "language_info": {
      "name": "python"
    },
    "accelerator": "GPU",
    "gpuClass": "standard"
  },
  "cells": [
    {
      "cell_type": "code",
      "execution_count": null,
      "metadata": {
        "id": "x1JyCUYCQAxk"
      },
      "outputs": [],
      "source": [
        "import torch"
      ]
    },
    {
      "cell_type": "code",
      "source": [
        "data = torch.randn(2,3) # gaussian distribution 평균 0 분산 1인 분포에서 랜덤하게 샘플링하겠다\n",
        "# data = torch.rand(2,3) # uniform distribution에서 [0,1]에서 샘플링하겠다"
      ],
      "metadata": {
        "id": "Fqq12xuqQHbw"
      },
      "execution_count": null,
      "outputs": []
    },
    {
      "cell_type": "markdown",
      "source": [
        "## Pytorch는 Numpy를 GPU의 사용을 용이하게 하는 tool이다"
      ],
      "metadata": {
        "id": "jdAv9DnrQHVl"
      }
    },
    {
      "cell_type": "code",
      "source": [
        "print(data)\n",
        "print(data*5)\n",
        "print(data+data)\n",
        "print(data.shape)\n",
        "print(data.dtype)"
      ],
      "metadata": {
        "id": "rch6kloJQHS0"
      },
      "execution_count": null,
      "outputs": []
    },
    {
      "cell_type": "markdown",
      "source": [
        "- Data를 생성하는 여러 방법"
      ],
      "metadata": {
        "id": "MNDw0lOoQHQd"
      }
    },
    {
      "cell_type": "code",
      "source": [
        "data = torch.zeros([2,4])\n",
        "print(data)\n",
        "data = torch.ones([2,4])\n",
        "print(data)\n",
        "data = torch.eye(4)\n",
        "print(data)"
      ],
      "metadata": {
        "id": "ZUBNXxB2QHN8"
      },
      "execution_count": null,
      "outputs": []
    },
    {
      "cell_type": "markdown",
      "source": [
        "- list와 차이점 및 벡터 내적"
      ],
      "metadata": {
        "id": "kLS0F5P7SheP"
      }
    },
    {
      "cell_type": "code",
      "source": [
        "lst1 = [1,2]\n",
        "lst2 = [3,4]\n",
        "\n",
        "tor1 = torch.tensor([1,2])\n",
        "tor2 = torch.tensor([3,4])\n",
        "\n",
        "print(lst1 + lst2)\n",
        "print(tor1 + tor2)\n",
        "print(tor1 + tor2)\n",
        "\n",
        "print(sum(tor1 + tor2)) # [4,6]의 합\n",
        "print(tor1.dot(tor2)) # 1*3 + 2*4 = 11\n",
        "print(torch.dot(tor1, tor2))\n",
        "print(torch.matmul(tor1, tor2))\n",
        "print(torch.matmul(tor1.view(1, -1), tor2)[0])"
      ],
      "metadata": {
        "id": "XlzK9tQ9Shaj"
      },
      "execution_count": null,
      "outputs": []
    },
    {
      "cell_type": "markdown",
      "source": [
        "- 매트릭스의 곱 (Matrix Multiplication)"
      ],
      "metadata": {
        "id": "7SbrHSnrShYM"
      }
    },
    {
      "cell_type": "code",
      "source": [
        "mat1 = torch.tensor([[2, 5, 8], [5, 3, 1]]) # shape(2, 3)\n",
        "mat2 = torch.tensor([[3, 2], [5, 4], [7, 8]]) # shape(3, 2)\n",
        "print(mat1)\n",
        "print(mat2)\n",
        "print(torch.matmul(mat1, mat2)) # matrix 2 * 2  \n",
        "print(torch.matmul(mat2, mat1)) # matrix 3 * 3 "
      ],
      "metadata": {
        "id": "vgfx_EL-ShVY"
      },
      "execution_count": null,
      "outputs": []
    },
    {
      "cell_type": "markdown",
      "source": [
        "- 인덱싱 / 슬라이싱"
      ],
      "metadata": {
        "id": "sClZ01hWXRQz"
      }
    },
    {
      "cell_type": "code",
      "source": [
        "data = torch.randn(4, 3)\n",
        "print(data)\n",
        "print(data[2, :]) # row vector\n",
        "print(data[:, 1]) # column vector\n",
        "print(data[2][1]) # matrix A의 (2, 1)의 값"
      ],
      "metadata": {
        "id": "46blItN0ShSx"
      },
      "execution_count": null,
      "outputs": []
    },
    {
      "cell_type": "markdown",
      "source": [
        "- 기본적인 통계 관련 함수"
      ],
      "metadata": {
        "id": "cuMcsjd1ShQG"
      }
    },
    {
      "cell_type": "code",
      "source": [
        "print(torch.sum(data))\n",
        "print(torch.mean(data))\n",
        "print(torch.var(data))\n",
        "print(torch.std(data))\n",
        "print()\n",
        "# scalar value에 대해서 tensor 속의 값만 추출함\n",
        "print(torch.sum(data).item())\n",
        "print(torch.mean(data).item())\n",
        "print(torch.var(data).item())\n",
        "print(torch.std(data).item())"
      ],
      "metadata": {
        "id": "cRoj8-I7ShNk"
      },
      "execution_count": null,
      "outputs": []
    },
    {
      "cell_type": "markdown",
      "source": [
        "- Pytorch 조건문"
      ],
      "metadata": {
        "id": "_Jzs1DrOShLA"
      }
    },
    {
      "cell_type": "code",
      "source": [
        "print(torch.where(data>0, torch.ones(data.shape), torch.zeros(data.shape)))"
      ],
      "metadata": {
        "id": "3WEPOC5VXy2s"
      },
      "execution_count": null,
      "outputs": []
    },
    {
      "cell_type": "markdown",
      "source": [
        "- Numpy와의 호환"
      ],
      "metadata": {
        "id": "p3_ZXblhXyzV"
      }
    },
    {
      "cell_type": "code",
      "source": [
        "import numpy"
      ],
      "metadata": {
        "id": "lmL0e_JuXywm"
      },
      "execution_count": null,
      "outputs": []
    },
    {
      "cell_type": "code",
      "source": [
        "a = torch.ones(5)\n",
        "print(a)\n",
        "b = a.numpy()\n",
        "print(b)\n",
        "a = torch.from_numpy(b)\n",
        "print(a)"
      ],
      "metadata": {
        "id": "ylTMoD2qXyuL"
      },
      "execution_count": null,
      "outputs": []
    },
    {
      "cell_type": "markdown",
      "source": [
        "- GPU의 사용"
      ],
      "metadata": {
        "id": "8a4XA_qzXyre"
      }
    },
    {
      "cell_type": "code",
      "source": [
        "print(torch.cuda.is_available())\n",
        "print(torch.cuda.device_count())"
      ],
      "metadata": {
        "id": "ehXZ4B9fXyo2"
      },
      "execution_count": null,
      "outputs": []
    },
    {
      "cell_type": "code",
      "source": [
        "x = torch.tensor([1,1]).cuda()\n",
        "print(x)\n",
        "x = x.cpu()\n",
        "print(x)"
      ],
      "metadata": {
        "id": "XEBdCtJzXymN"
      },
      "execution_count": null,
      "outputs": []
    },
    {
      "cell_type": "code",
      "source": [
        "x = torch.tensor([1.,1.]).cuda()\n",
        "y = torch.tensor([0.5, 0.1]).cuda()\n",
        "\n",
        "print(x.device, y.device)\n",
        "print(x+y)"
      ],
      "metadata": {
        "id": "8QRaQ2KBx8uC"
      },
      "execution_count": null,
      "outputs": []
    },
    {
      "cell_type": "code",
      "source": [
        "# Computational Graph\n",
        "a = torch.tensor([2.], requires_grad=True) # requires_grad - 모든 tensor들을 gradient을 줄 수 있게 만듬 \n",
        "b = torch.tensor([1.], requires_grad=True)\n",
        "c = a + b\n",
        "d = b + 1\n",
        "e = c + d\n",
        "# print(a)\n",
        "# print(b)\n",
        "# print(c)\n",
        "# print(d)\n",
        "# print(e)"
      ],
      "metadata": {
        "id": "vzgUeMvdxMzi"
      },
      "execution_count": null,
      "outputs": []
    },
    {
      "cell_type": "code",
      "source": [
        "print(a.data)\n",
        "print(a.grad)\n",
        "print(a.grad_fn)"
      ],
      "metadata": {
        "id": "u1GgUDiHxMvz"
      },
      "execution_count": null,
      "outputs": []
    },
    {
      "cell_type": "code",
      "source": [
        "e.backward(retain_graph=True) # gradient가 계산됨"
      ],
      "metadata": {
        "id": "odkTTVWrxMtN"
      },
      "execution_count": null,
      "outputs": []
    },
    {
      "cell_type": "code",
      "source": [
        "print(a.grad)\n",
        "print(b.grad)\n",
        "print(c.grad)\n",
        "print(d.grad)\n",
        "print(e.grad)"
      ],
      "metadata": {
        "id": "3QLRQsJoxMqy"
      },
      "execution_count": null,
      "outputs": []
    },
    {
      "cell_type": "code",
      "source": [
        "a = torch.tensor([2.], requires_grad=True) \n",
        "b = torch.tensor([1.], requires_grad=True)\n",
        "c = a + b\n",
        "d = b + 1\n",
        "e = c + d\n",
        "\n",
        "c.retain_grad()\n",
        "d.retain_grad()\n",
        "e.retain_grad()"
      ],
      "metadata": {
        "id": "VgR1b4sqxMoI"
      },
      "execution_count": null,
      "outputs": []
    },
    {
      "cell_type": "code",
      "source": [
        "# 실행을 계속 하게되면(gradient가 커짐) 누적이 됨 - 초기화를 해주어야 함 \n",
        "e.backward(retain_graph=True)\n"
      ],
      "metadata": {
        "id": "3NH8EvaZxMlj"
      },
      "execution_count": null,
      "outputs": []
    },
    {
      "cell_type": "code",
      "source": [
        "print(a.grad)\n",
        "print(b.grad)\n",
        "print(c.grad)\n",
        "print(d.grad)\n",
        "print(e.grad)"
      ],
      "metadata": {
        "id": "ZRRMPKjw2VSv"
      },
      "execution_count": null,
      "outputs": []
    },
    {
      "cell_type": "code",
      "source": [
        "# 누적되는 것을 막기 위해 grad.zero_를 해주어 0으로 초기화를 해줌\n",
        "a.grad.zero_()\n",
        "b.grad.zero_()\n",
        "c.grad.zero_()\n",
        "d.grad.zero_()\n",
        "e.grad.zero_()\n",
        "\n",
        "print(a.grad)\n",
        "print(b.grad)\n",
        "print(c.grad)\n",
        "print(d.grad)\n",
        "print(e.grad)"
      ],
      "metadata": {
        "id": "4-rrdLgMCDNb"
      },
      "execution_count": null,
      "outputs": []
    },
    {
      "cell_type": "code",
      "source": [
        "# requries_grad 스위치 꺼짐\n",
        "a.requires_grad = False"
      ],
      "metadata": {
        "id": "todPSA5tC02W"
      },
      "execution_count": null,
      "outputs": []
    },
    {
      "cell_type": "code",
      "source": [
        "a = a.detach()\n",
        "print(a.requires_grad)"
      ],
      "metadata": {
        "id": "M7ipl8oRErKH"
      },
      "execution_count": null,
      "outputs": []
    }
  ]
}