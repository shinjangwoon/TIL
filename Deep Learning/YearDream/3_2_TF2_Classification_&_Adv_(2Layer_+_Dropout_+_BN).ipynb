{
  "cells": [
    {
      "cell_type": "markdown",
      "metadata": {
        "id": "8u24Ju6KXi84"
      },
      "source": [
        "#### 참고 : tensorflow.keras 공식 문서 (Official API Docs) @ https://www.tensorflow.org/api_docs/python/tf/keras"
      ]
    },
    {
      "cell_type": "code",
      "execution_count": 1,
      "metadata": {
        "id": "QRJvWuGxXi9D"
      },
      "outputs": [],
      "source": [
        "import tensorflow as tf\n",
        "from tensorflow.keras import datasets, utils\n",
        "from tensorflow.keras import models, layers, activations, initializers, losses, optimizers, metrics\n",
        "\n",
        "import os\n",
        "os.environ['TF_CPP_MIN_LOG_LEVEL'] = '2' # https://stackoverflow.com/questions/35911252/disable-tensorflow-debugging-information"
      ]
    },
    {
      "cell_type": "markdown",
      "metadata": {
        "id": "SMrT9OrFXi9G"
      },
      "source": [
        "<br> \n",
        "\n",
        "#### 1. Prepare train & test data (MNIST)"
      ]
    },
    {
      "cell_type": "markdown",
      "metadata": {
        "id": "xHZMuHCnXi9H"
      },
      "source": [
        "#### Train & Test split"
      ]
    },
    {
      "cell_type": "code",
      "execution_count": 2,
      "metadata": {
        "colab": {
          "base_uri": "https://localhost:8080/"
        },
        "id": "bAC0JwksXi9I",
        "outputId": "934b212e-b020-42f3-8ab5-7be68012808f"
      },
      "outputs": [
        {
          "output_type": "stream",
          "name": "stdout",
          "text": [
            "Downloading data from https://storage.googleapis.com/tensorflow/tf-keras-datasets/mnist.npz\n",
            "11493376/11490434 [==============================] - 0s 0us/step\n",
            "11501568/11490434 [==============================] - 0s 0us/step\n"
          ]
        }
      ],
      "source": [
        "(train_data, train_label), (test_data, test_label) = datasets.mnist.load_data()"
      ]
    },
    {
      "cell_type": "markdown",
      "metadata": {
        "id": "BnopJJjWXi9J"
      },
      "source": [
        "#### Normalization"
      ]
    },
    {
      "cell_type": "code",
      "execution_count": 3,
      "metadata": {
        "id": "-RhuB47eXi9K"
      },
      "outputs": [],
      "source": [
        "train_data = train_data.reshape(60000, 784) / 255.0\n",
        "test_data = test_data.reshape(10000, 784) / 255.0"
      ]
    },
    {
      "cell_type": "markdown",
      "metadata": {
        "id": "ug8ciTA8Xi9L"
      },
      "source": [
        "#### One-hot encoding"
      ]
    },
    {
      "cell_type": "code",
      "execution_count": 4,
      "metadata": {
        "id": "3mrDE1rFXi9M"
      },
      "outputs": [],
      "source": [
        "train_label = utils.to_categorical(train_label) # 0~9 -> one-hot vector\n",
        "test_label = utils.to_categorical(test_label) # 0~9 -> one-hot vector"
      ]
    },
    {
      "cell_type": "markdown",
      "metadata": {
        "id": "kozzA-mDXi9N"
      },
      "source": [
        "<br> \n",
        "\n",
        "#### 2. Build the model & Set the criterion"
      ]
    },
    {
      "cell_type": "code",
      "execution_count": 5,
      "metadata": {
        "id": "dYb9VldQXi9O"
      },
      "outputs": [],
      "source": [
        "model = models.Sequential() \n",
        "\n",
        "model.add(layers.Dense(input_dim=28*28, units=256, activation=None, kernel_initializer=initializers.he_uniform())) \n",
        "model.add(layers.BatchNormalization()) # BatchNormalization 전에 activation을 걷어야 하므로 None\n",
        "model.add(layers.Activation('relu')) # layers.ELU or layers.LeakyReLU\n",
        "model.add(layers.Dropout(rate=0.2))\n",
        "\n",
        "model.add(layers.Dense(units=256, activation=None, kernel_initializer=initializers.he_uniform())) \n",
        "model.add(layers.BatchNormalization())\n",
        "model.add(layers.Activation('relu')) # layers.ELU or layers.LeakyReLU\n",
        "model.add(layers.Dropout(rate=0.2))\n",
        "\n",
        "model.add(layers.Dense(units=10, activation='softmax')) # 0~9 "
      ]
    },
    {
      "cell_type": "code",
      "execution_count": 6,
      "metadata": {
        "id": "V-Bs46ySXi9P"
      },
      "outputs": [],
      "source": [
        "model.compile(optimizer=optimizers.Adam(), \n",
        "              loss=losses.categorical_crossentropy, \n",
        "              metrics=[metrics.categorical_accuracy]) # Precision / Recall / F1-Score 적용하기 @ https://j.mp/3cf3lbi\n",
        "\n",
        "# model.compile(optimizer='adam', \n",
        "#               loss=losses.categorical_crossentropy, \n",
        "#               metrics=['accuracy'])"
      ]
    },
    {
      "cell_type": "markdown",
      "metadata": {
        "id": "acfaxUeqXi9Q"
      },
      "source": [
        "<br> \n",
        "\n",
        "#### 3. Train the model"
      ]
    },
    {
      "cell_type": "code",
      "execution_count": 7,
      "metadata": {
        "colab": {
          "base_uri": "https://localhost:8080/"
        },
        "id": "GeIRV0nKXi9Q",
        "outputId": "01deab49-3aeb-44b2-e4e2-cd415a520c99"
      },
      "outputs": [
        {
          "output_type": "stream",
          "name": "stdout",
          "text": [
            "Epoch 1/15\n",
            "480/480 [==============================] - 5s 8ms/step - loss: 0.3058 - categorical_accuracy: 0.9077 - val_loss: 0.1271 - val_categorical_accuracy: 0.9638\n",
            "Epoch 2/15\n",
            "480/480 [==============================] - 3s 7ms/step - loss: 0.1421 - categorical_accuracy: 0.9564 - val_loss: 0.1056 - val_categorical_accuracy: 0.9682\n",
            "Epoch 3/15\n",
            "480/480 [==============================] - 4s 7ms/step - loss: 0.1036 - categorical_accuracy: 0.9670 - val_loss: 0.0936 - val_categorical_accuracy: 0.9715\n",
            "Epoch 4/15\n",
            "480/480 [==============================] - 3s 7ms/step - loss: 0.0860 - categorical_accuracy: 0.9732 - val_loss: 0.0861 - val_categorical_accuracy: 0.9746\n",
            "Epoch 5/15\n",
            "480/480 [==============================] - 3s 7ms/step - loss: 0.0711 - categorical_accuracy: 0.9770 - val_loss: 0.0805 - val_categorical_accuracy: 0.9755\n",
            "Epoch 6/15\n",
            "480/480 [==============================] - 3s 7ms/step - loss: 0.0611 - categorical_accuracy: 0.9803 - val_loss: 0.0850 - val_categorical_accuracy: 0.9746\n",
            "Epoch 7/15\n",
            "480/480 [==============================] - 3s 7ms/step - loss: 0.0552 - categorical_accuracy: 0.9821 - val_loss: 0.0715 - val_categorical_accuracy: 0.9791\n",
            "Epoch 8/15\n",
            "480/480 [==============================] - 4s 7ms/step - loss: 0.0501 - categorical_accuracy: 0.9832 - val_loss: 0.0757 - val_categorical_accuracy: 0.9795\n",
            "Epoch 9/15\n",
            "480/480 [==============================] - 3s 7ms/step - loss: 0.0428 - categorical_accuracy: 0.9856 - val_loss: 0.0836 - val_categorical_accuracy: 0.9769\n",
            "Epoch 10/15\n",
            "480/480 [==============================] - 3s 7ms/step - loss: 0.0398 - categorical_accuracy: 0.9861 - val_loss: 0.0722 - val_categorical_accuracy: 0.9806\n",
            "Epoch 11/15\n",
            "480/480 [==============================] - 4s 7ms/step - loss: 0.0339 - categorical_accuracy: 0.9892 - val_loss: 0.0732 - val_categorical_accuracy: 0.9804\n",
            "Epoch 12/15\n",
            "480/480 [==============================] - 3s 7ms/step - loss: 0.0325 - categorical_accuracy: 0.9892 - val_loss: 0.0793 - val_categorical_accuracy: 0.9798\n",
            "Epoch 13/15\n",
            "480/480 [==============================] - 3s 7ms/step - loss: 0.0319 - categorical_accuracy: 0.9891 - val_loss: 0.0717 - val_categorical_accuracy: 0.9808\n",
            "Epoch 14/15\n",
            "480/480 [==============================] - 4s 7ms/step - loss: 0.0282 - categorical_accuracy: 0.9907 - val_loss: 0.0762 - val_categorical_accuracy: 0.9796\n",
            "Epoch 15/15\n",
            "480/480 [==============================] - 3s 7ms/step - loss: 0.0281 - categorical_accuracy: 0.9902 - val_loss: 0.0733 - val_categorical_accuracy: 0.9811\n"
          ]
        }
      ],
      "source": [
        "# Training 과정에서 epoch마다 활용할 validation set을 나눠줄 수 있습니다.\n",
        "\n",
        "history = model.fit(train_data, train_label, batch_size=100, epochs=15, validation_split=0.2) "
      ]
    },
    {
      "cell_type": "markdown",
      "metadata": {
        "id": "053GuQoCXi9T"
      },
      "source": [
        "<br> \n",
        "\n",
        "#### 4. Test the model"
      ]
    },
    {
      "cell_type": "code",
      "execution_count": 8,
      "metadata": {
        "scrolled": true,
        "colab": {
          "base_uri": "https://localhost:8080/"
        },
        "id": "iwsXuDSkXi9T",
        "outputId": "f0bf89e7-ef53-4808-95d9-52604ffca443"
      },
      "outputs": [
        {
          "output_type": "stream",
          "name": "stdout",
          "text": [
            "100/100 [==============================] - 0s 3ms/step - loss: 0.0719 - categorical_accuracy: 0.9794\n",
            "loss (cross-entropy) : 0.07192164659500122\n",
            "test accuracy : 0.9793999791145325\n"
          ]
        }
      ],
      "source": [
        "result = model.evaluate(test_data, test_label, batch_size=100)\n",
        "\n",
        "print('loss (cross-entropy) :', result[0])\n",
        "print('test accuracy :', result[1])"
      ]
    },
    {
      "cell_type": "markdown",
      "metadata": {
        "id": "EXGxxYwTXi9U"
      },
      "source": [
        "<br> \n",
        "\n",
        "#### 5. Visualize the result"
      ]
    },
    {
      "cell_type": "code",
      "source": [
        "history.history"
      ],
      "metadata": {
        "id": "Z-92jQgEZk7z"
      },
      "execution_count": null,
      "outputs": []
    },
    {
      "cell_type": "code",
      "execution_count": 9,
      "metadata": {
        "colab": {
          "base_uri": "https://localhost:8080/"
        },
        "id": "LM1nfm_WXi9V",
        "outputId": "c849b707-95ff-45ed-8c9c-32bfb9bb7f0c"
      },
      "outputs": [
        {
          "output_type": "execute_result",
          "data": {
            "text/plain": [
              "dict_keys(['loss', 'categorical_accuracy', 'val_loss', 'val_categorical_accuracy'])"
            ]
          },
          "metadata": {},
          "execution_count": 9
        }
      ],
      "source": [
        "history.history.keys()"
      ]
    },
    {
      "cell_type": "code",
      "source": [
        "len(history.history['loss'])"
      ],
      "metadata": {
        "colab": {
          "base_uri": "https://localhost:8080/"
        },
        "id": "mJ4CS1UCZwzH",
        "outputId": "ba1442a0-7b53-4513-9b11-5eed26217d67"
      },
      "execution_count": 15,
      "outputs": [
        {
          "output_type": "execute_result",
          "data": {
            "text/plain": [
              "15"
            ]
          },
          "metadata": {},
          "execution_count": 15
        }
      ]
    },
    {
      "cell_type": "code",
      "execution_count": 10,
      "metadata": {
        "colab": {
          "base_uri": "https://localhost:8080/",
          "height": 279
        },
        "id": "HEoO3s2mXi9V",
        "outputId": "0ab6ca72-2819-4600-9a54-d9c5d863c162"
      },
      "outputs": [
        {
          "output_type": "display_data",
          "data": {
            "text/plain": [
              "<Figure size 432x288 with 1 Axes>"
            ],
            "image/png": "[encoded data removed]"
          },
          "metadata": {
            "needs_background": "light"
          }
        }
      ],
      "source": [
        "val_acc = history.history['val_categorical_accuracy']\n",
        "acc = history.history['categorical_accuracy']\n",
        "\n",
        "import numpy as np\n",
        "import matplotlib.pyplot as plt\n",
        "\n",
        "x_len = np.arange(len(acc))\n",
        "plt.plot(x_len, acc, marker='.', c='blue', label=\"Train-set Acc.\")\n",
        "plt.plot(x_len, val_acc, marker='.', c='red', label=\"Validation-set Acc.\")\n",
        "\n",
        "plt.legend(loc='upper right')\n",
        "plt.grid()\n",
        "plt.xlabel('epoch')\n",
        "plt.ylabel('Accuracy')\n",
        "plt.show()"
      ]
    }
  ],
  "metadata": {
    "kernel_info": {
      "name": "python3"
    },
    "kernelspec": {
      "display_name": "Python 3",
      "language": "python",
      "name": "python3"
    },
    "language_info": {
      "codemirror_mode": {
        "name": "ipython",
        "version": 3
      },
      "file_extension": ".py",
      "mimetype": "text/x-python",
      "name": "python",
      "nbconvert_exporter": "python",
      "pygments_lexer": "ipython3",
      "version": "3.8.8"
    },
    "nteract": {
      "version": "0.15.0"
    },
    "colab": {
      "name": "3-2. TF2 Classification & Adv (2Layer + Dropout + BN).ipynb",
      "provenance": [],
      "collapsed_sections": []
    }
  },
  "nbformat": 4,
  "nbformat_minor": 0
}