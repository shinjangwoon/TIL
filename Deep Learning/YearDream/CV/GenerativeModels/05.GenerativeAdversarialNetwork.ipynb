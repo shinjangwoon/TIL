{
 "cells": [
  {
   "cell_type": "code",
   "execution_count": 1,
   "id": "6404400c",
   "metadata": {},
   "outputs": [],
   "source": [
    "import tensorflow as tf\n",
    "from tensorflow.keras.layers import Dense, LeakyReLU, Dropout, Input\n",
    "from tensorflow.keras.models import Sequential, Model\n",
    "from tensorflow.keras.optimizers import Adam\n",
    "from tensorflow.keras.initializers import RandomNormal\n",
    "import numpy as np\n",
    "import matplotlib.pyplot as plt"
   ]
  },
  {
   "cell_type": "code",
   "execution_count": 2,
   "id": "29e67411",
   "metadata": {},
   "outputs": [],
   "source": [
    "from tensorflow.keras.datasets import mnist\n",
    "(x_train, y_train), (x_test, y_test) = mnist.load_data()"
   ]
  },
  {
   "cell_type": "code",
   "execution_count": 3,
   "id": "b5be9a72",
   "metadata": {},
   "outputs": [],
   "source": [
    "x_train = x_train / 127.5 - 1\n",
    "x_test = x_test / 127.5 - 1"
   ]
  },
  {
   "cell_type": "code",
   "execution_count": 4,
   "id": "5cc4f67a",
   "metadata": {},
   "outputs": [
    {
     "data": {
      "text/plain": [
       "(-1.0, 1.0)"
      ]
     },
     "execution_count": 4,
     "metadata": {},
     "output_type": "execute_result"
    }
   ],
   "source": [
    "x_train.min(), x_train.max()"
   ]
  },
  {
   "cell_type": "code",
   "execution_count": 5,
   "id": "f59eb47e",
   "metadata": {},
   "outputs": [
    {
     "data": {
      "text/plain": [
       "(60000, 784)"
      ]
     },
     "execution_count": 5,
     "metadata": {},
     "output_type": "execute_result"
    }
   ],
   "source": [
    "x_train = x_train.reshape(-1, 784)\n",
    "x_train.shape"
   ]
  },
  {
   "cell_type": "code",
   "execution_count": 6,
   "id": "074e2ef0",
   "metadata": {},
   "outputs": [
    {
     "name": "stderr",
     "output_type": "stream",
     "text": [
      "c:\\ProgramData\\Anaconda3\\lib\\site-packages\\keras\\optimizers\\optimizer_v2\\adam.py:110: UserWarning: The `lr` argument is deprecated, use `learning_rate` instead.\n",
      "  super(Adam, self).__init__(name, **kwargs)\n"
     ]
    }
   ],
   "source": [
    "# gan에 입력되는 noise에 대한 dimension\n",
    "NOISE_DIM = 10\n",
    "\n",
    "# adam optimizer 정의, learning_rate = 0.0002, beta_1로 줍니다.\n",
    "# Vanilla Gan과 DCGAN에서 이렇게 셋팅을 해주는데\n",
    "# 이렇게 해줘야 훨씬 학습을 잘합니다.\n",
    "adam = Adam(lr=0.0002, beta_1=0.5)"
   ]
  },
  {
   "cell_type": "code",
   "execution_count": 7,
   "id": "554815d2",
   "metadata": {},
   "outputs": [
    {
     "name": "stdout",
     "output_type": "stream",
     "text": [
      "Model: \"Generator\"\n",
      "_________________________________________________________________\n",
      " Layer (type)                Output Shape              Param #   \n",
      "=================================================================\n",
      " input_1 (InputLayer)        [(None, 10)]              0         \n",
      "                                                                 \n",
      " dense (Dense)               (None, 256)               2816      \n",
      "                                                                 \n",
      " leaky_re_lu (LeakyReLU)     (None, 256)               0         \n",
      "                                                                 \n",
      " dense_1 (Dense)             (None, 512)               131584    \n",
      "                                                                 \n",
      " leaky_re_lu_1 (LeakyReLU)   (None, 512)               0         \n",
      "                                                                 \n",
      " dense_2 (Dense)             (None, 1024)              525312    \n",
      "                                                                 \n",
      " leaky_re_lu_2 (LeakyReLU)   (None, 1024)              0         \n",
      "                                                                 \n",
      " dense_3 (Dense)             (None, 784)               803600    \n",
      "                                                                 \n",
      "=================================================================\n",
      "Total params: 1,463,312\n",
      "Trainable params: 1,463,312\n",
      "Non-trainable params: 0\n",
      "_________________________________________________________________\n"
     ]
    }
   ],
   "source": [
    "Generator_input = tf.keras.Input(shape=(NOISE_DIM,) )\n",
    "x = Dense(256)(Generator_input)\n",
    "x = LeakyReLU(0.2)(x)\n",
    "x = Dense(512)(x)\n",
    "x = LeakyReLU(0.2)(x)\n",
    "x = Dense(1024)(x)\n",
    "x = LeakyReLU(0.2)(x)\n",
    "Generator_output = Dense(28*28, activation='tanh')(x)\n",
    "\n",
    "Generator = tf.keras.Model(Generator_input, Generator_output, name=\"Generator\")\n",
    "Generator.summary()"
   ]
  },
  {
   "cell_type": "code",
   "execution_count": 8,
   "id": "abdf8f24",
   "metadata": {},
   "outputs": [
    {
     "name": "stdout",
     "output_type": "stream",
     "text": [
      "Model: \"model\"\n",
      "_________________________________________________________________\n",
      " Layer (type)                Output Shape              Param #   \n",
      "=================================================================\n",
      " input_2 (InputLayer)        [(None, 784)]             0         \n",
      "                                                                 \n",
      " dense_4 (Dense)             (None, 1024)              803840    \n",
      "                                                                 \n",
      " leaky_re_lu_3 (LeakyReLU)   (None, 1024)              0         \n",
      "                                                                 \n",
      " dropout (Dropout)           (None, 1024)              0         \n",
      "                                                                 \n",
      " dense_5 (Dense)             (None, 512)               524800    \n",
      "                                                                 \n",
      " leaky_re_lu_4 (LeakyReLU)   (None, 512)               0         \n",
      "                                                                 \n",
      " dense_6 (Dense)             (None, 256)               131328    \n",
      "                                                                 \n",
      " leaky_re_lu_5 (LeakyReLU)   (None, 256)               0         \n",
      "                                                                 \n",
      " dropout_1 (Dropout)         (None, 256)               0         \n",
      "                                                                 \n",
      " dense_7 (Dense)             (None, 1)                 257       \n",
      "                                                                 \n",
      "=================================================================\n",
      "Total params: 1,460,225\n",
      "Trainable params: 1,460,225\n",
      "Non-trainable params: 0\n",
      "_________________________________________________________________\n"
     ]
    }
   ],
   "source": [
    "Discriminator_input = tf.keras.Input(shape=(784,))\n",
    "x = Dense(1024, kernel_initializer=RandomNormal(stddev=0.02))(Discriminator_input)\n",
    "x = LeakyReLU(0.2)(x)\n",
    "x = Dropout(0.3)(x)\n",
    "x = Dense(512)(x)\n",
    "x = LeakyReLU(0.2)(x)\n",
    "x = Dense(256)(x)\n",
    "x = LeakyReLU(0.2)(x)\n",
    "x = Dropout(0.3)(x)\n",
    "Discriminator_output = Dense(1, activation='sigmoid')(x)\n",
    "\n",
    "Discriminator = tf.keras.Model(Discriminator_input, Discriminator_output)\n",
    "Discriminator.compile(loss='binary_crossentropy', optimizer=adam)\n",
    "Discriminator.summary()"
   ]
  },
  {
   "cell_type": "code",
   "execution_count": 9,
   "id": "2cd5f401",
   "metadata": {},
   "outputs": [],
   "source": [
    "Discriminator.trainable = False\n",
    "\n",
    "gan_input = Input(shape=(NOISE_DIM,))\n",
    "x = Generator(inputs=gan_input)\n",
    "output = Discriminator(x)"
   ]
  },
  {
   "cell_type": "code",
   "execution_count": 10,
   "id": "a70792a3",
   "metadata": {},
   "outputs": [],
   "source": [
    "GAN = Model(gan_input, output)\n",
    "GAN.compile(loss='binary_crossentropy', optimizer=adam)"
   ]
  },
  {
   "cell_type": "code",
   "execution_count": 11,
   "id": "0aba965b",
   "metadata": {},
   "outputs": [
    {
     "name": "stdout",
     "output_type": "stream",
     "text": [
      "Model: \"model_1\"\n",
      "_________________________________________________________________\n",
      " Layer (type)                Output Shape              Param #   \n",
      "=================================================================\n",
      " input_3 (InputLayer)        [(None, 10)]              0         \n",
      "                                                                 \n",
      " Generator (Functional)      (None, 784)               1463312   \n",
      "                                                                 \n",
      " model (Functional)          (None, 1)                 1460225   \n",
      "                                                                 \n",
      "=================================================================\n",
      "Total params: 2,923,537\n",
      "Trainable params: 1,463,312\n",
      "Non-trainable params: 1,460,225\n",
      "_________________________________________________________________\n"
     ]
    }
   ],
   "source": [
    "GAN.summary()"
   ]
  },
  {
   "cell_type": "code",
   "execution_count": 12,
   "id": "dbe43c7d",
   "metadata": {},
   "outputs": [],
   "source": [
    "GAN.compile(loss='binary_crossentropy', optimizer=adam)"
   ]
  },
  {
   "cell_type": "code",
   "execution_count": 13,
   "id": "98e43f4e",
   "metadata": {},
   "outputs": [],
   "source": [
    "def visualize_training(epoch, d_losses, g_losses, Generator):\n",
    "    # 오차에 대한 시각화\n",
    "    plt.figure(figsize=(8, 4))\n",
    "    plt.plot(d_losses, label='Discriminator Loss')\n",
    "    plt.plot(g_losses, label='Generatror Loss')\n",
    "    plt.xlabel('Epoch')\n",
    "    plt.ylabel('Loss')\n",
    "    plt.legend()\n",
    "    plt.show()\n",
    "\n",
    "    print('epoch: {}, Discriminator Loss: {}, Generator Loss: {}'.format(epoch, np.asarray(d_losses).mean(), np.asarray(g_losses).mean()))\n",
    "    \n",
    "    #샘플 데이터 생성 후 시각화\n",
    "    noise = np.random.normal(0, 1, size=(24, NOISE_DIM))\n",
    "    Generated_images = Generator.predict(noise)\n",
    "    Generated_images = Generated_images.reshape(-1, 28, 28)\n",
    "    \n",
    "    plt.figure(figsize=(8, 4))\n",
    "    for i in range(Generated_images.shape[0]):\n",
    "        plt.subplot(4, 6, i+1)\n",
    "        plt.imshow(Generated_images[i], interpolation='nearest', cmap='gray')\n",
    "        plt.axis('off')\n",
    "    plt.tight_layout()\n",
    "    plt.show()"
   ]
  },
  {
   "cell_type": "code",
   "execution_count": 14,
   "id": "c5f50228",
   "metadata": {},
   "outputs": [],
   "source": [
    "def get_batches(data, batch_size):\n",
    "    batches = []\n",
    "    for i in range(int(data.shape[0] // batch_size)):\n",
    "        batch = data[i * batch_size: (i + 1) * batch_size]\n",
    "        batches.append(batch)\n",
    "    return np.asarray(batches)"
   ]
  },
  {
   "cell_type": "code",
   "execution_count": 15,
   "id": "4381e72f",
   "metadata": {},
   "outputs": [
    {
     "data": {
      "image/png": "[encoded data removed]",
      "text/plain": [
       "<Figure size 576x288 with 1 Axes>"
      ]
     },
     "metadata": {
      "needs_background": "light"
     },
     "output_type": "display_data"
    },
    {
     "name": "stdout",
     "output_type": "stream",
     "text": [
      "epoch: 1, Discriminator Loss: 0.44798049330711365, Generator Loss: 1.9345734119415283\n",
      "1/1 [==============================] - 0s 123ms/step\n"
     ]
    },
    {
     "data": {
      "image/png": "[encoded data removed]",
      "text/plain": [
       "<Figure size 576x288 with 24 Axes>"
      ]
     },
     "metadata": {
      "needs_background": "light"
     },
     "output_type": "display_data"
    },
    {
     "data": {
      "image/png": "[encoded data removed]",
      "text/plain": [
       "<Figure size 576x288 with 1 Axes>"
      ]
     },
     "metadata": {
      "needs_background": "light"
     },
     "output_type": "display_data"
    },
    {
     "name": "stdout",
     "output_type": "stream",
     "text": [
      "epoch: 2, Discriminator Loss: 0.43172813951969147, Generator Loss: 2.3810503482818604\n",
      "1/1 [==============================] - 0s 44ms/step\n"
     ]
    },
    {
     "data": {
      "image/png": "[encoded data removed]",
      "text/plain": [
       "<Figure size 576x288 with 24 Axes>"
      ]
     },
     "metadata": {
      "needs_background": "light"
     },
     "output_type": "display_data"
    },
    {
     "ename": "KeyboardInterrupt",
     "evalue": "",
     "output_type": "error",
     "traceback": [
      "\u001b[1;31m---------------------------------------------------------------------------\u001b[0m",
      "\u001b[1;31mKeyboardInterrupt\u001b[0m                         Traceback (most recent call last)",
      "\u001b[1;32mc:\\Users\\wkddn\\OneDrive\\문서\\GitHub\\TIL\\Deep Learning\\YearDream\\CV\\GenerativeModels\\05.GenerativeAdversarialNetwork.ipynb 셀 15\u001b[0m in \u001b[0;36m<cell line: 7>\u001b[1;34m()\u001b[0m\n\u001b[0;32m     <a href='vscode-notebook-cell:/c%3A/Users/wkddn/OneDrive/%EB%AC%B8%EC%84%9C/GitHub/TIL/Deep%20Learning/YearDream/CV/GenerativeModels/05.GenerativeAdversarialNetwork.ipynb#ch0000014?line=10'>11</a>\u001b[0m input_noise \u001b[39m=\u001b[39m np\u001b[39m.\u001b[39mrandom\u001b[39m.\u001b[39muniform(\u001b[39m-\u001b[39m\u001b[39m1\u001b[39m, \u001b[39m1\u001b[39m, size\u001b[39m=\u001b[39m[BATCH_SIZE, NOISE_DIM])\n\u001b[0;32m     <a href='vscode-notebook-cell:/c%3A/Users/wkddn/OneDrive/%EB%AC%B8%EC%84%9C/GitHub/TIL/Deep%20Learning/YearDream/CV/GenerativeModels/05.GenerativeAdversarialNetwork.ipynb#ch0000014?line=12'>13</a>\u001b[0m \u001b[39m# 가짜 이미지 데이터 생성\u001b[39;00m\n\u001b[1;32m---> <a href='vscode-notebook-cell:/c%3A/Users/wkddn/OneDrive/%EB%AC%B8%EC%84%9C/GitHub/TIL/Deep%20Learning/YearDream/CV/GenerativeModels/05.GenerativeAdversarialNetwork.ipynb#ch0000014?line=13'>14</a>\u001b[0m Generated_images \u001b[39m=\u001b[39m Generator\u001b[39m.\u001b[39;49mpredict(input_noise, verbose\u001b[39m=\u001b[39;49m\u001b[39m0\u001b[39;49m)\n\u001b[0;32m     <a href='vscode-notebook-cell:/c%3A/Users/wkddn/OneDrive/%EB%AC%B8%EC%84%9C/GitHub/TIL/Deep%20Learning/YearDream/CV/GenerativeModels/05.GenerativeAdversarialNetwork.ipynb#ch0000014?line=15'>16</a>\u001b[0m \u001b[39m# Gan에 학습할 X 데이터 정의\u001b[39;00m\n\u001b[0;32m     <a href='vscode-notebook-cell:/c%3A/Users/wkddn/OneDrive/%EB%AC%B8%EC%84%9C/GitHub/TIL/Deep%20Learning/YearDream/CV/GenerativeModels/05.GenerativeAdversarialNetwork.ipynb#ch0000014?line=16'>17</a>\u001b[0m x_dis \u001b[39m=\u001b[39m np\u001b[39m.\u001b[39mconcatenate([real_images, Generated_images])\n",
      "File \u001b[1;32mc:\\ProgramData\\Anaconda3\\lib\\site-packages\\keras\\utils\\traceback_utils.py:64\u001b[0m, in \u001b[0;36mfilter_traceback.<locals>.error_handler\u001b[1;34m(*args, **kwargs)\u001b[0m\n\u001b[0;32m     62\u001b[0m filtered_tb \u001b[39m=\u001b[39m \u001b[39mNone\u001b[39;00m\n\u001b[0;32m     63\u001b[0m \u001b[39mtry\u001b[39;00m:\n\u001b[1;32m---> 64\u001b[0m   \u001b[39mreturn\u001b[39;00m fn(\u001b[39m*\u001b[39;49margs, \u001b[39m*\u001b[39;49m\u001b[39m*\u001b[39;49mkwargs)\n\u001b[0;32m     65\u001b[0m \u001b[39mexcept\u001b[39;00m \u001b[39mException\u001b[39;00m \u001b[39mas\u001b[39;00m e:  \u001b[39m# pylint: disable=broad-except\u001b[39;00m\n\u001b[0;32m     66\u001b[0m   filtered_tb \u001b[39m=\u001b[39m _process_traceback_frames(e\u001b[39m.\u001b[39m__traceback__)\n",
      "File \u001b[1;32mc:\\ProgramData\\Anaconda3\\lib\\site-packages\\keras\\engine\\training.py:2026\u001b[0m, in \u001b[0;36mModel.predict\u001b[1;34m(self, x, batch_size, verbose, steps, callbacks, max_queue_size, workers, use_multiprocessing)\u001b[0m\n\u001b[0;32m   2016\u001b[0m   callbacks \u001b[39m=\u001b[39m callbacks_module\u001b[39m.\u001b[39mCallbackList(\n\u001b[0;32m   2017\u001b[0m       callbacks,\n\u001b[0;32m   2018\u001b[0m       add_history\u001b[39m=\u001b[39m\u001b[39mTrue\u001b[39;00m,\n\u001b[1;32m   (...)\u001b[0m\n\u001b[0;32m   2022\u001b[0m       epochs\u001b[39m=\u001b[39m\u001b[39m1\u001b[39m,\n\u001b[0;32m   2023\u001b[0m       steps\u001b[39m=\u001b[39mdata_handler\u001b[39m.\u001b[39minferred_steps)\n\u001b[0;32m   2025\u001b[0m \u001b[39mself\u001b[39m\u001b[39m.\u001b[39mpredict_function \u001b[39m=\u001b[39m \u001b[39mself\u001b[39m\u001b[39m.\u001b[39mmake_predict_function()\n\u001b[1;32m-> 2026\u001b[0m \u001b[39mself\u001b[39;49m\u001b[39m.\u001b[39;49m_predict_counter\u001b[39m.\u001b[39;49massign(\u001b[39m0\u001b[39;49m)\n\u001b[0;32m   2027\u001b[0m callbacks\u001b[39m.\u001b[39mon_predict_begin()\n\u001b[0;32m   2028\u001b[0m batch_outputs \u001b[39m=\u001b[39m \u001b[39mNone\u001b[39;00m\n",
      "File \u001b[1;32mc:\\ProgramData\\Anaconda3\\lib\\site-packages\\tensorflow\\python\\ops\\resource_variable_ops.py:912\u001b[0m, in \u001b[0;36mBaseResourceVariable.assign\u001b[1;34m(self, value, use_locking, name, read_value)\u001b[0m\n\u001b[0;32m    910\u001b[0m   validate_shape \u001b[39m=\u001b[39m \u001b[39mself\u001b[39m\u001b[39m.\u001b[39m_validate_shape \u001b[39mand\u001b[39;00m \u001b[39mself\u001b[39m\u001b[39m.\u001b[39m_shape\u001b[39m.\u001b[39mis_fully_defined()\n\u001b[0;32m    911\u001b[0m   kwargs[\u001b[39m\"\u001b[39m\u001b[39mvalidate_shape\u001b[39m\u001b[39m\"\u001b[39m] \u001b[39m=\u001b[39m validate_shape\n\u001b[1;32m--> 912\u001b[0m assign_op \u001b[39m=\u001b[39m gen_resource_variable_ops\u001b[39m.\u001b[39;49massign_variable_op(\n\u001b[0;32m    913\u001b[0m     \u001b[39mself\u001b[39;49m\u001b[39m.\u001b[39;49mhandle, value_tensor, name\u001b[39m=\u001b[39;49mname, \u001b[39m*\u001b[39;49m\u001b[39m*\u001b[39;49mkwargs)\n\u001b[0;32m    914\u001b[0m \u001b[39mif\u001b[39;00m read_value:\n\u001b[0;32m    915\u001b[0m   \u001b[39mreturn\u001b[39;00m \u001b[39mself\u001b[39m\u001b[39m.\u001b[39m_lazy_read(assign_op)\n",
      "File \u001b[1;32mc:\\ProgramData\\Anaconda3\\lib\\site-packages\\tensorflow\\python\\ops\\gen_resource_variable_ops.py:141\u001b[0m, in \u001b[0;36massign_variable_op\u001b[1;34m(resource, value, validate_shape, name)\u001b[0m\n\u001b[0;32m    139\u001b[0m \u001b[39mif\u001b[39;00m tld\u001b[39m.\u001b[39mis_eager:\n\u001b[0;32m    140\u001b[0m   \u001b[39mtry\u001b[39;00m:\n\u001b[1;32m--> 141\u001b[0m     _result \u001b[39m=\u001b[39m pywrap_tfe\u001b[39m.\u001b[39;49mTFE_Py_FastPathExecute(\n\u001b[0;32m    142\u001b[0m       _ctx, \u001b[39m\"\u001b[39;49m\u001b[39mAssignVariableOp\u001b[39;49m\u001b[39m\"\u001b[39;49m, name, resource, value, \u001b[39m\"\u001b[39;49m\u001b[39mvalidate_shape\u001b[39;49m\u001b[39m\"\u001b[39;49m,\n\u001b[0;32m    143\u001b[0m       validate_shape)\n\u001b[0;32m    144\u001b[0m     \u001b[39mreturn\u001b[39;00m _result\n\u001b[0;32m    145\u001b[0m   \u001b[39mexcept\u001b[39;00m _core\u001b[39m.\u001b[39m_NotOkStatusException \u001b[39mas\u001b[39;00m e:\n",
      "\u001b[1;31mKeyboardInterrupt\u001b[0m: "
     ]
    }
   ],
   "source": [
    "EPOCHS = 10\n",
    "BATCH_SIZE = 32\n",
    "\n",
    "d_losses = []\n",
    "g_losses = []\n",
    "\n",
    "for epoch in range(1, EPOCHS + 1):\n",
    "    # 각 배치별 학습\n",
    "    for real_images in get_batches(x_train, BATCH_SIZE):\n",
    "        # 랜덤 노이즈 생성\n",
    "        input_noise = np.random.uniform(-1, 1, size=[BATCH_SIZE, NOISE_DIM])\n",
    "        \n",
    "        # 가짜 이미지 데이터 생성\n",
    "        Generated_images = Generator.predict(input_noise, verbose=0)\n",
    "        \n",
    "        # Gan에 학습할 X 데이터 정의\n",
    "        x_dis = np.concatenate([real_images, Generated_images])\n",
    "        \n",
    "        # Gan에 학습할 Y 데이터 정의\n",
    "        y_dis = np.zeros(2 * BATCH_SIZE)\n",
    "        y_dis[:BATCH_SIZE] = 0.9\n",
    "        \n",
    "        # Discriminator 훈련\n",
    "        Discriminator.trainable = True\n",
    "        d_loss = Discriminator.train_on_batch(x_dis, y_dis)\n",
    "        \n",
    "        # Gan 훈련\n",
    "        noise = np.random.uniform(-1, 1, size=[BATCH_SIZE, NOISE_DIM])\n",
    "        y_gan = np.ones(BATCH_SIZE)\n",
    "        \n",
    "        # Discriminator의 판별 학습을 방지합니다\n",
    "        Discriminator.trainable = False\n",
    "        g_loss = GAN.train_on_batch(noise, y_gan)\n",
    "        \n",
    "    d_losses.append(d_loss)\n",
    "    g_losses.append(g_loss)\n",
    "    \n",
    "    \n",
    "    visualize_training(epoch, d_losses, g_losses, Generator)"
   ]
  },
  {
   "cell_type": "code",
   "execution_count": 16,
   "id": "7ecd99c9",
   "metadata": {},
   "outputs": [
    {
     "data": {
      "text/plain": [
       "(32, 10)"
      ]
     },
     "execution_count": 16,
     "metadata": {},
     "output_type": "execute_result"
    }
   ],
   "source": [
    "input_noise.shape"
   ]
  },
  {
   "cell_type": "code",
   "execution_count": null,
   "id": "8fb13cd1",
   "metadata": {},
   "outputs": [],
   "source": []
  }
 ],
 "metadata": {
  "kernelspec": {
   "display_name": "Python 3.8.13 ('base')",
   "language": "python",
   "name": "python3"
  },
  "language_info": {
   "codemirror_mode": {
    "name": "ipython",
    "version": 3
   },
   "file_extension": ".py",
   "mimetype": "text/x-python",
   "name": "python",
   "nbconvert_exporter": "python",
   "pygments_lexer": "ipython3",
   "version": "3.8.13"
  },
  "vscode": {
   "interpreter": {
    "hash": "ad2bdc8ecc057115af97d19610ffacc2b4e99fae6737bb82f5d7fb13d2f2c186"
   }
  }
 },
 "nbformat": 4,
 "nbformat_minor": 5
}
