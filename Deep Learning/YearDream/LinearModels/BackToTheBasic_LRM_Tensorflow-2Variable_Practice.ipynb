{
 "cells": [
  {
   "cell_type": "markdown",
   "id": "9e5c4c65",
   "metadata": {},
   "source": [
    "!pip3 install pandas<br>\n",
    "!pip3 install numpy<br>\n",
    "!pip3 install matplotlib<br>\n",
    "!pip3 install statsmodels<br>"
   ]
  },
  {
   "cell_type": "code",
   "execution_count": 1,
   "id": "ac596566",
   "metadata": {},
   "outputs": [],
   "source": [
    "import tensorflow as tf\n",
    "import pandas as pd\n",
    "import numpy as np\n",
    "import matplotlib.pyplot as plt\n",
    "import statsmodels.api as sm\n",
    "\n",
    "from tensorflow.keras.models import Sequential, load_model\n",
    "from tensorflow.keras.layers import Dense\n",
    "from tensorflow.keras.optimizers import SGD, Adam"
   ]
  },
  {
   "cell_type": "markdown",
   "id": "b3a9b526",
   "metadata": {},
   "source": [
    "연속형 임의의 데이터 생성"
   ]
  },
  {
   "cell_type": "code",
   "execution_count": 2,
   "id": "2f066d8a",
   "metadata": {},
   "outputs": [],
   "source": [
    "np.random.seed(0)\n",
    "\n",
    "Temperature = np.random.normal(30,3,100)\n",
    "IceAmericano = Temperature + np.random.normal(100,8,100)\n",
    "InteriorPrice = np.random.normal(60,20,100)"
   ]
  },
  {
   "cell_type": "markdown",
   "id": "569500e2",
   "metadata": {},
   "source": [
    "데이터 프레임 형태로 2개 데이터 합치기<br>"
   ]
  },
  {
   "cell_type": "code",
   "execution_count": 3,
   "id": "db19541d",
   "metadata": {},
   "outputs": [],
   "source": [
    "Data = pd.DataFrame({\n",
    "    'Temp':Temperature,\n",
    "    'Sales':IceAmericano,\n",
    "    'InteriorPrice':InteriorPrice\n",
    "})"
   ]
  },
  {
   "cell_type": "code",
   "execution_count": 4,
   "id": "39dc99ac",
   "metadata": {},
   "outputs": [
    {
     "data": {
      "text/html": [
       "<div>\n",
       "<style scoped>\n",
       "    .dataframe tbody tr th:only-of-type {\n",
       "        vertical-align: middle;\n",
       "    }\n",
       "\n",
       "    .dataframe tbody tr th {\n",
       "        vertical-align: top;\n",
       "    }\n",
       "\n",
       "    .dataframe thead th {\n",
       "        text-align: right;\n",
       "    }\n",
       "</style>\n",
       "<table border=\"1\" class=\"dataframe\">\n",
       "  <thead>\n",
       "    <tr style=\"text-align: right;\">\n",
       "      <th></th>\n",
       "      <th>Temp</th>\n",
       "      <th>Sales</th>\n",
       "      <th>InteriorPrice</th>\n",
       "    </tr>\n",
       "  </thead>\n",
       "  <tbody>\n",
       "    <tr>\n",
       "      <th>count</th>\n",
       "      <td>100.000000</td>\n",
       "      <td>100.000000</td>\n",
       "      <td>100.000000</td>\n",
       "    </tr>\n",
       "    <tr>\n",
       "      <th>mean</th>\n",
       "      <td>30.179424</td>\n",
       "      <td>130.835528</td>\n",
       "      <td>58.815355</td>\n",
       "    </tr>\n",
       "    <tr>\n",
       "      <th>std</th>\n",
       "      <td>3.038879</td>\n",
       "      <td>9.170076</td>\n",
       "      <td>19.135973</td>\n",
       "    </tr>\n",
       "    <tr>\n",
       "      <th>min</th>\n",
       "      <td>22.341031</td>\n",
       "      <td>107.604044</td>\n",
       "      <td>4.548145</td>\n",
       "    </tr>\n",
       "    <tr>\n",
       "      <th>25%</th>\n",
       "      <td>28.068430</td>\n",
       "      <td>123.580449</td>\n",
       "      <td>48.068709</td>\n",
       "    </tr>\n",
       "    <tr>\n",
       "      <th>50%</th>\n",
       "      <td>30.282288</td>\n",
       "      <td>129.709430</td>\n",
       "      <td>58.492823</td>\n",
       "    </tr>\n",
       "    <tr>\n",
       "      <th>75%</th>\n",
       "      <td>32.211232</td>\n",
       "      <td>138.323847</td>\n",
       "      <td>70.773134</td>\n",
       "    </tr>\n",
       "    <tr>\n",
       "      <th>max</th>\n",
       "      <td>36.809264</td>\n",
       "      <td>150.357363</td>\n",
       "      <td>106.078334</td>\n",
       "    </tr>\n",
       "  </tbody>\n",
       "</table>\n",
       "</div>"
      ],
      "text/plain": [
       "             Temp       Sales  InteriorPrice\n",
       "count  100.000000  100.000000     100.000000\n",
       "mean    30.179424  130.835528      58.815355\n",
       "std      3.038879    9.170076      19.135973\n",
       "min     22.341031  107.604044       4.548145\n",
       "25%     28.068430  123.580449      48.068709\n",
       "50%     30.282288  129.709430      58.492823\n",
       "75%     32.211232  138.323847      70.773134\n",
       "max     36.809264  150.357363     106.078334"
      ]
     },
     "execution_count": 4,
     "metadata": {},
     "output_type": "execute_result"
    }
   ],
   "source": [
    "Data.describe()"
   ]
  },
  {
   "cell_type": "code",
   "execution_count": 5,
   "id": "bab9c9f7",
   "metadata": {},
   "outputs": [
    {
     "data": {
      "image/png": "[encoded data removed]",
      "text/plain": [
       "<Figure size 432x288 with 1 Axes>"
      ]
     },
     "metadata": {
      "needs_background": "light"
     },
     "output_type": "display_data"
    }
   ],
   "source": [
    "plt.plot(Data['Temp'], Data['Sales'], 'o')\n",
    "plt.plot(Data['InteriorPrice'], Data['Sales'], 'o')\n",
    "plt.show()"
   ]
  },
  {
   "cell_type": "markdown",
   "id": "d3aa1d78",
   "metadata": {},
   "source": [
    "선형회귀 모델, 딥러닝 framework (keras)로 만들기"
   ]
  },
  {
   "cell_type": "code",
   "execution_count": 30,
   "id": "f2722f6c",
   "metadata": {},
   "outputs": [],
   "source": [
    "model = Sequential()\n",
    "model.add(Dense(1, activation='linear', input_shape=(2,)))\n",
    "model.compile(loss='mse',optimizer=Adam(learning_rate=0.5))"
   ]
  },
  {
   "cell_type": "code",
   "execution_count": 22,
   "id": "09481a16",
   "metadata": {},
   "outputs": [],
   "source": [
    "Train_x = Data[ ['Temp', 'InteriorPrice']]\n",
    "Train_y = Data[ ['Sales'] ]"
   ]
  },
  {
   "cell_type": "code",
   "execution_count": 23,
   "id": "18dae18d",
   "metadata": {},
   "outputs": [
    {
     "name": "stdout",
     "output_type": "stream",
     "text": [
      "Epoch 1/50\n",
      "4/4 [==============================] - 0s 3ms/step - loss: 4102.2485\n",
      "Epoch 2/50\n",
      "4/4 [==============================] - 0s 2ms/step - loss: 4634.5166\n",
      "Epoch 3/50\n",
      "4/4 [==============================] - 0s 2ms/step - loss: 1639.5428\n",
      "Epoch 4/50\n",
      "4/4 [==============================] - 0s 1ms/step - loss: 2089.6760\n",
      "Epoch 5/50\n",
      "4/4 [==============================] - 0s 2ms/step - loss: 1077.1047\n",
      "Epoch 6/50\n",
      "4/4 [==============================] - 0s 2ms/step - loss: 1058.2689\n",
      "Epoch 7/50\n",
      "4/4 [==============================] - 0s 2ms/step - loss: 754.0745\n",
      "Epoch 8/50\n",
      "4/4 [==============================] - 0s 2ms/step - loss: 595.7074\n",
      "Epoch 9/50\n",
      "4/4 [==============================] - 0s 1ms/step - loss: 437.6908\n",
      "Epoch 10/50\n",
      "4/4 [==============================] - 0s 2ms/step - loss: 318.0635\n",
      "Epoch 11/50\n",
      "4/4 [==============================] - 0s 2ms/step - loss: 239.9883\n",
      "Epoch 12/50\n",
      "4/4 [==============================] - 0s 3ms/step - loss: 192.7594\n",
      "Epoch 13/50\n",
      "4/4 [==============================] - 0s 2ms/step - loss: 158.3280\n",
      "Epoch 14/50\n",
      "4/4 [==============================] - 0s 2ms/step - loss: 145.3596\n",
      "Epoch 15/50\n",
      "4/4 [==============================] - 0s 2ms/step - loss: 136.9603\n",
      "Epoch 16/50\n",
      "4/4 [==============================] - 0s 3ms/step - loss: 162.0880\n",
      "Epoch 17/50\n",
      "4/4 [==============================] - 0s 2ms/step - loss: 140.8350\n",
      "Epoch 18/50\n",
      "4/4 [==============================] - 0s 2ms/step - loss: 186.8246\n",
      "Epoch 19/50\n",
      "4/4 [==============================] - 0s 2ms/step - loss: 154.3207\n",
      "Epoch 20/50\n",
      "4/4 [==============================] - 0s 2ms/step - loss: 151.1606\n",
      "Epoch 21/50\n",
      "4/4 [==============================] - 0s 2ms/step - loss: 152.3370\n",
      "Epoch 22/50\n",
      "4/4 [==============================] - 0s 2ms/step - loss: 141.6842\n",
      "Epoch 23/50\n",
      "4/4 [==============================] - 0s 2ms/step - loss: 148.5978\n",
      "Epoch 24/50\n",
      "4/4 [==============================] - 0s 2ms/step - loss: 135.9303\n",
      "Epoch 25/50\n",
      "4/4 [==============================] - 0s 2ms/step - loss: 134.8075\n",
      "Epoch 26/50\n",
      "4/4 [==============================] - 0s 2ms/step - loss: 143.3310\n",
      "Epoch 27/50\n",
      "4/4 [==============================] - 0s 2ms/step - loss: 134.7511\n",
      "Epoch 28/50\n",
      "4/4 [==============================] - 0s 1ms/step - loss: 134.5539\n",
      "Epoch 29/50\n",
      "4/4 [==============================] - 0s 2ms/step - loss: 178.7435\n",
      "Epoch 30/50\n",
      "4/4 [==============================] - 0s 1ms/step - loss: 149.1231\n",
      "Epoch 31/50\n",
      "4/4 [==============================] - 0s 2ms/step - loss: 177.8022\n",
      "Epoch 32/50\n",
      "4/4 [==============================] - 0s 1ms/step - loss: 156.7281\n",
      "Epoch 33/50\n",
      "4/4 [==============================] - 0s 1ms/step - loss: 133.6679\n",
      "Epoch 34/50\n",
      "4/4 [==============================] - 0s 1ms/step - loss: 140.6739\n",
      "Epoch 35/50\n",
      "4/4 [==============================] - 0s 2ms/step - loss: 134.9061\n",
      "Epoch 36/50\n",
      "4/4 [==============================] - 0s 2ms/step - loss: 134.8664\n",
      "Epoch 37/50\n",
      "4/4 [==============================] - 0s 2ms/step - loss: 133.5593\n",
      "Epoch 38/50\n",
      "4/4 [==============================] - 0s 2ms/step - loss: 136.5311\n",
      "Epoch 39/50\n",
      "4/4 [==============================] - 0s 2ms/step - loss: 132.4617\n",
      "Epoch 40/50\n",
      "4/4 [==============================] - 0s 2ms/step - loss: 135.9486\n",
      "Epoch 41/50\n",
      "4/4 [==============================] - 0s 2ms/step - loss: 145.1835\n",
      "Epoch 42/50\n",
      "4/4 [==============================] - 0s 2ms/step - loss: 179.5376\n",
      "Epoch 43/50\n",
      "4/4 [==============================] - 0s 2ms/step - loss: 148.5025\n",
      "Epoch 44/50\n",
      "4/4 [==============================] - 0s 1ms/step - loss: 137.2222\n",
      "Epoch 45/50\n",
      "4/4 [==============================] - 0s 2ms/step - loss: 199.9230\n",
      "Epoch 46/50\n",
      "4/4 [==============================] - 0s 1ms/step - loss: 241.2098\n",
      "Epoch 47/50\n",
      "4/4 [==============================] - 0s 2ms/step - loss: 158.2904\n",
      "Epoch 48/50\n",
      "4/4 [==============================] - 0s 1ms/step - loss: 173.3256\n",
      "Epoch 49/50\n",
      "4/4 [==============================] - 0s 2ms/step - loss: 133.9921\n",
      "Epoch 50/50\n",
      "4/4 [==============================] - 0s 2ms/step - loss: 166.0782\n"
     ]
    }
   ],
   "source": [
    "hist = model.fit(x=Train_x, y=Train_y, epochs=50, shuffle=True)"
   ]
  },
  {
   "cell_type": "code",
   "execution_count": 31,
   "id": "dda2d344",
   "metadata": {},
   "outputs": [
    {
     "name": "stdout",
     "output_type": "stream",
     "text": [
      "4/4 [==============================] - 0s 1ms/step\n"
     ]
    },
    {
     "data": {
      "image/png": "[encoded data removed]",
      "text/plain": [
       "<Figure size 432x288 with 1 Axes>"
      ]
     },
     "metadata": {
      "needs_background": "light"
     },
     "output_type": "display_data"
    }
   ],
   "source": [
    "plt.plot(Data['Sales'], model.predict(Data[['Temp', 'InteriorPrice']]), 'o')\n",
    "plt.show()"
   ]
  },
  {
   "cell_type": "code",
   "execution_count": 6,
   "id": "8abb4b55",
   "metadata": {},
   "outputs": [],
   "source": [
    "## Weight를 가져와서 직접 Linear regression 계산해보기"
   ]
  },
  {
   "cell_type": "code",
   "execution_count": 26,
   "id": "cd8e913e",
   "metadata": {},
   "outputs": [
    {
     "data": {
      "text/plain": [
       "[array([[3.8602085 ],\n",
       "        [0.18158452]], dtype=float32),\n",
       " array([9.345297], dtype=float32)]"
      ]
     },
     "execution_count": 26,
     "metadata": {},
     "output_type": "execute_result"
    }
   ],
   "source": [
    "model.get_weights()"
   ]
  },
  {
   "cell_type": "code",
   "execution_count": 27,
   "id": "bbb4c2e3",
   "metadata": {},
   "outputs": [
    {
     "data": {
      "text/html": [
       "<div>\n",
       "<style scoped>\n",
       "    .dataframe tbody tr th:only-of-type {\n",
       "        vertical-align: middle;\n",
       "    }\n",
       "\n",
       "    .dataframe tbody tr th {\n",
       "        vertical-align: top;\n",
       "    }\n",
       "\n",
       "    .dataframe thead th {\n",
       "        text-align: right;\n",
       "    }\n",
       "</style>\n",
       "<table border=\"1\" class=\"dataframe\">\n",
       "  <thead>\n",
       "    <tr style=\"text-align: right;\">\n",
       "      <th></th>\n",
       "      <th>Temp</th>\n",
       "      <th>Sales</th>\n",
       "      <th>InteriorPrice</th>\n",
       "    </tr>\n",
       "  </thead>\n",
       "  <tbody>\n",
       "    <tr>\n",
       "      <th>0</th>\n",
       "      <td>35.292157</td>\n",
       "      <td>150.357363</td>\n",
       "      <td>52.616363</td>\n",
       "    </tr>\n",
       "    <tr>\n",
       "      <th>1</th>\n",
       "      <td>31.200472</td>\n",
       "      <td>120.418399</td>\n",
       "      <td>55.212416</td>\n",
       "    </tr>\n",
       "    <tr>\n",
       "      <th>2</th>\n",
       "      <td>32.936214</td>\n",
       "      <td>122.772334</td>\n",
       "      <td>81.993192</td>\n",
       "    </tr>\n",
       "    <tr>\n",
       "      <th>3</th>\n",
       "      <td>36.722680</td>\n",
       "      <td>144.477853</td>\n",
       "      <td>73.105275</td>\n",
       "    </tr>\n",
       "    <tr>\n",
       "      <th>4</th>\n",
       "      <td>35.602674</td>\n",
       "      <td>126.217687</td>\n",
       "      <td>72.802631</td>\n",
       "    </tr>\n",
       "  </tbody>\n",
       "</table>\n",
       "</div>"
      ],
      "text/plain": [
       "        Temp       Sales  InteriorPrice\n",
       "0  35.292157  150.357363      52.616363\n",
       "1  31.200472  120.418399      55.212416\n",
       "2  32.936214  122.772334      81.993192\n",
       "3  36.722680  144.477853      73.105275\n",
       "4  35.602674  126.217687      72.802631"
      ]
     },
     "execution_count": 27,
     "metadata": {},
     "output_type": "execute_result"
    }
   ],
   "source": [
    "Data.head()"
   ]
  },
  {
   "cell_type": "code",
   "execution_count": 28,
   "id": "11b9ed73",
   "metadata": {},
   "outputs": [
    {
     "data": {
      "text/plain": [
       "155.13392917399997"
      ]
     },
     "execution_count": 28,
     "metadata": {},
     "output_type": "execute_result"
    }
   ],
   "source": [
    "35.2921 * 3.8602 + 52.6163 * 0.18158 + 9.345297"
   ]
  },
  {
   "cell_type": "code",
   "execution_count": 29,
   "id": "205e1470",
   "metadata": {},
   "outputs": [
    {
     "name": "stdout",
     "output_type": "stream",
     "text": [
      "4/4 [==============================] - 0s 2ms/step\n"
     ]
    },
    {
     "data": {
      "text/plain": [
       "array([155.13469], dtype=float32)"
      ]
     },
     "execution_count": 29,
     "metadata": {},
     "output_type": "execute_result"
    }
   ],
   "source": [
    "model.predict(Data[['Temp', 'InteriorPrice']])[0]"
   ]
  }
 ],
 "metadata": {
  "kernelspec": {
   "display_name": "Python 3 (ipykernel)",
   "language": "python",
   "name": "python3"
  },
  "language_info": {
   "codemirror_mode": {
    "name": "ipython",
    "version": 3
   },
   "file_extension": ".py",
   "mimetype": "text/x-python",
   "name": "python",
   "nbconvert_exporter": "python",
   "pygments_lexer": "ipython3",
   "version": "3.10.2"
  }
 },
 "nbformat": 4,
 "nbformat_minor": 5
}
