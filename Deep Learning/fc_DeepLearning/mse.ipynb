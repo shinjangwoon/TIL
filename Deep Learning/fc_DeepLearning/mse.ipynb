{
  "cells": [
    {
      "cell_type": "markdown",
      "metadata": {
        "id": "2tCidWbGQnUm"
      },
      "source": [
        "# Mean Square Error (MSE) Loss"
      ]
    },
    {
      "cell_type": "code",
      "execution_count": 1,
      "metadata": {
        "id": "A-f5J-8QQnUw"
      },
      "outputs": [],
      "source": [
        "import torch"
      ]
    },
    {
      "cell_type": "markdown",
      "metadata": {
        "id": "bSwdvEpxQnU0"
      },
      "source": [
        "$$\n",
        "\\text{MSE}(\\hat{x}_{1:N}, x_{1:N})=\\frac{1}{N\\times{n}}\\sum_{i=1}^{N}{||x_i-\\hat{x}_i||_2^2}\n",
        "$$"
      ]
    },
    {
      "cell_type": "code",
      "execution_count": 2,
      "metadata": {
        "id": "3TBGwNRiQnU2"
      },
      "outputs": [],
      "source": [
        "def mse(x_hat, x):\n",
        "    # |x_hat| = (batch_size, dim)\n",
        "    # |x| = (batch_size, dim)\n",
        "    y = ((x - x_hat)**2).mean()\n",
        "    \n",
        "    return y"
      ]
    },
    {
      "cell_type": "code",
      "execution_count": 3,
      "metadata": {
        "colab": {
          "base_uri": "https://localhost:8080/"
        },
        "id": "gEiERS3LQnU3",
        "outputId": "9c360cbd-da9b-43dd-e2cb-f2cde1b5cf6f"
      },
      "outputs": [
        {
          "output_type": "stream",
          "name": "stdout",
          "text": [
            "torch.Size([2, 2]) torch.Size([2, 2])\n"
          ]
        }
      ],
      "source": [
        "x = torch.FloatTensor([[1, 1],\n",
        "                       [2, 2]])\n",
        "x_hat = torch.FloatTensor([[0, 0],\n",
        "                           [0, 0]])\n",
        "\n",
        "print(x.size(), x_hat.size())"
      ]
    },
    {
      "cell_type": "code",
      "execution_count": 4,
      "metadata": {
        "colab": {
          "base_uri": "https://localhost:8080/"
        },
        "id": "eHfKnJAjQnU5",
        "outputId": "acb91cc4-7ff0-4475-80eb-23bb0e401ab9"
      },
      "outputs": [
        {
          "output_type": "execute_result",
          "data": {
            "text/plain": [
              "tensor(2.5000)"
            ]
          },
          "metadata": {},
          "execution_count": 4
        }
      ],
      "source": [
        "mse(x_hat, x)"
      ]
    },
    {
      "cell_type": "markdown",
      "metadata": {
        "id": "5VBFyPAWQnU6"
      },
      "source": [
        "## Predefined MSE in PyTorch"
      ]
    },
    {
      "cell_type": "code",
      "execution_count": 5,
      "metadata": {
        "id": "fb90-ZITQnU7"
      },
      "outputs": [],
      "source": [
        "import torch.nn.functional as F"
      ]
    },
    {
      "cell_type": "code",
      "execution_count": 6,
      "metadata": {
        "colab": {
          "base_uri": "https://localhost:8080/"
        },
        "id": "eQ3O4yN3QnU8",
        "outputId": "91a61e30-8d77-446f-96d3-5b87fb5fe648"
      },
      "outputs": [
        {
          "output_type": "execute_result",
          "data": {
            "text/plain": [
              "tensor(2.5000)"
            ]
          },
          "metadata": {},
          "execution_count": 6
        }
      ],
      "source": [
        "F.mse_loss(x_hat, x)"
      ]
    },
    {
      "cell_type": "code",
      "execution_count": 7,
      "metadata": {
        "colab": {
          "base_uri": "https://localhost:8080/"
        },
        "id": "bws_ajUyQnU9",
        "outputId": "ae52e90d-2f3f-4e21-dad5-63570428ab2a"
      },
      "outputs": [
        {
          "output_type": "execute_result",
          "data": {
            "text/plain": [
              "tensor(10.)"
            ]
          },
          "metadata": {},
          "execution_count": 7
        }
      ],
      "source": [
        "F.mse_loss(x_hat, x, reduction='sum') # reduction의 defalut 값은 mean"
      ]
    },
    {
      "cell_type": "code",
      "execution_count": 8,
      "metadata": {
        "colab": {
          "base_uri": "https://localhost:8080/"
        },
        "id": "V9IMZYqeQnU-",
        "outputId": "ed8115e3-d8df-498a-c5fd-592a2b3c1a57"
      },
      "outputs": [
        {
          "output_type": "execute_result",
          "data": {
            "text/plain": [
              "tensor([[1., 1.],\n",
              "        [4., 4.]])"
            ]
          },
          "metadata": {},
          "execution_count": 8
        }
      ],
      "source": [
        "F.mse_loss(x_hat, x, reduction='none') "
      ]
    },
    {
      "cell_type": "markdown",
      "source": [
        "- reduction = 'none' => reduction을 안하겠다 => 차원 축소를 안하겠다 => 그대로 나옴 \n",
        "    - y = ((x - x_hat)**2)에서 멈춤"
      ],
      "metadata": {
        "id": "gGnneuN3TFie"
      }
    },
    {
      "cell_type": "code",
      "execution_count": 9,
      "metadata": {
        "id": "sW8yiL5DQnU_"
      },
      "outputs": [],
      "source": [
        "import torch.nn as nn"
      ]
    },
    {
      "cell_type": "code",
      "execution_count": 10,
      "metadata": {
        "colab": {
          "base_uri": "https://localhost:8080/"
        },
        "id": "daGWxQCoQnU_",
        "outputId": "5c61fcb7-f315-4f5c-db84-aa5772381f54"
      },
      "outputs": [
        {
          "output_type": "execute_result",
          "data": {
            "text/plain": [
              "tensor(2.5000)"
            ]
          },
          "metadata": {},
          "execution_count": 10
        }
      ],
      "source": [
        "mse_loss = nn.MSELoss()\n",
        "\n",
        "mse_loss(x_hat, x)"
      ]
    }
  ],
  "metadata": {
    "kernelspec": {
      "display_name": "Python 3",
      "language": "python",
      "name": "python3"
    },
    "language_info": {
      "codemirror_mode": {
        "name": "ipython",
        "version": 3
      },
      "file_extension": ".py",
      "mimetype": "text/x-python",
      "name": "python",
      "nbconvert_exporter": "python",
      "pygments_lexer": "ipython3",
      "version": "3.7.6"
    },
    "colab": {
      "name": "06-02-mse.ipynb",
      "provenance": []
    }
  },
  "nbformat": 4,
  "nbformat_minor": 0
}