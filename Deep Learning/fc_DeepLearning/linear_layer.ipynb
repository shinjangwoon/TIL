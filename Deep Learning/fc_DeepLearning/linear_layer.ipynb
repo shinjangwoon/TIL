{
  "cells": [
    {
      "cell_type": "markdown",
      "metadata": {
        "id": "fBSblVUX6ySn"
      },
      "source": [
        "# Linear Layer"
      ]
    },
    {
      "cell_type": "code",
      "execution_count": 1,
      "metadata": {
        "id": "xakK5gRQ6ySv"
      },
      "outputs": [],
      "source": [
        "import torch"
      ]
    },
    {
      "cell_type": "markdown",
      "metadata": {
        "id": "8z2GEANC6ySx"
      },
      "source": [
        "## Raw Linear Layer\n",
        "\n",
        "$$\\begin{gathered}\n",
        "y=x\\cdot{W}+b, \\\\\n",
        "\\text{where }x\\in\\mathbb{R}^{N\\times{n}}\\text{, }y\\in\\mathbb{R}^{N\\times{m}}. \\\\\n",
        "\\\\\n",
        "\\text{Thus, }W\\in\\mathbb{R}^{n\\times{m}}\\text{ and }b\\in\\mathbb{R}^m.\n",
        "\\end{gathered}$$"
      ]
    },
    {
      "cell_type": "code",
      "execution_count": 2,
      "metadata": {
        "id": "B0FWB0Ig6ySz"
      },
      "outputs": [],
      "source": [
        "W = torch.FloatTensor([[1, 2],\n",
        "                       [3, 4],\n",
        "                       [5, 6]])\n",
        "b = torch.FloatTensor([2, 2])"
      ]
    },
    {
      "cell_type": "code",
      "execution_count": 3,
      "metadata": {
        "colab": {
          "base_uri": "https://localhost:8080/"
        },
        "id": "a1LO_-yx6yS0",
        "outputId": "a73f815c-3ff6-4019-ce98-fc8ee5a5e2c9"
      },
      "outputs": [
        {
          "output_type": "stream",
          "name": "stdout",
          "text": [
            "torch.Size([3, 2])\n",
            "torch.Size([2])\n"
          ]
        }
      ],
      "source": [
        "print(W.size())\n",
        "print(b.size())"
      ]
    },
    {
      "cell_type": "code",
      "execution_count": 4,
      "metadata": {
        "id": "GRxhwoTT6yS3"
      },
      "outputs": [],
      "source": [
        "def linear(x, W, b):\n",
        "    y = torch.matmul(x, W) + b\n",
        "    \n",
        "    return y"
      ]
    },
    {
      "cell_type": "code",
      "execution_count": 5,
      "metadata": {
        "colab": {
          "base_uri": "https://localhost:8080/"
        },
        "id": "KI05xCMa6yS4",
        "outputId": "2919d7b7-2b47-431c-d5dd-b6e8009f131f"
      },
      "outputs": [
        {
          "output_type": "stream",
          "name": "stdout",
          "text": [
            "torch.Size([4, 3])\n"
          ]
        }
      ],
      "source": [
        "x = torch.FloatTensor([[1, 1, 1],\n",
        "                       [2, 2, 2],\n",
        "                       [3, 3, 3],\n",
        "                       [4, 4, 4]])\n",
        "\n",
        "print(x.size())"
      ]
    },
    {
      "cell_type": "code",
      "execution_count": 6,
      "metadata": {
        "id": "orVbRLg96yS5"
      },
      "outputs": [],
      "source": [
        "y = linear(x, W, b)"
      ]
    },
    {
      "cell_type": "code",
      "execution_count": 7,
      "metadata": {
        "colab": {
          "base_uri": "https://localhost:8080/"
        },
        "id": "PFikEiEd6yS6",
        "outputId": "50692225-e27d-47c4-9367-44a78c285e91"
      },
      "outputs": [
        {
          "output_type": "stream",
          "name": "stdout",
          "text": [
            "torch.Size([4, 2])\n"
          ]
        }
      ],
      "source": [
        "print(y.size())"
      ]
    },
    {
      "cell_type": "markdown",
      "metadata": {
        "id": "Te1K-Uvj6yS7"
      },
      "source": [
        "## nn.Module"
      ]
    },
    {
      "cell_type": "code",
      "execution_count": 8,
      "metadata": {
        "id": "aNZIjKUL6yS8"
      },
      "outputs": [],
      "source": [
        "import torch.nn as nn"
      ]
    },
    {
      "cell_type": "code",
      "execution_count": 9,
      "metadata": {
        "id": "33Pd4JTq6yS9"
      },
      "outputs": [],
      "source": [
        "class MyLinear(nn.Module):\n",
        "\n",
        "    def __init__(self, input_dim=3, output_dim=2):\n",
        "        self.input_dim = input_dim\n",
        "        self.output_dim = output_dim\n",
        "        \n",
        "        super().__init__()\n",
        "        \n",
        "        self.W = torch.FloatTensor(input_dim, output_dim)\n",
        "        self.b = torch.FloatTensor(output_dim)\n",
        "\n",
        "    # You should override 'forward' method to implement detail.\n",
        "    # The input arguments and outputs can be designed as you wish.\n",
        "    def forward(self, x):\n",
        "        # |x| = (batch_size, input_dim)\n",
        "        y = torch.matmul(x, self.W) + self.b\n",
        "        # |y| = (batch_size, input_dim) * (input_dim, output_dim)\n",
        "        #     = (batch_size, output_dim)\n",
        "        \n",
        "        return y"
      ]
    },
    {
      "cell_type": "code",
      "execution_count": 10,
      "metadata": {
        "id": "OZOirDEl6yS-"
      },
      "outputs": [],
      "source": [
        "linear = MyLinear(3, 2)\n",
        "\n",
        "y = linear(x)"
      ]
    },
    {
      "cell_type": "code",
      "execution_count": 11,
      "metadata": {
        "colab": {
          "base_uri": "https://localhost:8080/"
        },
        "id": "grBli0vL6yS-",
        "outputId": "81d9153e-79f6-4e88-bdcb-87d06ce55a8e"
      },
      "outputs": [
        {
          "output_type": "stream",
          "name": "stdout",
          "text": [
            "torch.Size([4, 2])\n"
          ]
        }
      ],
      "source": [
        "print(y.size())"
      ]
    },
    {
      "cell_type": "code",
      "execution_count": 12,
      "metadata": {
        "id": "7RLyxz6T6yS_"
      },
      "outputs": [],
      "source": [
        "for p in linear.parameters():\n",
        "    print(p)"
      ]
    },
    {
      "cell_type": "markdown",
      "metadata": {
        "id": "Ng8H78dW6yS_"
      },
      "source": [
        "You can see that there is no weight parameters to learn.\n",
        "Above way can forward(or calculate) values, but it cannot be trained."
      ]
    },
    {
      "cell_type": "markdown",
      "metadata": {
        "id": "U9X8u3pV6yTA"
      },
      "source": [
        "### Correct way: nn.Parameter"
      ]
    },
    {
      "cell_type": "code",
      "execution_count": 13,
      "metadata": {
        "id": "EYtWQOQh6yTA"
      },
      "outputs": [],
      "source": [
        "class MyLinear(nn.Module):\n",
        "\n",
        "    def __init__(self, input_dim=3, output_dim=2):\n",
        "        self.input_dim = input_dim\n",
        "        self.output_dim = output_dim\n",
        "        \n",
        "        super().__init__()\n",
        "        \n",
        "        self.W = nn.Parameter(torch.FloatTensor(input_dim, output_dim))\n",
        "        self.b = nn.Parameter(torch.FloatTensor(output_dim))\n",
        "        \n",
        "    def forward(self, x):\n",
        "        # |x| = (batch_size, input_dim)\n",
        "        y = torch.matmul(x, self.W) + self.b\n",
        "        # |y| = (batch_size, input_dim) * (input_dim, output_dim)\n",
        "        #     = (batch_size, output_dim)\n",
        "        \n",
        "        return y"
      ]
    },
    {
      "cell_type": "markdown",
      "source": [
        "-  nn.Parameter로 감싸야 nn.Module을 상속받은 MyLinear 객체에 제대로 등록이 됨"
      ],
      "metadata": {
        "id": "Y2YS__2wJLfC"
      }
    },
    {
      "cell_type": "markdown",
      "metadata": {
        "id": "E-JBBSD_6yTB"
      },
      "source": [
        "Reference: https://pytorch.org/docs/stable/nn.html#torch.nn.Parameter\n",
        "\n",
        "A kind of Tensor that is to be considered a module parameter.\n",
        "\n",
        "Parameters are Tensor subclasses, that have a very special property when used with Module s - when they’re assigned as Module attributes they are automatically added to the list of its parameters, and will appear e.g. in parameters() iterator. Assigning a Tensor doesn’t have such effect. This is because one might want to cache some temporary state, like last hidden state of the RNN, in the model. If there was no such class as Parameter, these temporaries would get registered too."
      ]
    },
    {
      "cell_type": "code",
      "execution_count": 14,
      "metadata": {
        "id": "hXRWi7Du6yTC"
      },
      "outputs": [],
      "source": [
        "linear = MyLinear(3, 2)\n",
        "\n",
        "y = linear(x)"
      ]
    },
    {
      "cell_type": "code",
      "execution_count": 15,
      "metadata": {
        "colab": {
          "base_uri": "https://localhost:8080/"
        },
        "id": "VjDJmO5t6yTC",
        "outputId": "20c5b6ad-3d12-4187-dfbb-82708a0777a8"
      },
      "outputs": [
        {
          "output_type": "stream",
          "name": "stdout",
          "text": [
            "torch.Size([4, 2])\n"
          ]
        }
      ],
      "source": [
        "print(y.size())"
      ]
    },
    {
      "cell_type": "code",
      "execution_count": 16,
      "metadata": {
        "colab": {
          "base_uri": "https://localhost:8080/"
        },
        "id": "cIB2yRCO6yTD",
        "outputId": "a405e114-df8d-4920-9348-09a8745e52aa"
      },
      "outputs": [
        {
          "output_type": "stream",
          "name": "stdout",
          "text": [
            "Parameter containing:\n",
            "tensor([[2.2325e-35, 0.0000e+00],\n",
            "        [3.3631e-44, 0.0000e+00],\n",
            "        [       nan, 1.0800e+02]], requires_grad=True)\n",
            "Parameter containing:\n",
            "tensor([2.2324e-35, 0.0000e+00], requires_grad=True)\n"
          ]
        }
      ],
      "source": [
        "for p in linear.parameters():\n",
        "    print(p)"
      ]
    },
    {
      "cell_type": "markdown",
      "metadata": {
        "id": "zx6otOak6yTE"
      },
      "source": [
        "## nn.Linear"
      ]
    },
    {
      "cell_type": "code",
      "execution_count": 17,
      "metadata": {
        "id": "0TT0PBZx6yTE"
      },
      "outputs": [],
      "source": [
        "linear = nn.Linear(3, 2)\n",
        "\n",
        "y = linear(x)"
      ]
    },
    {
      "cell_type": "code",
      "execution_count": 18,
      "metadata": {
        "colab": {
          "base_uri": "https://localhost:8080/"
        },
        "id": "bXY-9CyW6yTE",
        "outputId": "6ef19eac-10c9-44ee-c9da-bcac77af8727"
      },
      "outputs": [
        {
          "output_type": "stream",
          "name": "stdout",
          "text": [
            "torch.Size([4, 2])\n"
          ]
        }
      ],
      "source": [
        "print(y.size())"
      ]
    },
    {
      "cell_type": "code",
      "execution_count": 19,
      "metadata": {
        "scrolled": false,
        "colab": {
          "base_uri": "https://localhost:8080/"
        },
        "id": "wJ5wYmBL6yTF",
        "outputId": "a3e4eaff-577d-4b28-e98c-fdc9f8678ab3"
      },
      "outputs": [
        {
          "output_type": "stream",
          "name": "stdout",
          "text": [
            "Parameter containing:\n",
            "tensor([[ 0.0641,  0.4558,  0.0175],\n",
            "        [-0.3228, -0.0536,  0.3064]], requires_grad=True)\n",
            "Parameter containing:\n",
            "tensor([-0.3808,  0.0172], requires_grad=True)\n"
          ]
        }
      ],
      "source": [
        "for p in linear.parameters():\n",
        "    print(p)"
      ]
    },
    {
      "cell_type": "markdown",
      "metadata": {
        "id": "reDUywyx6yTF"
      },
      "source": [
        "### nn.Module can contain other nn.Module's child classes."
      ]
    },
    {
      "cell_type": "code",
      "execution_count": 20,
      "metadata": {
        "id": "dTP2chE_6yTG"
      },
      "outputs": [],
      "source": [
        "class MyLinear(nn.Module):\n",
        "\n",
        "    def __init__(self, input_dim=3, output_dim=2):\n",
        "        self.input_dim = input_dim\n",
        "        self.output_dim = output_dim\n",
        "        \n",
        "        super().__init__()\n",
        "        \n",
        "        self.linear = nn.Linear(input_dim, output_dim)\n",
        "        \n",
        "    def forward(self, x):\n",
        "        # |x| = (batch_size, input_dim)\n",
        "        y = self.linear(x)\n",
        "        # |y| = (batch_size, output_dim)\n",
        "        \n",
        "        return y"
      ]
    },
    {
      "cell_type": "code",
      "execution_count": 21,
      "metadata": {
        "id": "u4_p8FPs6yTG"
      },
      "outputs": [],
      "source": [
        "linear = MyLinear(3, 2)\n",
        "\n",
        "y = linear(x)"
      ]
    },
    {
      "cell_type": "code",
      "execution_count": 22,
      "metadata": {
        "colab": {
          "base_uri": "https://localhost:8080/"
        },
        "id": "3dR4racJ6yTG",
        "outputId": "adaaeead-446b-4e8f-d0f6-e87571b9b7d8"
      },
      "outputs": [
        {
          "output_type": "stream",
          "name": "stdout",
          "text": [
            "torch.Size([4, 2])\n"
          ]
        }
      ],
      "source": [
        "print(y.size())"
      ]
    },
    {
      "cell_type": "code",
      "execution_count": 23,
      "metadata": {
        "colab": {
          "base_uri": "https://localhost:8080/"
        },
        "id": "N4OYMSxr6yTH",
        "outputId": "50976c38-e93a-4f04-a623-1671520c09fa"
      },
      "outputs": [
        {
          "output_type": "stream",
          "name": "stdout",
          "text": [
            "Parameter containing:\n",
            "tensor([[-0.0687, -0.4856, -0.3070],\n",
            "        [-0.4090,  0.0245, -0.5656]], requires_grad=True)\n",
            "Parameter containing:\n",
            "tensor([0.5747, 0.4093], requires_grad=True)\n"
          ]
        }
      ],
      "source": [
        "for p in linear.parameters():\n",
        "    print(p)"
      ]
    }
  ],
  "metadata": {
    "kernelspec": {
      "display_name": "Python 3",
      "language": "python",
      "name": "python3"
    },
    "language_info": {
      "codemirror_mode": {
        "name": "ipython",
        "version": 3
      },
      "file_extension": ".py",
      "mimetype": "text/x-python",
      "name": "python",
      "nbconvert_exporter": "python",
      "pygments_lexer": "ipython3",
      "version": "3.7.6"
    },
    "colab": {
      "name": "05-04-linear_layer.ipynb",
      "provenance": []
    }
  },
  "nbformat": 4,
  "nbformat_minor": 0
}