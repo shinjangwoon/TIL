{
  "cells": [
    {
      "cell_type": "markdown",
      "metadata": {
        "id": "xMK3XhXgpq2W"
      },
      "source": [
        "# PyTorch Tensor Manipulations"
      ]
    },
    {
      "cell_type": "code",
      "execution_count": 1,
      "metadata": {
        "id": "li1STI6tpq2i"
      },
      "outputs": [],
      "source": [
        "import torch"
      ]
    },
    {
      "cell_type": "markdown",
      "metadata": {
        "id": "7ImuD6uDpq2m"
      },
      "source": [
        "## Tensor Shaping\n",
        "\n",
        "### reshape: Change Tensor Shape"
      ]
    },
    {
      "cell_type": "code",
      "execution_count": 2,
      "metadata": {
        "colab": {
          "base_uri": "https://localhost:8080/"
        },
        "id": "lslDtfJhpq2p",
        "outputId": "3c472381-a70e-47f0-e76e-d2da8d5d3362"
      },
      "outputs": [
        {
          "output_type": "stream",
          "name": "stdout",
          "text": [
            "torch.Size([3, 2, 2])\n"
          ]
        }
      ],
      "source": [
        "x = torch.FloatTensor([[[1, 2],\n",
        "                        [3, 4]],\n",
        "                       [[5, 6],\n",
        "                        [7, 8]],\n",
        "                       [[9, 10],\n",
        "                        [11, 12]]])\n",
        "\n",
        "print(x.size())"
      ]
    },
    {
      "cell_type": "code",
      "execution_count": 3,
      "metadata": {
        "colab": {
          "base_uri": "https://localhost:8080/"
        },
        "id": "2bx3NLimpq2s",
        "outputId": "98b1e752-a061-4657-ca16-34ddc8ce8b66"
      },
      "outputs": [
        {
          "output_type": "stream",
          "name": "stdout",
          "text": [
            "tensor([ 1.,  2.,  3.,  4.,  5.,  6.,  7.,  8.,  9., 10., 11., 12.])\n",
            "tensor([ 1.,  2.,  3.,  4.,  5.,  6.,  7.,  8.,  9., 10., 11., 12.])\n"
          ]
        }
      ],
      "source": [
        "print(x.reshape(12)) # 12 = 3 * 2 * 2\n",
        "print(x.reshape(-1))"
      ]
    },
    {
      "cell_type": "code",
      "execution_count": null,
      "metadata": {
        "id": "qRGlsZcQpq2t",
        "outputId": "af4a4de1-6a7a-4a78-c4a1-427b3a989dd9"
      },
      "outputs": [
        {
          "name": "stdout",
          "output_type": "stream",
          "text": [
            "tensor([[ 1.,  2.,  3.,  4.],\n",
            "        [ 5.,  6.,  7.,  8.],\n",
            "        [ 9., 10., 11., 12.]])\n",
            "tensor([[ 1.,  2.,  3.,  4.],\n",
            "        [ 5.,  6.,  7.,  8.],\n",
            "        [ 9., 10., 11., 12.]])\n"
          ]
        }
      ],
      "source": [
        "print(x.reshape(3, 4)) # 3 * 4 = 3 * 2 * 2\n",
        "print(x.reshape(3, -1))"
      ]
    },
    {
      "cell_type": "code",
      "execution_count": null,
      "metadata": {
        "id": "xap3meG5pq2v",
        "outputId": "d2df2468-62f4-4ac5-8e9a-7f04730caa6d"
      },
      "outputs": [
        {
          "name": "stdout",
          "output_type": "stream",
          "text": [
            "tensor([[[ 1.,  2.,  3.,  4.]],\n",
            "\n",
            "        [[ 5.,  6.,  7.,  8.]],\n",
            "\n",
            "        [[ 9., 10., 11., 12.]]])\n",
            "tensor([[[ 1.,  2.,  3.,  4.]],\n",
            "\n",
            "        [[ 5.,  6.,  7.,  8.]],\n",
            "\n",
            "        [[ 9., 10., 11., 12.]]])\n"
          ]
        }
      ],
      "source": [
        "print(x.reshape(3, 1, 4))\n",
        "print(x.reshape(-1, 1, 4))"
      ]
    },
    {
      "cell_type": "code",
      "execution_count": null,
      "metadata": {
        "scrolled": true,
        "id": "szQXoko4pq2x",
        "outputId": "f8ac2061-f0cb-4e34-a223-d6d2df594204"
      },
      "outputs": [
        {
          "name": "stdout",
          "output_type": "stream",
          "text": [
            "tensor([[[[ 1.],\n",
            "          [ 2.]],\n",
            "\n",
            "         [[ 3.],\n",
            "          [ 4.]]],\n",
            "\n",
            "\n",
            "        [[[ 5.],\n",
            "          [ 6.]],\n",
            "\n",
            "         [[ 7.],\n",
            "          [ 8.]]],\n",
            "\n",
            "\n",
            "        [[[ 9.],\n",
            "          [10.]],\n",
            "\n",
            "         [[11.],\n",
            "          [12.]]]])\n"
          ]
        }
      ],
      "source": [
        "print(x.reshape(3, 2, 2, 1))"
      ]
    },
    {
      "cell_type": "markdown",
      "metadata": {
        "id": "_vV8WIkypq2y"
      },
      "source": [
        "You can use 'view()' instead of 'reshape()' in some cases.\n",
        "\n",
        "- https://pytorch.org/docs/stable/tensor_view.html\n",
        "- https://pytorch.org/docs/stable/tensors.html?highlight=view#torch.Tensor.view"
      ]
    },
    {
      "cell_type": "markdown",
      "metadata": {
        "id": "zOSp_Hv-pq2z"
      },
      "source": [
        "### squeeze: Remove dimension which has only one element."
      ]
    },
    {
      "cell_type": "code",
      "execution_count": null,
      "metadata": {
        "id": "lMFHXWsopq20",
        "outputId": "f7575cdc-75db-44da-b4cf-461490f4462c"
      },
      "outputs": [
        {
          "name": "stdout",
          "output_type": "stream",
          "text": [
            "torch.Size([1, 2, 2])\n"
          ]
        }
      ],
      "source": [
        "x = torch.FloatTensor([[[1, 2],\n",
        "                        [3, 4]]])\n",
        "print(x.size())"
      ]
    },
    {
      "cell_type": "markdown",
      "metadata": {
        "id": "SoDrueq9pq21"
      },
      "source": [
        "Remove any dimension which has only one element."
      ]
    },
    {
      "cell_type": "code",
      "execution_count": null,
      "metadata": {
        "id": "milXLBEOpq22",
        "outputId": "fba286c6-0481-4919-8ef7-4c90beae36d3"
      },
      "outputs": [
        {
          "name": "stdout",
          "output_type": "stream",
          "text": [
            "tensor([[1., 2.],\n",
            "        [3., 4.]])\n",
            "torch.Size([2, 2])\n"
          ]
        }
      ],
      "source": [
        "print(x.squeeze())\n",
        "print(x.squeeze().size())"
      ]
    },
    {
      "cell_type": "markdown",
      "metadata": {
        "id": "imNUZ5XZpq23"
      },
      "source": [
        "Remove certain dimension, if it has only one element.\n",
        "If it is not, there would be no change."
      ]
    },
    {
      "cell_type": "code",
      "execution_count": null,
      "metadata": {
        "scrolled": true,
        "id": "t1v35eJYpq23",
        "outputId": "f9367f24-e5ea-4389-fcad-40458d2a5d0a"
      },
      "outputs": [
        {
          "name": "stdout",
          "output_type": "stream",
          "text": [
            "torch.Size([2, 2])\n",
            "torch.Size([1, 2, 2])\n"
          ]
        }
      ],
      "source": [
        "print(x.squeeze(0).size())\n",
        "print(x.squeeze(1).size())"
      ]
    },
    {
      "cell_type": "markdown",
      "metadata": {
        "id": "1AKbEAszpq24"
      },
      "source": [
        "### unsqueeze: Insert dimension at certain index."
      ]
    },
    {
      "cell_type": "code",
      "execution_count": null,
      "metadata": {
        "id": "f47sJCmopq25",
        "outputId": "a2c2f44a-1ff8-49b4-f364-30b4277788ca"
      },
      "outputs": [
        {
          "name": "stdout",
          "output_type": "stream",
          "text": [
            "torch.Size([2, 2])\n"
          ]
        }
      ],
      "source": [
        "x = torch.FloatTensor([[1, 2],\n",
        "                       [3, 4]])\n",
        "print(x.size())"
      ]
    },
    {
      "cell_type": "code",
      "execution_count": null,
      "metadata": {
        "id": "-6IWn3Vwpq27",
        "outputId": "04e3fa66-cae7-4a24-91cc-ed88629c0d23"
      },
      "outputs": [
        {
          "name": "stdout",
          "output_type": "stream",
          "text": [
            "tensor([[[1.],\n",
            "         [2.]],\n",
            "\n",
            "        [[3.],\n",
            "         [4.]]])\n",
            "tensor([[[1.],\n",
            "         [2.]],\n",
            "\n",
            "        [[3.],\n",
            "         [4.]]])\n",
            "tensor([[[1.],\n",
            "         [2.]],\n",
            "\n",
            "        [[3.],\n",
            "         [4.]]])\n"
          ]
        }
      ],
      "source": [
        "print(x.unsqueeze(2))\n",
        "print(x.unsqueeze(-1))\n",
        "print(x.reshape(2, 2, -1))"
      ]
    }
  ],
  "metadata": {
    "kernelspec": {
      "display_name": "Python 3",
      "language": "python",
      "name": "python3"
    },
    "language_info": {
      "codemirror_mode": {
        "name": "ipython",
        "version": 3
      },
      "file_extension": ".py",
      "mimetype": "text/x-python",
      "name": "python",
      "nbconvert_exporter": "python",
      "pygments_lexer": "ipython3",
      "version": "3.7.6"
    },
    "colab": {
      "name": "04-06-tensor_manipulations.ipynb",
      "provenance": []
    },
    "accelerator": "GPU",
    "gpuClass": "standard"
  },
  "nbformat": 4,
  "nbformat_minor": 0
}