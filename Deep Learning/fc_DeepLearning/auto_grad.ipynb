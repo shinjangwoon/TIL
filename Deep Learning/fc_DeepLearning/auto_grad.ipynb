{
  "cells": [
    {
      "cell_type": "markdown",
      "metadata": {
        "id": "_LJ_I01yXEmb"
      },
      "source": [
        "# PyTorch AutoGrad"
      ]
    },
    {
      "cell_type": "code",
      "execution_count": 1,
      "metadata": {
        "id": "Eb63l0qnXEmk"
      },
      "outputs": [],
      "source": [
        "import torch"
      ]
    },
    {
      "cell_type": "code",
      "execution_count": 3,
      "metadata": {
        "id": "zlseDh7-XEmm"
      },
      "outputs": [],
      "source": [
        "x = torch.FloatTensor([[1, 2],\n",
        "                       [3, 4]]).requires_grad_(True) # 미분할 것이라고 선언"
      ]
    },
    {
      "cell_type": "code",
      "execution_count": 4,
      "metadata": {
        "colab": {
          "base_uri": "https://localhost:8080/"
        },
        "id": "Gnd-l_lBXEmo",
        "outputId": "91a4b5c5-df03-4603-99dc-e840689efa21"
      },
      "outputs": [
        {
          "output_type": "stream",
          "name": "stdout",
          "text": [
            "tensor([[3., 4.],\n",
            "        [5., 6.]], grad_fn=<AddBackward0>)\n",
            "tensor([[-1.,  0.],\n",
            "        [ 1.,  2.]], grad_fn=<SubBackward0>)\n",
            "tensor([[-3.,  0.],\n",
            "        [ 5., 12.]], grad_fn=<MulBackward0>)\n",
            "tensor(14., grad_fn=<SumBackward0>)\n"
          ]
        }
      ],
      "source": [
        "x1 = x + 2\n",
        "x2 = x - 2\n",
        "x3 = x1 * x2\n",
        "y = x3.sum()\n",
        "\n",
        "print(x1)\n",
        "print(x2)\n",
        "print(x3)\n",
        "print(y)"
      ]
    },
    {
      "cell_type": "code",
      "execution_count": 5,
      "metadata": {
        "id": "xjnL66OuXEmq"
      },
      "outputs": [],
      "source": [
        "'''\n",
        "backward() - 미분한다 \n",
        "y를 미분하는데 y의 값은 scalar 이여야 함 \n",
        "scalar 값이 아닌 경우 error 발생 \n",
        "'''\n",
        "\n",
        "y.backward() "
      ]
    },
    {
      "cell_type": "markdown",
      "metadata": {
        "id": "XimlFsXrXEmr"
      },
      "source": [
        "$$\\begin{gathered}\n",
        "x=\\begin{bmatrix}\n",
        "x_{(1,1)} & x_{(1,2)} \\\\\n",
        "x_{(2,1)} & x_{(2,2)}\n",
        "\\end{bmatrix}\\\\\n",
        "\\\\\n",
        "x_1=x+2 \\\\\n",
        "x_2=x-2 \\\\\n",
        "\\\\\n",
        "\\begin{aligned}\n",
        "x_3&=x_1\\times{x_2} \\\\\n",
        "&=(x+2)(x-2) \\\\\n",
        "&=x^2-4\n",
        "\\end{aligned} \\\\\n",
        "\\\\\n",
        "\\begin{aligned}\n",
        "y&=\\text{sum}(x_3) \\\\\n",
        "&=x_{3,(1,1)}+x_{3,(1,2)}+x_{3,(2,1)}+x_{3,(2,2)}\n",
        "\\end{aligned} \\\\\n",
        "\\\\\n",
        "\\text{x.grad}=\\begin{bmatrix}\n",
        "\\frac{\\partial{y}}{\\partial{x_{(1,1)}}} & \\frac{\\partial{y}}{\\partial{x_{(1,2)}}} \\\\\n",
        "\\frac{\\partial{y}}{\\partial{x_{(2,1)}}} & \\frac{\\partial{y}}{\\partial{x_{(2,2)}}}\n",
        "\\end{bmatrix} \\\\\n",
        "\\\\\n",
        "\\frac{dy}{dx}=2x\n",
        "\\end{gathered}$$"
      ]
    },
    {
      "cell_type": "code",
      "execution_count": 6,
      "metadata": {
        "colab": {
          "base_uri": "https://localhost:8080/"
        },
        "id": "O-zOYNn1XEmt",
        "outputId": "8ac423ad-5441-40bf-c5f0-e20756e0acc6"
      },
      "outputs": [
        {
          "output_type": "stream",
          "name": "stdout",
          "text": [
            "tensor([[2., 4.],\n",
            "        [6., 8.]])\n"
          ]
        }
      ],
      "source": [
        "print(x.grad)"
      ]
    },
    {
      "cell_type": "code",
      "execution_count": 7,
      "metadata": {
        "colab": {
          "base_uri": "https://localhost:8080/"
        },
        "id": "MHH3L2RnXEmu",
        "outputId": "7bfd04d1-b321-4648-f61d-1b46b819dd28"
      },
      "outputs": [
        {
          "output_type": "stream",
          "name": "stdout",
          "text": [
            "tensor([[1., 2.],\n",
            "        [3., 4.]], requires_grad=True)\n"
          ]
        }
      ],
      "source": [
        "print(x)"
      ]
    },
    {
      "cell_type": "code",
      "execution_count": 8,
      "metadata": {
        "colab": {
          "base_uri": "https://localhost:8080/",
          "height": 171
        },
        "id": "W_evrUzuXEmw",
        "outputId": "59c99689-d0d7-4f64-af1c-3224bb8219af"
      },
      "outputs": [
        {
          "output_type": "error",
          "ename": "RuntimeError",
          "evalue": "ignored",
          "traceback": [
            "\u001b[0;31m---------------------------------------------------------------------------\u001b[0m",
            "\u001b[0;31mRuntimeError\u001b[0m                              Traceback (most recent call last)",
            "\u001b[0;32m<ipython-input-8-a71c6bba3ddf>\u001b[0m in \u001b[0;36m<module>\u001b[0;34m()\u001b[0m\n\u001b[0;32m----> 1\u001b[0;31m \u001b[0mx3\u001b[0m\u001b[0;34m.\u001b[0m\u001b[0mnumpy\u001b[0m\u001b[0;34m(\u001b[0m\u001b[0;34m)\u001b[0m\u001b[0;34m\u001b[0m\u001b[0;34m\u001b[0m\u001b[0m\n\u001b[0m",
            "\u001b[0;31mRuntimeError\u001b[0m: Can't call numpy() on Tensor that requires grad. Use tensor.detach().numpy() instead."
          ]
        }
      ],
      "source": [
        "x3.numpy()"
      ]
    },
    {
      "cell_type": "code",
      "execution_count": 9,
      "metadata": {
        "colab": {
          "base_uri": "https://localhost:8080/"
        },
        "id": "ZuUegDEeXEmx",
        "outputId": "4dcb1fe0-a221-4e9e-ad49-64b5ab85c79d"
      },
      "outputs": [
        {
          "output_type": "execute_result",
          "data": {
            "text/plain": [
              "array([[-3.,  0.],\n",
              "       [ 5., 12.]], dtype=float32)"
            ]
          },
          "metadata": {},
          "execution_count": 9
        }
      ],
      "source": [
        "x3.detach_().numpy()"
      ]
    },
    {
      "cell_type": "code",
      "execution_count": null,
      "metadata": {
        "id": "VjEvugX6XEm0"
      },
      "outputs": [],
      "source": [
        ""
      ]
    }
  ],
  "metadata": {
    "kernelspec": {
      "display_name": "Python 3",
      "language": "python",
      "name": "python3"
    },
    "language_info": {
      "codemirror_mode": {
        "name": "ipython",
        "version": 3
      },
      "file_extension": ".py",
      "mimetype": "text/x-python",
      "name": "python",
      "nbconvert_exporter": "python",
      "pygments_lexer": "ipython3",
      "version": "3.7.6"
    },
    "colab": {
      "name": "07-05-auto_grad.ipynb",
      "provenance": []
    }
  },
  "nbformat": 4,
  "nbformat_minor": 0
}