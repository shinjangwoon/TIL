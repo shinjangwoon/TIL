{
  "cells": [
    {
      "cell_type": "markdown",
      "metadata": {
        "id": "hQZFjjmJf59b"
      },
      "source": [
        "# PyTorch Useful Methods"
      ]
    },
    {
      "cell_type": "code",
      "execution_count": null,
      "metadata": {
        "id": "CPELm0Ggf59e"
      },
      "outputs": [],
      "source": [
        "import torch"
      ]
    },
    {
      "cell_type": "markdown",
      "metadata": {
        "id": "pmT0niZ2f59f"
      },
      "source": [
        "### expand: copy the given tensor and concat those at desired dimension."
      ]
    },
    {
      "cell_type": "code",
      "execution_count": null,
      "metadata": {
        "id": "45OggTbrf59g",
        "outputId": "9c3c945e-712a-4856-fde4-caf75301bab2"
      },
      "outputs": [
        {
          "name": "stdout",
          "output_type": "stream",
          "text": [
            "torch.Size([2, 1, 2])\n"
          ]
        }
      ],
      "source": [
        "x = torch.FloatTensor([[[1, 2]],\n",
        "                       [[3, 4]]])\n",
        "print(x.size())"
      ]
    },
    {
      "cell_type": "code",
      "execution_count": null,
      "metadata": {
        "id": "JOrHORbDf59h",
        "outputId": "0588d488-4065-435a-e476-b542e3216e3f"
      },
      "outputs": [
        {
          "name": "stdout",
          "output_type": "stream",
          "text": [
            "tensor([[[1., 2.],\n",
            "         [1., 2.],\n",
            "         [1., 2.]],\n",
            "\n",
            "        [[3., 4.],\n",
            "         [3., 4.],\n",
            "         [3., 4.]]])\n",
            "torch.Size([2, 3, 2])\n"
          ]
        }
      ],
      "source": [
        "y = x.expand(*[2, 3, 2])\n",
        "\n",
        "print(y)\n",
        "print(y.size())"
      ]
    },
    {
      "cell_type": "markdown",
      "metadata": {
        "id": "fSpoeVBBf59i"
      },
      "source": [
        "#### Implement expand with cat."
      ]
    },
    {
      "cell_type": "code",
      "execution_count": null,
      "metadata": {
        "id": "do4PaTndf59i",
        "outputId": "22530086-f6cc-41ff-ee2c-b587a8f08198"
      },
      "outputs": [
        {
          "name": "stdout",
          "output_type": "stream",
          "text": [
            "tensor([[[1., 2.],\n",
            "         [1., 2.],\n",
            "         [1., 2.]],\n",
            "\n",
            "        [[3., 4.],\n",
            "         [3., 4.],\n",
            "         [3., 4.]]])\n",
            "torch.Size([2, 3, 2])\n"
          ]
        }
      ],
      "source": [
        "y = torch.cat([x, x, x], dim=1)\n",
        "\n",
        "print(y)\n",
        "print(y.size())"
      ]
    },
    {
      "cell_type": "markdown",
      "metadata": {
        "id": "-3ynFJvBf59i"
      },
      "source": [
        "### randperm: Random Permutation"
      ]
    },
    {
      "cell_type": "code",
      "execution_count": null,
      "metadata": {
        "id": "Q1VYw2P_f59j",
        "outputId": "d75474d6-67d9-4c62-d012-abc9183f066d"
      },
      "outputs": [
        {
          "name": "stdout",
          "output_type": "stream",
          "text": [
            "tensor([1, 9, 6, 4, 0, 7, 3, 5, 2, 8])\n",
            "torch.Size([10])\n"
          ]
        }
      ],
      "source": [
        "x = torch.randperm(10)\n",
        "\n",
        "print(x)\n",
        "print(x.size())"
      ]
    },
    {
      "cell_type": "markdown",
      "metadata": {
        "id": "z30CYL-0f59j"
      },
      "source": [
        "### argmax: Return index of maximum values"
      ]
    },
    {
      "cell_type": "code",
      "execution_count": null,
      "metadata": {
        "scrolled": true,
        "id": "TLkeRwDdf59j",
        "outputId": "e2130d4e-c083-43b8-db1c-5e4a24e5b351"
      },
      "outputs": [
        {
          "name": "stdout",
          "output_type": "stream",
          "text": [
            "tensor([[[18,  9, 25],\n",
            "         [ 0, 16,  8],\n",
            "         [24, 20, 14]],\n",
            "\n",
            "        [[ 1,  4, 17],\n",
            "         [ 2, 22,  7],\n",
            "         [ 5, 10, 12]],\n",
            "\n",
            "        [[15, 13, 23],\n",
            "         [ 3, 21, 19],\n",
            "         [26,  6, 11]]])\n",
            "torch.Size([3, 3, 3])\n"
          ]
        }
      ],
      "source": [
        "x = torch.randperm(3**3).reshape(3, 3, -1)\n",
        "\n",
        "print(x)\n",
        "print(x.size())"
      ]
    },
    {
      "cell_type": "code",
      "execution_count": null,
      "metadata": {
        "id": "10RaVm0Pf59k",
        "outputId": "f77db9f7-fdf0-4e68-e991-c9ed1231a0d4"
      },
      "outputs": [
        {
          "name": "stdout",
          "output_type": "stream",
          "text": [
            "tensor([[2, 1, 0],\n",
            "        [2, 1, 2],\n",
            "        [2, 1, 0]])\n",
            "torch.Size([3, 3])\n"
          ]
        }
      ],
      "source": [
        "y = x.argmax(dim=-1)\n",
        "\n",
        "print(y)\n",
        "print(y.size())"
      ]
    },
    {
      "cell_type": "markdown",
      "metadata": {
        "id": "36YSrA1hf59k"
      },
      "source": [
        "### topk: Return tuple of top-k values and indices."
      ]
    },
    {
      "cell_type": "code",
      "execution_count": null,
      "metadata": {
        "scrolled": false,
        "id": "2GLS8LLBf59k",
        "outputId": "d6cdec9f-b6b5-43f4-e1c4-a0a3910789ad"
      },
      "outputs": [
        {
          "name": "stdout",
          "output_type": "stream",
          "text": [
            "torch.Size([3, 3, 1])\n",
            "torch.Size([3, 3, 1])\n"
          ]
        }
      ],
      "source": [
        "values, indices = torch.topk(x, k=1, dim=-1)\n",
        "\n",
        "print(values.size())\n",
        "print(indices.size())"
      ]
    },
    {
      "cell_type": "markdown",
      "metadata": {
        "id": "uivlwTY8f59k"
      },
      "source": [
        "Note that topk didn't reduce the dimension, even in $k=1$ case."
      ]
    },
    {
      "cell_type": "code",
      "execution_count": null,
      "metadata": {
        "id": "F0cX8SwTf59k",
        "outputId": "4fcef00a-3a08-4a08-d7c2-58d3d05b35e7"
      },
      "outputs": [
        {
          "name": "stdout",
          "output_type": "stream",
          "text": [
            "tensor([[25, 16, 24],\n",
            "        [17, 22, 12],\n",
            "        [23, 21, 26]])\n",
            "tensor([[2, 1, 0],\n",
            "        [2, 1, 2],\n",
            "        [2, 1, 0]])\n"
          ]
        }
      ],
      "source": [
        "print(values.squeeze(-1))\n",
        "print(indices.squeeze(-1))"
      ]
    },
    {
      "cell_type": "code",
      "execution_count": null,
      "metadata": {
        "id": "Zlujdpsuf59l",
        "outputId": "8e59fd18-cb52-49b7-8b6e-017675aedef7"
      },
      "outputs": [
        {
          "name": "stdout",
          "output_type": "stream",
          "text": [
            "tensor([[True, True, True],\n",
            "        [True, True, True],\n",
            "        [True, True, True]])\n"
          ]
        }
      ],
      "source": [
        "print(x.argmax(dim=-1) == indices.squeeze(-1))"
      ]
    },
    {
      "cell_type": "code",
      "execution_count": null,
      "metadata": {
        "id": "UzYooyIBf59l",
        "outputId": "2cc5e426-ca75-476a-d00e-8c0b35dd0437"
      },
      "outputs": [
        {
          "name": "stdout",
          "output_type": "stream",
          "text": [
            "torch.Size([3, 3, 2])\n",
            "tensor([[True, True, True],\n",
            "        [True, True, True],\n",
            "        [True, True, True]])\n"
          ]
        }
      ],
      "source": [
        "_, indices = torch.topk(x, k=2, dim=-1)\n",
        "print(indices.size())\n",
        "\n",
        "print(x.argmax(dim=-1) == indices[:, :, 0])"
      ]
    },
    {
      "cell_type": "markdown",
      "metadata": {
        "id": "N8-HZpIOf59l"
      },
      "source": [
        "### Sort by using topk"
      ]
    },
    {
      "cell_type": "code",
      "execution_count": null,
      "metadata": {
        "id": "paHMgUmOf59l",
        "outputId": "acec7238-e5a1-4bc2-dd1c-ec88fb294cd0"
      },
      "outputs": [
        {
          "name": "stdout",
          "output_type": "stream",
          "text": [
            "tensor([[[25, 18,  9],\n",
            "         [16,  8,  0],\n",
            "         [24, 20, 14]],\n",
            "\n",
            "        [[17,  4,  1],\n",
            "         [22,  7,  2],\n",
            "         [12, 10,  5]],\n",
            "\n",
            "        [[23, 15, 13],\n",
            "         [21, 19,  3],\n",
            "         [26, 11,  6]]])\n"
          ]
        }
      ],
      "source": [
        "target_dim = -1\n",
        "values, indices = torch.topk(x,\n",
        "                             k=x.size(target_dim),\n",
        "                             largest=True)\n",
        "\n",
        "print(values)"
      ]
    },
    {
      "cell_type": "markdown",
      "metadata": {
        "id": "-K1NrZz9f59l"
      },
      "source": [
        "### Topk by using sort"
      ]
    },
    {
      "cell_type": "code",
      "execution_count": null,
      "metadata": {
        "id": "bR2cU8RTf59m",
        "outputId": "4fec2b4d-fe7d-4401-c9d7-9b50608d93af"
      },
      "outputs": [
        {
          "name": "stdout",
          "output_type": "stream",
          "text": [
            "tensor([[25, 16, 24],\n",
            "        [17, 22, 12],\n",
            "        [23, 21, 26]])\n",
            "tensor([[2, 1, 0],\n",
            "        [2, 1, 2],\n",
            "        [2, 1, 0]])\n"
          ]
        }
      ],
      "source": [
        "k=1\n",
        "values, indices = torch.sort(x, dim=-1, descending=True)\n",
        "values, indices = values[:, :, :k], indices[:, :, :k]\n",
        "\n",
        "print(values.squeeze(-1))\n",
        "print(indices.squeeze(-1))"
      ]
    },
    {
      "cell_type": "markdown",
      "metadata": {
        "id": "lFfRxJt8f59m"
      },
      "source": [
        "### masked_fill: fill the value if element of mask is True."
      ]
    },
    {
      "cell_type": "code",
      "execution_count": null,
      "metadata": {
        "id": "HpsIrEEDf59m",
        "outputId": "4e19d118-89d7-4632-9889-47c72516771f"
      },
      "outputs": [
        {
          "name": "stdout",
          "output_type": "stream",
          "text": [
            "tensor([[0., 1., 2.],\n",
            "        [3., 4., 5.],\n",
            "        [6., 7., 8.]])\n",
            "torch.Size([3, 3])\n"
          ]
        }
      ],
      "source": [
        "x = torch.FloatTensor([i for i in range(3**2)]).reshape(3, -1)\n",
        "\n",
        "print(x)\n",
        "print(x.size())"
      ]
    },
    {
      "cell_type": "code",
      "execution_count": null,
      "metadata": {
        "id": "te_4Zb0hf59m",
        "outputId": "89d4e85a-6097-4b08-daae-1ccb2ed7da32"
      },
      "outputs": [
        {
          "name": "stdout",
          "output_type": "stream",
          "text": [
            "tensor([[False, False, False],\n",
            "        [False, False,  True],\n",
            "        [ True,  True,  True]])\n"
          ]
        }
      ],
      "source": [
        "mask = x > 4\n",
        "\n",
        "print(mask)"
      ]
    },
    {
      "cell_type": "code",
      "execution_count": null,
      "metadata": {
        "id": "qgfQ5H62f59m",
        "outputId": "802bb5ed-1784-4e61-f6ab-c6d95387b130"
      },
      "outputs": [
        {
          "name": "stdout",
          "output_type": "stream",
          "text": [
            "tensor([[ 0.,  1.,  2.],\n",
            "        [ 3.,  4., -1.],\n",
            "        [-1., -1., -1.]])\n"
          ]
        }
      ],
      "source": [
        "y = x.masked_fill(mask, value=-1)\n",
        "\n",
        "print(y)"
      ]
    },
    {
      "cell_type": "markdown",
      "metadata": {
        "id": "hw9XeOvKf59m"
      },
      "source": [
        "### Ones and Zeros"
      ]
    },
    {
      "cell_type": "code",
      "execution_count": null,
      "metadata": {
        "id": "vwcAiuosf59n",
        "outputId": "3a22b253-7966-4b89-ac0f-bf034186ba3e"
      },
      "outputs": [
        {
          "name": "stdout",
          "output_type": "stream",
          "text": [
            "tensor([[1., 1., 1.],\n",
            "        [1., 1., 1.]])\n",
            "tensor([[0., 0., 0.],\n",
            "        [0., 0., 0.]])\n"
          ]
        }
      ],
      "source": [
        "print(torch.ones(2, 3))\n",
        "print(torch.zeros(2, 3))"
      ]
    },
    {
      "cell_type": "code",
      "execution_count": null,
      "metadata": {
        "id": "fi7Tm1rgf59n",
        "outputId": "cbea372f-569e-44dc-e159-79901c7a7f88"
      },
      "outputs": [
        {
          "name": "stdout",
          "output_type": "stream",
          "text": [
            "torch.Size([2, 3])\n"
          ]
        }
      ],
      "source": [
        "x = torch.FloatTensor([[1, 2, 3],\n",
        "                       [4, 5, 6]])\n",
        "print(x.size())"
      ]
    },
    {
      "cell_type": "code",
      "execution_count": null,
      "metadata": {
        "id": "Z-bcucj9f59n",
        "outputId": "ed835a81-00bf-4396-8fb8-1ec8a9ef6e93"
      },
      "outputs": [
        {
          "name": "stdout",
          "output_type": "stream",
          "text": [
            "tensor([[1., 1., 1.],\n",
            "        [1., 1., 1.]])\n",
            "tensor([[0., 0., 0.],\n",
            "        [0., 0., 0.]])\n"
          ]
        }
      ],
      "source": [
        "print(torch.ones_like(x))\n",
        "print(torch.zeros_like(x))"
      ]
    }
  ],
  "metadata": {
    "kernelspec": {
      "display_name": "Python 3",
      "language": "python",
      "name": "python3"
    },
    "language_info": {
      "codemirror_mode": {
        "name": "ipython",
        "version": 3
      },
      "file_extension": ".py",
      "mimetype": "text/x-python",
      "name": "python",
      "nbconvert_exporter": "python",
      "pygments_lexer": "ipython3",
      "version": "3.7.6"
    },
    "colab": {
      "name": "04-08-tensor_useful_methods.ipynb",
      "provenance": []
    }
  },
  "nbformat": 4,
  "nbformat_minor": 0
}