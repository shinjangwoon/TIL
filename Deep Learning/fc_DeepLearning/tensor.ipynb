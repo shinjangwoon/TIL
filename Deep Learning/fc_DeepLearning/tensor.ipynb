{
  "cells": [
    {
      "cell_type": "markdown",
      "metadata": {
        "id": "tfbSNnhB1hfK"
      },
      "source": [
        "# PyTorch Tensor"
      ]
    },
    {
      "cell_type": "code",
      "execution_count": null,
      "metadata": {
        "id": "6v5lcpU71hfQ"
      },
      "outputs": [],
      "source": [
        "import torch"
      ]
    },
    {
      "cell_type": "markdown",
      "metadata": {
        "id": "76piFzGh1hfS"
      },
      "source": [
        "## Tensor Allocation"
      ]
    },
    {
      "cell_type": "code",
      "execution_count": null,
      "metadata": {
        "id": "TJK4Lm3d1hfT",
        "outputId": "0d61887c-3d48-4601-f1eb-ea859717be2b"
      },
      "outputs": [
        {
          "data": {
            "text/plain": [
              "tensor([[1., 2.],\n",
              "        [3., 4.]])"
            ]
          },
          "execution_count": 2,
          "metadata": {},
          "output_type": "execute_result"
        }
      ],
      "source": [
        "ft = torch.FloatTensor([[1, 2],\n",
        "                        [3, 4]])\n",
        "ft"
      ]
    },
    {
      "cell_type": "code",
      "execution_count": null,
      "metadata": {
        "id": "sI5KPhf71hfW",
        "outputId": "67e45244-06a3-40b9-bedf-e5197f5dbcf6"
      },
      "outputs": [
        {
          "data": {
            "text/plain": [
              "tensor([[1, 2],\n",
              "        [3, 4]])"
            ]
          },
          "execution_count": 3,
          "metadata": {},
          "output_type": "execute_result"
        }
      ],
      "source": [
        "lt = torch.LongTensor([[1, 2],\n",
        "                       [3, 4]])\n",
        "lt"
      ]
    },
    {
      "cell_type": "code",
      "execution_count": null,
      "metadata": {
        "id": "fS5EXL901hfX",
        "outputId": "fd9fb65d-f9b2-4c71-9f8a-b677fbe412b1"
      },
      "outputs": [
        {
          "data": {
            "text/plain": [
              "tensor([[1, 0],\n",
              "        [0, 1]], dtype=torch.uint8)"
            ]
          },
          "execution_count": 4,
          "metadata": {},
          "output_type": "execute_result"
        }
      ],
      "source": [
        "bt = torch.ByteTensor([[1, 0],\n",
        "                       [0, 1]])\n",
        "bt"
      ]
    },
    {
      "cell_type": "code",
      "execution_count": null,
      "metadata": {
        "id": "uqHxN6rq1hfY",
        "outputId": "e7e8c3fb-5a8c-4ba5-cd9e-91d8a8c93038"
      },
      "outputs": [
        {
          "data": {
            "text/plain": [
              "tensor([[0.0000e+00, 4.6566e-10],\n",
              "        [0.0000e+00, 4.6566e-10],\n",
              "        [9.8091e-45, 0.0000e+00]])"
            ]
          },
          "execution_count": 5,
          "metadata": {},
          "output_type": "execute_result"
        }
      ],
      "source": [
        "x = torch.FloatTensor(3, 2)\n",
        "x"
      ]
    },
    {
      "cell_type": "markdown",
      "metadata": {
        "id": "4aFup4JP1hfa"
      },
      "source": [
        "## NumPy Compatibility"
      ]
    },
    {
      "cell_type": "code",
      "execution_count": null,
      "metadata": {
        "id": "nR4zUoN91hfb",
        "outputId": "194bd54d-ccab-46b8-84b9-ec5d0be30143"
      },
      "outputs": [
        {
          "name": "stdout",
          "output_type": "stream",
          "text": [
            "[[1 2]\n",
            " [3 4]] <class 'numpy.ndarray'>\n"
          ]
        }
      ],
      "source": [
        "import numpy as np\n",
        "\n",
        "# Define numpy array.\n",
        "x = np.array([[1, 2],\n",
        "              [3, 4]])\n",
        "print(x, type(x))"
      ]
    },
    {
      "cell_type": "code",
      "execution_count": null,
      "metadata": {
        "id": "6PT6nlyN1hfd",
        "outputId": "bf4e73d4-acc3-45e6-91bf-5b7cd2524094"
      },
      "outputs": [
        {
          "name": "stdout",
          "output_type": "stream",
          "text": [
            "tensor([[1, 2],\n",
            "        [3, 4]]) <class 'torch.Tensor'>\n"
          ]
        }
      ],
      "source": [
        "x = torch.from_numpy(x)\n",
        "print(x, type(x))"
      ]
    },
    {
      "cell_type": "code",
      "execution_count": null,
      "metadata": {
        "id": "Owp564z21hfe",
        "outputId": "5d98841a-3599-4c68-9f65-55d756e4a145"
      },
      "outputs": [
        {
          "name": "stdout",
          "output_type": "stream",
          "text": [
            "[[1 2]\n",
            " [3 4]] <class 'numpy.ndarray'>\n"
          ]
        }
      ],
      "source": [
        "x = x.numpy()\n",
        "print(x, type(x))"
      ]
    },
    {
      "cell_type": "markdown",
      "metadata": {
        "id": "hyiYLufg1hff"
      },
      "source": [
        "## Tensor Type-casting"
      ]
    },
    {
      "cell_type": "code",
      "execution_count": null,
      "metadata": {
        "id": "GIC-8bOi1hfg",
        "outputId": "da830044-f7d3-4946-deff-63e8df4c9ed2"
      },
      "outputs": [
        {
          "data": {
            "text/plain": [
              "tensor([[1, 2],\n",
              "        [3, 4]])"
            ]
          },
          "execution_count": 9,
          "metadata": {},
          "output_type": "execute_result"
        }
      ],
      "source": [
        "ft.long()"
      ]
    },
    {
      "cell_type": "code",
      "execution_count": null,
      "metadata": {
        "id": "WUQPsT8M1hfh",
        "outputId": "2770825b-8fd4-49a5-ff7e-001a6c6509e9"
      },
      "outputs": [
        {
          "data": {
            "text/plain": [
              "tensor([[1., 2.],\n",
              "        [3., 4.]])"
            ]
          },
          "execution_count": 10,
          "metadata": {},
          "output_type": "execute_result"
        }
      ],
      "source": [
        "lt.float()"
      ]
    },
    {
      "cell_type": "code",
      "execution_count": null,
      "metadata": {
        "id": "GmNY_nJC1hfi",
        "outputId": "ac079283-0f75-4a77-98c7-1b2fc8e75453"
      },
      "outputs": [
        {
          "data": {
            "text/plain": [
              "tensor([1, 0], dtype=torch.uint8)"
            ]
          },
          "execution_count": 11,
          "metadata": {},
          "output_type": "execute_result"
        }
      ],
      "source": [
        "torch.FloatTensor([1, 0]).byte()"
      ]
    },
    {
      "cell_type": "markdown",
      "metadata": {
        "id": "TtOGGPC41hfj"
      },
      "source": [
        "## Get Shape"
      ]
    },
    {
      "cell_type": "code",
      "execution_count": null,
      "metadata": {
        "id": "aXDgUB2B1hfk"
      },
      "outputs": [],
      "source": [
        "x = torch.FloatTensor([[[1, 2],\n",
        "                        [3, 4]],\n",
        "                       [[5, 6],\n",
        "                        [7, 8]],\n",
        "                       [[9, 10],\n",
        "                        [11, 12]]])"
      ]
    },
    {
      "cell_type": "markdown",
      "metadata": {
        "id": "J_Wd1-OE1hfl"
      },
      "source": [
        "Get tensor shape."
      ]
    },
    {
      "cell_type": "code",
      "execution_count": null,
      "metadata": {
        "id": "y18qKMsU1hfl",
        "outputId": "e7a906fe-4c4c-40e1-f929-c073953d20ca"
      },
      "outputs": [
        {
          "name": "stdout",
          "output_type": "stream",
          "text": [
            "torch.Size([3, 2, 2])\n",
            "torch.Size([3, 2, 2])\n"
          ]
        }
      ],
      "source": [
        "print(x.size())\n",
        "print(x.shape)"
      ]
    },
    {
      "cell_type": "markdown",
      "metadata": {
        "id": "xP6PmliK1hfm"
      },
      "source": [
        "Get number of dimensions in the tensor."
      ]
    },
    {
      "cell_type": "code",
      "execution_count": null,
      "metadata": {
        "id": "Jsgdl9Qp1hfn",
        "outputId": "9463bfb8-2673-462a-fcf9-9ea9cd70804a"
      },
      "outputs": [
        {
          "name": "stdout",
          "output_type": "stream",
          "text": [
            "3\n",
            "3\n"
          ]
        }
      ],
      "source": [
        "print(x.dim())\n",
        "print(len(x.size()))"
      ]
    },
    {
      "cell_type": "markdown",
      "metadata": {
        "id": "VCEMsBu81hfn"
      },
      "source": [
        "Get number of elements in certain dimension of the tensor."
      ]
    },
    {
      "cell_type": "code",
      "execution_count": null,
      "metadata": {
        "id": "b4jtPUJk1hfo",
        "outputId": "b88b20c3-b42d-4075-e96b-3b52ac9d231f"
      },
      "outputs": [
        {
          "name": "stdout",
          "output_type": "stream",
          "text": [
            "2\n",
            "2\n"
          ]
        }
      ],
      "source": [
        "print(x.size(1))\n",
        "print(x.shape[1])"
      ]
    },
    {
      "cell_type": "markdown",
      "metadata": {
        "id": "WeK3MitS1hfo"
      },
      "source": [
        "Get number of elements in the last dimension."
      ]
    },
    {
      "cell_type": "code",
      "execution_count": null,
      "metadata": {
        "id": "tgvxjJ0C1hfp",
        "outputId": "b2c8a9f9-0112-409a-f6af-35f375c201fb"
      },
      "outputs": [
        {
          "name": "stdout",
          "output_type": "stream",
          "text": [
            "2\n",
            "2\n"
          ]
        }
      ],
      "source": [
        "print(x.size(-1))\n",
        "print(x.shape[-1])"
      ]
    }
  ],
  "metadata": {
    "kernelspec": {
      "display_name": "Python 3",
      "language": "python",
      "name": "python3"
    },
    "language_info": {
      "codemirror_mode": {
        "name": "ipython",
        "version": 3
      },
      "file_extension": ".py",
      "mimetype": "text/x-python",
      "name": "python",
      "nbconvert_exporter": "python",
      "pygments_lexer": "ipython3",
      "version": "3.7.6"
    },
    "colab": {
      "name": "04-04-tensor.ipynb",
      "provenance": []
    }
  },
  "nbformat": 4,
  "nbformat_minor": 0
}