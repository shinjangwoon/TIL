{
  "cells": [
    {
      "cell_type": "markdown",
      "metadata": {
        "id": "G96jwKy4vIxe"
      },
      "source": [
        "## PyTorch Tensor Slicing and Concatenation"
      ]
    },
    {
      "cell_type": "code",
      "execution_count": null,
      "metadata": {
        "id": "I70dJAiivIxq"
      },
      "outputs": [],
      "source": [
        "import torch"
      ]
    },
    {
      "cell_type": "markdown",
      "metadata": {
        "id": "BnTDluxhvIxv"
      },
      "source": [
        "## Slicing and Concatenation"
      ]
    },
    {
      "cell_type": "markdown",
      "metadata": {
        "id": "ydqsSUNZvIxx"
      },
      "source": [
        "### Indexing and Slicing\n",
        "\n",
        "Prepare target tensor."
      ]
    },
    {
      "cell_type": "code",
      "execution_count": null,
      "metadata": {
        "id": "Gx8ufhy_vIxz",
        "outputId": "9f1bdbb9-b508-4cbb-9a0f-78a8e0875255"
      },
      "outputs": [
        {
          "name": "stdout",
          "output_type": "stream",
          "text": [
            "torch.Size([3, 2, 2])\n"
          ]
        }
      ],
      "source": [
        "x = torch.FloatTensor([[[1, 2],\n",
        "                        [3, 4]],\n",
        "                       [[5, 6],\n",
        "                        [7, 8]],\n",
        "                       [[9, 10],\n",
        "                        [11, 12]]])\n",
        "print(x.size())"
      ]
    },
    {
      "cell_type": "markdown",
      "metadata": {
        "id": "j3B48VCpvIx2"
      },
      "source": [
        "Access to certain dimension."
      ]
    },
    {
      "cell_type": "code",
      "execution_count": null,
      "metadata": {
        "id": "YFS2JhJjvIx3",
        "outputId": "994fb28b-f15f-4e81-b704-c3352f848761"
      },
      "outputs": [
        {
          "name": "stdout",
          "output_type": "stream",
          "text": [
            "tensor([[1., 2.],\n",
            "        [3., 4.]])\n",
            "tensor([[1., 2.],\n",
            "        [3., 4.]])\n",
            "tensor([[1., 2.],\n",
            "        [3., 4.]])\n"
          ]
        }
      ],
      "source": [
        "print(x[0])\n",
        "print(x[0, :])\n",
        "print(x[0, :, :])"
      ]
    },
    {
      "cell_type": "code",
      "execution_count": null,
      "metadata": {
        "id": "Zd4L25QbvIx5",
        "outputId": "5a10fc65-d385-4ebb-8cba-c22e64d933a0"
      },
      "outputs": [
        {
          "name": "stdout",
          "output_type": "stream",
          "text": [
            "tensor([[ 9., 10.],\n",
            "        [11., 12.]])\n",
            "tensor([[ 9., 10.],\n",
            "        [11., 12.]])\n",
            "tensor([[ 9., 10.],\n",
            "        [11., 12.]])\n"
          ]
        }
      ],
      "source": [
        "print(x[-1])\n",
        "print(x[-1, :])\n",
        "print(x[-1, :, :])"
      ]
    },
    {
      "cell_type": "code",
      "execution_count": null,
      "metadata": {
        "id": "7m3we9R8vIx6",
        "outputId": "a8f26342-ca3e-4448-ca85-a26188c51bd2"
      },
      "outputs": [
        {
          "name": "stdout",
          "output_type": "stream",
          "text": [
            "tensor([[ 1.,  2.],\n",
            "        [ 5.,  6.],\n",
            "        [ 9., 10.]])\n"
          ]
        }
      ],
      "source": [
        "print(x[:, 0, :])"
      ]
    },
    {
      "cell_type": "markdown",
      "metadata": {
        "id": "hPmuTIYVvIx7"
      },
      "source": [
        "Access by range. Note that the number of dimensions would not be changed."
      ]
    },
    {
      "cell_type": "code",
      "execution_count": null,
      "metadata": {
        "scrolled": true,
        "id": "pHVkOs3OvIx8",
        "outputId": "c23baeca-c548-45e7-d311-1f9a22cba01f"
      },
      "outputs": [
        {
          "name": "stdout",
          "output_type": "stream",
          "text": [
            "torch.Size([2, 2, 2])\n",
            "torch.Size([3, 1, 2])\n",
            "torch.Size([3, 1, 2])\n"
          ]
        }
      ],
      "source": [
        "print(x[1:3, :, :].size())\n",
        "print(x[:, :1, :].size())\n",
        "print(x[:, :-1, :].size())"
      ]
    },
    {
      "cell_type": "markdown",
      "metadata": {
        "id": "rdTfqIibvIx9"
      },
      "source": [
        "### split: Split tensor to desirable shapes."
      ]
    },
    {
      "cell_type": "code",
      "execution_count": null,
      "metadata": {
        "id": "39tSwqZovIx-"
      },
      "outputs": [],
      "source": [
        "x = torch.FloatTensor(10, 4)"
      ]
    },
    {
      "cell_type": "code",
      "execution_count": null,
      "metadata": {
        "id": "g2FeL16XvIx-",
        "outputId": "d6f0465d-17e0-4da3-b4aa-bf2342901823"
      },
      "outputs": [
        {
          "name": "stdout",
          "output_type": "stream",
          "text": [
            "torch.Size([4, 4])\n",
            "torch.Size([4, 4])\n",
            "torch.Size([2, 4])\n"
          ]
        }
      ],
      "source": [
        "splits = x.split(4, dim=0)\n",
        "\n",
        "for s in splits:\n",
        "    print(s.size())"
      ]
    },
    {
      "cell_type": "markdown",
      "metadata": {
        "id": "jcHGDSE1vIx_"
      },
      "source": [
        "### chunk: Split tensor to number of chunks."
      ]
    },
    {
      "cell_type": "code",
      "execution_count": null,
      "metadata": {
        "id": "LnKfq2BzvIx_"
      },
      "outputs": [],
      "source": [
        "x = torch.FloatTensor(8, 4)"
      ]
    },
    {
      "cell_type": "code",
      "execution_count": null,
      "metadata": {
        "id": "KjUF9y2VvIyA",
        "outputId": "ed512415-608e-49b1-cb82-6f640c496ba9"
      },
      "outputs": [
        {
          "name": "stdout",
          "output_type": "stream",
          "text": [
            "torch.Size([3, 4])\n",
            "torch.Size([3, 4])\n",
            "torch.Size([2, 4])\n"
          ]
        }
      ],
      "source": [
        "chunks = x.chunk(3, dim=0)\n",
        "\n",
        "for c in chunks:\n",
        "    print(c.size())"
      ]
    },
    {
      "cell_type": "markdown",
      "metadata": {
        "id": "Lspm0W0WvIyB"
      },
      "source": [
        "### index_select: Select elements by using dimension index."
      ]
    },
    {
      "cell_type": "code",
      "execution_count": null,
      "metadata": {
        "id": "0_f_jRAxvIyB",
        "outputId": "f1b90cad-ce22-4418-b1fb-08ae34460107"
      },
      "outputs": [
        {
          "name": "stdout",
          "output_type": "stream",
          "text": [
            "torch.Size([3, 2, 2])\n"
          ]
        }
      ],
      "source": [
        "x = torch.FloatTensor([[[1, 1],\n",
        "                        [2, 2]],\n",
        "                       [[3, 3],\n",
        "                        [4, 4]],\n",
        "                       [[5, 5],\n",
        "                        [6, 6]]])\n",
        "indice = torch.LongTensor([2, 1])\n",
        "\n",
        "print(x.size())"
      ]
    },
    {
      "cell_type": "code",
      "execution_count": null,
      "metadata": {
        "id": "TZ4XU1-YvIyC",
        "outputId": "72e260cf-ce20-434a-e627-17cc156ceb4d"
      },
      "outputs": [
        {
          "name": "stdout",
          "output_type": "stream",
          "text": [
            "tensor([[[5., 5.],\n",
            "         [6., 6.]],\n",
            "\n",
            "        [[3., 3.],\n",
            "         [4., 4.]]])\n",
            "torch.Size([2, 2, 2])\n"
          ]
        }
      ],
      "source": [
        "y = x.index_select(dim=0, index=indice)\n",
        "\n",
        "print(y)\n",
        "print(y.size())"
      ]
    },
    {
      "cell_type": "markdown",
      "metadata": {
        "id": "AicrrbpCvIyD"
      },
      "source": [
        "### cat: Concatenation of multiple tensors in the list."
      ]
    },
    {
      "cell_type": "code",
      "execution_count": null,
      "metadata": {
        "id": "3fThudkevIyD",
        "outputId": "83b34091-380b-4e2c-c236-131b2b8fe6b7"
      },
      "outputs": [
        {
          "name": "stdout",
          "output_type": "stream",
          "text": [
            "torch.Size([3, 3]) torch.Size([3, 3])\n"
          ]
        }
      ],
      "source": [
        "x = torch.FloatTensor([[1, 2, 3],\n",
        "                       [4, 5, 6],\n",
        "                       [7, 8, 9]])\n",
        "y = torch.FloatTensor([[10, 11, 12],\n",
        "                       [13, 14, 15],\n",
        "                       [16, 17, 18]])\n",
        "\n",
        "print(x.size(), y.size())"
      ]
    },
    {
      "cell_type": "code",
      "execution_count": null,
      "metadata": {
        "id": "d1S-zYU9vIyE",
        "outputId": "9f54dab5-8d88-46ec-8df8-7a6857f89bf3"
      },
      "outputs": [
        {
          "name": "stdout",
          "output_type": "stream",
          "text": [
            "tensor([[ 1.,  2.,  3.],\n",
            "        [ 4.,  5.,  6.],\n",
            "        [ 7.,  8.,  9.],\n",
            "        [10., 11., 12.],\n",
            "        [13., 14., 15.],\n",
            "        [16., 17., 18.]])\n",
            "torch.Size([6, 3])\n"
          ]
        }
      ],
      "source": [
        "z = torch.cat([x, y], dim=0)\n",
        "print(z)\n",
        "print(z.size())"
      ]
    },
    {
      "cell_type": "code",
      "execution_count": null,
      "metadata": {
        "id": "VS6NxZQevIyF",
        "outputId": "fd2b3258-5de6-40b2-c309-0e0621d28578"
      },
      "outputs": [
        {
          "name": "stdout",
          "output_type": "stream",
          "text": [
            "tensor([[ 1.,  2.,  3., 10., 11., 12.],\n",
            "        [ 4.,  5.,  6., 13., 14., 15.],\n",
            "        [ 7.,  8.,  9., 16., 17., 18.]])\n",
            "torch.Size([3, 6])\n"
          ]
        }
      ],
      "source": [
        "z = torch.cat([x, y], dim=-1)\n",
        "print(z)\n",
        "print(z.size())"
      ]
    },
    {
      "cell_type": "markdown",
      "metadata": {
        "id": "n-oLvyEvvIyG"
      },
      "source": [
        "### stack: Stacking of multiple tensors in the list."
      ]
    },
    {
      "cell_type": "code",
      "execution_count": null,
      "metadata": {
        "id": "REcc5Og6vIyG",
        "outputId": "5816330f-42ba-4fbf-f8a6-300d0fa22ba8"
      },
      "outputs": [
        {
          "name": "stdout",
          "output_type": "stream",
          "text": [
            "tensor([[[ 1.,  2.,  3.],\n",
            "         [ 4.,  5.,  6.],\n",
            "         [ 7.,  8.,  9.]],\n",
            "\n",
            "        [[10., 11., 12.],\n",
            "         [13., 14., 15.],\n",
            "         [16., 17., 18.]]])\n",
            "torch.Size([2, 3, 3])\n"
          ]
        }
      ],
      "source": [
        "z = torch.stack([x, y])\n",
        "print(z)\n",
        "print(z.size())"
      ]
    },
    {
      "cell_type": "markdown",
      "metadata": {
        "id": "hiyXwUBwvIyH"
      },
      "source": [
        "Or you can specify the dimension. Default is 0."
      ]
    },
    {
      "cell_type": "code",
      "execution_count": null,
      "metadata": {
        "id": "bzCMtcgwvIyH",
        "outputId": "8621c0ac-4347-4a73-9854-f3121d602007"
      },
      "outputs": [
        {
          "name": "stdout",
          "output_type": "stream",
          "text": [
            "tensor([[[ 1., 10.],\n",
            "         [ 2., 11.],\n",
            "         [ 3., 12.]],\n",
            "\n",
            "        [[ 4., 13.],\n",
            "         [ 5., 14.],\n",
            "         [ 6., 15.]],\n",
            "\n",
            "        [[ 7., 16.],\n",
            "         [ 8., 17.],\n",
            "         [ 9., 18.]]])\n",
            "torch.Size([3, 3, 2])\n"
          ]
        }
      ],
      "source": [
        "z = torch.stack([x, y], dim=-1)\n",
        "print(z)\n",
        "print(z.size())"
      ]
    },
    {
      "cell_type": "markdown",
      "metadata": {
        "id": "aMGCXJDmvIyH"
      },
      "source": [
        "### Implement 'stack' function by using 'cat'."
      ]
    },
    {
      "cell_type": "code",
      "execution_count": null,
      "metadata": {
        "id": "nPNTDPRRvIyI",
        "outputId": "4af5afb7-f863-481a-e568-aee0919fbe3b"
      },
      "outputs": [
        {
          "name": "stdout",
          "output_type": "stream",
          "text": [
            "tensor([[[ 1.,  2.,  3.],\n",
            "         [ 4.,  5.,  6.],\n",
            "         [ 7.,  8.,  9.]],\n",
            "\n",
            "        [[10., 11., 12.],\n",
            "         [13., 14., 15.],\n",
            "         [16., 17., 18.]]])\n",
            "torch.Size([2, 3, 3])\n"
          ]
        }
      ],
      "source": [
        "# z = torch.stack([x, y])\n",
        "z = torch.cat([x.unsqueeze(0), y.unsqueeze(0)], dim=0)\n",
        "print(z)\n",
        "print(z.size())"
      ]
    },
    {
      "cell_type": "markdown",
      "metadata": {
        "id": "ybsAAxzWvIyI"
      },
      "source": [
        "### Useful Trick: Merge results from iterations"
      ]
    },
    {
      "cell_type": "code",
      "execution_count": null,
      "metadata": {
        "id": "42P36gAMvIyJ",
        "outputId": "2c74f98c-3ae7-4322-ca65-70b3a9686d1d"
      },
      "outputs": [
        {
          "data": {
            "text/plain": [
              "torch.Size([5, 2, 2])"
            ]
          },
          "execution_count": 19,
          "metadata": {},
          "output_type": "execute_result"
        }
      ],
      "source": [
        "result = []\n",
        "for i in range(5):\n",
        "    x = torch.FloatTensor(2, 2)\n",
        "    result += [x]\n",
        "\n",
        "result = torch.stack(result)\n",
        "result.size()"
      ]
    },
    {
      "cell_type": "code",
      "execution_count": null,
      "metadata": {
        "id": "0dK1-fFevIyJ"
      },
      "outputs": [],
      "source": [
        ""
      ]
    }
  ],
  "metadata": {
    "kernelspec": {
      "display_name": "Python 3",
      "language": "python",
      "name": "python3"
    },
    "language_info": {
      "codemirror_mode": {
        "name": "ipython",
        "version": 3
      },
      "file_extension": ".py",
      "mimetype": "text/x-python",
      "name": "python",
      "nbconvert_exporter": "python",
      "pygments_lexer": "ipython3",
      "version": "3.7.6"
    },
    "colab": {
      "name": "04-07-tensor_slicing_and_concat.ipynb",
      "provenance": []
    }
  },
  "nbformat": 4,
  "nbformat_minor": 0
}