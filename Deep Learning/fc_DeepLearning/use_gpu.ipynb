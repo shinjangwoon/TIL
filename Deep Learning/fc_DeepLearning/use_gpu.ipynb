{
  "cells": [
    {
      "cell_type": "markdown",
      "metadata": {
        "id": "tZX5KUdfLjqi"
      },
      "source": [
        "# How to use GPU"
      ]
    },
    {
      "cell_type": "code",
      "execution_count": 1,
      "metadata": {
        "id": "eFDdvlomLjqs"
      },
      "outputs": [],
      "source": [
        "import torch\n",
        "import torch.nn as nn"
      ]
    },
    {
      "cell_type": "markdown",
      "metadata": {
        "id": "dgeGgTRFLjqw"
      },
      "source": [
        "## Convert to CUDA tensor: cuda()"
      ]
    },
    {
      "cell_type": "markdown",
      "source": [
        "- tensor를 gpu에서 선언하는 방법"
      ],
      "metadata": {
        "id": "qJso_bifMcpU"
      }
    },
    {
      "cell_type": "code",
      "execution_count": 2,
      "metadata": {
        "colab": {
          "base_uri": "https://localhost:8080/"
        },
        "id": "Um8zRogILjqx",
        "outputId": "890b41ab-c1bf-43fd-e68b-b2f4c37a2552"
      },
      "outputs": [
        {
          "output_type": "execute_result",
          "data": {
            "text/plain": [
              "tensor([[0., 0.],\n",
              "        [0., 0.]], device='cuda:0')"
            ]
          },
          "metadata": {},
          "execution_count": 2
        }
      ],
      "source": [
        "x = torch.cuda.FloatTensor(2, 2)\n",
        "\n",
        "x"
      ]
    },
    {
      "cell_type": "markdown",
      "source": [
        "- tensor를 cpu에서 gpu로 보내는 방법"
      ],
      "metadata": {
        "id": "RKq_1L6tMuMq"
      }
    },
    {
      "cell_type": "code",
      "execution_count": 3,
      "metadata": {
        "colab": {
          "base_uri": "https://localhost:8080/"
        },
        "id": "zQ6PpHeRLjqz",
        "outputId": "8ce17bf3-3a38-44f0-8f0d-cdbc670a9c62"
      },
      "outputs": [
        {
          "output_type": "execute_result",
          "data": {
            "text/plain": [
              "tensor([[3.4820e+31, 0.0000e+00],\n",
              "        [0.0000e+00, 0.0000e+00]])"
            ]
          },
          "metadata": {},
          "execution_count": 3
        }
      ],
      "source": [
        "x = torch.FloatTensor(2, 2)\n",
        "\n",
        "x"
      ]
    },
    {
      "cell_type": "code",
      "execution_count": 4,
      "metadata": {
        "colab": {
          "base_uri": "https://localhost:8080/"
        },
        "id": "jod1pIO0Ljq0",
        "outputId": "42e16352-79aa-4e65-8dde-50eff98c5060"
      },
      "outputs": [
        {
          "output_type": "execute_result",
          "data": {
            "text/plain": [
              "tensor([[3.4820e+31, 0.0000e+00],\n",
              "        [0.0000e+00, 0.0000e+00]], device='cuda:0')"
            ]
          },
          "metadata": {},
          "execution_count": 4
        }
      ],
      "source": [
        "x.cuda()"
      ]
    },
    {
      "cell_type": "markdown",
      "source": [
        "- device 지정"
      ],
      "metadata": {
        "id": "CcFk761fMzpx"
      }
    },
    {
      "cell_type": "code",
      "execution_count": 5,
      "metadata": {
        "id": "EQrdej7BLjq1"
      },
      "outputs": [],
      "source": [
        "d = torch.device('cuda:0')"
      ]
    },
    {
      "cell_type": "code",
      "execution_count": 6,
      "metadata": {
        "colab": {
          "base_uri": "https://localhost:8080/"
        },
        "id": "QQRO1U_NLjq2",
        "outputId": "b419223c-17b0-40ab-884b-dcde246ea8fa"
      },
      "outputs": [
        {
          "output_type": "execute_result",
          "data": {
            "text/plain": [
              "tensor([[3.4820e+31, 0.0000e+00],\n",
              "        [0.0000e+00, 0.0000e+00]], device='cuda:0')"
            ]
          },
          "metadata": {},
          "execution_count": 6
        }
      ],
      "source": [
        "# cuda로 호출하는 경우는 move가 아닌 copy\n",
        "x.cuda(device=d)"
      ]
    },
    {
      "cell_type": "code",
      "execution_count": 7,
      "metadata": {
        "colab": {
          "base_uri": "https://localhost:8080/"
        },
        "id": "tZkPX9zYLjq3",
        "outputId": "71e9393a-90ce-4275-c635-a93bf0d2e32d"
      },
      "outputs": [
        {
          "output_type": "execute_result",
          "data": {
            "text/plain": [
              "device(type='cpu')"
            ]
          },
          "metadata": {},
          "execution_count": 7
        }
      ],
      "source": [
        "x.device"
      ]
    },
    {
      "cell_type": "markdown",
      "metadata": {
        "id": "DDRDMcbiLjq4"
      },
      "source": [
        "## Convert to CUDA tensor: to()"
      ]
    },
    {
      "cell_type": "code",
      "execution_count": 8,
      "metadata": {
        "colab": {
          "base_uri": "https://localhost:8080/"
        },
        "id": "b17-WAbjLjq6",
        "outputId": "b99aed81-d49a-43c9-fb43-043840bd8477"
      },
      "outputs": [
        {
          "output_type": "execute_result",
          "data": {
            "text/plain": [
              "tensor([[3.4820e+31, 0.0000e+00],\n",
              "        [0.0000e+00, 0.0000e+00]], device='cuda:0')"
            ]
          },
          "metadata": {},
          "execution_count": 8
        }
      ],
      "source": [
        "x.to(device=d)"
      ]
    },
    {
      "cell_type": "markdown",
      "metadata": {
        "id": "y3UYNMiFLjq6"
      },
      "source": [
        "## Convert to CPU tensor from CUDA tensor"
      ]
    },
    {
      "cell_type": "code",
      "execution_count": 9,
      "metadata": {
        "id": "dp3zDGN6Ljq7"
      },
      "outputs": [],
      "source": [
        "x = torch.cuda.FloatTensor(2, 2)"
      ]
    },
    {
      "cell_type": "code",
      "execution_count": 10,
      "metadata": {
        "id": "gcGadyTmLjq8"
      },
      "outputs": [],
      "source": [
        "x = x.cpu()"
      ]
    },
    {
      "cell_type": "code",
      "execution_count": 11,
      "metadata": {
        "id": "3dtX6ckiLjq8"
      },
      "outputs": [],
      "source": [
        "d = torch.device('cpu')\n",
        "x = x.to(d)"
      ]
    },
    {
      "cell_type": "markdown",
      "metadata": {
        "id": "hpnKwbD5Ljq9"
      },
      "source": [
        "## Move model from CPU to GPU."
      ]
    },
    {
      "cell_type": "code",
      "execution_count": 12,
      "metadata": {
        "id": "bAlTZCy1Ljq9"
      },
      "outputs": [],
      "source": [
        "def print_params(model):\n",
        "    for p in model.parameters():\n",
        "        print(p)"
      ]
    },
    {
      "cell_type": "markdown",
      "source": [
        "- p = next(model.parameters(1))\n",
        "     - model의 맨 첫 번째 parameter가 p에 assign 됨\n",
        "        - 그 후 p.device로 model이 대충 어느 device에 있는지 앎\n",
        "          (model 안에 parameter들이 같은 device 안에 있다는 가정)"
      ],
      "metadata": {
        "id": "wFFjIsg6Oawg"
      }
    },
    {
      "cell_type": "code",
      "execution_count": 13,
      "metadata": {
        "colab": {
          "base_uri": "https://localhost:8080/"
        },
        "id": "R6jzRdZCLjq9",
        "outputId": "90c8fa45-f303-488f-ec12-9131e9b12077"
      },
      "outputs": [
        {
          "output_type": "stream",
          "name": "stdout",
          "text": [
            "Parameter containing:\n",
            "tensor([[ 0.4143, -0.5855],\n",
            "        [-0.5144,  0.0764]], requires_grad=True)\n",
            "Parameter containing:\n",
            "tensor([-0.3370,  0.6216], requires_grad=True)\n"
          ]
        }
      ],
      "source": [
        "linear = nn.Linear(2, 2)\n",
        "\n",
        "print_params(linear)"
      ]
    },
    {
      "cell_type": "code",
      "execution_count": 14,
      "metadata": {
        "colab": {
          "base_uri": "https://localhost:8080/"
        },
        "id": "xnb8MuitLjq-",
        "outputId": "26be14f5-b406-4a7f-8e0c-de40b083d731"
      },
      "outputs": [
        {
          "output_type": "stream",
          "name": "stdout",
          "text": [
            "Parameter containing:\n",
            "tensor([[ 0.4143, -0.5855],\n",
            "        [-0.5144,  0.0764]], device='cuda:0', requires_grad=True)\n",
            "Parameter containing:\n",
            "tensor([-0.3370,  0.6216], device='cuda:0', requires_grad=True)\n"
          ]
        }
      ],
      "source": [
        "linear = linear.cuda()\n",
        "\n",
        "print_params(linear)"
      ]
    },
    {
      "cell_type": "code",
      "execution_count": 15,
      "metadata": {
        "colab": {
          "base_uri": "https://localhost:8080/"
        },
        "id": "wY9T-jIELjq-",
        "outputId": "ea9bb0b0-a1bc-4a9f-cabe-ec2b6c6b1fa9"
      },
      "outputs": [
        {
          "output_type": "stream",
          "name": "stdout",
          "text": [
            "Parameter containing:\n",
            "tensor([[ 0.4143, -0.5855],\n",
            "        [-0.5144,  0.0764]], requires_grad=True)\n",
            "Parameter containing:\n",
            "tensor([-0.3370,  0.6216], requires_grad=True)\n"
          ]
        }
      ],
      "source": [
        "linear = linear.cpu()\n",
        "\n",
        "print_params(linear)"
      ]
    },
    {
      "cell_type": "code",
      "execution_count": 16,
      "metadata": {
        "colab": {
          "base_uri": "https://localhost:8080/"
        },
        "id": "c-7fkMDeLjq_",
        "outputId": "61beb1ce-4ffb-45b2-f40a-84f2192cbc53"
      },
      "outputs": [
        {
          "output_type": "stream",
          "name": "stdout",
          "text": [
            "Parameter containing:\n",
            "tensor([[ 0.4143, -0.5855],\n",
            "        [-0.5144,  0.0764]], device='cuda:0', requires_grad=True)\n",
            "Parameter containing:\n",
            "tensor([-0.3370,  0.6216], device='cuda:0', requires_grad=True)\n"
          ]
        }
      ],
      "source": [
        "d = torch.device('cuda:0')\n",
        "linear = linear.to(d)\n",
        "\n",
        "print_params(linear)"
      ]
    },
    {
      "cell_type": "markdown",
      "metadata": {
        "id": "9eWpHG8ULjrA"
      },
      "source": [
        "Note that nn.Module class does not have 'device' property."
      ]
    },
    {
      "cell_type": "code",
      "execution_count": 17,
      "metadata": {
        "colab": {
          "base_uri": "https://localhost:8080/",
          "height": 296
        },
        "id": "iSPI1uwSLjrA",
        "outputId": "e53dd2dc-3088-4626-9428-58f1dc85de9f"
      },
      "outputs": [
        {
          "output_type": "error",
          "ename": "AttributeError",
          "evalue": "ignored",
          "traceback": [
            "\u001b[0;31m---------------------------------------------------------------------------\u001b[0m",
            "\u001b[0;31mAttributeError\u001b[0m                            Traceback (most recent call last)",
            "\u001b[0;32m<ipython-input-17-f2307db754f8>\u001b[0m in \u001b[0;36m<module>\u001b[0;34m()\u001b[0m\n\u001b[0;32m----> 1\u001b[0;31m \u001b[0mlinear\u001b[0m\u001b[0;34m.\u001b[0m\u001b[0mdevice\u001b[0m\u001b[0;34m\u001b[0m\u001b[0;34m\u001b[0m\u001b[0m\n\u001b[0m",
            "\u001b[0;32m/usr/local/lib/python3.7/dist-packages/torch/nn/modules/module.py\u001b[0m in \u001b[0;36m__getattr__\u001b[0;34m(self, name)\u001b[0m\n\u001b[1;32m   1184\u001b[0m                 \u001b[0;32mreturn\u001b[0m \u001b[0mmodules\u001b[0m\u001b[0;34m[\u001b[0m\u001b[0mname\u001b[0m\u001b[0;34m]\u001b[0m\u001b[0;34m\u001b[0m\u001b[0;34m\u001b[0m\u001b[0m\n\u001b[1;32m   1185\u001b[0m         raise AttributeError(\"'{}' object has no attribute '{}'\".format(\n\u001b[0;32m-> 1186\u001b[0;31m             type(self).__name__, name))\n\u001b[0m\u001b[1;32m   1187\u001b[0m \u001b[0;34m\u001b[0m\u001b[0m\n\u001b[1;32m   1188\u001b[0m     \u001b[0;32mdef\u001b[0m \u001b[0m__setattr__\u001b[0m\u001b[0;34m(\u001b[0m\u001b[0mself\u001b[0m\u001b[0;34m,\u001b[0m \u001b[0mname\u001b[0m\u001b[0;34m:\u001b[0m \u001b[0mstr\u001b[0m\u001b[0;34m,\u001b[0m \u001b[0mvalue\u001b[0m\u001b[0;34m:\u001b[0m \u001b[0mUnion\u001b[0m\u001b[0;34m[\u001b[0m\u001b[0mTensor\u001b[0m\u001b[0;34m,\u001b[0m \u001b[0;34m'Module'\u001b[0m\u001b[0;34m]\u001b[0m\u001b[0;34m)\u001b[0m \u001b[0;34m->\u001b[0m \u001b[0;32mNone\u001b[0m\u001b[0;34m:\u001b[0m\u001b[0;34m\u001b[0m\u001b[0;34m\u001b[0m\u001b[0m\n",
            "\u001b[0;31mAttributeError\u001b[0m: 'Linear' object has no attribute 'device'"
          ]
        }
      ],
      "source": [
        "linear.device"
      ]
    },
    {
      "cell_type": "markdown",
      "metadata": {
        "id": "oVuED0uVLjrB"
      },
      "source": [
        "## Tricks"
      ]
    },
    {
      "cell_type": "code",
      "execution_count": 18,
      "metadata": {
        "id": "fltqXyCyLjrB"
      },
      "outputs": [],
      "source": [
        "x = torch.cuda.FloatTensor(2, 2)"
      ]
    },
    {
      "cell_type": "code",
      "execution_count": 19,
      "metadata": {
        "colab": {
          "base_uri": "https://localhost:8080/"
        },
        "id": "7xLmG4KCLjrB",
        "outputId": "527c9bbf-7675-42ec-e7f7-2a2be5a07ff2"
      },
      "outputs": [
        {
          "output_type": "execute_result",
          "data": {
            "text/plain": [
              "tensor([[-3.6893e+19,  1.6685e+00],\n",
              "        [ 5.1444e-01,  7.6368e-02]], device='cuda:0')"
            ]
          },
          "metadata": {},
          "execution_count": 19
        }
      ],
      "source": [
        "# x와 같은 타입이면서 같은 device에 있는 어떤 특정 사이즈의 tensor를 만듬\n",
        "x.new(2, 2)"
      ]
    },
    {
      "cell_type": "code",
      "execution_count": 20,
      "metadata": {
        "colab": {
          "base_uri": "https://localhost:8080/"
        },
        "id": "tyEzit9gLjrC",
        "outputId": "86612858-a01b-4cbd-a1b7-1fda50a39df0"
      },
      "outputs": [
        {
          "output_type": "execute_result",
          "data": {
            "text/plain": [
              "tensor([[0., 0.],\n",
              "        [0., 0.]], device='cuda:0')"
            ]
          },
          "metadata": {},
          "execution_count": 20
        }
      ],
      "source": [
        "torch.zeros_like(x)"
      ]
    },
    {
      "cell_type": "code",
      "execution_count": 21,
      "metadata": {
        "colab": {
          "base_uri": "https://localhost:8080/"
        },
        "id": "FUcUEXNhLjrC",
        "outputId": "c07008b6-c9c7-4884-f5d0-7224c5254cc0"
      },
      "outputs": [
        {
          "output_type": "execute_result",
          "data": {
            "text/plain": [
              "tensor([[1., 1.],\n",
              "        [1., 1.]], device='cuda:0')"
            ]
          },
          "metadata": {},
          "execution_count": 21
        }
      ],
      "source": [
        "torch.ones_like(x)"
      ]
    },
    {
      "cell_type": "code",
      "execution_count": 22,
      "metadata": {
        "colab": {
          "base_uri": "https://localhost:8080/"
        },
        "id": "QgzxKzY2LjrC",
        "outputId": "a27f1a00-2680-4353-931a-11f6ea8550a7"
      },
      "outputs": [
        {
          "output_type": "execute_result",
          "data": {
            "text/plain": [
              "tensor([[1., 1.],\n",
              "        [1., 1.]], device='cuda:0')"
            ]
          },
          "metadata": {},
          "execution_count": 22
        }
      ],
      "source": [
        "list(linear.parameters())[0].new(2, 2)"
      ]
    }
  ],
  "metadata": {
    "kernelspec": {
      "display_name": "Python 3",
      "language": "python",
      "name": "python3"
    },
    "language_info": {
      "codemirror_mode": {
        "name": "ipython",
        "version": 3
      },
      "file_extension": ".py",
      "mimetype": "text/x-python",
      "name": "python",
      "nbconvert_exporter": "python",
      "pygments_lexer": "ipython3",
      "version": "3.7.6"
    },
    "colab": {
      "name": "05-05-use_gpu.ipynb",
      "provenance": []
    },
    "accelerator": "GPU",
    "gpuClass": "standard"
  },
  "nbformat": 4,
  "nbformat_minor": 0
}