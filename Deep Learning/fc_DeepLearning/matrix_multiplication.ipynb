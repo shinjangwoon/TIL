{
  "cells": [
    {
      "cell_type": "markdown",
      "metadata": {
        "id": "UMGdsMTy4pBA"
      },
      "source": [
        "## Matrix Multiplication"
      ]
    },
    {
      "cell_type": "code",
      "execution_count": 1,
      "metadata": {
        "id": "XVcoshWG4pBK"
      },
      "outputs": [],
      "source": [
        "import torch"
      ]
    },
    {
      "cell_type": "code",
      "execution_count": 2,
      "metadata": {
        "colab": {
          "base_uri": "https://localhost:8080/"
        },
        "id": "cS7oDJ844pBN",
        "outputId": "9e6777aa-b5e1-4454-e423-cfe63a2054de"
      },
      "outputs": [
        {
          "output_type": "stream",
          "name": "stdout",
          "text": [
            "torch.Size([3, 2]) torch.Size([2, 2])\n"
          ]
        }
      ],
      "source": [
        "x = torch.FloatTensor([[1, 2],\n",
        "                       [3, 4],\n",
        "                       [5, 6]])\n",
        "y = torch.FloatTensor([[1, 2],\n",
        "                       [1, 2]])\n",
        "\n",
        "print(x.size(), y.size())"
      ]
    },
    {
      "cell_type": "code",
      "execution_count": 3,
      "metadata": {
        "colab": {
          "base_uri": "https://localhost:8080/"
        },
        "id": "4Fn0ndvk4pBQ",
        "outputId": "4a4edd6a-3316-4aae-e66d-7e56d8e8482e"
      },
      "outputs": [
        {
          "output_type": "stream",
          "name": "stdout",
          "text": [
            "torch.Size([3, 2])\n"
          ]
        }
      ],
      "source": [
        "z = torch.matmul(x, y)\n",
        "print(z.size()) # (3,2) x (2,2) => (2,2)"
      ]
    },
    {
      "cell_type": "code",
      "execution_count": 4,
      "metadata": {
        "colab": {
          "base_uri": "https://localhost:8080/"
        },
        "id": "vCoQ6Bpc4pBR",
        "outputId": "f2fc2420-804b-44e8-dc6c-0c69f694e445"
      },
      "outputs": [
        {
          "output_type": "stream",
          "name": "stdout",
          "text": [
            "torch.Size([3, 3, 2]) torch.Size([3, 2, 3])\n"
          ]
        }
      ],
      "source": [
        "x = torch.FloatTensor([[[1, 2],\n",
        "                        [3, 4],\n",
        "                        [5, 6]],\n",
        "                       [[7, 8],\n",
        "                        [9, 10],\n",
        "                        [11, 12]],\n",
        "                       [[13, 14],\n",
        "                        [15, 16],\n",
        "                        [17, 18]]])\n",
        "y = torch.FloatTensor([[[1, 2, 2],\n",
        "                        [1, 2, 2]],\n",
        "                       [[1, 3, 3],\n",
        "                        [1, 3, 3]],\n",
        "                       [[1, 4, 4],\n",
        "                        [1, 4, 4]]])\n",
        "\n",
        "print(x.size(), y.size())"
      ]
    },
    {
      "cell_type": "code",
      "execution_count": 5,
      "metadata": {
        "colab": {
          "base_uri": "https://localhost:8080/"
        },
        "id": "_CQDXbBU4pBU",
        "outputId": "dfbe69a6-a6b4-4777-ae6d-1fc94e260eee"
      },
      "outputs": [
        {
          "output_type": "stream",
          "name": "stdout",
          "text": [
            "torch.Size([3, 3, 3])\n"
          ]
        }
      ],
      "source": [
        "z = torch.bmm(x, y)\n",
        "print(z.size())"
      ]
    }
  ],
  "metadata": {
    "kernelspec": {
      "display_name": "Python 3",
      "language": "python",
      "name": "python3"
    },
    "language_info": {
      "codemirror_mode": {
        "name": "ipython",
        "version": 3
      },
      "file_extension": ".py",
      "mimetype": "text/x-python",
      "name": "python",
      "nbconvert_exporter": "python",
      "pygments_lexer": "ipython3",
      "version": "3.7.6"
    },
    "colab": {
      "name": "05-02-matrix_multiplication.ipynb",
      "provenance": []
    }
  },
  "nbformat": 4,
  "nbformat_minor": 0
}