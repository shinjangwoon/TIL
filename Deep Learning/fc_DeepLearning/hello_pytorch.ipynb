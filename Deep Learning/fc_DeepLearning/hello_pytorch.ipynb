{
  "cells": [
    {
      "cell_type": "markdown",
      "metadata": {
        "id": "yhErxrt-A1aL"
      },
      "source": [
        "# Hello PyTorch!\n",
        "\n",
        "Import PyTorch."
      ]
    },
    {
      "cell_type": "code",
      "execution_count": 1,
      "metadata": {
        "id": "IEtoiT3CA1aW"
      },
      "outputs": [],
      "source": [
        "import torch"
      ]
    },
    {
      "cell_type": "markdown",
      "metadata": {
        "id": "IrRvTcouA1aZ"
      },
      "source": [
        "Define PyTorch float tensors."
      ]
    },
    {
      "cell_type": "code",
      "execution_count": 2,
      "metadata": {
        "id": "AOTzSqnRA1ab"
      },
      "outputs": [],
      "source": [
        "a = torch.FloatTensor([[1, 2],\n",
        "                       [3, 4]])\n",
        "b = torch.FloatTensor([[1, 2],\n",
        "                       [1, 2]])"
      ]
    },
    {
      "cell_type": "markdown",
      "metadata": {
        "id": "Ki3KcmF7A1ac"
      },
      "source": [
        "Matrix multiplication example."
      ]
    },
    {
      "cell_type": "code",
      "execution_count": 3,
      "metadata": {
        "colab": {
          "base_uri": "https://localhost:8080/"
        },
        "id": "peBtxOvIA1ad",
        "outputId": "37feb7dd-bbd2-4de8-9c31-e61d0a84bfc3"
      },
      "outputs": [
        {
          "output_type": "execute_result",
          "data": {
            "text/plain": [
              "tensor([[ 3.,  6.],\n",
              "        [ 7., 14.]])"
            ]
          },
          "metadata": {},
          "execution_count": 3
        }
      ],
      "source": [
        "c = torch.matmul(a, b)\n",
        "c"
      ]
    },
    {
      "cell_type": "code",
      "execution_count": null,
      "metadata": {
        "id": "LUUttOq3A1ag"
      },
      "outputs": [],
      "source": [
        ""
      ]
    }
  ],
  "metadata": {
    "kernelspec": {
      "display_name": "Python 3",
      "language": "python",
      "name": "python3"
    },
    "language_info": {
      "codemirror_mode": {
        "name": "ipython",
        "version": 3
      },
      "file_extension": ".py",
      "mimetype": "text/x-python",
      "name": "python",
      "nbconvert_exporter": "python",
      "pygments_lexer": "ipython3",
      "version": "3.7.6"
    },
    "colab": {
      "name": "04-02-hello_pytorch.ipynb",
      "provenance": []
    },
    "accelerator": "GPU",
    "gpuClass": "standard"
  },
  "nbformat": 4,
  "nbformat_minor": 0
}