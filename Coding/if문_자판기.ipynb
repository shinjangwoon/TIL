{
 "cells": [
  {
   "cell_type": "markdown",
   "metadata": {},
   "source": [
    "# 자판기\n",
    "## 자판기 커피의 가격 == 300원으로 설정 \n",
    "### 300원보다 적은 경우 돈을 그냥 돌려주고, \n",
    "### 300원보다 많은 경우 커피와 거스름돈을 줌"
   ]
  },
  {
   "cell_type": "code",
   "execution_count": 1,
   "metadata": {},
   "outputs": [
    {
     "name": "stdout",
     "output_type": "stream",
     "text": [
      "coffee\n"
     ]
    }
   ],
   "source": [
    "# 딱 300원을 넣은 경우\n",
    "money = 300\n",
    "if money == 300:\n",
    "    print('coffee')"
   ]
  },
  {
   "cell_type": "code",
   "execution_count": 2,
   "metadata": {},
   "outputs": [
    {
     "name": "stdout",
     "output_type": "stream",
     "text": [
      "거스름돈 200원을 돌려줍니다.\n"
     ]
    }
   ],
   "source": [
    "# 300원보다 적은 경우\n",
    "money = 200\n",
    "if money < 300:\n",
    "    print(f'거스름돈 {money}원을 돌려줍니다.')"
   ]
  },
  {
   "cell_type": "code",
   "execution_count": 3,
   "metadata": {},
   "outputs": [
    {
     "name": "stdout",
     "output_type": "stream",
     "text": [
      "coffe\n",
      "거스름돈 1200원을 돌려줍니다.\n"
     ]
    }
   ],
   "source": [
    "# 300원보다 많은 경우\n",
    "money = 1500\n",
    "if money > 300:\n",
    "    print('coffe')\n",
    "    print(f'거스름돈 {money - 300}원을 돌려줍니다.')"
   ]
  },
  {
   "cell_type": "code",
   "execution_count": 9,
   "metadata": {},
   "outputs": [
    {
     "name": "stdout",
     "output_type": "stream",
     "text": [
      "잔액이 부족합니다. 200원을 더 넣으십시오\n"
     ]
    }
   ],
   "source": [
    "# 응용해보기\n",
    "money = int(input())\n",
    "if money == 300:\n",
    "    print('coffee')\n",
    "elif money < 300:\n",
    "    print(f'잔액이 부족합니다. {300 - money}원을 더 넣으십시오')\n",
    "else:\n",
    "    print('coffee')\n",
    "    print(f'거스름돈 {money - 300}원을 돌려줍니다')"
   ]
  }
 ],
 "metadata": {
  "interpreter": {
   "hash": "b3ba2566441a7c06988d0923437866b63cedc61552a5af99d1f4fb67d367b25f"
  },
  "kernelspec": {
   "display_name": "Python 3.8.8 ('base')",
   "language": "python",
   "name": "python3"
  },
  "language_info": {
   "codemirror_mode": {
    "name": "ipython",
    "version": 3
   },
   "file_extension": ".py",
   "mimetype": "text/x-python",
   "name": "python",
   "nbconvert_exporter": "python",
   "pygments_lexer": "ipython3",
   "version": "3.8.8"
  },
  "orig_nbformat": 4
 },
 "nbformat": 4,
 "nbformat_minor": 2
}
