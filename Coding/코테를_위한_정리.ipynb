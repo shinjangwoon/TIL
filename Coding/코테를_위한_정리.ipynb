{
  "nbformat": 4,
  "nbformat_minor": 0,
  "metadata": {
    "colab": {
      "name": "코테를 위한 정리.ipynb",
      "private_outputs": true,
      "provenance": [],
      "collapsed_sections": [],
      "authorship_tag": "ABX9TyNur+pA0f3OA1pnonv0+XtT",
      "include_colab_link": true
    },
    "kernelspec": {
      "name": "python3",
      "display_name": "Python 3"
    },
    "language_info": {
      "name": "python"
    }
  },
  "cells": [
    {
      "cell_type": "markdown",
      "metadata": {
        "id": "view-in-github",
        "colab_type": "text"
      },
      "source": [
        "<a href=\"https://colab.research.google.com/github/shinjangwoon/TIL/blob/master/Coding/%EC%BD%94%ED%85%8C%EB%A5%BC_%EC%9C%84%ED%95%9C_%EC%A0%95%EB%A6%AC.ipynb\" target=\"_parent\"><img src=\"https://colab.research.google.com/assets/colab-badge.svg\" alt=\"Open In Colab\"/></a>"
      ]
    },
    {
      "cell_type": "markdown",
      "source": [
        "# 설명 \n",
        "알고리즘 성능 평가\n",
        "\n",
        "복잡도(Complexity)\n",
        "- 알고리즘의 성능을 나타내는 척도\n",
        " - 시간 복잡도: 특정한 크기의 입력에 대하여 알고리즘의 수행 시간 분석\n",
        "- 공간 복잡도: 특정한 크기의 입력에 대하여 알고리즘의 메모리 사용량 분석\n",
        "- 동일한 기능을 수행하는 알고리즘이 있다면, 일반적으로 복잡도가 낮을수록 더 좋음\n",
        "\n",
        "\n",
        "빅오 표기법\n",
        "- 가장 빠르게 증가하는 항만을 고려하는 표기법\n",
        "  - 함수의 상한만을 나타내게 됨\n",
        "- 차수가 가장 큰 항만 남김\n"
      ],
      "metadata": {
        "id": "QIQcsaZfblMC"
      }
    },
    {
      "cell_type": "markdown",
      "source": [
        "# Time-Complexity"
      ],
      "metadata": {
        "id": "afN5bL3GcAdn"
      }
    },
    {
      "cell_type": "code",
      "source": [
        "array = [3,5,1,2,4] # 5개의 데이터(N=5)\n",
        "summary = 0 # 합계를 저장할 변수\n",
        "\n",
        "# 모든 데이터를 하나씩 확인하며 합계를 계산\n",
        "for x in array:\n",
        "  summary += x\n",
        "\n",
        "print(summary)\n",
        "\n",
        "# 수행 시간은 데이터의 개수 N에 비례할 것임을 예측\n",
        "# 시간 복잡도: O(N)\n"
      ],
      "metadata": {
        "id": "NrX-vN4hbp68"
      },
      "execution_count": null,
      "outputs": []
    },
    {
      "cell_type": "code",
      "source": [
        "# 2중 반복문을 이용하는 프로그램 예제\n",
        "\n",
        "array = [3,4,1,2,4]\n",
        "\n",
        "for i in array:\n",
        "  for j in array:\n",
        "    temp = i*j\n",
        "    print(temp)\n",
        "\n",
        "# 시간 복잡도: O(N**2)\n",
        "# 모든 2중 반복문의 시간 복잡도가 O(N**2)인 것은 아님"
      ],
      "metadata": {
        "id": "9iVqKO1Mbp3h"
      },
      "execution_count": null,
      "outputs": []
    },
    {
      "cell_type": "markdown",
      "source": [
        "# Data Type\n",
        "자료형\n",
        "- 정수형, 실수형, 복소수형, 문자열, 리스트, 튜플, 사전 등이 있음\n",
        "\n"
      ],
      "metadata": {
        "id": "Yt3hgfChbp09"
      }
    },
    {
      "cell_type": "markdown",
      "source": [
        "\n",
        "1. 정수형\n",
        "- 정수를 다루는 자료형\n",
        "\n",
        "2. 실수형 \n",
        "- 소수점 아래의 데이터를 포함하는 수 자료형\n",
        "- 변수에 소수점을 붙인 수를 대입하면 실수형 변수로 처리됨\n",
        "- round() 함수로 반올림 가능\n",
        "\n",
        "3. 리스트 \n",
        "- 여러 개의 데이터를 연속적으로 담아 처리하기 위해 사용\n",
        "- 인덱싱(indexing)\n",
        "    - 인덱스 값을 입력하여 리스트의 특정한 원소에 접근하는 것\n",
        "- 리스트 컴프리헨션\n",
        "    - 리스트를 초기화하는 방법 중 하나\n",
        "        - 대괗호 안에 조건문과 반복문을 적용하여 리스트를 초기화\n",
        "\n",
        "4. 문자열\n",
        "- 문자열 변수를 초기화할 때는 \"\" 나 '' 이용\n",
        "\n",
        "5. 튜플\n",
        "- 리스트와 유사하지만 한 번 선언된 값을 변경할 수 없음\n",
        "- (())를 이용\n",
        "\n",
        "6. 사전\n",
        "- key와 value의 쌍을 데이터로 가지는 자료형\n",
        "\n",
        "7. 집합\n",
        "- 중복 허용 x, 순서 x\n",
        "- 리스트 혹은 문자열을 이용해서 초기화할 수 있음\n",
        "    - 이떄 set() 함수 이용\n",
        "- 중괄호 ({}) 안에 각 원소를 콤마(,)를 기준으로 구분하여 삽입함으로써 초기화 할 수 있음\n",
        "- 데이터의 조회 및 수정에 있어서 O(1)의 시간에 처리할 수 있음"
      ],
      "metadata": {
        "id": "soCUf3gybpyX"
      }
    },
    {
      "cell_type": "code",
      "source": [
        "# 리스트 컴프리헨션 예시\n",
        "## N x M 크기의 2차원 리스트 초기화\n",
        "n = 4\n",
        "m = 3\n",
        "array = [[0] * m for _ in range(n)]\n",
        "print(array)\n",
        "\n",
        "array[1][1] = 5\n",
        "print(array)"
      ],
      "metadata": {
        "id": "K8DXMBoNbpva"
      },
      "execution_count": null,
      "outputs": []
    },
    {
      "cell_type": "markdown",
      "source": [
        "# 입출력 방법"
      ],
      "metadata": {
        "id": "jU-tXZIzbpsf"
      }
    },
    {
      "cell_type": "code",
      "source": [
        "'''\n",
        "map()\n",
        "- 리스트의 모든 원소에 각각 특정한 함수를 적용할 때 사용\n",
        "'''\n",
        "n = int(input())\n",
        "data = list(map(int, input().split()))\n",
        "\n",
        "print(n)\n",
        "print(data)"
      ],
      "metadata": {
        "id": "mv8Ji0Igbpp7"
      },
      "execution_count": null,
      "outputs": []
    },
    {
      "cell_type": "code",
      "source": [
        "'''- 입력을 빠르게 받아야 하는 경우\n",
        "    - sys.stdin.readline() 메서드 사용\n",
        "    - 단, 입력 후 엔터가 줄 바꿈 기호로 입력되므로 rstrip() 메서드 사용'''\n",
        "\n",
        "import sys\n",
        "\n",
        "data = sys.stdin.readline().rstrip()\n",
        "print(data)"
      ],
      "metadata": {
        "id": "tBVhP82pbpnU"
      },
      "execution_count": null,
      "outputs": []
    },
    {
      "cell_type": "markdown",
      "source": [
        "# 조건문\n",
        "- 프로그램의 흐름을 제어하는 문법\n",
        "\n",
        "# 반복문\n",
        "- 반복적으로 실행하고자 할 때 사용하는 문법"
      ],
      "metadata": {
        "id": "4h3jXh5nbpkn"
      }
    },
    {
      "cell_type": "code",
      "source": [
        ""
      ],
      "metadata": {
        "id": "gOt-jC-FbpiO"
      },
      "execution_count": null,
      "outputs": []
    },
    {
      "cell_type": "code",
      "source": [
        ""
      ],
      "metadata": {
        "id": "4bAvOof6bpfi"
      },
      "execution_count": null,
      "outputs": []
    },
    {
      "cell_type": "code",
      "source": [
        ""
      ],
      "metadata": {
        "id": "cahl6RTpbpc8"
      },
      "execution_count": null,
      "outputs": []
    },
    {
      "cell_type": "code",
      "source": [
        ""
      ],
      "metadata": {
        "id": "1P5yUwbVbpaJ"
      },
      "execution_count": null,
      "outputs": []
    }
  ]
}