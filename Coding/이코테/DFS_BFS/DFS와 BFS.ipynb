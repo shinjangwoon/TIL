{
 "cells": [
  {
   "cell_type": "code",
   "execution_count": 2,
   "metadata": {},
   "outputs": [
    {
     "name": "stdout",
     "output_type": "stream",
     "text": [
      "1 2 7 6 8 3 4 5 "
     ]
    }
   ],
   "source": [
    "# DFS 메서드 정의\n",
    "def dfs(graph, v, visited):\n",
    "    # 현재 노드를 방문 처리\n",
    "    visited[v] = True\n",
    "    print(v, end=' ')\n",
    "    # 현재 노드와 연결된 다른 노드를 재귀적으로 방문\n",
    "    for i in graph[v]:\n",
    "        if not visited[i]:\n",
    "            dfs(graph, i, visited)\n",
    "# 각 노드가 연결된 정보를 리스트 자료형으로 표현(2차원 리스트)\n",
    "graph = [ [], [2,3,8], [1,7], [1,4,5], [3,5],\n",
    "            [3,4], [7], [2,6,8], [1,7]]\n",
    "# 각 노드가 방문된 정보를 리스트 자료형으로 표현(1차원 리스트)\n",
    "visited = [False] * 9\n",
    "\n",
    "# 정의된 DFS 함수 호출\n",
    "dfs(graph, 1, visited)"
   ]
  },
  {
   "cell_type": "code",
   "execution_count": 3,
   "metadata": {},
   "outputs": [
    {
     "name": "stdout",
     "output_type": "stream",
     "text": [
      "1 2 3 8 7 4 5 6 "
     ]
    }
   ],
   "source": [
    "from collections import deque\n",
    "\n",
    "# BFS 메서드 정의\n",
    "def bfs(graph, start, visited):\n",
    "    # queue 구현을 위해 deque 라이브러리 사용\n",
    "    queue = deque([start])\n",
    "\n",
    "    visited[start] = True\n",
    "    # queue가 빌 때까지 반복\n",
    "    while queue:\n",
    "        # queue에서 하나의 원소를 뽑아 출력\n",
    "        v = queue.popleft()\n",
    "        print(v, end=' ')\n",
    "        # 해당 원소와 연결된, 아직 방문하지 않은 원소들을 큐에 삽입\n",
    "        for i in graph[v]:\n",
    "            if not visited[i]:\n",
    "                queue.append(i)\n",
    "                visited[i] = True\n",
    "\n",
    "graph = [ [], [2,3,8], [1,7], [1,4,5], [3,5], [3,4],\n",
    "            [7,8], [2,6,8], [1,7]]\n",
    "\n",
    "visited = [False] * 9\n",
    "\n",
    "bfs(graph, 1, visited)"
   ]
  },
  {
   "cell_type": "markdown",
   "metadata": {},
   "source": [
    "# 백준 1260번 DFS와 BFS"
   ]
  },
  {
   "cell_type": "code",
   "execution_count": 23,
   "metadata": {},
   "outputs": [
    {
     "name": "stdout",
     "output_type": "stream",
     "text": [
      "3 1 2 5 4 \n",
      "3 1 4 2 5 "
     ]
    }
   ],
   "source": [
    "from collections import deque\n",
    "\n",
    "n, m, v = map(int, input().split())\n",
    "\n",
    "# 인접 리스트 graph 선언\n",
    "graph = [[] for _ in range(n + 1)]\n",
    "\n",
    "# 양방향 그래프이기 때문에 두 정점 모두에 간선 추가\n",
    "for _ in range(m):\n",
    "    a, b = map(int, input().split())\n",
    "    graph[a].append(b)\n",
    "    graph[b].append(a)\n",
    "\n",
    "# 각 간선 정보에 대해 모두 정렬하기 위해 for문을 사용\n",
    "for i in range(1, n + 1):\n",
    "        graph[i].sort()\n",
    "\n",
    "def dfs(graph, v, visited):\n",
    "\n",
    "    # 현재 노드를 방문 처리\n",
    "    visited[v] = True\n",
    "    print(v, end=' ')\n",
    "\n",
    "    # 현재 노드와 연결된 다른 노드를 재귀적으로 방문\n",
    "    for i in graph[v]:\n",
    "        if not visited[i]:\n",
    "            dfs(graph, i, visited)\n",
    "\n",
    "\n",
    "def bfs(graph, v, visited):\n",
    "\n",
    "    # queue 구현을 위해 deque 라이브러리 사용\n",
    "    queue = deque([v])\n",
    "    visited[v] = True\n",
    "\n",
    "    # queue가 빌 때까지 반복\n",
    "    while queue:\n",
    "\n",
    "        # queue에서 하나의 원소를 뽑아 출력\n",
    "        j = queue.popleft()\n",
    "        print(j, end=' ')\n",
    "        \n",
    "        # 해당 원소와 연결된, 아직 방문하지 않은 원소들을 큐에 삽입\n",
    "        for i in graph[j]:\n",
    "            if not visited[i]:\n",
    "                queue.append(i)\n",
    "                visited[i] = True\n",
    "\n",
    "# visited는 dfs와 bfs를 각각 실행하므로 다시 초기화해서 사용\n",
    "visited = [False] * (n+1)\n",
    "dfs(graph, v, visited)\n",
    "\n",
    "print()\n",
    "\n",
    "visited = [False] * (n+1)\n",
    "bfs(graph, v, visited)\n"
   ]
  },
  {
   "cell_type": "markdown",
   "metadata": {},
   "source": [
    "# 백준 2606 바이러스"
   ]
  },
  {
   "cell_type": "markdown",
   "metadata": {},
   "source": [
    "## DFS"
   ]
  },
  {
   "cell_type": "code",
   "execution_count": 37,
   "metadata": {},
   "outputs": [
    {
     "name": "stdout",
     "output_type": "stream",
     "text": [
      "4\n"
     ]
    }
   ],
   "source": [
    "# 컴퓨터의 수 = n, 연결된 컴퓨터의 수 = m\n",
    "n = int(input())\n",
    "m = int(input())\n",
    "\n",
    "graph = [[] for _ in range(n + 1)]\n",
    "\n",
    "# 양방향 그래프이기 때문에 두 정점 모두에 간선 추가\n",
    "for _ in range(m):\n",
    "    a, b = map(int, input().split())\n",
    "    graph[a].append(b)\n",
    "    graph[b].append(a)\n",
    "\n",
    "def dfs(graph, v, visited):\n",
    "\n",
    "    visited[v] = 1\n",
    "    for i in graph[v]:\n",
    "        if not visited[i]:\n",
    "            dfs(graph, i, visited)\n",
    "\n",
    "\n",
    "# 방문한 컴퓨터의 수를 표시해야하므로 False가 아닌 0\n",
    "visited = [0] * (n+1)\n",
    "dfs(graph, 1, visited)\n",
    "\n",
    "# 방문한 컴퓨터의 개수 -1(처음 시작된 컴퓨터 제외) \n",
    "print(sum(visited)-1)"
   ]
  },
  {
   "cell_type": "markdown",
   "metadata": {},
   "source": [
    "## BFS"
   ]
  },
  {
   "cell_type": "code",
   "execution_count": 42,
   "metadata": {},
   "outputs": [
    {
     "name": "stdout",
     "output_type": "stream",
     "text": [
      "4\n"
     ]
    }
   ],
   "source": [
    "from collections import deque\n",
    "# 컴퓨터의 수 = n, 연결된 컴퓨터의 수 = m\n",
    "n = int(input())\n",
    "m = int(input())\n",
    "\n",
    "graph = [[] for _ in range(n + 1)]\n",
    "\n",
    "# 양방향 그래프이기 때문에 두 정점 모두에 간선 추가\n",
    "for _ in range(m):\n",
    "    a, b = map(int, input().split())\n",
    "    graph[a].append(b)\n",
    "    graph[b].append(a)\n",
    "\n",
    "\n",
    "def bfs(graph, v, visited):\n",
    "\n",
    "    # queue 구현을 위해 deque 라이브러리 사용\n",
    "    queue = deque([v])\n",
    "    visited[v] = 1\n",
    "\n",
    "    # queue가 빌 때까지 반복\n",
    "    while queue:\n",
    "        # queue에서 하나의 원소를 뽑아 출력\n",
    "        j = queue.popleft()\n",
    "        # 해당 원소와 연결된, 아직 방문하지 않은 원소들을 큐에 삽입\n",
    "        for i in graph[j]:\n",
    "            if not visited[i]:\n",
    "                visited[i] = 1\n",
    "                queue.append(i)\n",
    "\n",
    "# 방문한 컴퓨터의 수를 표시해야하므로 False가 아닌 0\n",
    "visited = [0] * (n+1)\n",
    "bfs(graph, 1, visited)\n",
    "\n",
    "# 방문한 컴퓨터의 개수 -1(처음 시작된 컴퓨터 제외)\n",
    "print(sum(visited)-1)\n"
   ]
  }
 ],
 "metadata": {
  "interpreter": {
   "hash": "b3ba2566441a7c06988d0923437866b63cedc61552a5af99d1f4fb67d367b25f"
  },
  "kernelspec": {
   "display_name": "Python 3.8.8 ('base')",
   "language": "python",
   "name": "python3"
  },
  "language_info": {
   "codemirror_mode": {
    "name": "ipython",
    "version": 3
   },
   "file_extension": ".py",
   "mimetype": "text/x-python",
   "name": "python",
   "nbconvert_exporter": "python",
   "pygments_lexer": "ipython3",
   "version": "3.8.8"
  },
  "orig_nbformat": 4
 },
 "nbformat": 4,
 "nbformat_minor": 2
}
