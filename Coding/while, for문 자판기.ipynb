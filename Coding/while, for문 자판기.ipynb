{
 "cells": [
  {
   "cell_type": "markdown",
   "metadata": {},
   "source": [
    "## 자판기 기계는 재고만 있다면 계속 나옴\n",
    "### 따라서 커피가 다 떨어질 때까지 만들어봄"
   ]
  },
  {
   "cell_type": "code",
   "execution_count": 29,
   "metadata": {},
   "outputs": [
    {
     "name": "stdout",
     "output_type": "stream",
     "text": [
      "커피가 총 1잔 나왔습니다.\n",
      "3700원 남았습니다.\n",
      "커피가 총 2잔 나왔습니다.\n",
      "3400원 남았습니다.\n",
      "커피가 총 3잔 나왔습니다.\n",
      "3100원 남았습니다.\n",
      "커피가 총 4잔 나왔습니다.\n",
      "2800원 남았습니다.\n",
      "커피가 총 5잔 나왔습니다.\n",
      "2500원 남았습니다.\n",
      "커피가 총 6잔 나왔습니다.\n",
      "2200원 남았습니다.\n",
      "커피가 총 7잔 나왔습니다.\n",
      "1900원 남았습니다.\n",
      "커피가 총 8잔 나왔습니다.\n",
      "1600원 남았습니다.\n",
      "커피가 총 9잔 나왔습니다.\n",
      "1300원 남았습니다.\n",
      "커피가 총 10잔 나왔습니다.\n",
      "1000원 남았습니다.\n",
      "커피가 모두 소진되었습니다.\n",
      "잔돈 1000원을 반환합니다\n"
     ]
    }
   ],
   "source": [
    "# money 값 입력 버전\n",
    "coffee = 10 # 수량\n",
    "\n",
    "money = int(input())\n",
    "while coffee > 0: # 커피가 남아있는 동안 작동\n",
    "    if money >= 300:\n",
    "        print(f'커피가 총 {10 - (coffee - 1)}잔 나왔습니다.')\n",
    "        coffee = coffee - 1\n",
    "        money = money - 300\n",
    "        print(f'{money}원 남았습니다.')\n",
    "    \n",
    "    elif money < 300:\n",
    "        print('잔액이 부족합니다.')\n",
    "        print(f'{money}원을 돌려줍니다.')\n",
    "        break\n",
    "        \n",
    "    if not coffee:\n",
    "        print('커피가 모두 소진되었습니다.')\n",
    "        print(f'잔돈 {money}원을 반환합니다')\n",
    "\n"
   ]
  },
  {
   "cell_type": "code",
   "execution_count": 28,
   "metadata": {},
   "outputs": [
    {
     "name": "stdout",
     "output_type": "stream",
     "text": [
      "커피가 총 1잔 나왔습니다.\n",
      "3700원 남았습니다.\n",
      "커피가 총 2잔 나왔습니다.\n",
      "3400원 남았습니다.\n",
      "커피가 총 3잔 나왔습니다.\n",
      "3100원 남았습니다.\n",
      "커피가 총 4잔 나왔습니다.\n",
      "2800원 남았습니다.\n",
      "커피가 총 5잔 나왔습니다.\n",
      "2500원 남았습니다.\n",
      "커피가 총 6잔 나왔습니다.\n",
      "2200원 남았습니다.\n",
      "커피가 총 7잔 나왔습니다.\n",
      "1900원 남았습니다.\n",
      "커피가 총 8잔 나왔습니다.\n",
      "1600원 남았습니다.\n",
      "커피가 총 9잔 나왔습니다.\n",
      "1300원 남았습니다.\n",
      "커피가 총 10잔 나왔습니다.\n",
      "1000원 남았습니다.\n",
      "커피가 모두 소진되었습니다.\n",
      "잔돈 1000원을 반환합니다\n"
     ]
    }
   ],
   "source": [
    "# money 값 고정 버전\n",
    "coffee = 10  # 수량\n",
    "\n",
    "money = 4000\n",
    "while coffee > 0:  # 커피가 남아있는 동안 작동\n",
    "    if money >= 300:\n",
    "        print(f'커피가 총 {10 - (coffee - 1)}잔 나왔습니다.')\n",
    "        coffee = coffee - 1\n",
    "        money = money - 300\n",
    "        print(f'{money}원 남았습니다.')\n",
    "\n",
    "    else:\n",
    "        print(f'{money}원을 돌려줍니다.')\n",
    "\n",
    "# 커피가 다 떨어진 경우\n",
    "print('커피가 모두 소진되었습니다.')\n",
    "print(f'잔돈 {money}원을 반환합니다')\n"
   ]
  }
 ],
 "metadata": {
  "interpreter": {
   "hash": "b3ba2566441a7c06988d0923437866b63cedc61552a5af99d1f4fb67d367b25f"
  },
  "kernelspec": {
   "display_name": "Python 3.8.8 ('base')",
   "language": "python",
   "name": "python3"
  },
  "language_info": {
   "codemirror_mode": {
    "name": "ipython",
    "version": 3
   },
   "file_extension": ".py",
   "mimetype": "text/x-python",
   "name": "python",
   "nbconvert_exporter": "python",
   "pygments_lexer": "ipython3",
   "version": "3.8.8"
  },
  "orig_nbformat": 4
 },
 "nbformat": 4,
 "nbformat_minor": 2
}
