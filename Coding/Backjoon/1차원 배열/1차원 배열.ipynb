{
 "cells": [
  {
   "cell_type": "code",
   "execution_count": 9,
   "metadata": {},
   "outputs": [
    {
     "name": "stdout",
     "output_type": "stream",
     "text": [
      "7 35\n"
     ]
    }
   ],
   "source": [
    "# 10818\n",
    "n = int(input())\n",
    "m = list(map(int, input().split()))\n",
    "# max = m[0]\n",
    "# min = m[0]\n",
    "# for i in m:\n",
    "#     if i > max:\n",
    "#         max = i\n",
    "#     elif i < min:\n",
    "#         min = i\n",
    "# print(min, max)\n",
    "print(min(m), max(m))"
   ]
  },
  {
   "cell_type": "code",
   "execution_count": 27,
   "metadata": {},
   "outputs": [
    {
     "name": "stdout",
     "output_type": "stream",
     "text": [
      "85\n",
      "8\n"
     ]
    }
   ],
   "source": [
    "# 2562\n",
    "n = []\n",
    "# ipynb로 만든 경우 한 파일 안에서 중복된 함수가 있을 경우 error가\n",
    "# 발생하므로 del을 통해 지워주는 것이 좋음\n",
    "# del max\n",
    "for i in range(9):\n",
    "    n.append(int(input()))\n",
    "\n",
    "print(max(n))\n",
    "print(n.index(max(n))+1)"
   ]
  }
 ],
 "metadata": {
  "kernelspec": {
   "display_name": "Python 3.9.7 64-bit",
   "language": "python",
   "name": "python3"
  },
  "language_info": {
   "codemirror_mode": {
    "name": "ipython",
    "version": 3
   },
   "file_extension": ".py",
   "mimetype": "text/x-python",
   "name": "python",
   "nbconvert_exporter": "python",
   "pygments_lexer": "ipython3",
   "version": "3.9.7"
  },
  "orig_nbformat": 4,
  "vscode": {
   "interpreter": {
    "hash": "9426e18a419b227a0a7f1551a09002ab5a347b9ac05753b78fbf477685830269"
   }
  }
 },
 "nbformat": 4,
 "nbformat_minor": 2
}
