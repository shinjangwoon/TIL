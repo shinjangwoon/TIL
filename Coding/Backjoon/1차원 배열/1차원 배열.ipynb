{
 "cells": [
  {
   "cell_type": "code",
   "execution_count": 9,
   "metadata": {},
   "outputs": [
    {
     "name": "stdout",
     "output_type": "stream",
     "text": [
      "7 35\n"
     ]
    }
   ],
   "source": [
    "# 10818\n",
    "n = int(input())\n",
    "m = list(map(int, input().split()))\n",
    "# max = m[0]\n",
    "# min = m[0]\n",
    "# for i in m:\n",
    "#     if i > max:\n",
    "#         max = i\n",
    "#     elif i < min:\n",
    "#         min = i\n",
    "# print(min, max)\n",
    "print(min(m), max(m))"
   ]
  },
  {
   "cell_type": "code",
   "execution_count": 27,
   "metadata": {},
   "outputs": [
    {
     "name": "stdout",
     "output_type": "stream",
     "text": [
      "85\n",
      "8\n"
     ]
    }
   ],
   "source": [
    "# 2562\n",
    "n = []\n",
    "# ipynb로 만든 경우 한 파일 안에서 중복된 함수가 있을 경우 error가\n",
    "# 발생하므로 del을 통해 지워주는 것이 좋음\n",
    "# del max\n",
    "for i in range(9):\n",
    "    n.append(int(input()))\n",
    "\n",
    "print(max(n))\n",
    "print(n.index(max(n))+1)"
   ]
  },
  {
   "cell_type": "code",
   "execution_count": 9,
   "metadata": {},
   "outputs": [
    {
     "name": "stdout",
     "output_type": "stream",
     "text": [
      "3\n",
      "1\n",
      "0\n",
      "2\n",
      "0\n",
      "0\n",
      "0\n",
      "2\n",
      "0\n",
      "0\n"
     ]
    }
   ],
   "source": [
    "# 2577\n",
    "# 3개의 자연수가 각 줄마다 주어지게 함\n",
    "a = int(input())\n",
    "b = int(input())\n",
    "c = int(input())\n",
    "\n",
    "# 각 숫자를 곱한 값을 str 타입으로 바꾼뒤 list로 변환\n",
    "result = list(str(a*b*c)) \n",
    "\n",
    "# count를 통해 리스트에 문자가 몇 개씩 있는지 세기\n",
    "for i in range(10):\n",
    "    print(result.count(str(i)))"
   ]
  },
  {
   "cell_type": "code",
   "execution_count": 14,
   "metadata": {},
   "outputs": [
    {
     "name": "stdout",
     "output_type": "stream",
     "text": [
      "10\n"
     ]
    }
   ],
   "source": [
    "# 3052\n",
    "n = []\n",
    "\n",
    "for i in range(10):\n",
    "    m = int(input())\n",
    "    n.append(m % 42)\n",
    "# 중복 제거\n",
    "n = set(n)\n",
    "print(len(n))\n"
   ]
  },
  {
   "cell_type": "code",
   "execution_count": 30,
   "metadata": {},
   "outputs": [
    {
     "name": "stdout",
     "output_type": "stream",
     "text": [
      "32.5\n"
     ]
    }
   ],
   "source": [
    "# 1546\n",
    "# 각 배열의 값에 최고 값을 나눈 후 100을 곱한다\n",
    "# 그 뒤, 나온 값들을 모두 더한 후 값의 개수로 나눠준다\n",
    "\n",
    "n = int(input())\n",
    "score = list(map(int, input().split()))\n",
    "max_score = max(score)\n",
    "\n",
    "new_avg = []\n",
    "\n",
    "for i in score:\n",
    "    new_avg.append(i/max_score*100)\n",
    "    new_score = sum(new_avg) / n\n",
    "print(new_score)"
   ]
  },
  {
   "cell_type": "code",
   "execution_count": 42,
   "metadata": {},
   "outputs": [
    {
     "name": "stdout",
     "output_type": "stream",
     "text": [
      "10\n",
      "9\n",
      "7\n",
      "66\n",
      "30\n"
     ]
    }
   ],
   "source": [
    "# 8958\n",
    "n = int(input())\n",
    "\n",
    "for i in range(n):\n",
    "    case = list(input())\n",
    "    score = 0\n",
    "    sum_score = 0\n",
    "    for O in case: \n",
    "        if O == 'O': # case 안에 'O'이 있을 경우 score가 하나씩 증가\n",
    "            score += 1\n",
    "            sum_score += score\n",
    "        else:\n",
    "            score = 0\n",
    "    print(sum_score)"
   ]
  },
  {
   "cell_type": "code",
   "execution_count": 56,
   "metadata": {},
   "outputs": [
    {
     "name": "stdout",
     "output_type": "stream",
     "text": [
      "40.000%\n",
      "57.143%\n",
      "33.333%\n",
      "66.667%\n",
      "55.556%\n"
     ]
    }
   ],
   "source": [
    "# 4344\n",
    "\n",
    "c = int(input())\n",
    "\n",
    "for i in range(c):\n",
    "    \n",
    "    # [0]: 학생 수, [1:] : 학생별 점수  \n",
    "    n = list(map(int, input().split()))\n",
    "\n",
    "    avg_score = sum(n[1:]) / n[0]\n",
    "    high = 0\n",
    "    for score in n[1:]:\n",
    "        if score > avg_score: # 점수가 평균보다 높다면\n",
    "            high += 1\n",
    "\n",
    "    # 평균보다 점수가 높은 학생들의 비율\n",
    "    high_avg = high / n[0] * 100\n",
    "    \n",
    "    # 소수점 3자리까지 \n",
    "    print(f\"{high_avg:.3f}%\")\n"
   ]
  }
 ],
 "metadata": {
  "kernelspec": {
   "display_name": "Python 3.8.13 ('base')",
   "language": "python",
   "name": "python3"
  },
  "language_info": {
   "codemirror_mode": {
    "name": "ipython",
    "version": 3
   },
   "file_extension": ".py",
   "mimetype": "text/x-python",
   "name": "python",
   "nbconvert_exporter": "python",
   "pygments_lexer": "ipython3",
   "version": "3.8.13"
  },
  "orig_nbformat": 4,
  "vscode": {
   "interpreter": {
    "hash": "ad2bdc8ecc057115af97d19610ffacc2b4e99fae6737bb82f5d7fb13d2f2c186"
   }
  }
 },
 "nbformat": 4,
 "nbformat_minor": 2
}
