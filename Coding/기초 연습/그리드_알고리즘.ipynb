{
 "cells": [
  {
   "cell_type": "markdown",
   "metadata": {},
   "source": [
    "# 그리드 알고리즘(탐욕법)\n",
    "- 현재 상황에서 지금 당장 좋은 것만 고르는 방법을 의미\n",
    "- 문제를 풀기 위한 최소한의 아이디어를 떠올릴 수 있는 능력을 요구"
   ]
  },
  {
   "cell_type": "markdown",
   "metadata": {},
   "source": [
    "## <문제> 거스름 돈: 문제 설명\n",
    "- 당신은 음식점의 계산을 도와주는 점원입니다. 카운터에는 거스름돈으로 사용할 500원, 100원, 50원, 10원짜리 동전이\n",
    "무한히 존재한다고 가정. 손님에게 거슬러 주어야 할 돈이 N원일 때 거슬러 주어야 할 동전의 최소 개수는? \n",
    "단, 거슬러 줘야 할 돈 N은 항상 10의 배수"
   ]
  },
  {
   "cell_type": "code",
   "execution_count": 2,
   "metadata": {},
   "outputs": [
    {
     "name": "stdout",
     "output_type": "stream",
     "text": [
      "13\n"
     ]
    }
   ],
   "source": [
    "# 가장 큰 화폐 단위부터 돈을 거슬러 주면 됨 - 큰 단위가 항상 작은 단위의 배수이므로 작은 단위의 동전들을 종합해 다른 해가 나올 수 없기 때문\n",
    "\n",
    "N = 5300\n",
    "count = 0\n",
    "\n",
    "array = [500, 100, 50, 10] # 큰 단위의 화폐부터 차례대로 확인하기\n",
    "\n",
    "for coin in array:\n",
    "    count += N // coin # 해당 화폐로 거슬러 줄 수 있는 동전의 개수 세기\n",
    "    N %= coin\n",
    "\n",
    "print(count)"
   ]
  },
  {
   "cell_type": "markdown",
   "metadata": {},
   "source": [
    "## <문제> 1이 될 때까지:\n",
    "- 어떠한 수 N이 1이 될 때까지 다음의 두 과정 중 하나를 반복적으로 선택하여 수행하려고 함.\n",
    "단, 두 번째 연산은 N이 K로 나누어 떨어질 때만 선택할 수 있음\n",
    "1. N에서 1을 뺌\n",
    "2. N을 K로 나눔\n",
    "- 예를 들어 N이 17, K가 4라고 가정. 이때 1번의 과정을 한 번 수행하면 N은 16이 됨\n",
    "이후에 2번의 가정을 두 번 수행하면 N은 1이 됨. \n",
    "결과적으로 이 경우 전체 과정을 실행한 횟수는 3이 됨\n",
    "이는 N을 1로 만드는 최소 횟수\n",
    "\n",
    "- N과 K가 주어질 때 N이 1이 될 때까지 1번 혹은 2번의 과정을 수행해야 하는 최소 횟수를 구하는 프로그램을 작성해보시오"
   ]
  },
  {
   "cell_type": "code",
   "execution_count": 19,
   "metadata": {},
   "outputs": [
    {
     "name": "stdout",
     "output_type": "stream",
     "text": [
      "4\n"
     ]
    }
   ],
   "source": [
    "'''\n",
    "# 입력 조건 \n",
    "첫째 줄에 N(1 <= N <= 100,000)과 K(2 <= K <= 100,000)가 공백을 기준으로 하여 각각 자연수로 주어짐\n",
    "\n",
    "# 출력 조건 \n",
    "첫째 줄에 N이 1이 될 때까지 1번 혹은 2번의 과정을 수행해야 하는 횟수의 최솟값을 출력\n",
    "'''\n",
    "N, K = map(int, input().split())\n",
    "\n",
    "result = 0\n",
    "\n",
    "while N > 1:\n",
    "    if (N % K) != 0:\n",
    "        N -= 1\n",
    "        result += 1\n",
    "    else:\n",
    "        print(result)\n",
    "        break\n",
    "\n"
   ]
  }
 ],
 "metadata": {
  "interpreter": {
   "hash": "9ec957caba7ae6ccc97a7fb0804bf14cbdb1f70a4904cd45a06dd27fe16a3b19"
  },
  "kernelspec": {
   "display_name": "Python 3.8.12 ('tensorflow')",
   "language": "python",
   "name": "python3"
  },
  "language_info": {
   "codemirror_mode": {
    "name": "ipython",
    "version": 3
   },
   "file_extension": ".py",
   "mimetype": "text/x-python",
   "name": "python",
   "nbconvert_exporter": "python",
   "pygments_lexer": "ipython3",
   "version": "3.8.8"
  },
  "orig_nbformat": 4
 },
 "nbformat": 4,
 "nbformat_minor": 2
}
