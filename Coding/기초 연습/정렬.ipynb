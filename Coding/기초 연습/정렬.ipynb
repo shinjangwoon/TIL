{
 "cells": [
  {
   "cell_type": "code",
   "execution_count": 1,
   "metadata": {},
   "outputs": [
    {
     "name": "stdout",
     "output_type": "stream",
     "text": [
      "[1, 2, 3, 4, 5, 6, 7, 8, 9]\n"
     ]
    }
   ],
   "source": [
    "# 선택 정렬\n",
    "array = [5, 9, 2, 1, 7, 4, 6, 8, 3]\n",
    "\n",
    "for i in range(len(array)):\n",
    "    min_index = i # 가장 작은 인덱스\n",
    "    for j in range(i+1, len(array)):\n",
    "        if array[min_index] > array[j]: # 현재 작은 원소보다 작은 값이 있다면 그 위치 인덱스 값을 min_index 값으로 바꿈\n",
    "            min_index = j\n",
    "    array[i], array[min_index] = array[min_index], array[i] # 스와프\n",
    "\n",
    "print(array)"
   ]
  },
  {
   "cell_type": "code",
   "execution_count": 9,
   "metadata": {},
   "outputs": [
    {
     "name": "stdout",
     "output_type": "stream",
     "text": [
      "[1, 2, 3, 4, 5, 6, 7, 8, 9]\n"
     ]
    }
   ],
   "source": [
    "# 삽입 정렬\n",
    "array = [5, 9, 2, 1, 7, 4, 6, 8, 3]\n",
    "\n",
    "for i in range(1, len(array)):\n",
    "    for j in range(i, 0, -1): # 인덱스 i부터 1까지 1씩 감소하며 반복하는 문법\n",
    "        if array[j] < array[j-1]: # 한 칸씩 왼쪽으로 이동\n",
    "            array[j], array[j-1] = array[j-1], array[j] \n",
    "        else: # 자기보다 작은 데이터를 만나면 그 자리에서 멈춤\n",
    "            break\n",
    "print(array)"
   ]
  },
  {
   "cell_type": "code",
   "execution_count": 15,
   "metadata": {},
   "outputs": [
    {
     "name": "stdout",
     "output_type": "stream",
     "text": [
      "[1, 2, 3, 4, 5, 6, 7, 8, 9]\n"
     ]
    }
   ],
   "source": [
    "# 퀵 정렬\n",
    "array = [5, 9, 2, 1, 7, 4, 6, 8, 3]\n",
    "\n",
    "def quick_sort(array, start, end):\n",
    "    if start >= end: # 원소가 1개인 경우 종료\n",
    "        return\n",
    "    \n",
    "    pivot = start # 첫 번째 원소\n",
    "    left = start + 1 \n",
    "    right = end\n",
    "    while(left <= right):\n",
    "        while(left <= end and array[left] <= array[pivot]): # 피벗보다 큰 데이터 찾을 때까지 반복\n",
    "            left += 1\n",
    "        while(right > start and array[right] >= array[pivot]): # 피벗보다 작은 데이터 찾을 때까지 반복\n",
    "            right -= 1\n",
    "        if (left > right): # 엇갈렸다면 작은 데이터와 피벗 교체\n",
    "            array[right], array[pivot] = array[pivot], array[right]\n",
    "        else: # 엇갈리지 않았다면 작은 데이터와 큰 데이터를 교체\n",
    "            array[left], array[right] = array[right], array[left]\n",
    "    # 분할 이후 왼쪽 부분과 오른쪽 부분에서 각각 정렬 수행\n",
    "    quick_sort(array, start, right - 1 )\n",
    "    quick_sort(array, right + 1, end )\n",
    "\n",
    "quick_sort(array, 0, len(array) -1)\n",
    "print(array)"
   ]
  },
  {
   "cell_type": "code",
   "execution_count": 18,
   "metadata": {},
   "outputs": [
    {
     "name": "stdout",
     "output_type": "stream",
     "text": [
      "[1, 2, 3, 4, 5, 6, 7, 8, 9]\n"
     ]
    }
   ],
   "source": [
    "# 퀵 정렬\n",
    "array = [5, 9, 2, 1, 7, 4, 6, 8, 3]\n",
    "\n",
    "def quick_sort(array):\n",
    "\n",
    "    if len(array) <= 1:\n",
    "        return array\n",
    "    \n",
    "    pivot = array[0]\n",
    "    tail = array[1:]\n",
    "\n",
    "    left = [x for x in tail if x <= pivot] # 분할된 왼쪽 부분\n",
    "    right = [x for x in tail if x > pivot] # 분할된 오른쪽 부분\n",
    "    \n",
    "    # 분할 이후 왼쪽 부분과 오른쪽 부분에서 각각 정렬 수행하고, 전체 리스트로 반환\n",
    "    return quick_sort(left) + [pivot] + quick_sort(right)\n",
    "\n",
    "print(quick_sort(array))"
   ]
  },
  {
   "cell_type": "code",
   "execution_count": 19,
   "metadata": {},
   "outputs": [
    {
     "name": "stdout",
     "output_type": "stream",
     "text": [
      "0 0 1 1 2 2 2 2 3 3 4 4 5 5 5 6 7 7 8 8 8 9 9 "
     ]
    }
   ],
   "source": [
    "# 계수 정렬\n",
    "array = [4, 2, 5, 6, 5, 1, 2, 3, 8, 7, 8, 9, 2, 0, 1, 2, 7, 5, 3, 4, 8, 9, 0]\n",
    "\n",
    "# 모든 범위를 포함하는 리스트 선언 (모든 값은 0으로 초기화)\n",
    "count = [0] * (max(array) + 1)\n",
    "\n",
    "for i in range(len(array)):\n",
    "    count[array[i]] += 1 # 각 데이터에 해당하는 인덱스의 값 증가\n",
    "\n",
    "for i in range(len(count)): # 리스트에 기록된 정렬 정보 확인\n",
    "    for j in range(count[i]):\n",
    "        print(i , end=' ')"
   ]
  }
 ],
 "metadata": {
  "interpreter": {
   "hash": "b3ba2566441a7c06988d0923437866b63cedc61552a5af99d1f4fb67d367b25f"
  },
  "kernelspec": {
   "display_name": "Python 3.8.8 ('base')",
   "language": "python",
   "name": "python3"
  },
  "language_info": {
   "codemirror_mode": {
    "name": "ipython",
    "version": 3
   },
   "file_extension": ".py",
   "mimetype": "text/x-python",
   "name": "python",
   "nbconvert_exporter": "python",
   "pygments_lexer": "ipython3",
   "version": "3.8.8"
  },
  "orig_nbformat": 4
 },
 "nbformat": 4,
 "nbformat_minor": 2
}
