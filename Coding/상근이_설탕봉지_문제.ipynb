{
  "nbformat": 4,
  "nbformat_minor": 0,
  "metadata": {
    "colab": {
      "name": "상근이 설탕봉지 문제.ipynb",
      "provenance": [],
      "include_colab_link": true
    },
    "kernelspec": {
      "name": "python3",
      "display_name": "Python 3"
    },
    "language_info": {
      "name": "python"
    }
  },
  "cells": [
    {
      "cell_type": "markdown",
      "metadata": {
        "id": "view-in-github",
        "colab_type": "text"
      },
      "source": [
        "<a href=\"https://colab.research.google.com/github/shinjangwoon/TIL/blob/master/Coding/%EC%83%81%EA%B7%BC%EC%9D%B4_%EC%84%A4%ED%83%95%EB%B4%89%EC%A7%80_%EB%AC%B8%EC%A0%9C.ipynb\" target=\"_parent\"><img src=\"https://colab.research.google.com/assets/colab-badge.svg\" alt=\"Open In Colab\"/></a>"
      ]
    },
    {
      "cell_type": "code",
      "execution_count": 1,
      "metadata": {
        "id": "Z_XMOjlfKB9W"
      },
      "outputs": [],
      "source": [
        "#상근이 설탕봉지 문제\n",
        "#상근이는 요즘 설탕공장에서 설탕을 배달하고 있다. 상근이는 지금 사탕가게에 설탕을 정확하게 N킬로그램을 배달해야 한다. \n",
        "#설탕공장에서 만드는 설탕은 봉지에 담겨져 있다 . 봉지는 3킬로그램 봉지와 5킬로그램 봉지가 있다.\n",
        "\n",
        "#상근이는 귀찮기 때문에, 최대한 적은 봉지를 들고 가려고한다. \n",
        "#예를들어, 18킬로그램 설탕을 배달해야 할 때, 3킬로그램 봉지 6개를 가져가도 되지만, 5킬로그램 3개와 3킬로그램 1개를 배달하면, 더 적은 개수의 봉지를 배달할 수 있다. \n",
        "\n",
        "#상근이가 설탕을 정확하게 N킬로그램 배달해야 할때, 봉지 몇 개를 가져가면 되는지 그 수를 구하는 프로그램을 작성 하시오."
      ]
    },
    {
      "cell_type": "code",
      "source": [
        "KG = int(input(\"상근이가 배달하는 설탕 KG수는? ==>\"))"
      ],
      "metadata": {
        "colab": {
          "base_uri": "https://localhost:8080/"
        },
        "id": "71NTyCXULZXj",
        "outputId": "f34d24fa-d570-4629-911e-76a83c6f6ddc"
      },
      "execution_count": 2,
      "outputs": [
        {
          "name": "stdout",
          "output_type": "stream",
          "text": [
            "상근이가 배달하는 설탕 KG수는? ==>25\n"
          ]
        }
      ]
    },
    {
      "cell_type": "code",
      "source": [
        "if KG % 5 == 0 and 5 <= KG:\n",
        "  print(\"상근님이 챙겨야할 봉지는 5kg {}봉지 입니다\".format(KG // 5))\n",
        "\n",
        "elif (KG - (KG // 5) * 5) % 3 == 0 and 3 <= KG:\n",
        "  print(\"상근님이 챙겨야할 봉지는 5kg {}봉지, 3kg {}봉지, 총 {}봉지 입니다\".format(KG // 5, 1, KG // 5 + 1))\n",
        "\n",
        "else:\n",
        "  if 3 > KG:\n",
        "    print(\"상근님이 챙겨야할 봉지는 5kg 0봉지, 3kg 1봉지, 총 1봉지 입니다\")\n",
        "  else:\n",
        "    print(\"상근님이 챙겨야할 봉지는 5kg {}봉지, 3kg {}봉지, 총 {}봉지 입니다\".format(KG // 5 ,2 ,KG // 5 + 2))"
      ],
      "metadata": {
        "colab": {
          "base_uri": "https://localhost:8080/"
        },
        "id": "9XZ_znPLLmvO",
        "outputId": "0dfe26d6-98a4-4143-e252-f9777152c757"
      },
      "execution_count": 3,
      "outputs": [
        {
          "output_type": "stream",
          "name": "stdout",
          "text": [
            "상근님이 챙겨야할 봉지는 5kg 5봉지 입니다\n"
          ]
        }
      ]
    }
  ]
}