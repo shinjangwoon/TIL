{
  "nbformat": 4,
  "nbformat_minor": 0,
  "metadata": {
    "colab": {
      "name": "The Predictive Modeling Pipeline.ipynb",
      "private_outputs": true,
      "provenance": [],
      "collapsed_sections": [],
      "mount_file_id": "119IZcqlTAQtP2qB07RbApep7CJmEV4Ky",
      "authorship_tag": "ABX9TyMac18V5k3eboKudNXclsxO",
      "include_colab_link": true
    },
    "kernelspec": {
      "name": "python3",
      "display_name": "Python 3"
    },
    "language_info": {
      "name": "python"
    }
  },
  "cells": [
    {
      "cell_type": "markdown",
      "metadata": {
        "id": "view-in-github",
        "colab_type": "text"
      },
      "source": [
        "<a href=\"https://colab.research.google.com/github/shinjangwoon/TIL/blob/master/TIL/scikit-learn/The_Predictive_Modeling_Pipeline.ipynb\" target=\"_parent\"><img src=\"https://colab.research.google.com/assets/colab-badge.svg\" alt=\"Open In Colab\"/></a>"
      ]
    },
    {
      "cell_type": "markdown",
      "source": [
        "# 01_tabular_data_exploration"
      ],
      "metadata": {
        "id": "R1VcMvUGpRsV"
      }
    },
    {
      "cell_type": "code",
      "source": [
        "import pandas as pd\n",
        "\n",
        "php = pd.read_csv('/content/drive/MyDrive/Colab Notebooks/phpMawTba.csv')"
      ],
      "metadata": {
        "id": "meJrOqSdpsI4"
      },
      "execution_count": null,
      "outputs": []
    },
    {
      "cell_type": "markdown",
      "source": [
        "- 이 데이터의 목표는 연령, 고용, 교육, 가족 정보 등과 같은 데이터에서 한 사람이 연간 5만 달러 이상을 벌고 있는지 예측하는 것입니다."
      ],
      "metadata": {
        "id": "G_lZXjaqvCRf"
      }
    },
    {
      "cell_type": "code",
      "source": [
        "php.info()"
      ],
      "metadata": {
        "id": "8mkrHCKrpsFe"
      },
      "execution_count": null,
      "outputs": []
    },
    {
      "cell_type": "code",
      "source": [
        "php.head()"
      ],
      "metadata": {
        "id": "IoRoBlcYpsCj"
      },
      "execution_count": null,
      "outputs": []
    },
    {
      "cell_type": "markdown",
      "source": [
        "- class라는 열은 대상 변수(예측하려는 변수)입니다. 현재 가능한 클래스는 <=50k(저수익), >50k(고수익)입니다. \n",
        "- 따라서 결과 예측 문제는 이진 분류 문제이며, 다른 열을 모델의 입력 변수로 사용합니다."
      ],
      "metadata": {
        "id": "czf8IoV-vajO"
      }
    },
    {
      "cell_type": "code",
      "source": [
        "target_column = \"class\"\n",
        "php[target_column].value_counts()"
      ],
      "metadata": {
        "id": "6NiRam5tpsAM"
      },
      "execution_count": null,
      "outputs": []
    },
    {
      "cell_type": "markdown",
      "source": [
        "- 클래스는 약간 불균형합니다. 즉, 다른 클래스에 비해 하나 이상의 클래스 샘플이 더 많습니다. \n",
        " \n",
        "- 클래스 불균형은 실제로 자주 발생하며, 예측 모델을 구축할 때 특별한 기술이 필요할 수 있습니다.\n"
      ],
      "metadata": {
        "id": "NxZMNqcfpr9Z"
      }
    },
    {
      "cell_type": "code",
      "source": [
        "numerical_columns = [\n",
        "    \"age\", \"education-num\", \"capital-gain\", \"capital-loss\",\n",
        "    \"hours-per-week\"]\n",
        "categorical_columns = [\n",
        "    \"workclass\", \"education\", \"marital-status\", \"occupation\",\n",
        "    \"relationship\", \"race\", \"sex\", \"native-country\"]\n",
        "all_columns = numerical_columns + categorical_columns + [target_column]\n",
        "\n",
        "php = php[all_columns]"
      ],
      "metadata": {
        "id": "3KzSv8nvpr6l"
      },
      "execution_count": null,
      "outputs": []
    },
    {
      "cell_type": "code",
      "source": [
        "print(f\"The dataset contains {php.shape[0]} samples and \"\n",
        "      f\"{php.shape[1]} columns\")"
      ],
      "metadata": {
        "id": "iwtpzCt5pr34"
      },
      "execution_count": null,
      "outputs": []
    },
    {
      "cell_type": "code",
      "source": [
        "print(f\"The dataset contains {php.shape[1] - 1} features\")"
      ],
      "metadata": {
        "id": "INy1-Rtjpr1T"
      },
      "execution_count": null,
      "outputs": []
    },
    {
      "cell_type": "markdown",
      "source": [
        "## 데이터 시각화"
      ],
      "metadata": {
        "id": "LEXXGWQHxo6N"
      }
    },
    {
      "cell_type": "code",
      "source": [
        "_ = php.hist(figsize=(20, 14))"
      ],
      "metadata": {
        "id": "z0UKXzjGpryp"
      },
      "execution_count": null,
      "outputs": []
    },
    {
      "cell_type": "markdown",
      "source": [
        "- 이전 셀에서는 _ = func() 패턴을 사용했습니다. \n",
        "- 이 경우에는 그다지 유용하지 않은 func() 의 출력을 표시하지 않기 위해 이 작업을 수행하였습니다. \n",
        "- 관례상, python에서 밑줄 변수는 우리가 관심이 없는 결과를 저장하기 위한 \"쓰레기\" 변수로 사용됩니다."
      ],
      "metadata": {
        "id": "lusarPhfprvs"
      }
    },
    {
      "cell_type": "markdown",
      "source": [
        "- \"age\" : 'age > 70' 이상이 이 데이터셋에 많지 않으므로 은퇴한 사람은 필터링 된 것을 알 수 있습니다.\n",
        "- \"hours-per-week\" : 주당 40시간정도가 제일 높은 것을 알 수 있습니다.\n",
        "- \"capital-gain\" and \"capital-loss\"는 0에 가깝습니다."
      ],
      "metadata": {
        "id": "rfcRIjh1prtH"
      }
    },
    {
      "cell_type": "code",
      "source": [
        "php[\"sex\"].value_counts()"
      ],
      "metadata": {
        "id": "UUfK58J0prqb"
      },
      "execution_count": null,
      "outputs": []
    },
    {
      "cell_type": "code",
      "source": [
        "php['education'].value_counts()"
      ],
      "metadata": {
        "id": "Ru5kPmiB_1s6"
      },
      "execution_count": null,
      "outputs": []
    },
    {
      "cell_type": "code",
      "source": [
        "## education과 education-num의 관계\n",
        "pd.crosstab(index=php['education'], columns=php['education-num']) "
      ],
      "metadata": {
        "id": "iCNOyfBX_1py"
      },
      "execution_count": null,
      "outputs": []
    },
    {
      "cell_type": "markdown",
      "source": [
        "- \"education\"과 \"education-num\"이 동일한 정보를 제공한다는 것을 보여줍니다.\n",
        "ex) \"education-num=2\"는 \"education=1st-4th\"와 같습니다.\n",
        "실제로 이는 정보 손실 없이 \"education-num\"을 제거할 수 있음을 의미합니다\n",
        "\n",
        "* 중복(또는 높은 상관 관계)열이 있는 것은 기계 학습 알고리즘에 문제가 될 수 있습니다."
      ],
      "metadata": {
        "id": "XicmoH8y_1nL"
      }
    },
    {
      "cell_type": "code",
      "source": [
        "'''\n",
        "pairplot을 수행하고, class에 따라 각 변수가 어떻게 다른지 보여주는 것입니다.\n",
        "대각선을 따라 플롯은 각 class에 대한 개별 변수의 분포를 보여줍니다.\n",
        "비대각선의 플롯은 변수간의 흥미로운 상호 작용을 나타낼 수 있습니다.\n",
        "'''\n",
        "import seaborn as sns\n",
        "\n",
        "n_sample_to_plot = 5000\n",
        "columns = [\"age\", \"education-num\", \"hours-per-week\"]\n",
        "_ = sns.pairplot(\n",
        "    data=php[:n_sample_to_plot],\n",
        "    vars=columns,\n",
        "    hue=target_column,\n",
        "    plot_kws={\"alpha\":0.2},\n",
        "    height=3,\n",
        "    diag_kind='hist',\n",
        "    diag_kws={\"bins\":30},\n",
        ")"
      ],
      "metadata": {
        "id": "w27aVC8a_1k0"
      },
      "execution_count": null,
      "outputs": []
    },
    {
      "cell_type": "markdown",
      "source": [
        "## 결정 규칙 만들기\n",
        "- 누가 고소득이고 누가 저소득인지 예측해보는 규칙을 만들어봅니다. \n",
        "- 예를 들어, 'hours-per-week'와 'age' 조합에 집중해봅니다."
      ],
      "metadata": {
        "id": "2mqQal-c_1is"
      }
    },
    {
      "cell_type": "code",
      "source": [
        "_ = sns.scatterplot(\n",
        "    x=\"age\",\n",
        "    y=\"hours-per-week\",\n",
        "    data=php[:n_sample_to_plot],\n",
        "    hue='class',\n",
        "    alpha=0.5,\n",
        "\n",
        ")"
      ],
      "metadata": {
        "id": "i2MhODjC_1gS"
      },
      "execution_count": null,
      "outputs": []
    },
    {
      "cell_type": "markdown",
      "source": [
        "- 점은 dataset에서 'hours-per-week'와 'age'의 분포를 보여줍니다.\n",
        "- 파란색 점은 저소득을 의미하며, 주황색 점은 고소득을 의미합니다.\n",
        "- 이 plot은 pairplot에서 왼쪽 하단 플롯과 동일합니다.\n",
        "\n",
        "- 이 plot에서 어떤 클래스를 예측해야 하는지 쉽게 결정할 수 있도록 \n",
        "주로 단일 클래스를 포함하는 영역을 찾으려고 노력해야 합니다.\n"
      ],
      "metadata": {
        "id": "c2xBQDzR_1d5"
      }
    },
    {
      "cell_type": "code",
      "source": [
        "import matplotlib.pyplot as plt\n",
        "\n",
        "ax = sns.scatterplot(\n",
        "    x=\"age\",\n",
        "    y='hours-per-week',\n",
        "    data=php[:n_sample_to_plot],\n",
        "    hue='class',\n",
        "    alpha=0.5,\n",
        ")\n",
        "age_limit = 27\n",
        "plt.axvline(x=age_limit, ymin=0, ymax=1, color=\"black\", linestyle=\"--\")\n",
        "\n",
        "hours_per_week_limit = 40\n",
        "plt.axhline(y=hours_per_week_limit, xmin=0.18, xmax=1, color=\"black\", linestyle=\"--\")\n",
        "\n",
        "plt.annotate(\"<=50K\", (17, 25), rotation=90, fontsize=35)\n",
        "plt.annotate(\"<=50K\", (35, 20), fontsize=35)\n",
        "_ = plt.annotate(\"???\", (45, 60), fontsize=35)"
      ],
      "metadata": {
        "id": "iyS2I6lA_1bL"
      },
      "execution_count": null,
      "outputs": []
    },
    {
      "cell_type": "markdown",
      "source": [
        "- 'age < 27' 인 왼쪽 영역은 예측이 저소득입니다.\n",
        " 물론 많은 파란색 점이 있지만 주황색 점은 볼 수 없습니다.\n",
        "- 'age > 27 and hours-per-week < 40'인 오른쪽 하단 영역은 저소득입니다.\n",
        "많은 파란색 점이 있지만 조금씩 주황색 점도 보입니다. \n",
        "- 'age > 27 and hours-per-week > 40'인 오른쪽 상단 영역은 파란색 점과 주확색 점이 많습니다.\n",
        "이 지역을 예측해야합니다. "
      ],
      "metadata": {
        "id": "yttHPBafHVkD"
      }
    },
    {
      "cell_type": "markdown",
      "source": [
        "# 연습\n",
        "- culmen 길이와 culmen 깊이의 두 가지 신체 측정을 ​​기반으로 펭귄 종을 예측해보기\n",
        "\n",
        "*** sciki-learn 공부 중 제공 jupyter에서 해보았으나 csv가 가져오기 애매하여 코드만 적어둠\n"
      ],
      "metadata": {
        "id": "puX_wWCdHVgm"
      }
    },
    {
      "cell_type": "code",
      "source": [
        "# 데이터 불러오기\n",
        "# import pandas as pd\n",
        "# php = pd.read_csv('../datasets/penguins_classification.csv')\n",
        "# php.head()"
      ],
      "metadata": {
        "id": "jEK8_-y4QtmR"
      },
      "execution_count": null,
      "outputs": []
    },
    {
      "cell_type": "code",
      "source": [
        "# 수치형 컬럼과 자료형 컬럼 나누기\n",
        "# numerical_columns = [\n",
        "#     \"Culmen Length(mm)\", \"Culmen Depth(mm)\"\n",
        "# ]\n",
        "# catrgorical_columns = [\n",
        "#     \"Species\"\n",
        "# ]"
      ],
      "metadata": {
        "id": "_GM_T6AaQslV"
      },
      "execution_count": null,
      "outputs": []
    },
    {
      "cell_type": "code",
      "source": [
        "# 데이터 세트에서 펭귄 종류와 수 찾기\n",
        "# php[\"Species\"].value_counts()"
      ],
      "metadata": {
        "id": "Oeofjj0XHVbI"
      },
      "execution_count": null,
      "outputs": []
    },
    {
      "cell_type": "code",
      "source": [
        "# 수치형 컬럼 시각화\n",
        "# _ = php.hist(figsize=(10, 4))"
      ],
      "metadata": {
        "id": "cfnTnpCsHVYZ"
      },
      "execution_count": null,
      "outputs": []
    },
    {
      "cell_type": "code",
      "source": [
        "# class별 분포 시각화\n",
        "# import seaborn as sns\n",
        "# sns.pairplot(php, hue='Species', height=3)"
      ],
      "metadata": {
        "id": "PuG2aq0KHVWA"
      },
      "execution_count": null,
      "outputs": []
    },
    {
      "cell_type": "markdown",
      "source": [
        "# 02_Fitting_a_scikit-learn_model_on_numerical_data\n"
      ],
      "metadata": {
        "id": "QILLDyS8lFsZ"
      }
    },
    {
      "cell_type": "code",
      "source": [
        "import pandas as pd\n",
        "\n",
        "php = pd.read_csv('/content/drive/MyDrive/Colab Notebooks/adult-census-numeric.csv')"
      ],
      "metadata": {
        "id": "oPren6ialejO"
      },
      "execution_count": null,
      "outputs": []
    },
    {
      "cell_type": "code",
      "source": [
        "php.head()"
      ],
      "metadata": {
        "id": "6Fgq2A7wu4Kp"
      },
      "execution_count": null,
      "outputs": []
    },
    {
      "cell_type": "markdown",
      "source": [
        "## 데이터와 타겟 분리"
      ],
      "metadata": {
        "id": "NZ9l8TRhlec7"
      }
    },
    {
      "cell_type": "code",
      "source": [
        "target_name = \"class\"\n",
        "target = php[target_name]\n",
        "target"
      ],
      "metadata": {
        "id": "UAtIbxcvleak"
      },
      "execution_count": null,
      "outputs": []
    },
    {
      "cell_type": "code",
      "source": [
        "data = php.drop(columns=[target_name, ])\n",
        "data.head()"
      ],
      "metadata": {
        "id": "rYYNMMxgleYI"
      },
      "execution_count": null,
      "outputs": []
    },
    {
      "cell_type": "code",
      "source": [
        "data.columns"
      ],
      "metadata": {
        "id": "i8qWbmZaleVl"
      },
      "execution_count": null,
      "outputs": []
    },
    {
      "cell_type": "code",
      "source": [
        "print(f\"The dataset contains {data.shape[0]} samples and \"\n",
        "      f\"{data.shape[1]} features\")"
      ],
      "metadata": {
        "id": "Y40DhxpmleTH"
      },
      "execution_count": null,
      "outputs": []
    },
    {
      "cell_type": "markdown",
      "source": [
        "## 모델 학습 및 예측(K-NN)"
      ],
      "metadata": {
        "id": "NQExYqIDleQh"
      }
    },
    {
      "cell_type": "code",
      "source": [
        "from sklearn.neighbors import KNeighborsClassifier\n",
        "model = KNeighborsClassifier()\n",
        "model.fit(data, target)"
      ],
      "metadata": {
        "id": "gdweZH2EleOD"
      },
      "execution_count": null,
      "outputs": []
    },
    {
      "cell_type": "code",
      "source": [
        "target_predicted = model.predict(data)"
      ],
      "metadata": {
        "id": "ty7KqMc7leI8"
      },
      "execution_count": null,
      "outputs": []
    },
    {
      "cell_type": "code",
      "source": [
        "target_predicted[:5]"
      ],
      "metadata": {
        "id": "qwlhllmwybIY"
      },
      "execution_count": null,
      "outputs": []
    },
    {
      "cell_type": "code",
      "source": [
        "target[:5]"
      ],
      "metadata": {
        "id": "BFOKAcIHybE2"
      },
      "execution_count": null,
      "outputs": []
    },
    {
      "cell_type": "code",
      "source": [
        "target[:5] == target_predicted[:5]"
      ],
      "metadata": {
        "id": "WupOn6AsybCF"
      },
      "execution_count": null,
      "outputs": []
    },
    {
      "cell_type": "code",
      "source": [
        "print(f\"Number of correct prediction: \"\n",
        "      f\"{(target[:5] == target_predicted[:5]).sum()} / 5\")"
      ],
      "metadata": {
        "id": "ua9ViwVjya_L"
      },
      "execution_count": null,
      "outputs": []
    },
    {
      "cell_type": "markdown",
      "source": [
        "- 첫 번째 예측이 틀린 것을 알 수가 있음"
      ],
      "metadata": {
        "id": "TYjEHcFgya8U"
      }
    },
    {
      "cell_type": "code",
      "source": [
        "(target == target_predicted).mean()"
      ],
      "metadata": {
        "id": "uxmr80naya5n"
      },
      "execution_count": null,
      "outputs": []
    },
    {
      "cell_type": "markdown",
      "source": [
        "- 약 82% 정확도"
      ],
      "metadata": {
        "id": "2rNr6Cyzya3B"
      }
    },
    {
      "cell_type": "markdown",
      "source": [
        "## Train-test data split"
      ],
      "metadata": {
        "id": "1W8dl8zDya0H"
      }
    },
    {
      "cell_type": "code",
      "source": [
        "php_test = pd.read_csv('/content/drive/MyDrive/Colab Notebooks/adult-census-numeric-test.csv')\n",
        "php_test.head()"
      ],
      "metadata": {
        "id": "awSHpY3JyaxU"
      },
      "execution_count": null,
      "outputs": []
    },
    {
      "cell_type": "code",
      "source": [
        "target_test = php_test[target_name]\n",
        "data_test = php_test.drop(columns=[target_name, ])"
      ],
      "metadata": {
        "id": "uJBsaNbX1pam"
      },
      "execution_count": null,
      "outputs": []
    },
    {
      "cell_type": "code",
      "source": [
        "print(f\"The testing dataset contains {data_test.shape[0]} samples and \"\n",
        "      f\"{data_test.shape[1]} features\")"
      ],
      "metadata": {
        "id": "HdO-KFWL1pXE"
      },
      "execution_count": null,
      "outputs": []
    },
    {
      "cell_type": "code",
      "source": [
        "accuracy = model.score(data_test, target_test)\n",
        "model_name = model.__class__.__name__\n",
        "\n",
        "print(f\"The test accuracy using a {model_name} is \"\n",
        "      f\"{accuracy:.3f}\")"
      ],
      "metadata": {
        "id": "jp5NX5Cl1pT1"
      },
      "execution_count": null,
      "outputs": []
    },
    {
      "cell_type": "markdown",
      "source": [
        "## Working with numerical data"
      ],
      "metadata": {
        "id": "jicyQ6m41pRT"
      }
    },
    {
      "cell_type": "code",
      "source": [
        "import pandas as pd\n",
        "php = pd.read_csv('/content/drive/MyDrive/Colab Notebooks/adult-census-numeric.csv')\n",
        "php.head()"
      ],
      "metadata": {
        "id": "RoBociVk1pOh"
      },
      "execution_count": null,
      "outputs": []
    },
    {
      "cell_type": "code",
      "source": [
        "# 분리\n",
        "data, target = php.drop(columns='class'), php['class']\n"
      ],
      "metadata": {
        "id": "YeBoNjhX1pMC"
      },
      "execution_count": null,
      "outputs": []
    },
    {
      "cell_type": "code",
      "source": [
        "data.head()"
      ],
      "metadata": {
        "id": "NleWI0ka1pJi"
      },
      "execution_count": null,
      "outputs": []
    },
    {
      "cell_type": "code",
      "source": [
        "target"
      ],
      "metadata": {
        "id": "sNb6wE9w9oYM"
      },
      "execution_count": null,
      "outputs": []
    },
    {
      "cell_type": "markdown",
      "source": [
        "### Identify numerical data"
      ],
      "metadata": {
        "id": "14ost5M19oUr"
      }
    },
    {
      "cell_type": "code",
      "source": [
        "data.dtypes"
      ],
      "metadata": {
        "id": "cOGeVXq39oSD"
      },
      "execution_count": null,
      "outputs": []
    },
    {
      "cell_type": "code",
      "source": [
        "data.dtypes.unique()"
      ],
      "metadata": {
        "id": "HgnPcMIK9oPo"
      },
      "execution_count": null,
      "outputs": []
    },
    {
      "cell_type": "code",
      "source": [
        "data.head()"
      ],
      "metadata": {
        "id": "0NYBHyN49oNC"
      },
      "execution_count": null,
      "outputs": []
    },
    {
      "cell_type": "code",
      "source": [
        "numerical_columns = ['age','capital-gain','capital-loss','hours-per-week']\n",
        "data[numerical_columns].head()"
      ],
      "metadata": {
        "id": "AMrHsxHW9oKW"
      },
      "execution_count": null,
      "outputs": []
    },
    {
      "cell_type": "markdown",
      "source": [
        "- 데이터 세트를 숫자열로만 제한했으므로 이 숫자를 분석하여\n",
        "숫자가 나타내는 것을 파악할 수 있습니다.\n",
        "- 두 가지 사용 유형을 식별할 수 있는데\n",
        "첫 번째 열인 'age'는 설명이 필요없고 값이 연속적이라는 것을 알 수 있습니다.\n",
        "즉, 주어진 범위에서 임의의 숫자를 사용할 수 있습니다.\n",
        "이 범위가 무엇인지 알아보겠습니다."
      ],
      "metadata": {
        "id": "_8x5xDnN9oH6"
      }
    },
    {
      "cell_type": "code",
      "source": [
        "data['age'].describe()"
      ],
      "metadata": {
        "id": "AN1aD2_L9oFh"
      },
      "execution_count": null,
      "outputs": []
    },
    {
      "cell_type": "code",
      "source": [
        "data_numeric = data[numerical_columns]"
      ],
      "metadata": {
        "id": "lu44xz4b9oCs"
      },
      "execution_count": null,
      "outputs": []
    },
    {
      "cell_type": "markdown",
      "source": [
        "### Train-test split the dataset"
      ],
      "metadata": {
        "id": "BT92hKp-9oAJ"
      }
    },
    {
      "cell_type": "code",
      "source": [
        "from sklearn.model_selection import train_test_split\n",
        "data_train, data_test, target_train, target_test = train_test_split(\n",
        "    data_numeric, target, random_state=42, test_size=0.25)"
      ],
      "metadata": {
        "id": "q7iBTzQF9n9q"
      },
      "execution_count": null,
      "outputs": []
    },
    {
      "cell_type": "markdown",
      "source": [
        "- scikit-learn에서 random_state 매개변수를 설정하면\n",
        "난수 생성기를 사용할 때 결정론적 결과를 얻을 수 있습니다.\n",
        "\n",
        "- train_test_split의 경우 무작위성은 데이터 셔플링에서 비롯되며,\n",
        "이는 데이터 세트가 train 과 test set로 분할되는 방식을 결정합니다."
      ],
      "metadata": {
        "id": "gQZuGw-J9n7D"
      }
    },
    {
      "cell_type": "markdown",
      "source": [
        "- train_test_split 함수를 호출할 때 테스트 세트에 샘플의 25%를 보유하고\n",
        "나머지 샘플(75%)을 훈련 세트에서 사용할 수 있도록 지정하였습니다.\n"
      ],
      "metadata": {
        "id": "KRtUXUpC9n4d"
      }
    },
    {
      "cell_type": "code",
      "source": [
        "print(f\"Number of samples in testing: {data_test.shape[0]} => \"\n",
        "      f\"{data_test.shape[0] / data_numeric.shape[0] * 100:.1f}% of the\"\n",
        "      f\" original set\")"
      ],
      "metadata": {
        "id": "4ZePqF_CB4A3"
      },
      "execution_count": null,
      "outputs": []
    },
    {
      "cell_type": "code",
      "source": [
        "print(f\"Number of samples in training: {data_train.shape[0]} => \"\n",
        "      f\"{data_train.shape[0] / data_numeric.shape[0] * 100:.1f}% of the\"\n",
        "      f\" original set\")"
      ],
      "metadata": {
        "id": "w5d6M_axB3-S"
      },
      "execution_count": null,
      "outputs": []
    },
    {
      "cell_type": "code",
      "source": [
        "# to display nice model diagram\n",
        "from sklearn import set_config\n",
        "set_config(display='diagram')"
      ],
      "metadata": {
        "id": "sjDzCNfZB376"
      },
      "execution_count": null,
      "outputs": []
    },
    {
      "cell_type": "code",
      "source": [
        "from sklearn.linear_model import LogisticRegression\n",
        "\n",
        "model = LogisticRegression()"
      ],
      "metadata": {
        "id": "Ga4pVFA_B35h"
      },
      "execution_count": null,
      "outputs": []
    },
    {
      "cell_type": "code",
      "source": [
        "model.fit(data_train, target_train)"
      ],
      "metadata": {
        "id": "DCToHheaB33I"
      },
      "execution_count": null,
      "outputs": []
    },
    {
      "cell_type": "code",
      "source": [
        "accuracy = model.score(data_test, target_test)\n",
        "print(f\"Accuracy of logistic regression: {accuracy:.3f}\")"
      ],
      "metadata": {
        "id": "kn5RH_7CB30x"
      },
      "execution_count": null,
      "outputs": []
    },
    {
      "cell_type": "markdown",
      "source": [
        "- 약 80% 정도의 확률로 로지스틱 회귀분석을 통해 사람의 적정 소득을 예측하였습니다.\n",
        " "
      ],
      "metadata": {
        "id": "BThTfkV5CO-u"
      }
    }
  ]
}