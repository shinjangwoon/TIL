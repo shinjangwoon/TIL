{
  "nbformat": 4,
  "nbformat_minor": 0,
  "metadata": {
    "kernelspec": {
      "display_name": "Python 3",
      "language": "python",
      "name": "python3"
    },
    "language_info": {
      "codemirror_mode": {
        "name": "ipython",
        "version": 3
      },
      "file_extension": ".py",
      "mimetype": "text/x-python",
      "name": "python",
      "nbconvert_exporter": "python",
      "pygments_lexer": "ipython3",
      "version": "3.8.3"
    },
    "colab": {
      "name": "Original_Upgrade_Magic_formula.ipynb",
      "provenance": [],
      "include_colab_link": true
    }
  },
  "cells": [
    {
      "cell_type": "markdown",
      "metadata": {
        "id": "view-in-github",
        "colab_type": "text"
      },
      "source": [
        "<a href=\"https://colab.research.google.com/github/shinjangwoon/TIL/blob/master/Original_Upgrade_Magic_formula.ipynb\" target=\"_parent\"><img src=\"https://colab.research.google.com/assets/colab-badge.svg\" alt=\"Open In Colab\"/></a>"
      ]
    },
    {
      "cell_type": "markdown",
      "metadata": {
        "id": "mQ8kuJUQzXIf"
      },
      "source": [
        "# 오리지널 및 업그레이드 마법공식"
      ]
    },
    {
      "cell_type": "markdown",
      "metadata": {
        "id": "aH7z6fwrzXIi"
      },
      "source": [
        "|버전|레벨|스타일|기대CAGR|종목개수|매수전략|\n",
        "|:--:|:--:|:--:|:--:|:--:|:--:|\n",
        "|**오리지널**|초급|밸류+퀄리티|10~15%|20 ~ 30개|- EV/EBITDA & ROC 순위 매김 - 통합 순위 작성|\n",
        "|**업그레이드**|중급|밸류+퀄리티|15~20%|20 ~ 30개|- EV/EBITDA & GP/A 순위 매김 - 통합 순위 작성|"
      ]
    },
    {
      "cell_type": "markdown",
      "metadata": {
        "id": "vD1H7EO9zXIj"
      },
      "source": [
        ""
      ]
    },
    {
      "cell_type": "markdown",
      "metadata": {
        "id": "0KHDmaYxzXIj"
      },
      "source": [
        "# Basic Setting"
      ]
    },
    {
      "cell_type": "markdown",
      "metadata": {
        "id": "SRcLOiJtzXIj"
      },
      "source": [
        "앞으로는 ```Fn Guide```의 웹 페이지에서 크롤링을 해옵니다. ```투자지표``` 페이지와 ```재무제표``` 페이지의 기본 URL은 아래와 같습니다."
      ]
    },
    {
      "cell_type": "code",
      "metadata": {
        "id": "-sDuaJXWzXIk"
      },
      "source": [
        "# Parsing URL\n",
        "INDEX_URL = 'http://comp.fnguide.com/SVO2/ASP/SVD_Invest.asp?pGB=1&gicode=A%s&cID=&MenuYn=Y&ReportGB=&NewMenuID=105&stkGb=701'\n",
        "FS_URL = 'http://comp.fnguide.com/SVO2/ASP/SVD_Finance.asp?pGB=1&gicode=A%s&cID=&MenuYn=Y&ReportGB=&NewMenuID=103&stkGb=701'\n"
      ],
      "execution_count": null,
      "outputs": []
    },
    {
      "cell_type": "markdown",
      "metadata": {
        "id": "7AWDGD9YzXIk"
      },
      "source": [
        "더불어 새로운 크롤링 방법을 사용하기 위해 ```BeautifulSoup```과 ```urllib``` 모듈을 가져옵니다."
      ]
    },
    {
      "cell_type": "code",
      "metadata": {
        "id": "hI-aYHYlzXIl"
      },
      "source": [
        "import pandas as pd\n",
        "from bs4 import BeautifulSoup\n",
        "from urllib import request as rq\n",
        "from tqdm import tqdm"
      ],
      "execution_count": null,
      "outputs": []
    },
    {
      "cell_type": "markdown",
      "metadata": {
        "id": "b4A8XjZrzXIl"
      },
      "source": [
        "예시 코드로 ```카카오```의 코드를 사용합니다."
      ]
    },
    {
      "cell_type": "code",
      "metadata": {
        "id": "_sgRBG76zXIl"
      },
      "source": [
        "# example code\n",
        "code = '035720' # Kakao"
      ],
      "execution_count": null,
      "outputs": []
    },
    {
      "cell_type": "markdown",
      "metadata": {
        "id": "EoMQbZ-BzXIm"
      },
      "source": [
        "# Get EV/EBITDA"
      ]
    },
    {
      "cell_type": "markdown",
      "metadata": {
        "id": "KmvQgvjVzXIm"
      },
      "source": [
        "가장 먼저 ```EV/EBITDA``` 데이터를 크롤링 해옵니다. 이를 위해 ```URL```에 들어가 해당 ```html``` 코드를 읽어오고 ```BeautifulSoup```을 사용해 구조화시키는 작업을 합니다. 특별히 ```html.parser``` 기능을 사용해 ```index_soup``` 변수로 지정합니다."
      ]
    },
    {
      "cell_type": "code",
      "metadata": {
        "id": "RxpLaTr-zXIm"
      },
      "source": [
        "index_html = rq.urlopen(INDEX_URL % code).read()\n",
        "index_soup = BeautifulSoup(index_html, 'html.parser')"
      ],
      "execution_count": null,
      "outputs": []
    },
    {
      "cell_type": "markdown",
      "metadata": {
        "id": "u8sIby1dzXIm"
      },
      "source": [
        "크롤링 해온 모든 ```html``` 코드 중에서 우리가 필요한 ```EV/EBITDA``` 수치를 가리키는 ```tag```만 가져옵니다. 웹 페이지에 들어가 ```검사(Inspeciton)```을 눌러 해당 수치를 가리키는 ```tag```를 찾아냅니다.\n",
        "\n",
        "```tag```를 찾을 때 고유한 ```id```를 찾는 것이 중요합니다. 해당 수치가 속한 ```표(table)``` 또는 ```행(row)```의 ```id``` 값을 ```find``` 함수를 사용해 찾은 후 특정 ```데이터 값(td)```을 ```find_all``` 함수를 사용해 모두 찾아냅니다. 이 리스트를 ```ev_cells``` 변수로 지정합니다."
      ]
    },
    {
      "cell_type": "code",
      "metadata": {
        "id": "nCyW8E3ZzXIm"
      },
      "source": [
        "ev_cells = index_soup.find('tr', {'id':'p_grid1_14'}).find_all('td')"
      ],
      "execution_count": null,
      "outputs": []
    },
    {
      "cell_type": "markdown",
      "metadata": {
        "id": "st5raQ-1zXIn"
      },
      "source": [
        "해당 리스트 중 우리가 필요한 가장 최신의 수치를 ```slicing```한 후 ```tag```를 제외한 ```문자열``` 값만 도출하기 위해 ```.string```을 사용합니다."
      ]
    },
    {
      "cell_type": "code",
      "metadata": {
        "id": "Cc8cek88zXIn"
      },
      "source": [
        "ev = float(ev_cells[3].string)"
      ],
      "execution_count": null,
      "outputs": []
    },
    {
      "cell_type": "markdown",
      "metadata": {
        "id": "fkMzCbZszXIn"
      },
      "source": [
        "# Get Gross Profit"
      ]
    },
    {
      "cell_type": "markdown",
      "metadata": {
        "id": "SPb1v5WSzXIn"
      },
      "source": [
        "```INDEX_URL```과 마찬가지로 ```FS_URL```을 구조화된 형태로 크롤링 해옵니다."
      ]
    },
    {
      "cell_type": "code",
      "metadata": {
        "id": "YkUnlQv8zXIn"
      },
      "source": [
        "fs_html = rq.urlopen(FS_URL % code).read()\n",
        "fs_soup = BeautifulSoup(fs_html, 'html.parser')"
      ],
      "execution_count": null,
      "outputs": []
    },
    {
      "cell_type": "markdown",
      "metadata": {
        "id": "GlVoKaiDzXIn"
      },
      "source": [
        "이번에는 고유한 값을 가진 ```id```가 ```divSonikY```라는 ```div(division)```에 속해있으므로 ```find```를 통해 찾아냅니다. 이후 ```class```가 ```rwf```라는 값을 가진 ```tr(table row ; 행)```을 찾아냅니다."
      ]
    },
    {
      "cell_type": "code",
      "metadata": {
        "id": "EfKxTJ2ezXIn"
      },
      "source": [
        "gp_cells = fs_soup.find('div', {'id':'divSonikY'}).find_all('tr', {'class':'rwf'})"
      ],
      "execution_count": null,
      "outputs": []
    },
    {
      "cell_type": "markdown",
      "metadata": {
        "id": "m2eaTiRjzXIn"
      },
      "source": [
        "해당 ```Tag``` 데이터 중 우리가 원하는 수치들만 가져오기 위해 ```for 반복문```을 사용해 비어있는 ```리스트```에 담습니다."
      ]
    },
    {
      "cell_type": "code",
      "metadata": {
        "id": "p-oK9YwJzXIn"
      },
      "source": [
        "gp_list = []\n",
        "\n",
        "for cell in gp_cells[2]:\n",
        "    if cell != '\\n':\n",
        "        gp_list.append(cell.string)"
      ],
      "execution_count": null,
      "outputs": []
    },
    {
      "cell_type": "markdown",
      "metadata": {
        "id": "Y8p9ePt8zXIo"
      },
      "source": [
        "```','``` 가 포함된 문자열은 실수형으로 변환되지 않으므로 ```replace``` 함수를 사용해 ```','```를 제거한 후 실수형 데이터로 변환합니다."
      ]
    },
    {
      "cell_type": "code",
      "metadata": {
        "id": "lKI1Biq3zXIo"
      },
      "source": [
        "gp = float(gp_list[4].replace(',',''))"
      ],
      "execution_count": null,
      "outputs": []
    },
    {
      "cell_type": "markdown",
      "metadata": {
        "id": "c5G8yiBLzXIo"
      },
      "source": [
        "# Get Asset"
      ]
    },
    {
      "cell_type": "markdown",
      "metadata": {
        "id": "BszXW2SmzXIo"
      },
      "source": [
        "```매출총이익```과 마찬가지로 ```자산``` 데이터 역시 같은 방법을 사용해 크롤링 합니다."
      ]
    },
    {
      "cell_type": "code",
      "metadata": {
        "id": "OpKfIbPjzXIo"
      },
      "source": [
        "asset_cells = fs_soup.find('div', {'id':'divDaechaY'}).find_all('tr', {'class':'rwf'})\n",
        "\n",
        "asset_list = []\n",
        "\n",
        "for cell in asset_cells[0]:\n",
        "    if cell != '\\n':\n",
        "        asset_list.append(cell.string)"
      ],
      "execution_count": null,
      "outputs": []
    },
    {
      "cell_type": "code",
      "metadata": {
        "id": "Ybn_Fqc2zXIo"
      },
      "source": [
        "asset = float(asset_list[4].replace(',',''))"
      ],
      "execution_count": null,
      "outputs": []
    },
    {
      "cell_type": "markdown",
      "metadata": {
        "id": "4XwpOJtjzXIo"
      },
      "source": [
        "# Get All Stock Code"
      ]
    },
    {
      "cell_type": "markdown",
      "metadata": {
        "id": "ScBLJ-f-zXIo"
      },
      "source": [
        "```pandas```를 사용해 ```company.csv``` 파일을 읽어옵니다."
      ]
    },
    {
      "cell_type": "code",
      "metadata": {
        "id": "LXM8CGGmzXIo"
      },
      "source": [
        "company = pd.read_csv('company.csv')\n",
        "# company.head()"
      ],
      "execution_count": null,
      "outputs": []
    },
    {
      "cell_type": "markdown",
      "metadata": {
        "id": "zYIjm_3EzXIo"
      },
      "source": [
        "각 회사의 종목코드를 리스트에 담습니다."
      ]
    },
    {
      "cell_type": "code",
      "metadata": {
        "id": "8vicU4YSzXIo"
      },
      "source": [
        "code_list = company['종목코드'].dropna()"
      ],
      "execution_count": null,
      "outputs": []
    },
    {
      "cell_type": "code",
      "metadata": {
        "id": "C8cI9TPWzXIp",
        "outputId": "9ad30b82-5c31-4777-d2a9-a86ba4dc70dd"
      },
      "source": [
        "code_list.head()"
      ],
      "execution_count": null,
      "outputs": [
        {
          "data": {
            "text/plain": [
              "0    000155\n",
              "1    00088K\n",
              "2    010955\n",
              "3    051915\n",
              "4    071055\n",
              "Name: 종목코드, dtype: object"
            ]
          },
          "execution_count": 34,
          "metadata": {},
          "output_type": "execute_result"
        }
      ]
    },
    {
      "cell_type": "code",
      "metadata": {
        "id": "fZMpucl3zXIp"
      },
      "source": [
        "sample_code_list = code_list[700:800]"
      ],
      "execution_count": null,
      "outputs": []
    },
    {
      "cell_type": "markdown",
      "metadata": {
        "id": "AXveth-SzXIp"
      },
      "source": [
        "# Create Index DataFrame"
      ]
    },
    {
      "cell_type": "markdown",
      "metadata": {
        "id": "ivK0kPgazXIp"
      },
      "source": [
        "사람이 2000개 넘는 종목 하나하나 모두 크롤링 해오지 않고 컴퓨터가 대신 수행할 수 있도록 ```함수```를 사용하겠습니다. 우리가 만드는 ```filteringDf```라는 함수는 크게 1) 지표 크롤링 2) 크롤링 데이터 저장 3) DataFrame 변환 4) 오류처리 의 네가지 기능을 수행합니다. "
      ]
    },
    {
      "cell_type": "code",
      "metadata": {
        "id": "z5U0IFEVzXIp"
      },
      "source": [
        "# 함수를 선언합니다.\n",
        "def filteringDf(li):\n",
        "    \n",
        "    # 크롤링 해온 데이터를 저장할 비어있는 딕셔너리를 만듭니다.\n",
        "    result = {}\n",
        "    \n",
        "    # 2000개 넘는 종목의 코드를 하나하나 반복합니다.\n",
        "    for code in tqdm(li):\n",
        "        \n",
        "        # 오류 처리\n",
        "        try:\n",
        "            # get company name : company.csv에서 종목코드에 매칭되는 회사명을 가져옵니다.\n",
        "            name = company[company['종목코드'] == code]['회사명'].values[0]\n",
        "\n",
        "            # set URL : 크롤링에 필요한 URL을 코드가 바뀔 때마다 세팅합니다.\n",
        "            index_html = rq.urlopen(INDEX_URL % code).read()\n",
        "            index_soup = BeautifulSoup(index_html, 'html.parser')\n",
        "\n",
        "            fs_html = rq.urlopen(FS_URL % code).read()\n",
        "            fs_soup = BeautifulSoup(fs_html, 'html.parser')\n",
        "\n",
        "            # get EV/EBITDA : 각 종목코드에 맞는 EV/EBITDA 데이터를 크롤링합니다.\n",
        "            ev_cells = index_soup.find('tr', {'id':'p_grid1_14'}).find_all('td')\n",
        "            ev = float(ev_cells[3].string)\n",
        "\n",
        "            # get Gross_Profit : 각 종목코드에 맞는 Gross_Profit 데이터를 크롤링합니다.\n",
        "            gp_cells = fs_soup.find('div', {'id':'divSonikY'}).find_all('tr', {'class':'rwf'})\n",
        "\n",
        "            gp_list = []\n",
        "\n",
        "            for cell in gp_cells[2]:\n",
        "                if cell != '\\n':\n",
        "                    gp_list.append(cell.string)\n",
        "\n",
        "            gp = float(gp_list[4].replace(',',''))\n",
        "\n",
        "            # get Asset : 각 종목코드에 맞는 Asset 데이터를 크롤링합니다.\n",
        "            asset_cells = fs_soup.find('div', {'id':'divDaechaY'}).find_all('tr', {'class':'rwf'})\n",
        "\n",
        "            asset_list = []\n",
        "\n",
        "            for cell in asset_cells[0]:\n",
        "                if cell != '\\n':\n",
        "                    asset_list.append(cell.string)\n",
        "\n",
        "            asset = float(asset_list[4].replace(',',''))\n",
        "            \n",
        "            # 코드가 바뀌기 전에 크롤링 한 데이터를 reuslt 딕셔너리에 저장합니다.\n",
        "            result[name] = [code, ev, gp, asset]\n",
        "        \n",
        "        # 오류 처리 (발생 가능한 모든 오류를 처리합니다.)\n",
        "        except (TypeError, IndexError, AttributeError, ValueError) as err :\n",
        "            \n",
        "            # 오류가 발생할 경우 pass로 넘어갑니다.\n",
        "            pass\n",
        "        \n",
        "    # create DataFrame : 딕셔너리 형태로 되어있는 크롤링 데이터를 Pandas DataFrame으로 변환합니다.\n",
        "    result = pd.DataFrame(result)\n",
        "    \n",
        "    # 우리가 보기 좋은 형태로 DataFrame을 전치(transpose) 합니다.\n",
        "    result = result.transpose()\n",
        "    \n",
        "    # 각 칼럼의 이름을 명명합니다.\n",
        "    column_names = ['Code', 'EV/EBITDA', ' G/P', 'Asset']\n",
        "    result.columns = column_names\n",
        "    \n",
        "    # 최종적으로 우리가 만든 DataFrame을 반환/도출 합니다.\n",
        "    return result"
      ],
      "execution_count": null,
      "outputs": []
    },
    {
      "cell_type": "markdown",
      "metadata": {
        "id": "wb9XyMehzXIq"
      },
      "source": [
        "위에서 선언한 함수에 모든 종목의 코드가 담긴 ```code_list```를 넣어 실행해보겠습니다. 그리고 그 결과값을 ```result```라는 변수에 담도록 하겠습니다. 앞으로 우리는 ```result```를 사용해서 원하는 연산 또는 가공을 할 수 있습니다."
      ]
    },
    {
      "cell_type": "code",
      "metadata": {
        "scrolled": true,
        "id": "qfUJ0kIqzXIq",
        "outputId": "c5182168-bffc-4778-c7c4-cd78bf19e9b0"
      },
      "source": [
        "result = filteringDf(sample_code_list)\n",
        "result.head()"
      ],
      "execution_count": null,
      "outputs": [
        {
          "name": "stderr",
          "output_type": "stream",
          "text": [
            "100%|██████████| 100/100 [01:42<00:00,  1.02s/it]\n"
          ]
        },
        {
          "data": {
            "text/html": [
              "<div>\n",
              "<style scoped>\n",
              "    .dataframe tbody tr th:only-of-type {\n",
              "        vertical-align: middle;\n",
              "    }\n",
              "\n",
              "    .dataframe tbody tr th {\n",
              "        vertical-align: top;\n",
              "    }\n",
              "\n",
              "    .dataframe thead th {\n",
              "        text-align: right;\n",
              "    }\n",
              "</style>\n",
              "<table border=\"1\" class=\"dataframe\">\n",
              "  <thead>\n",
              "    <tr style=\"text-align: right;\">\n",
              "      <th></th>\n",
              "      <th>Code</th>\n",
              "      <th>EV/EBITDA</th>\n",
              "      <th>G/P</th>\n",
              "      <th>Asset</th>\n",
              "    </tr>\n",
              "  </thead>\n",
              "  <tbody>\n",
              "    <tr>\n",
              "      <th>신일산업</th>\n",
              "      <td>002700</td>\n",
              "      <td>45.03</td>\n",
              "      <td>380</td>\n",
              "      <td>1396</td>\n",
              "    </tr>\n",
              "    <tr>\n",
              "      <th>삼양식품</th>\n",
              "      <td>003230</td>\n",
              "      <td>7.53</td>\n",
              "      <td>1517</td>\n",
              "      <td>5505</td>\n",
              "    </tr>\n",
              "    <tr>\n",
              "      <th>NI스틸</th>\n",
              "      <td>008260</td>\n",
              "      <td>6.38</td>\n",
              "      <td>223</td>\n",
              "      <td>2730</td>\n",
              "    </tr>\n",
              "    <tr>\n",
              "      <th>대동공업</th>\n",
              "      <td>000490</td>\n",
              "      <td>9.17</td>\n",
              "      <td>1604</td>\n",
              "      <td>9452</td>\n",
              "    </tr>\n",
              "    <tr>\n",
              "      <th>오리온홀딩스</th>\n",
              "      <td>001800</td>\n",
              "      <td>4.93</td>\n",
              "      <td>7421</td>\n",
              "      <td>45316</td>\n",
              "    </tr>\n",
              "  </tbody>\n",
              "</table>\n",
              "</div>"
            ],
            "text/plain": [
              "          Code EV/EBITDA   G/P  Asset\n",
              "신일산업    002700     45.03   380   1396\n",
              "삼양식품    003230      7.53  1517   5505\n",
              "NI스틸    008260      6.38   223   2730\n",
              "대동공업    000490      9.17  1604   9452\n",
              "오리온홀딩스  001800      4.93  7421  45316"
            ]
          },
          "execution_count": 37,
          "metadata": {},
          "output_type": "execute_result"
        }
      ]
    },
    {
      "cell_type": "markdown",
      "metadata": {
        "id": "7ZyRogEHzXIq"
      },
      "source": [
        "```result```라는 변수에 담은 ```원본 데이터```는 그대로 놔두고 ```복사본```을 만듭니다. 원본 데이터를 가공해 작업하다가 다시 원본 데이터를 사용하고 싶을 경우 오랜 시간 크롤링 해와야 하는 단점이 있습니다. 앞으로 우리는 ```.copy()```를 사용해 ```복사본```을 만들고 이를 가공하도록 하겠습니다."
      ]
    },
    {
      "cell_type": "code",
      "metadata": {
        "id": "p4DOCI7_zXIq",
        "outputId": "b964fdfc-d48a-40b4-b5fc-ed6e3d5ee9c1"
      },
      "source": [
        "copy_df = result.copy()\n",
        "copy_df.head()"
      ],
      "execution_count": null,
      "outputs": [
        {
          "data": {
            "text/html": [
              "<div>\n",
              "<style scoped>\n",
              "    .dataframe tbody tr th:only-of-type {\n",
              "        vertical-align: middle;\n",
              "    }\n",
              "\n",
              "    .dataframe tbody tr th {\n",
              "        vertical-align: top;\n",
              "    }\n",
              "\n",
              "    .dataframe thead th {\n",
              "        text-align: right;\n",
              "    }\n",
              "</style>\n",
              "<table border=\"1\" class=\"dataframe\">\n",
              "  <thead>\n",
              "    <tr style=\"text-align: right;\">\n",
              "      <th></th>\n",
              "      <th>Code</th>\n",
              "      <th>EV/EBITDA</th>\n",
              "      <th>G/P</th>\n",
              "      <th>Asset</th>\n",
              "    </tr>\n",
              "  </thead>\n",
              "  <tbody>\n",
              "    <tr>\n",
              "      <th>신일산업</th>\n",
              "      <td>002700</td>\n",
              "      <td>45.03</td>\n",
              "      <td>35</td>\n",
              "      <td>895</td>\n",
              "    </tr>\n",
              "    <tr>\n",
              "      <th>삼양식품</th>\n",
              "      <td>003230</td>\n",
              "      <td>7.53</td>\n",
              "      <td>478</td>\n",
              "      <td>4959</td>\n",
              "    </tr>\n",
              "    <tr>\n",
              "      <th>NI스틸</th>\n",
              "      <td>008260</td>\n",
              "      <td>6.38</td>\n",
              "      <td>56</td>\n",
              "      <td>2656</td>\n",
              "    </tr>\n",
              "    <tr>\n",
              "      <th>대동공업</th>\n",
              "      <td>000490</td>\n",
              "      <td>9.17</td>\n",
              "      <td>520</td>\n",
              "      <td>9031</td>\n",
              "    </tr>\n",
              "    <tr>\n",
              "      <th>오리온홀딩스</th>\n",
              "      <td>001800</td>\n",
              "      <td>4.93</td>\n",
              "      <td>2504</td>\n",
              "      <td>44239</td>\n",
              "    </tr>\n",
              "  </tbody>\n",
              "</table>\n",
              "</div>"
            ],
            "text/plain": [
              "          Code EV/EBITDA   G/P  Asset\n",
              "신일산업    002700     45.03    35    895\n",
              "삼양식품    003230      7.53   478   4959\n",
              "NI스틸    008260      6.38    56   2656\n",
              "대동공업    000490      9.17   520   9031\n",
              "오리온홀딩스  001800      4.93  2504  44239"
            ]
          },
          "execution_count": 25,
          "metadata": {},
          "output_type": "execute_result"
        }
      ]
    },
    {
      "cell_type": "markdown",
      "metadata": {
        "id": "RdzcqzZLzXIq"
      },
      "source": [
        "# Searching Stocks"
      ]
    },
    {
      "cell_type": "markdown",
      "metadata": {
        "id": "7cCF8fDezXIq"
      },
      "source": [
        "우리에게 필요한 칼럼만 정렬해서 볼 수 있습니다."
      ]
    },
    {
      "cell_type": "code",
      "metadata": {
        "id": "FPcKg-IGzXIq",
        "outputId": "1f39d18a-0747-4f48-bb84-ab1f0a0b9065"
      },
      "source": [
        "copy_df.columns = ['Code', 'EV/EBITDA', 'GP', 'Asset']\n",
        "copy_df"
      ],
      "execution_count": null,
      "outputs": [
        {
          "data": {
            "text/html": [
              "<div>\n",
              "<style scoped>\n",
              "    .dataframe tbody tr th:only-of-type {\n",
              "        vertical-align: middle;\n",
              "    }\n",
              "\n",
              "    .dataframe tbody tr th {\n",
              "        vertical-align: top;\n",
              "    }\n",
              "\n",
              "    .dataframe thead th {\n",
              "        text-align: right;\n",
              "    }\n",
              "</style>\n",
              "<table border=\"1\" class=\"dataframe\">\n",
              "  <thead>\n",
              "    <tr style=\"text-align: right;\">\n",
              "      <th></th>\n",
              "      <th>Code</th>\n",
              "      <th>EV/EBITDA</th>\n",
              "      <th>GP</th>\n",
              "      <th>Asset</th>\n",
              "    </tr>\n",
              "  </thead>\n",
              "  <tbody>\n",
              "    <tr>\n",
              "      <th>신일산업</th>\n",
              "      <td>002700</td>\n",
              "      <td>45.03</td>\n",
              "      <td>35</td>\n",
              "      <td>895</td>\n",
              "    </tr>\n",
              "    <tr>\n",
              "      <th>삼양식품</th>\n",
              "      <td>003230</td>\n",
              "      <td>7.53</td>\n",
              "      <td>478</td>\n",
              "      <td>4959</td>\n",
              "    </tr>\n",
              "    <tr>\n",
              "      <th>NI스틸</th>\n",
              "      <td>008260</td>\n",
              "      <td>6.38</td>\n",
              "      <td>56</td>\n",
              "      <td>2656</td>\n",
              "    </tr>\n",
              "    <tr>\n",
              "      <th>대동공업</th>\n",
              "      <td>000490</td>\n",
              "      <td>9.17</td>\n",
              "      <td>520</td>\n",
              "      <td>9031</td>\n",
              "    </tr>\n",
              "    <tr>\n",
              "      <th>오리온홀딩스</th>\n",
              "      <td>001800</td>\n",
              "      <td>4.93</td>\n",
              "      <td>2504</td>\n",
              "      <td>44239</td>\n",
              "    </tr>\n",
              "    <tr>\n",
              "      <th>깨끗한나라</th>\n",
              "      <td>004540</td>\n",
              "      <td>9.52</td>\n",
              "      <td>384</td>\n",
              "      <td>5557</td>\n",
              "    </tr>\n",
              "    <tr>\n",
              "      <th>태원물산</th>\n",
              "      <td>001420</td>\n",
              "      <td>46.07</td>\n",
              "      <td>-0</td>\n",
              "      <td>380</td>\n",
              "    </tr>\n",
              "    <tr>\n",
              "      <th>코오롱</th>\n",
              "      <td>002020</td>\n",
              "      <td>8.72</td>\n",
              "      <td>1680</td>\n",
              "      <td>36034</td>\n",
              "    </tr>\n",
              "    <tr>\n",
              "      <th>삼성전자</th>\n",
              "      <td>005930</td>\n",
              "      <td>6.6</td>\n",
              "      <td>205185</td>\n",
              "      <td>3.57458e+06</td>\n",
              "    </tr>\n",
              "    <tr>\n",
              "      <th>대유플러스</th>\n",
              "      <td>000300</td>\n",
              "      <td>4.18</td>\n",
              "      <td>118</td>\n",
              "      <td>4017</td>\n",
              "    </tr>\n",
              "    <tr>\n",
              "      <th>BYC</th>\n",
              "      <td>001460</td>\n",
              "      <td>6.88</td>\n",
              "      <td>132</td>\n",
              "      <td>6878</td>\n",
              "    </tr>\n",
              "    <tr>\n",
              "      <th>쌍용양회</th>\n",
              "      <td>003410</td>\n",
              "      <td>9.08</td>\n",
              "      <td>678</td>\n",
              "      <td>33175</td>\n",
              "    </tr>\n",
              "    <tr>\n",
              "      <th>SPC삼립</th>\n",
              "      <td>005610</td>\n",
              "      <td>11.17</td>\n",
              "      <td>965</td>\n",
              "      <td>11901</td>\n",
              "    </tr>\n",
              "    <tr>\n",
              "      <th>일양약품</th>\n",
              "      <td>007570</td>\n",
              "      <td>13.06</td>\n",
              "      <td>395</td>\n",
              "      <td>4405</td>\n",
              "    </tr>\n",
              "    <tr>\n",
              "      <th>한진</th>\n",
              "      <td>002320</td>\n",
              "      <td>11.13</td>\n",
              "      <td>460</td>\n",
              "      <td>35260</td>\n",
              "    </tr>\n",
              "    <tr>\n",
              "      <th>한국수출포장공업</th>\n",
              "      <td>002200</td>\n",
              "      <td>2.66</td>\n",
              "      <td>112</td>\n",
              "      <td>3143</td>\n",
              "    </tr>\n",
              "    <tr>\n",
              "      <th>현대자동차</th>\n",
              "      <td>005380</td>\n",
              "      <td>12.58</td>\n",
              "      <td>42653</td>\n",
              "      <td>1.98851e+06</td>\n",
              "    </tr>\n",
              "    <tr>\n",
              "      <th>모나미</th>\n",
              "      <td>005360</td>\n",
              "      <td>17.24</td>\n",
              "      <td>114</td>\n",
              "      <td>1834</td>\n",
              "    </tr>\n",
              "    <tr>\n",
              "      <th>한화케미칼</th>\n",
              "      <td>009830</td>\n",
              "      <td>8.7</td>\n",
              "      <td>4667</td>\n",
              "      <td>166083</td>\n",
              "    </tr>\n",
              "    <tr>\n",
              "      <th>아세아</th>\n",
              "      <td>002030</td>\n",
              "      <td>5.49</td>\n",
              "      <td>552</td>\n",
              "      <td>28592</td>\n",
              "    </tr>\n",
              "    <tr>\n",
              "      <th>롯데제과</th>\n",
              "      <td>004990</td>\n",
              "      <td>10.72</td>\n",
              "      <td>5724</td>\n",
              "      <td>155909</td>\n",
              "    </tr>\n",
              "    <tr>\n",
              "      <th>서울식품공업</th>\n",
              "      <td>004410</td>\n",
              "      <td>20.46</td>\n",
              "      <td>35</td>\n",
              "      <td>798</td>\n",
              "    </tr>\n",
              "    <tr>\n",
              "      <th>아이에이치큐</th>\n",
              "      <td>003560</td>\n",
              "      <td>6.18</td>\n",
              "      <td>220</td>\n",
              "      <td>1608</td>\n",
              "    </tr>\n",
              "    <tr>\n",
              "      <th>알보젠코리아</th>\n",
              "      <td>002250</td>\n",
              "      <td>11.12</td>\n",
              "      <td>922</td>\n",
              "      <td>2769</td>\n",
              "    </tr>\n",
              "    <tr>\n",
              "      <th>하이트진로홀딩스</th>\n",
              "      <td>000140</td>\n",
              "      <td>10.19</td>\n",
              "      <td>2314</td>\n",
              "      <td>41983</td>\n",
              "    </tr>\n",
              "    <tr>\n",
              "      <th>노루홀딩스</th>\n",
              "      <td>000320</td>\n",
              "      <td>8.5</td>\n",
              "      <td>441</td>\n",
              "      <td>10423</td>\n",
              "    </tr>\n",
              "    <tr>\n",
              "      <th>기아차</th>\n",
              "      <td>000270</td>\n",
              "      <td>4.34</td>\n",
              "      <td>22557</td>\n",
              "      <td>556865</td>\n",
              "    </tr>\n",
              "    <tr>\n",
              "      <th>효성</th>\n",
              "      <td>004800</td>\n",
              "      <td>12.41</td>\n",
              "      <td>873</td>\n",
              "      <td>66463</td>\n",
              "    </tr>\n",
              "    <tr>\n",
              "      <th>CJ</th>\n",
              "      <td>001040</td>\n",
              "      <td>6.62</td>\n",
              "      <td>20706</td>\n",
              "      <td>412164</td>\n",
              "    </tr>\n",
              "    <tr>\n",
              "      <th>두산</th>\n",
              "      <td>000150</td>\n",
              "      <td>8.73</td>\n",
              "      <td>7077</td>\n",
              "      <td>303894</td>\n",
              "    </tr>\n",
              "    <tr>\n",
              "      <th>...</th>\n",
              "      <td>...</td>\n",
              "      <td>...</td>\n",
              "      <td>...</td>\n",
              "      <td>...</td>\n",
              "    </tr>\n",
              "    <tr>\n",
              "      <th>LG</th>\n",
              "      <td>003550</td>\n",
              "      <td>10.91</td>\n",
              "      <td>6975</td>\n",
              "      <td>226349</td>\n",
              "    </tr>\n",
              "    <tr>\n",
              "      <th>동아쏘시오홀딩스</th>\n",
              "      <td>000640</td>\n",
              "      <td>10.05</td>\n",
              "      <td>565</td>\n",
              "      <td>13392</td>\n",
              "    </tr>\n",
              "    <tr>\n",
              "      <th>한국주철관공업</th>\n",
              "      <td>000970</td>\n",
              "      <td>15.87</td>\n",
              "      <td>839</td>\n",
              "      <td>3567</td>\n",
              "    </tr>\n",
              "    <tr>\n",
              "      <th>한일시멘트</th>\n",
              "      <td>003300</td>\n",
              "      <td>7.04</td>\n",
              "      <td>362</td>\n",
              "      <td>32471</td>\n",
              "    </tr>\n",
              "    <tr>\n",
              "      <th>엔피씨</th>\n",
              "      <td>004250</td>\n",
              "      <td>2.91</td>\n",
              "      <td>169</td>\n",
              "      <td>4188</td>\n",
              "    </tr>\n",
              "    <tr>\n",
              "      <th>한국유리공업</th>\n",
              "      <td>002000</td>\n",
              "      <td>10.62</td>\n",
              "      <td>554</td>\n",
              "      <td>7196</td>\n",
              "    </tr>\n",
              "    <tr>\n",
              "      <th>세아제강</th>\n",
              "      <td>003030</td>\n",
              "      <td>8.83</td>\n",
              "      <td>677</td>\n",
              "      <td>25538</td>\n",
              "    </tr>\n",
              "    <tr>\n",
              "      <th>대한전선</th>\n",
              "      <td>001440</td>\n",
              "      <td>16.3</td>\n",
              "      <td>264</td>\n",
              "      <td>12061</td>\n",
              "    </tr>\n",
              "    <tr>\n",
              "      <th>대한제당</th>\n",
              "      <td>001790</td>\n",
              "      <td>9.84</td>\n",
              "      <td>317</td>\n",
              "      <td>11531</td>\n",
              "    </tr>\n",
              "    <tr>\n",
              "      <th>삼양홀딩스</th>\n",
              "      <td>000070</td>\n",
              "      <td>9.29</td>\n",
              "      <td>1149</td>\n",
              "      <td>37676</td>\n",
              "    </tr>\n",
              "    <tr>\n",
              "      <th>세기상사</th>\n",
              "      <td>002420</td>\n",
              "      <td>164.33</td>\n",
              "      <td>-1</td>\n",
              "      <td>414</td>\n",
              "    </tr>\n",
              "    <tr>\n",
              "      <th>한국타이어월드와이드</th>\n",
              "      <td>000240</td>\n",
              "      <td>7.14</td>\n",
              "      <td>573</td>\n",
              "      <td>37226</td>\n",
              "    </tr>\n",
              "    <tr>\n",
              "      <th>대한항공</th>\n",
              "      <td>003490</td>\n",
              "      <td>7.74</td>\n",
              "      <td>1361</td>\n",
              "      <td>268602</td>\n",
              "    </tr>\n",
              "    <tr>\n",
              "      <th>동일방직</th>\n",
              "      <td>001530</td>\n",
              "      <td>6.4</td>\n",
              "      <td>526</td>\n",
              "      <td>9920</td>\n",
              "    </tr>\n",
              "    <tr>\n",
              "      <th>유한양행</th>\n",
              "      <td>000100</td>\n",
              "      <td>45.12</td>\n",
              "      <td>914</td>\n",
              "      <td>22524</td>\n",
              "    </tr>\n",
              "    <tr>\n",
              "      <th>CJ대한통운</th>\n",
              "      <td>000120</td>\n",
              "      <td>9.44</td>\n",
              "      <td>2217</td>\n",
              "      <td>94310</td>\n",
              "    </tr>\n",
              "    <tr>\n",
              "      <th>경방</th>\n",
              "      <td>000050</td>\n",
              "      <td>8.16</td>\n",
              "      <td>196</td>\n",
              "      <td>14063</td>\n",
              "    </tr>\n",
              "    <tr>\n",
              "      <th>유수홀딩스</th>\n",
              "      <td>000700</td>\n",
              "      <td>57.53</td>\n",
              "      <td>121</td>\n",
              "      <td>5521</td>\n",
              "    </tr>\n",
              "    <tr>\n",
              "      <th>컬러레이</th>\n",
              "      <td>900310</td>\n",
              "      <td>3.38</td>\n",
              "      <td>56</td>\n",
              "      <td>1862</td>\n",
              "    </tr>\n",
              "    <tr>\n",
              "      <th>모트렉스</th>\n",
              "      <td>118990</td>\n",
              "      <td>15.63</td>\n",
              "      <td>174</td>\n",
              "      <td>4562</td>\n",
              "    </tr>\n",
              "    <tr>\n",
              "      <th>데이타솔루션</th>\n",
              "      <td>263800</td>\n",
              "      <td>23.32</td>\n",
              "      <td>29</td>\n",
              "      <td>540</td>\n",
              "    </tr>\n",
              "    <tr>\n",
              "      <th>지니언스</th>\n",
              "      <td>263860</td>\n",
              "      <td>16.19</td>\n",
              "      <td>26</td>\n",
              "      <td>411</td>\n",
              "    </tr>\n",
              "    <tr>\n",
              "      <th>디앤씨미디어</th>\n",
              "      <td>263720</td>\n",
              "      <td>28.93</td>\n",
              "      <td>126</td>\n",
              "      <td>554</td>\n",
              "    </tr>\n",
              "    <tr>\n",
              "      <th>셀트리온헬스케어</th>\n",
              "      <td>091990</td>\n",
              "      <td>94.34</td>\n",
              "      <td>945</td>\n",
              "      <td>31165</td>\n",
              "    </tr>\n",
              "    <tr>\n",
              "      <th>힘스</th>\n",
              "      <td>238490</td>\n",
              "      <td>17.3</td>\n",
              "      <td>180</td>\n",
              "      <td>1035</td>\n",
              "    </tr>\n",
              "    <tr>\n",
              "      <th>브이원텍</th>\n",
              "      <td>251630</td>\n",
              "      <td>26.84</td>\n",
              "      <td>21</td>\n",
              "      <td>880</td>\n",
              "    </tr>\n",
              "    <tr>\n",
              "      <th>이녹스첨단소재</th>\n",
              "      <td>272290</td>\n",
              "      <td>8.34</td>\n",
              "      <td>153</td>\n",
              "      <td>3717</td>\n",
              "    </tr>\n",
              "    <tr>\n",
              "      <th>제일홀딩스</th>\n",
              "      <td>003380</td>\n",
              "      <td>9.22</td>\n",
              "      <td>3476</td>\n",
              "      <td>91314</td>\n",
              "    </tr>\n",
              "    <tr>\n",
              "      <th>보라티알</th>\n",
              "      <td>250000</td>\n",
              "      <td>18.36</td>\n",
              "      <td>45</td>\n",
              "      <td>795</td>\n",
              "    </tr>\n",
              "    <tr>\n",
              "      <th>매일유업</th>\n",
              "      <td>267980</td>\n",
              "      <td>5.71</td>\n",
              "      <td>997</td>\n",
              "      <td>6802</td>\n",
              "    </tr>\n",
              "  </tbody>\n",
              "</table>\n",
              "<p>74 rows × 4 columns</p>\n",
              "</div>"
            ],
            "text/plain": [
              "              Code EV/EBITDA      GP        Asset\n",
              "신일산업        002700     45.03      35          895\n",
              "삼양식품        003230      7.53     478         4959\n",
              "NI스틸        008260      6.38      56         2656\n",
              "대동공업        000490      9.17     520         9031\n",
              "오리온홀딩스      001800      4.93    2504        44239\n",
              "깨끗한나라       004540      9.52     384         5557\n",
              "태원물산        001420     46.07      -0          380\n",
              "코오롱         002020      8.72    1680        36034\n",
              "삼성전자        005930       6.6  205185  3.57458e+06\n",
              "대유플러스       000300      4.18     118         4017\n",
              "BYC         001460      6.88     132         6878\n",
              "쌍용양회        003410      9.08     678        33175\n",
              "SPC삼립       005610     11.17     965        11901\n",
              "일양약품        007570     13.06     395         4405\n",
              "한진          002320     11.13     460        35260\n",
              "한국수출포장공업    002200      2.66     112         3143\n",
              "현대자동차       005380     12.58   42653  1.98851e+06\n",
              "모나미         005360     17.24     114         1834\n",
              "한화케미칼       009830       8.7    4667       166083\n",
              "아세아         002030      5.49     552        28592\n",
              "롯데제과        004990     10.72    5724       155909\n",
              "서울식품공업      004410     20.46      35          798\n",
              "아이에이치큐      003560      6.18     220         1608\n",
              "알보젠코리아      002250     11.12     922         2769\n",
              "하이트진로홀딩스    000140     10.19    2314        41983\n",
              "노루홀딩스       000320       8.5     441        10423\n",
              "기아차         000270      4.34   22557       556865\n",
              "효성          004800     12.41     873        66463\n",
              "CJ          001040      6.62   20706       412164\n",
              "두산          000150      8.73    7077       303894\n",
              "...            ...       ...     ...          ...\n",
              "LG          003550     10.91    6975       226349\n",
              "동아쏘시오홀딩스    000640     10.05     565        13392\n",
              "한국주철관공업     000970     15.87     839         3567\n",
              "한일시멘트       003300      7.04     362        32471\n",
              "엔피씨         004250      2.91     169         4188\n",
              "한국유리공업      002000     10.62     554         7196\n",
              "세아제강        003030      8.83     677        25538\n",
              "대한전선        001440      16.3     264        12061\n",
              "대한제당        001790      9.84     317        11531\n",
              "삼양홀딩스       000070      9.29    1149        37676\n",
              "세기상사        002420    164.33      -1          414\n",
              "한국타이어월드와이드  000240      7.14     573        37226\n",
              "대한항공        003490      7.74    1361       268602\n",
              "동일방직        001530       6.4     526         9920\n",
              "유한양행        000100     45.12     914        22524\n",
              "CJ대한통운      000120      9.44    2217        94310\n",
              "경방          000050      8.16     196        14063\n",
              "유수홀딩스       000700     57.53     121         5521\n",
              "컬러레이        900310      3.38      56         1862\n",
              "모트렉스        118990     15.63     174         4562\n",
              "데이타솔루션      263800     23.32      29          540\n",
              "지니언스        263860     16.19      26          411\n",
              "디앤씨미디어      263720     28.93     126          554\n",
              "셀트리온헬스케어    091990     94.34     945        31165\n",
              "힘스          238490      17.3     180         1035\n",
              "브이원텍        251630     26.84      21          880\n",
              "이녹스첨단소재     272290      8.34     153         3717\n",
              "제일홀딩스       003380      9.22    3476        91314\n",
              "보라티알        250000     18.36      45          795\n",
              "매일유업        267980      5.71     997         6802\n",
              "\n",
              "[74 rows x 4 columns]"
            ]
          },
          "execution_count": 26,
          "metadata": {},
          "output_type": "execute_result"
        }
      ]
    },
    {
      "cell_type": "markdown",
      "metadata": {
        "id": "YDQcodNczXIr"
      },
      "source": [
        "필터링을 위해 필요한 ```GP/A``` 값이 없기 때문에 ```GP```를 ```Asset```으로 나눠 새로운 칼럼을 만듭니다."
      ]
    },
    {
      "cell_type": "code",
      "metadata": {
        "id": "m7r22cBlzXIr"
      },
      "source": [
        "copy_df['GP/A'] = copy_df['GP'] / copy_df['Asset']"
      ],
      "execution_count": null,
      "outputs": []
    },
    {
      "cell_type": "markdown",
      "metadata": {
        "id": "XX1mCEZKzXIr"
      },
      "source": [
        "우리에게 필요한 값이 모두 세팅됐습니다."
      ]
    },
    {
      "cell_type": "code",
      "metadata": {
        "id": "3V8Scc7bzXIr"
      },
      "source": [
        "copy_df = copy_df[['Code', 'EV/EBITDA', 'GP/A']]"
      ],
      "execution_count": null,
      "outputs": []
    },
    {
      "cell_type": "markdown",
      "metadata": {
        "id": "qses3qImzXIr"
      },
      "source": [
        "# Grading Score"
      ]
    },
    {
      "cell_type": "markdown",
      "metadata": {
        "id": "cqNO0_NUzXIr"
      },
      "source": [
        "지수가 좋은 순서대로 상위 30%, 중위 40%, 하위 30%로 나눈 뒤 각각 3점, 2점, 1점의 점수를 매겨보겠습니다. ```EV/EBITDA```와 ```GP/A``` 지표를 기준으로 모든 종목에 점수를 매긴 뒤 합산 점수를 토대로 상위 종목을 필터링 하는 것이 목표입니다.\n",
        "\n",
        "이를 위해 상위, 중위, 하위의 범위를 설정하겠습니다."
      ]
    },
    {
      "cell_type": "code",
      "metadata": {
        "id": "uQUMUwCNzXIr"
      },
      "source": [
        "# 30% / 40% / 30%\n",
        "# 3 / 2 / 1\n",
        "high_range = int(len(copy_df) * 0.3)\n",
        "middle_range = int(len(copy_df) * 0.7)\n"
      ],
      "execution_count": null,
      "outputs": []
    },
    {
      "cell_type": "markdown",
      "metadata": {
        "id": "c1CfNRiJzXIr"
      },
      "source": [
        "```EV/EBITDA```를 기준으로 각 종목별 점수를 매겨보겠습니다.\n",
        "1. ```copy_df```를 ```EV/EBITDA```를 기준으로 ```sort_values``` 함수를 사용해 정렬합니다.\n",
        "```python\n",
        "copy_df.sort_values(by='EV/EBITDA')\n",
        "```\n",
        "2. 상위 30% 종목을 ```slicing```을 사용해 걸러낸 후 ```종목코드```만 도출합니다.\n",
        "```python\n",
        "copy_df.sort_values(by='EV/EBITDA')[:high_range]['Code']\n",
        "```\n",
        "3. ```.isin``` 함수를 사용해 우리가 뽑아낸 상위 30% 종목의 종목코드가 원본 ```copy_df``` 종목코드에 속해있는지 판별합니다.\n",
        "```python\n",
        "copy_df['Code'].isin(copy_df.sort_values(by='EV/EBITDA')[:high_range]['Code'])\n",
        "```\n",
        "4. ```True```로 나온 값들에게만 ```.loc``` 함수를 사용해 ```EV/EBITDA_Score```라는 새로움 칼럼을 만들고서 ```3.0```점을 부여합니다.\n",
        "```python\n",
        "copy_df.loc[copy_df['Code'].isin(copy_df.sort_values(by='EV/EBITDA')[:high_range]['Code']), 'EV/EBITDA_Score']\n",
        "```\n",
        "5. 중위 40%, 하위 30%에도 같은 방법으로 각각 ```2.0```점, ```1.0```점을 부여합니다."
      ]
    },
    {
      "cell_type": "code",
      "metadata": {
        "id": "143jMiwfzXIr",
        "outputId": "10041a37-5044-4155-95de-700fab066ddb"
      },
      "source": [
        "# EV/EBITDA Scoring\n",
        "copy_df.loc[copy_df['Code'].isin(copy_df.sort_values(by='EV/EBITDA')[:high_range]['Code']), 'EV/EBITDA_Score'] = 3.0 \n",
        "copy_df.loc[copy_df['Code'].isin(copy_df.sort_values(by='EV/EBITDA')[high_range:middle_range]['Code']), 'EV/EBITDA_Score'] = 2.0 \n",
        "copy_df.loc[copy_df['Code'].isin(copy_df.sort_values(by='EV/EBITDA')[middle_range:]['Code']), 'EV/EBITDA_Score'] = 1.0"
      ],
      "execution_count": null,
      "outputs": [
        {
          "name": "stderr",
          "output_type": "stream",
          "text": [
            "/anaconda3/lib/python3.6/site-packages/pandas/core/indexing.py:362: SettingWithCopyWarning: \n",
            "A value is trying to be set on a copy of a slice from a DataFrame.\n",
            "Try using .loc[row_indexer,col_indexer] = value instead\n",
            "\n",
            "See the caveats in the documentation: http://pandas.pydata.org/pandas-docs/stable/indexing.html#indexing-view-versus-copy\n",
            "  self.obj[key] = _infer_fill_value(value)\n",
            "/anaconda3/lib/python3.6/site-packages/pandas/core/indexing.py:543: SettingWithCopyWarning: \n",
            "A value is trying to be set on a copy of a slice from a DataFrame.\n",
            "Try using .loc[row_indexer,col_indexer] = value instead\n",
            "\n",
            "See the caveats in the documentation: http://pandas.pydata.org/pandas-docs/stable/indexing.html#indexing-view-versus-copy\n",
            "  self.obj[item] = s\n",
            "/anaconda3/lib/python3.6/site-packages/pandas/core/indexing.py:543: SettingWithCopyWarning: \n",
            "A value is trying to be set on a copy of a slice from a DataFrame.\n",
            "Try using .loc[row_indexer,col_indexer] = value instead\n",
            "\n",
            "See the caveats in the documentation: http://pandas.pydata.org/pandas-docs/stable/indexing.html#indexing-view-versus-copy\n",
            "  self.obj[item] = s\n",
            "/anaconda3/lib/python3.6/site-packages/pandas/core/indexing.py:543: SettingWithCopyWarning: \n",
            "A value is trying to be set on a copy of a slice from a DataFrame.\n",
            "Try using .loc[row_indexer,col_indexer] = value instead\n",
            "\n",
            "See the caveats in the documentation: http://pandas.pydata.org/pandas-docs/stable/indexing.html#indexing-view-versus-copy\n",
            "  self.obj[item] = s\n"
          ]
        }
      ]
    },
    {
      "cell_type": "markdown",
      "metadata": {
        "id": "Vmy6jZR9zXIr"
      },
      "source": [
        "```GP/A```를 기준으로 각 종목별 점수를 매겨보겠습니다.\n",
        "1. ```copy_df```를 ```GP/A```를 기준으로 ```sort_values``` 함수를 사용해 정렬합니다. 다만 이번에는 높은 숫자에서 내림차순으로 정렬합니다.\n",
        "```python\n",
        "copy_df.sort_values(by='GP/A', ascending=False)\n",
        "```\n",
        "2. 상위 30% 종목을 ```slicing```을 사용해 걸러낸 후 ```종목코드```만 도출합니다.\n",
        "```python\n",
        "copy_df.sort_values(by='GP/A', ascending=False)[:high_range]['Code']\n",
        "```\n",
        "3. ```.isin``` 함수를 사용해 우리가 뽑아낸 상위 30% 종목의 종목코드가 원본 ```copy_df``` 종목코드에 속해있는지 판별합니다.\n",
        "```python\n",
        "copy_df['Code'].isin(copy_df.sort_values(by='GP/A', ascending=False)[:high_range]['Code'])\n",
        "```\n",
        "4. ```True```로 나온 값들에게만 ```.loc``` 함수를 사용해 ```GP/A_Score```라는 새로움 칼럼을 만들고서 ```3.0```점을 부여합니다.\n",
        "```python\n",
        "copy_df.loc[copy_df['Code'].isin(copy_df.sort_values(by='GP/A', ascending=False)[:high_range]['Code']), 'GPA_Score']\n",
        "```\n",
        "5. 중위 40%, 하위 30%에도 같은 방법으로 각각 ```2.0```점, ```1.0```점을 부여합니다."
      ]
    },
    {
      "cell_type": "code",
      "metadata": {
        "id": "wxBNpAAWzXIs"
      },
      "source": [
        "# GP/A Scoring\n",
        "copy_df.loc[copy_df['Code'].isin(copy_df.sort_values(by='GP/A', ascending=False)[:high_range]['Code']), 'GPA_Score'] = 3.0\n",
        "copy_df.loc[copy_df['Code'].isin(copy_df.sort_values(by='GP/A', ascending=False)[high_range:middle_range]['Code']), 'GPA_Score'] = 2.0\n",
        "copy_df.loc[copy_df['Code'].isin(copy_df.sort_values(by='GP/A', ascending=False)[middle_range:]['Code']), 'GPA_Score'] = 1.0"
      ],
      "execution_count": null,
      "outputs": []
    },
    {
      "cell_type": "markdown",
      "metadata": {
        "id": "W6d34iFVzXIs"
      },
      "source": [
        "```EV/EBITDA_Score```와 ```GP/A_Score```를 합산한 ```Total_Score``` 값을 만들어냅니다."
      ]
    },
    {
      "cell_type": "code",
      "metadata": {
        "id": "CfGtL0dMzXIs"
      },
      "source": [
        "copy_df['Total_Score'] = copy_df['EV/EBITDA_Score'] + copy_df['GPA_Score']"
      ],
      "execution_count": null,
      "outputs": []
    },
    {
      "cell_type": "markdown",
      "metadata": {
        "id": "YcO9eeG4zXIs"
      },
      "source": [
        "```Total_Score```가 높은 종목부터 내림차순으로 정렬합니다."
      ]
    },
    {
      "cell_type": "code",
      "metadata": {
        "id": "_7ayGO0EzXIs"
      },
      "source": [
        "copy_df = copy_df.sort_values(by='Total_Score', ascending=False)"
      ],
      "execution_count": null,
      "outputs": []
    },
    {
      "cell_type": "markdown",
      "metadata": {
        "id": "JUVdIaW8zXIs"
      },
      "source": [
        "상위 30개 종목만 결과적으로 도출합니다."
      ]
    },
    {
      "cell_type": "code",
      "metadata": {
        "id": "_2J65egzzXIs",
        "outputId": "0bca697f-606d-4b0b-d15a-85989ad0e470"
      },
      "source": [
        "copy_df.head(30)"
      ],
      "execution_count": null,
      "outputs": [
        {
          "data": {
            "text/html": [
              "<div>\n",
              "<style scoped>\n",
              "    .dataframe tbody tr th:only-of-type {\n",
              "        vertical-align: middle;\n",
              "    }\n",
              "\n",
              "    .dataframe tbody tr th {\n",
              "        vertical-align: top;\n",
              "    }\n",
              "\n",
              "    .dataframe thead th {\n",
              "        text-align: right;\n",
              "    }\n",
              "</style>\n",
              "<table border=\"1\" class=\"dataframe\">\n",
              "  <thead>\n",
              "    <tr style=\"text-align: right;\">\n",
              "      <th></th>\n",
              "      <th>Code</th>\n",
              "      <th>EV/EBITDA</th>\n",
              "      <th>GP/A</th>\n",
              "      <th>EV/EBITDA_Score</th>\n",
              "      <th>GPA_Score</th>\n",
              "      <th>Total_Score</th>\n",
              "    </tr>\n",
              "  </thead>\n",
              "  <tbody>\n",
              "    <tr>\n",
              "      <th>매일유업</th>\n",
              "      <td>267980</td>\n",
              "      <td>5.71</td>\n",
              "      <td>0.146575</td>\n",
              "      <td>3.0</td>\n",
              "      <td>3.0</td>\n",
              "      <td>6.0</td>\n",
              "    </tr>\n",
              "    <tr>\n",
              "      <th>대상</th>\n",
              "      <td>001680</td>\n",
              "      <td>5.47</td>\n",
              "      <td>0.077075</td>\n",
              "      <td>3.0</td>\n",
              "      <td>3.0</td>\n",
              "      <td>6.0</td>\n",
              "    </tr>\n",
              "    <tr>\n",
              "      <th>진양산업</th>\n",
              "      <td>003780</td>\n",
              "      <td>4.68</td>\n",
              "      <td>0.0608229</td>\n",
              "      <td>3.0</td>\n",
              "      <td>3.0</td>\n",
              "      <td>6.0</td>\n",
              "    </tr>\n",
              "    <tr>\n",
              "      <th>아이에이치큐</th>\n",
              "      <td>003560</td>\n",
              "      <td>6.18</td>\n",
              "      <td>0.136816</td>\n",
              "      <td>3.0</td>\n",
              "      <td>3.0</td>\n",
              "      <td>6.0</td>\n",
              "    </tr>\n",
              "    <tr>\n",
              "      <th>삼성전자</th>\n",
              "      <td>005930</td>\n",
              "      <td>6.6</td>\n",
              "      <td>0.0574012</td>\n",
              "      <td>3.0</td>\n",
              "      <td>3.0</td>\n",
              "      <td>6.0</td>\n",
              "    </tr>\n",
              "    <tr>\n",
              "      <th>엔피씨</th>\n",
              "      <td>004250</td>\n",
              "      <td>2.91</td>\n",
              "      <td>0.0403534</td>\n",
              "      <td>3.0</td>\n",
              "      <td>2.0</td>\n",
              "      <td>5.0</td>\n",
              "    </tr>\n",
              "    <tr>\n",
              "      <th>한국유리공업</th>\n",
              "      <td>002000</td>\n",
              "      <td>10.62</td>\n",
              "      <td>0.0769872</td>\n",
              "      <td>2.0</td>\n",
              "      <td>3.0</td>\n",
              "      <td>5.0</td>\n",
              "    </tr>\n",
              "    <tr>\n",
              "      <th>대한제분</th>\n",
              "      <td>001130</td>\n",
              "      <td>4.09</td>\n",
              "      <td>0.047384</td>\n",
              "      <td>3.0</td>\n",
              "      <td>2.0</td>\n",
              "      <td>5.0</td>\n",
              "    </tr>\n",
              "    <tr>\n",
              "      <th>동일방직</th>\n",
              "      <td>001530</td>\n",
              "      <td>6.4</td>\n",
              "      <td>0.0530242</td>\n",
              "      <td>3.0</td>\n",
              "      <td>2.0</td>\n",
              "      <td>5.0</td>\n",
              "    </tr>\n",
              "    <tr>\n",
              "      <th>아모레퍼시픽그룹</th>\n",
              "      <td>002790</td>\n",
              "      <td>9.78</td>\n",
              "      <td>0.11617</td>\n",
              "      <td>2.0</td>\n",
              "      <td>3.0</td>\n",
              "      <td>5.0</td>\n",
              "    </tr>\n",
              "    <tr>\n",
              "      <th>삼양식품</th>\n",
              "      <td>003230</td>\n",
              "      <td>7.53</td>\n",
              "      <td>0.0963904</td>\n",
              "      <td>2.0</td>\n",
              "      <td>3.0</td>\n",
              "      <td>5.0</td>\n",
              "    </tr>\n",
              "    <tr>\n",
              "      <th>롯데칠성음료</th>\n",
              "      <td>005300</td>\n",
              "      <td>9.21</td>\n",
              "      <td>0.0610459</td>\n",
              "      <td>2.0</td>\n",
              "      <td>3.0</td>\n",
              "      <td>5.0</td>\n",
              "    </tr>\n",
              "    <tr>\n",
              "      <th>컬러레이</th>\n",
              "      <td>900310</td>\n",
              "      <td>3.38</td>\n",
              "      <td>0.0300752</td>\n",
              "      <td>3.0</td>\n",
              "      <td>2.0</td>\n",
              "      <td>5.0</td>\n",
              "    </tr>\n",
              "    <tr>\n",
              "      <th>대웅</th>\n",
              "      <td>003090</td>\n",
              "      <td>8.14</td>\n",
              "      <td>0.0927835</td>\n",
              "      <td>2.0</td>\n",
              "      <td>3.0</td>\n",
              "      <td>5.0</td>\n",
              "    </tr>\n",
              "    <tr>\n",
              "      <th>CJ</th>\n",
              "      <td>001040</td>\n",
              "      <td>6.62</td>\n",
              "      <td>0.0502373</td>\n",
              "      <td>3.0</td>\n",
              "      <td>2.0</td>\n",
              "      <td>5.0</td>\n",
              "    </tr>\n",
              "    <tr>\n",
              "      <th>기아차</th>\n",
              "      <td>000270</td>\n",
              "      <td>4.34</td>\n",
              "      <td>0.0405071</td>\n",
              "      <td>3.0</td>\n",
              "      <td>2.0</td>\n",
              "      <td>5.0</td>\n",
              "    </tr>\n",
              "    <tr>\n",
              "      <th>알보젠코리아</th>\n",
              "      <td>002250</td>\n",
              "      <td>11.12</td>\n",
              "      <td>0.332972</td>\n",
              "      <td>2.0</td>\n",
              "      <td>3.0</td>\n",
              "      <td>5.0</td>\n",
              "    </tr>\n",
              "    <tr>\n",
              "      <th>롯데푸드</th>\n",
              "      <td>002270</td>\n",
              "      <td>6.5</td>\n",
              "      <td>0.0481536</td>\n",
              "      <td>3.0</td>\n",
              "      <td>2.0</td>\n",
              "      <td>5.0</td>\n",
              "    </tr>\n",
              "    <tr>\n",
              "      <th>대동공업</th>\n",
              "      <td>000490</td>\n",
              "      <td>9.17</td>\n",
              "      <td>0.0575794</td>\n",
              "      <td>2.0</td>\n",
              "      <td>3.0</td>\n",
              "      <td>5.0</td>\n",
              "    </tr>\n",
              "    <tr>\n",
              "      <th>한국수출포장공업</th>\n",
              "      <td>002200</td>\n",
              "      <td>2.66</td>\n",
              "      <td>0.0356347</td>\n",
              "      <td>3.0</td>\n",
              "      <td>2.0</td>\n",
              "      <td>5.0</td>\n",
              "    </tr>\n",
              "    <tr>\n",
              "      <th>깨끗한나라</th>\n",
              "      <td>004540</td>\n",
              "      <td>9.52</td>\n",
              "      <td>0.069102</td>\n",
              "      <td>2.0</td>\n",
              "      <td>3.0</td>\n",
              "      <td>5.0</td>\n",
              "    </tr>\n",
              "    <tr>\n",
              "      <th>SPC삼립</th>\n",
              "      <td>005610</td>\n",
              "      <td>11.17</td>\n",
              "      <td>0.0810856</td>\n",
              "      <td>2.0</td>\n",
              "      <td>3.0</td>\n",
              "      <td>5.0</td>\n",
              "    </tr>\n",
              "    <tr>\n",
              "      <th>오리온홀딩스</th>\n",
              "      <td>001800</td>\n",
              "      <td>4.93</td>\n",
              "      <td>0.0566016</td>\n",
              "      <td>3.0</td>\n",
              "      <td>2.0</td>\n",
              "      <td>5.0</td>\n",
              "    </tr>\n",
              "    <tr>\n",
              "      <th>대유플러스</th>\n",
              "      <td>000300</td>\n",
              "      <td>4.18</td>\n",
              "      <td>0.0293752</td>\n",
              "      <td>3.0</td>\n",
              "      <td>2.0</td>\n",
              "      <td>5.0</td>\n",
              "    </tr>\n",
              "    <tr>\n",
              "      <th>디앤씨미디어</th>\n",
              "      <td>263720</td>\n",
              "      <td>28.93</td>\n",
              "      <td>0.227437</td>\n",
              "      <td>1.0</td>\n",
              "      <td>3.0</td>\n",
              "      <td>4.0</td>\n",
              "    </tr>\n",
              "    <tr>\n",
              "      <th>지니언스</th>\n",
              "      <td>263860</td>\n",
              "      <td>16.19</td>\n",
              "      <td>0.0632603</td>\n",
              "      <td>1.0</td>\n",
              "      <td>3.0</td>\n",
              "      <td>4.0</td>\n",
              "    </tr>\n",
              "    <tr>\n",
              "      <th>힘스</th>\n",
              "      <td>238490</td>\n",
              "      <td>17.3</td>\n",
              "      <td>0.173913</td>\n",
              "      <td>1.0</td>\n",
              "      <td>3.0</td>\n",
              "      <td>4.0</td>\n",
              "    </tr>\n",
              "    <tr>\n",
              "      <th>NI스틸</th>\n",
              "      <td>008260</td>\n",
              "      <td>6.38</td>\n",
              "      <td>0.0210843</td>\n",
              "      <td>3.0</td>\n",
              "      <td>1.0</td>\n",
              "      <td>4.0</td>\n",
              "    </tr>\n",
              "    <tr>\n",
              "      <th>코오롱</th>\n",
              "      <td>002020</td>\n",
              "      <td>8.72</td>\n",
              "      <td>0.0466226</td>\n",
              "      <td>2.0</td>\n",
              "      <td>2.0</td>\n",
              "      <td>4.0</td>\n",
              "    </tr>\n",
              "    <tr>\n",
              "      <th>한국타이어월드와이드</th>\n",
              "      <td>000240</td>\n",
              "      <td>7.14</td>\n",
              "      <td>0.0153925</td>\n",
              "      <td>3.0</td>\n",
              "      <td>1.0</td>\n",
              "      <td>4.0</td>\n",
              "    </tr>\n",
              "  </tbody>\n",
              "</table>\n",
              "</div>"
            ],
            "text/plain": [
              "              Code EV/EBITDA       GP/A  EV/EBITDA_Score  GPA_Score  \\\n",
              "매일유업        267980      5.71   0.146575              3.0        3.0   \n",
              "대상          001680      5.47   0.077075              3.0        3.0   \n",
              "진양산업        003780      4.68  0.0608229              3.0        3.0   \n",
              "아이에이치큐      003560      6.18   0.136816              3.0        3.0   \n",
              "삼성전자        005930       6.6  0.0574012              3.0        3.0   \n",
              "엔피씨         004250      2.91  0.0403534              3.0        2.0   \n",
              "한국유리공업      002000     10.62  0.0769872              2.0        3.0   \n",
              "대한제분        001130      4.09   0.047384              3.0        2.0   \n",
              "동일방직        001530       6.4  0.0530242              3.0        2.0   \n",
              "아모레퍼시픽그룹    002790      9.78    0.11617              2.0        3.0   \n",
              "삼양식품        003230      7.53  0.0963904              2.0        3.0   \n",
              "롯데칠성음료      005300      9.21  0.0610459              2.0        3.0   \n",
              "컬러레이        900310      3.38  0.0300752              3.0        2.0   \n",
              "대웅          003090      8.14  0.0927835              2.0        3.0   \n",
              "CJ          001040      6.62  0.0502373              3.0        2.0   \n",
              "기아차         000270      4.34  0.0405071              3.0        2.0   \n",
              "알보젠코리아      002250     11.12   0.332972              2.0        3.0   \n",
              "롯데푸드        002270       6.5  0.0481536              3.0        2.0   \n",
              "대동공업        000490      9.17  0.0575794              2.0        3.0   \n",
              "한국수출포장공업    002200      2.66  0.0356347              3.0        2.0   \n",
              "깨끗한나라       004540      9.52   0.069102              2.0        3.0   \n",
              "SPC삼립       005610     11.17  0.0810856              2.0        3.0   \n",
              "오리온홀딩스      001800      4.93  0.0566016              3.0        2.0   \n",
              "대유플러스       000300      4.18  0.0293752              3.0        2.0   \n",
              "디앤씨미디어      263720     28.93   0.227437              1.0        3.0   \n",
              "지니언스        263860     16.19  0.0632603              1.0        3.0   \n",
              "힘스          238490      17.3   0.173913              1.0        3.0   \n",
              "NI스틸        008260      6.38  0.0210843              3.0        1.0   \n",
              "코오롱         002020      8.72  0.0466226              2.0        2.0   \n",
              "한국타이어월드와이드  000240      7.14  0.0153925              3.0        1.0   \n",
              "\n",
              "            Total_Score  \n",
              "매일유업                6.0  \n",
              "대상                  6.0  \n",
              "진양산업                6.0  \n",
              "아이에이치큐              6.0  \n",
              "삼성전자                6.0  \n",
              "엔피씨                 5.0  \n",
              "한국유리공업              5.0  \n",
              "대한제분                5.0  \n",
              "동일방직                5.0  \n",
              "아모레퍼시픽그룹            5.0  \n",
              "삼양식품                5.0  \n",
              "롯데칠성음료              5.0  \n",
              "컬러레이                5.0  \n",
              "대웅                  5.0  \n",
              "CJ                  5.0  \n",
              "기아차                 5.0  \n",
              "알보젠코리아              5.0  \n",
              "롯데푸드                5.0  \n",
              "대동공업                5.0  \n",
              "한국수출포장공업            5.0  \n",
              "깨끗한나라               5.0  \n",
              "SPC삼립               5.0  \n",
              "오리온홀딩스              5.0  \n",
              "대유플러스               5.0  \n",
              "디앤씨미디어              4.0  \n",
              "지니언스                4.0  \n",
              "힘스                  4.0  \n",
              "NI스틸                4.0  \n",
              "코오롱                 4.0  \n",
              "한국타이어월드와이드          4.0  "
            ]
          },
          "execution_count": 34,
          "metadata": {},
          "output_type": "execute_result"
        }
      ]
    },
    {
      "cell_type": "code",
      "metadata": {
        "id": "f4VA40uUzXIs",
        "outputId": "a16c8aac-f3a2-43c3-f8a5-02ab1fb98ab5"
      },
      "source": [
        "copy_df[['Code', 'Total_Score']].head(30)"
      ],
      "execution_count": null,
      "outputs": [
        {
          "data": {
            "text/html": [
              "<div>\n",
              "<style scoped>\n",
              "    .dataframe tbody tr th:only-of-type {\n",
              "        vertical-align: middle;\n",
              "    }\n",
              "\n",
              "    .dataframe tbody tr th {\n",
              "        vertical-align: top;\n",
              "    }\n",
              "\n",
              "    .dataframe thead th {\n",
              "        text-align: right;\n",
              "    }\n",
              "</style>\n",
              "<table border=\"1\" class=\"dataframe\">\n",
              "  <thead>\n",
              "    <tr style=\"text-align: right;\">\n",
              "      <th></th>\n",
              "      <th>Code</th>\n",
              "      <th>Total_Score</th>\n",
              "    </tr>\n",
              "  </thead>\n",
              "  <tbody>\n",
              "    <tr>\n",
              "      <th>매일유업</th>\n",
              "      <td>267980</td>\n",
              "      <td>6.0</td>\n",
              "    </tr>\n",
              "    <tr>\n",
              "      <th>대상</th>\n",
              "      <td>001680</td>\n",
              "      <td>6.0</td>\n",
              "    </tr>\n",
              "    <tr>\n",
              "      <th>진양산업</th>\n",
              "      <td>003780</td>\n",
              "      <td>6.0</td>\n",
              "    </tr>\n",
              "    <tr>\n",
              "      <th>아이에이치큐</th>\n",
              "      <td>003560</td>\n",
              "      <td>6.0</td>\n",
              "    </tr>\n",
              "    <tr>\n",
              "      <th>삼성전자</th>\n",
              "      <td>005930</td>\n",
              "      <td>6.0</td>\n",
              "    </tr>\n",
              "    <tr>\n",
              "      <th>엔피씨</th>\n",
              "      <td>004250</td>\n",
              "      <td>5.0</td>\n",
              "    </tr>\n",
              "    <tr>\n",
              "      <th>한국유리공업</th>\n",
              "      <td>002000</td>\n",
              "      <td>5.0</td>\n",
              "    </tr>\n",
              "    <tr>\n",
              "      <th>대한제분</th>\n",
              "      <td>001130</td>\n",
              "      <td>5.0</td>\n",
              "    </tr>\n",
              "    <tr>\n",
              "      <th>동일방직</th>\n",
              "      <td>001530</td>\n",
              "      <td>5.0</td>\n",
              "    </tr>\n",
              "    <tr>\n",
              "      <th>아모레퍼시픽그룹</th>\n",
              "      <td>002790</td>\n",
              "      <td>5.0</td>\n",
              "    </tr>\n",
              "    <tr>\n",
              "      <th>삼양식품</th>\n",
              "      <td>003230</td>\n",
              "      <td>5.0</td>\n",
              "    </tr>\n",
              "    <tr>\n",
              "      <th>롯데칠성음료</th>\n",
              "      <td>005300</td>\n",
              "      <td>5.0</td>\n",
              "    </tr>\n",
              "    <tr>\n",
              "      <th>컬러레이</th>\n",
              "      <td>900310</td>\n",
              "      <td>5.0</td>\n",
              "    </tr>\n",
              "    <tr>\n",
              "      <th>대웅</th>\n",
              "      <td>003090</td>\n",
              "      <td>5.0</td>\n",
              "    </tr>\n",
              "    <tr>\n",
              "      <th>CJ</th>\n",
              "      <td>001040</td>\n",
              "      <td>5.0</td>\n",
              "    </tr>\n",
              "    <tr>\n",
              "      <th>기아차</th>\n",
              "      <td>000270</td>\n",
              "      <td>5.0</td>\n",
              "    </tr>\n",
              "    <tr>\n",
              "      <th>알보젠코리아</th>\n",
              "      <td>002250</td>\n",
              "      <td>5.0</td>\n",
              "    </tr>\n",
              "    <tr>\n",
              "      <th>롯데푸드</th>\n",
              "      <td>002270</td>\n",
              "      <td>5.0</td>\n",
              "    </tr>\n",
              "    <tr>\n",
              "      <th>대동공업</th>\n",
              "      <td>000490</td>\n",
              "      <td>5.0</td>\n",
              "    </tr>\n",
              "    <tr>\n",
              "      <th>한국수출포장공업</th>\n",
              "      <td>002200</td>\n",
              "      <td>5.0</td>\n",
              "    </tr>\n",
              "    <tr>\n",
              "      <th>깨끗한나라</th>\n",
              "      <td>004540</td>\n",
              "      <td>5.0</td>\n",
              "    </tr>\n",
              "    <tr>\n",
              "      <th>SPC삼립</th>\n",
              "      <td>005610</td>\n",
              "      <td>5.0</td>\n",
              "    </tr>\n",
              "    <tr>\n",
              "      <th>오리온홀딩스</th>\n",
              "      <td>001800</td>\n",
              "      <td>5.0</td>\n",
              "    </tr>\n",
              "    <tr>\n",
              "      <th>대유플러스</th>\n",
              "      <td>000300</td>\n",
              "      <td>5.0</td>\n",
              "    </tr>\n",
              "    <tr>\n",
              "      <th>디앤씨미디어</th>\n",
              "      <td>263720</td>\n",
              "      <td>4.0</td>\n",
              "    </tr>\n",
              "    <tr>\n",
              "      <th>지니언스</th>\n",
              "      <td>263860</td>\n",
              "      <td>4.0</td>\n",
              "    </tr>\n",
              "    <tr>\n",
              "      <th>힘스</th>\n",
              "      <td>238490</td>\n",
              "      <td>4.0</td>\n",
              "    </tr>\n",
              "    <tr>\n",
              "      <th>NI스틸</th>\n",
              "      <td>008260</td>\n",
              "      <td>4.0</td>\n",
              "    </tr>\n",
              "    <tr>\n",
              "      <th>코오롱</th>\n",
              "      <td>002020</td>\n",
              "      <td>4.0</td>\n",
              "    </tr>\n",
              "    <tr>\n",
              "      <th>한국타이어월드와이드</th>\n",
              "      <td>000240</td>\n",
              "      <td>4.0</td>\n",
              "    </tr>\n",
              "  </tbody>\n",
              "</table>\n",
              "</div>"
            ],
            "text/plain": [
              "              Code  Total_Score\n",
              "매일유업        267980          6.0\n",
              "대상          001680          6.0\n",
              "진양산업        003780          6.0\n",
              "아이에이치큐      003560          6.0\n",
              "삼성전자        005930          6.0\n",
              "엔피씨         004250          5.0\n",
              "한국유리공업      002000          5.0\n",
              "대한제분        001130          5.0\n",
              "동일방직        001530          5.0\n",
              "아모레퍼시픽그룹    002790          5.0\n",
              "삼양식품        003230          5.0\n",
              "롯데칠성음료      005300          5.0\n",
              "컬러레이        900310          5.0\n",
              "대웅          003090          5.0\n",
              "CJ          001040          5.0\n",
              "기아차         000270          5.0\n",
              "알보젠코리아      002250          5.0\n",
              "롯데푸드        002270          5.0\n",
              "대동공업        000490          5.0\n",
              "한국수출포장공업    002200          5.0\n",
              "깨끗한나라       004540          5.0\n",
              "SPC삼립       005610          5.0\n",
              "오리온홀딩스      001800          5.0\n",
              "대유플러스       000300          5.0\n",
              "디앤씨미디어      263720          4.0\n",
              "지니언스        263860          4.0\n",
              "힘스          238490          4.0\n",
              "NI스틸        008260          4.0\n",
              "코오롱         002020          4.0\n",
              "한국타이어월드와이드  000240          4.0"
            ]
          },
          "execution_count": 35,
          "metadata": {},
          "output_type": "execute_result"
        }
      ]
    },
    {
      "cell_type": "code",
      "metadata": {
        "id": "Ed5W-jhDzXIt"
      },
      "source": [
        ""
      ],
      "execution_count": null,
      "outputs": []
    }
  ]
}