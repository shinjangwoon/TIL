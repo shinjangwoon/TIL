{
 "cells": [
  {
   "cell_type": "code",
   "execution_count": null,
   "id": "c202e293",
   "metadata": {},
   "outputs": [],
   "source": []
  },
  {
   "cell_type": "code",
   "execution_count": 2,
   "id": "2d135c54",
   "metadata": {},
   "outputs": [
    {
     "name": "stdout",
     "output_type": "stream",
     "text": [
      "입력(콤마로 구분하여 입력하시오):0, 1\n",
      "뉴런 출력: 0\n"
     ]
    }
   ],
   "source": [
    "x1, x2 = eval(input('입력(콤마로 구분하여 입력하시오):'))\n",
    "b = 2\n",
    "out = 1 if x1 + x2 >= b else 0\n",
    "print('뉴런 출력:', out)"
   ]
  },
  {
   "cell_type": "code",
   "execution_count": 3,
   "id": "9955b17e",
   "metadata": {},
   "outputs": [
    {
     "name": "stdout",
     "output_type": "stream",
     "text": [
      "입력(콤마로 구분하여 입력하시오):0, 1\n",
      "뉴런 출력: 0\n"
     ]
    }
   ],
   "source": [
    "x1, x2 = eval(input('입력(콤마로 구분하여 입력하시오):'))\n",
    "b = -0.5\n",
    "w1 = 0.38\n",
    "w2 = 0.42\n",
    "y = x1*w1 + x2*w2 +b\n",
    "out = 1 if y >= 0.0 else 0\n",
    "print('뉴런 출력:', out)"
   ]
  },
  {
   "cell_type": "code",
   "execution_count": 4,
   "id": "d71c2006",
   "metadata": {},
   "outputs": [
    {
     "name": "stdout",
     "output_type": "stream",
     "text": [
      "입력(콤마로 구분하여 입력하시오):1,1\n",
      "뉴런 출력: 1\n"
     ]
    }
   ],
   "source": [
    "import numpy as np\n",
    "#AND\n",
    "x1, x2 = eval(input('입력(콤마로 구분하여 입력하시오):'))\n",
    "X = np.array([x1, x2])\n",
    "b = -0.5\n",
    "w1 = 0.38\n",
    "w2 = 0.42\n",
    "W = np.array([w1, w2]).reshape(-1, 1)\n",
    "\n",
    "y = np.dot(X,W) + b\n",
    "\n",
    "out = 1 if y >= 0.0 else 0\n",
    "\n",
    "print('뉴런 출력:', out)"
   ]
  },
  {
   "cell_type": "code",
   "execution_count": 5,
   "id": "999bb926",
   "metadata": {
    "scrolled": true
   },
   "outputs": [
    {
     "name": "stdout",
     "output_type": "stream",
     "text": [
      "y:\n",
      " [[-0.01]\n",
      " [ 0.38]\n",
      " [ 0.35]\n",
      " [ 0.74]] (4, 1)\n",
      "out:\n",
      " [[0]\n",
      " [1]\n",
      " [1]\n",
      " [1]]\n",
      "out:\n",
      " [[0.]\n",
      " [1.]\n",
      " [1.]\n",
      " [1.]]\n"
     ]
    }
   ],
   "source": [
    "# OR\n",
    "X = np.array([[0,0],\n",
    "             [0,1],\n",
    "             [1,0],\n",
    "             [1,1]])\n",
    "b = -0.01\n",
    "w1 = 0.36\n",
    "w2 = 0.39\n",
    "W = np.array([w1, w2]).reshape(-1, 1)\n",
    "\n",
    "y = np.dot(X,W) + b\n",
    "\n",
    "print(\"y:\\n\", y, y.shape)\n",
    "\n",
    "out = np.zeros((X.shape[0], 1))\n",
    "out = (y>=0.0).astype(int)\n",
    "\n",
    "print('out:\\n', out)\n",
    "\n",
    "out = (y>=0.0).astype(float)\n",
    "print('out:\\n', out)\n"
   ]
  },
  {
   "cell_type": "code",
   "execution_count": 6,
   "id": "c1011ae2",
   "metadata": {},
   "outputs": [
    {
     "name": "stdout",
     "output_type": "stream",
     "text": [
      "y:\n",
      " [[-0.01]\n",
      " [ 0.38]\n",
      " [ 0.35]\n",
      " [ 0.74]] (4, 1)\n",
      "out:\n",
      " [[0]\n",
      " [1]\n",
      " [1]\n",
      " [1]]\n",
      "out:\n",
      " [[0.]\n",
      " [1.]\n",
      " [1.]\n",
      " [1.]]\n",
      "error:\n",
      " [[0.01]\n",
      " [0.62]\n",
      " [0.65]\n",
      " [0.26]]\n",
      "d_w:\n",
      " [[0.91]\n",
      " [0.88]]\n",
      "d_w2:\n",
      " [[0.91]\n",
      " [0.88]]\n"
     ]
    }
   ],
   "source": [
    "X = np.array([[0,0],\n",
    "             [0,1],\n",
    "             [1,0],\n",
    "             [1,1]])\n",
    "t = np.array([0.,1.,1.,1.]).reshape(-1,1) # target\n",
    "b = -0.01\n",
    "w1 = 0.36\n",
    "w2 = 0.39\n",
    "W = np.array([w1, w2]).reshape(-1, 1)\n",
    "\n",
    "y = np.dot(X,W) + b\n",
    "\n",
    "print(\"y:\\n\", y, y.shape)\n",
    "\n",
    "out = np.zeros((X.shape[0], 1))\n",
    "out = (y>=0.0).astype(int)\n",
    "\n",
    "print('out:\\n', out)\n",
    "\n",
    "out = np.zeros((X.shape[0], 1))\n",
    "out = (y>=0.0).astype(float)\n",
    "print('out:\\n', out)\n",
    "\n",
    "e = t-y\n",
    "print(\"error:\\n\", e)\n",
    "\n",
    "d_w = np.zeros_like(W)\n",
    "d_w[0]= e[0][0]*X[0][0] + e[1][0]*X[1][0] + e[2][0]*X[2][0] + e[3][0]*X[3][0]\n",
    "d_w[1]= e[0][0]*X[0][1] + e[1][0]*X[1][1] + e[2][0]*X[2][1] + e[3][0]*X[3][1]\n",
    "\n",
    "print('d_w:\\n',d_w)\n",
    "\n",
    "d_w2 = np.dot(X.T, e)\n",
    "print('d_w2:\\n', d_w2)"
   ]
  },
  {
   "cell_type": "code",
   "execution_count": null,
   "id": "78d33bea",
   "metadata": {},
   "outputs": [],
   "source": [
    "import random\n",
    "\n",
    "def step_f(x):\n",
    "  "
   ]
  },
  {
   "cell_type": "code",
   "execution_count": null,
   "id": "f0a72e9d",
   "metadata": {},
   "outputs": [],
   "source": []
  },
  {
   "cell_type": "code",
   "execution_count": 17,
   "id": "e6d6f856",
   "metadata": {},
   "outputs": [],
   "source": [
    "import numpy as np\n",
    "def stepfunc(x):\n",
    "\n",
    "    return (x>=0.0).astype(float)"
   ]
  },
  {
   "cell_type": "code",
   "execution_count": 9,
   "id": "3465fccb",
   "metadata": {},
   "outputs": [],
   "source": [
    "import random"
   ]
  },
  {
   "cell_type": "code",
   "execution_count": 18,
   "id": "fbb3e397",
   "metadata": {},
   "outputs": [],
   "source": [
    "class Perceptron:\n",
    "    def __init__(self,x,y):\n",
    "        self.input = x\n",
    "        self.w = np.random.rand(self.input.shape[1],1)\n",
    "        self.t = y\n",
    "        self.output = np.zeros_like(self.t)\n",
    "    \n",
    "    def feedforward(self):\n",
    "        self.output = stepfunc(np.dot(self.input, self.w))\n",
    "    \n",
    "    def train(self, eta):\n",
    "        d_w = np.dot(self.input.T, eta*(self.t - self.output))\n",
    "        # update the weights\n",
    "        self.w += d_w"
   ]
  },
  {
   "cell_type": "code",
   "execution_count": 19,
   "id": "ab9a7e9d",
   "metadata": {},
   "outputs": [
    {
     "name": "stdout",
     "output_type": "stream",
     "text": [
      "output:\n",
      " [[0.]\n",
      " [0.]\n",
      " [0.]\n",
      " [1.]]\n",
      "weight:\n",
      " [[ 0.15516439]\n",
      " [ 0.2345094 ]\n",
      " [-0.2535627 ]]\n"
     ]
    }
   ],
   "source": [
    "# 논리-AND를 수행하는 퍼셉트론 ,\n",
    "# the third input is for bias\n",
    "X = np.array([[0,0, 1],\n",
    "              [0,1, 1],\n",
    "              [1,0, 1],\n",
    "              [1,1, 1]])\n",
    "y = np.array([[0],[0],[0],[1]])\n",
    "nn = Perceptron(X, y)\n",
    "\n",
    "for i in range(1500):\n",
    "    nn.feedforward()\n",
    "    nn.train(0.01)\n",
    "    \n",
    "print('output:\\n',nn.output)\n",
    "print('weight:\\n', nn.w)"
   ]
  },
  {
   "cell_type": "code",
   "execution_count": 20,
   "id": "8b5e20d8",
   "metadata": {},
   "outputs": [
    {
     "name": "stdout",
     "output_type": "stream",
     "text": [
      "output:\n",
      " [[0.]\n",
      " [1.]\n",
      " [1.]\n",
      " [1.]]\n",
      "weight:\n",
      " [[ 0.06503023]\n",
      " [ 0.97395538]\n",
      " [-0.00224781]]\n"
     ]
    }
   ],
   "source": [
    "# or 연산\n",
    "X = np.array([[0,0, 1],\n",
    "              [0,1, 1],\n",
    "              [1,0, 1],\n",
    "              [1,1, 1]])\n",
    "y = np.array([[0],[1],[1],[1]])\n",
    "nn = Perceptron(X, y)\n",
    "\n",
    "for i in range(1500):\n",
    "    nn.feedforward()\n",
    "    nn.train(0.01)\n",
    "    \n",
    "print('output:\\n',nn.output)\n",
    "print('weight:\\n', nn.w)"
   ]
  },
  {
   "cell_type": "code",
   "execution_count": 31,
   "id": "ffc2a95d",
   "metadata": {},
   "outputs": [
    {
     "name": "stdout",
     "output_type": "stream",
     "text": [
      "output:\n",
      " [[1.]\n",
      " [1.]\n",
      " [1.]\n",
      " [1.]]\n",
      "weight:\n",
      " [[ 0.00262165]\n",
      " [-0.01075353]\n",
      " [-0.01707063]]\n"
     ]
    }
   ],
   "source": [
    "# Xor\n",
    "X = np.array([[0,0, 1],\n",
    "              [0,1, 1],\n",
    "              [1,0, 1],\n",
    "              [1,1, 1]])\n",
    "y = np.array([[0],[1],[1],[0]])\n",
    "nn = Perceptron(X, y)\n",
    "\n",
    "for i in range(1500):\n",
    "    nn.feedforward()\n",
    "    nn.train(0.01)\n",
    "    \n",
    "print('output:\\n',nn.output)\n",
    "print('weight:\\n', nn.w)"
   ]
  },
  {
   "cell_type": "code",
   "execution_count": 32,
   "id": "9147cf46",
   "metadata": {},
   "outputs": [],
   "source": [
    "def sigmoid(x):\n",
    "    return 1.0/(1+np.exp(-x))\n",
    "\n"
   ]
  },
  {
   "cell_type": "code",
   "execution_count": 33,
   "id": "71cd562f",
   "metadata": {},
   "outputs": [],
   "source": [
    "def sigmoid_derivative(x):\n",
    "    return x * (1.0 - x)"
   ]
  },
  {
   "cell_type": "code",
   "execution_count": 36,
   "id": "35705873",
   "metadata": {},
   "outputs": [],
   "source": [
    "class NeuralNetwork:\n",
    "    def __init__(self, x, y):\n",
    "        self.input = x \n",
    "        self.w1 =  np.random.rand(self.input.shape[1],4)\n",
    "        self.w2 =  np.random.rand(4,1) \n",
    "        self.t =  y\n",
    "        self.output =  np.zeros_like(self.t)\n",
    "        \n",
    "    def feedforward(self):\n",
    "        self.h1 =  sigmoid(np.dot(self.input, self.w1))\n",
    "        self.output =  sigmoid(np.dot(self.h1, self.w2))\n",
    "\n",
    "    def backprop(self):\n",
    "        e1 = (self.t - self.output) * sigmoid_derivative(self.output)\n",
    "        d_w2 = np.dot(self.h1.T, e1)\n",
    "        e2 = np.dot(e1, self.w2.T) * sigmoid_derivative(self.h1)\n",
    "        d_w1 = np.dot(self.input.T, e2)\n",
    "        \n",
    "        self.w1 += d_w1\n",
    "        self.w2 += d_w2"
   ]
  },
  {
   "cell_type": "code",
   "execution_count": 37,
   "id": "0c8de783",
   "metadata": {},
   "outputs": [
    {
     "name": "stdout",
     "output_type": "stream",
     "text": [
      "Output:\n",
      " [[0.0208739 ]\n",
      " [0.95507952]\n",
      " [0.95129649]\n",
      " [0.05722175]]\n",
      "Wgt in_h1:\n",
      " [[-1.40449446  5.52199055  6.44637102  1.69891762]\n",
      " [ 5.83495955  5.04357354 -4.43132946  1.31269382]\n",
      " [-1.11987799 -1.18023493  1.73705393  1.40239687]]\n",
      "Wgt hd_Out:\n",
      " [[-6.85676779]\n",
      " [ 8.43194701]\n",
      " [-6.91844153]\n",
      " [ 2.16737746]]\n"
     ]
    }
   ],
   "source": [
    "# 논리-XOR 연산 MLP\n",
    "X = np.array([[0,0,1],\n",
    "              [0,1,1],\n",
    "              [1,0,1],\n",
    "              [1,1,1]])\n",
    "y = np.array([[0],[1],[1],[0]])\n",
    "nn = NeuralNetwork(X,y)\n",
    "\n",
    "for i in range(1500):\n",
    "    nn.feedforward()\n",
    "    nn.backprop()\n",
    "\n",
    "\n",
    "print(\"Output:\\n\", nn.output)\n",
    "print(\"Wgt in_h1:\\n\",nn.w1)\n",
    "print(\"Wgt hd_Out:\\n\",nn.w2)"
   ]
  },
  {
   "cell_type": "code",
   "execution_count": 38,
   "id": "38b8f469",
   "metadata": {},
   "outputs": [
    {
     "name": "stdout",
     "output_type": "stream",
     "text": [
      "Output:\n",
      " [[0.0274273 ]\n",
      " [0.98654523]\n",
      " [0.98639691]\n",
      " [0.99971257]]\n",
      "Wgt in_h1:\n",
      " [[ 2.44202378  1.66493563 -2.10062341  3.64638702]\n",
      " [ 2.22676172  2.23095461 -2.08541207  3.53502462]\n",
      " [-1.55148982 -1.35917168  1.70356181 -2.10934668]]\n",
      "Wgt hd_Out:\n",
      " [[ 2.3862335 ]\n",
      " [ 1.72065202]\n",
      " [-5.73449594]\n",
      " [ 4.74695637]]\n"
     ]
    }
   ],
   "source": [
    "# 논리-OR 연산 MLP\n",
    "X = np.array([[0,0,1],\n",
    "              [0,1,1],\n",
    "              [1,0,1],\n",
    "              [1,1,1]])\n",
    "y = np.array([[0],[1],[1],[1]])\n",
    "nn = NeuralNetwork(X,y)\n",
    "\n",
    "for i in range(1500):\n",
    "    nn.feedforward()\n",
    "    nn.backprop()\n",
    "\n",
    "\n",
    "print(\"Output:\\n\", nn.output)\n",
    "print(\"Wgt in_h1:\\n\",nn.w1)\n",
    "print(\"Wgt hd_Out:\\n\",nn.w2)"
   ]
  },
  {
   "cell_type": "code",
   "execution_count": 39,
   "id": "241e4161",
   "metadata": {},
   "outputs": [
    {
     "name": "stdout",
     "output_type": "stream",
     "text": [
      "Output:\n",
      " [[2.82508032e-04]\n",
      " [1.83748844e-02]\n",
      " [1.92057066e-02]\n",
      " [9.73201819e-01]]\n",
      "Wgt in_h1:\n",
      " [[ 2.07067352 -2.90040736  1.36540747 -1.36996306]\n",
      " [ 1.01365259 -3.13182779  1.86923323 -1.5008842 ]\n",
      " [-1.65280918  4.23499404 -1.89006426  1.80195029]]\n",
      "Wgt hd_Out:\n",
      " [[ 3.20579687]\n",
      " [-6.99998839]\n",
      " [ 3.35839415]\n",
      " [-2.59581217]]\n"
     ]
    }
   ],
   "source": [
    "# 논리-AND 연산 MLP\n",
    "X = np.array([[0,0,1],\n",
    "              [0,1,1],\n",
    "              [1,0,1],\n",
    "              [1,1,1]])\n",
    "y = np.array([[0],[0],[0],[1]])\n",
    "nn = NeuralNetwork(X,y)\n",
    "\n",
    "for i in range(1500):\n",
    "    nn.feedforward()\n",
    "    nn.backprop()\n",
    "\n",
    "\n",
    "print(\"Output:\\n\", nn.output)\n",
    "print(\"Wgt in_h1:\\n\",nn.w1)\n",
    "print(\"Wgt hd_Out:\\n\",nn.w2)"
   ]
  },
  {
   "cell_type": "code",
   "execution_count": null,
   "id": "db986376",
   "metadata": {},
   "outputs": [],
   "source": []
  }
 ],
 "metadata": {
  "kernelspec": {
   "display_name": "Python 3",
   "language": "python",
   "name": "python3"
  },
  "language_info": {
   "codemirror_mode": {
    "name": "ipython",
    "version": 3
   },
   "file_extension": ".py",
   "mimetype": "text/x-python",
   "name": "python",
   "nbconvert_exporter": "python",
   "pygments_lexer": "ipython3",
   "version": "3.8.8"
  }
 },
 "nbformat": 4,
 "nbformat_minor": 5
}
