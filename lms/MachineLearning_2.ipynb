{
 "cells": [
  {
   "cell_type": "code",
   "execution_count": 1,
   "id": "98bf2661",
   "metadata": {},
   "outputs": [],
   "source": [
    "from sympy import symbols, Derivative"
   ]
  },
  {
   "cell_type": "code",
   "execution_count": 2,
   "id": "499cbc7e",
   "metadata": {},
   "outputs": [],
   "source": [
    "x = symbols('x')\n",
    "fx = 3*x**2 -4*x +1"
   ]
  },
  {
   "cell_type": "code",
   "execution_count": 3,
   "id": "1a950340",
   "metadata": {},
   "outputs": [
    {
     "data": {
      "text/latex": [
       "$\\displaystyle 6 x - 4$"
      ],
      "text/plain": [
       "6*x - 4"
      ]
     },
     "execution_count": 3,
     "metadata": {},
     "output_type": "execute_result"
    }
   ],
   "source": [
    "Derivative(fx, x).doit()"
   ]
  },
  {
   "cell_type": "code",
   "execution_count": 4,
   "id": "8e0b71ed",
   "metadata": {},
   "outputs": [
    {
     "data": {
      "text/latex": [
       "$\\displaystyle 8$"
      ],
      "text/plain": [
       "8"
      ]
     },
     "execution_count": 4,
     "metadata": {},
     "output_type": "execute_result"
    }
   ],
   "source": [
    "d = Derivative(fx, x).doit()\n",
    "d.subs({x:2})"
   ]
  },
  {
   "cell_type": "code",
   "execution_count": 5,
   "id": "650b78f9",
   "metadata": {},
   "outputs": [],
   "source": [
    "w, b, y = symbols('w, b, y')\n",
    "fx = (y - w *x-b)**2"
   ]
  },
  {
   "cell_type": "code",
   "execution_count": 6,
   "id": "b7ff1bda",
   "metadata": {
    "scrolled": true
   },
   "outputs": [
    {
     "data": {
      "text/latex": [
       "$\\displaystyle - 2 x \\left(- b - w x + y\\right)$"
      ],
      "text/plain": [
       "-2*x*(-b - w*x + y)"
      ]
     },
     "execution_count": 6,
     "metadata": {},
     "output_type": "execute_result"
    }
   ],
   "source": [
    "Derivative(fx,w).doit()"
   ]
  },
  {
   "cell_type": "code",
   "execution_count": 7,
   "id": "5222546e",
   "metadata": {},
   "outputs": [
    {
     "data": {
      "text/latex": [
       "$\\displaystyle 2 b + 2 w x - 2 y$"
      ],
      "text/plain": [
       "2*b + 2*w*x - 2*y"
      ]
     },
     "execution_count": 7,
     "metadata": {},
     "output_type": "execute_result"
    }
   ],
   "source": [
    "Derivative(fx, b).doit()"
   ]
  },
  {
   "cell_type": "code",
   "execution_count": 8,
   "id": "24275e4d",
   "metadata": {},
   "outputs": [],
   "source": [
    "del w, b, y, x"
   ]
  },
  {
   "cell_type": "code",
   "execution_count": 9,
   "id": "7640bdd8",
   "metadata": {},
   "outputs": [
    {
     "data": {
      "image/png": "[encoded data removed]",
      "text/plain": [
       "<Figure size 432x288 with 1 Axes>"
      ]
     },
     "metadata": {
      "needs_background": "light"
     },
     "output_type": "display_data"
    }
   ],
   "source": [
    "import matplotlib.pyplot as plt\n",
    "import numpy as np\n",
    "rng = np.random.RandomState(42)\n",
    "x = 10 * rng.rand(50)\n",
    "y = 2*x -1 + rng.randn(50)\n",
    "plt.scatter(x,y)\n",
    "plt.show()"
   ]
  },
  {
   "cell_type": "code",
   "execution_count": 10,
   "id": "43fa3d9a",
   "metadata": {},
   "outputs": [
    {
     "data": {
      "image/png": "[encoded data removed]",
      "text/plain": [
       "<Figure size 360x360 with 1 Axes>"
      ]
     },
     "metadata": {
      "needs_background": "light"
     },
     "output_type": "display_data"
    }
   ],
   "source": [
    "import seaborn as sns\n",
    "import pandas as pd\n",
    "df = pd.DataFrame()\n",
    "df['x'] = pd.Series(x)\n",
    "df['y'] = pd.Series(y)\n",
    "sns.lmplot(x='x', y='y', data=df)\n",
    "plt.show()"
   ]
  },
  {
   "cell_type": "code",
   "execution_count": 11,
   "id": "f7e63e10",
   "metadata": {},
   "outputs": [
    {
     "name": "stdout",
     "output_type": "stream",
     "text": [
      "1.9776566003853098\n"
     ]
    }
   ],
   "source": [
    "Qx = df['x'] - df['x'].mean()\n",
    "Qy = df['y'] - df['y'].mean()\n",
    "w = sum(Qx*Qy) / sum(Qx**2)\n",
    "print(w)"
   ]
  },
  {
   "cell_type": "code",
   "execution_count": 12,
   "id": "74a33590",
   "metadata": {
    "scrolled": true
   },
   "outputs": [
    {
     "name": "stdout",
     "output_type": "stream",
     "text": [
      "-0.9033107255311075\n"
     ]
    }
   ],
   "source": [
    "b = df['y'].mean() - w*df['x'].mean()\n",
    "print(b)"
   ]
  },
  {
   "cell_type": "code",
   "execution_count": 13,
   "id": "16002ccc",
   "metadata": {},
   "outputs": [
    {
     "data": {
      "text/plain": [
       "array([-1.        ,  0.33333333,  1.66666667,  3.        ,  4.33333333,\n",
       "        5.66666667,  7.        ,  8.33333333,  9.66666667, 11.        ])"
      ]
     },
     "execution_count": 13,
     "metadata": {},
     "output_type": "execute_result"
    }
   ],
   "source": [
    "xfit = np.linspace(-1, 11, 10)\n",
    "xfit"
   ]
  },
  {
   "cell_type": "code",
   "execution_count": 14,
   "id": "ee0ebfdb",
   "metadata": {},
   "outputs": [
    {
     "name": "stdout",
     "output_type": "stream",
     "text": [
      "[-2.88096733 -0.24409186  2.39278361  5.02965908  7.66653454 10.30341001\n",
      " 12.94028548 15.57716094 18.21403641 20.85091188]\n"
     ]
    }
   ],
   "source": [
    "yfit = w * xfit + b\n",
    "print(yfit)"
   ]
  },
  {
   "cell_type": "code",
   "execution_count": 15,
   "id": "19332351",
   "metadata": {},
   "outputs": [
    {
     "data": {
      "image/png": "[encoded data removed]",
      "text/plain": [
       "<Figure size 432x288 with 1 Axes>"
      ]
     },
     "metadata": {
      "needs_background": "light"
     },
     "output_type": "display_data"
    }
   ],
   "source": [
    "plt.scatter(x,y)\n",
    "plt.plot(xfit, yfit, c='r', marker='8')\n",
    "plt.show()"
   ]
  },
  {
   "cell_type": "code",
   "execution_count": 16,
   "id": "6a57906a",
   "metadata": {},
   "outputs": [],
   "source": [
    "def numerical_derivative(func, x):\n",
    "    delta = 1E-4\n",
    "    return (func(x+delta) - func(x-delta)) / (2*delta)"
   ]
  },
  {
   "cell_type": "code",
   "execution_count": 17,
   "id": "2a0542d1",
   "metadata": {},
   "outputs": [],
   "source": [
    "def func1(x):\n",
    "    return x**2"
   ]
  },
  {
   "cell_type": "code",
   "execution_count": 18,
   "id": "a37fcb8b",
   "metadata": {},
   "outputs": [
    {
     "data": {
      "text/plain": [
       "4.000000000004"
      ]
     },
     "execution_count": 18,
     "metadata": {},
     "output_type": "execute_result"
    }
   ],
   "source": [
    "numerical_derivative(func1, 2.0)"
   ]
  },
  {
   "cell_type": "code",
   "execution_count": 19,
   "id": "21b5ad57",
   "metadata": {
    "scrolled": true
   },
   "outputs": [
    {
     "name": "stdout",
     "output_type": "stream",
     "text": [
      "0 : 0.0\n",
      "1 : 1.9999999999992246\n",
      "2 : 4.000000000004\n",
      "3 : 6.000000000012662\n",
      "4 : 7.999999999999119\n",
      "5 : 9.999999999976694\n",
      "6 : 11.999999999972033\n",
      "7 : 13.999999999967372\n",
      "8 : 15.999999999927184\n",
      "9 : 17.99999999995805\n",
      "10 : 19.99999999995339\n"
     ]
    }
   ],
   "source": [
    "for i in range(0,11):\n",
    "    print(i, ':', numerical_derivative(func1, float(i)))"
   ]
  },
  {
   "cell_type": "code",
   "execution_count": 20,
   "id": "d449950e",
   "metadata": {},
   "outputs": [],
   "source": [
    "import numpy as np\n",
    "def numerical_derivative(f, x):\n",
    "    delta = 1E-4\n",
    "    grad = np.zeros_like(x)\n",
    "    itr = np.nditer(x, flags=['multi_index'], op_flags=['readwrite'])\n",
    "    \n",
    "    while not itr.finished:\n",
    "        idx = itr.multi_index\n",
    "        \n",
    "        tmp_val = x[idx]\n",
    "        x[idx] = float(tmp_val + delta)\n",
    "        fx1 = f(x)\n",
    "        \n",
    "        x[idx] = float(tmp_val - delta)\n",
    "        fx2 = f(x)\n",
    "        grad[idx] = (fx1-fx2) / (2*delta)\n",
    "        \n",
    "        x[idx] = tmp_val\n",
    "        itr.iternext()\n",
    "        \n",
    "    else:\n",
    "        return grad"
   ]
  },
  {
   "cell_type": "code",
   "execution_count": 21,
   "id": "c81d857b",
   "metadata": {},
   "outputs": [],
   "source": [
    "def MSE(p):\n",
    "    global X, y\n",
    "    y_pred =  X * p[0] + p[1]\n",
    "    return  np.sum((y-y_pred)**2)/len(X)"
   ]
  },
  {
   "cell_type": "code",
   "execution_count": 22,
   "id": "04a5ad3c",
   "metadata": {},
   "outputs": [],
   "source": [
    "X = np.array([-3, -2, -1, 0, 1, 2, 3])\n",
    "y = np.array([-2, -1, 0, 1, 2, 3, 4])"
   ]
  },
  {
   "cell_type": "code",
   "execution_count": 23,
   "id": "84027aab",
   "metadata": {},
   "outputs": [
    {
     "name": "stdout",
     "output_type": "stream",
     "text": [
      "Epochs: 0 \tW: 3.0 \tb: 10.0 \tcost: 97.0\n",
      "Epochs: 1 gradient W: 16.00, gradient b:18.00,  W:2.84, b:9.82, cost: 91.33\n",
      "Epochs: 2 gradient W: 14.72, gradient b:17.64,  W:2.69, b:9.64, cost: 86.17\n",
      "Epochs: 3 gradient W: 13.54, gradient b:17.29,  W:2.56, b:9.47, cost: 81.45\n",
      "Epochs: 4 gradient W: 12.46, gradient b:16.94,  W:2.43, b:9.30, cost: 77.12\n",
      "Epochs: 5 gradient W: 11.46, gradient b:16.60,  W:2.32, b:9.14, cost: 73.13\n",
      "Epochs: 6 gradient W: 10.55, gradient b:16.27,  W:2.21, b:8.97, cost: 69.44\n",
      "Epochs: 7 gradient W: 9.70, gradient b:15.95,  W:2.12, b:8.81, cost: 66.02\n",
      "Epochs: 8 gradient W: 8.93, gradient b:15.63,  W:2.03, b:8.66, cost: 62.84\n",
      "Epochs: 9 gradient W: 8.21, gradient b:15.31,  W:1.94, b:8.50, cost: 59.87\n",
      "Epochs: 100 gradient W: 0.00, gradient b:2.44,  W:1.00, b:2.19, cost: 1.42\n",
      "Epochs: 200 gradient W: 0.00, gradient b:0.32,  W:1.00, b:1.16, cost: 0.03\n",
      "Epochs: 300 gradient W: 0.00, gradient b:0.04,  W:1.00, b:1.02, cost: 0.00\n",
      "Epochs: 400 gradient W: 0.00, gradient b:0.01,  W:1.00, b:1.00, cost: 0.00\n",
      "Epochs: 500 gradient W: 0.00, gradient b:0.00,  W:1.00, b:1.00, cost: 0.00\n",
      "Epochs: 600 gradient W: 0.00, gradient b:0.00,  W:1.00, b:1.00, cost: 0.00\n",
      "Epochs: 700 gradient W: 0.00, gradient b:0.00,  W:1.00, b:1.00, cost: 0.00\n",
      "Epochs: 800 gradient W: 0.00, gradient b:0.00,  W:1.00, b:1.00, cost: 0.00\n",
      "Epochs: 900 gradient W: 0.00, gradient b:0.00,  W:1.00, b:1.00, cost: 0.00\n",
      "Epochs: 1000 gradient W: 0.00, gradient b:0.00,  W:1.00, b:1.00, cost: 0.00\n"
     ]
    }
   ],
   "source": [
    "import random\n",
    "\n",
    "W = float(random.randint(-10,10))\n",
    "b = float(random.randint(-10,10))\n",
    "\n",
    "W_history =  [W]\n",
    "b_history = [b]\n",
    "\n",
    "cost = MSE(np.array([W, b]))\n",
    "print(\"Epochs:\",0,\"\\tW:\",W,\"\\tb:\",b,\"\\tcost:\",cost)\n",
    "\n",
    "rate = 0.01\n",
    "MaxItrs = 1000\n",
    "\n",
    "for epoch in range(1,MaxItrs+1) :   #epoch: 반복 횟수\n",
    "    gradientW, gradientB  =  numerical_derivative(MSE, np.array([W,b]))\n",
    "    newW = W - rate * gradientW \n",
    "    newb = b - rate * gradientB \n",
    "    W_history.append(newW)\n",
    "    b_history.append(newb)\n",
    "    W, b = newW, newb\n",
    "    \n",
    "    cost = MSE(np.array([W, b]))\n",
    "\n",
    "    if len(str(epoch))==1 or epoch %100==0 or epoch==MaxItrs:\n",
    "        print('Epochs:', epoch, \n",
    "              'gradient W: %.2f, gradient b:%.2f, ' %(gradientW, gradientB), \n",
    "              end=' ')\n",
    "        print(\"W:%.2f, b:%.2f, cost: %.2f\" % (W, b, cost), end='') #Print result \n",
    "        input()\n"
   ]
  },
  {
   "cell_type": "code",
   "execution_count": 24,
   "id": "16135939",
   "metadata": {},
   "outputs": [
    {
     "data": {
      "image/png": "[encoded data removed]",
      "text/plain": [
       "<Figure size 432x288 with 1 Axes>"
      ]
     },
     "metadata": {
      "needs_background": "light"
     },
     "output_type": "display_data"
    }
   ],
   "source": [
    "plt.plot(W_history)\n",
    "plt.show()"
   ]
  },
  {
   "cell_type": "code",
   "execution_count": 25,
   "id": "b29786ad",
   "metadata": {},
   "outputs": [
    {
     "data": {
      "image/png": "[encoded data removed]",
      "text/plain": [
       "<Figure size 432x288 with 1 Axes>"
      ]
     },
     "metadata": {
      "needs_background": "light"
     },
     "output_type": "display_data"
    }
   ],
   "source": [
    "plt.plot(b_history, 'r')\n",
    "plt.show()"
   ]
  },
  {
   "cell_type": "code",
   "execution_count": 26,
   "id": "33235e0e",
   "metadata": {},
   "outputs": [],
   "source": [
    "def MSE(W, b):\n",
    "    global X, y\n",
    "    y_pred = X*W + b\n",
    "    return np.sum((y-y_pred)**2)/len(X)"
   ]
  },
  {
   "cell_type": "code",
   "execution_count": 27,
   "id": "4300752b",
   "metadata": {},
   "outputs": [],
   "source": [
    "def g_W(W,b):\n",
    "    global X, y\n",
    "    return np.sum(-2*X*(-W*X -b +y))/len(X)"
   ]
  },
  {
   "cell_type": "code",
   "execution_count": 28,
   "id": "9e4d4a34",
   "metadata": {},
   "outputs": [],
   "source": [
    "def g_b(W,b):\n",
    "    global X, y\n",
    "    return np.sum(2*(W*X +b-y))/len(X)"
   ]
  },
  {
   "cell_type": "code",
   "execution_count": 29,
   "id": "7320abeb",
   "metadata": {},
   "outputs": [],
   "source": [
    "X = np.array([-3, -2, -1, 0, 1, 2, 3])\n",
    "y = np.array([-2, -1, 0, 1, 2, 3, 4])"
   ]
  },
  {
   "cell_type": "code",
   "execution_count": 30,
   "id": "df504c70",
   "metadata": {},
   "outputs": [
    {
     "name": "stdout",
     "output_type": "stream",
     "text": [
      "Epochs: 0 \tW: 4.0 \tb: 7.0 \tcost: 72.0\n",
      "Epochs: 1 gradient W: 24.00, gradient b:12.00,  W:3.76, b:6.88, cost: 65.04\n",
      "\n",
      "Epochs: 2 gradient W: 22.08, gradient b:11.76,  W:3.54, b:6.76, cost: 59.00\n",
      "\n",
      "Epochs: 3 gradient W: 20.31, gradient b:11.52,  W:3.34, b:6.65, cost: 53.72\n",
      "\n",
      "Epochs: 4 gradient W: 18.69, gradient b:11.29,  W:3.15, b:6.53, cost: 49.10\n",
      "\n",
      "Epochs: 5 gradient W: 17.19, gradient b:11.07,  W:2.98, b:6.42, cost: 45.05\n",
      "\n",
      "Epochs: 6 gradient W: 15.82, gradient b:10.85,  W:2.82, b:6.32, cost: 41.49\n",
      "\n",
      "Epochs: 7 gradient W: 14.55, gradient b:10.63,  W:2.67, b:6.21, cost: 38.33\n",
      "\n",
      "Epochs: 8 gradient W: 13.39, gradient b:10.42,  W:2.54, b:6.10, cost: 35.54\n",
      "\n",
      "Epochs: 9 gradient W: 12.32, gradient b:10.21,  W:2.42, b:6.00, cost: 33.05\n",
      "\n",
      "Epochs: 100 gradient W: 0.01, gradient b:1.62,  W:1.00, b:1.80, cost: 0.63\n",
      "\n",
      "Epochs: 200 gradient W: 0.00, gradient b:0.22,  W:1.00, b:1.11, cost: 0.01\n",
      "\n",
      "Epochs: 300 gradient W: 0.00, gradient b:0.03,  W:1.00, b:1.01, cost: 0.00\n",
      "\n",
      "Epochs: 400 gradient W: 0.00, gradient b:0.00,  W:1.00, b:1.00, cost: 0.00\n",
      "\n",
      "Epochs: 500 gradient W: 0.00, gradient b:0.00,  W:1.00, b:1.00, cost: 0.00\n",
      "\n",
      "Epochs: 600 gradient W: 0.00, gradient b:0.00,  W:1.00, b:1.00, cost: 0.00\n",
      "\n",
      "Epochs: 700 gradient W: 0.00, gradient b:0.00,  W:1.00, b:1.00, cost: 0.00\n",
      "\n",
      "Epochs: 800 gradient W: 0.00, gradient b:0.00,  W:1.00, b:1.00, cost: 0.00\n",
      "\n",
      "Epochs: 900 gradient W: 0.00, gradient b:0.00,  W:1.00, b:1.00, cost: 0.00\n",
      "\n",
      "Epochs: 1000 gradient W: 0.00, gradient b:0.00,  W:1.00, b:1.00, cost: 0.00\n",
      "\n"
     ]
    }
   ],
   "source": [
    "import random\n",
    "\n",
    "W = float(random.randint(-10,10))\n",
    "b = float(random.randint(-10,10))\n",
    "\n",
    "W_history =  [W]\n",
    "b_history = [b]\n",
    "\n",
    "cost = MSE(W, b)\n",
    "print(\"Epochs:\",0,\"\\tW:\",W,\"\\tb:\",b,\"\\tcost:\",cost)\n",
    "\n",
    "rate = 0.01\n",
    "MaxItrs = 1000\n",
    "\n",
    "for epoch in range(1,MaxItrs+1) :   #epoch: 반복 횟수\n",
    "    gradientW, gradientB  =  g_W(W,b), g_b(W,b)\n",
    "    newW = W - rate * gradientW \n",
    "    newb = b - rate * gradientB \n",
    "    W_history.append(newW)\n",
    "    b_history.append(newb)\n",
    "    W, b = newW, newb\n",
    "    \n",
    "    cost = MSE(W, b)\n",
    "\n",
    "    if len(str(epoch))==1 or epoch %100==0 or epoch==MaxItrs:\n",
    "        print('Epochs:', epoch, \n",
    "              'gradient W: %.2f, gradient b:%.2f, ' %(gradientW, gradientB), \n",
    "              end=' ')\n",
    "        print(\"W:%.2f, b:%.2f, cost: %.2f\" % (W, b, cost), end='\\n') #Print result \n",
    "        input()\n"
   ]
  },
  {
   "cell_type": "code",
   "execution_count": 31,
   "id": "a541a150",
   "metadata": {},
   "outputs": [
    {
     "data": {
      "image/png": "[encoded data removed]",
      "text/plain": [
       "<Figure size 432x288 with 1 Axes>"
      ]
     },
     "metadata": {
      "needs_background": "light"
     },
     "output_type": "display_data"
    }
   ],
   "source": [
    "iters = np.arange(MaxItrs+1)\n",
    "plt.plot(iters, W_history, 'r', b_history, 'b')\n",
    "plt.show()"
   ]
  },
  {
   "cell_type": "code",
   "execution_count": 32,
   "id": "8c24ae12",
   "metadata": {},
   "outputs": [
    {
     "data": {
      "image/png": "[encoded data removed]",
      "text/plain": [
       "<Figure size 432x288 with 1 Axes>"
      ]
     },
     "metadata": {
      "needs_background": "light"
     },
     "output_type": "display_data"
    }
   ],
   "source": [
    "import matplotlib.pyplot as plt\n",
    "import numpy as np\n",
    "rng = np.random.RandomState(42)\n",
    "x = 10 * rng.rand(50)\n",
    "y = 2*x -1 + rng.randn(50)\n",
    "plt.scatter(x,y)\n",
    "plt.show()"
   ]
  },
  {
   "cell_type": "code",
   "execution_count": 33,
   "id": "d4b6cfef",
   "metadata": {},
   "outputs": [
    {
     "data": {
      "image/png": "[encoded data removed]",
      "text/plain": [
       "<Figure size 360x360 with 1 Axes>"
      ]
     },
     "metadata": {
      "needs_background": "light"
     },
     "output_type": "display_data"
    }
   ],
   "source": [
    "import seaborn as sns\n",
    "import pandas as pd\n",
    "df = pd.DataFrame()\n",
    "df['x'] = pd.Series(x)\n",
    "df['y'] = pd.Series(y)\n",
    "sns.lmplot(x='x', y='y', data=df)\n",
    "plt.show()"
   ]
  },
  {
   "cell_type": "code",
   "execution_count": 34,
   "id": "c10b487b",
   "metadata": {},
   "outputs": [
    {
     "data": {
      "text/plain": [
       "((50,), numpy.ndarray)"
      ]
     },
     "execution_count": 34,
     "metadata": {},
     "output_type": "execute_result"
    }
   ],
   "source": [
    "X = df['x'].values\n",
    "X.shape, type(X)"
   ]
  },
  {
   "cell_type": "code",
   "execution_count": 35,
   "id": "dcd04329",
   "metadata": {},
   "outputs": [
    {
     "data": {
      "text/plain": [
       "((50,), numpy.ndarray)"
      ]
     },
     "execution_count": 35,
     "metadata": {},
     "output_type": "execute_result"
    }
   ],
   "source": [
    "y = df.y.values\n",
    "y.shape, type(y)"
   ]
  },
  {
   "cell_type": "code",
   "execution_count": 36,
   "id": "1e870611",
   "metadata": {},
   "outputs": [],
   "source": [
    "def MSE(p):\n",
    "    global X, y\n",
    "    y_pred =  X * p[0] + p[1]\n",
    "    return  np.sum((y-y_pred)**2)/len(X)"
   ]
  },
  {
   "cell_type": "code",
   "execution_count": 37,
   "id": "31bcae25",
   "metadata": {},
   "outputs": [
    {
     "data": {
      "text/plain": [
       "((50,), numpy.ndarray)"
      ]
     },
     "execution_count": 37,
     "metadata": {},
     "output_type": "execute_result"
    }
   ],
   "source": [
    "x = df['x'].values\n",
    "x.shape, type(x)"
   ]
  },
  {
   "cell_type": "code",
   "execution_count": 38,
   "id": "2fb3891a",
   "metadata": {},
   "outputs": [
    {
     "data": {
      "text/plain": [
       "(50, 1)"
      ]
     },
     "execution_count": 38,
     "metadata": {},
     "output_type": "execute_result"
    }
   ],
   "source": [
    "X = x.reshape(-1, 1)\n",
    "X.shape"
   ]
  },
  {
   "cell_type": "code",
   "execution_count": 39,
   "id": "0b033e22",
   "metadata": {},
   "outputs": [
    {
     "data": {
      "text/plain": [
       "((50,), numpy.ndarray)"
      ]
     },
     "execution_count": 39,
     "metadata": {},
     "output_type": "execute_result"
    }
   ],
   "source": [
    "y = df.y.values\n",
    "y.shape, type(y)"
   ]
  },
  {
   "cell_type": "code",
   "execution_count": 40,
   "id": "9538d5f7",
   "metadata": {},
   "outputs": [],
   "source": [
    "from sklearn.linear_model import LinearRegression\n",
    "\n",
    "model = LinearRegression(copy_X=True, fit_intercept=True,\n",
    "                        normalize=False)"
   ]
  },
  {
   "cell_type": "code",
   "execution_count": 41,
   "id": "0ab874ca",
   "metadata": {},
   "outputs": [
    {
     "data": {
      "text/plain": [
       "LinearRegression()"
      ]
     },
     "execution_count": 41,
     "metadata": {},
     "output_type": "execute_result"
    }
   ],
   "source": [
    "model.fit(X,y)"
   ]
  },
  {
   "cell_type": "code",
   "execution_count": 42,
   "id": "15ec226f",
   "metadata": {},
   "outputs": [
    {
     "data": {
      "text/plain": [
       "(array([1.9776566]), -0.9033107255311146)"
      ]
     },
     "execution_count": 42,
     "metadata": {},
     "output_type": "execute_result"
    }
   ],
   "source": [
    "model.coef_, model.intercept_"
   ]
  },
  {
   "cell_type": "code",
   "execution_count": 43,
   "id": "db6d1586",
   "metadata": {},
   "outputs": [
    {
     "data": {
      "text/plain": [
       "-0.9033107255311146"
      ]
     },
     "execution_count": 43,
     "metadata": {},
     "output_type": "execute_result"
    }
   ],
   "source": [
    "model.intercept_"
   ]
  },
  {
   "cell_type": "code",
   "execution_count": 44,
   "id": "7d2fe441",
   "metadata": {},
   "outputs": [
    {
     "data": {
      "text/plain": [
       "array([-1.        ,  0.33333333,  1.66666667,  3.        ,  4.33333333,\n",
       "        5.66666667,  7.        ,  8.33333333,  9.66666667, 11.        ])"
      ]
     },
     "execution_count": 44,
     "metadata": {},
     "output_type": "execute_result"
    }
   ],
   "source": [
    "xfit = np.linspace(-1, 11, 10)\n",
    "xfit"
   ]
  },
  {
   "cell_type": "code",
   "execution_count": 45,
   "id": "01c58666",
   "metadata": {},
   "outputs": [
    {
     "data": {
      "text/plain": [
       "array([-2.88096733, -0.24409186,  2.39278361,  5.02965908,  7.66653454,\n",
       "       10.30341001, 12.94028548, 15.57716094, 18.21403641, 20.85091188])"
      ]
     },
     "execution_count": 45,
     "metadata": {},
     "output_type": "execute_result"
    }
   ],
   "source": [
    "Xfit = xfit.reshape(-1,1)\n",
    "yfit = model.predict(Xfit)\n",
    "yfit"
   ]
  },
  {
   "cell_type": "code",
   "execution_count": 46,
   "id": "c138dddc",
   "metadata": {},
   "outputs": [
    {
     "data": {
      "image/png": "[encoded data removed]",
      "text/plain": [
       "<Figure size 432x288 with 1 Axes>"
      ]
     },
     "metadata": {
      "needs_background": "light"
     },
     "output_type": "display_data"
    }
   ],
   "source": [
    "plt.scatter(x,y)\n",
    "plt.plot(xfit, yfit, c='r', marker='8')\n",
    "plt.show()"
   ]
  },
  {
   "cell_type": "code",
   "execution_count": 47,
   "id": "74452c5a",
   "metadata": {},
   "outputs": [
    {
     "data": {
      "text/plain": [
       "['DESCR', 'data', 'feature_names', 'filename', 'target']"
      ]
     },
     "execution_count": 47,
     "metadata": {},
     "output_type": "execute_result"
    }
   ],
   "source": [
    "from sklearn import datasets\n",
    "b_house = datasets.load_boston()\n",
    "dir(b_house)"
   ]
  },
  {
   "cell_type": "code",
   "execution_count": 48,
   "id": "af843d53",
   "metadata": {},
   "outputs": [
    {
     "data": {
      "text/plain": [
       "'C:\\\\ProgramData\\\\Anaconda3\\\\lib\\\\site-packages\\\\sklearn\\\\datasets\\\\data\\\\boston_house_prices.csv'"
      ]
     },
     "execution_count": 48,
     "metadata": {},
     "output_type": "execute_result"
    }
   ],
   "source": [
    "b_house.filename"
   ]
  },
  {
   "cell_type": "code",
   "execution_count": 49,
   "id": "4a3e3148",
   "metadata": {},
   "outputs": [],
   "source": [
    "house = pd.read_csv(b_house.filename, header=1)"
   ]
  },
  {
   "cell_type": "code",
   "execution_count": 50,
   "id": "15dc4ac8",
   "metadata": {},
   "outputs": [
    {
     "data": {
      "text/html": [
       "<div>\n",
       "<style scoped>\n",
       "    .dataframe tbody tr th:only-of-type {\n",
       "        vertical-align: middle;\n",
       "    }\n",
       "\n",
       "    .dataframe tbody tr th {\n",
       "        vertical-align: top;\n",
       "    }\n",
       "\n",
       "    .dataframe thead th {\n",
       "        text-align: right;\n",
       "    }\n",
       "</style>\n",
       "<table border=\"1\" class=\"dataframe\">\n",
       "  <thead>\n",
       "    <tr style=\"text-align: right;\">\n",
       "      <th></th>\n",
       "      <th>CRIM</th>\n",
       "      <th>ZN</th>\n",
       "      <th>INDUS</th>\n",
       "      <th>CHAS</th>\n",
       "      <th>NOX</th>\n",
       "      <th>RM</th>\n",
       "      <th>AGE</th>\n",
       "      <th>DIS</th>\n",
       "      <th>RAD</th>\n",
       "      <th>TAX</th>\n",
       "      <th>PTRATIO</th>\n",
       "      <th>B</th>\n",
       "      <th>LSTAT</th>\n",
       "      <th>MEDV</th>\n",
       "    </tr>\n",
       "  </thead>\n",
       "  <tbody>\n",
       "    <tr>\n",
       "      <th>0</th>\n",
       "      <td>0.00632</td>\n",
       "      <td>18.0</td>\n",
       "      <td>2.31</td>\n",
       "      <td>0</td>\n",
       "      <td>0.538</td>\n",
       "      <td>6.575</td>\n",
       "      <td>65.2</td>\n",
       "      <td>4.0900</td>\n",
       "      <td>1</td>\n",
       "      <td>296</td>\n",
       "      <td>15.3</td>\n",
       "      <td>396.90</td>\n",
       "      <td>4.98</td>\n",
       "      <td>24.0</td>\n",
       "    </tr>\n",
       "    <tr>\n",
       "      <th>1</th>\n",
       "      <td>0.02731</td>\n",
       "      <td>0.0</td>\n",
       "      <td>7.07</td>\n",
       "      <td>0</td>\n",
       "      <td>0.469</td>\n",
       "      <td>6.421</td>\n",
       "      <td>78.9</td>\n",
       "      <td>4.9671</td>\n",
       "      <td>2</td>\n",
       "      <td>242</td>\n",
       "      <td>17.8</td>\n",
       "      <td>396.90</td>\n",
       "      <td>9.14</td>\n",
       "      <td>21.6</td>\n",
       "    </tr>\n",
       "    <tr>\n",
       "      <th>2</th>\n",
       "      <td>0.02729</td>\n",
       "      <td>0.0</td>\n",
       "      <td>7.07</td>\n",
       "      <td>0</td>\n",
       "      <td>0.469</td>\n",
       "      <td>7.185</td>\n",
       "      <td>61.1</td>\n",
       "      <td>4.9671</td>\n",
       "      <td>2</td>\n",
       "      <td>242</td>\n",
       "      <td>17.8</td>\n",
       "      <td>392.83</td>\n",
       "      <td>4.03</td>\n",
       "      <td>34.7</td>\n",
       "    </tr>\n",
       "    <tr>\n",
       "      <th>3</th>\n",
       "      <td>0.03237</td>\n",
       "      <td>0.0</td>\n",
       "      <td>2.18</td>\n",
       "      <td>0</td>\n",
       "      <td>0.458</td>\n",
       "      <td>6.998</td>\n",
       "      <td>45.8</td>\n",
       "      <td>6.0622</td>\n",
       "      <td>3</td>\n",
       "      <td>222</td>\n",
       "      <td>18.7</td>\n",
       "      <td>394.63</td>\n",
       "      <td>2.94</td>\n",
       "      <td>33.4</td>\n",
       "    </tr>\n",
       "    <tr>\n",
       "      <th>4</th>\n",
       "      <td>0.06905</td>\n",
       "      <td>0.0</td>\n",
       "      <td>2.18</td>\n",
       "      <td>0</td>\n",
       "      <td>0.458</td>\n",
       "      <td>7.147</td>\n",
       "      <td>54.2</td>\n",
       "      <td>6.0622</td>\n",
       "      <td>3</td>\n",
       "      <td>222</td>\n",
       "      <td>18.7</td>\n",
       "      <td>396.90</td>\n",
       "      <td>5.33</td>\n",
       "      <td>36.2</td>\n",
       "    </tr>\n",
       "  </tbody>\n",
       "</table>\n",
       "</div>"
      ],
      "text/plain": [
       "      CRIM    ZN  INDUS  CHAS    NOX     RM   AGE     DIS  RAD  TAX  PTRATIO  \\\n",
       "0  0.00632  18.0   2.31     0  0.538  6.575  65.2  4.0900    1  296     15.3   \n",
       "1  0.02731   0.0   7.07     0  0.469  6.421  78.9  4.9671    2  242     17.8   \n",
       "2  0.02729   0.0   7.07     0  0.469  7.185  61.1  4.9671    2  242     17.8   \n",
       "3  0.03237   0.0   2.18     0  0.458  6.998  45.8  6.0622    3  222     18.7   \n",
       "4  0.06905   0.0   2.18     0  0.458  7.147  54.2  6.0622    3  222     18.7   \n",
       "\n",
       "        B  LSTAT  MEDV  \n",
       "0  396.90   4.98  24.0  \n",
       "1  396.90   9.14  21.6  \n",
       "2  392.83   4.03  34.7  \n",
       "3  394.63   2.94  33.4  \n",
       "4  396.90   5.33  36.2  "
      ]
     },
     "execution_count": 50,
     "metadata": {},
     "output_type": "execute_result"
    }
   ],
   "source": [
    "house.head()"
   ]
  },
  {
   "cell_type": "code",
   "execution_count": 51,
   "id": "643977b3",
   "metadata": {},
   "outputs": [
    {
     "data": {
      "text/plain": [
       "Index(['CRIM', 'ZN', 'INDUS', 'CHAS', 'NOX', 'RM', 'AGE', 'DIS', 'RAD', 'TAX',\n",
       "       'PTRATIO', 'B', 'LSTAT', 'MEDV'],\n",
       "      dtype='object')"
      ]
     },
     "execution_count": 51,
     "metadata": {},
     "output_type": "execute_result"
    }
   ],
   "source": [
    "house.columns"
   ]
  },
  {
   "cell_type": "code",
   "execution_count": 52,
   "id": "34443c5c",
   "metadata": {},
   "outputs": [],
   "source": [
    "house.columns=['CRIM', 'ZN', 'INDUS', 'CHAS', 'NOX', 'RM', 'AGE', 'DIS', 'RAD', 'TAX',\n",
    "       'PTRATIO', 'B', 'LSTAT', 'Price']\n",
    "      "
   ]
  },
  {
   "cell_type": "code",
   "execution_count": 53,
   "id": "4eae1c4e",
   "metadata": {},
   "outputs": [
    {
     "data": {
      "text/plain": [
       "Index(['CRIM', 'ZN', 'INDUS', 'CHAS', 'NOX', 'RM', 'AGE', 'DIS', 'RAD', 'TAX',\n",
       "       'PTRATIO', 'B', 'LSTAT', 'Price'],\n",
       "      dtype='object')"
      ]
     },
     "execution_count": 53,
     "metadata": {},
     "output_type": "execute_result"
    }
   ],
   "source": [
    "house.columns"
   ]
  },
  {
   "cell_type": "code",
   "execution_count": 54,
   "id": "d1392187",
   "metadata": {},
   "outputs": [],
   "source": [
    "x = house.copy()\n",
    "y = x.pop('Price')"
   ]
  },
  {
   "cell_type": "code",
   "execution_count": 55,
   "id": "edc4822c",
   "metadata": {},
   "outputs": [
    {
     "data": {
      "text/html": [
       "<div>\n",
       "<style scoped>\n",
       "    .dataframe tbody tr th:only-of-type {\n",
       "        vertical-align: middle;\n",
       "    }\n",
       "\n",
       "    .dataframe tbody tr th {\n",
       "        vertical-align: top;\n",
       "    }\n",
       "\n",
       "    .dataframe thead th {\n",
       "        text-align: right;\n",
       "    }\n",
       "</style>\n",
       "<table border=\"1\" class=\"dataframe\">\n",
       "  <thead>\n",
       "    <tr style=\"text-align: right;\">\n",
       "      <th></th>\n",
       "      <th>CRIM</th>\n",
       "      <th>ZN</th>\n",
       "      <th>INDUS</th>\n",
       "      <th>CHAS</th>\n",
       "      <th>NOX</th>\n",
       "      <th>RM</th>\n",
       "      <th>AGE</th>\n",
       "      <th>DIS</th>\n",
       "      <th>RAD</th>\n",
       "      <th>TAX</th>\n",
       "      <th>PTRATIO</th>\n",
       "      <th>B</th>\n",
       "      <th>LSTAT</th>\n",
       "    </tr>\n",
       "  </thead>\n",
       "  <tbody>\n",
       "    <tr>\n",
       "      <th>0</th>\n",
       "      <td>0.00632</td>\n",
       "      <td>18.0</td>\n",
       "      <td>2.31</td>\n",
       "      <td>0</td>\n",
       "      <td>0.538</td>\n",
       "      <td>6.575</td>\n",
       "      <td>65.2</td>\n",
       "      <td>4.0900</td>\n",
       "      <td>1</td>\n",
       "      <td>296</td>\n",
       "      <td>15.3</td>\n",
       "      <td>396.90</td>\n",
       "      <td>4.98</td>\n",
       "    </tr>\n",
       "    <tr>\n",
       "      <th>1</th>\n",
       "      <td>0.02731</td>\n",
       "      <td>0.0</td>\n",
       "      <td>7.07</td>\n",
       "      <td>0</td>\n",
       "      <td>0.469</td>\n",
       "      <td>6.421</td>\n",
       "      <td>78.9</td>\n",
       "      <td>4.9671</td>\n",
       "      <td>2</td>\n",
       "      <td>242</td>\n",
       "      <td>17.8</td>\n",
       "      <td>396.90</td>\n",
       "      <td>9.14</td>\n",
       "    </tr>\n",
       "    <tr>\n",
       "      <th>2</th>\n",
       "      <td>0.02729</td>\n",
       "      <td>0.0</td>\n",
       "      <td>7.07</td>\n",
       "      <td>0</td>\n",
       "      <td>0.469</td>\n",
       "      <td>7.185</td>\n",
       "      <td>61.1</td>\n",
       "      <td>4.9671</td>\n",
       "      <td>2</td>\n",
       "      <td>242</td>\n",
       "      <td>17.8</td>\n",
       "      <td>392.83</td>\n",
       "      <td>4.03</td>\n",
       "    </tr>\n",
       "    <tr>\n",
       "      <th>3</th>\n",
       "      <td>0.03237</td>\n",
       "      <td>0.0</td>\n",
       "      <td>2.18</td>\n",
       "      <td>0</td>\n",
       "      <td>0.458</td>\n",
       "      <td>6.998</td>\n",
       "      <td>45.8</td>\n",
       "      <td>6.0622</td>\n",
       "      <td>3</td>\n",
       "      <td>222</td>\n",
       "      <td>18.7</td>\n",
       "      <td>394.63</td>\n",
       "      <td>2.94</td>\n",
       "    </tr>\n",
       "    <tr>\n",
       "      <th>4</th>\n",
       "      <td>0.06905</td>\n",
       "      <td>0.0</td>\n",
       "      <td>2.18</td>\n",
       "      <td>0</td>\n",
       "      <td>0.458</td>\n",
       "      <td>7.147</td>\n",
       "      <td>54.2</td>\n",
       "      <td>6.0622</td>\n",
       "      <td>3</td>\n",
       "      <td>222</td>\n",
       "      <td>18.7</td>\n",
       "      <td>396.90</td>\n",
       "      <td>5.33</td>\n",
       "    </tr>\n",
       "  </tbody>\n",
       "</table>\n",
       "</div>"
      ],
      "text/plain": [
       "      CRIM    ZN  INDUS  CHAS    NOX     RM   AGE     DIS  RAD  TAX  PTRATIO  \\\n",
       "0  0.00632  18.0   2.31     0  0.538  6.575  65.2  4.0900    1  296     15.3   \n",
       "1  0.02731   0.0   7.07     0  0.469  6.421  78.9  4.9671    2  242     17.8   \n",
       "2  0.02729   0.0   7.07     0  0.469  7.185  61.1  4.9671    2  242     17.8   \n",
       "3  0.03237   0.0   2.18     0  0.458  6.998  45.8  6.0622    3  222     18.7   \n",
       "4  0.06905   0.0   2.18     0  0.458  7.147  54.2  6.0622    3  222     18.7   \n",
       "\n",
       "        B  LSTAT  \n",
       "0  396.90   4.98  \n",
       "1  396.90   9.14  \n",
       "2  392.83   4.03  \n",
       "3  394.63   2.94  \n",
       "4  396.90   5.33  "
      ]
     },
     "execution_count": 55,
     "metadata": {},
     "output_type": "execute_result"
    }
   ],
   "source": [
    "x.head()"
   ]
  },
  {
   "cell_type": "code",
   "execution_count": 56,
   "id": "07505201",
   "metadata": {},
   "outputs": [
    {
     "data": {
      "text/plain": [
       "0    24.0\n",
       "1    21.6\n",
       "2    34.7\n",
       "3    33.4\n",
       "4    36.2\n",
       "Name: Price, dtype: float64"
      ]
     },
     "execution_count": 56,
     "metadata": {},
     "output_type": "execute_result"
    }
   ],
   "source": [
    "y.head()"
   ]
  },
  {
   "cell_type": "code",
   "execution_count": 57,
   "id": "721566ba",
   "metadata": {},
   "outputs": [],
   "source": [
    "from sklearn.linear_model import LinearRegression\n",
    "\n",
    "model = LinearRegression()"
   ]
  },
  {
   "cell_type": "code",
   "execution_count": 59,
   "id": "4fe97e94",
   "metadata": {},
   "outputs": [
    {
     "data": {
      "text/plain": [
       "LinearRegression()"
      ]
     },
     "execution_count": 59,
     "metadata": {},
     "output_type": "execute_result"
    }
   ],
   "source": [
    "model.fit(x,y)"
   ]
  },
  {
   "cell_type": "code",
   "execution_count": 60,
   "id": "23a8f023",
   "metadata": {},
   "outputs": [
    {
     "name": "stdout",
     "output_type": "stream",
     "text": [
      "기울기: [-1.08011358e-01  4.64204584e-02  2.05586264e-02  2.68673382e+00\n",
      " -1.77666112e+01  3.80986521e+00  6.92224640e-04 -1.47556685e+00\n",
      "  3.06049479e-01 -1.23345939e-02 -9.52747232e-01  9.31168327e-03\n",
      " -5.24758378e-01]\n",
      "y절편: 36.459488385089806\n"
     ]
    }
   ],
   "source": [
    "print('기울기:', model.coef_)\n",
    "print('y절편:', model.intercept_)"
   ]
  },
  {
   "cell_type": "code",
   "execution_count": 61,
   "id": "87166ed1",
   "metadata": {},
   "outputs": [],
   "source": [
    "from sklearn.metrics import mean_squared_error\n",
    "\n",
    "prediction = model.predict(x)\n"
   ]
  },
  {
   "cell_type": "code",
   "execution_count": 62,
   "id": "34220fb2",
   "metadata": {},
   "outputs": [
    {
     "name": "stdout",
     "output_type": "stream",
     "text": [
      "score= 0.7406426641094095\n",
      "MSE= 21.894831181729202\n"
     ]
    }
   ],
   "source": [
    "print('score=', model.score(, y))\n",
    "print('MSE=', mean_squared_error(prediction,house['Price']))"
   ]
  },
  {
   "cell_type": "code",
   "execution_count": 63,
   "id": "e60fd954",
   "metadata": {},
   "outputs": [],
   "source": [
    "import numpy as np\n",
    "def sigmoid(z):\n",
    "    return np.exp(z) / (1 + np.exp(z))\n"
   ]
  },
  {
   "cell_type": "code",
   "execution_count": 64,
   "id": "8a5be3fc",
   "metadata": {},
   "outputs": [],
   "source": [
    "def numerical_derivative(f, x):\n",
    "    delta = 1E-4\n",
    "    grad = np.zeros_like(x)\n",
    "    itr = np.nditer(x, flags=['multi_index'], op_flags=['readwrite'])\n",
    "    \n",
    "    while not itr.finished:\n",
    "        idx = itr.multi_index\n",
    "        \n",
    "        tmp_val = x[idx]\n",
    "        x[idx] = float(tmp_val + delta)\n",
    "        fx1 = f(x)\n",
    "        \n",
    "        x[idx] = float(tmp_val - delta)\n",
    "        fx2 = f(x)\n",
    "        grad[idx] = (fx1-fx2) / (2*delta)\n",
    "        \n",
    "        x[idx] = tmp_val\n",
    "        itr.iternext()\n",
    "        \n",
    "    else:\n",
    "        return grad"
   ]
  },
  {
   "cell_type": "code",
   "execution_count": 68,
   "id": "603373e0",
   "metadata": {},
   "outputs": [],
   "source": [
    "def cross_entropy(p):\n",
    "    global X, y\n",
    "    z = X * p[0] + p[1]\n",
    "    y_p = sigmoid(z)\n",
    "    return (-1) * np.sum((y*np.log(y_p))+((1-y)*np.log(1-y_p)))   "
   ]
  },
  {
   "cell_type": "code",
   "execution_count": 69,
   "id": "a3982bf1",
   "metadata": {},
   "outputs": [],
   "source": [
    "X=np.array([10., 9., 3., 2., 1.])\n",
    "y=np.array([1.,  1., 0., 0., 0.])"
   ]
  },
  {
   "cell_type": "code",
   "execution_count": 70,
   "id": "bbda02b3",
   "metadata": {
    "scrolled": true
   },
   "outputs": [
    {
     "name": "stderr",
     "output_type": "stream",
     "text": [
      "<ipython-input-68-34347781a2b1>:5: RuntimeWarning: divide by zero encountered in log\n",
      "  return (-1) * np.sum((y*np.log(y_p))+((1-y)*np.log(1-y_p)))\n",
      "<ipython-input-68-34347781a2b1>:5: RuntimeWarning: invalid value encountered in multiply\n",
      "  return (-1) * np.sum((y*np.log(y_p))+((1-y)*np.log(1-y_p)))\n"
     ]
    },
    {
     "name": "stdout",
     "output_type": "stream",
     "text": [
      "Epochs: 0 \tW: 5.0 \tb: 1.0 \tcost: nan\n",
      "Epochs: 1 gradient W: nan, gradient b:nan,  W:nan, b:nan, cost: nan\n",
      "Epochs: 2 gradient W: nan, gradient b:nan,  W:nan, b:nan, cost: nan\n",
      "Epochs: 3 gradient W: nan, gradient b:nan,  W:nan, b:nan, cost: nan\n",
      "Epochs: 4 gradient W: nan, gradient b:nan,  W:nan, b:nan, cost: nan\n",
      "Epochs: 5 gradient W: nan, gradient b:nan,  W:nan, b:nan, cost: nan\n",
      "Epochs: 6 gradient W: nan, gradient b:nan,  W:nan, b:nan, cost: nan\n",
      "Epochs: 7 gradient W: nan, gradient b:nan,  W:nan, b:nan, cost: nan\n",
      "Epochs: 8 gradient W: nan, gradient b:nan,  W:nan, b:nan, cost: nan\n",
      "Epochs: 9 gradient W: nan, gradient b:nan,  W:nan, b:nan, cost: nan\n",
      "Epochs: 400 gradient W: nan, gradient b:nan,  W:nan, b:nan, cost: nan\n",
      "Epochs: 800 gradient W: nan, gradient b:nan,  W:nan, b:nan, cost: nan\n",
      "Epochs: 1200 gradient W: nan, gradient b:nan,  W:nan, b:nan, cost: nan\n",
      "Epochs: 1600 gradient W: nan, gradient b:nan,  W:nan, b:nan, cost: nan\n",
      "Epochs: 2000 gradient W: nan, gradient b:nan,  W:nan, b:nan, cost: nan\n",
      "Epochs: 2400 gradient W: nan, gradient b:nan,  W:nan, b:nan, cost: nan\n",
      "Epochs: 2800 gradient W: nan, gradient b:nan,  W:nan, b:nan, cost: nan\n",
      "Epochs: 3200 gradient W: nan, gradient b:nan,  W:nan, b:nan, cost: nan\n",
      "Epochs: 3600 gradient W: nan, gradient b:nan,  W:nan, b:nan, cost: nan\n",
      "Epochs: 4000 gradient W: nan, gradient b:nan,  W:nan, b:nan, cost: nan\n",
      "Epochs: 4400 gradient W: nan, gradient b:nan,  W:nan, b:nan, cost: nan\n",
      "Epochs: 4800 gradient W: nan, gradient b:nan,  W:nan, b:nan, cost: nan\n",
      "Epochs: 5200 gradient W: nan, gradient b:nan,  W:nan, b:nan, cost: nan\n",
      "Epochs: 5600 gradient W: nan, gradient b:nan,  W:nan, b:nan, cost: nan\n",
      "Epochs: 6000 gradient W: nan, gradient b:nan,  W:nan, b:nan, cost: nan\n",
      "Epochs: 6400 gradient W: nan, gradient b:nan,  W:nan, b:nan, cost: nan\n",
      "Epochs: 6800 gradient W: nan, gradient b:nan,  W:nan, b:nan, cost: nan\n",
      "Epochs: 7200 gradient W: nan, gradient b:nan,  W:nan, b:nan, cost: nan\n",
      "Epochs: 7600 gradient W: nan, gradient b:nan,  W:nan, b:nan, cost: nan\n",
      "Epochs: 8000 gradient W: nan, gradient b:nan,  W:nan, b:nan, cost: nan\n",
      "Epochs: 8400 gradient W: nan, gradient b:nan,  W:nan, b:nan, cost: nan\n",
      "Epochs: 8800 gradient W: nan, gradient b:nan,  W:nan, b:nan, cost: nan\n",
      "Epochs: 9200 gradient W: nan, gradient b:nan,  W:nan, b:nan, cost: nan\n",
      "Epochs: 9600 gradient W: nan, gradient b:nan,  W:nan, b:nan, cost: nan\n",
      "Epochs: 10000 gradient W: nan, gradient b:nan,  W:nan, b:nan, cost: nan\n",
      "Epochs: 10400 gradient W: nan, gradient b:nan,  W:nan, b:nan, cost: nan\n",
      "Epochs: 10800 gradient W: nan, gradient b:nan,  W:nan, b:nan, cost: nan\n",
      "Epochs: 11200 gradient W: nan, gradient b:nan,  W:nan, b:nan, cost: nan\n",
      "Epochs: 11600 gradient W: nan, gradient b:nan,  W:nan, b:nan, cost: nan\n",
      "Epochs: 12000 gradient W: nan, gradient b:nan,  W:nan, b:nan, cost: nan\n",
      "Epochs: 12400 gradient W: nan, gradient b:nan,  W:nan, b:nan, cost: nan\n",
      "Epochs: 12800 gradient W: nan, gradient b:nan,  W:nan, b:nan, cost: nan\n",
      "Epochs: 13200 gradient W: nan, gradient b:nan,  W:nan, b:nan, cost: nan\n",
      "Epochs: 13600 gradient W: nan, gradient b:nan,  W:nan, b:nan, cost: nan\n",
      "Epochs: 14000 gradient W: nan, gradient b:nan,  W:nan, b:nan, cost: nan\n",
      "Epochs: 14400 gradient W: nan, gradient b:nan,  W:nan, b:nan, cost: nan\n",
      "Epochs: 14800 gradient W: nan, gradient b:nan,  W:nan, b:nan, cost: nan\n",
      "Epochs: 15200 gradient W: nan, gradient b:nan,  W:nan, b:nan, cost: nan\n",
      "Epochs: 15600 gradient W: nan, gradient b:nan,  W:nan, b:nan, cost: nan\n",
      "Epochs: 16000 gradient W: nan, gradient b:nan,  W:nan, b:nan, cost: nan\n",
      "Epochs: 16400 gradient W: nan, gradient b:nan,  W:nan, b:nan, cost: nan\n",
      "Epochs: 16800 gradient W: nan, gradient b:nan,  W:nan, b:nan, cost: nan\n",
      "Epochs: 17200 gradient W: nan, gradient b:nan,  W:nan, b:nan, cost: nan\n",
      "Epochs: 17600 gradient W: nan, gradient b:nan,  W:nan, b:nan, cost: nan\n",
      "Epochs: 18000 gradient W: nan, gradient b:nan,  W:nan, b:nan, cost: nan\n",
      "Epochs: 18400 gradient W: nan, gradient b:nan,  W:nan, b:nan, cost: nan\n",
      "Epochs: 18800 gradient W: nan, gradient b:nan,  W:nan, b:nan, cost: nan\n",
      "Epochs: 19200 gradient W: nan, gradient b:nan,  W:nan, b:nan, cost: nan\n",
      "Epochs: 19600 gradient W: nan, gradient b:nan,  W:nan, b:nan, cost: nan\n",
      "Epochs: 20000 gradient W: nan, gradient b:nan,  W:nan, b:nan, cost: nan\n"
     ]
    }
   ],
   "source": [
    "import random\n",
    "\n",
    "W = float(random.randint(-10,10))\n",
    "b = float(random.randint(-10,10))\n",
    "\n",
    "W_history = [W]\n",
    "b_history = [b]\n",
    "\n",
    "cost = cross_entropy(np.array([W, b]))\n",
    "print(\"Epochs:\",0,\"\\tW:\",W,\"\\tb:\",b,\"\\tcost:\",cost)\n",
    "\n",
    "rate = 0.1\n",
    "MaxItrs = 20000\n",
    "\n",
    "for epoch in range(1,MaxItrs+1) :   #epoch: 반복 횟수\n",
    "    gradientW, gradientB  =  numerical_derivative(cross_entropy, np.array([W, b]))\n",
    "    newW = W - rate * gradientW \n",
    "    newb = b - rate * gradientB \n",
    "    W_history.append(newW)\n",
    "    b_history.append(newb)\n",
    "    W, b = newW, newb\n",
    "    \n",
    "    cost = cross_entropy(np.array([W, b]))\n",
    "\n",
    "    if len(str(epoch))==1 or epoch %400==0 or epoch==MaxItrs:\n",
    "        print('Epochs:', epoch, \n",
    "              'gradient W: %.2f, gradient b:%.2f, ' %(gradientW, gradientB), \n",
    "              end=' ')\n",
    "        print(\"W:%.2f, b:%.2f, cost: %.2f\" % (W, b, cost)) #Print result \n",
    "        "
   ]
  },
  {
   "cell_type": "code",
   "execution_count": null,
   "id": "5104b8f9",
   "metadata": {},
   "outputs": [],
   "source": []
  },
  {
   "cell_type": "code",
   "execution_count": 71,
   "id": "533ac704",
   "metadata": {},
   "outputs": [],
   "source": [
    "def predict(x):\n",
    "    global W,b\n",
    "    z = W*x +b\n",
    "    y_p = sigmoid(z)\n",
    "    if  y_p >= 0.5:\n",
    "        return 1, y_p\n",
    "    else:\n",
    "        return 0, (1-y_p)"
   ]
  },
  {
   "cell_type": "code",
   "execution_count": 72,
   "id": "d029a79a",
   "metadata": {},
   "outputs": [
    {
     "name": "stdout",
     "output_type": "stream",
     "text": [
      "1 : (0, nan)\n",
      "2 : (0, nan)\n",
      "3 : (0, nan)\n",
      "4 : (0, nan)\n",
      "5 : (0, nan)\n",
      "6 : (0, nan)\n",
      "7 : (0, nan)\n",
      "8 : (0, nan)\n",
      "9 : (0, nan)\n",
      "10 : (0, nan)\n"
     ]
    }
   ],
   "source": [
    "for i in range(1,11):\n",
    "    print(i, ':', predict(float(i)))\n",
    "    "
   ]
  },
  {
   "cell_type": "code",
   "execution_count": 74,
   "id": "3ecf5411",
   "metadata": {},
   "outputs": [],
   "source": [
    "x_val = np.linspace(1,10,1000)\n",
    "z = W * x_val + b\n",
    "y_p = sigmoid(z)"
   ]
  },
  {
   "cell_type": "code",
   "execution_count": 75,
   "id": "a0ccd46e",
   "metadata": {},
   "outputs": [],
   "source": [
    "from sklearn.datasets import load_iris\n",
    "iris = load_iris()"
   ]
  },
  {
   "cell_type": "code",
   "execution_count": 77,
   "id": "25a20767",
   "metadata": {},
   "outputs": [
    {
     "data": {
      "text/html": [
       "<div>\n",
       "<style scoped>\n",
       "    .dataframe tbody tr th:only-of-type {\n",
       "        vertical-align: middle;\n",
       "    }\n",
       "\n",
       "    .dataframe tbody tr th {\n",
       "        vertical-align: top;\n",
       "    }\n",
       "\n",
       "    .dataframe thead th {\n",
       "        text-align: right;\n",
       "    }\n",
       "</style>\n",
       "<table border=\"1\" class=\"dataframe\">\n",
       "  <thead>\n",
       "    <tr style=\"text-align: right;\">\n",
       "      <th></th>\n",
       "      <th>sepal length (cm)</th>\n",
       "      <th>sepal width (cm)</th>\n",
       "      <th>petal length (cm)</th>\n",
       "      <th>petal width (cm)</th>\n",
       "    </tr>\n",
       "  </thead>\n",
       "  <tbody>\n",
       "    <tr>\n",
       "      <th>0</th>\n",
       "      <td>5.1</td>\n",
       "      <td>3.5</td>\n",
       "      <td>1.4</td>\n",
       "      <td>0.2</td>\n",
       "    </tr>\n",
       "    <tr>\n",
       "      <th>1</th>\n",
       "      <td>4.9</td>\n",
       "      <td>3.0</td>\n",
       "      <td>1.4</td>\n",
       "      <td>0.2</td>\n",
       "    </tr>\n",
       "    <tr>\n",
       "      <th>2</th>\n",
       "      <td>4.7</td>\n",
       "      <td>3.2</td>\n",
       "      <td>1.3</td>\n",
       "      <td>0.2</td>\n",
       "    </tr>\n",
       "    <tr>\n",
       "      <th>3</th>\n",
       "      <td>4.6</td>\n",
       "      <td>3.1</td>\n",
       "      <td>1.5</td>\n",
       "      <td>0.2</td>\n",
       "    </tr>\n",
       "    <tr>\n",
       "      <th>4</th>\n",
       "      <td>5.0</td>\n",
       "      <td>3.6</td>\n",
       "      <td>1.4</td>\n",
       "      <td>0.2</td>\n",
       "    </tr>\n",
       "  </tbody>\n",
       "</table>\n",
       "</div>"
      ],
      "text/plain": [
       "   sepal length (cm)  sepal width (cm)  petal length (cm)  petal width (cm)\n",
       "0                5.1               3.5                1.4               0.2\n",
       "1                4.9               3.0                1.4               0.2\n",
       "2                4.7               3.2                1.3               0.2\n",
       "3                4.6               3.1                1.5               0.2\n",
       "4                5.0               3.6                1.4               0.2"
      ]
     },
     "execution_count": 77,
     "metadata": {},
     "output_type": "execute_result"
    }
   ],
   "source": [
    "import pandas as pd\n",
    "df= pd.DataFrame(iris.data, columns=iris.feature_names )\n",
    "df.head()"
   ]
  },
  {
   "cell_type": "code",
   "execution_count": 78,
   "id": "33237ccb",
   "metadata": {},
   "outputs": [
    {
     "name": "stdout",
     "output_type": "stream",
     "text": [
      "<class 'pandas.core.frame.DataFrame'>\n",
      "RangeIndex: 150 entries, 0 to 149\n",
      "Data columns (total 5 columns):\n",
      " #   Column             Non-Null Count  Dtype  \n",
      "---  ------             --------------  -----  \n",
      " 0   sepal length (cm)  150 non-null    float64\n",
      " 1   sepal width (cm)   150 non-null    float64\n",
      " 2   petal length (cm)  150 non-null    float64\n",
      " 3   petal width (cm)   150 non-null    float64\n",
      " 4   species            150 non-null    int32  \n",
      "dtypes: float64(4), int32(1)\n",
      "memory usage: 5.4 KB\n"
     ]
    }
   ],
   "source": [
    "df['species'] = pd.Series(iris.target)\n",
    "df.info()"
   ]
  },
  {
   "cell_type": "code",
   "execution_count": 79,
   "id": "fad5f5fb",
   "metadata": {},
   "outputs": [],
   "source": [
    "sl_df = pd.DataFrame()"
   ]
  },
  {
   "cell_type": "code",
   "execution_count": 80,
   "id": "c496779f",
   "metadata": {},
   "outputs": [
    {
     "name": "stdout",
     "output_type": "stream",
     "text": [
      "<class 'pandas.core.frame.DataFrame'>\n",
      "RangeIndex: 150 entries, 0 to 149\n",
      "Data columns (total 2 columns):\n",
      " #   Column        Non-Null Count  Dtype  \n",
      "---  ------        --------------  -----  \n",
      " 0   petal_length  150 non-null    float64\n",
      " 1   species       150 non-null    int32  \n",
      "dtypes: float64(1), int32(1)\n",
      "memory usage: 1.9 KB\n"
     ]
    }
   ],
   "source": [
    "sl_df['petal_length'] = df['petal length (cm)']\n",
    "sl_df['species'] = df['species']\n",
    "sl_df.info()"
   ]
  },
  {
   "cell_type": "code",
   "execution_count": 81,
   "id": "e4f67b0b",
   "metadata": {},
   "outputs": [
    {
     "name": "stdout",
     "output_type": "stream",
     "text": [
      "<class 'pandas.core.frame.DataFrame'>\n",
      "RangeIndex: 100 entries, 0 to 99\n",
      "Data columns (total 2 columns):\n",
      " #   Column        Non-Null Count  Dtype  \n",
      "---  ------        --------------  -----  \n",
      " 0   petal_length  100 non-null    float64\n",
      " 1   species       100 non-null    int32  \n",
      "dtypes: float64(1), int32(1)\n",
      "memory usage: 1.3 KB\n"
     ]
    }
   ],
   "source": [
    "sl_df = sl_df[:100]\n",
    "sl_df.info()"
   ]
  },
  {
   "cell_type": "code",
   "execution_count": 82,
   "id": "518eeedf",
   "metadata": {},
   "outputs": [
    {
     "data": {
      "text/html": [
       "<div>\n",
       "<style scoped>\n",
       "    .dataframe tbody tr th:only-of-type {\n",
       "        vertical-align: middle;\n",
       "    }\n",
       "\n",
       "    .dataframe tbody tr th {\n",
       "        vertical-align: top;\n",
       "    }\n",
       "\n",
       "    .dataframe thead th {\n",
       "        text-align: right;\n",
       "    }\n",
       "</style>\n",
       "<table border=\"1\" class=\"dataframe\">\n",
       "  <thead>\n",
       "    <tr style=\"text-align: right;\">\n",
       "      <th></th>\n",
       "      <th>petal_length</th>\n",
       "      <th>species</th>\n",
       "    </tr>\n",
       "  </thead>\n",
       "  <tbody>\n",
       "    <tr>\n",
       "      <th>count</th>\n",
       "      <td>100.000000</td>\n",
       "      <td>100.000000</td>\n",
       "    </tr>\n",
       "    <tr>\n",
       "      <th>mean</th>\n",
       "      <td>2.861000</td>\n",
       "      <td>0.500000</td>\n",
       "    </tr>\n",
       "    <tr>\n",
       "      <th>std</th>\n",
       "      <td>1.449549</td>\n",
       "      <td>0.502519</td>\n",
       "    </tr>\n",
       "    <tr>\n",
       "      <th>min</th>\n",
       "      <td>1.000000</td>\n",
       "      <td>0.000000</td>\n",
       "    </tr>\n",
       "    <tr>\n",
       "      <th>25%</th>\n",
       "      <td>1.500000</td>\n",
       "      <td>0.000000</td>\n",
       "    </tr>\n",
       "    <tr>\n",
       "      <th>50%</th>\n",
       "      <td>2.450000</td>\n",
       "      <td>0.500000</td>\n",
       "    </tr>\n",
       "    <tr>\n",
       "      <th>75%</th>\n",
       "      <td>4.325000</td>\n",
       "      <td>1.000000</td>\n",
       "    </tr>\n",
       "    <tr>\n",
       "      <th>max</th>\n",
       "      <td>5.100000</td>\n",
       "      <td>1.000000</td>\n",
       "    </tr>\n",
       "  </tbody>\n",
       "</table>\n",
       "</div>"
      ],
      "text/plain": [
       "       petal_length     species\n",
       "count    100.000000  100.000000\n",
       "mean       2.861000    0.500000\n",
       "std        1.449549    0.502519\n",
       "min        1.000000    0.000000\n",
       "25%        1.500000    0.000000\n",
       "50%        2.450000    0.500000\n",
       "75%        4.325000    1.000000\n",
       "max        5.100000    1.000000"
      ]
     },
     "execution_count": 82,
     "metadata": {},
     "output_type": "execute_result"
    }
   ],
   "source": [
    "sl_df.describe()"
   ]
  },
  {
   "cell_type": "code",
   "execution_count": 83,
   "id": "a306f94e",
   "metadata": {},
   "outputs": [
    {
     "name": "stderr",
     "output_type": "stream",
     "text": [
      "C:\\ProgramData\\Anaconda3\\lib\\site-packages\\seaborn\\distributions.py:306: UserWarning: Dataset has 0 variance; skipping density estimate.\n",
      "  warnings.warn(msg, UserWarning)\n",
      "C:\\ProgramData\\Anaconda3\\lib\\site-packages\\seaborn\\distributions.py:306: UserWarning: Dataset has 0 variance; skipping density estimate.\n",
      "  warnings.warn(msg, UserWarning)\n"
     ]
    },
    {
     "data": {
      "text/plain": [
       "<seaborn.axisgrid.PairGrid at 0x242529760d0>"
      ]
     },
     "execution_count": 83,
     "metadata": {},
     "output_type": "execute_result"
    },
    {
     "data": {
      "image/png": "[encoded data removed]",
      "text/plain": [
       "<Figure size 402x360 with 6 Axes>"
      ]
     },
     "metadata": {
      "needs_background": "light"
     },
     "output_type": "display_data"
    }
   ],
   "source": [
    "sns.pairplot(data=sl_df, vars=['petal_length', 'species'], hue='species')"
   ]
  },
  {
   "cell_type": "code",
   "execution_count": 84,
   "id": "b65770aa",
   "metadata": {},
   "outputs": [
    {
     "data": {
      "text/plain": [
       "11    0\n",
       "27    0\n",
       "23    0\n",
       "56    1\n",
       "37    0\n",
       "     ..\n",
       "43    0\n",
       "30    0\n",
       "84    1\n",
       "99    1\n",
       "98    1\n",
       "Name: species, Length: 67, dtype: int32"
      ]
     },
     "execution_count": 84,
     "metadata": {},
     "output_type": "execute_result"
    }
   ],
   "source": [
    "from sklearn.model_selection import train_test_split\n",
    "\n",
    "X_train, X_test, y_train, y_test = train_test_split(sl_df.iloc[:,:1],\n",
    "                                                   sl_df.iloc[:,1],\n",
    "                                                   test_size=0.33)\n",
    "y_train"
   ]
  },
  {
   "cell_type": "code",
   "execution_count": 85,
   "id": "386a2f05",
   "metadata": {},
   "outputs": [],
   "source": [
    "from sklearn.linear_model import LogisticRegression"
   ]
  },
  {
   "cell_type": "code",
   "execution_count": 86,
   "id": "9b9f30a7",
   "metadata": {},
   "outputs": [],
   "source": [
    "lr = LogisticRegression()"
   ]
  },
  {
   "cell_type": "code",
   "execution_count": 87,
   "id": "8fb316e5",
   "metadata": {},
   "outputs": [
    {
     "data": {
      "text/plain": [
       "LogisticRegression()"
      ]
     },
     "execution_count": 87,
     "metadata": {},
     "output_type": "execute_result"
    }
   ],
   "source": [
    "lr.fit(X_train, y_train)"
   ]
  },
  {
   "cell_type": "code",
   "execution_count": 88,
   "id": "84447b4c",
   "metadata": {
    "scrolled": true
   },
   "outputs": [
    {
     "name": "stdout",
     "output_type": "stream",
     "text": [
      "[[2.65099259]] [-7.24952541]\n"
     ]
    }
   ],
   "source": [
    "print(lr.coef_, lr.intercept_)"
   ]
  },
  {
   "cell_type": "code",
   "execution_count": 89,
   "id": "6e164784",
   "metadata": {},
   "outputs": [],
   "source": [
    "X = np.linspace(1,sl_df['petal_length'].max(),1000)\n",
    "val = np.exp(lr.coef_[0][0] * X + lr.intercept_[0])\n",
    "Y = val / (1+val)"
   ]
  },
  {
   "cell_type": "code",
   "execution_count": 90,
   "id": "8de81375",
   "metadata": {},
   "outputs": [
    {
     "data": {
      "image/png": "[encoded data removed]",
      "text/plain": [
       "<Figure size 432x288 with 1 Axes>"
      ]
     },
     "metadata": {
      "needs_background": "light"
     },
     "output_type": "display_data"
    }
   ],
   "source": [
    "plt.scatter(sl_df['petal_length'], sl_df['species'])\n",
    "plt.plot(X, Y, 'r')\n",
    "plt.show()"
   ]
  },
  {
   "cell_type": "code",
   "execution_count": 93,
   "id": "6103c012",
   "metadata": {},
   "outputs": [
    {
     "name": "stdout",
     "output_type": "stream",
     "text": [
      "[[35  0]\n",
      " [ 0 32]]\n"
     ]
    }
   ],
   "source": [
    "from sklearn.metrics import classification_report, confusion_matrix\n",
    "\n",
    "print(confusion_matrix(y_train, lr.predict(X_train)))"
   ]
  },
  {
   "cell_type": "code",
   "execution_count": 92,
   "id": "49e30aa7",
   "metadata": {},
   "outputs": [
    {
     "name": "stdout",
     "output_type": "stream",
     "text": [
      "              precision    recall  f1-score   support\n",
      "\n",
      "           0       1.00      1.00      1.00        35\n",
      "           1       1.00      1.00      1.00        32\n",
      "\n",
      "    accuracy                           1.00        67\n",
      "   macro avg       1.00      1.00      1.00        67\n",
      "weighted avg       1.00      1.00      1.00        67\n",
      "\n"
     ]
    }
   ],
   "source": [
    "print(classification_report(y_train, lr.predict(X_train)))"
   ]
  },
  {
   "cell_type": "code",
   "execution_count": 94,
   "id": "04c9fa2c",
   "metadata": {},
   "outputs": [
    {
     "name": "stdout",
     "output_type": "stream",
     "text": [
      "[[15  0]\n",
      " [ 0 18]]\n"
     ]
    }
   ],
   "source": [
    "print(confusion_matrix(y_test, lr.predict(X_test)))"
   ]
  },
  {
   "cell_type": "code",
   "execution_count": 95,
   "id": "129a027c",
   "metadata": {},
   "outputs": [
    {
     "name": "stdout",
     "output_type": "stream",
     "text": [
      "              precision    recall  f1-score   support\n",
      "\n",
      "           0       1.00      1.00      1.00        15\n",
      "           1       1.00      1.00      1.00        18\n",
      "\n",
      "    accuracy                           1.00        33\n",
      "   macro avg       1.00      1.00      1.00        33\n",
      "weighted avg       1.00      1.00      1.00        33\n",
      "\n"
     ]
    }
   ],
   "source": [
    "print(classification_report(y_test, lr.predict(X_test)))"
   ]
  },
  {
   "cell_type": "code",
   "execution_count": null,
   "id": "944490ce",
   "metadata": {},
   "outputs": [],
   "source": []
  }
 ],
 "metadata": {
  "kernelspec": {
   "display_name": "Python 3",
   "language": "python",
   "name": "python3"
  },
  "language_info": {
   "codemirror_mode": {
    "name": "ipython",
    "version": 3
   },
   "file_extension": ".py",
   "mimetype": "text/x-python",
   "name": "python",
   "nbconvert_exporter": "python",
   "pygments_lexer": "ipython3",
   "version": "3.8.8"
  }
 },
 "nbformat": 4,
 "nbformat_minor": 5
}
